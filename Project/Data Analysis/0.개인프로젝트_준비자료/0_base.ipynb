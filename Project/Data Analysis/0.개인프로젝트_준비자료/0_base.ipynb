{
 "cells": [
  {
   "cell_type": "markdown",
   "source": [
    "# 준비\r\n",
    " - 파이썬은 라이브러리 버전에 영향을 많이 받음.\r\n",
    " - python -V == 3.7.10\r\n",
    " - conda create -n dashtest python = 3.7.10\r\n",
    " - conda env list\r\n",
    " - activate dashtest\r\n",
    "> 참고. 제거명령어 conda env remove -n dashtest\r\n",
    "## 대시보드\r\n",
    " - pandas : 데이터 조작 및 분석  pd.\\_\\_version__ == 1.2.4\r\n",
    " - numpy : 행렬이나 배열 처리    np.\\_\\_version__ == 1.19.2\r\n",
    " - plotly : interactive 시각화 .\\_\\_version__ == 4.14.3\r\n",
    " - dash : 웹기반 프레임웤       .\\_\\_version__ == 1.19.0\r\n"
   ],
   "metadata": {}
  },
  {
   "cell_type": "code",
   "execution_count": 1,
   "source": [
    "import pandas as pd \r\n",
    "import numpy as np\r\n",
    "print(pd.__version__)\r\n",
    "print(np.__version__)"
   ],
   "outputs": [
    {
     "output_type": "stream",
     "name": "stdout",
     "text": [
      "1.2.4\n",
      "1.20.1\n"
     ]
    }
   ],
   "metadata": {}
  },
  {
   "cell_type": "markdown",
   "source": [],
   "metadata": {}
  },
  {
   "cell_type": "code",
   "execution_count": null,
   "source": [],
   "outputs": [],
   "metadata": {}
  },
  {
   "cell_type": "code",
   "execution_count": null,
   "source": [],
   "outputs": [],
   "metadata": {}
  }
 ],
 "metadata": {
  "orig_nbformat": 4,
  "language_info": {
   "name": "python",
   "version": "3.9.1",
   "mimetype": "text/x-python",
   "codemirror_mode": {
    "name": "ipython",
    "version": 3
   },
   "pygments_lexer": "ipython3",
   "nbconvert_exporter": "python",
   "file_extension": ".py"
  },
  "kernelspec": {
   "name": "python3",
   "display_name": "Python 3.9.1 64-bit ('base': conda)"
  },
  "interpreter": {
   "hash": "26cbe81f990c700cacc7344ce939feb35388ff5140935024bac84d606131ac1b"
  }
 },
 "nbformat": 4,
 "nbformat_minor": 2
}