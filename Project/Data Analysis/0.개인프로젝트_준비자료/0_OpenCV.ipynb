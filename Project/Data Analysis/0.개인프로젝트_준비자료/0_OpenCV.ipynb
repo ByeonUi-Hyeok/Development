{
 "cells": [
  {
   "cell_type": "code",
   "execution_count": 3,
   "source": [
    "import numpy as np\r\n",
    "import cv2\r\n",
    "\r\n",
    "image = np.zeros((200, 400), np.uint8)\r\n",
    "image[:] = 200\r\n",
    "\r\n",
    "title1, title2 = 'Position1', 'Position2'\r\n",
    "cv2.namedWindow(title1, cv2.WINDOW_AUTOSIZE)\r\n",
    "cv2.namedWindow(title2)\r\n",
    "cv2.moveWindow(title1, 150, 150)\r\n",
    "cv2.moveWindow(title2, 400, 50)\r\n",
    "\r\n",
    "cv2.imshow(title1, image)\r\n",
    "cv2.imshow(title2, image)\r\n",
    "cv2.waitKey(0)\r\n",
    "cv2.destroyAllWindows()\r\n"
   ],
   "outputs": [],
   "metadata": {}
  },
  {
   "cell_type": "code",
   "execution_count": 1,
   "source": [
    "a = 2\r\n",
    "print(a)"
   ],
   "outputs": [
    {
     "output_type": "stream",
     "name": "stdout",
     "text": [
      "2\n"
     ]
    }
   ],
   "metadata": {}
  },
  {
   "cell_type": "code",
   "execution_count": 2,
   "source": [
    "1 * 1"
   ],
   "outputs": [
    {
     "output_type": "execute_result",
     "data": {
      "text/plain": [
       "1"
      ]
     },
     "metadata": {},
     "execution_count": 2
    }
   ],
   "metadata": {}
  },
  {
   "cell_type": "code",
   "execution_count": null,
   "source": [],
   "outputs": [],
   "metadata": {}
  }
 ],
 "metadata": {
  "orig_nbformat": 4,
  "language_info": {
   "name": "python",
   "version": "3.6.6",
   "mimetype": "text/x-python",
   "codemirror_mode": {
    "name": "ipython",
    "version": 3
   },
   "pygments_lexer": "ipython3",
   "nbconvert_exporter": "python",
   "file_extension": ".py"
  },
  "kernelspec": {
   "name": "python3",
   "display_name": "Python 3.6.6 64-bit ('testtt': conda)"
  },
  "interpreter": {
   "hash": "db6d8deeea8238f883bd908ebd10fc91b9b18a30f794fd673345b63bce517f52"
  }
 },
 "nbformat": 4,
 "nbformat_minor": 2
}