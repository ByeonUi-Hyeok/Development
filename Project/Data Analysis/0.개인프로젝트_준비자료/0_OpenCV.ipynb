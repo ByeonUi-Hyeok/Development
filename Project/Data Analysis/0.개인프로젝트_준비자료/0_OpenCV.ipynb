{
 "cells": [
  {
   "cell_type": "code",
   "execution_count": null,
   "source": [
    "import numpy as np\r\n",
    "import cv2\r\n",
    "\r\n",
    "image = np.zeros((200, 400), np.uint8)\r\n",
    "image[:] = 200\r\n",
    "\r\n",
    "title1, title2 = 'Position1', 'Position2'\r\n",
    "cv2.nameWindow"
   ],
   "outputs": [],
   "metadata": {}
  },
  {
   "cell_type": "code",
   "execution_count": null,
   "source": [],
   "outputs": [],
   "metadata": {}
  }
 ],
 "metadata": {
  "orig_nbformat": 4,
  "language_info": {
   "name": "python",
   "version": "3.6.6"
  },
  "kernelspec": {
   "name": "python3",
   "display_name": "Python 3.6.6 64-bit ('testtt': conda)"
  },
  "interpreter": {
   "hash": "db6d8deeea8238f883bd908ebd10fc91b9b18a30f794fd673345b63bce517f52"
  }
 },
 "nbformat": 4,
 "nbformat_minor": 2
}