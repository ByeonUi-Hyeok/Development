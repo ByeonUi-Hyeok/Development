{
 "cells": [
  {
   "cell_type": "code",
   "execution_count": 1,
   "source": [
    "# 기본\r\n",
    "import pandas as pd\r\n",
    "import numpy as np\r\n",
    "import seaborn as sns\r\n",
    "import matplotlib as mpl\r\n",
    "import matplotlib.pyplot as plt\r\n",
    "\r\n",
    "mpl.rc('font', family='Malgun Gothic')"
   ],
   "outputs": [],
   "metadata": {}
  },
  {
   "cell_type": "code",
   "execution_count": 2,
   "source": [
    "from bokeh.io import output_notebook, show, save # bokeh 패키지의 io == input output 기능 /show 역시 보여주는 기능\r\n",
    "from bokeh.plotting import figure # bokeh 패키지의 직접 그려주는 기능 / figure이 그림을 그려줌\r\n",
    "output_notebook() # 쥬피터 노트북에서 바로바로 보여줄수 있게 하는 기능\r\n",
    "import webbrowser\r\n",
    "pd.set_option('display.max_rows', None)"
   ],
   "outputs": [
    {
     "output_type": "display_data",
     "data": {
      "text/html": [
       "\n",
       "    <div class=\"bk-root\">\n",
       "        <a href=\"https://bokeh.org\" target=\"_blank\" class=\"bk-logo bk-logo-small bk-logo-notebook\"></a>\n",
       "        <span id=\"1002\">Loading BokehJS ...</span>\n",
       "    </div>"
      ]
     },
     "metadata": {}
    },
    {
     "output_type": "display_data",
     "data": {
      "application/vnd.bokehjs_load.v0+json": "",
      "application/javascript": "\n(function(root) {\n  function now() {\n    return new Date();\n  }\n\n  var force = true;\n\n  if (typeof root._bokeh_onload_callbacks === \"undefined\" || force === true) {\n    root._bokeh_onload_callbacks = [];\n    root._bokeh_is_loading = undefined;\n  }\n\n  var JS_MIME_TYPE = 'application/javascript';\n  var HTML_MIME_TYPE = 'text/html';\n  var EXEC_MIME_TYPE = 'application/vnd.bokehjs_exec.v0+json';\n  var CLASS_NAME = 'output_bokeh rendered_html';\n\n  /**\n   * Render data to the DOM node\n   */\n  function render(props, node) {\n    var script = document.createElement(\"script\");\n    node.appendChild(script);\n  }\n\n  /**\n   * Handle when an output is cleared or removed\n   */\n  function handleClearOutput(event, handle) {\n    var cell = handle.cell;\n\n    var id = cell.output_area._bokeh_element_id;\n    var server_id = cell.output_area._bokeh_server_id;\n    // Clean up Bokeh references\n    if (id != null && id in Bokeh.index) {\n      Bokeh.index[id].model.document.clear();\n      delete Bokeh.index[id];\n    }\n\n    if (server_id !== undefined) {\n      // Clean up Bokeh references\n      var cmd = \"from bokeh.io.state import curstate; print(curstate().uuid_to_server['\" + server_id + \"'].get_sessions()[0].document.roots[0]._id)\";\n      cell.notebook.kernel.execute(cmd, {\n        iopub: {\n          output: function(msg) {\n            var id = msg.content.text.trim();\n            if (id in Bokeh.index) {\n              Bokeh.index[id].model.document.clear();\n              delete Bokeh.index[id];\n            }\n          }\n        }\n      });\n      // Destroy server and session\n      var cmd = \"import bokeh.io.notebook as ion; ion.destroy_server('\" + server_id + \"')\";\n      cell.notebook.kernel.execute(cmd);\n    }\n  }\n\n  /**\n   * Handle when a new output is added\n   */\n  function handleAddOutput(event, handle) {\n    var output_area = handle.output_area;\n    var output = handle.output;\n\n    // limit handleAddOutput to display_data with EXEC_MIME_TYPE content only\n    if ((output.output_type != \"display_data\") || (!Object.prototype.hasOwnProperty.call(output.data, EXEC_MIME_TYPE))) {\n      return\n    }\n\n    var toinsert = output_area.element.find(\".\" + CLASS_NAME.split(' ')[0]);\n\n    if (output.metadata[EXEC_MIME_TYPE][\"id\"] !== undefined) {\n      toinsert[toinsert.length - 1].firstChild.textContent = output.data[JS_MIME_TYPE];\n      // store reference to embed id on output_area\n      output_area._bokeh_element_id = output.metadata[EXEC_MIME_TYPE][\"id\"];\n    }\n    if (output.metadata[EXEC_MIME_TYPE][\"server_id\"] !== undefined) {\n      var bk_div = document.createElement(\"div\");\n      bk_div.innerHTML = output.data[HTML_MIME_TYPE];\n      var script_attrs = bk_div.children[0].attributes;\n      for (var i = 0; i < script_attrs.length; i++) {\n        toinsert[toinsert.length - 1].firstChild.setAttribute(script_attrs[i].name, script_attrs[i].value);\n        toinsert[toinsert.length - 1].firstChild.textContent = bk_div.children[0].textContent\n      }\n      // store reference to server id on output_area\n      output_area._bokeh_server_id = output.metadata[EXEC_MIME_TYPE][\"server_id\"];\n    }\n  }\n\n  function register_renderer(events, OutputArea) {\n\n    function append_mime(data, metadata, element) {\n      // create a DOM node to render to\n      var toinsert = this.create_output_subarea(\n        metadata,\n        CLASS_NAME,\n        EXEC_MIME_TYPE\n      );\n      this.keyboard_manager.register_events(toinsert);\n      // Render to node\n      var props = {data: data, metadata: metadata[EXEC_MIME_TYPE]};\n      render(props, toinsert[toinsert.length - 1]);\n      element.append(toinsert);\n      return toinsert\n    }\n\n    /* Handle when an output is cleared or removed */\n    events.on('clear_output.CodeCell', handleClearOutput);\n    events.on('delete.Cell', handleClearOutput);\n\n    /* Handle when a new output is added */\n    events.on('output_added.OutputArea', handleAddOutput);\n\n    /**\n     * Register the mime type and append_mime function with output_area\n     */\n    OutputArea.prototype.register_mime_type(EXEC_MIME_TYPE, append_mime, {\n      /* Is output safe? */\n      safe: true,\n      /* Index of renderer in `output_area.display_order` */\n      index: 0\n    });\n  }\n\n  // register the mime type if in Jupyter Notebook environment and previously unregistered\n  if (root.Jupyter !== undefined) {\n    var events = require('base/js/events');\n    var OutputArea = require('notebook/js/outputarea').OutputArea;\n\n    if (OutputArea.prototype.mime_types().indexOf(EXEC_MIME_TYPE) == -1) {\n      register_renderer(events, OutputArea);\n    }\n  }\n\n  \n  if (typeof (root._bokeh_timeout) === \"undefined\" || force === true) {\n    root._bokeh_timeout = Date.now() + 5000;\n    root._bokeh_failed_load = false;\n  }\n\n  var NB_LOAD_WARNING = {'data': {'text/html':\n     \"<div style='background-color: #fdd'>\\n\"+\n     \"<p>\\n\"+\n     \"BokehJS does not appear to have successfully loaded. If loading BokehJS from CDN, this \\n\"+\n     \"may be due to a slow or bad network connection. Possible fixes:\\n\"+\n     \"</p>\\n\"+\n     \"<ul>\\n\"+\n     \"<li>re-rerun `output_notebook()` to attempt to load from CDN again, or</li>\\n\"+\n     \"<li>use INLINE resources instead, as so:</li>\\n\"+\n     \"</ul>\\n\"+\n     \"<code>\\n\"+\n     \"from bokeh.resources import INLINE\\n\"+\n     \"output_notebook(resources=INLINE)\\n\"+\n     \"</code>\\n\"+\n     \"</div>\"}};\n\n  function display_loaded() {\n    var el = document.getElementById(\"1002\");\n    if (el != null) {\n      el.textContent = \"BokehJS is loading...\";\n    }\n    if (root.Bokeh !== undefined) {\n      if (el != null) {\n        el.textContent = \"BokehJS \" + root.Bokeh.version + \" successfully loaded.\";\n      }\n    } else if (Date.now() < root._bokeh_timeout) {\n      setTimeout(display_loaded, 100)\n    }\n  }\n\n\n  function run_callbacks() {\n    try {\n      root._bokeh_onload_callbacks.forEach(function(callback) {\n        if (callback != null)\n          callback();\n      });\n    } finally {\n      delete root._bokeh_onload_callbacks\n    }\n    console.debug(\"Bokeh: all callbacks have finished\");\n  }\n\n  function load_libs(css_urls, js_urls, callback) {\n    if (css_urls == null) css_urls = [];\n    if (js_urls == null) js_urls = [];\n\n    root._bokeh_onload_callbacks.push(callback);\n    if (root._bokeh_is_loading > 0) {\n      console.debug(\"Bokeh: BokehJS is being loaded, scheduling callback at\", now());\n      return null;\n    }\n    if (js_urls == null || js_urls.length === 0) {\n      run_callbacks();\n      return null;\n    }\n    console.debug(\"Bokeh: BokehJS not loaded, scheduling load and callback at\", now());\n    root._bokeh_is_loading = css_urls.length + js_urls.length;\n\n    function on_load() {\n      root._bokeh_is_loading--;\n      if (root._bokeh_is_loading === 0) {\n        console.debug(\"Bokeh: all BokehJS libraries/stylesheets loaded\");\n        run_callbacks()\n      }\n    }\n\n    function on_error(url) {\n      console.error(\"failed to load \" + url);\n    }\n\n    for (let i = 0; i < css_urls.length; i++) {\n      const url = css_urls[i];\n      const element = document.createElement(\"link\");\n      element.onload = on_load;\n      element.onerror = on_error.bind(null, url);\n      element.rel = \"stylesheet\";\n      element.type = \"text/css\";\n      element.href = url;\n      console.debug(\"Bokeh: injecting link tag for BokehJS stylesheet: \", url);\n      document.body.appendChild(element);\n    }\n\n    const hashes = {\"https://cdn.bokeh.org/bokeh/release/bokeh-2.3.2.min.js\": \"XypntL49z55iwGVUW4qsEu83zKL3XEcz0MjuGOQ9SlaaQ68X/g+k1FcioZi7oQAc\", \"https://cdn.bokeh.org/bokeh/release/bokeh-tables-2.3.2.min.js\": \"bEsM86IHGDTLCS0Zod8a8WM6Y4+lafAL/eSiyQcuPzinmWNgNO2/olUF0Z2Dkn5i\", \"https://cdn.bokeh.org/bokeh/release/bokeh-widgets-2.3.2.min.js\": \"TX0gSQTdXTTeScqxj6PVQxTiRW8DOoGVwinyi1D3kxv7wuxQ02XkOxv0xwiypcAH\"};\n\n    for (let i = 0; i < js_urls.length; i++) {\n      const url = js_urls[i];\n      const element = document.createElement('script');\n      element.onload = on_load;\n      element.onerror = on_error.bind(null, url);\n      element.async = false;\n      element.src = url;\n      if (url in hashes) {\n        element.crossOrigin = \"anonymous\";\n        element.integrity = \"sha384-\" + hashes[url];\n      }\n      console.debug(\"Bokeh: injecting script tag for BokehJS library: \", url);\n      document.head.appendChild(element);\n    }\n  };\n\n  function inject_raw_css(css) {\n    const element = document.createElement(\"style\");\n    element.appendChild(document.createTextNode(css));\n    document.body.appendChild(element);\n  }\n\n  \n  var js_urls = [\"https://cdn.bokeh.org/bokeh/release/bokeh-2.3.2.min.js\", \"https://cdn.bokeh.org/bokeh/release/bokeh-widgets-2.3.2.min.js\", \"https://cdn.bokeh.org/bokeh/release/bokeh-tables-2.3.2.min.js\"];\n  var css_urls = [];\n  \n\n  var inline_js = [\n    function(Bokeh) {\n      Bokeh.set_log_level(\"info\");\n    },\n    function(Bokeh) {\n    \n    \n    }\n  ];\n\n  function run_inline_js() {\n    \n    if (root.Bokeh !== undefined || force === true) {\n      \n    for (var i = 0; i < inline_js.length; i++) {\n      inline_js[i].call(root, root.Bokeh);\n    }\n    if (force === true) {\n        display_loaded();\n      }} else if (Date.now() < root._bokeh_timeout) {\n      setTimeout(run_inline_js, 100);\n    } else if (!root._bokeh_failed_load) {\n      console.log(\"Bokeh: BokehJS failed to load within specified timeout.\");\n      root._bokeh_failed_load = true;\n    } else if (force !== true) {\n      var cell = $(document.getElementById(\"1002\")).parents('.cell').data().cell;\n      cell.output_area.append_execute_result(NB_LOAD_WARNING)\n    }\n\n  }\n\n  if (root._bokeh_is_loading === 0) {\n    console.debug(\"Bokeh: BokehJS loaded, going straight to plotting\");\n    run_inline_js();\n  } else {\n    load_libs(css_urls, js_urls, function() {\n      console.debug(\"Bokeh: BokehJS plotting callback run at\", now());\n      run_inline_js();\n    });\n  }\n}(window));"
     },
     "metadata": {}
    }
   ],
   "metadata": {}
  },
  {
   "cell_type": "markdown",
   "source": [],
   "metadata": {}
  },
  {
   "cell_type": "markdown",
   "source": [],
   "metadata": {}
  },
  {
   "cell_type": "code",
   "execution_count": 3,
   "source": [
    "df2 = pd.read_excel('C:/Users/ad/Documents/카카오톡 받은 파일/4조 하은종/유기동물데이터.xlsx', sheet_name='지역별 유실,유기동물 발생현황 월별' )\r\n",
    "df2.head(1)\r\n",
    "df2.set_index('구분').index"
   ],
   "outputs": [
    {
     "output_type": "execute_result",
     "data": {
      "text/plain": [
       "Index(['서울 ', '부산', '대구', '인천', '광주', '대전', '울산', '세종', '경기', '강원', '충북', '충남',\n",
       "       '전북', '전남', '경북', '경남', '제주'],\n",
       "      dtype='object', name='구분')"
      ]
     },
     "metadata": {},
     "execution_count": 3
    }
   ],
   "metadata": {}
  },
  {
   "cell_type": "code",
   "execution_count": 4,
   "source": [
    "# df2_stack = df2.set_index('구분').stack()\r\n",
    "# pd.DataFrame(df2_stack).head()\r\n",
    "\r\n",
    "df2_t = df2.set_index('구분').T\r\n",
    "df2_t.head()\r\n",
    "df2_tt = df2_t.copy()\r\n",
    "df2_tt.index = df2_t.index.str.replace('년','-') #'월','.'\r\n",
    "df2_tt.index = df2_tt.index.str.replace('월','') #'월','.'\r\n",
    "df2_tt.index = pd.to_datetime(df2_tt.index).strftime('%Y-%m')\r\n",
    "df2_tt.head()"
   ],
   "outputs": [
    {
     "output_type": "execute_result",
     "data": {
      "text/plain": [
       "구분       서울    부산   대구   인천   광주   대전   울산  세종    경기   강원   충북   충남   전북   전남  \\\n",
       "2016-01  447  345  196  290  145  289  125  13  1332  256  205  191  205  169   \n",
       "2016-02  443  335  186  306  148  234  141  14  1233  250  264  220  198  175   \n",
       "2016-03  584  413  244  362  167  242  190  26  1562  303  269  391  267  226   \n",
       "2016-04  770  558  317  476  178  284  256  27  1777  299  286  363  280  211   \n",
       "2016-05  923  727  486  650  208  335  369  41  2188  306  354  414  288  229   \n",
       "\n",
       "구분        경북   경남   제주  \n",
       "2016-01  238  413  158  \n",
       "2016-02  280  430  222  \n",
       "2016-03  283  467  165  \n",
       "2016-04  296  473  197  \n",
       "2016-05  351  544  237  "
      ],
      "text/html": [
       "<div>\n",
       "<style scoped>\n",
       "    .dataframe tbody tr th:only-of-type {\n",
       "        vertical-align: middle;\n",
       "    }\n",
       "\n",
       "    .dataframe tbody tr th {\n",
       "        vertical-align: top;\n",
       "    }\n",
       "\n",
       "    .dataframe thead th {\n",
       "        text-align: right;\n",
       "    }\n",
       "</style>\n",
       "<table border=\"1\" class=\"dataframe\">\n",
       "  <thead>\n",
       "    <tr style=\"text-align: right;\">\n",
       "      <th>구분</th>\n",
       "      <th>서울</th>\n",
       "      <th>부산</th>\n",
       "      <th>대구</th>\n",
       "      <th>인천</th>\n",
       "      <th>광주</th>\n",
       "      <th>대전</th>\n",
       "      <th>울산</th>\n",
       "      <th>세종</th>\n",
       "      <th>경기</th>\n",
       "      <th>강원</th>\n",
       "      <th>충북</th>\n",
       "      <th>충남</th>\n",
       "      <th>전북</th>\n",
       "      <th>전남</th>\n",
       "      <th>경북</th>\n",
       "      <th>경남</th>\n",
       "      <th>제주</th>\n",
       "    </tr>\n",
       "  </thead>\n",
       "  <tbody>\n",
       "    <tr>\n",
       "      <th>2016-01</th>\n",
       "      <td>447</td>\n",
       "      <td>345</td>\n",
       "      <td>196</td>\n",
       "      <td>290</td>\n",
       "      <td>145</td>\n",
       "      <td>289</td>\n",
       "      <td>125</td>\n",
       "      <td>13</td>\n",
       "      <td>1332</td>\n",
       "      <td>256</td>\n",
       "      <td>205</td>\n",
       "      <td>191</td>\n",
       "      <td>205</td>\n",
       "      <td>169</td>\n",
       "      <td>238</td>\n",
       "      <td>413</td>\n",
       "      <td>158</td>\n",
       "    </tr>\n",
       "    <tr>\n",
       "      <th>2016-02</th>\n",
       "      <td>443</td>\n",
       "      <td>335</td>\n",
       "      <td>186</td>\n",
       "      <td>306</td>\n",
       "      <td>148</td>\n",
       "      <td>234</td>\n",
       "      <td>141</td>\n",
       "      <td>14</td>\n",
       "      <td>1233</td>\n",
       "      <td>250</td>\n",
       "      <td>264</td>\n",
       "      <td>220</td>\n",
       "      <td>198</td>\n",
       "      <td>175</td>\n",
       "      <td>280</td>\n",
       "      <td>430</td>\n",
       "      <td>222</td>\n",
       "    </tr>\n",
       "    <tr>\n",
       "      <th>2016-03</th>\n",
       "      <td>584</td>\n",
       "      <td>413</td>\n",
       "      <td>244</td>\n",
       "      <td>362</td>\n",
       "      <td>167</td>\n",
       "      <td>242</td>\n",
       "      <td>190</td>\n",
       "      <td>26</td>\n",
       "      <td>1562</td>\n",
       "      <td>303</td>\n",
       "      <td>269</td>\n",
       "      <td>391</td>\n",
       "      <td>267</td>\n",
       "      <td>226</td>\n",
       "      <td>283</td>\n",
       "      <td>467</td>\n",
       "      <td>165</td>\n",
       "    </tr>\n",
       "    <tr>\n",
       "      <th>2016-04</th>\n",
       "      <td>770</td>\n",
       "      <td>558</td>\n",
       "      <td>317</td>\n",
       "      <td>476</td>\n",
       "      <td>178</td>\n",
       "      <td>284</td>\n",
       "      <td>256</td>\n",
       "      <td>27</td>\n",
       "      <td>1777</td>\n",
       "      <td>299</td>\n",
       "      <td>286</td>\n",
       "      <td>363</td>\n",
       "      <td>280</td>\n",
       "      <td>211</td>\n",
       "      <td>296</td>\n",
       "      <td>473</td>\n",
       "      <td>197</td>\n",
       "    </tr>\n",
       "    <tr>\n",
       "      <th>2016-05</th>\n",
       "      <td>923</td>\n",
       "      <td>727</td>\n",
       "      <td>486</td>\n",
       "      <td>650</td>\n",
       "      <td>208</td>\n",
       "      <td>335</td>\n",
       "      <td>369</td>\n",
       "      <td>41</td>\n",
       "      <td>2188</td>\n",
       "      <td>306</td>\n",
       "      <td>354</td>\n",
       "      <td>414</td>\n",
       "      <td>288</td>\n",
       "      <td>229</td>\n",
       "      <td>351</td>\n",
       "      <td>544</td>\n",
       "      <td>237</td>\n",
       "    </tr>\n",
       "  </tbody>\n",
       "</table>\n",
       "</div>"
      ]
     },
     "metadata": {},
     "execution_count": 4
    }
   ],
   "metadata": {}
  },
  {
   "cell_type": "code",
   "execution_count": 11,
   "source": [
    "df2_tt.head()\r\n",
    "df2_tt.index = pd.to_datetime(df2_tt.index)\r\n",
    "df2_tt.index"
   ],
   "outputs": [
    {
     "output_type": "execute_result",
     "data": {
      "text/plain": [
       "DatetimeIndex(['2016-01-01', '2016-02-01', '2016-03-01', '2016-04-01',\n",
       "               '2016-05-01', '2016-06-01', '2016-07-01', '2016-08-01',\n",
       "               '2016-09-01', '2016-10-01', '2016-11-01', '2016-12-01',\n",
       "               '2017-01-01', '2017-02-01', '2017-03-01', '2017-04-01',\n",
       "               '2017-05-01', '2017-06-01', '2017-07-01', '2017-08-01',\n",
       "               '2017-09-01', '2017-10-01', '2017-11-01', '2017-12-01',\n",
       "               '2018-01-01', '2018-02-01', '2018-03-01', '2018-04-01',\n",
       "               '2018-05-01', '2018-06-01', '2018-07-01', '2018-08-01',\n",
       "               '2018-09-01', '2018-10-01', '2018-11-01', '2018-12-01',\n",
       "               '2019-01-01', '2019-02-01', '2019-03-01', '2019-04-01',\n",
       "               '2019-05-01', '2019-06-01', '2019-07-01', '2019-08-01',\n",
       "               '2019-09-01', '2019-10-01', '2019-11-01', '2019-12-01',\n",
       "               '2020-01-01', '2020-02-01', '2020-03-01', '2020-04-01',\n",
       "               '2020-05-01', '2020-06-01', '2020-07-01', '2020-08-01',\n",
       "               '2020-09-01', '2020-10-01', '2020-11-01', '2020-12-01'],\n",
       "              dtype='datetime64[ns]', freq=None)"
      ]
     },
     "metadata": {},
     "execution_count": 11
    }
   ],
   "metadata": {}
  },
  {
   "cell_type": "code",
   "execution_count": 8,
   "source": [
    "#df2_tt.sum(axis=1)\r\n",
    "df2_tt['누계'] = df2_tt.sum(axis=1)\r\n",
    "#df2_tt['누계'] = 0\r\n",
    "#df2_tt.drop('누계',axis=1).columns\r\n",
    "\r\n",
    "df2_tt.head(1)\r\n"
   ],
   "outputs": [
    {
     "output_type": "execute_result",
     "data": {
      "text/plain": [
       "구분       서울    부산   대구   인천   광주   대전   울산  세종    경기   강원   충북   충남   전북   전남  \\\n",
       "2016-01  447  345  196  290  145  289  125  13  1332  256  205  191  205  169   \n",
       "\n",
       "구분        경북   경남   제주    누계  \n",
       "2016-01  238  413  158  5017  "
      ],
      "text/html": [
       "<div>\n",
       "<style scoped>\n",
       "    .dataframe tbody tr th:only-of-type {\n",
       "        vertical-align: middle;\n",
       "    }\n",
       "\n",
       "    .dataframe tbody tr th {\n",
       "        vertical-align: top;\n",
       "    }\n",
       "\n",
       "    .dataframe thead th {\n",
       "        text-align: right;\n",
       "    }\n",
       "</style>\n",
       "<table border=\"1\" class=\"dataframe\">\n",
       "  <thead>\n",
       "    <tr style=\"text-align: right;\">\n",
       "      <th>구분</th>\n",
       "      <th>서울</th>\n",
       "      <th>부산</th>\n",
       "      <th>대구</th>\n",
       "      <th>인천</th>\n",
       "      <th>광주</th>\n",
       "      <th>대전</th>\n",
       "      <th>울산</th>\n",
       "      <th>세종</th>\n",
       "      <th>경기</th>\n",
       "      <th>강원</th>\n",
       "      <th>충북</th>\n",
       "      <th>충남</th>\n",
       "      <th>전북</th>\n",
       "      <th>전남</th>\n",
       "      <th>경북</th>\n",
       "      <th>경남</th>\n",
       "      <th>제주</th>\n",
       "      <th>누계</th>\n",
       "    </tr>\n",
       "  </thead>\n",
       "  <tbody>\n",
       "    <tr>\n",
       "      <th>2016-01</th>\n",
       "      <td>447</td>\n",
       "      <td>345</td>\n",
       "      <td>196</td>\n",
       "      <td>290</td>\n",
       "      <td>145</td>\n",
       "      <td>289</td>\n",
       "      <td>125</td>\n",
       "      <td>13</td>\n",
       "      <td>1332</td>\n",
       "      <td>256</td>\n",
       "      <td>205</td>\n",
       "      <td>191</td>\n",
       "      <td>205</td>\n",
       "      <td>169</td>\n",
       "      <td>238</td>\n",
       "      <td>413</td>\n",
       "      <td>158</td>\n",
       "      <td>5017</td>\n",
       "    </tr>\n",
       "  </tbody>\n",
       "</table>\n",
       "</div>"
      ]
     },
     "metadata": {},
     "execution_count": 8
    }
   ],
   "metadata": {}
  },
  {
   "cell_type": "code",
   "execution_count": 12,
   "source": [
    "#import itertools\r\n",
    "#from bokeh.palettes import Spectral11\r\n",
    "\r\n",
    "homework_1 = figure(plot_width=1000, plot_height=500, x_axis_type=\"datetime\",title=\"2016-2020 지역별 유기동물 발생현황\")\r\n",
    "#homework_1.title.text = \"test\"\r\n",
    "\r\n",
    "color_mapping = {\r\n",
    "    0:\"tomato\", 1:\"dodgerblue\", 2:\"lime\", 3:\"red\", 4:\"blue\", \r\n",
    "    5:\"green\", 6:\"orange\", 7:\"black\", 8:\"#5e4fa2\", 9:\"#3288bd\",\r\n",
    "    10:\"#66c2a5\", 11:\"#abdda4\", 12:\"#e6f598\", 13: \"#ffffbf\", 14:\"#fee08b\",\r\n",
    "    15:\"#fdae61\", 16:\"#f46d43\"}\r\n",
    "\r\n",
    "for i,j in enumerate(df2_tt.drop('누계',axis=1).columns):          # 주의 밑에 누계 생성하고 해\r\n",
    "    homework_1.line(df2_tt.index,\r\n",
    "                    df2_tt[j],\r\n",
    "                    line_width=0.8,\r\n",
    "                    line_color=color_mapping[i],\r\n",
    "                    legend_label = j)\r\n",
    "\r\n",
    "homework_1.legend.location = \"top_left\"\r\n",
    "homework_1.legend.click_policy=\"hide\"\r\n",
    "#homework_1.legend.click_policy=\"mute\"\r\n",
    "homework_1.xaxis.axis_label=\"날짜\"\r\n",
    "homework_1.yaxis.axis_label=\"건수\"\r\n",
    "show(homework_1)"
   ],
   "outputs": [
    {
     "output_type": "display_data",
     "data": {
      "text/html": [
       "\n",
       "\n",
       "\n",
       "\n",
       "\n",
       "\n",
       "  <div class=\"bk-root\" id=\"a793e6c3-bf1f-4228-bc04-c27ec97219eb\" data-root-id=\"2142\"></div>\n"
      ]
     },
     "metadata": {}
    },
    {
     "output_type": "display_data",
     "data": {
      "application/vnd.bokehjs_exec.v0+json": "",
      "application/javascript": "(function(root) {\n  function embed_document(root) {\n    \n  var docs_json = {\"f1b9a07e-d61a-4a1b-a10d-997e5ec6b8f6\":{\"defs\":[],\"roots\":{\"references\":[{\"attributes\":{\"below\":[{\"id\":\"2153\"}],\"center\":[{\"id\":\"2156\"},{\"id\":\"2160\"},{\"id\":\"2202\"}],\"height\":500,\"left\":[{\"id\":\"2157\"}],\"renderers\":[{\"id\":\"2178\"},{\"id\":\"2207\"},{\"id\":\"2237\"},{\"id\":\"2269\"},{\"id\":\"2303\"},{\"id\":\"2339\"},{\"id\":\"2377\"},{\"id\":\"2417\"},{\"id\":\"2459\"},{\"id\":\"2503\"},{\"id\":\"2549\"},{\"id\":\"2597\"},{\"id\":\"2647\"},{\"id\":\"2699\"},{\"id\":\"2753\"},{\"id\":\"2809\"},{\"id\":\"2867\"}],\"title\":{\"id\":\"2143\"},\"toolbar\":{\"id\":\"2168\"},\"width\":1000,\"x_range\":{\"id\":\"2145\"},\"x_scale\":{\"id\":\"2149\"},\"y_range\":{\"id\":\"2147\"},\"y_scale\":{\"id\":\"2151\"}},\"id\":\"2142\",\"subtype\":\"Figure\",\"type\":\"Plot\"},{\"attributes\":{\"line_alpha\":0.1,\"line_color\":\"#e6f598\",\"line_width\":0.8,\"x\":{\"field\":\"x\"},\"y\":{\"field\":\"y\"}},\"id\":\"2646\",\"type\":\"Line\"},{\"attributes\":{\"data_source\":{\"id\":\"2806\"},\"glyph\":{\"id\":\"2807\"},\"hover_glyph\":null,\"muted_glyph\":null,\"nonselection_glyph\":{\"id\":\"2808\"},\"view\":{\"id\":\"2810\"}},\"id\":\"2809\",\"type\":\"GlyphRenderer\"},{\"attributes\":{\"data\":{\"x\":{\"__ndarray__\":\"AADAvacfdUIAAAAQoil1QgAAwJb3MnVCAAAA6fE8dUIAAIDVmUZ1QgAAwCeUUHVCAABAFDxadUIAAIBmNmR1QgAAwLgwbnVCAABApdh3dUIAAID30oF1QgAAAOR6i3VCAABANnWVdUIAAICIb591QgAAgKlyqHVCAADA+2yydUIAAEDoFLx1QgAAgDoPxnVCAAAAJ7fPdUIAAEB5sdl1QgAAgMur43VCAAAAuFPtdUIAAEAKTvd1QgAAwPb1AHZCAAAASfAKdkIAAECb6hR2QgAAQLztHXZCAACADugndkIAAAD7jzF2QgAAQE2KO3ZCAADAOTJFdkIAAACMLE92QgAAQN4mWXZCAADAys5idkIAAAAdyWx2QgAAgAlxdnZCAADAW2uAdkIAAACuZYp2QgAAAM9ok3ZCAABAIWOddkIAAMANC6d2QgAAAGAFsXZCAACATK26dkIAAMCep8R2QgAAAPGhznZCAACA3UnYdkIAAMAvROJ2QgAAQBzs63ZCAACAbub1dkIAAMDA4P92QgAAgEc2CXdCAADAmTATd0IAAECG2Bx3QgAAgNjSJndCAAAAxXowd0IAAEAXdTp3QgAAgGlvRHdCAAAAVhdOd0IAAECoEVh3QgAAwJS5YXdC\",\"dtype\":\"float64\",\"order\":\"little\",\"shape\":[60]},\"y\":[196,186,244,317,486,432,440,357,403,443,274,225,203,193,232,336,498,522,441,388,412,389,333,239,200,242,307,375,527,558,515,476,493,459,394,262,253,256,310,469,652,552,665,497,540,582,389,304,276,196,260,391,611,598,606,507,532,469,349,247]},\"selected\":{\"id\":\"2251\"},\"selection_policy\":{\"id\":\"2252\"}},\"id\":\"2234\",\"type\":\"ColumnDataSource\"},{\"attributes\":{\"data\":{\"x\":{\"__ndarray__\":\"AADAvacfdUIAAAAQoil1QgAAwJb3MnVCAAAA6fE8dUIAAIDVmUZ1QgAAwCeUUHVCAABAFDxadUIAAIBmNmR1QgAAwLgwbnVCAABApdh3dUIAAID30oF1QgAAAOR6i3VCAABANnWVdUIAAICIb591QgAAgKlyqHVCAADA+2yydUIAAEDoFLx1QgAAgDoPxnVCAAAAJ7fPdUIAAEB5sdl1QgAAgMur43VCAAAAuFPtdUIAAEAKTvd1QgAAwPb1AHZCAAAASfAKdkIAAECb6hR2QgAAQLztHXZCAACADugndkIAAAD7jzF2QgAAQE2KO3ZCAADAOTJFdkIAAACMLE92QgAAQN4mWXZCAADAys5idkIAAAAdyWx2QgAAgAlxdnZCAADAW2uAdkIAAACuZYp2QgAAAM9ok3ZCAABAIWOddkIAAMANC6d2QgAAAGAFsXZCAACATK26dkIAAMCep8R2QgAAAPGhznZCAACA3UnYdkIAAMAvROJ2QgAAQBzs63ZCAACAbub1dkIAAMDA4P92QgAAgEc2CXdCAADAmTATd0IAAECG2Bx3QgAAgNjSJndCAAAAxXowd0IAAEAXdTp3QgAAgGlvRHdCAAAAVhdOd0IAAECoEVh3QgAAwJS5YXdC\",\"dtype\":\"float64\",\"order\":\"little\",\"shape\":[60]},\"y\":[256,250,303,299,306,345,357,461,353,391,346,262,270,339,307,361,439,443,523,582,453,375,377,278,361,305,408,424,419,420,535,529,485,450,519,457,446,407,419,504,579,522,680,628,635,552,448,359,443,425,449,366,504,485,542,559,506,464,408,337]},\"selected\":{\"id\":\"2531\"},\"selection_policy\":{\"id\":\"2532\"}},\"id\":\"2500\",\"type\":\"ColumnDataSource\"},{\"attributes\":{\"data\":{\"x\":{\"__ndarray__\":\"AADAvacfdUIAAAAQoil1QgAAwJb3MnVCAAAA6fE8dUIAAIDVmUZ1QgAAwCeUUHVCAABAFDxadUIAAIBmNmR1QgAAwLgwbnVCAABApdh3dUIAAID30oF1QgAAAOR6i3VCAABANnWVdUIAAICIb591QgAAgKlyqHVCAADA+2yydUIAAEDoFLx1QgAAgDoPxnVCAAAAJ7fPdUIAAEB5sdl1QgAAgMur43VCAAAAuFPtdUIAAEAKTvd1QgAAwPb1AHZCAAAASfAKdkIAAECb6hR2QgAAQLztHXZCAACADugndkIAAAD7jzF2QgAAQE2KO3ZCAADAOTJFdkIAAACMLE92QgAAQN4mWXZCAADAys5idkIAAAAdyWx2QgAAgAlxdnZCAADAW2uAdkIAAACuZYp2QgAAAM9ok3ZCAABAIWOddkIAAMANC6d2QgAAAGAFsXZCAACATK26dkIAAMCep8R2QgAAAPGhznZCAACA3UnYdkIAAMAvROJ2QgAAQBzs63ZCAACAbub1dkIAAMDA4P92QgAAgEc2CXdCAADAmTATd0IAAECG2Bx3QgAAgNjSJndCAAAAxXowd0IAAEAXdTp3QgAAgGlvRHdCAAAAVhdOd0IAAECoEVh3QgAAwJS5YXdC\",\"dtype\":\"float64\",\"order\":\"little\",\"shape\":[60]},\"y\":[289,234,242,284,335,437,453,370,386,411,333,237,232,188,286,288,452,409,487,513,491,450,378,324,270,291,335,428,595,615,608,519,519,533,386,234,421,249,317,384,529,483,489,423,436,518,342,255,202,199,230,212,352,415,428,329,265,232,194,159]},\"selected\":{\"id\":\"2359\"},\"selection_policy\":{\"id\":\"2360\"}},\"id\":\"2336\",\"type\":\"ColumnDataSource\"},{\"attributes\":{\"data\":{\"x\":{\"__ndarray__\":\"AADAvacfdUIAAAAQoil1QgAAwJb3MnVCAAAA6fE8dUIAAIDVmUZ1QgAAwCeUUHVCAABAFDxadUIAAIBmNmR1QgAAwLgwbnVCAABApdh3dUIAAID30oF1QgAAAOR6i3VCAABANnWVdUIAAICIb591QgAAgKlyqHVCAADA+2yydUIAAEDoFLx1QgAAgDoPxnVCAAAAJ7fPdUIAAEB5sdl1QgAAgMur43VCAAAAuFPtdUIAAEAKTvd1QgAAwPb1AHZCAAAASfAKdkIAAECb6hR2QgAAQLztHXZCAACADugndkIAAAD7jzF2QgAAQE2KO3ZCAADAOTJFdkIAAACMLE92QgAAQN4mWXZCAADAys5idkIAAAAdyWx2QgAAgAlxdnZCAADAW2uAdkIAAACuZYp2QgAAAM9ok3ZCAABAIWOddkIAAMANC6d2QgAAAGAFsXZCAACATK26dkIAAMCep8R2QgAAAPGhznZCAACA3UnYdkIAAMAvROJ2QgAAQBzs63ZCAACAbub1dkIAAMDA4P92QgAAgEc2CXdCAADAmTATd0IAAECG2Bx3QgAAgNjSJndCAAAAxXowd0IAAEAXdTp3QgAAgGlvRHdCAAAAVhdOd0IAAECoEVh3QgAAwJS5YXdC\",\"dtype\":\"float64\",\"order\":\"little\",\"shape\":[60]},\"y\":[169,175,226,211,229,218,256,302,297,270,228,171,194,176,272,317,359,381,512,471,402,436,393,301,387,295,438,514,642,525,544,518,602,496,523,379,531,484,592,639,654,618,758,675,705,716,634,698,686,728,821,680,724,680,849,634,712,662,683,582]},\"selected\":{\"id\":\"2735\"},\"selection_policy\":{\"id\":\"2736\"}},\"id\":\"2696\",\"type\":\"ColumnDataSource\"},{\"attributes\":{\"line_alpha\":0.1,\"line_color\":\"lime\",\"line_width\":0.8,\"x\":{\"field\":\"x\"},\"y\":{\"field\":\"y\"}},\"id\":\"2236\",\"type\":\"Line\"},{\"attributes\":{\"line_color\":\"lime\",\"line_width\":0.8,\"x\":{\"field\":\"x\"},\"y\":{\"field\":\"y\"}},\"id\":\"2235\",\"type\":\"Line\"},{\"attributes\":{\"data\":{\"x\":{\"__ndarray__\":\"AADAvacfdUIAAAAQoil1QgAAwJb3MnVCAAAA6fE8dUIAAIDVmUZ1QgAAwCeUUHVCAABAFDxadUIAAIBmNmR1QgAAwLgwbnVCAABApdh3dUIAAID30oF1QgAAAOR6i3VCAABANnWVdUIAAICIb591QgAAgKlyqHVCAADA+2yydUIAAEDoFLx1QgAAgDoPxnVCAAAAJ7fPdUIAAEB5sdl1QgAAgMur43VCAAAAuFPtdUIAAEAKTvd1QgAAwPb1AHZCAAAASfAKdkIAAECb6hR2QgAAQLztHXZCAACADugndkIAAAD7jzF2QgAAQE2KO3ZCAADAOTJFdkIAAACMLE92QgAAQN4mWXZCAADAys5idkIAAAAdyWx2QgAAgAlxdnZCAADAW2uAdkIAAACuZYp2QgAAAM9ok3ZCAABAIWOddkIAAMANC6d2QgAAAGAFsXZCAACATK26dkIAAMCep8R2QgAAAPGhznZCAACA3UnYdkIAAMAvROJ2QgAAQBzs63ZCAACAbub1dkIAAMDA4P92QgAAgEc2CXdCAADAmTATd0IAAECG2Bx3QgAAgNjSJndCAAAAxXowd0IAAEAXdTp3QgAAgGlvRHdCAAAAVhdOd0IAAECoEVh3QgAAwJS5YXdC\",\"dtype\":\"float64\",\"order\":\"little\",\"shape\":[60]},\"y\":[290,306,362,476,650,656,614,523,526,528,405,285,322,274,379,477,685,638,714,609,576,585,456,359,361,343,517,548,797,784,764,647,650,592,505,366,384,376,455,606,641,725,791,658,671,653,468,371,413,401,460,498,702,662,769,709,639,494,442,457]},\"selected\":{\"id\":\"2285\"},\"selection_policy\":{\"id\":\"2286\"}},\"id\":\"2266\",\"type\":\"ColumnDataSource\"},{\"attributes\":{\"data_source\":{\"id\":\"2234\"},\"glyph\":{\"id\":\"2235\"},\"hover_glyph\":null,\"muted_glyph\":null,\"nonselection_glyph\":{\"id\":\"2236\"},\"view\":{\"id\":\"2238\"}},\"id\":\"2237\",\"type\":\"GlyphRenderer\"},{\"attributes\":{\"source\":{\"id\":\"2336\"}},\"id\":\"2340\",\"type\":\"CDSView\"},{\"attributes\":{\"label\":{\"value\":\"\\ub300\\uc804\"},\"renderers\":[{\"id\":\"2339\"}]},\"id\":\"2373\",\"type\":\"LegendItem\"},{\"attributes\":{\"source\":{\"id\":\"2234\"}},\"id\":\"2238\",\"type\":\"CDSView\"},{\"attributes\":{\"line_alpha\":0.1,\"line_color\":\"green\",\"line_width\":0.8,\"x\":{\"field\":\"x\"},\"y\":{\"field\":\"y\"}},\"id\":\"2338\",\"type\":\"Line\"},{\"attributes\":{\"line_color\":\"green\",\"line_width\":0.8,\"x\":{\"field\":\"x\"},\"y\":{\"field\":\"y\"}},\"id\":\"2337\",\"type\":\"Line\"},{\"attributes\":{\"line_alpha\":0.1,\"line_color\":\"#ffffbf\",\"line_width\":0.8,\"x\":{\"field\":\"x\"},\"y\":{\"field\":\"y\"}},\"id\":\"2698\",\"type\":\"Line\"},{\"attributes\":{\"line_color\":\"#ffffbf\",\"line_width\":0.8,\"x\":{\"field\":\"x\"},\"y\":{\"field\":\"y\"}},\"id\":\"2697\",\"type\":\"Line\"},{\"attributes\":{\"label\":{\"value\":\"\\uc804\\ub0a8\"},\"renderers\":[{\"id\":\"2699\"}]},\"id\":\"2749\",\"type\":\"LegendItem\"},{\"attributes\":{\"data_source\":{\"id\":\"2336\"},\"glyph\":{\"id\":\"2337\"},\"hover_glyph\":null,\"muted_glyph\":null,\"nonselection_glyph\":{\"id\":\"2338\"},\"view\":{\"id\":\"2340\"}},\"id\":\"2339\",\"type\":\"GlyphRenderer\"},{\"attributes\":{\"data_source\":{\"id\":\"2696\"},\"glyph\":{\"id\":\"2697\"},\"hover_glyph\":null,\"muted_glyph\":null,\"nonselection_glyph\":{\"id\":\"2698\"},\"view\":{\"id\":\"2700\"}},\"id\":\"2699\",\"type\":\"GlyphRenderer\"},{\"attributes\":{\"label\":{\"value\":\"\\uac15\\uc6d0\"},\"renderers\":[{\"id\":\"2503\"}]},\"id\":\"2545\",\"type\":\"LegendItem\"},{\"attributes\":{\"line_alpha\":0.1,\"line_color\":\"#fdae61\",\"line_width\":0.8,\"x\":{\"field\":\"x\"},\"y\":{\"field\":\"y\"}},\"id\":\"2808\",\"type\":\"Line\"},{\"attributes\":{},\"id\":\"2251\",\"type\":\"Selection\"},{\"attributes\":{\"source\":{\"id\":\"2696\"}},\"id\":\"2700\",\"type\":\"CDSView\"},{\"attributes\":{},\"id\":\"2252\",\"type\":\"UnionRenderers\"},{\"attributes\":{},\"id\":\"2359\",\"type\":\"Selection\"},{\"attributes\":{},\"id\":\"2360\",\"type\":\"UnionRenderers\"},{\"attributes\":{},\"id\":\"2735\",\"type\":\"Selection\"},{\"attributes\":{\"text\":\"2016-2020 \\uc9c0\\uc5ed\\ubcc4 \\uc720\\uae30\\ub3d9\\ubb3c \\ubc1c\\uc0dd\\ud604\\ud669\"},\"id\":\"2143\",\"type\":\"Title\"},{\"attributes\":{\"label\":{\"value\":\"\\uc778\\ucc9c\"},\"renderers\":[{\"id\":\"2269\"}]},\"id\":\"2299\",\"type\":\"LegendItem\"},{\"attributes\":{},\"id\":\"2736\",\"type\":\"UnionRenderers\"},{\"attributes\":{\"line_color\":\"red\",\"line_width\":0.8,\"x\":{\"field\":\"x\"},\"y\":{\"field\":\"y\"}},\"id\":\"2267\",\"type\":\"Line\"},{\"attributes\":{},\"id\":\"2151\",\"type\":\"LinearScale\"},{\"attributes\":{},\"id\":\"2145\",\"type\":\"DataRange1d\"},{\"attributes\":{},\"id\":\"2147\",\"type\":\"DataRange1d\"},{\"attributes\":{\"data_source\":{\"id\":\"2266\"},\"glyph\":{\"id\":\"2267\"},\"hover_glyph\":null,\"muted_glyph\":null,\"nonselection_glyph\":{\"id\":\"2268\"},\"view\":{\"id\":\"2270\"}},\"id\":\"2269\",\"type\":\"GlyphRenderer\"},{\"attributes\":{\"line_alpha\":0.1,\"line_color\":\"#3288bd\",\"line_width\":0.8,\"x\":{\"field\":\"x\"},\"y\":{\"field\":\"y\"}},\"id\":\"2502\",\"type\":\"Line\"},{\"attributes\":{\"label\":{\"value\":\"\\uc804\\ubd81\"},\"renderers\":[{\"id\":\"2647\"}]},\"id\":\"2695\",\"type\":\"LegendItem\"},{\"attributes\":{\"axis_label\":\"\\ub0a0\\uc9dc\",\"formatter\":{\"id\":\"2186\"},\"major_label_policy\":{\"id\":\"2184\"},\"ticker\":{\"id\":\"2154\"}},\"id\":\"2153\",\"type\":\"DatetimeAxis\"},{\"attributes\":{\"source\":{\"id\":\"2266\"}},\"id\":\"2270\",\"type\":\"CDSView\"},{\"attributes\":{\"num_minor_ticks\":5,\"tickers\":[{\"id\":\"2190\"},{\"id\":\"2191\"},{\"id\":\"2192\"},{\"id\":\"2193\"},{\"id\":\"2194\"},{\"id\":\"2195\"},{\"id\":\"2196\"},{\"id\":\"2197\"},{\"id\":\"2198\"},{\"id\":\"2199\"},{\"id\":\"2200\"},{\"id\":\"2201\"}]},\"id\":\"2154\",\"type\":\"DatetimeTicker\"},{\"attributes\":{\"line_alpha\":0.1,\"line_color\":\"red\",\"line_width\":0.8,\"x\":{\"field\":\"x\"},\"y\":{\"field\":\"y\"}},\"id\":\"2268\",\"type\":\"Line\"},{\"attributes\":{},\"id\":\"2149\",\"type\":\"LinearScale\"},{\"attributes\":{\"line_color\":\"orange\",\"line_width\":0.8,\"x\":{\"field\":\"x\"},\"y\":{\"field\":\"y\"}},\"id\":\"2375\",\"type\":\"Line\"},{\"attributes\":{\"label\":{\"value\":\"\\uacbd\\ubd81\"},\"renderers\":[{\"id\":\"2753\"}]},\"id\":\"2805\",\"type\":\"LegendItem\"},{\"attributes\":{\"line_alpha\":0.1,\"line_color\":\"orange\",\"line_width\":0.8,\"x\":{\"field\":\"x\"},\"y\":{\"field\":\"y\"}},\"id\":\"2376\",\"type\":\"Line\"},{\"attributes\":{},\"id\":\"2162\",\"type\":\"WheelZoomTool\"},{\"attributes\":{\"data\":{\"x\":{\"__ndarray__\":\"AADAvacfdUIAAAAQoil1QgAAwJb3MnVCAAAA6fE8dUIAAIDVmUZ1QgAAwCeUUHVCAABAFDxadUIAAIBmNmR1QgAAwLgwbnVCAABApdh3dUIAAID30oF1QgAAAOR6i3VCAABANnWVdUIAAICIb591QgAAgKlyqHVCAADA+2yydUIAAEDoFLx1QgAAgDoPxnVCAAAAJ7fPdUIAAEB5sdl1QgAAgMur43VCAAAAuFPtdUIAAEAKTvd1QgAAwPb1AHZCAAAASfAKdkIAAECb6hR2QgAAQLztHXZCAACADugndkIAAAD7jzF2QgAAQE2KO3ZCAADAOTJFdkIAAACMLE92QgAAQN4mWXZCAADAys5idkIAAAAdyWx2QgAAgAlxdnZCAADAW2uAdkIAAACuZYp2QgAAAM9ok3ZCAABAIWOddkIAAMANC6d2QgAAAGAFsXZCAACATK26dkIAAMCep8R2QgAAAPGhznZCAACA3UnYdkIAAMAvROJ2QgAAQBzs63ZCAACAbub1dkIAAMDA4P92QgAAgEc2CXdCAADAmTATd0IAAECG2Bx3QgAAgNjSJndCAAAAxXowd0IAAEAXdTp3QgAAgGlvRHdCAAAAVhdOd0IAAECoEVh3QgAAwJS5YXdC\",\"dtype\":\"float64\",\"order\":\"little\",\"shape\":[60]},\"y\":[238,280,283,296,351,267,313,347,367,367,274,310,276,272,285,351,449,431,445,552,467,495,453,385,528,430,591,631,713,678,705,753,625,657,581,585,560,561,785,753,725,725,941,881,882,920,733,662,804,732,816,784,834,883,923,844,832,743,787,656]},\"selected\":{\"id\":\"2791\"},\"selection_policy\":{\"id\":\"2792\"}},\"id\":\"2750\",\"type\":\"ColumnDataSource\"},{\"attributes\":{},\"id\":\"2158\",\"type\":\"BasicTicker\"},{\"attributes\":{\"data\":{\"x\":{\"__ndarray__\":\"AADAvacfdUIAAAAQoil1QgAAwJb3MnVCAAAA6fE8dUIAAIDVmUZ1QgAAwCeUUHVCAABAFDxadUIAAIBmNmR1QgAAwLgwbnVCAABApdh3dUIAAID30oF1QgAAAOR6i3VCAABANnWVdUIAAICIb591QgAAgKlyqHVCAADA+2yydUIAAEDoFLx1QgAAgDoPxnVCAAAAJ7fPdUIAAEB5sdl1QgAAgMur43VCAAAAuFPtdUIAAEAKTvd1QgAAwPb1AHZCAAAASfAKdkIAAECb6hR2QgAAQLztHXZCAACADugndkIAAAD7jzF2QgAAQE2KO3ZCAADAOTJFdkIAAACMLE92QgAAQN4mWXZCAADAys5idkIAAAAdyWx2QgAAgAlxdnZCAADAW2uAdkIAAACuZYp2QgAAAM9ok3ZCAABAIWOddkIAAMANC6d2QgAAAGAFsXZCAACATK26dkIAAMCep8R2QgAAAPGhznZCAACA3UnYdkIAAMAvROJ2QgAAQBzs63ZCAACAbub1dkIAAMDA4P92QgAAgEc2CXdCAADAmTATd0IAAECG2Bx3QgAAgNjSJndCAAAAxXowd0IAAEAXdTp3QgAAgGlvRHdCAAAAVhdOd0IAAECoEVh3QgAAwJS5YXdC\",\"dtype\":\"float64\",\"order\":\"little\",\"shape\":[60]},\"y\":[125,141,190,256,369,361,274,313,323,331,213,188,154,161,170,277,326,334,366,291,259,241,160,146,144,115,187,221,363,330,313,273,276,300,214,167,167,152,170,264,314,332,297,335,313,314,229,196,211,155,179,293,383,390,383,291,35,307,230,157]},\"selected\":{\"id\":\"2399\"},\"selection_policy\":{\"id\":\"2400\"}},\"id\":\"2374\",\"type\":\"ColumnDataSource\"},{\"attributes\":{\"source\":{\"id\":\"2500\"}},\"id\":\"2504\",\"type\":\"CDSView\"},{\"attributes\":{\"line_color\":\"#fee08b\",\"line_width\":0.8,\"x\":{\"field\":\"x\"},\"y\":{\"field\":\"y\"}},\"id\":\"2751\",\"type\":\"Line\"},{\"attributes\":{\"data_source\":{\"id\":\"2374\"},\"glyph\":{\"id\":\"2375\"},\"hover_glyph\":null,\"muted_glyph\":null,\"nonselection_glyph\":{\"id\":\"2376\"},\"view\":{\"id\":\"2378\"}},\"id\":\"2377\",\"type\":\"GlyphRenderer\"},{\"attributes\":{\"overlay\":{\"id\":\"2167\"}},\"id\":\"2163\",\"type\":\"BoxZoomTool\"},{\"attributes\":{\"line_alpha\":0.1,\"line_color\":\"tomato\",\"line_width\":0.8,\"x\":{\"field\":\"x\"},\"y\":{\"field\":\"y\"}},\"id\":\"2177\",\"type\":\"Line\"},{\"attributes\":{\"line_width\":0.8,\"x\":{\"field\":\"x\"},\"y\":{\"field\":\"y\"}},\"id\":\"2415\",\"type\":\"Line\"},{\"attributes\":{},\"id\":\"2285\",\"type\":\"Selection\"},{\"attributes\":{\"source\":{\"id\":\"2374\"}},\"id\":\"2378\",\"type\":\"CDSView\"},{\"attributes\":{},\"id\":\"2286\",\"type\":\"UnionRenderers\"},{\"attributes\":{\"label\":{\"value\":\"\\uc6b8\\uc0b0\"},\"renderers\":[{\"id\":\"2377\"}]},\"id\":\"2413\",\"type\":\"LegendItem\"},{\"attributes\":{},\"id\":\"2161\",\"type\":\"PanTool\"},{\"attributes\":{\"line_alpha\":0.1,\"line_color\":\"#fee08b\",\"line_width\":0.8,\"x\":{\"field\":\"x\"},\"y\":{\"field\":\"y\"}},\"id\":\"2752\",\"type\":\"Line\"},{\"attributes\":{\"axis\":{\"id\":\"2157\"},\"dimension\":1,\"ticker\":null},\"id\":\"2160\",\"type\":\"Grid\"},{\"attributes\":{\"axis_label\":\"\\uac74\\uc218\",\"formatter\":{\"id\":\"2183\"},\"major_label_policy\":{\"id\":\"2181\"},\"ticker\":{\"id\":\"2158\"}},\"id\":\"2157\",\"type\":\"LinearAxis\"},{\"attributes\":{\"data_source\":{\"id\":\"2750\"},\"glyph\":{\"id\":\"2751\"},\"hover_glyph\":null,\"muted_glyph\":null,\"nonselection_glyph\":{\"id\":\"2752\"},\"view\":{\"id\":\"2754\"}},\"id\":\"2753\",\"type\":\"GlyphRenderer\"},{\"attributes\":{\"axis\":{\"id\":\"2153\"},\"ticker\":null},\"id\":\"2156\",\"type\":\"Grid\"},{\"attributes\":{\"data_source\":{\"id\":\"2500\"},\"glyph\":{\"id\":\"2501\"},\"hover_glyph\":null,\"muted_glyph\":null,\"nonselection_glyph\":{\"id\":\"2502\"},\"view\":{\"id\":\"2504\"}},\"id\":\"2503\",\"type\":\"GlyphRenderer\"},{\"attributes\":{\"source\":{\"id\":\"2750\"}},\"id\":\"2754\",\"type\":\"CDSView\"},{\"attributes\":{},\"id\":\"2791\",\"type\":\"Selection\"},{\"attributes\":{},\"id\":\"2321\",\"type\":\"Selection\"},{\"attributes\":{\"line_alpha\":0.1,\"line_width\":0.8,\"x\":{\"field\":\"x\"},\"y\":{\"field\":\"y\"}},\"id\":\"2416\",\"type\":\"Line\"},{\"attributes\":{\"line_alpha\":0.1,\"line_color\":\"#66c2a5\",\"line_width\":0.8,\"x\":{\"field\":\"x\"},\"y\":{\"field\":\"y\"}},\"id\":\"2548\",\"type\":\"Line\"},{\"attributes\":{},\"id\":\"2792\",\"type\":\"UnionRenderers\"},{\"attributes\":{\"days\":[1,2,3,4,5,6,7,8,9,10,11,12,13,14,15,16,17,18,19,20,21,22,23,24,25,26,27,28,29,30,31]},\"id\":\"2193\",\"type\":\"DaysTicker\"},{\"attributes\":{\"data_source\":{\"id\":\"2414\"},\"glyph\":{\"id\":\"2415\"},\"hover_glyph\":null,\"muted_glyph\":null,\"nonselection_glyph\":{\"id\":\"2416\"},\"view\":{\"id\":\"2418\"}},\"id\":\"2417\",\"type\":\"GlyphRenderer\"},{\"attributes\":{\"line_color\":\"dodgerblue\",\"line_width\":0.8,\"x\":{\"field\":\"x\"},\"y\":{\"field\":\"y\"}},\"id\":\"2205\",\"type\":\"Line\"},{\"attributes\":{\"data\":{\"x\":{\"__ndarray__\":\"AADAvacfdUIAAAAQoil1QgAAwJb3MnVCAAAA6fE8dUIAAIDVmUZ1QgAAwCeUUHVCAABAFDxadUIAAIBmNmR1QgAAwLgwbnVCAABApdh3dUIAAID30oF1QgAAAOR6i3VCAABANnWVdUIAAICIb591QgAAgKlyqHVCAADA+2yydUIAAEDoFLx1QgAAgDoPxnVCAAAAJ7fPdUIAAEB5sdl1QgAAgMur43VCAAAAuFPtdUIAAEAKTvd1QgAAwPb1AHZCAAAASfAKdkIAAECb6hR2QgAAQLztHXZCAACADugndkIAAAD7jzF2QgAAQE2KO3ZCAADAOTJFdkIAAACMLE92QgAAQN4mWXZCAADAys5idkIAAAAdyWx2QgAAgAlxdnZCAADAW2uAdkIAAACuZYp2QgAAAM9ok3ZCAABAIWOddkIAAMANC6d2QgAAAGAFsXZCAACATK26dkIAAMCep8R2QgAAAPGhznZCAACA3UnYdkIAAMAvROJ2QgAAQBzs63ZCAACAbub1dkIAAMDA4P92QgAAgEc2CXdCAADAmTATd0IAAECG2Bx3QgAAgNjSJndCAAAAxXowd0IAAEAXdTp3QgAAgGlvRHdCAAAAVhdOd0IAAECoEVh3QgAAwJS5YXdC\",\"dtype\":\"float64\",\"order\":\"little\",\"shape\":[60]},\"y\":[205,264,269,286,354,346,396,393,321,363,344,241,248,190,294,281,292,228,348,413,370,334,248,300,265,204,252,230,373,295,318,336,348,409,461,340,363,297,315,421,407,504,474,499,504,400,344,377,407,356,430,334,467,429,428,543,421,379,292,298]},\"selected\":{\"id\":\"2579\"},\"selection_policy\":{\"id\":\"2580\"}},\"id\":\"2546\",\"type\":\"ColumnDataSource\"},{\"attributes\":{\"data_source\":{\"id\":\"2175\"},\"glyph\":{\"id\":\"2176\"},\"hover_glyph\":null,\"muted_glyph\":null,\"nonselection_glyph\":{\"id\":\"2177\"},\"view\":{\"id\":\"2179\"}},\"id\":\"2178\",\"type\":\"GlyphRenderer\"},{\"attributes\":{\"data_source\":{\"id\":\"2546\"},\"glyph\":{\"id\":\"2547\"},\"hover_glyph\":null,\"muted_glyph\":null,\"nonselection_glyph\":{\"id\":\"2548\"},\"view\":{\"id\":\"2550\"}},\"id\":\"2549\",\"type\":\"GlyphRenderer\"},{\"attributes\":{},\"id\":\"2189\",\"type\":\"UnionRenderers\"},{\"attributes\":{\"mantissas\":[1,2,5],\"max_interval\":500.0,\"num_minor_ticks\":0},\"id\":\"2190\",\"type\":\"AdaptiveTicker\"},{\"attributes\":{\"label\":{\"value\":\"\\ucda9\\ubd81\"},\"renderers\":[{\"id\":\"2549\"}]},\"id\":\"2593\",\"type\":\"LegendItem\"},{\"attributes\":{},\"id\":\"2188\",\"type\":\"Selection\"},{\"attributes\":{\"days\":[1,4,7,10,13,16,19,22,25,28]},\"id\":\"2194\",\"type\":\"DaysTicker\"},{\"attributes\":{\"source\":{\"id\":\"2546\"}},\"id\":\"2550\",\"type\":\"CDSView\"},{\"attributes\":{\"line_color\":\"#e6f598\",\"line_width\":0.8,\"x\":{\"field\":\"x\"},\"y\":{\"field\":\"y\"}},\"id\":\"2645\",\"type\":\"Line\"},{\"attributes\":{},\"id\":\"2849\",\"type\":\"Selection\"},{\"attributes\":{\"data\":{\"x\":{\"__ndarray__\":\"AADAvacfdUIAAAAQoil1QgAAwJb3MnVCAAAA6fE8dUIAAIDVmUZ1QgAAwCeUUHVCAABAFDxadUIAAIBmNmR1QgAAwLgwbnVCAABApdh3dUIAAID30oF1QgAAAOR6i3VCAABANnWVdUIAAICIb591QgAAgKlyqHVCAADA+2yydUIAAEDoFLx1QgAAgDoPxnVCAAAAJ7fPdUIAAEB5sdl1QgAAgMur43VCAAAAuFPtdUIAAEAKTvd1QgAAwPb1AHZCAAAASfAKdkIAAECb6hR2QgAAQLztHXZCAACADugndkIAAAD7jzF2QgAAQE2KO3ZCAADAOTJFdkIAAACMLE92QgAAQN4mWXZCAADAys5idkIAAAAdyWx2QgAAgAlxdnZCAADAW2uAdkIAAACuZYp2QgAAAM9ok3ZCAABAIWOddkIAAMANC6d2QgAAAGAFsXZCAACATK26dkIAAMCep8R2QgAAAPGhznZCAACA3UnYdkIAAMAvROJ2QgAAQBzs63ZCAACAbub1dkIAAMDA4P92QgAAgEc2CXdCAADAmTATd0IAAECG2Bx3QgAAgNjSJndCAAAAxXowd0IAAEAXdTp3QgAAgGlvRHdCAAAAVhdOd0IAAECoEVh3QgAAwJS5YXdC\",\"dtype\":\"float64\",\"order\":\"little\",\"shape\":[60]},\"y\":[145,148,167,178,208,231,226,191,220,403,244,246,182,177,205,310,428,386,424,379,391,374,243,173,174,159,188,290,395,380,324,301,320,319,201,197,231,187,207,371,384,395,441,338,369,404,290,213,202,193,206,236,396,400,451,395,361,314,201,201]},\"selected\":{\"id\":\"2321\"},\"selection_policy\":{\"id\":\"2322\"}},\"id\":\"2300\",\"type\":\"ColumnDataSource\"},{\"attributes\":{\"months\":[0,6]},\"id\":\"2200\",\"type\":\"MonthsTicker\"},{\"attributes\":{},\"id\":\"2201\",\"type\":\"YearsTicker\"},{\"attributes\":{},\"id\":\"2441\",\"type\":\"Selection\"},{\"attributes\":{\"source\":{\"id\":\"2175\"}},\"id\":\"2179\",\"type\":\"CDSView\"},{\"attributes\":{},\"id\":\"2442\",\"type\":\"UnionRenderers\"},{\"attributes\":{\"months\":[0,2,4,6,8,10]},\"id\":\"2198\",\"type\":\"MonthsTicker\"},{\"attributes\":{},\"id\":\"2850\",\"type\":\"UnionRenderers\"},{\"attributes\":{\"line_color\":\"blue\",\"line_width\":0.8,\"x\":{\"field\":\"x\"},\"y\":{\"field\":\"y\"}},\"id\":\"2301\",\"type\":\"Line\"},{\"attributes\":{},\"id\":\"2400\",\"type\":\"UnionRenderers\"},{\"attributes\":{\"click_policy\":\"hide\",\"items\":[{\"id\":\"2203\"},{\"id\":\"2233\"},{\"id\":\"2265\"},{\"id\":\"2299\"},{\"id\":\"2335\"},{\"id\":\"2373\"},{\"id\":\"2413\"},{\"id\":\"2455\"},{\"id\":\"2499\"},{\"id\":\"2545\"},{\"id\":\"2593\"},{\"id\":\"2643\"},{\"id\":\"2695\"},{\"id\":\"2749\"},{\"id\":\"2805\"},{\"id\":\"2863\"},{\"id\":\"2923\"}],\"location\":\"top_left\"},\"id\":\"2202\",\"type\":\"Legend\"},{\"attributes\":{\"label\":{\"value\":\"\\uc11c\\uc6b8 \"},\"renderers\":[{\"id\":\"2178\"}]},\"id\":\"2203\",\"type\":\"LegendItem\"},{\"attributes\":{},\"id\":\"2399\",\"type\":\"Selection\"},{\"attributes\":{},\"id\":\"2681\",\"type\":\"Selection\"},{\"attributes\":{},\"id\":\"2579\",\"type\":\"Selection\"},{\"attributes\":{\"source\":{\"id\":\"2806\"}},\"id\":\"2810\",\"type\":\"CDSView\"},{\"attributes\":{},\"id\":\"2580\",\"type\":\"UnionRenderers\"},{\"attributes\":{\"source\":{\"id\":\"2204\"}},\"id\":\"2208\",\"type\":\"CDSView\"},{\"attributes\":{},\"id\":\"2219\",\"type\":\"Selection\"},{\"attributes\":{},\"id\":\"2532\",\"type\":\"UnionRenderers\"},{\"attributes\":{\"line_alpha\":0.1,\"line_color\":\"dodgerblue\",\"line_width\":0.8,\"x\":{\"field\":\"x\"},\"y\":{\"field\":\"y\"}},\"id\":\"2206\",\"type\":\"Line\"},{\"attributes\":{\"data\":{\"x\":{\"__ndarray__\":\"AADAvacfdUIAAAAQoil1QgAAwJb3MnVCAAAA6fE8dUIAAIDVmUZ1QgAAwCeUUHVCAABAFDxadUIAAIBmNmR1QgAAwLgwbnVCAABApdh3dUIAAID30oF1QgAAAOR6i3VCAABANnWVdUIAAICIb591QgAAgKlyqHVCAADA+2yydUIAAEDoFLx1QgAAgDoPxnVCAAAAJ7fPdUIAAEB5sdl1QgAAgMur43VCAAAAuFPtdUIAAEAKTvd1QgAAwPb1AHZCAAAASfAKdkIAAECb6hR2QgAAQLztHXZCAACADugndkIAAAD7jzF2QgAAQE2KO3ZCAADAOTJFdkIAAACMLE92QgAAQN4mWXZCAADAys5idkIAAAAdyWx2QgAAgAlxdnZCAADAW2uAdkIAAACuZYp2QgAAAM9ok3ZCAABAIWOddkIAAMANC6d2QgAAAGAFsXZCAACATK26dkIAAMCep8R2QgAAAPGhznZCAACA3UnYdkIAAMAvROJ2QgAAQBzs63ZCAACAbub1dkIAAMDA4P92QgAAgEc2CXdCAADAmTATd0IAAECG2Bx3QgAAgNjSJndCAAAAxXowd0IAAEAXdTp3QgAAgGlvRHdCAAAAVhdOd0IAAECoEVh3QgAAwJS5YXdC\",\"dtype\":\"float64\",\"order\":\"little\",\"shape\":[60]},\"y\":[1332,1233,1562,1777,2188,2117,2394,2160,2046,1919,1556,1395,1298,1181,1521,1700,2114,2104,2630,2695,2302,2036,1866,1470,1702,1482,1962,2085,2468,2409,2689,2456,2425,2506,1924,1573,1939,1624,1892,2384,2667,2419,3070,2872,2735,2587,2084,1657,2352,1960,2086,1931,2722,2619,2759,2664,2304,2221,1836,1477]},\"selected\":{\"id\":\"2485\"},\"selection_policy\":{\"id\":\"2486\"}},\"id\":\"2456\",\"type\":\"ColumnDataSource\"},{\"attributes\":{\"data_source\":{\"id\":\"2204\"},\"glyph\":{\"id\":\"2205\"},\"hover_glyph\":null,\"muted_glyph\":null,\"nonselection_glyph\":{\"id\":\"2206\"},\"view\":{\"id\":\"2208\"}},\"id\":\"2207\",\"type\":\"GlyphRenderer\"},{\"attributes\":{\"bottom_units\":\"screen\",\"fill_alpha\":0.5,\"fill_color\":\"lightgrey\",\"left_units\":\"screen\",\"level\":\"overlay\",\"line_alpha\":1.0,\"line_color\":\"black\",\"line_dash\":[4,4],\"line_width\":2,\"right_units\":\"screen\",\"syncable\":false,\"top_units\":\"screen\"},\"id\":\"2167\",\"type\":\"BoxAnnotation\"},{\"attributes\":{\"label\":{\"value\":\"\\ub300\\uad6c\"},\"renderers\":[{\"id\":\"2237\"}]},\"id\":\"2265\",\"type\":\"LegendItem\"},{\"attributes\":{\"data\":{\"x\":{\"__ndarray__\":\"AADAvacfdUIAAAAQoil1QgAAwJb3MnVCAAAA6fE8dUIAAIDVmUZ1QgAAwCeUUHVCAABAFDxadUIAAIBmNmR1QgAAwLgwbnVCAABApdh3dUIAAID30oF1QgAAAOR6i3VCAABANnWVdUIAAICIb591QgAAgKlyqHVCAADA+2yydUIAAEDoFLx1QgAAgDoPxnVCAAAAJ7fPdUIAAEB5sdl1QgAAgMur43VCAAAAuFPtdUIAAEAKTvd1QgAAwPb1AHZCAAAASfAKdkIAAECb6hR2QgAAQLztHXZCAACADugndkIAAAD7jzF2QgAAQE2KO3ZCAADAOTJFdkIAAACMLE92QgAAQN4mWXZCAADAys5idkIAAAAdyWx2QgAAgAlxdnZCAADAW2uAdkIAAACuZYp2QgAAAM9ok3ZCAABAIWOddkIAAMANC6d2QgAAAGAFsXZCAACATK26dkIAAMCep8R2QgAAAPGhznZCAACA3UnYdkIAAMAvROJ2QgAAQBzs63ZCAACAbub1dkIAAMDA4P92QgAAgEc2CXdCAADAmTATd0IAAECG2Bx3QgAAgNjSJndCAAAAxXowd0IAAEAXdTp3QgAAgGlvRHdCAAAAVhdOd0IAAECoEVh3QgAAwJS5YXdC\",\"dtype\":\"float64\",\"order\":\"little\",\"shape\":[60]},\"y\":[413,430,467,473,544,620,616,650,680,635,552,503,451,451,598,610,659,646,775,901,791,718,726,593,810,665,774,1058,1152,981,1040,1104,1000,1095,896,808,1117,1048,1069,1127,1146,1063,1386,1329,1410,1350,951,1144,1042,1040,1173,1199,1222,1341,1429,1217,1169,1138,961,752]},\"selected\":{\"id\":\"2849\"},\"selection_policy\":{\"id\":\"2850\"}},\"id\":\"2806\",\"type\":\"ColumnDataSource\"},{\"attributes\":{},\"id\":\"2164\",\"type\":\"SaveTool\"},{\"attributes\":{\"line_color\":\"#5e4fa2\",\"line_width\":0.8,\"x\":{\"field\":\"x\"},\"y\":{\"field\":\"y\"}},\"id\":\"2457\",\"type\":\"Line\"},{\"attributes\":{\"data\":{\"x\":{\"__ndarray__\":\"AADAvacfdUIAAAAQoil1QgAAwJb3MnVCAAAA6fE8dUIAAIDVmUZ1QgAAwCeUUHVCAABAFDxadUIAAIBmNmR1QgAAwLgwbnVCAABApdh3dUIAAID30oF1QgAAAOR6i3VCAABANnWVdUIAAICIb591QgAAgKlyqHVCAADA+2yydUIAAEDoFLx1QgAAgDoPxnVCAAAAJ7fPdUIAAEB5sdl1QgAAgMur43VCAAAAuFPtdUIAAEAKTvd1QgAAwPb1AHZCAAAASfAKdkIAAECb6hR2QgAAQLztHXZCAACADugndkIAAAD7jzF2QgAAQE2KO3ZCAADAOTJFdkIAAACMLE92QgAAQN4mWXZCAADAys5idkIAAAAdyWx2QgAAgAlxdnZCAADAW2uAdkIAAACuZYp2QgAAAM9ok3ZCAABAIWOddkIAAMANC6d2QgAAAGAFsXZCAACATK26dkIAAMCep8R2QgAAAPGhznZCAACA3UnYdkIAAMAvROJ2QgAAQBzs63ZCAACAbub1dkIAAMDA4P92QgAAgEc2CXdCAADAmTATd0IAAECG2Bx3QgAAgNjSJndCAAAAxXowd0IAAEAXdTp3QgAAgGlvRHdCAAAAVhdOd0IAAECoEVh3QgAAwJS5YXdC\",\"dtype\":\"float64\",\"order\":\"little\",\"shape\":[60]},\"y\":[158,222,165,197,237,216,188,270,257,236,252,228,274,229,312,280,429,441,434,505,469,484,466,495,491,503,591,596,658,596,570,537,581,678,542,543,638,461,565,623,565,638,679,677,695,659,576,531,616,552,527,601,539,496,566,460,560,601,411,374]},\"selected\":{\"id\":\"2909\"},\"selection_policy\":{\"id\":\"2910\"}},\"id\":\"2864\",\"type\":\"ColumnDataSource\"},{\"attributes\":{},\"id\":\"2166\",\"type\":\"HelpTool\"},{\"attributes\":{\"days\":[1,15]},\"id\":\"2196\",\"type\":\"DaysTicker\"},{\"attributes\":{\"label\":{\"value\":\"\\uc81c\\uc8fc\"},\"renderers\":[{\"id\":\"2867\"}]},\"id\":\"2923\",\"type\":\"LegendItem\"},{\"attributes\":{},\"id\":\"2165\",\"type\":\"ResetTool\"},{\"attributes\":{\"data_source\":{\"id\":\"2456\"},\"glyph\":{\"id\":\"2457\"},\"hover_glyph\":null,\"muted_glyph\":null,\"nonselection_glyph\":{\"id\":\"2458\"},\"view\":{\"id\":\"2460\"}},\"id\":\"2459\",\"type\":\"GlyphRenderer\"},{\"attributes\":{},\"id\":\"2186\",\"type\":\"DatetimeTickFormatter\"},{\"attributes\":{},\"id\":\"2184\",\"type\":\"AllLabels\"},{\"attributes\":{\"label\":{\"value\":\"\\uacbd\\uae30\"},\"renderers\":[{\"id\":\"2459\"}]},\"id\":\"2499\",\"type\":\"LegendItem\"},{\"attributes\":{\"line_color\":\"#f46d43\",\"line_width\":0.8,\"x\":{\"field\":\"x\"},\"y\":{\"field\":\"y\"}},\"id\":\"2865\",\"type\":\"Line\"},{\"attributes\":{\"months\":[0,1,2,3,4,5,6,7,8,9,10,11]},\"id\":\"2197\",\"type\":\"MonthsTicker\"},{\"attributes\":{\"label\":{\"value\":\"\\ubd80\\uc0b0\"},\"renderers\":[{\"id\":\"2207\"}]},\"id\":\"2233\",\"type\":\"LegendItem\"},{\"attributes\":{\"source\":{\"id\":\"2864\"}},\"id\":\"2868\",\"type\":\"CDSView\"},{\"attributes\":{\"source\":{\"id\":\"2456\"}},\"id\":\"2460\",\"type\":\"CDSView\"},{\"attributes\":{\"line_color\":\"#3288bd\",\"line_width\":0.8,\"x\":{\"field\":\"x\"},\"y\":{\"field\":\"y\"}},\"id\":\"2501\",\"type\":\"Line\"},{\"attributes\":{\"line_alpha\":0.1,\"line_color\":\"#f46d43\",\"line_width\":0.8,\"x\":{\"field\":\"x\"},\"y\":{\"field\":\"y\"}},\"id\":\"2866\",\"type\":\"Line\"},{\"attributes\":{\"label\":{\"value\":\"\\uad11\\uc8fc\"},\"renderers\":[{\"id\":\"2303\"}]},\"id\":\"2335\",\"type\":\"LegendItem\"},{\"attributes\":{\"line_color\":\"tomato\",\"line_width\":0.8,\"x\":{\"field\":\"x\"},\"y\":{\"field\":\"y\"}},\"id\":\"2176\",\"type\":\"Line\"},{\"attributes\":{\"data_source\":{\"id\":\"2864\"},\"glyph\":{\"id\":\"2865\"},\"hover_glyph\":null,\"muted_glyph\":null,\"nonselection_glyph\":{\"id\":\"2866\"},\"view\":{\"id\":\"2868\"}},\"id\":\"2867\",\"type\":\"GlyphRenderer\"},{\"attributes\":{\"line_alpha\":0.1,\"line_color\":\"#abdda4\",\"line_width\":0.8,\"x\":{\"field\":\"x\"},\"y\":{\"field\":\"y\"}},\"id\":\"2596\",\"type\":\"Line\"},{\"attributes\":{\"data\":{\"x\":{\"__ndarray__\":\"AADAvacfdUIAAAAQoil1QgAAwJb3MnVCAAAA6fE8dUIAAIDVmUZ1QgAAwCeUUHVCAABAFDxadUIAAIBmNmR1QgAAwLgwbnVCAABApdh3dUIAAID30oF1QgAAAOR6i3VCAABANnWVdUIAAICIb591QgAAgKlyqHVCAADA+2yydUIAAEDoFLx1QgAAgDoPxnVCAAAAJ7fPdUIAAEB5sdl1QgAAgMur43VCAAAAuFPtdUIAAEAKTvd1QgAAwPb1AHZCAAAASfAKdkIAAECb6hR2QgAAQLztHXZCAACADugndkIAAAD7jzF2QgAAQE2KO3ZCAADAOTJFdkIAAACMLE92QgAAQN4mWXZCAADAys5idkIAAAAdyWx2QgAAgAlxdnZCAADAW2uAdkIAAACuZYp2QgAAAM9ok3ZCAABAIWOddkIAAMANC6d2QgAAAGAFsXZCAACATK26dkIAAMCep8R2QgAAAPGhznZCAACA3UnYdkIAAMAvROJ2QgAAQBzs63ZCAACAbub1dkIAAMDA4P92QgAAgEc2CXdCAADAmTATd0IAAECG2Bx3QgAAgNjSJndCAAAAxXowd0IAAEAXdTp3QgAAgGlvRHdCAAAAVhdOd0IAAECoEVh3QgAAwJS5YXdC\",\"dtype\":\"float64\",\"order\":\"little\",\"shape\":[60]},\"y\":[345,335,413,558,727,803,719,673,745,694,545,405,344,349,436,586,840,887,875,766,752,672,528,379,371,387,514,618,791,803,830,716,681,774,552,456,442,390,473,656,826,836,1046,870,791,782,528,457,400,423,479,599,710,942,1004,765,694,612,483,359]},\"selected\":{\"id\":\"2219\"},\"selection_policy\":{\"id\":\"2220\"}},\"id\":\"2204\",\"type\":\"ColumnDataSource\"},{\"attributes\":{\"source\":{\"id\":\"2414\"}},\"id\":\"2418\",\"type\":\"CDSView\"},{\"attributes\":{\"line_alpha\":0.1,\"line_color\":\"#5e4fa2\",\"line_width\":0.8,\"x\":{\"field\":\"x\"},\"y\":{\"field\":\"y\"}},\"id\":\"2458\",\"type\":\"Line\"},{\"attributes\":{\"label\":{\"value\":\"\\uc138\\uc885\"},\"renderers\":[{\"id\":\"2417\"}]},\"id\":\"2455\",\"type\":\"LegendItem\"},{\"attributes\":{\"label\":{\"value\":\"\\ucda9\\ub0a8\"},\"renderers\":[{\"id\":\"2597\"}]},\"id\":\"2643\",\"type\":\"LegendItem\"},{\"attributes\":{\"line_color\":\"#abdda4\",\"line_width\":0.8,\"x\":{\"field\":\"x\"},\"y\":{\"field\":\"y\"}},\"id\":\"2595\",\"type\":\"Line\"},{\"attributes\":{\"data\":{\"x\":{\"__ndarray__\":\"AADAvacfdUIAAAAQoil1QgAAwJb3MnVCAAAA6fE8dUIAAIDVmUZ1QgAAwCeUUHVCAABAFDxadUIAAIBmNmR1QgAAwLgwbnVCAABApdh3dUIAAID30oF1QgAAAOR6i3VCAABANnWVdUIAAICIb591QgAAgKlyqHVCAADA+2yydUIAAEDoFLx1QgAAgDoPxnVCAAAAJ7fPdUIAAEB5sdl1QgAAgMur43VCAAAAuFPtdUIAAEAKTvd1QgAAwPb1AHZCAAAASfAKdkIAAECb6hR2QgAAQLztHXZCAACADugndkIAAAD7jzF2QgAAQE2KO3ZCAADAOTJFdkIAAACMLE92QgAAQN4mWXZCAADAys5idkIAAAAdyWx2QgAAgAlxdnZCAADAW2uAdkIAAACuZYp2QgAAAM9ok3ZCAABAIWOddkIAAMANC6d2QgAAAGAFsXZCAACATK26dkIAAMCep8R2QgAAAPGhznZCAACA3UnYdkIAAMAvROJ2QgAAQBzs63ZCAACAbub1dkIAAMDA4P92QgAAgEc2CXdCAADAmTATd0IAAECG2Bx3QgAAgNjSJndCAAAAxXowd0IAAEAXdTp3QgAAgGlvRHdCAAAAVhdOd0IAAECoEVh3QgAAwJS5YXdC\",\"dtype\":\"float64\",\"order\":\"little\",\"shape\":[60]},\"y\":[191,220,391,363,414,433,418,501,452,510,344,335,363,340,409,368,552,482,620,590,485,500,448,489,431,346,535,554,675,639,597,612,599,672,1069,543,615,472,583,619,783,723,1026,778,838,769,637,650,698,597,713,658,854,820,919,857,791,712,616,617]},\"selected\":{\"id\":\"2629\"},\"selection_policy\":{\"id\":\"2630\"}},\"id\":\"2594\",\"type\":\"ColumnDataSource\"},{\"attributes\":{},\"id\":\"2181\",\"type\":\"AllLabels\"},{\"attributes\":{\"data_source\":{\"id\":\"2594\"},\"glyph\":{\"id\":\"2595\"},\"hover_glyph\":null,\"muted_glyph\":null,\"nonselection_glyph\":{\"id\":\"2596\"},\"view\":{\"id\":\"2598\"}},\"id\":\"2597\",\"type\":\"GlyphRenderer\"},{\"attributes\":{\"line_color\":\"#fdae61\",\"line_width\":0.8,\"x\":{\"field\":\"x\"},\"y\":{\"field\":\"y\"}},\"id\":\"2807\",\"type\":\"Line\"},{\"attributes\":{},\"id\":\"2322\",\"type\":\"UnionRenderers\"},{\"attributes\":{\"data\":{\"x\":{\"__ndarray__\":\"AADAvacfdUIAAAAQoil1QgAAwJb3MnVCAAAA6fE8dUIAAIDVmUZ1QgAAwCeUUHVCAABAFDxadUIAAIBmNmR1QgAAwLgwbnVCAABApdh3dUIAAID30oF1QgAAAOR6i3VCAABANnWVdUIAAICIb591QgAAgKlyqHVCAADA+2yydUIAAEDoFLx1QgAAgDoPxnVCAAAAJ7fPdUIAAEB5sdl1QgAAgMur43VCAAAAuFPtdUIAAEAKTvd1QgAAwPb1AHZCAAAASfAKdkIAAECb6hR2QgAAQLztHXZCAACADugndkIAAAD7jzF2QgAAQE2KO3ZCAADAOTJFdkIAAACMLE92QgAAQN4mWXZCAADAys5idkIAAAAdyWx2QgAAgAlxdnZCAADAW2uAdkIAAACuZYp2QgAAAM9ok3ZCAABAIWOddkIAAMANC6d2QgAAAGAFsXZCAACATK26dkIAAMCep8R2QgAAAPGhznZCAACA3UnYdkIAAMAvROJ2QgAAQBzs63ZCAACAbub1dkIAAMDA4P92QgAAgEc2CXdCAADAmTATd0IAAECG2Bx3QgAAgNjSJndCAAAAxXowd0IAAEAXdTp3QgAAgGlvRHdCAAAAVhdOd0IAAECoEVh3QgAAwJS5YXdC\",\"dtype\":\"float64\",\"order\":\"little\",\"shape\":[60]},\"y\":[447,443,584,770,923,884,931,907,826,792,663,457,504,435,564,675,860,906,1003,896,890,739,601,515,501,411,629,667,842,915,822,743,695,729,624,430,442,385,499,588,757,753,870,731,702,659,469,416,385,371,473,472,670,685,686,632,573,520,394,322]},\"selected\":{\"id\":\"2188\"},\"selection_policy\":{\"id\":\"2189\"}},\"id\":\"2175\",\"type\":\"ColumnDataSource\"},{\"attributes\":{},\"id\":\"2485\",\"type\":\"Selection\"},{\"attributes\":{},\"id\":\"2183\",\"type\":\"BasicTickFormatter\"},{\"attributes\":{\"source\":{\"id\":\"2594\"}},\"id\":\"2598\",\"type\":\"CDSView\"},{\"attributes\":{},\"id\":\"2909\",\"type\":\"Selection\"},{\"attributes\":{\"data\":{\"x\":{\"__ndarray__\":\"AADAvacfdUIAAAAQoil1QgAAwJb3MnVCAAAA6fE8dUIAAIDVmUZ1QgAAwCeUUHVCAABAFDxadUIAAIBmNmR1QgAAwLgwbnVCAABApdh3dUIAAID30oF1QgAAAOR6i3VCAABANnWVdUIAAICIb591QgAAgKlyqHVCAADA+2yydUIAAEDoFLx1QgAAgDoPxnVCAAAAJ7fPdUIAAEB5sdl1QgAAgMur43VCAAAAuFPtdUIAAEAKTvd1QgAAwPb1AHZCAAAASfAKdkIAAECb6hR2QgAAQLztHXZCAACADugndkIAAAD7jzF2QgAAQE2KO3ZCAADAOTJFdkIAAACMLE92QgAAQN4mWXZCAADAys5idkIAAAAdyWx2QgAAgAlxdnZCAADAW2uAdkIAAACuZYp2QgAAAM9ok3ZCAABAIWOddkIAAMANC6d2QgAAAGAFsXZCAACATK26dkIAAMCep8R2QgAAAPGhznZCAACA3UnYdkIAAMAvROJ2QgAAQBzs63ZCAACAbub1dkIAAMDA4P92QgAAgEc2CXdCAADAmTATd0IAAECG2Bx3QgAAgNjSJndCAAAAxXowd0IAAEAXdTp3QgAAgGlvRHdCAAAAVhdOd0IAAECoEVh3QgAAwJS5YXdC\",\"dtype\":\"float64\",\"order\":\"little\",\"shape\":[60]},\"y\":[205,198,267,280,288,346,353,372,354,429,250,246,246,259,314,353,431,432,440,541,439,453,339,263,307,279,554,470,550,518,602,522,571,654,564,433,595,506,592,645,697,682,844,790,625,746,658,458,696,698,739,688,857,811,954,789,723,700,631,533]},\"selected\":{\"id\":\"2681\"},\"selection_policy\":{\"id\":\"2682\"}},\"id\":\"2644\",\"type\":\"ColumnDataSource\"},{\"attributes\":{},\"id\":\"2910\",\"type\":\"UnionRenderers\"},{\"attributes\":{\"days\":[1,8,15,22]},\"id\":\"2195\",\"type\":\"DaysTicker\"},{\"attributes\":{\"data\":{\"x\":{\"__ndarray__\":\"AADAvacfdUIAAAAQoil1QgAAwJb3MnVCAAAA6fE8dUIAAIDVmUZ1QgAAwCeUUHVCAABAFDxadUIAAIBmNmR1QgAAwLgwbnVCAABApdh3dUIAAID30oF1QgAAAOR6i3VCAABANnWVdUIAAICIb591QgAAgKlyqHVCAADA+2yydUIAAEDoFLx1QgAAgDoPxnVCAAAAJ7fPdUIAAEB5sdl1QgAAgMur43VCAAAAuFPtdUIAAEAKTvd1QgAAwPb1AHZCAAAASfAKdkIAAECb6hR2QgAAQLztHXZCAACADugndkIAAAD7jzF2QgAAQE2KO3ZCAADAOTJFdkIAAACMLE92QgAAQN4mWXZCAADAys5idkIAAAAdyWx2QgAAgAlxdnZCAADAW2uAdkIAAACuZYp2QgAAAM9ok3ZCAABAIWOddkIAAMANC6d2QgAAAGAFsXZCAACATK26dkIAAMCep8R2QgAAAPGhznZCAACA3UnYdkIAAMAvROJ2QgAAQBzs63ZCAACAbub1dkIAAMDA4P92QgAAgEc2CXdCAADAmTATd0IAAECG2Bx3QgAAgNjSJndCAAAAxXowd0IAAEAXdTp3QgAAgGlvRHdCAAAAVhdOd0IAAECoEVh3QgAAwJS5YXdC\",\"dtype\":\"float64\",\"order\":\"little\",\"shape\":[60]},\"y\":[13,14,26,27,41,39,45,39,41,41,29,29,20,28,15,23,32,46,38,27,32,31,30,23,31,10,40,29,31,31,42,44,33,45,23,45,32,25,40,43,44,28,62,55,22,68,41,34,38,16,18,31,31,8,0,38,46,35,30,39]},\"selected\":{\"id\":\"2441\"},\"selection_policy\":{\"id\":\"2442\"}},\"id\":\"2414\",\"type\":\"ColumnDataSource\"},{\"attributes\":{\"source\":{\"id\":\"2300\"}},\"id\":\"2304\",\"type\":\"CDSView\"},{\"attributes\":{},\"id\":\"2486\",\"type\":\"UnionRenderers\"},{\"attributes\":{\"data_source\":{\"id\":\"2644\"},\"glyph\":{\"id\":\"2645\"},\"hover_glyph\":null,\"muted_glyph\":null,\"nonselection_glyph\":{\"id\":\"2646\"},\"view\":{\"id\":\"2648\"}},\"id\":\"2647\",\"type\":\"GlyphRenderer\"},{\"attributes\":{},\"id\":\"2531\",\"type\":\"Selection\"},{\"attributes\":{\"source\":{\"id\":\"2644\"}},\"id\":\"2648\",\"type\":\"CDSView\"},{\"attributes\":{},\"id\":\"2629\",\"type\":\"Selection\"},{\"attributes\":{},\"id\":\"2682\",\"type\":\"UnionRenderers\"},{\"attributes\":{\"months\":[0,4,8]},\"id\":\"2199\",\"type\":\"MonthsTicker\"},{\"attributes\":{\"base\":24,\"mantissas\":[1,2,4,6,8,12],\"max_interval\":43200000.0,\"min_interval\":3600000.0,\"num_minor_ticks\":0},\"id\":\"2192\",\"type\":\"AdaptiveTicker\"},{\"attributes\":{\"line_color\":\"#66c2a5\",\"line_width\":0.8,\"x\":{\"field\":\"x\"},\"y\":{\"field\":\"y\"}},\"id\":\"2547\",\"type\":\"Line\"},{\"attributes\":{\"base\":60,\"mantissas\":[1,2,5,10,15,20,30],\"max_interval\":1800000.0,\"min_interval\":1000.0,\"num_minor_ticks\":0},\"id\":\"2191\",\"type\":\"AdaptiveTicker\"},{\"attributes\":{},\"id\":\"2630\",\"type\":\"UnionRenderers\"},{\"attributes\":{\"label\":{\"value\":\"\\uacbd\\ub0a8\"},\"renderers\":[{\"id\":\"2809\"}]},\"id\":\"2863\",\"type\":\"LegendItem\"},{\"attributes\":{},\"id\":\"2220\",\"type\":\"UnionRenderers\"},{\"attributes\":{\"line_alpha\":0.1,\"line_color\":\"blue\",\"line_width\":0.8,\"x\":{\"field\":\"x\"},\"y\":{\"field\":\"y\"}},\"id\":\"2302\",\"type\":\"Line\"},{\"attributes\":{\"data_source\":{\"id\":\"2300\"},\"glyph\":{\"id\":\"2301\"},\"hover_glyph\":null,\"muted_glyph\":null,\"nonselection_glyph\":{\"id\":\"2302\"},\"view\":{\"id\":\"2304\"}},\"id\":\"2303\",\"type\":\"GlyphRenderer\"},{\"attributes\":{\"active_multi\":null,\"tools\":[{\"id\":\"2161\"},{\"id\":\"2162\"},{\"id\":\"2163\"},{\"id\":\"2164\"},{\"id\":\"2165\"},{\"id\":\"2166\"}]},\"id\":\"2168\",\"type\":\"Toolbar\"}],\"root_ids\":[\"2142\"]},\"title\":\"Bokeh Application\",\"version\":\"2.3.2\"}};\n  var render_items = [{\"docid\":\"f1b9a07e-d61a-4a1b-a10d-997e5ec6b8f6\",\"root_ids\":[\"2142\"],\"roots\":{\"2142\":\"a793e6c3-bf1f-4228-bc04-c27ec97219eb\"}}];\n  root.Bokeh.embed.embed_items_notebook(docs_json, render_items);\n\n  }\n  if (root.Bokeh !== undefined) {\n    embed_document(root);\n  } else {\n    var attempts = 0;\n    var timer = setInterval(function(root) {\n      if (root.Bokeh !== undefined) {\n        clearInterval(timer);\n        embed_document(root);\n      } else {\n        attempts++;\n        if (attempts > 100) {\n          clearInterval(timer);\n          console.log(\"Bokeh: ERROR: Unable to run BokehJS code because BokehJS library is missing\");\n        }\n      }\n    }, 10, root)\n  }\n})(window);"
     },
     "metadata": {
      "application/vnd.bokehjs_exec.v0+json": {
       "id": "2142"
      }
     }
    }
   ],
   "metadata": {}
  },
  {
   "cell_type": "code",
   "execution_count": 13,
   "source": [
    "from bokeh.io import output_notebook, show, save\r\n",
    "save(obj=homework_1, filename= 'p1-1.html')"
   ],
   "outputs": [
    {
     "output_type": "stream",
     "name": "stderr",
     "text": [
      "C:\\Users\\ad\\miniconda3\\lib\\site-packages\\bokeh\\io\\saving.py:126: UserWarning: save() called but no resources were supplied and output_file(...) was never called, defaulting to resources.CDN\n",
      "  warn(\"save() called but no resources were supplied and output_file(...) was never called, defaulting to resources.CDN\")\n",
      "C:\\Users\\ad\\miniconda3\\lib\\site-packages\\bokeh\\io\\saving.py:139: UserWarning: save() called but no title was supplied and output_file(...) was never called, using default title 'Bokeh Plot'\n",
      "  warn(\"save() called but no title was supplied and output_file(...) was never called, using default title 'Bokeh Plot'\")\n"
     ]
    },
    {
     "output_type": "execute_result",
     "data": {
      "text/plain": [
       "'c:\\\\Users\\\\ad\\\\Desktop\\\\ByunUiHyeok\\\\Development\\\\Project\\\\Data Analysis\\\\2.애완동물\\\\gr_sc\\\\p1-1.html'"
      ]
     },
     "metadata": {},
     "execution_count": 13
    }
   ],
   "metadata": {}
  },
  {
   "cell_type": "code",
   "execution_count": 14,
   "source": [
    "#import itertools\r\n",
    "#from bokeh.palettes import Spectral11\r\n",
    "\r\n",
    "homework_2 = figure(plot_width=1000, plot_height=500, x_axis_type=\"datetime\",title=\"2016-2020 전국 유기동물 발생현황\")\r\n",
    "#homework_1.title.text = \"test\"\r\n",
    "\r\n",
    "homework_2.line(df2_tt.index,\r\n",
    "                df2_tt[\"누계\"],\r\n",
    "                line_width=1,\r\n",
    "                line_color=\"tomato\")\r\n",
    "\r\n",
    "homework_2.xaxis.axis_label=\"날짜\"\r\n",
    "homework_2.yaxis.axis_label=\"건수\"\r\n",
    "\r\n",
    "show(homework_2)"
   ],
   "outputs": [
    {
     "output_type": "display_data",
     "data": {
      "text/html": [
       "\n",
       "\n",
       "\n",
       "\n",
       "\n",
       "\n",
       "  <div class=\"bk-root\" id=\"6b166066-563d-481d-b30e-733bdb14b9a7\" data-root-id=\"3897\"></div>\n"
      ]
     },
     "metadata": {}
    },
    {
     "output_type": "display_data",
     "data": {
      "application/vnd.bokehjs_exec.v0+json": "",
      "application/javascript": "(function(root) {\n  function embed_document(root) {\n    \n  var docs_json = {\"638b304e-4f76-4c47-b8e9-9cdda021d9ac\":{\"defs\":[],\"roots\":{\"references\":[{\"attributes\":{\"below\":[{\"id\":\"3908\"}],\"center\":[{\"id\":\"3911\"},{\"id\":\"3915\"}],\"height\":500,\"left\":[{\"id\":\"3912\"}],\"renderers\":[{\"id\":\"3933\"}],\"title\":{\"id\":\"3898\"},\"toolbar\":{\"id\":\"3923\"},\"width\":1000,\"x_range\":{\"id\":\"3900\"},\"x_scale\":{\"id\":\"3904\"},\"y_range\":{\"id\":\"3902\"},\"y_scale\":{\"id\":\"3906\"}},\"id\":\"3897\",\"subtype\":\"Figure\",\"type\":\"Plot\"},{\"attributes\":{\"source\":{\"id\":\"3930\"}},\"id\":\"3934\",\"type\":\"CDSView\"},{\"attributes\":{},\"id\":\"4064\",\"type\":\"YearsTicker\"},{\"attributes\":{},\"id\":\"3913\",\"type\":\"BasicTicker\"},{\"attributes\":{},\"id\":\"4052\",\"type\":\"UnionRenderers\"},{\"attributes\":{},\"id\":\"3919\",\"type\":\"SaveTool\"},{\"attributes\":{\"data\":{\"x\":{\"__ndarray__\":\"AADAvacfdUIAAAAQoil1QgAAwJb3MnVCAAAA6fE8dUIAAIDVmUZ1QgAAwCeUUHVCAABAFDxadUIAAIBmNmR1QgAAwLgwbnVCAABApdh3dUIAAID30oF1QgAAAOR6i3VCAABANnWVdUIAAICIb591QgAAgKlyqHVCAADA+2yydUIAAEDoFLx1QgAAgDoPxnVCAAAAJ7fPdUIAAEB5sdl1QgAAgMur43VCAAAAuFPtdUIAAEAKTvd1QgAAwPb1AHZCAAAASfAKdkIAAECb6hR2QgAAQLztHXZCAACADugndkIAAAD7jzF2QgAAQE2KO3ZCAADAOTJFdkIAAACMLE92QgAAQN4mWXZCAADAys5idkIAAAAdyWx2QgAAgAlxdnZCAADAW2uAdkIAAACuZYp2QgAAAM9ok3ZCAABAIWOddkIAAMANC6d2QgAAAGAFsXZCAACATK26dkIAAMCep8R2QgAAAPGhznZCAACA3UnYdkIAAMAvROJ2QgAAQBzs63ZCAACAbub1dkIAAMDA4P92QgAAgEc2CXdCAADAmTATd0IAAECG2Bx3QgAAgNjSJndCAAAAxXowd0IAAEAXdTp3QgAAgGlvRHdCAAAAVhdOd0IAAECoEVh3QgAAwJS5YXdC\",\"dtype\":\"float64\",\"order\":\"little\",\"shape\":[60]},\"y\":[5017,5079,6161,7048,8650,8751,8993,8829,8597,8763,6852,5763,5581,5242,6599,7593,9845,9716,11075,11119,9981,9312,8045,6732,7334,6467,8822,9738,11991,11477,11818,11086,10903,11368,9978,7818,9176,7880,9283,11096,12370,11998,14519,13036,12873,12679,9821,8782,9871,9042,10059,9973,12578,12664,13696,12233,11163,10603,8948,7567]},\"selected\":{\"id\":\"4051\"},\"selection_policy\":{\"id\":\"4052\"}},\"id\":\"3930\",\"type\":\"ColumnDataSource\"},{\"attributes\":{\"base\":60,\"mantissas\":[1,2,5,10,15,20,30],\"max_interval\":1800000.0,\"min_interval\":1000.0,\"num_minor_ticks\":0},\"id\":\"4054\",\"type\":\"AdaptiveTicker\"},{\"attributes\":{},\"id\":\"3916\",\"type\":\"PanTool\"},{\"attributes\":{\"active_multi\":null,\"tools\":[{\"id\":\"3916\"},{\"id\":\"3917\"},{\"id\":\"3918\"},{\"id\":\"3919\"},{\"id\":\"3920\"},{\"id\":\"3921\"}]},\"id\":\"3923\",\"type\":\"Toolbar\"},{\"attributes\":{\"base\":24,\"mantissas\":[1,2,4,6,8,12],\"max_interval\":43200000.0,\"min_interval\":3600000.0,\"num_minor_ticks\":0},\"id\":\"4055\",\"type\":\"AdaptiveTicker\"},{\"attributes\":{},\"id\":\"4044\",\"type\":\"AllLabels\"},{\"attributes\":{\"bottom_units\":\"screen\",\"fill_alpha\":0.5,\"fill_color\":\"lightgrey\",\"left_units\":\"screen\",\"level\":\"overlay\",\"line_alpha\":1.0,\"line_color\":\"black\",\"line_dash\":[4,4],\"line_width\":2,\"right_units\":\"screen\",\"syncable\":false,\"top_units\":\"screen\"},\"id\":\"3922\",\"type\":\"BoxAnnotation\"},{\"attributes\":{},\"id\":\"4046\",\"type\":\"BasicTickFormatter\"},{\"attributes\":{\"axis\":{\"id\":\"3912\"},\"dimension\":1,\"ticker\":null},\"id\":\"3915\",\"type\":\"Grid\"},{\"attributes\":{\"num_minor_ticks\":5,\"tickers\":[{\"id\":\"4053\"},{\"id\":\"4054\"},{\"id\":\"4055\"},{\"id\":\"4056\"},{\"id\":\"4057\"},{\"id\":\"4058\"},{\"id\":\"4059\"},{\"id\":\"4060\"},{\"id\":\"4061\"},{\"id\":\"4062\"},{\"id\":\"4063\"},{\"id\":\"4064\"}]},\"id\":\"3909\",\"type\":\"DatetimeTicker\"},{\"attributes\":{\"months\":[0,6]},\"id\":\"4063\",\"type\":\"MonthsTicker\"},{\"attributes\":{\"months\":[0,2,4,6,8,10]},\"id\":\"4061\",\"type\":\"MonthsTicker\"},{\"attributes\":{},\"id\":\"3902\",\"type\":\"DataRange1d\"},{\"attributes\":{\"days\":[1,8,15,22]},\"id\":\"4058\",\"type\":\"DaysTicker\"},{\"attributes\":{},\"id\":\"3921\",\"type\":\"HelpTool\"},{\"attributes\":{\"months\":[0,4,8]},\"id\":\"4062\",\"type\":\"MonthsTicker\"},{\"attributes\":{\"text\":\"2016-2020 \\uc804\\uad6d \\uc720\\uae30\\ub3d9\\ubb3c \\ubc1c\\uc0dd\\ud604\\ud669\"},\"id\":\"3898\",\"type\":\"Title\"},{\"attributes\":{},\"id\":\"3920\",\"type\":\"ResetTool\"},{\"attributes\":{\"days\":[1,15]},\"id\":\"4059\",\"type\":\"DaysTicker\"},{\"attributes\":{},\"id\":\"4049\",\"type\":\"DatetimeTickFormatter\"},{\"attributes\":{\"months\":[0,1,2,3,4,5,6,7,8,9,10,11]},\"id\":\"4060\",\"type\":\"MonthsTicker\"},{\"attributes\":{\"overlay\":{\"id\":\"3922\"}},\"id\":\"3918\",\"type\":\"BoxZoomTool\"},{\"attributes\":{\"axis\":{\"id\":\"3908\"},\"ticker\":null},\"id\":\"3911\",\"type\":\"Grid\"},{\"attributes\":{},\"id\":\"4047\",\"type\":\"AllLabels\"},{\"attributes\":{\"mantissas\":[1,2,5],\"max_interval\":500.0,\"num_minor_ticks\":0},\"id\":\"4053\",\"type\":\"AdaptiveTicker\"},{\"attributes\":{\"axis_label\":\"\\uac74\\uc218\",\"formatter\":{\"id\":\"4046\"},\"major_label_policy\":{\"id\":\"4044\"},\"ticker\":{\"id\":\"3913\"}},\"id\":\"3912\",\"type\":\"LinearAxis\"},{\"attributes\":{\"axis_label\":\"\\ub0a0\\uc9dc\",\"formatter\":{\"id\":\"4049\"},\"major_label_policy\":{\"id\":\"4047\"},\"ticker\":{\"id\":\"3909\"}},\"id\":\"3908\",\"type\":\"DatetimeAxis\"},{\"attributes\":{},\"id\":\"3917\",\"type\":\"WheelZoomTool\"},{\"attributes\":{},\"id\":\"3906\",\"type\":\"LinearScale\"},{\"attributes\":{\"line_color\":\"tomato\",\"x\":{\"field\":\"x\"},\"y\":{\"field\":\"y\"}},\"id\":\"3931\",\"type\":\"Line\"},{\"attributes\":{\"data_source\":{\"id\":\"3930\"},\"glyph\":{\"id\":\"3931\"},\"hover_glyph\":null,\"muted_glyph\":null,\"nonselection_glyph\":{\"id\":\"3932\"},\"view\":{\"id\":\"3934\"}},\"id\":\"3933\",\"type\":\"GlyphRenderer\"},{\"attributes\":{\"line_alpha\":0.1,\"line_color\":\"tomato\",\"x\":{\"field\":\"x\"},\"y\":{\"field\":\"y\"}},\"id\":\"3932\",\"type\":\"Line\"},{\"attributes\":{},\"id\":\"4051\",\"type\":\"Selection\"},{\"attributes\":{\"days\":[1,2,3,4,5,6,7,8,9,10,11,12,13,14,15,16,17,18,19,20,21,22,23,24,25,26,27,28,29,30,31]},\"id\":\"4056\",\"type\":\"DaysTicker\"},{\"attributes\":{\"days\":[1,4,7,10,13,16,19,22,25,28]},\"id\":\"4057\",\"type\":\"DaysTicker\"},{\"attributes\":{},\"id\":\"3904\",\"type\":\"LinearScale\"},{\"attributes\":{},\"id\":\"3900\",\"type\":\"DataRange1d\"}],\"root_ids\":[\"3897\"]},\"title\":\"Bokeh Application\",\"version\":\"2.3.2\"}};\n  var render_items = [{\"docid\":\"638b304e-4f76-4c47-b8e9-9cdda021d9ac\",\"root_ids\":[\"3897\"],\"roots\":{\"3897\":\"6b166066-563d-481d-b30e-733bdb14b9a7\"}}];\n  root.Bokeh.embed.embed_items_notebook(docs_json, render_items);\n\n  }\n  if (root.Bokeh !== undefined) {\n    embed_document(root);\n  } else {\n    var attempts = 0;\n    var timer = setInterval(function(root) {\n      if (root.Bokeh !== undefined) {\n        clearInterval(timer);\n        embed_document(root);\n      } else {\n        attempts++;\n        if (attempts > 100) {\n          clearInterval(timer);\n          console.log(\"Bokeh: ERROR: Unable to run BokehJS code because BokehJS library is missing\");\n        }\n      }\n    }, 10, root)\n  }\n})(window);"
     },
     "metadata": {
      "application/vnd.bokehjs_exec.v0+json": {
       "id": "3897"
      }
     }
    }
   ],
   "metadata": {}
  },
  {
   "cell_type": "code",
   "execution_count": 15,
   "source": [
    "from bokeh.io import output_notebook, show, save\r\n",
    "save(obj=homework_2, filename= 'p1-1-1.html')"
   ],
   "outputs": [
    {
     "output_type": "execute_result",
     "data": {
      "text/plain": [
       "'c:\\\\Users\\\\ad\\\\Desktop\\\\ByunUiHyeok\\\\Development\\\\Project\\\\Data Analysis\\\\2.애완동물\\\\gr_sc\\\\p1-1-1.html'"
      ]
     },
     "metadata": {},
     "execution_count": 15
    }
   ],
   "metadata": {}
  },
  {
   "cell_type": "code",
   "execution_count": 53,
   "source": [
    "# homework_3 = figure(x_range=fruits, plot_height=350, title=\"2016-2020 전국 유기동물 발생현황\",\r\n",
    "#            toolbar_location=None, tools=\"\")\r\n",
    "\r\n",
    "#  homework_3 = figure(x_range=df2_tt.index[:5].astype('str').to_list(),plot_width=1000, plot_height=400,\r\n",
    "#                      title=\"2016-2020 전국 유기동물 발생현황\")\r\n",
    "homework_3 = figure(x_range=df2_tt.index.astype('str').to_list(), plot_height=400,plot_width=1000,\r\n",
    "                    title=\"2016-2020 전국 유기동물 발생현황\")\r\n",
    "#homework_3 = figure(plot_width=1000, plot_height=400, title=\"2016-2020 전국 유기동물 발생현황\")\r\n",
    "\r\n",
    "#homework_3.vbar(x=df2_tt.index,width=0.9,top=df2_tt[\"누계\"],fill_color=\"tomato\", line_color=\"tomato\", alpha=0.9)\r\n",
    "#homework_3.vbar(x=df2_tt.index[:10].astype('str').to_list(),width=0.9,top=df2_tt[\"누계\"])\r\n",
    "homework_3.vbar(x=df2_tt.index.astype('str').to_list(),width=0.5,top=df2_tt['누계'].to_list(),color=\"darkblue\")\r\n",
    "\r\n",
    "homework_3.xaxis.axis_label=\"날짜\"\r\n",
    "homework_3.yaxis.axis_label=\"건수\"\r\n",
    "\r\n",
    "#bar_chart.xaxis.ticker = [1, 2, 3]\r\n",
    "#bar_chart.xaxis.major_label_overrides = {1: 'Setosa', 2: 'Versicolor', 3: 'Virginica'}\r\n",
    "\r\n",
    "show(homework_3)"
   ],
   "outputs": [
    {
     "output_type": "display_data",
     "data": {
      "text/html": [
       "\n",
       "\n",
       "\n",
       "\n",
       "\n",
       "\n",
       "  <div class=\"bk-root\" id=\"1349d97f-bf90-4e02-b4c2-e27c466a6a39\" data-root-id=\"5954\"></div>\n"
      ]
     },
     "metadata": {}
    },
    {
     "output_type": "display_data",
     "data": {
      "application/vnd.bokehjs_exec.v0+json": "",
      "application/javascript": "(function(root) {\n  function embed_document(root) {\n    \n  var docs_json = {\"634f5550-5e97-4ddf-9e7c-51eeef3c577e\":{\"defs\":[],\"roots\":{\"references\":[{\"attributes\":{\"below\":[{\"id\":\"5965\"}],\"center\":[{\"id\":\"5967\"},{\"id\":\"5971\"}],\"height\":400,\"left\":[{\"id\":\"5968\"}],\"renderers\":[{\"id\":\"5989\"}],\"title\":{\"id\":\"5955\"},\"toolbar\":{\"id\":\"5979\"},\"width\":1000,\"x_range\":{\"id\":\"5957\"},\"x_scale\":{\"id\":\"5961\"},\"y_range\":{\"id\":\"5959\"},\"y_scale\":{\"id\":\"5963\"}},\"id\":\"5954\",\"subtype\":\"Figure\",\"type\":\"Plot\"},{\"attributes\":{},\"id\":\"5969\",\"type\":\"BasicTicker\"},{\"attributes\":{\"data\":{\"top\":[5017,5079,6161,7048,8650,8751,8993,8829,8597,8763,6852,5763,5581,5242,6599,7593,9845,9716,11075,11119,9981,9312,8045,6732,7334,6467,8822,9738,11991,11477,11818,11086,10903,11368,9978,7818,9176,7880,9283,11096,12370,11998,14519,13036,12873,12679,9821,8782,9871,9042,10059,9973,12578,12664,13696,12233,11163,10603,8948,7567],\"x\":[\"2016-01-01\",\"2016-02-01\",\"2016-03-01\",\"2016-04-01\",\"2016-05-01\",\"2016-06-01\",\"2016-07-01\",\"2016-08-01\",\"2016-09-01\",\"2016-10-01\",\"2016-11-01\",\"2016-12-01\",\"2017-01-01\",\"2017-02-01\",\"2017-03-01\",\"2017-04-01\",\"2017-05-01\",\"2017-06-01\",\"2017-07-01\",\"2017-08-01\",\"2017-09-01\",\"2017-10-01\",\"2017-11-01\",\"2017-12-01\",\"2018-01-01\",\"2018-02-01\",\"2018-03-01\",\"2018-04-01\",\"2018-05-01\",\"2018-06-01\",\"2018-07-01\",\"2018-08-01\",\"2018-09-01\",\"2018-10-01\",\"2018-11-01\",\"2018-12-01\",\"2019-01-01\",\"2019-02-01\",\"2019-03-01\",\"2019-04-01\",\"2019-05-01\",\"2019-06-01\",\"2019-07-01\",\"2019-08-01\",\"2019-09-01\",\"2019-10-01\",\"2019-11-01\",\"2019-12-01\",\"2020-01-01\",\"2020-02-01\",\"2020-03-01\",\"2020-04-01\",\"2020-05-01\",\"2020-06-01\",\"2020-07-01\",\"2020-08-01\",\"2020-09-01\",\"2020-10-01\",\"2020-11-01\",\"2020-12-01\"]},\"selected\":{\"id\":\"6211\"},\"selection_policy\":{\"id\":\"6212\"}},\"id\":\"5986\",\"type\":\"ColumnDataSource\"},{\"attributes\":{},\"id\":\"6207\",\"type\":\"BasicTickFormatter\"},{\"attributes\":{\"bottom_units\":\"screen\",\"fill_alpha\":0.5,\"fill_color\":\"lightgrey\",\"left_units\":\"screen\",\"level\":\"overlay\",\"line_alpha\":1.0,\"line_color\":\"black\",\"line_dash\":[4,4],\"line_width\":2,\"right_units\":\"screen\",\"syncable\":false,\"top_units\":\"screen\"},\"id\":\"5978\",\"type\":\"BoxAnnotation\"},{\"attributes\":{},\"id\":\"5961\",\"type\":\"CategoricalScale\"},{\"attributes\":{},\"id\":\"5975\",\"type\":\"SaveTool\"},{\"attributes\":{},\"id\":\"5977\",\"type\":\"HelpTool\"},{\"attributes\":{},\"id\":\"5976\",\"type\":\"ResetTool\"},{\"attributes\":{\"text\":\"2016-2020 \\uc804\\uad6d \\uc720\\uae30\\ub3d9\\ubb3c \\ubc1c\\uc0dd\\ud604\\ud669\"},\"id\":\"5955\",\"type\":\"Title\"},{\"attributes\":{\"fill_color\":{\"value\":\"darkblue\"},\"line_color\":{\"value\":\"darkblue\"},\"top\":{\"field\":\"top\"},\"width\":{\"value\":0.5},\"x\":{\"field\":\"x\"}},\"id\":\"5987\",\"type\":\"VBar\"},{\"attributes\":{},\"id\":\"5966\",\"type\":\"CategoricalTicker\"},{\"attributes\":{},\"id\":\"5972\",\"type\":\"PanTool\"},{\"attributes\":{\"overlay\":{\"id\":\"5978\"}},\"id\":\"5974\",\"type\":\"BoxZoomTool\"},{\"attributes\":{},\"id\":\"6208\",\"type\":\"AllLabels\"},{\"attributes\":{\"fill_alpha\":{\"value\":0.1},\"fill_color\":{\"value\":\"darkblue\"},\"line_alpha\":{\"value\":0.1},\"line_color\":{\"value\":\"darkblue\"},\"top\":{\"field\":\"top\"},\"width\":{\"value\":0.5},\"x\":{\"field\":\"x\"}},\"id\":\"5988\",\"type\":\"VBar\"},{\"attributes\":{\"axis_label\":\"\\uac74\\uc218\",\"formatter\":{\"id\":\"6207\"},\"major_label_policy\":{\"id\":\"6208\"},\"ticker\":{\"id\":\"5969\"}},\"id\":\"5968\",\"type\":\"LinearAxis\"},{\"attributes\":{\"factors\":[\"2016-01-01\",\"2016-02-01\",\"2016-03-01\",\"2016-04-01\",\"2016-05-01\",\"2016-06-01\",\"2016-07-01\",\"2016-08-01\",\"2016-09-01\",\"2016-10-01\",\"2016-11-01\",\"2016-12-01\",\"2017-01-01\",\"2017-02-01\",\"2017-03-01\",\"2017-04-01\",\"2017-05-01\",\"2017-06-01\",\"2017-07-01\",\"2017-08-01\",\"2017-09-01\",\"2017-10-01\",\"2017-11-01\",\"2017-12-01\",\"2018-01-01\",\"2018-02-01\",\"2018-03-01\",\"2018-04-01\",\"2018-05-01\",\"2018-06-01\",\"2018-07-01\",\"2018-08-01\",\"2018-09-01\",\"2018-10-01\",\"2018-11-01\",\"2018-12-01\",\"2019-01-01\",\"2019-02-01\",\"2019-03-01\",\"2019-04-01\",\"2019-05-01\",\"2019-06-01\",\"2019-07-01\",\"2019-08-01\",\"2019-09-01\",\"2019-10-01\",\"2019-11-01\",\"2019-12-01\",\"2020-01-01\",\"2020-02-01\",\"2020-03-01\",\"2020-04-01\",\"2020-05-01\",\"2020-06-01\",\"2020-07-01\",\"2020-08-01\",\"2020-09-01\",\"2020-10-01\",\"2020-11-01\",\"2020-12-01\"]},\"id\":\"5957\",\"type\":\"FactorRange\"},{\"attributes\":{\"axis\":{\"id\":\"5968\"},\"dimension\":1,\"ticker\":null},\"id\":\"5971\",\"type\":\"Grid\"},{\"attributes\":{},\"id\":\"6211\",\"type\":\"Selection\"},{\"attributes\":{\"active_multi\":null,\"tools\":[{\"id\":\"5972\"},{\"id\":\"5973\"},{\"id\":\"5974\"},{\"id\":\"5975\"},{\"id\":\"5976\"},{\"id\":\"5977\"}]},\"id\":\"5979\",\"type\":\"Toolbar\"},{\"attributes\":{},\"id\":\"5959\",\"type\":\"DataRange1d\"},{\"attributes\":{},\"id\":\"6205\",\"type\":\"AllLabels\"},{\"attributes\":{\"data_source\":{\"id\":\"5986\"},\"glyph\":{\"id\":\"5987\"},\"hover_glyph\":null,\"muted_glyph\":null,\"nonselection_glyph\":{\"id\":\"5988\"},\"view\":{\"id\":\"5990\"}},\"id\":\"5989\",\"type\":\"GlyphRenderer\"},{\"attributes\":{},\"id\":\"6212\",\"type\":\"UnionRenderers\"},{\"attributes\":{\"axis_label\":\"\\ub0a0\\uc9dc\",\"formatter\":{\"id\":\"6204\"},\"major_label_policy\":{\"id\":\"6205\"},\"ticker\":{\"id\":\"5966\"}},\"id\":\"5965\",\"type\":\"CategoricalAxis\"},{\"attributes\":{},\"id\":\"5973\",\"type\":\"WheelZoomTool\"},{\"attributes\":{},\"id\":\"6204\",\"type\":\"CategoricalTickFormatter\"},{\"attributes\":{\"axis\":{\"id\":\"5965\"},\"ticker\":null},\"id\":\"5967\",\"type\":\"Grid\"},{\"attributes\":{},\"id\":\"5963\",\"type\":\"LinearScale\"},{\"attributes\":{\"source\":{\"id\":\"5986\"}},\"id\":\"5990\",\"type\":\"CDSView\"}],\"root_ids\":[\"5954\"]},\"title\":\"Bokeh Application\",\"version\":\"2.3.2\"}};\n  var render_items = [{\"docid\":\"634f5550-5e97-4ddf-9e7c-51eeef3c577e\",\"root_ids\":[\"5954\"],\"roots\":{\"5954\":\"1349d97f-bf90-4e02-b4c2-e27c466a6a39\"}}];\n  root.Bokeh.embed.embed_items_notebook(docs_json, render_items);\n\n  }\n  if (root.Bokeh !== undefined) {\n    embed_document(root);\n  } else {\n    var attempts = 0;\n    var timer = setInterval(function(root) {\n      if (root.Bokeh !== undefined) {\n        clearInterval(timer);\n        embed_document(root);\n      } else {\n        attempts++;\n        if (attempts > 100) {\n          clearInterval(timer);\n          console.log(\"Bokeh: ERROR: Unable to run BokehJS code because BokehJS library is missing\");\n        }\n      }\n    }, 10, root)\n  }\n})(window);"
     },
     "metadata": {
      "application/vnd.bokehjs_exec.v0+json": {
       "id": "5954"
      }
     }
    }
   ],
   "metadata": {}
  },
  {
   "cell_type": "code",
   "execution_count": 16,
   "source": [
    "df2_tt.sum()\r\n",
    "df2_tt.mean(axis=1)\r\n",
    "#df2.mean(axis=1)\r\n",
    "df2_tt_mean = pd.DataFrame(data =df2_tt.mean(),columns=['평균'] )\r\n",
    "df2_tt_mean.drop('누계',axis=0,inplace=True)\r\n",
    "#df2_tt.mean()\r\n",
    "df2_tt_mean"
   ],
   "outputs": [
    {
     "output_type": "execute_result",
     "data": {
      "text/plain": [
       "              평균\n",
       "구분              \n",
       "서울    644.616667\n",
       "부산    623.933333\n",
       "대구    391.800000\n",
       "인천    533.566667\n",
       "광주    281.883333\n",
       "대전    365.083333\n",
       "울산    249.483333\n",
       "세종     32.616667\n",
       "경기   2085.633333\n",
       "강원    427.583333\n",
       "충북    347.466667\n",
       "충남    580.583333\n",
       "전북    512.983333\n",
       "전남    482.900000\n",
       "경북    579.950000\n",
       "경남    895.133333\n",
       "제주    465.666667"
      ],
      "text/html": [
       "<div>\n",
       "<style scoped>\n",
       "    .dataframe tbody tr th:only-of-type {\n",
       "        vertical-align: middle;\n",
       "    }\n",
       "\n",
       "    .dataframe tbody tr th {\n",
       "        vertical-align: top;\n",
       "    }\n",
       "\n",
       "    .dataframe thead th {\n",
       "        text-align: right;\n",
       "    }\n",
       "</style>\n",
       "<table border=\"1\" class=\"dataframe\">\n",
       "  <thead>\n",
       "    <tr style=\"text-align: right;\">\n",
       "      <th></th>\n",
       "      <th>평균</th>\n",
       "    </tr>\n",
       "    <tr>\n",
       "      <th>구분</th>\n",
       "      <th></th>\n",
       "    </tr>\n",
       "  </thead>\n",
       "  <tbody>\n",
       "    <tr>\n",
       "      <th>서울</th>\n",
       "      <td>644.616667</td>\n",
       "    </tr>\n",
       "    <tr>\n",
       "      <th>부산</th>\n",
       "      <td>623.933333</td>\n",
       "    </tr>\n",
       "    <tr>\n",
       "      <th>대구</th>\n",
       "      <td>391.800000</td>\n",
       "    </tr>\n",
       "    <tr>\n",
       "      <th>인천</th>\n",
       "      <td>533.566667</td>\n",
       "    </tr>\n",
       "    <tr>\n",
       "      <th>광주</th>\n",
       "      <td>281.883333</td>\n",
       "    </tr>\n",
       "    <tr>\n",
       "      <th>대전</th>\n",
       "      <td>365.083333</td>\n",
       "    </tr>\n",
       "    <tr>\n",
       "      <th>울산</th>\n",
       "      <td>249.483333</td>\n",
       "    </tr>\n",
       "    <tr>\n",
       "      <th>세종</th>\n",
       "      <td>32.616667</td>\n",
       "    </tr>\n",
       "    <tr>\n",
       "      <th>경기</th>\n",
       "      <td>2085.633333</td>\n",
       "    </tr>\n",
       "    <tr>\n",
       "      <th>강원</th>\n",
       "      <td>427.583333</td>\n",
       "    </tr>\n",
       "    <tr>\n",
       "      <th>충북</th>\n",
       "      <td>347.466667</td>\n",
       "    </tr>\n",
       "    <tr>\n",
       "      <th>충남</th>\n",
       "      <td>580.583333</td>\n",
       "    </tr>\n",
       "    <tr>\n",
       "      <th>전북</th>\n",
       "      <td>512.983333</td>\n",
       "    </tr>\n",
       "    <tr>\n",
       "      <th>전남</th>\n",
       "      <td>482.900000</td>\n",
       "    </tr>\n",
       "    <tr>\n",
       "      <th>경북</th>\n",
       "      <td>579.950000</td>\n",
       "    </tr>\n",
       "    <tr>\n",
       "      <th>경남</th>\n",
       "      <td>895.133333</td>\n",
       "    </tr>\n",
       "    <tr>\n",
       "      <th>제주</th>\n",
       "      <td>465.666667</td>\n",
       "    </tr>\n",
       "  </tbody>\n",
       "</table>\n",
       "</div>"
      ]
     },
     "metadata": {},
     "execution_count": 16
    }
   ],
   "metadata": {}
  },
  {
   "cell_type": "code",
   "execution_count": 17,
   "source": [
    "from bokeh.models import ColumnDataSource\r\n",
    "from bokeh.palettes import Category20_17\r\n",
    "\r\n",
    "#--------------------------------------------------------------------------------------------------------------#\r\n",
    "# homework_4 = figure(x_range=df2_tt_mean.index.to_list(), plot_height=400,\r\n",
    "#                     title=\"2016-2020 지역별 유기동물 발생현황 평균\")\r\n",
    "# homework_4.vbar(x=df2_tt_mean.index.to_list(),width=0.5,top=df2_tt_mean['평균'].to_list(),color=\"darkblue\")\r\n",
    "#--------------------------------------------------------------------------------------------------------------#\r\n",
    "# source = ColumnDataSource(data=dict(regin=df2_tt_mean.index.to_list(), avg=df2_tt_mean['평균'].to_list(), color=Category20_17))\r\n",
    "# homework_4 = figure(x_range=df2_tt_mean.index.to_list(), plot_height=400,plot_width=1000,\r\n",
    "#                     title=\"2016-2020 지역별 유기동물 발생현황 평균\")\r\n",
    "# homework_4.vbar(x=\"regin\",width=0.5,top=\"avg\",color=\"color\",legend_field=\"regin\", source=source)\r\n",
    "#homework_4.xgrid.grid_line_color = None\r\n",
    "#homework_4.legend.orientation = \"horizontal\"\r\n",
    "#homework_4.legend.location = \"top_center\"\r\n",
    "#homework_4.legend.click_policy=\"hide\"\r\n",
    "#--------------------------------------------------------------------------------------------------------------#\r\n",
    "source = ColumnDataSource(data=dict(regin=df2_tt_mean.index.to_list(), avg=df2_tt_mean['평균'].to_list(), color=Category20_17))\r\n",
    "\r\n",
    "homework_4 = figure(x_range=df2_tt_mean.index.to_list(), plot_height=400,plot_width=1000,\r\n",
    "                    title=\"2016-2020 지역별 유기동물 발생현황 평균\")\r\n",
    "homework_4.vbar(x=\"regin\",width=0.5,top=\"avg\",color=\"color\", source=source)\r\n",
    "\r\n",
    "#homework_4.xaxis.axis_label=\"날짜\"\r\n",
    "homework_4.yaxis.axis_label=\"건수\"\r\n",
    "\r\n",
    "show(homework_4)"
   ],
   "outputs": [
    {
     "output_type": "display_data",
     "data": {
      "text/html": [
       "\n",
       "\n",
       "\n",
       "\n",
       "\n",
       "\n",
       "  <div class=\"bk-root\" id=\"d66ee09e-da28-4ec7-9f76-1709445119f8\" data-root-id=\"4419\"></div>\n"
      ]
     },
     "metadata": {}
    },
    {
     "output_type": "display_data",
     "data": {
      "application/vnd.bokehjs_exec.v0+json": "",
      "application/javascript": "(function(root) {\n  function embed_document(root) {\n    \n  var docs_json = {\"b7393296-7466-4b15-9d43-145b02365865\":{\"defs\":[],\"roots\":{\"references\":[{\"attributes\":{\"below\":[{\"id\":\"4430\"}],\"center\":[{\"id\":\"4432\"},{\"id\":\"4436\"}],\"height\":400,\"left\":[{\"id\":\"4433\"}],\"renderers\":[{\"id\":\"4454\"}],\"title\":{\"id\":\"4420\"},\"toolbar\":{\"id\":\"4444\"},\"width\":1000,\"x_range\":{\"id\":\"4422\"},\"x_scale\":{\"id\":\"4426\"},\"y_range\":{\"id\":\"4424\"},\"y_scale\":{\"id\":\"4428\"}},\"id\":\"4419\",\"subtype\":\"Figure\",\"type\":\"Plot\"},{\"attributes\":{\"axis_label\":\"\\uac74\\uc218\",\"formatter\":{\"id\":\"4589\"},\"major_label_policy\":{\"id\":\"4587\"},\"ticker\":{\"id\":\"4434\"}},\"id\":\"4433\",\"type\":\"LinearAxis\"},{\"attributes\":{\"bottom_units\":\"screen\",\"fill_alpha\":0.5,\"fill_color\":\"lightgrey\",\"left_units\":\"screen\",\"level\":\"overlay\",\"line_alpha\":1.0,\"line_color\":\"black\",\"line_dash\":[4,4],\"line_width\":2,\"right_units\":\"screen\",\"syncable\":false,\"top_units\":\"screen\"},\"id\":\"4443\",\"type\":\"BoxAnnotation\"},{\"attributes\":{\"data_source\":{\"id\":\"4418\"},\"glyph\":{\"id\":\"4452\"},\"hover_glyph\":null,\"muted_glyph\":null,\"nonselection_glyph\":{\"id\":\"4453\"},\"view\":{\"id\":\"4455\"}},\"id\":\"4454\",\"type\":\"GlyphRenderer\"},{\"attributes\":{},\"id\":\"4441\",\"type\":\"ResetTool\"},{\"attributes\":{},\"id\":\"4428\",\"type\":\"LinearScale\"},{\"attributes\":{\"fill_color\":{\"field\":\"color\"},\"line_color\":{\"field\":\"color\"},\"top\":{\"field\":\"avg\"},\"width\":{\"value\":0.5},\"x\":{\"field\":\"regin\"}},\"id\":\"4452\",\"type\":\"VBar\"},{\"attributes\":{},\"id\":\"4442\",\"type\":\"HelpTool\"},{\"attributes\":{},\"id\":\"4594\",\"type\":\"Selection\"},{\"attributes\":{},\"id\":\"4595\",\"type\":\"UnionRenderers\"},{\"attributes\":{\"axis\":{\"id\":\"4433\"},\"dimension\":1,\"ticker\":null},\"id\":\"4436\",\"type\":\"Grid\"},{\"attributes\":{},\"id\":\"4426\",\"type\":\"CategoricalScale\"},{\"attributes\":{},\"id\":\"4431\",\"type\":\"CategoricalTicker\"},{\"attributes\":{},\"id\":\"4587\",\"type\":\"AllLabels\"},{\"attributes\":{},\"id\":\"4589\",\"type\":\"BasicTickFormatter\"},{\"attributes\":{},\"id\":\"4438\",\"type\":\"WheelZoomTool\"},{\"attributes\":{\"data\":{\"avg\":[644.6166666666667,623.9333333333333,391.8,533.5666666666667,281.8833333333333,365.0833333333333,249.48333333333332,32.61666666666667,2085.633333333333,427.5833333333333,347.46666666666664,580.5833333333334,512.9833333333333,482.9,579.95,895.1333333333333,465.6666666666667],\"color\":[\"#1f77b4\",\"#aec7e8\",\"#ff7f0e\",\"#ffbb78\",\"#2ca02c\",\"#98df8a\",\"#d62728\",\"#ff9896\",\"#9467bd\",\"#c5b0d5\",\"#8c564b\",\"#c49c94\",\"#e377c2\",\"#f7b6d2\",\"#7f7f7f\",\"#c7c7c7\",\"#bcbd22\"],\"regin\":[\"\\uc11c\\uc6b8 \",\"\\ubd80\\uc0b0\",\"\\ub300\\uad6c\",\"\\uc778\\ucc9c\",\"\\uad11\\uc8fc\",\"\\ub300\\uc804\",\"\\uc6b8\\uc0b0\",\"\\uc138\\uc885\",\"\\uacbd\\uae30\",\"\\uac15\\uc6d0\",\"\\ucda9\\ubd81\",\"\\ucda9\\ub0a8\",\"\\uc804\\ubd81\",\"\\uc804\\ub0a8\",\"\\uacbd\\ubd81\",\"\\uacbd\\ub0a8\",\"\\uc81c\\uc8fc\"]},\"selected\":{\"id\":\"4594\"},\"selection_policy\":{\"id\":\"4595\"}},\"id\":\"4418\",\"type\":\"ColumnDataSource\"},{\"attributes\":{\"formatter\":{\"id\":\"4592\"},\"major_label_policy\":{\"id\":\"4590\"},\"ticker\":{\"id\":\"4431\"}},\"id\":\"4430\",\"type\":\"CategoricalAxis\"},{\"attributes\":{},\"id\":\"4440\",\"type\":\"SaveTool\"},{\"attributes\":{\"overlay\":{\"id\":\"4443\"}},\"id\":\"4439\",\"type\":\"BoxZoomTool\"},{\"attributes\":{},\"id\":\"4434\",\"type\":\"BasicTicker\"},{\"attributes\":{\"text\":\"2016-2020 \\uc9c0\\uc5ed\\ubcc4 \\uc720\\uae30\\ub3d9\\ubb3c \\ubc1c\\uc0dd\\ud604\\ud669 \\ud3c9\\uade0\"},\"id\":\"4420\",\"type\":\"Title\"},{\"attributes\":{},\"id\":\"4424\",\"type\":\"DataRange1d\"},{\"attributes\":{},\"id\":\"4590\",\"type\":\"AllLabels\"},{\"attributes\":{\"axis\":{\"id\":\"4430\"},\"ticker\":null},\"id\":\"4432\",\"type\":\"Grid\"},{\"attributes\":{\"factors\":[\"\\uc11c\\uc6b8 \",\"\\ubd80\\uc0b0\",\"\\ub300\\uad6c\",\"\\uc778\\ucc9c\",\"\\uad11\\uc8fc\",\"\\ub300\\uc804\",\"\\uc6b8\\uc0b0\",\"\\uc138\\uc885\",\"\\uacbd\\uae30\",\"\\uac15\\uc6d0\",\"\\ucda9\\ubd81\",\"\\ucda9\\ub0a8\",\"\\uc804\\ubd81\",\"\\uc804\\ub0a8\",\"\\uacbd\\ubd81\",\"\\uacbd\\ub0a8\",\"\\uc81c\\uc8fc\"]},\"id\":\"4422\",\"type\":\"FactorRange\"},{\"attributes\":{\"source\":{\"id\":\"4418\"}},\"id\":\"4455\",\"type\":\"CDSView\"},{\"attributes\":{\"fill_alpha\":{\"value\":0.1},\"fill_color\":{\"field\":\"color\"},\"line_alpha\":{\"value\":0.1},\"line_color\":{\"field\":\"color\"},\"top\":{\"field\":\"avg\"},\"width\":{\"value\":0.5},\"x\":{\"field\":\"regin\"}},\"id\":\"4453\",\"type\":\"VBar\"},{\"attributes\":{},\"id\":\"4592\",\"type\":\"CategoricalTickFormatter\"},{\"attributes\":{\"active_multi\":null,\"tools\":[{\"id\":\"4437\"},{\"id\":\"4438\"},{\"id\":\"4439\"},{\"id\":\"4440\"},{\"id\":\"4441\"},{\"id\":\"4442\"}]},\"id\":\"4444\",\"type\":\"Toolbar\"},{\"attributes\":{},\"id\":\"4437\",\"type\":\"PanTool\"}],\"root_ids\":[\"4419\"]},\"title\":\"Bokeh Application\",\"version\":\"2.3.2\"}};\n  var render_items = [{\"docid\":\"b7393296-7466-4b15-9d43-145b02365865\",\"root_ids\":[\"4419\"],\"roots\":{\"4419\":\"d66ee09e-da28-4ec7-9f76-1709445119f8\"}}];\n  root.Bokeh.embed.embed_items_notebook(docs_json, render_items);\n\n  }\n  if (root.Bokeh !== undefined) {\n    embed_document(root);\n  } else {\n    var attempts = 0;\n    var timer = setInterval(function(root) {\n      if (root.Bokeh !== undefined) {\n        clearInterval(timer);\n        embed_document(root);\n      } else {\n        attempts++;\n        if (attempts > 100) {\n          clearInterval(timer);\n          console.log(\"Bokeh: ERROR: Unable to run BokehJS code because BokehJS library is missing\");\n        }\n      }\n    }, 10, root)\n  }\n})(window);"
     },
     "metadata": {
      "application/vnd.bokehjs_exec.v0+json": {
       "id": "4419"
      }
     }
    }
   ],
   "metadata": {}
  },
  {
   "cell_type": "code",
   "execution_count": 18,
   "source": [
    "from bokeh.io import output_notebook, show, save\r\n",
    "save(obj=homework_4, filename= 'p1-4.html')"
   ],
   "outputs": [
    {
     "output_type": "stream",
     "name": "stderr",
     "text": [
      "C:\\Users\\ad\\miniconda3\\lib\\site-packages\\bokeh\\io\\saving.py:126: UserWarning: save() called but no resources were supplied and output_file(...) was never called, defaulting to resources.CDN\n",
      "  warn(\"save() called but no resources were supplied and output_file(...) was never called, defaulting to resources.CDN\")\n",
      "C:\\Users\\ad\\miniconda3\\lib\\site-packages\\bokeh\\io\\saving.py:139: UserWarning: save() called but no title was supplied and output_file(...) was never called, using default title 'Bokeh Plot'\n",
      "  warn(\"save() called but no title was supplied and output_file(...) was never called, using default title 'Bokeh Plot'\")\n"
     ]
    },
    {
     "output_type": "execute_result",
     "data": {
      "text/plain": [
       "'c:\\\\Users\\\\ad\\\\Desktop\\\\ByunUiHyeok\\\\Development\\\\Project\\\\Data Analysis\\\\2.애완동물\\\\gr_sc\\\\p1-4.html'"
      ]
     },
     "metadata": {},
     "execution_count": 18
    }
   ],
   "metadata": {}
  },
  {
   "cell_type": "code",
   "execution_count": 34,
   "source": [
    "df2_tt.groupby(df2_tt.index).mean().shape"
   ],
   "outputs": [
    {
     "output_type": "execute_result",
     "data": {
      "text/plain": [
       "(60, 18)"
      ]
     },
     "metadata": {},
     "execution_count": 34
    }
   ],
   "metadata": {}
  },
  {
   "cell_type": "code",
   "execution_count": 35,
   "source": [
    "df2_tt.shape"
   ],
   "outputs": [
    {
     "output_type": "execute_result",
     "data": {
      "text/plain": [
       "(60, 18)"
      ]
     },
     "metadata": {},
     "execution_count": 35
    }
   ],
   "metadata": {}
  },
  {
   "cell_type": "code",
   "execution_count": 163,
   "source": [
    "from bokeh.layouts import row, column\r\n",
    "layout_with_widgets = column(\r\n",
    "                            column(homework_3),\r\n",
    "                            row(column(row(homework_1,homework_2))),\r\n",
    "                            row(homework_4))\r\n",
    "\r\n",
    "del(layout_with_widgets)"
   ],
   "outputs": [],
   "metadata": {}
  },
  {
   "cell_type": "code",
   "execution_count": 75,
   "source": [
    "df2"
   ],
   "outputs": [
    {
     "output_type": "execute_result",
     "data": {
      "text/plain": [
       "     구분  2016년1월  2016년2월  2016년3월  2016년4월  2016년5월  2016년6월  2016년7월  \\\n",
       "0   서울       447      443      584      770      923      884      931   \n",
       "1    부산      345      335      413      558      727      803      719   \n",
       "2    대구      196      186      244      317      486      432      440   \n",
       "3    인천      290      306      362      476      650      656      614   \n",
       "4    광주      145      148      167      178      208      231      226   \n",
       "5    대전      289      234      242      284      335      437      453   \n",
       "6    울산      125      141      190      256      369      361      274   \n",
       "7    세종       13       14       26       27       41       39       45   \n",
       "8    경기     1332     1233     1562     1777     2188     2117     2394   \n",
       "9    강원      256      250      303      299      306      345      357   \n",
       "10   충북      205      264      269      286      354      346      396   \n",
       "11   충남      191      220      391      363      414      433      418   \n",
       "12   전북      205      198      267      280      288      346      353   \n",
       "13   전남      169      175      226      211      229      218      256   \n",
       "14   경북      238      280      283      296      351      267      313   \n",
       "15   경남      413      430      467      473      544      620      616   \n",
       "16   제주      158      222      165      197      237      216      188   \n",
       "\n",
       "    2016년8월  2016년9월  ...  2020년3월  2020년4월  2020년5월  2020년6월  2020년7월  \\\n",
       "0       907      826  ...      473      472      670      685      686   \n",
       "1       673      745  ...      479      599      710      942     1004   \n",
       "2       357      403  ...      260      391      611      598      606   \n",
       "3       523      526  ...      460      498      702      662      769   \n",
       "4       191      220  ...      206      236      396      400      451   \n",
       "5       370      386  ...      230      212      352      415      428   \n",
       "6       313      323  ...      179      293      383      390      383   \n",
       "7        39       41  ...       18       31       31        8        0   \n",
       "8      2160     2046  ...     2086     1931     2722     2619     2759   \n",
       "9       461      353  ...      449      366      504      485      542   \n",
       "10      393      321  ...      430      334      467      429      428   \n",
       "11      501      452  ...      713      658      854      820      919   \n",
       "12      372      354  ...      739      688      857      811      954   \n",
       "13      302      297  ...      821      680      724      680      849   \n",
       "14      347      367  ...      816      784      834      883      923   \n",
       "15      650      680  ...     1173     1199     1222     1341     1429   \n",
       "16      270      257  ...      527      601      539      496      566   \n",
       "\n",
       "    2020년8월  2020년9월  2020년10월  2020년11월  2020년12월  \n",
       "0       632      573       520       394       322  \n",
       "1       765      694       612       483       359  \n",
       "2       507      532       469       349       247  \n",
       "3       709      639       494       442       457  \n",
       "4       395      361       314       201       201  \n",
       "5       329      265       232       194       159  \n",
       "6       291       35       307       230       157  \n",
       "7        38       46        35        30        39  \n",
       "8      2664     2304      2221      1836      1477  \n",
       "9       559      506       464       408       337  \n",
       "10      543      421       379       292       298  \n",
       "11      857      791       712       616       617  \n",
       "12      789      723       700       631       533  \n",
       "13      634      712       662       683       582  \n",
       "14      844      832       743       787       656  \n",
       "15     1217     1169      1138       961       752  \n",
       "16      460      560       601       411       374  \n",
       "\n",
       "[17 rows x 61 columns]"
      ],
      "text/html": [
       "<div>\n",
       "<style scoped>\n",
       "    .dataframe tbody tr th:only-of-type {\n",
       "        vertical-align: middle;\n",
       "    }\n",
       "\n",
       "    .dataframe tbody tr th {\n",
       "        vertical-align: top;\n",
       "    }\n",
       "\n",
       "    .dataframe thead th {\n",
       "        text-align: right;\n",
       "    }\n",
       "</style>\n",
       "<table border=\"1\" class=\"dataframe\">\n",
       "  <thead>\n",
       "    <tr style=\"text-align: right;\">\n",
       "      <th></th>\n",
       "      <th>구분</th>\n",
       "      <th>2016년1월</th>\n",
       "      <th>2016년2월</th>\n",
       "      <th>2016년3월</th>\n",
       "      <th>2016년4월</th>\n",
       "      <th>2016년5월</th>\n",
       "      <th>2016년6월</th>\n",
       "      <th>2016년7월</th>\n",
       "      <th>2016년8월</th>\n",
       "      <th>2016년9월</th>\n",
       "      <th>...</th>\n",
       "      <th>2020년3월</th>\n",
       "      <th>2020년4월</th>\n",
       "      <th>2020년5월</th>\n",
       "      <th>2020년6월</th>\n",
       "      <th>2020년7월</th>\n",
       "      <th>2020년8월</th>\n",
       "      <th>2020년9월</th>\n",
       "      <th>2020년10월</th>\n",
       "      <th>2020년11월</th>\n",
       "      <th>2020년12월</th>\n",
       "    </tr>\n",
       "  </thead>\n",
       "  <tbody>\n",
       "    <tr>\n",
       "      <th>0</th>\n",
       "      <td>서울</td>\n",
       "      <td>447</td>\n",
       "      <td>443</td>\n",
       "      <td>584</td>\n",
       "      <td>770</td>\n",
       "      <td>923</td>\n",
       "      <td>884</td>\n",
       "      <td>931</td>\n",
       "      <td>907</td>\n",
       "      <td>826</td>\n",
       "      <td>...</td>\n",
       "      <td>473</td>\n",
       "      <td>472</td>\n",
       "      <td>670</td>\n",
       "      <td>685</td>\n",
       "      <td>686</td>\n",
       "      <td>632</td>\n",
       "      <td>573</td>\n",
       "      <td>520</td>\n",
       "      <td>394</td>\n",
       "      <td>322</td>\n",
       "    </tr>\n",
       "    <tr>\n",
       "      <th>1</th>\n",
       "      <td>부산</td>\n",
       "      <td>345</td>\n",
       "      <td>335</td>\n",
       "      <td>413</td>\n",
       "      <td>558</td>\n",
       "      <td>727</td>\n",
       "      <td>803</td>\n",
       "      <td>719</td>\n",
       "      <td>673</td>\n",
       "      <td>745</td>\n",
       "      <td>...</td>\n",
       "      <td>479</td>\n",
       "      <td>599</td>\n",
       "      <td>710</td>\n",
       "      <td>942</td>\n",
       "      <td>1004</td>\n",
       "      <td>765</td>\n",
       "      <td>694</td>\n",
       "      <td>612</td>\n",
       "      <td>483</td>\n",
       "      <td>359</td>\n",
       "    </tr>\n",
       "    <tr>\n",
       "      <th>2</th>\n",
       "      <td>대구</td>\n",
       "      <td>196</td>\n",
       "      <td>186</td>\n",
       "      <td>244</td>\n",
       "      <td>317</td>\n",
       "      <td>486</td>\n",
       "      <td>432</td>\n",
       "      <td>440</td>\n",
       "      <td>357</td>\n",
       "      <td>403</td>\n",
       "      <td>...</td>\n",
       "      <td>260</td>\n",
       "      <td>391</td>\n",
       "      <td>611</td>\n",
       "      <td>598</td>\n",
       "      <td>606</td>\n",
       "      <td>507</td>\n",
       "      <td>532</td>\n",
       "      <td>469</td>\n",
       "      <td>349</td>\n",
       "      <td>247</td>\n",
       "    </tr>\n",
       "    <tr>\n",
       "      <th>3</th>\n",
       "      <td>인천</td>\n",
       "      <td>290</td>\n",
       "      <td>306</td>\n",
       "      <td>362</td>\n",
       "      <td>476</td>\n",
       "      <td>650</td>\n",
       "      <td>656</td>\n",
       "      <td>614</td>\n",
       "      <td>523</td>\n",
       "      <td>526</td>\n",
       "      <td>...</td>\n",
       "      <td>460</td>\n",
       "      <td>498</td>\n",
       "      <td>702</td>\n",
       "      <td>662</td>\n",
       "      <td>769</td>\n",
       "      <td>709</td>\n",
       "      <td>639</td>\n",
       "      <td>494</td>\n",
       "      <td>442</td>\n",
       "      <td>457</td>\n",
       "    </tr>\n",
       "    <tr>\n",
       "      <th>4</th>\n",
       "      <td>광주</td>\n",
       "      <td>145</td>\n",
       "      <td>148</td>\n",
       "      <td>167</td>\n",
       "      <td>178</td>\n",
       "      <td>208</td>\n",
       "      <td>231</td>\n",
       "      <td>226</td>\n",
       "      <td>191</td>\n",
       "      <td>220</td>\n",
       "      <td>...</td>\n",
       "      <td>206</td>\n",
       "      <td>236</td>\n",
       "      <td>396</td>\n",
       "      <td>400</td>\n",
       "      <td>451</td>\n",
       "      <td>395</td>\n",
       "      <td>361</td>\n",
       "      <td>314</td>\n",
       "      <td>201</td>\n",
       "      <td>201</td>\n",
       "    </tr>\n",
       "    <tr>\n",
       "      <th>5</th>\n",
       "      <td>대전</td>\n",
       "      <td>289</td>\n",
       "      <td>234</td>\n",
       "      <td>242</td>\n",
       "      <td>284</td>\n",
       "      <td>335</td>\n",
       "      <td>437</td>\n",
       "      <td>453</td>\n",
       "      <td>370</td>\n",
       "      <td>386</td>\n",
       "      <td>...</td>\n",
       "      <td>230</td>\n",
       "      <td>212</td>\n",
       "      <td>352</td>\n",
       "      <td>415</td>\n",
       "      <td>428</td>\n",
       "      <td>329</td>\n",
       "      <td>265</td>\n",
       "      <td>232</td>\n",
       "      <td>194</td>\n",
       "      <td>159</td>\n",
       "    </tr>\n",
       "    <tr>\n",
       "      <th>6</th>\n",
       "      <td>울산</td>\n",
       "      <td>125</td>\n",
       "      <td>141</td>\n",
       "      <td>190</td>\n",
       "      <td>256</td>\n",
       "      <td>369</td>\n",
       "      <td>361</td>\n",
       "      <td>274</td>\n",
       "      <td>313</td>\n",
       "      <td>323</td>\n",
       "      <td>...</td>\n",
       "      <td>179</td>\n",
       "      <td>293</td>\n",
       "      <td>383</td>\n",
       "      <td>390</td>\n",
       "      <td>383</td>\n",
       "      <td>291</td>\n",
       "      <td>35</td>\n",
       "      <td>307</td>\n",
       "      <td>230</td>\n",
       "      <td>157</td>\n",
       "    </tr>\n",
       "    <tr>\n",
       "      <th>7</th>\n",
       "      <td>세종</td>\n",
       "      <td>13</td>\n",
       "      <td>14</td>\n",
       "      <td>26</td>\n",
       "      <td>27</td>\n",
       "      <td>41</td>\n",
       "      <td>39</td>\n",
       "      <td>45</td>\n",
       "      <td>39</td>\n",
       "      <td>41</td>\n",
       "      <td>...</td>\n",
       "      <td>18</td>\n",
       "      <td>31</td>\n",
       "      <td>31</td>\n",
       "      <td>8</td>\n",
       "      <td>0</td>\n",
       "      <td>38</td>\n",
       "      <td>46</td>\n",
       "      <td>35</td>\n",
       "      <td>30</td>\n",
       "      <td>39</td>\n",
       "    </tr>\n",
       "    <tr>\n",
       "      <th>8</th>\n",
       "      <td>경기</td>\n",
       "      <td>1332</td>\n",
       "      <td>1233</td>\n",
       "      <td>1562</td>\n",
       "      <td>1777</td>\n",
       "      <td>2188</td>\n",
       "      <td>2117</td>\n",
       "      <td>2394</td>\n",
       "      <td>2160</td>\n",
       "      <td>2046</td>\n",
       "      <td>...</td>\n",
       "      <td>2086</td>\n",
       "      <td>1931</td>\n",
       "      <td>2722</td>\n",
       "      <td>2619</td>\n",
       "      <td>2759</td>\n",
       "      <td>2664</td>\n",
       "      <td>2304</td>\n",
       "      <td>2221</td>\n",
       "      <td>1836</td>\n",
       "      <td>1477</td>\n",
       "    </tr>\n",
       "    <tr>\n",
       "      <th>9</th>\n",
       "      <td>강원</td>\n",
       "      <td>256</td>\n",
       "      <td>250</td>\n",
       "      <td>303</td>\n",
       "      <td>299</td>\n",
       "      <td>306</td>\n",
       "      <td>345</td>\n",
       "      <td>357</td>\n",
       "      <td>461</td>\n",
       "      <td>353</td>\n",
       "      <td>...</td>\n",
       "      <td>449</td>\n",
       "      <td>366</td>\n",
       "      <td>504</td>\n",
       "      <td>485</td>\n",
       "      <td>542</td>\n",
       "      <td>559</td>\n",
       "      <td>506</td>\n",
       "      <td>464</td>\n",
       "      <td>408</td>\n",
       "      <td>337</td>\n",
       "    </tr>\n",
       "    <tr>\n",
       "      <th>10</th>\n",
       "      <td>충북</td>\n",
       "      <td>205</td>\n",
       "      <td>264</td>\n",
       "      <td>269</td>\n",
       "      <td>286</td>\n",
       "      <td>354</td>\n",
       "      <td>346</td>\n",
       "      <td>396</td>\n",
       "      <td>393</td>\n",
       "      <td>321</td>\n",
       "      <td>...</td>\n",
       "      <td>430</td>\n",
       "      <td>334</td>\n",
       "      <td>467</td>\n",
       "      <td>429</td>\n",
       "      <td>428</td>\n",
       "      <td>543</td>\n",
       "      <td>421</td>\n",
       "      <td>379</td>\n",
       "      <td>292</td>\n",
       "      <td>298</td>\n",
       "    </tr>\n",
       "    <tr>\n",
       "      <th>11</th>\n",
       "      <td>충남</td>\n",
       "      <td>191</td>\n",
       "      <td>220</td>\n",
       "      <td>391</td>\n",
       "      <td>363</td>\n",
       "      <td>414</td>\n",
       "      <td>433</td>\n",
       "      <td>418</td>\n",
       "      <td>501</td>\n",
       "      <td>452</td>\n",
       "      <td>...</td>\n",
       "      <td>713</td>\n",
       "      <td>658</td>\n",
       "      <td>854</td>\n",
       "      <td>820</td>\n",
       "      <td>919</td>\n",
       "      <td>857</td>\n",
       "      <td>791</td>\n",
       "      <td>712</td>\n",
       "      <td>616</td>\n",
       "      <td>617</td>\n",
       "    </tr>\n",
       "    <tr>\n",
       "      <th>12</th>\n",
       "      <td>전북</td>\n",
       "      <td>205</td>\n",
       "      <td>198</td>\n",
       "      <td>267</td>\n",
       "      <td>280</td>\n",
       "      <td>288</td>\n",
       "      <td>346</td>\n",
       "      <td>353</td>\n",
       "      <td>372</td>\n",
       "      <td>354</td>\n",
       "      <td>...</td>\n",
       "      <td>739</td>\n",
       "      <td>688</td>\n",
       "      <td>857</td>\n",
       "      <td>811</td>\n",
       "      <td>954</td>\n",
       "      <td>789</td>\n",
       "      <td>723</td>\n",
       "      <td>700</td>\n",
       "      <td>631</td>\n",
       "      <td>533</td>\n",
       "    </tr>\n",
       "    <tr>\n",
       "      <th>13</th>\n",
       "      <td>전남</td>\n",
       "      <td>169</td>\n",
       "      <td>175</td>\n",
       "      <td>226</td>\n",
       "      <td>211</td>\n",
       "      <td>229</td>\n",
       "      <td>218</td>\n",
       "      <td>256</td>\n",
       "      <td>302</td>\n",
       "      <td>297</td>\n",
       "      <td>...</td>\n",
       "      <td>821</td>\n",
       "      <td>680</td>\n",
       "      <td>724</td>\n",
       "      <td>680</td>\n",
       "      <td>849</td>\n",
       "      <td>634</td>\n",
       "      <td>712</td>\n",
       "      <td>662</td>\n",
       "      <td>683</td>\n",
       "      <td>582</td>\n",
       "    </tr>\n",
       "    <tr>\n",
       "      <th>14</th>\n",
       "      <td>경북</td>\n",
       "      <td>238</td>\n",
       "      <td>280</td>\n",
       "      <td>283</td>\n",
       "      <td>296</td>\n",
       "      <td>351</td>\n",
       "      <td>267</td>\n",
       "      <td>313</td>\n",
       "      <td>347</td>\n",
       "      <td>367</td>\n",
       "      <td>...</td>\n",
       "      <td>816</td>\n",
       "      <td>784</td>\n",
       "      <td>834</td>\n",
       "      <td>883</td>\n",
       "      <td>923</td>\n",
       "      <td>844</td>\n",
       "      <td>832</td>\n",
       "      <td>743</td>\n",
       "      <td>787</td>\n",
       "      <td>656</td>\n",
       "    </tr>\n",
       "    <tr>\n",
       "      <th>15</th>\n",
       "      <td>경남</td>\n",
       "      <td>413</td>\n",
       "      <td>430</td>\n",
       "      <td>467</td>\n",
       "      <td>473</td>\n",
       "      <td>544</td>\n",
       "      <td>620</td>\n",
       "      <td>616</td>\n",
       "      <td>650</td>\n",
       "      <td>680</td>\n",
       "      <td>...</td>\n",
       "      <td>1173</td>\n",
       "      <td>1199</td>\n",
       "      <td>1222</td>\n",
       "      <td>1341</td>\n",
       "      <td>1429</td>\n",
       "      <td>1217</td>\n",
       "      <td>1169</td>\n",
       "      <td>1138</td>\n",
       "      <td>961</td>\n",
       "      <td>752</td>\n",
       "    </tr>\n",
       "    <tr>\n",
       "      <th>16</th>\n",
       "      <td>제주</td>\n",
       "      <td>158</td>\n",
       "      <td>222</td>\n",
       "      <td>165</td>\n",
       "      <td>197</td>\n",
       "      <td>237</td>\n",
       "      <td>216</td>\n",
       "      <td>188</td>\n",
       "      <td>270</td>\n",
       "      <td>257</td>\n",
       "      <td>...</td>\n",
       "      <td>527</td>\n",
       "      <td>601</td>\n",
       "      <td>539</td>\n",
       "      <td>496</td>\n",
       "      <td>566</td>\n",
       "      <td>460</td>\n",
       "      <td>560</td>\n",
       "      <td>601</td>\n",
       "      <td>411</td>\n",
       "      <td>374</td>\n",
       "    </tr>\n",
       "  </tbody>\n",
       "</table>\n",
       "<p>17 rows × 61 columns</p>\n",
       "</div>"
      ]
     },
     "metadata": {},
     "execution_count": 75
    }
   ],
   "metadata": {}
  },
  {
   "cell_type": "code",
   "execution_count": 19,
   "source": [
    "df2 = df2.melt(id_vars='구분', var_name='기간', value_name='발생현황')\r\n",
    "df2['년도'] = df2['기간'].str.split('년').str.get(0)\r\n",
    "df2['월'] = df2['기간'].str.split('년').str.get(1).str.split('월').str.get(0)"
   ],
   "outputs": [],
   "metadata": {}
  },
  {
   "cell_type": "code",
   "execution_count": 20,
   "source": [
    "#sorted(df2.groupby(by=\"월\").mean().index.tolist())\r\n",
    "#df2.groupby(by=\"월\").mean()['발생현황'].tolist()\r\n",
    "\r\n",
    "df_sorted_by_values = df2.groupby(by=\"월\").mean()\r\n",
    "df_sorted_by_values.index= df_sorted_by_values.index.astype(int)\r\n",
    "df_sorted_by_values = df_sorted_by_values.sort_index()\r\n",
    "df_sorted_by_values['발생현황'].tolist()\r\n",
    "df_sorted_by_values"
   ],
   "outputs": [
    {
     "output_type": "execute_result",
     "data": {
      "text/plain": [
       "          발생현황\n",
       "월             \n",
       "1   435.047059\n",
       "2   396.588235\n",
       "3   481.458824\n",
       "4   534.682353\n",
       "5   652.164706\n",
       "6   642.423529\n",
       "7   707.070588\n",
       "8   662.388235\n",
       "9   629.611765\n",
       "10  620.294118\n",
       "11  513.458824\n",
       "12  431.317647"
      ],
      "text/html": [
       "<div>\n",
       "<style scoped>\n",
       "    .dataframe tbody tr th:only-of-type {\n",
       "        vertical-align: middle;\n",
       "    }\n",
       "\n",
       "    .dataframe tbody tr th {\n",
       "        vertical-align: top;\n",
       "    }\n",
       "\n",
       "    .dataframe thead th {\n",
       "        text-align: right;\n",
       "    }\n",
       "</style>\n",
       "<table border=\"1\" class=\"dataframe\">\n",
       "  <thead>\n",
       "    <tr style=\"text-align: right;\">\n",
       "      <th></th>\n",
       "      <th>발생현황</th>\n",
       "    </tr>\n",
       "    <tr>\n",
       "      <th>월</th>\n",
       "      <th></th>\n",
       "    </tr>\n",
       "  </thead>\n",
       "  <tbody>\n",
       "    <tr>\n",
       "      <th>1</th>\n",
       "      <td>435.047059</td>\n",
       "    </tr>\n",
       "    <tr>\n",
       "      <th>2</th>\n",
       "      <td>396.588235</td>\n",
       "    </tr>\n",
       "    <tr>\n",
       "      <th>3</th>\n",
       "      <td>481.458824</td>\n",
       "    </tr>\n",
       "    <tr>\n",
       "      <th>4</th>\n",
       "      <td>534.682353</td>\n",
       "    </tr>\n",
       "    <tr>\n",
       "      <th>5</th>\n",
       "      <td>652.164706</td>\n",
       "    </tr>\n",
       "    <tr>\n",
       "      <th>6</th>\n",
       "      <td>642.423529</td>\n",
       "    </tr>\n",
       "    <tr>\n",
       "      <th>7</th>\n",
       "      <td>707.070588</td>\n",
       "    </tr>\n",
       "    <tr>\n",
       "      <th>8</th>\n",
       "      <td>662.388235</td>\n",
       "    </tr>\n",
       "    <tr>\n",
       "      <th>9</th>\n",
       "      <td>629.611765</td>\n",
       "    </tr>\n",
       "    <tr>\n",
       "      <th>10</th>\n",
       "      <td>620.294118</td>\n",
       "    </tr>\n",
       "    <tr>\n",
       "      <th>11</th>\n",
       "      <td>513.458824</td>\n",
       "    </tr>\n",
       "    <tr>\n",
       "      <th>12</th>\n",
       "      <td>431.317647</td>\n",
       "    </tr>\n",
       "  </tbody>\n",
       "</table>\n",
       "</div>"
      ]
     },
     "metadata": {},
     "execution_count": 20
    }
   ],
   "metadata": {}
  },
  {
   "cell_type": "code",
   "execution_count": 21,
   "source": [
    "df_sorted_by_values_y = df2.groupby(by=\"년도\").mean()\r\n",
    "#df_sorted_by_values_y.index= df_sorted_by_values.index.astype(int)\r\n",
    "df_sorted_by_values_y.index.tolist()\r\n",
    "df_sorted_by_values_y.columns\r\n",
    "#df_sorted_by_values_y.tolist()"
   ],
   "outputs": [
    {
     "output_type": "execute_result",
     "data": {
      "text/plain": [
       "Index(['발생현황'], dtype='object')"
      ]
     },
     "metadata": {},
     "execution_count": 21
    }
   ],
   "metadata": {}
  },
  {
   "cell_type": "code",
   "execution_count": 22,
   "source": [
    "#import itertools\r\n",
    "#from bokeh.palettes import Spectral11\r\n",
    "\r\n",
    "homework_5 = figure(\r\n",
    "    plot_width=500, plot_height=400,\r\n",
    "    title=\"2016-2020 월별평균 전국 유기동물 발생현황\",\r\n",
    "    )\r\n",
    "    \r\n",
    "#homework_1.title.text = \"test\"\r\n",
    "\r\n",
    "homework_5.line(df_sorted_by_values.index.tolist(),\r\n",
    "                df_sorted_by_values['발생현황'].tolist(),\r\n",
    "                line_width=1,\r\n",
    "                line_color=\"tomato\")\r\n",
    "\r\n",
    "homework_5.xaxis.axis_label=\"월별 평균\"\r\n",
    "homework_5.yaxis.axis_label=\"건수\"\r\n",
    "homework_5.x_range.start = 1\r\n",
    "homework_5.x_range.end = 12\r\n",
    "homework_5.x_range.range_padding = 1\r\n",
    "show(homework_5)"
   ],
   "outputs": [
    {
     "output_type": "display_data",
     "data": {
      "text/html": [
       "\n",
       "\n",
       "\n",
       "\n",
       "\n",
       "\n",
       "  <div class=\"bk-root\" id=\"8d6a8168-385e-48ae-8aa9-55f2b7bd17ce\" data-root-id=\"4757\"></div>\n"
      ]
     },
     "metadata": {}
    },
    {
     "output_type": "display_data",
     "data": {
      "application/vnd.bokehjs_exec.v0+json": "",
      "application/javascript": "(function(root) {\n  function embed_document(root) {\n    \n  var docs_json = {\"b4be28ba-6400-4b22-a059-bfdf0a671dff\":{\"defs\":[],\"roots\":{\"references\":[{\"attributes\":{\"below\":[{\"id\":\"4768\"}],\"center\":[{\"id\":\"4771\"},{\"id\":\"4775\"}],\"height\":400,\"left\":[{\"id\":\"4772\"}],\"renderers\":[{\"id\":\"4793\"}],\"title\":{\"id\":\"4758\"},\"toolbar\":{\"id\":\"4783\"},\"width\":500,\"x_range\":{\"id\":\"4760\"},\"x_scale\":{\"id\":\"4764\"},\"y_range\":{\"id\":\"4762\"},\"y_scale\":{\"id\":\"4766\"}},\"id\":\"4757\",\"subtype\":\"Figure\",\"type\":\"Plot\"},{\"attributes\":{\"active_multi\":null,\"tools\":[{\"id\":\"4776\"},{\"id\":\"4777\"},{\"id\":\"4778\"},{\"id\":\"4779\"},{\"id\":\"4780\"},{\"id\":\"4781\"}]},\"id\":\"4783\",\"type\":\"Toolbar\"},{\"attributes\":{},\"id\":\"4779\",\"type\":\"SaveTool\"},{\"attributes\":{\"overlay\":{\"id\":\"4782\"}},\"id\":\"4778\",\"type\":\"BoxZoomTool\"},{\"attributes\":{},\"id\":\"4776\",\"type\":\"PanTool\"},{\"attributes\":{},\"id\":\"4781\",\"type\":\"HelpTool\"},{\"attributes\":{\"axis_label\":\"\\uac74\\uc218\",\"formatter\":{\"id\":\"4938\"},\"major_label_policy\":{\"id\":\"4936\"},\"ticker\":{\"id\":\"4773\"}},\"id\":\"4772\",\"type\":\"LinearAxis\"},{\"attributes\":{\"axis\":{\"id\":\"4772\"},\"dimension\":1,\"ticker\":null},\"id\":\"4775\",\"type\":\"Grid\"},{\"attributes\":{\"axis_label\":\"\\uc6d4\\ubcc4 \\ud3c9\\uade0\",\"formatter\":{\"id\":\"4941\"},\"major_label_policy\":{\"id\":\"4939\"},\"ticker\":{\"id\":\"4769\"}},\"id\":\"4768\",\"type\":\"LinearAxis\"},{\"attributes\":{\"data\":{\"x\":[1,2,3,4,5,6,7,8,9,10,11,12],\"y\":[435.0470588235294,396.5882352941176,481.45882352941175,534.6823529411764,652.1647058823529,642.4235294117647,707.0705882352942,662.3882352941176,629.6117647058824,620.2941176470588,513.4588235294118,431.3176470588235]},\"selected\":{\"id\":\"4943\"},\"selection_policy\":{\"id\":\"4944\"}},\"id\":\"4790\",\"type\":\"ColumnDataSource\"},{\"attributes\":{},\"id\":\"4944\",\"type\":\"UnionRenderers\"},{\"attributes\":{},\"id\":\"4938\",\"type\":\"BasicTickFormatter\"},{\"attributes\":{\"end\":12,\"range_padding\":1,\"start\":1},\"id\":\"4760\",\"type\":\"DataRange1d\"},{\"attributes\":{},\"id\":\"4764\",\"type\":\"LinearScale\"},{\"attributes\":{},\"id\":\"4943\",\"type\":\"Selection\"},{\"attributes\":{},\"id\":\"4762\",\"type\":\"DataRange1d\"},{\"attributes\":{\"axis\":{\"id\":\"4768\"},\"ticker\":null},\"id\":\"4771\",\"type\":\"Grid\"},{\"attributes\":{},\"id\":\"4941\",\"type\":\"BasicTickFormatter\"},{\"attributes\":{},\"id\":\"4939\",\"type\":\"AllLabels\"},{\"attributes\":{},\"id\":\"4777\",\"type\":\"WheelZoomTool\"},{\"attributes\":{},\"id\":\"4936\",\"type\":\"AllLabels\"},{\"attributes\":{\"bottom_units\":\"screen\",\"fill_alpha\":0.5,\"fill_color\":\"lightgrey\",\"left_units\":\"screen\",\"level\":\"overlay\",\"line_alpha\":1.0,\"line_color\":\"black\",\"line_dash\":[4,4],\"line_width\":2,\"right_units\":\"screen\",\"syncable\":false,\"top_units\":\"screen\"},\"id\":\"4782\",\"type\":\"BoxAnnotation\"},{\"attributes\":{\"line_alpha\":0.1,\"line_color\":\"tomato\",\"x\":{\"field\":\"x\"},\"y\":{\"field\":\"y\"}},\"id\":\"4792\",\"type\":\"Line\"},{\"attributes\":{},\"id\":\"4769\",\"type\":\"BasicTicker\"},{\"attributes\":{},\"id\":\"4780\",\"type\":\"ResetTool\"},{\"attributes\":{\"line_color\":\"tomato\",\"x\":{\"field\":\"x\"},\"y\":{\"field\":\"y\"}},\"id\":\"4791\",\"type\":\"Line\"},{\"attributes\":{\"text\":\"2016-2020 \\uc6d4\\ubcc4\\ud3c9\\uade0 \\uc804\\uad6d \\uc720\\uae30\\ub3d9\\ubb3c \\ubc1c\\uc0dd\\ud604\\ud669\"},\"id\":\"4758\",\"type\":\"Title\"},{\"attributes\":{},\"id\":\"4773\",\"type\":\"BasicTicker\"},{\"attributes\":{},\"id\":\"4766\",\"type\":\"LinearScale\"},{\"attributes\":{\"data_source\":{\"id\":\"4790\"},\"glyph\":{\"id\":\"4791\"},\"hover_glyph\":null,\"muted_glyph\":null,\"nonselection_glyph\":{\"id\":\"4792\"},\"view\":{\"id\":\"4794\"}},\"id\":\"4793\",\"type\":\"GlyphRenderer\"},{\"attributes\":{\"source\":{\"id\":\"4790\"}},\"id\":\"4794\",\"type\":\"CDSView\"}],\"root_ids\":[\"4757\"]},\"title\":\"Bokeh Application\",\"version\":\"2.3.2\"}};\n  var render_items = [{\"docid\":\"b4be28ba-6400-4b22-a059-bfdf0a671dff\",\"root_ids\":[\"4757\"],\"roots\":{\"4757\":\"8d6a8168-385e-48ae-8aa9-55f2b7bd17ce\"}}];\n  root.Bokeh.embed.embed_items_notebook(docs_json, render_items);\n\n  }\n  if (root.Bokeh !== undefined) {\n    embed_document(root);\n  } else {\n    var attempts = 0;\n    var timer = setInterval(function(root) {\n      if (root.Bokeh !== undefined) {\n        clearInterval(timer);\n        embed_document(root);\n      } else {\n        attempts++;\n        if (attempts > 100) {\n          clearInterval(timer);\n          console.log(\"Bokeh: ERROR: Unable to run BokehJS code because BokehJS library is missing\");\n        }\n      }\n    }, 10, root)\n  }\n})(window);"
     },
     "metadata": {
      "application/vnd.bokehjs_exec.v0+json": {
       "id": "4757"
      }
     }
    }
   ],
   "metadata": {}
  },
  {
   "cell_type": "code",
   "execution_count": 23,
   "source": [
    "from bokeh.io import output_notebook, show, save\r\n",
    "save(obj=homework_5, filename= 'p1-2.html')"
   ],
   "outputs": [
    {
     "output_type": "stream",
     "name": "stderr",
     "text": [
      "C:\\Users\\ad\\miniconda3\\lib\\site-packages\\bokeh\\io\\saving.py:126: UserWarning: save() called but no resources were supplied and output_file(...) was never called, defaulting to resources.CDN\n",
      "  warn(\"save() called but no resources were supplied and output_file(...) was never called, defaulting to resources.CDN\")\n",
      "C:\\Users\\ad\\miniconda3\\lib\\site-packages\\bokeh\\io\\saving.py:139: UserWarning: save() called but no title was supplied and output_file(...) was never called, using default title 'Bokeh Plot'\n",
      "  warn(\"save() called but no title was supplied and output_file(...) was never called, using default title 'Bokeh Plot'\")\n"
     ]
    },
    {
     "output_type": "execute_result",
     "data": {
      "text/plain": [
       "'c:\\\\Users\\\\ad\\\\Desktop\\\\ByunUiHyeok\\\\Development\\\\Project\\\\Data Analysis\\\\2.애완동물\\\\gr_sc\\\\p1-2.html'"
      ]
     },
     "metadata": {},
     "execution_count": 23
    }
   ],
   "metadata": {}
  },
  {
   "cell_type": "code",
   "execution_count": 24,
   "source": [
    "#import itertools\r\n",
    "#from bokeh.palettes import Spectral11\r\n",
    "\r\n",
    "homework_6 = figure(\r\n",
    "    plot_width=500, plot_height=400,\r\n",
    "    title=\"2016-2020 년별 평균 전국 유기동물 발생현황\",\r\n",
    "    )\r\n",
    "    \r\n",
    "#homework_1.title.text = \"test\"\r\n",
    "\r\n",
    "homework_6.line(df_sorted_by_values_y.index.tolist(),\r\n",
    "                df_sorted_by_values_y['발생현황'].tolist(),\r\n",
    "                line_width=1,\r\n",
    "                line_color=\"tomato\")\r\n",
    "\r\n",
    "homework_6.xaxis.axis_label=\"년별 평균\"\r\n",
    "homework_6.yaxis.axis_label=\"건수\"\r\n",
    "#homework_6.x_range.start = 1\r\n",
    "#homework_6.x_range.end = 12\r\n",
    "#homework_5.x_range.range_padding = 1\r\n",
    "show(homework_6)"
   ],
   "outputs": [
    {
     "output_type": "display_data",
     "data": {
      "text/html": [
       "\n",
       "\n",
       "\n",
       "\n",
       "\n",
       "\n",
       "  <div class=\"bk-root\" id=\"a633a0ca-6c10-4f13-a19d-1ecd1a353a35\" data-root-id=\"5106\"></div>\n"
      ]
     },
     "metadata": {}
    },
    {
     "output_type": "display_data",
     "data": {
      "application/vnd.bokehjs_exec.v0+json": "",
      "application/javascript": "(function(root) {\n  function embed_document(root) {\n    \n  var docs_json = {\"3d5c5e06-52c8-4625-acb7-b1221dc08244\":{\"defs\":[],\"roots\":{\"references\":[{\"attributes\":{\"below\":[{\"id\":\"5117\"}],\"center\":[{\"id\":\"5120\"},{\"id\":\"5124\"}],\"height\":400,\"left\":[{\"id\":\"5121\"}],\"renderers\":[{\"id\":\"5142\"}],\"title\":{\"id\":\"5107\"},\"toolbar\":{\"id\":\"5132\"},\"width\":500,\"x_range\":{\"id\":\"5109\"},\"x_scale\":{\"id\":\"5113\"},\"y_range\":{\"id\":\"5111\"},\"y_scale\":{\"id\":\"5115\"}},\"id\":\"5106\",\"subtype\":\"Figure\",\"type\":\"Plot\"},{\"attributes\":{\"bottom_units\":\"screen\",\"fill_alpha\":0.5,\"fill_color\":\"lightgrey\",\"left_units\":\"screen\",\"level\":\"overlay\",\"line_alpha\":1.0,\"line_color\":\"black\",\"line_dash\":[4,4],\"line_width\":2,\"right_units\":\"screen\",\"syncable\":false,\"top_units\":\"screen\"},\"id\":\"5131\",\"type\":\"BoxAnnotation\"},{\"attributes\":{\"data\":{\"x\":[\"2016\",\"2017\",\"2018\",\"2019\",\"2020\"],\"y\":[433.8382352941176,494.3137254901961,582.3529411764706,654.4754901960785,629.3970588235294]},\"selected\":{\"id\":\"5302\"},\"selection_policy\":{\"id\":\"5303\"}},\"id\":\"5139\",\"type\":\"ColumnDataSource\"},{\"attributes\":{\"axis\":{\"id\":\"5117\"},\"ticker\":null},\"id\":\"5120\",\"type\":\"Grid\"},{\"attributes\":{},\"id\":\"5118\",\"type\":\"BasicTicker\"},{\"attributes\":{},\"id\":\"5297\",\"type\":\"BasicTickFormatter\"},{\"attributes\":{\"line_color\":\"tomato\",\"x\":{\"field\":\"x\"},\"y\":{\"field\":\"y\"}},\"id\":\"5140\",\"type\":\"Line\"},{\"attributes\":{},\"id\":\"5303\",\"type\":\"UnionRenderers\"},{\"attributes\":{\"axis_label\":\"\\uac74\\uc218\",\"formatter\":{\"id\":\"5297\"},\"major_label_policy\":{\"id\":\"5295\"},\"ticker\":{\"id\":\"5122\"}},\"id\":\"5121\",\"type\":\"LinearAxis\"},{\"attributes\":{},\"id\":\"5111\",\"type\":\"DataRange1d\"},{\"attributes\":{\"source\":{\"id\":\"5139\"}},\"id\":\"5143\",\"type\":\"CDSView\"},{\"attributes\":{\"axis_label\":\"\\ub144\\ubcc4 \\ud3c9\\uade0\",\"formatter\":{\"id\":\"5300\"},\"major_label_policy\":{\"id\":\"5298\"},\"ticker\":{\"id\":\"5118\"}},\"id\":\"5117\",\"type\":\"LinearAxis\"},{\"attributes\":{},\"id\":\"5113\",\"type\":\"LinearScale\"},{\"attributes\":{},\"id\":\"5109\",\"type\":\"DataRange1d\"},{\"attributes\":{},\"id\":\"5115\",\"type\":\"LinearScale\"},{\"attributes\":{\"data_source\":{\"id\":\"5139\"},\"glyph\":{\"id\":\"5140\"},\"hover_glyph\":null,\"muted_glyph\":null,\"nonselection_glyph\":{\"id\":\"5141\"},\"view\":{\"id\":\"5143\"}},\"id\":\"5142\",\"type\":\"GlyphRenderer\"},{\"attributes\":{},\"id\":\"5125\",\"type\":\"PanTool\"},{\"attributes\":{\"text\":\"2016-2020 \\ub144\\ubcc4 \\ud3c9\\uade0 \\uc804\\uad6d \\uc720\\uae30\\ub3d9\\ubb3c \\ubc1c\\uc0dd\\ud604\\ud669\"},\"id\":\"5107\",\"type\":\"Title\"},{\"attributes\":{\"line_alpha\":0.1,\"line_color\":\"tomato\",\"x\":{\"field\":\"x\"},\"y\":{\"field\":\"y\"}},\"id\":\"5141\",\"type\":\"Line\"},{\"attributes\":{},\"id\":\"5129\",\"type\":\"ResetTool\"},{\"attributes\":{\"active_multi\":null,\"tools\":[{\"id\":\"5125\"},{\"id\":\"5126\"},{\"id\":\"5127\"},{\"id\":\"5128\"},{\"id\":\"5129\"},{\"id\":\"5130\"}]},\"id\":\"5132\",\"type\":\"Toolbar\"},{\"attributes\":{},\"id\":\"5128\",\"type\":\"SaveTool\"},{\"attributes\":{},\"id\":\"5298\",\"type\":\"AllLabels\"},{\"attributes\":{\"overlay\":{\"id\":\"5131\"}},\"id\":\"5127\",\"type\":\"BoxZoomTool\"},{\"attributes\":{},\"id\":\"5126\",\"type\":\"WheelZoomTool\"},{\"attributes\":{\"axis\":{\"id\":\"5121\"},\"dimension\":1,\"ticker\":null},\"id\":\"5124\",\"type\":\"Grid\"},{\"attributes\":{},\"id\":\"5295\",\"type\":\"AllLabels\"},{\"attributes\":{},\"id\":\"5122\",\"type\":\"BasicTicker\"},{\"attributes\":{},\"id\":\"5300\",\"type\":\"BasicTickFormatter\"},{\"attributes\":{},\"id\":\"5130\",\"type\":\"HelpTool\"},{\"attributes\":{},\"id\":\"5302\",\"type\":\"Selection\"}],\"root_ids\":[\"5106\"]},\"title\":\"Bokeh Application\",\"version\":\"2.3.2\"}};\n  var render_items = [{\"docid\":\"3d5c5e06-52c8-4625-acb7-b1221dc08244\",\"root_ids\":[\"5106\"],\"roots\":{\"5106\":\"a633a0ca-6c10-4f13-a19d-1ecd1a353a35\"}}];\n  root.Bokeh.embed.embed_items_notebook(docs_json, render_items);\n\n  }\n  if (root.Bokeh !== undefined) {\n    embed_document(root);\n  } else {\n    var attempts = 0;\n    var timer = setInterval(function(root) {\n      if (root.Bokeh !== undefined) {\n        clearInterval(timer);\n        embed_document(root);\n      } else {\n        attempts++;\n        if (attempts > 100) {\n          clearInterval(timer);\n          console.log(\"Bokeh: ERROR: Unable to run BokehJS code because BokehJS library is missing\");\n        }\n      }\n    }, 10, root)\n  }\n})(window);"
     },
     "metadata": {
      "application/vnd.bokehjs_exec.v0+json": {
       "id": "5106"
      }
     }
    }
   ],
   "metadata": {}
  },
  {
   "cell_type": "code",
   "execution_count": 25,
   "source": [
    "from bokeh.io import output_notebook, show, save\r\n",
    "save(obj=homework_6, filename= 'p1-3.html')"
   ],
   "outputs": [
    {
     "output_type": "stream",
     "name": "stderr",
     "text": [
      "C:\\Users\\ad\\miniconda3\\lib\\site-packages\\bokeh\\io\\saving.py:126: UserWarning: save() called but no resources were supplied and output_file(...) was never called, defaulting to resources.CDN\n",
      "  warn(\"save() called but no resources were supplied and output_file(...) was never called, defaulting to resources.CDN\")\n",
      "C:\\Users\\ad\\miniconda3\\lib\\site-packages\\bokeh\\io\\saving.py:139: UserWarning: save() called but no title was supplied and output_file(...) was never called, using default title 'Bokeh Plot'\n",
      "  warn(\"save() called but no title was supplied and output_file(...) was never called, using default title 'Bokeh Plot'\")\n"
     ]
    },
    {
     "output_type": "execute_result",
     "data": {
      "text/plain": [
       "'c:\\\\Users\\\\ad\\\\Desktop\\\\ByunUiHyeok\\\\Development\\\\Project\\\\Data Analysis\\\\2.애완동물\\\\gr_sc\\\\p1-3.html'"
      ]
     },
     "metadata": {},
     "execution_count": 25
    }
   ],
   "metadata": {}
  },
  {
   "cell_type": "code",
   "execution_count": 26,
   "source": [
    "from bokeh.layouts import row, column\r\n",
    "layout_with_widgets = column(\r\n",
    "                            column(homework_1),\r\n",
    "                            row(column(row(homework_5,homework_6))),\r\n",
    "                            row(homework_4))\r\n",
    "\r\n",
    "#del(layout_with_widgets)\r\n",
    "show(layout_with_widgets)\r\n",
    "from bokeh.io import output_notebook, show, save\r\n",
    "save(obj=layout_with_widgets, filename= 'p1_tot_test.html')"
   ],
   "outputs": [
    {
     "output_type": "display_data",
     "data": {
      "text/html": [
       "\n",
       "\n",
       "\n",
       "\n",
       "\n",
       "\n",
       "  <div class=\"bk-root\" id=\"598cb500-8815-421c-a373-accf267334ff\" data-root-id=\"5470\"></div>\n"
      ]
     },
     "metadata": {}
    },
    {
     "output_type": "display_data",
     "data": {
      "application/vnd.bokehjs_exec.v0+json": "",
      "application/javascript": "(function(root) {\n  function embed_document(root) {\n    \n  var docs_json = {\"636d4e6d-860c-4733-8f75-2cdd52b8f570\":{\"defs\":[],\"roots\":{\"references\":[{\"attributes\":{\"children\":[{\"id\":\"5465\"},{\"id\":\"5468\"},{\"id\":\"5469\"}]},\"id\":\"5470\",\"type\":\"Column\"},{\"attributes\":{\"bottom_units\":\"screen\",\"fill_alpha\":0.5,\"fill_color\":\"lightgrey\",\"left_units\":\"screen\",\"level\":\"overlay\",\"line_alpha\":1.0,\"line_color\":\"black\",\"line_dash\":[4,4],\"line_width\":2,\"right_units\":\"screen\",\"syncable\":false,\"top_units\":\"screen\"},\"id\":\"4443\",\"type\":\"BoxAnnotation\"},{\"attributes\":{\"line_alpha\":0.1,\"line_color\":\"#e6f598\",\"line_width\":0.8,\"x\":{\"field\":\"x\"},\"y\":{\"field\":\"y\"}},\"id\":\"2646\",\"type\":\"Line\"},{\"attributes\":{\"fill_color\":{\"field\":\"color\"},\"line_color\":{\"field\":\"color\"},\"top\":{\"field\":\"avg\"},\"width\":{\"value\":0.5},\"x\":{\"field\":\"regin\"}},\"id\":\"4452\",\"type\":\"VBar\"},{\"attributes\":{\"data_source\":{\"id\":\"2806\"},\"glyph\":{\"id\":\"2807\"},\"hover_glyph\":null,\"muted_glyph\":null,\"nonselection_glyph\":{\"id\":\"2808\"},\"view\":{\"id\":\"2810\"}},\"id\":\"2809\",\"type\":\"GlyphRenderer\"},{\"attributes\":{\"data\":{\"x\":{\"__ndarray__\":\"AADAvacfdUIAAAAQoil1QgAAwJb3MnVCAAAA6fE8dUIAAIDVmUZ1QgAAwCeUUHVCAABAFDxadUIAAIBmNmR1QgAAwLgwbnVCAABApdh3dUIAAID30oF1QgAAAOR6i3VCAABANnWVdUIAAICIb591QgAAgKlyqHVCAADA+2yydUIAAEDoFLx1QgAAgDoPxnVCAAAAJ7fPdUIAAEB5sdl1QgAAgMur43VCAAAAuFPtdUIAAEAKTvd1QgAAwPb1AHZCAAAASfAKdkIAAECb6hR2QgAAQLztHXZCAACADugndkIAAAD7jzF2QgAAQE2KO3ZCAADAOTJFdkIAAACMLE92QgAAQN4mWXZCAADAys5idkIAAAAdyWx2QgAAgAlxdnZCAADAW2uAdkIAAACuZYp2QgAAAM9ok3ZCAABAIWOddkIAAMANC6d2QgAAAGAFsXZCAACATK26dkIAAMCep8R2QgAAAPGhznZCAACA3UnYdkIAAMAvROJ2QgAAQBzs63ZCAACAbub1dkIAAMDA4P92QgAAgEc2CXdCAADAmTATd0IAAECG2Bx3QgAAgNjSJndCAAAAxXowd0IAAEAXdTp3QgAAgGlvRHdCAAAAVhdOd0IAAECoEVh3QgAAwJS5YXdC\",\"dtype\":\"float64\",\"order\":\"little\",\"shape\":[60]},\"y\":[196,186,244,317,486,432,440,357,403,443,274,225,203,193,232,336,498,522,441,388,412,389,333,239,200,242,307,375,527,558,515,476,493,459,394,262,253,256,310,469,652,552,665,497,540,582,389,304,276,196,260,391,611,598,606,507,532,469,349,247]},\"selected\":{\"id\":\"2251\"},\"selection_policy\":{\"id\":\"2252\"}},\"id\":\"2234\",\"type\":\"ColumnDataSource\"},{\"attributes\":{\"end\":12,\"range_padding\":1,\"start\":1},\"id\":\"4760\",\"type\":\"DataRange1d\"},{\"attributes\":{},\"id\":\"5303\",\"type\":\"UnionRenderers\"},{\"attributes\":{\"data\":{\"x\":{\"__ndarray__\":\"AADAvacfdUIAAAAQoil1QgAAwJb3MnVCAAAA6fE8dUIAAIDVmUZ1QgAAwCeUUHVCAABAFDxadUIAAIBmNmR1QgAAwLgwbnVCAABApdh3dUIAAID30oF1QgAAAOR6i3VCAABANnWVdUIAAICIb591QgAAgKlyqHVCAADA+2yydUIAAEDoFLx1QgAAgDoPxnVCAAAAJ7fPdUIAAEB5sdl1QgAAgMur43VCAAAAuFPtdUIAAEAKTvd1QgAAwPb1AHZCAAAASfAKdkIAAECb6hR2QgAAQLztHXZCAACADugndkIAAAD7jzF2QgAAQE2KO3ZCAADAOTJFdkIAAACMLE92QgAAQN4mWXZCAADAys5idkIAAAAdyWx2QgAAgAlxdnZCAADAW2uAdkIAAACuZYp2QgAAAM9ok3ZCAABAIWOddkIAAMANC6d2QgAAAGAFsXZCAACATK26dkIAAMCep8R2QgAAAPGhznZCAACA3UnYdkIAAMAvROJ2QgAAQBzs63ZCAACAbub1dkIAAMDA4P92QgAAgEc2CXdCAADAmTATd0IAAECG2Bx3QgAAgNjSJndCAAAAxXowd0IAAEAXdTp3QgAAgGlvRHdCAAAAVhdOd0IAAECoEVh3QgAAwJS5YXdC\",\"dtype\":\"float64\",\"order\":\"little\",\"shape\":[60]},\"y\":[256,250,303,299,306,345,357,461,353,391,346,262,270,339,307,361,439,443,523,582,453,375,377,278,361,305,408,424,419,420,535,529,485,450,519,457,446,407,419,504,579,522,680,628,635,552,448,359,443,425,449,366,504,485,542,559,506,464,408,337]},\"selected\":{\"id\":\"2531\"},\"selection_policy\":{\"id\":\"2532\"}},\"id\":\"2500\",\"type\":\"ColumnDataSource\"},{\"attributes\":{},\"id\":\"4594\",\"type\":\"Selection\"},{\"attributes\":{},\"id\":\"4595\",\"type\":\"UnionRenderers\"},{\"attributes\":{\"data\":{\"x\":{\"__ndarray__\":\"AADAvacfdUIAAAAQoil1QgAAwJb3MnVCAAAA6fE8dUIAAIDVmUZ1QgAAwCeUUHVCAABAFDxadUIAAIBmNmR1QgAAwLgwbnVCAABApdh3dUIAAID30oF1QgAAAOR6i3VCAABANnWVdUIAAICIb591QgAAgKlyqHVCAADA+2yydUIAAEDoFLx1QgAAgDoPxnVCAAAAJ7fPdUIAAEB5sdl1QgAAgMur43VCAAAAuFPtdUIAAEAKTvd1QgAAwPb1AHZCAAAASfAKdkIAAECb6hR2QgAAQLztHXZCAACADugndkIAAAD7jzF2QgAAQE2KO3ZCAADAOTJFdkIAAACMLE92QgAAQN4mWXZCAADAys5idkIAAAAdyWx2QgAAgAlxdnZCAADAW2uAdkIAAACuZYp2QgAAAM9ok3ZCAABAIWOddkIAAMANC6d2QgAAAGAFsXZCAACATK26dkIAAMCep8R2QgAAAPGhznZCAACA3UnYdkIAAMAvROJ2QgAAQBzs63ZCAACAbub1dkIAAMDA4P92QgAAgEc2CXdCAADAmTATd0IAAECG2Bx3QgAAgNjSJndCAAAAxXowd0IAAEAXdTp3QgAAgGlvRHdCAAAAVhdOd0IAAECoEVh3QgAAwJS5YXdC\",\"dtype\":\"float64\",\"order\":\"little\",\"shape\":[60]},\"y\":[289,234,242,284,335,437,453,370,386,411,333,237,232,188,286,288,452,409,487,513,491,450,378,324,270,291,335,428,595,615,608,519,519,533,386,234,421,249,317,384,529,483,489,423,436,518,342,255,202,199,230,212,352,415,428,329,265,232,194,159]},\"selected\":{\"id\":\"2359\"},\"selection_policy\":{\"id\":\"2360\"}},\"id\":\"2336\",\"type\":\"ColumnDataSource\"},{\"attributes\":{\"data\":{\"x\":{\"__ndarray__\":\"AADAvacfdUIAAAAQoil1QgAAwJb3MnVCAAAA6fE8dUIAAIDVmUZ1QgAAwCeUUHVCAABAFDxadUIAAIBmNmR1QgAAwLgwbnVCAABApdh3dUIAAID30oF1QgAAAOR6i3VCAABANnWVdUIAAICIb591QgAAgKlyqHVCAADA+2yydUIAAEDoFLx1QgAAgDoPxnVCAAAAJ7fPdUIAAEB5sdl1QgAAgMur43VCAAAAuFPtdUIAAEAKTvd1QgAAwPb1AHZCAAAASfAKdkIAAECb6hR2QgAAQLztHXZCAACADugndkIAAAD7jzF2QgAAQE2KO3ZCAADAOTJFdkIAAACMLE92QgAAQN4mWXZCAADAys5idkIAAAAdyWx2QgAAgAlxdnZCAADAW2uAdkIAAACuZYp2QgAAAM9ok3ZCAABAIWOddkIAAMANC6d2QgAAAGAFsXZCAACATK26dkIAAMCep8R2QgAAAPGhznZCAACA3UnYdkIAAMAvROJ2QgAAQBzs63ZCAACAbub1dkIAAMDA4P92QgAAgEc2CXdCAADAmTATd0IAAECG2Bx3QgAAgNjSJndCAAAAxXowd0IAAEAXdTp3QgAAgGlvRHdCAAAAVhdOd0IAAECoEVh3QgAAwJS5YXdC\",\"dtype\":\"float64\",\"order\":\"little\",\"shape\":[60]},\"y\":[169,175,226,211,229,218,256,302,297,270,228,171,194,176,272,317,359,381,512,471,402,436,393,301,387,295,438,514,642,525,544,518,602,496,523,379,531,484,592,639,654,618,758,675,705,716,634,698,686,728,821,680,724,680,849,634,712,662,683,582]},\"selected\":{\"id\":\"2735\"},\"selection_policy\":{\"id\":\"2736\"}},\"id\":\"2696\",\"type\":\"ColumnDataSource\"},{\"attributes\":{\"line_alpha\":0.1,\"line_color\":\"lime\",\"line_width\":0.8,\"x\":{\"field\":\"x\"},\"y\":{\"field\":\"y\"}},\"id\":\"2236\",\"type\":\"Line\"},{\"attributes\":{\"line_color\":\"lime\",\"line_width\":0.8,\"x\":{\"field\":\"x\"},\"y\":{\"field\":\"y\"}},\"id\":\"2235\",\"type\":\"Line\"},{\"attributes\":{\"data\":{\"x\":{\"__ndarray__\":\"AADAvacfdUIAAAAQoil1QgAAwJb3MnVCAAAA6fE8dUIAAIDVmUZ1QgAAwCeUUHVCAABAFDxadUIAAIBmNmR1QgAAwLgwbnVCAABApdh3dUIAAID30oF1QgAAAOR6i3VCAABANnWVdUIAAICIb591QgAAgKlyqHVCAADA+2yydUIAAEDoFLx1QgAAgDoPxnVCAAAAJ7fPdUIAAEB5sdl1QgAAgMur43VCAAAAuFPtdUIAAEAKTvd1QgAAwPb1AHZCAAAASfAKdkIAAECb6hR2QgAAQLztHXZCAACADugndkIAAAD7jzF2QgAAQE2KO3ZCAADAOTJFdkIAAACMLE92QgAAQN4mWXZCAADAys5idkIAAAAdyWx2QgAAgAlxdnZCAADAW2uAdkIAAACuZYp2QgAAAM9ok3ZCAABAIWOddkIAAMANC6d2QgAAAGAFsXZCAACATK26dkIAAMCep8R2QgAAAPGhznZCAACA3UnYdkIAAMAvROJ2QgAAQBzs63ZCAACAbub1dkIAAMDA4P92QgAAgEc2CXdCAADAmTATd0IAAECG2Bx3QgAAgNjSJndCAAAAxXowd0IAAEAXdTp3QgAAgGlvRHdCAAAAVhdOd0IAAECoEVh3QgAAwJS5YXdC\",\"dtype\":\"float64\",\"order\":\"little\",\"shape\":[60]},\"y\":[290,306,362,476,650,656,614,523,526,528,405,285,322,274,379,477,685,638,714,609,576,585,456,359,361,343,517,548,797,784,764,647,650,592,505,366,384,376,455,606,641,725,791,658,671,653,468,371,413,401,460,498,702,662,769,709,639,494,442,457]},\"selected\":{\"id\":\"2285\"},\"selection_policy\":{\"id\":\"2286\"}},\"id\":\"2266\",\"type\":\"ColumnDataSource\"},{\"attributes\":{},\"id\":\"4777\",\"type\":\"WheelZoomTool\"},{\"attributes\":{\"data_source\":{\"id\":\"2234\"},\"glyph\":{\"id\":\"2235\"},\"hover_glyph\":null,\"muted_glyph\":null,\"nonselection_glyph\":{\"id\":\"2236\"},\"view\":{\"id\":\"2238\"}},\"id\":\"2237\",\"type\":\"GlyphRenderer\"},{\"attributes\":{\"data\":{\"avg\":[644.6166666666667,623.9333333333333,391.8,533.5666666666667,281.8833333333333,365.0833333333333,249.48333333333332,32.61666666666667,2085.633333333333,427.5833333333333,347.46666666666664,580.5833333333334,512.9833333333333,482.9,579.95,895.1333333333333,465.6666666666667],\"color\":[\"#1f77b4\",\"#aec7e8\",\"#ff7f0e\",\"#ffbb78\",\"#2ca02c\",\"#98df8a\",\"#d62728\",\"#ff9896\",\"#9467bd\",\"#c5b0d5\",\"#8c564b\",\"#c49c94\",\"#e377c2\",\"#f7b6d2\",\"#7f7f7f\",\"#c7c7c7\",\"#bcbd22\"],\"regin\":[\"\\uc11c\\uc6b8 \",\"\\ubd80\\uc0b0\",\"\\ub300\\uad6c\",\"\\uc778\\ucc9c\",\"\\uad11\\uc8fc\",\"\\ub300\\uc804\",\"\\uc6b8\\uc0b0\",\"\\uc138\\uc885\",\"\\uacbd\\uae30\",\"\\uac15\\uc6d0\",\"\\ucda9\\ubd81\",\"\\ucda9\\ub0a8\",\"\\uc804\\ubd81\",\"\\uc804\\ub0a8\",\"\\uacbd\\ubd81\",\"\\uacbd\\ub0a8\",\"\\uc81c\\uc8fc\"]},\"selected\":{\"id\":\"4594\"},\"selection_policy\":{\"id\":\"4595\"}},\"id\":\"4418\",\"type\":\"ColumnDataSource\"},{\"attributes\":{\"source\":{\"id\":\"2336\"}},\"id\":\"2340\",\"type\":\"CDSView\"},{\"attributes\":{\"label\":{\"value\":\"\\ub300\\uc804\"},\"renderers\":[{\"id\":\"2339\"}]},\"id\":\"2373\",\"type\":\"LegendItem\"},{\"attributes\":{\"source\":{\"id\":\"2234\"}},\"id\":\"2238\",\"type\":\"CDSView\"},{\"attributes\":{\"line_alpha\":0.1,\"line_color\":\"green\",\"line_width\":0.8,\"x\":{\"field\":\"x\"},\"y\":{\"field\":\"y\"}},\"id\":\"2338\",\"type\":\"Line\"},{\"attributes\":{\"line_color\":\"tomato\",\"x\":{\"field\":\"x\"},\"y\":{\"field\":\"y\"}},\"id\":\"4791\",\"type\":\"Line\"},{\"attributes\":{\"line_color\":\"green\",\"line_width\":0.8,\"x\":{\"field\":\"x\"},\"y\":{\"field\":\"y\"}},\"id\":\"2337\",\"type\":\"Line\"},{\"attributes\":{\"line_alpha\":0.1,\"line_color\":\"#ffffbf\",\"line_width\":0.8,\"x\":{\"field\":\"x\"},\"y\":{\"field\":\"y\"}},\"id\":\"2698\",\"type\":\"Line\"},{\"attributes\":{\"line_color\":\"#ffffbf\",\"line_width\":0.8,\"x\":{\"field\":\"x\"},\"y\":{\"field\":\"y\"}},\"id\":\"2697\",\"type\":\"Line\"},{\"attributes\":{},\"id\":\"5129\",\"type\":\"ResetTool\"},{\"attributes\":{\"label\":{\"value\":\"\\uc804\\ub0a8\"},\"renderers\":[{\"id\":\"2699\"}]},\"id\":\"2749\",\"type\":\"LegendItem\"},{\"attributes\":{\"active_multi\":null,\"tools\":[{\"id\":\"5125\"},{\"id\":\"5126\"},{\"id\":\"5127\"},{\"id\":\"5128\"},{\"id\":\"5129\"},{\"id\":\"5130\"}]},\"id\":\"5132\",\"type\":\"Toolbar\"},{\"attributes\":{\"below\":[{\"id\":\"4430\"}],\"center\":[{\"id\":\"4432\"},{\"id\":\"4436\"}],\"height\":400,\"left\":[{\"id\":\"4433\"}],\"renderers\":[{\"id\":\"4454\"}],\"title\":{\"id\":\"4420\"},\"toolbar\":{\"id\":\"4444\"},\"width\":1000,\"x_range\":{\"id\":\"4422\"},\"x_scale\":{\"id\":\"4426\"},\"y_range\":{\"id\":\"4424\"},\"y_scale\":{\"id\":\"4428\"}},\"id\":\"4419\",\"subtype\":\"Figure\",\"type\":\"Plot\"},{\"attributes\":{},\"id\":\"5128\",\"type\":\"SaveTool\"},{\"attributes\":{\"data_source\":{\"id\":\"2336\"},\"glyph\":{\"id\":\"2337\"},\"hover_glyph\":null,\"muted_glyph\":null,\"nonselection_glyph\":{\"id\":\"2338\"},\"view\":{\"id\":\"2340\"}},\"id\":\"2339\",\"type\":\"GlyphRenderer\"},{\"attributes\":{\"data_source\":{\"id\":\"2696\"},\"glyph\":{\"id\":\"2697\"},\"hover_glyph\":null,\"muted_glyph\":null,\"nonselection_glyph\":{\"id\":\"2698\"},\"view\":{\"id\":\"2700\"}},\"id\":\"2699\",\"type\":\"GlyphRenderer\"},{\"attributes\":{\"label\":{\"value\":\"\\uac15\\uc6d0\"},\"renderers\":[{\"id\":\"2503\"}]},\"id\":\"2545\",\"type\":\"LegendItem\"},{\"attributes\":{\"line_alpha\":0.1,\"line_color\":\"#fdae61\",\"line_width\":0.8,\"x\":{\"field\":\"x\"},\"y\":{\"field\":\"y\"}},\"id\":\"2808\",\"type\":\"Line\"},{\"attributes\":{},\"id\":\"2251\",\"type\":\"Selection\"},{\"attributes\":{\"source\":{\"id\":\"2696\"}},\"id\":\"2700\",\"type\":\"CDSView\"},{\"attributes\":{},\"id\":\"2252\",\"type\":\"UnionRenderers\"},{\"attributes\":{\"text\":\"2016-2020 \\uc6d4\\ubcc4\\ud3c9\\uade0 \\uc804\\uad6d \\uc720\\uae30\\ub3d9\\ubb3c \\ubc1c\\uc0dd\\ud604\\ud669\"},\"id\":\"4758\",\"type\":\"Title\"},{\"attributes\":{},\"id\":\"5295\",\"type\":\"AllLabels\"},{\"attributes\":{},\"id\":\"5300\",\"type\":\"BasicTickFormatter\"},{\"attributes\":{},\"id\":\"2359\",\"type\":\"Selection\"},{\"attributes\":{},\"id\":\"2360\",\"type\":\"UnionRenderers\"},{\"attributes\":{},\"id\":\"2735\",\"type\":\"Selection\"},{\"attributes\":{\"text\":\"2016-2020 \\uc9c0\\uc5ed\\ubcc4 \\uc720\\uae30\\ub3d9\\ubb3c \\ubc1c\\uc0dd\\ud604\\ud669\"},\"id\":\"2143\",\"type\":\"Title\"},{\"attributes\":{\"bottom_units\":\"screen\",\"fill_alpha\":0.5,\"fill_color\":\"lightgrey\",\"left_units\":\"screen\",\"level\":\"overlay\",\"line_alpha\":1.0,\"line_color\":\"black\",\"line_dash\":[4,4],\"line_width\":2,\"right_units\":\"screen\",\"syncable\":false,\"top_units\":\"screen\"},\"id\":\"5131\",\"type\":\"BoxAnnotation\"},{\"attributes\":{\"label\":{\"value\":\"\\uc778\\ucc9c\"},\"renderers\":[{\"id\":\"2269\"}]},\"id\":\"2299\",\"type\":\"LegendItem\"},{\"attributes\":{\"below\":[{\"id\":\"4768\"}],\"center\":[{\"id\":\"4771\"},{\"id\":\"4775\"}],\"height\":400,\"left\":[{\"id\":\"4772\"}],\"renderers\":[{\"id\":\"4793\"}],\"title\":{\"id\":\"4758\"},\"toolbar\":{\"id\":\"4783\"},\"width\":500,\"x_range\":{\"id\":\"4760\"},\"x_scale\":{\"id\":\"4764\"},\"y_range\":{\"id\":\"4762\"},\"y_scale\":{\"id\":\"4766\"}},\"id\":\"4757\",\"subtype\":\"Figure\",\"type\":\"Plot\"},{\"attributes\":{},\"id\":\"2736\",\"type\":\"UnionRenderers\"},{\"attributes\":{\"data\":{\"x\":[1,2,3,4,5,6,7,8,9,10,11,12],\"y\":[435.0470588235294,396.5882352941176,481.45882352941175,534.6823529411764,652.1647058823529,642.4235294117647,707.0705882352942,662.3882352941176,629.6117647058824,620.2941176470588,513.4588235294118,431.3176470588235]},\"selected\":{\"id\":\"4943\"},\"selection_policy\":{\"id\":\"4944\"}},\"id\":\"4790\",\"type\":\"ColumnDataSource\"},{\"attributes\":{},\"id\":\"4938\",\"type\":\"BasicTickFormatter\"},{\"attributes\":{\"data\":{\"x\":[\"2016\",\"2017\",\"2018\",\"2019\",\"2020\"],\"y\":[433.8382352941176,494.3137254901961,582.3529411764706,654.4754901960785,629.3970588235294]},\"selected\":{\"id\":\"5302\"},\"selection_policy\":{\"id\":\"5303\"}},\"id\":\"5139\",\"type\":\"ColumnDataSource\"},{\"attributes\":{},\"id\":\"5297\",\"type\":\"BasicTickFormatter\"},{\"attributes\":{\"line_color\":\"red\",\"line_width\":0.8,\"x\":{\"field\":\"x\"},\"y\":{\"field\":\"y\"}},\"id\":\"2267\",\"type\":\"Line\"},{\"attributes\":{},\"id\":\"4764\",\"type\":\"LinearScale\"},{\"attributes\":{\"line_color\":\"tomato\",\"x\":{\"field\":\"x\"},\"y\":{\"field\":\"y\"}},\"id\":\"5140\",\"type\":\"Line\"},{\"attributes\":{},\"id\":\"2151\",\"type\":\"LinearScale\"},{\"attributes\":{},\"id\":\"2145\",\"type\":\"DataRange1d\"},{\"attributes\":{\"source\":{\"id\":\"5139\"}},\"id\":\"5143\",\"type\":\"CDSView\"},{\"attributes\":{},\"id\":\"2147\",\"type\":\"DataRange1d\"},{\"attributes\":{},\"id\":\"4762\",\"type\":\"DataRange1d\"},{\"attributes\":{\"data_source\":{\"id\":\"2266\"},\"glyph\":{\"id\":\"2267\"},\"hover_glyph\":null,\"muted_glyph\":null,\"nonselection_glyph\":{\"id\":\"2268\"},\"view\":{\"id\":\"2270\"}},\"id\":\"2269\",\"type\":\"GlyphRenderer\"},{\"attributes\":{\"line_alpha\":0.1,\"line_color\":\"#3288bd\",\"line_width\":0.8,\"x\":{\"field\":\"x\"},\"y\":{\"field\":\"y\"}},\"id\":\"2502\",\"type\":\"Line\"},{\"attributes\":{\"days\":[1,4,7,10,13,16,19,22,25,28]},\"id\":\"2194\",\"type\":\"DaysTicker\"},{\"attributes\":{\"label\":{\"value\":\"\\uc804\\ubd81\"},\"renderers\":[{\"id\":\"2647\"}]},\"id\":\"2695\",\"type\":\"LegendItem\"},{\"attributes\":{},\"id\":\"4587\",\"type\":\"AllLabels\"},{\"attributes\":{\"axis_label\":\"\\ub0a0\\uc9dc\",\"formatter\":{\"id\":\"2186\"},\"major_label_policy\":{\"id\":\"2184\"},\"ticker\":{\"id\":\"2154\"}},\"id\":\"2153\",\"type\":\"DatetimeAxis\"},{\"attributes\":{\"source\":{\"id\":\"2266\"}},\"id\":\"2270\",\"type\":\"CDSView\"},{\"attributes\":{\"num_minor_ticks\":5,\"tickers\":[{\"id\":\"2190\"},{\"id\":\"2191\"},{\"id\":\"2192\"},{\"id\":\"2193\"},{\"id\":\"2194\"},{\"id\":\"2195\"},{\"id\":\"2196\"},{\"id\":\"2197\"},{\"id\":\"2198\"},{\"id\":\"2199\"},{\"id\":\"2200\"},{\"id\":\"2201\"}]},\"id\":\"2154\",\"type\":\"DatetimeTicker\"},{\"attributes\":{\"data_source\":{\"id\":\"5139\"},\"glyph\":{\"id\":\"5140\"},\"hover_glyph\":null,\"muted_glyph\":null,\"nonselection_glyph\":{\"id\":\"5141\"},\"view\":{\"id\":\"5143\"}},\"id\":\"5142\",\"type\":\"GlyphRenderer\"},{\"attributes\":{\"line_alpha\":0.1,\"line_color\":\"red\",\"line_width\":0.8,\"x\":{\"field\":\"x\"},\"y\":{\"field\":\"y\"}},\"id\":\"2268\",\"type\":\"Line\"},{\"attributes\":{},\"id\":\"2149\",\"type\":\"LinearScale\"},{\"attributes\":{\"line_color\":\"orange\",\"line_width\":0.8,\"x\":{\"field\":\"x\"},\"y\":{\"field\":\"y\"}},\"id\":\"2375\",\"type\":\"Line\"},{\"attributes\":{\"overlay\":{\"id\":\"4782\"}},\"id\":\"4778\",\"type\":\"BoxZoomTool\"},{\"attributes\":{\"label\":{\"value\":\"\\uacbd\\ubd81\"},\"renderers\":[{\"id\":\"2753\"}]},\"id\":\"2805\",\"type\":\"LegendItem\"},{\"attributes\":{\"line_alpha\":0.1,\"line_color\":\"tomato\",\"x\":{\"field\":\"x\"},\"y\":{\"field\":\"y\"}},\"id\":\"4792\",\"type\":\"Line\"},{\"attributes\":{\"line_alpha\":0.1,\"line_color\":\"orange\",\"line_width\":0.8,\"x\":{\"field\":\"x\"},\"y\":{\"field\":\"y\"}},\"id\":\"2376\",\"type\":\"Line\"},{\"attributes\":{\"line_alpha\":0.1,\"line_color\":\"tomato\",\"x\":{\"field\":\"x\"},\"y\":{\"field\":\"y\"}},\"id\":\"5141\",\"type\":\"Line\"},{\"attributes\":{},\"id\":\"2162\",\"type\":\"WheelZoomTool\"},{\"attributes\":{\"data\":{\"x\":{\"__ndarray__\":\"AADAvacfdUIAAAAQoil1QgAAwJb3MnVCAAAA6fE8dUIAAIDVmUZ1QgAAwCeUUHVCAABAFDxadUIAAIBmNmR1QgAAwLgwbnVCAABApdh3dUIAAID30oF1QgAAAOR6i3VCAABANnWVdUIAAICIb591QgAAgKlyqHVCAADA+2yydUIAAEDoFLx1QgAAgDoPxnVCAAAAJ7fPdUIAAEB5sdl1QgAAgMur43VCAAAAuFPtdUIAAEAKTvd1QgAAwPb1AHZCAAAASfAKdkIAAECb6hR2QgAAQLztHXZCAACADugndkIAAAD7jzF2QgAAQE2KO3ZCAADAOTJFdkIAAACMLE92QgAAQN4mWXZCAADAys5idkIAAAAdyWx2QgAAgAlxdnZCAADAW2uAdkIAAACuZYp2QgAAAM9ok3ZCAABAIWOddkIAAMANC6d2QgAAAGAFsXZCAACATK26dkIAAMCep8R2QgAAAPGhznZCAACA3UnYdkIAAMAvROJ2QgAAQBzs63ZCAACAbub1dkIAAMDA4P92QgAAgEc2CXdCAADAmTATd0IAAECG2Bx3QgAAgNjSJndCAAAAxXowd0IAAEAXdTp3QgAAgGlvRHdCAAAAVhdOd0IAAECoEVh3QgAAwJS5YXdC\",\"dtype\":\"float64\",\"order\":\"little\",\"shape\":[60]},\"y\":[238,280,283,296,351,267,313,347,367,367,274,310,276,272,285,351,449,431,445,552,467,495,453,385,528,430,591,631,713,678,705,753,625,657,581,585,560,561,785,753,725,725,941,881,882,920,733,662,804,732,816,784,834,883,923,844,832,743,787,656]},\"selected\":{\"id\":\"2791\"},\"selection_policy\":{\"id\":\"2792\"}},\"id\":\"2750\",\"type\":\"ColumnDataSource\"},{\"attributes\":{\"text\":\"2016-2020 \\uc9c0\\uc5ed\\ubcc4 \\uc720\\uae30\\ub3d9\\ubb3c \\ubc1c\\uc0dd\\ud604\\ud669 \\ud3c9\\uade0\"},\"id\":\"4420\",\"type\":\"Title\"},{\"attributes\":{},\"id\":\"2158\",\"type\":\"BasicTicker\"},{\"attributes\":{},\"id\":\"4424\",\"type\":\"DataRange1d\"},{\"attributes\":{\"data\":{\"x\":{\"__ndarray__\":\"AADAvacfdUIAAAAQoil1QgAAwJb3MnVCAAAA6fE8dUIAAIDVmUZ1QgAAwCeUUHVCAABAFDxadUIAAIBmNmR1QgAAwLgwbnVCAABApdh3dUIAAID30oF1QgAAAOR6i3VCAABANnWVdUIAAICIb591QgAAgKlyqHVCAADA+2yydUIAAEDoFLx1QgAAgDoPxnVCAAAAJ7fPdUIAAEB5sdl1QgAAgMur43VCAAAAuFPtdUIAAEAKTvd1QgAAwPb1AHZCAAAASfAKdkIAAECb6hR2QgAAQLztHXZCAACADugndkIAAAD7jzF2QgAAQE2KO3ZCAADAOTJFdkIAAACMLE92QgAAQN4mWXZCAADAys5idkIAAAAdyWx2QgAAgAlxdnZCAADAW2uAdkIAAACuZYp2QgAAAM9ok3ZCAABAIWOddkIAAMANC6d2QgAAAGAFsXZCAACATK26dkIAAMCep8R2QgAAAPGhznZCAACA3UnYdkIAAMAvROJ2QgAAQBzs63ZCAACAbub1dkIAAMDA4P92QgAAgEc2CXdCAADAmTATd0IAAECG2Bx3QgAAgNjSJndCAAAAxXowd0IAAEAXdTp3QgAAgGlvRHdCAAAAVhdOd0IAAECoEVh3QgAAwJS5YXdC\",\"dtype\":\"float64\",\"order\":\"little\",\"shape\":[60]},\"y\":[125,141,190,256,369,361,274,313,323,331,213,188,154,161,170,277,326,334,366,291,259,241,160,146,144,115,187,221,363,330,313,273,276,300,214,167,167,152,170,264,314,332,297,335,313,314,229,196,211,155,179,293,383,390,383,291,35,307,230,157]},\"selected\":{\"id\":\"2399\"},\"selection_policy\":{\"id\":\"2400\"}},\"id\":\"2374\",\"type\":\"ColumnDataSource\"},{\"attributes\":{\"factors\":[\"\\uc11c\\uc6b8 \",\"\\ubd80\\uc0b0\",\"\\ub300\\uad6c\",\"\\uc778\\ucc9c\",\"\\uad11\\uc8fc\",\"\\ub300\\uc804\",\"\\uc6b8\\uc0b0\",\"\\uc138\\uc885\",\"\\uacbd\\uae30\",\"\\uac15\\uc6d0\",\"\\ucda9\\ubd81\",\"\\ucda9\\ub0a8\",\"\\uc804\\ubd81\",\"\\uc804\\ub0a8\",\"\\uacbd\\ubd81\",\"\\uacbd\\ub0a8\",\"\\uc81c\\uc8fc\"]},\"id\":\"4422\",\"type\":\"FactorRange\"},{\"attributes\":{\"source\":{\"id\":\"2500\"}},\"id\":\"2504\",\"type\":\"CDSView\"},{\"attributes\":{\"line_color\":\"#fee08b\",\"line_width\":0.8,\"x\":{\"field\":\"x\"},\"y\":{\"field\":\"y\"}},\"id\":\"2751\",\"type\":\"Line\"},{\"attributes\":{\"overlay\":{\"id\":\"2167\"}},\"id\":\"2163\",\"type\":\"BoxZoomTool\"},{\"attributes\":{\"data_source\":{\"id\":\"2374\"},\"glyph\":{\"id\":\"2375\"},\"hover_glyph\":null,\"muted_glyph\":null,\"nonselection_glyph\":{\"id\":\"2376\"},\"view\":{\"id\":\"2378\"}},\"id\":\"2377\",\"type\":\"GlyphRenderer\"},{\"attributes\":{\"source\":{\"id\":\"4418\"}},\"id\":\"4455\",\"type\":\"CDSView\"},{\"attributes\":{\"line_alpha\":0.1,\"line_color\":\"tomato\",\"line_width\":0.8,\"x\":{\"field\":\"x\"},\"y\":{\"field\":\"y\"}},\"id\":\"2177\",\"type\":\"Line\"},{\"attributes\":{\"line_width\":0.8,\"x\":{\"field\":\"x\"},\"y\":{\"field\":\"y\"}},\"id\":\"2415\",\"type\":\"Line\"},{\"attributes\":{\"fill_alpha\":{\"value\":0.1},\"fill_color\":{\"field\":\"color\"},\"line_alpha\":{\"value\":0.1},\"line_color\":{\"field\":\"color\"},\"top\":{\"field\":\"avg\"},\"width\":{\"value\":0.5},\"x\":{\"field\":\"regin\"}},\"id\":\"4453\",\"type\":\"VBar\"},{\"attributes\":{\"source\":{\"id\":\"2374\"}},\"id\":\"2378\",\"type\":\"CDSView\"},{\"attributes\":{},\"id\":\"4592\",\"type\":\"CategoricalTickFormatter\"},{\"attributes\":{},\"id\":\"2285\",\"type\":\"Selection\"},{\"attributes\":{\"label\":{\"value\":\"\\uc6b8\\uc0b0\"},\"renderers\":[{\"id\":\"2377\"}]},\"id\":\"2413\",\"type\":\"LegendItem\"},{\"attributes\":{},\"id\":\"2161\",\"type\":\"PanTool\"},{\"attributes\":{},\"id\":\"2286\",\"type\":\"UnionRenderers\"},{\"attributes\":{\"line_alpha\":0.1,\"line_color\":\"#fee08b\",\"line_width\":0.8,\"x\":{\"field\":\"x\"},\"y\":{\"field\":\"y\"}},\"id\":\"2752\",\"type\":\"Line\"},{\"attributes\":{\"axis\":{\"id\":\"2157\"},\"dimension\":1,\"ticker\":null},\"id\":\"2160\",\"type\":\"Grid\"},{\"attributes\":{\"axis_label\":\"\\uac74\\uc218\",\"formatter\":{\"id\":\"2183\"},\"major_label_policy\":{\"id\":\"2181\"},\"ticker\":{\"id\":\"2158\"}},\"id\":\"2157\",\"type\":\"LinearAxis\"},{\"attributes\":{},\"id\":\"5130\",\"type\":\"HelpTool\"},{\"attributes\":{\"data_source\":{\"id\":\"2750\"},\"glyph\":{\"id\":\"2751\"},\"hover_glyph\":null,\"muted_glyph\":null,\"nonselection_glyph\":{\"id\":\"2752\"},\"view\":{\"id\":\"2754\"}},\"id\":\"2753\",\"type\":\"GlyphRenderer\"},{\"attributes\":{\"axis\":{\"id\":\"2153\"},\"ticker\":null},\"id\":\"2156\",\"type\":\"Grid\"},{\"attributes\":{},\"id\":\"5302\",\"type\":\"Selection\"},{\"attributes\":{\"data_source\":{\"id\":\"2500\"},\"glyph\":{\"id\":\"2501\"},\"hover_glyph\":null,\"muted_glyph\":null,\"nonselection_glyph\":{\"id\":\"2502\"},\"view\":{\"id\":\"2504\"}},\"id\":\"2503\",\"type\":\"GlyphRenderer\"},{\"attributes\":{\"source\":{\"id\":\"2750\"}},\"id\":\"2754\",\"type\":\"CDSView\"},{\"attributes\":{},\"id\":\"2791\",\"type\":\"Selection\"},{\"attributes\":{},\"id\":\"2321\",\"type\":\"Selection\"},{\"attributes\":{\"active_multi\":null,\"tools\":[{\"id\":\"4776\"},{\"id\":\"4777\"},{\"id\":\"4778\"},{\"id\":\"4779\"},{\"id\":\"4780\"},{\"id\":\"4781\"}]},\"id\":\"4783\",\"type\":\"Toolbar\"},{\"attributes\":{\"line_alpha\":0.1,\"line_width\":0.8,\"x\":{\"field\":\"x\"},\"y\":{\"field\":\"y\"}},\"id\":\"2416\",\"type\":\"Line\"},{\"attributes\":{\"line_alpha\":0.1,\"line_color\":\"#66c2a5\",\"line_width\":0.8,\"x\":{\"field\":\"x\"},\"y\":{\"field\":\"y\"}},\"id\":\"2548\",\"type\":\"Line\"},{\"attributes\":{},\"id\":\"2792\",\"type\":\"UnionRenderers\"},{\"attributes\":{\"days\":[1,2,3,4,5,6,7,8,9,10,11,12,13,14,15,16,17,18,19,20,21,22,23,24,25,26,27,28,29,30,31]},\"id\":\"2193\",\"type\":\"DaysTicker\"},{\"attributes\":{},\"id\":\"4779\",\"type\":\"SaveTool\"},{\"attributes\":{\"below\":[{\"id\":\"2153\"}],\"center\":[{\"id\":\"2156\"},{\"id\":\"2160\"},{\"id\":\"2202\"}],\"height\":500,\"left\":[{\"id\":\"2157\"}],\"renderers\":[{\"id\":\"2178\"},{\"id\":\"2207\"},{\"id\":\"2237\"},{\"id\":\"2269\"},{\"id\":\"2303\"},{\"id\":\"2339\"},{\"id\":\"2377\"},{\"id\":\"2417\"},{\"id\":\"2459\"},{\"id\":\"2503\"},{\"id\":\"2549\"},{\"id\":\"2597\"},{\"id\":\"2647\"},{\"id\":\"2699\"},{\"id\":\"2753\"},{\"id\":\"2809\"},{\"id\":\"2867\"}],\"title\":{\"id\":\"2143\"},\"toolbar\":{\"id\":\"2168\"},\"width\":1000,\"x_range\":{\"id\":\"2145\"},\"x_scale\":{\"id\":\"2149\"},\"y_range\":{\"id\":\"2147\"},\"y_scale\":{\"id\":\"2151\"}},\"id\":\"2142\",\"subtype\":\"Figure\",\"type\":\"Plot\"},{\"attributes\":{\"data_source\":{\"id\":\"2414\"},\"glyph\":{\"id\":\"2415\"},\"hover_glyph\":null,\"muted_glyph\":null,\"nonselection_glyph\":{\"id\":\"2416\"},\"view\":{\"id\":\"2418\"}},\"id\":\"2417\",\"type\":\"GlyphRenderer\"},{\"attributes\":{\"data_source\":{\"id\":\"4418\"},\"glyph\":{\"id\":\"4452\"},\"hover_glyph\":null,\"muted_glyph\":null,\"nonselection_glyph\":{\"id\":\"4453\"},\"view\":{\"id\":\"4455\"}},\"id\":\"4454\",\"type\":\"GlyphRenderer\"},{\"attributes\":{\"children\":[{\"id\":\"4757\"},{\"id\":\"5106\"}]},\"id\":\"5466\",\"type\":\"Row\"},{\"attributes\":{},\"id\":\"4428\",\"type\":\"LinearScale\"},{\"attributes\":{\"line_color\":\"dodgerblue\",\"line_width\":0.8,\"x\":{\"field\":\"x\"},\"y\":{\"field\":\"y\"}},\"id\":\"2205\",\"type\":\"Line\"},{\"attributes\":{\"data_source\":{\"id\":\"2175\"},\"glyph\":{\"id\":\"2176\"},\"hover_glyph\":null,\"muted_glyph\":null,\"nonselection_glyph\":{\"id\":\"2177\"},\"view\":{\"id\":\"2179\"}},\"id\":\"2178\",\"type\":\"GlyphRenderer\"},{\"attributes\":{\"data\":{\"x\":{\"__ndarray__\":\"AADAvacfdUIAAAAQoil1QgAAwJb3MnVCAAAA6fE8dUIAAIDVmUZ1QgAAwCeUUHVCAABAFDxadUIAAIBmNmR1QgAAwLgwbnVCAABApdh3dUIAAID30oF1QgAAAOR6i3VCAABANnWVdUIAAICIb591QgAAgKlyqHVCAADA+2yydUIAAEDoFLx1QgAAgDoPxnVCAAAAJ7fPdUIAAEB5sdl1QgAAgMur43VCAAAAuFPtdUIAAEAKTvd1QgAAwPb1AHZCAAAASfAKdkIAAECb6hR2QgAAQLztHXZCAACADugndkIAAAD7jzF2QgAAQE2KO3ZCAADAOTJFdkIAAACMLE92QgAAQN4mWXZCAADAys5idkIAAAAdyWx2QgAAgAlxdnZCAADAW2uAdkIAAACuZYp2QgAAAM9ok3ZCAABAIWOddkIAAMANC6d2QgAAAGAFsXZCAACATK26dkIAAMCep8R2QgAAAPGhznZCAACA3UnYdkIAAMAvROJ2QgAAQBzs63ZCAACAbub1dkIAAMDA4P92QgAAgEc2CXdCAADAmTATd0IAAECG2Bx3QgAAgNjSJndCAAAAxXowd0IAAEAXdTp3QgAAgGlvRHdCAAAAVhdOd0IAAECoEVh3QgAAwJS5YXdC\",\"dtype\":\"float64\",\"order\":\"little\",\"shape\":[60]},\"y\":[205,264,269,286,354,346,396,393,321,363,344,241,248,190,294,281,292,228,348,413,370,334,248,300,265,204,252,230,373,295,318,336,348,409,461,340,363,297,315,421,407,504,474,499,504,400,344,377,407,356,430,334,467,429,428,543,421,379,292,298]},\"selected\":{\"id\":\"2579\"},\"selection_policy\":{\"id\":\"2580\"}},\"id\":\"2546\",\"type\":\"ColumnDataSource\"},{\"attributes\":{\"axis\":{\"id\":\"4772\"},\"dimension\":1,\"ticker\":null},\"id\":\"4775\",\"type\":\"Grid\"},{\"attributes\":{\"data_source\":{\"id\":\"2546\"},\"glyph\":{\"id\":\"2547\"},\"hover_glyph\":null,\"muted_glyph\":null,\"nonselection_glyph\":{\"id\":\"2548\"},\"view\":{\"id\":\"2550\"}},\"id\":\"2549\",\"type\":\"GlyphRenderer\"},{\"attributes\":{},\"id\":\"2189\",\"type\":\"UnionRenderers\"},{\"attributes\":{\"mantissas\":[1,2,5],\"max_interval\":500.0,\"num_minor_ticks\":0},\"id\":\"2190\",\"type\":\"AdaptiveTicker\"},{\"attributes\":{\"label\":{\"value\":\"\\ucda9\\ubd81\"},\"renderers\":[{\"id\":\"2549\"}]},\"id\":\"2593\",\"type\":\"LegendItem\"},{\"attributes\":{},\"id\":\"4442\",\"type\":\"HelpTool\"},{\"attributes\":{},\"id\":\"2188\",\"type\":\"Selection\"},{\"attributes\":{\"source\":{\"id\":\"2546\"}},\"id\":\"2550\",\"type\":\"CDSView\"},{\"attributes\":{\"line_color\":\"#e6f598\",\"line_width\":0.8,\"x\":{\"field\":\"x\"},\"y\":{\"field\":\"y\"}},\"id\":\"2645\",\"type\":\"Line\"},{\"attributes\":{},\"id\":\"2849\",\"type\":\"Selection\"},{\"attributes\":{\"data\":{\"x\":{\"__ndarray__\":\"AADAvacfdUIAAAAQoil1QgAAwJb3MnVCAAAA6fE8dUIAAIDVmUZ1QgAAwCeUUHVCAABAFDxadUIAAIBmNmR1QgAAwLgwbnVCAABApdh3dUIAAID30oF1QgAAAOR6i3VCAABANnWVdUIAAICIb591QgAAgKlyqHVCAADA+2yydUIAAEDoFLx1QgAAgDoPxnVCAAAAJ7fPdUIAAEB5sdl1QgAAgMur43VCAAAAuFPtdUIAAEAKTvd1QgAAwPb1AHZCAAAASfAKdkIAAECb6hR2QgAAQLztHXZCAACADugndkIAAAD7jzF2QgAAQE2KO3ZCAADAOTJFdkIAAACMLE92QgAAQN4mWXZCAADAys5idkIAAAAdyWx2QgAAgAlxdnZCAADAW2uAdkIAAACuZYp2QgAAAM9ok3ZCAABAIWOddkIAAMANC6d2QgAAAGAFsXZCAACATK26dkIAAMCep8R2QgAAAPGhznZCAACA3UnYdkIAAMAvROJ2QgAAQBzs63ZCAACAbub1dkIAAMDA4P92QgAAgEc2CXdCAADAmTATd0IAAECG2Bx3QgAAgNjSJndCAAAAxXowd0IAAEAXdTp3QgAAgGlvRHdCAAAAVhdOd0IAAECoEVh3QgAAwJS5YXdC\",\"dtype\":\"float64\",\"order\":\"little\",\"shape\":[60]},\"y\":[145,148,167,178,208,231,226,191,220,403,244,246,182,177,205,310,428,386,424,379,391,374,243,173,174,159,188,290,395,380,324,301,320,319,201,197,231,187,207,371,384,395,441,338,369,404,290,213,202,193,206,236,396,400,451,395,361,314,201,201]},\"selected\":{\"id\":\"2321\"},\"selection_policy\":{\"id\":\"2322\"}},\"id\":\"2300\",\"type\":\"ColumnDataSource\"},{\"attributes\":{\"months\":[0,6]},\"id\":\"2200\",\"type\":\"MonthsTicker\"},{\"attributes\":{},\"id\":\"2201\",\"type\":\"YearsTicker\"},{\"attributes\":{\"axis\":{\"id\":\"5117\"},\"ticker\":null},\"id\":\"5120\",\"type\":\"Grid\"},{\"attributes\":{},\"id\":\"5118\",\"type\":\"BasicTicker\"},{\"attributes\":{},\"id\":\"2441\",\"type\":\"Selection\"},{\"attributes\":{},\"id\":\"4943\",\"type\":\"Selection\"},{\"attributes\":{\"source\":{\"id\":\"2175\"}},\"id\":\"2179\",\"type\":\"CDSView\"},{\"attributes\":{},\"id\":\"2442\",\"type\":\"UnionRenderers\"},{\"attributes\":{\"months\":[0,2,4,6,8,10]},\"id\":\"2198\",\"type\":\"MonthsTicker\"},{\"attributes\":{\"axis_label\":\"\\uac74\\uc218\",\"formatter\":{\"id\":\"5297\"},\"major_label_policy\":{\"id\":\"5295\"},\"ticker\":{\"id\":\"5122\"}},\"id\":\"5121\",\"type\":\"LinearAxis\"},{\"attributes\":{},\"id\":\"5111\",\"type\":\"DataRange1d\"},{\"attributes\":{},\"id\":\"2850\",\"type\":\"UnionRenderers\"},{\"attributes\":{\"axis_label\":\"\\ub144\\ubcc4 \\ud3c9\\uade0\",\"formatter\":{\"id\":\"5300\"},\"major_label_policy\":{\"id\":\"5298\"},\"ticker\":{\"id\":\"5118\"}},\"id\":\"5117\",\"type\":\"LinearAxis\"},{\"attributes\":{},\"id\":\"5113\",\"type\":\"LinearScale\"},{\"attributes\":{},\"id\":\"4426\",\"type\":\"CategoricalScale\"},{\"attributes\":{\"line_color\":\"blue\",\"line_width\":0.8,\"x\":{\"field\":\"x\"},\"y\":{\"field\":\"y\"}},\"id\":\"2301\",\"type\":\"Line\"},{\"attributes\":{},\"id\":\"2400\",\"type\":\"UnionRenderers\"},{\"attributes\":{\"click_policy\":\"hide\",\"items\":[{\"id\":\"2203\"},{\"id\":\"2233\"},{\"id\":\"2265\"},{\"id\":\"2299\"},{\"id\":\"2335\"},{\"id\":\"2373\"},{\"id\":\"2413\"},{\"id\":\"2455\"},{\"id\":\"2499\"},{\"id\":\"2545\"},{\"id\":\"2593\"},{\"id\":\"2643\"},{\"id\":\"2695\"},{\"id\":\"2749\"},{\"id\":\"2805\"},{\"id\":\"2863\"},{\"id\":\"2923\"}],\"location\":\"top_left\"},\"id\":\"2202\",\"type\":\"Legend\"},{\"attributes\":{},\"id\":\"4431\",\"type\":\"CategoricalTicker\"},{\"attributes\":{},\"id\":\"5109\",\"type\":\"DataRange1d\"},{\"attributes\":{\"label\":{\"value\":\"\\uc11c\\uc6b8 \"},\"renderers\":[{\"id\":\"2178\"}]},\"id\":\"2203\",\"type\":\"LegendItem\"},{\"attributes\":{},\"id\":\"4941\",\"type\":\"BasicTickFormatter\"},{\"attributes\":{},\"id\":\"5115\",\"type\":\"LinearScale\"},{\"attributes\":{},\"id\":\"4939\",\"type\":\"AllLabels\"},{\"attributes\":{},\"id\":\"5125\",\"type\":\"PanTool\"},{\"attributes\":{},\"id\":\"4589\",\"type\":\"BasicTickFormatter\"},{\"attributes\":{},\"id\":\"4590\",\"type\":\"AllLabels\"},{\"attributes\":{},\"id\":\"2399\",\"type\":\"Selection\"},{\"attributes\":{},\"id\":\"4438\",\"type\":\"WheelZoomTool\"},{\"attributes\":{},\"id\":\"2579\",\"type\":\"Selection\"},{\"attributes\":{},\"id\":\"2681\",\"type\":\"Selection\"},{\"attributes\":{\"source\":{\"id\":\"2806\"}},\"id\":\"2810\",\"type\":\"CDSView\"},{\"attributes\":{},\"id\":\"2580\",\"type\":\"UnionRenderers\"},{\"attributes\":{},\"id\":\"4936\",\"type\":\"AllLabels\"},{\"attributes\":{\"text\":\"2016-2020 \\ub144\\ubcc4 \\ud3c9\\uade0 \\uc804\\uad6d \\uc720\\uae30\\ub3d9\\ubb3c \\ubc1c\\uc0dd\\ud604\\ud669\"},\"id\":\"5107\",\"type\":\"Title\"},{\"attributes\":{},\"id\":\"4780\",\"type\":\"ResetTool\"},{\"attributes\":{\"bottom_units\":\"screen\",\"fill_alpha\":0.5,\"fill_color\":\"lightgrey\",\"left_units\":\"screen\",\"level\":\"overlay\",\"line_alpha\":1.0,\"line_color\":\"black\",\"line_dash\":[4,4],\"line_width\":2,\"right_units\":\"screen\",\"syncable\":false,\"top_units\":\"screen\"},\"id\":\"4782\",\"type\":\"BoxAnnotation\"},{\"attributes\":{\"source\":{\"id\":\"2204\"}},\"id\":\"2208\",\"type\":\"CDSView\"},{\"attributes\":{},\"id\":\"2219\",\"type\":\"Selection\"},{\"attributes\":{},\"id\":\"2532\",\"type\":\"UnionRenderers\"},{\"attributes\":{\"line_alpha\":0.1,\"line_color\":\"dodgerblue\",\"line_width\":0.8,\"x\":{\"field\":\"x\"},\"y\":{\"field\":\"y\"}},\"id\":\"2206\",\"type\":\"Line\"},{\"attributes\":{\"axis_label\":\"\\uc6d4\\ubcc4 \\ud3c9\\uade0\",\"formatter\":{\"id\":\"4941\"},\"major_label_policy\":{\"id\":\"4939\"},\"ticker\":{\"id\":\"4769\"}},\"id\":\"4768\",\"type\":\"LinearAxis\"},{\"attributes\":{\"axis\":{\"id\":\"4430\"},\"ticker\":null},\"id\":\"4432\",\"type\":\"Grid\"},{\"attributes\":{\"data\":{\"x\":{\"__ndarray__\":\"AADAvacfdUIAAAAQoil1QgAAwJb3MnVCAAAA6fE8dUIAAIDVmUZ1QgAAwCeUUHVCAABAFDxadUIAAIBmNmR1QgAAwLgwbnVCAABApdh3dUIAAID30oF1QgAAAOR6i3VCAABANnWVdUIAAICIb591QgAAgKlyqHVCAADA+2yydUIAAEDoFLx1QgAAgDoPxnVCAAAAJ7fPdUIAAEB5sdl1QgAAgMur43VCAAAAuFPtdUIAAEAKTvd1QgAAwPb1AHZCAAAASfAKdkIAAECb6hR2QgAAQLztHXZCAACADugndkIAAAD7jzF2QgAAQE2KO3ZCAADAOTJFdkIAAACMLE92QgAAQN4mWXZCAADAys5idkIAAAAdyWx2QgAAgAlxdnZCAADAW2uAdkIAAACuZYp2QgAAAM9ok3ZCAABAIWOddkIAAMANC6d2QgAAAGAFsXZCAACATK26dkIAAMCep8R2QgAAAPGhznZCAACA3UnYdkIAAMAvROJ2QgAAQBzs63ZCAACAbub1dkIAAMDA4P92QgAAgEc2CXdCAADAmTATd0IAAECG2Bx3QgAAgNjSJndCAAAAxXowd0IAAEAXdTp3QgAAgGlvRHdCAAAAVhdOd0IAAECoEVh3QgAAwJS5YXdC\",\"dtype\":\"float64\",\"order\":\"little\",\"shape\":[60]},\"y\":[1332,1233,1562,1777,2188,2117,2394,2160,2046,1919,1556,1395,1298,1181,1521,1700,2114,2104,2630,2695,2302,2036,1866,1470,1702,1482,1962,2085,2468,2409,2689,2456,2425,2506,1924,1573,1939,1624,1892,2384,2667,2419,3070,2872,2735,2587,2084,1657,2352,1960,2086,1931,2722,2619,2759,2664,2304,2221,1836,1477]},\"selected\":{\"id\":\"2485\"},\"selection_policy\":{\"id\":\"2486\"}},\"id\":\"2456\",\"type\":\"ColumnDataSource\"},{\"attributes\":{\"data_source\":{\"id\":\"2204\"},\"glyph\":{\"id\":\"2205\"},\"hover_glyph\":null,\"muted_glyph\":null,\"nonselection_glyph\":{\"id\":\"2206\"},\"view\":{\"id\":\"2208\"}},\"id\":\"2207\",\"type\":\"GlyphRenderer\"},{\"attributes\":{\"children\":[{\"id\":\"2142\"}]},\"id\":\"5465\",\"type\":\"Column\"},{\"attributes\":{\"bottom_units\":\"screen\",\"fill_alpha\":0.5,\"fill_color\":\"lightgrey\",\"left_units\":\"screen\",\"level\":\"overlay\",\"line_alpha\":1.0,\"line_color\":\"black\",\"line_dash\":[4,4],\"line_width\":2,\"right_units\":\"screen\",\"syncable\":false,\"top_units\":\"screen\"},\"id\":\"2167\",\"type\":\"BoxAnnotation\"},{\"attributes\":{\"children\":[{\"id\":\"5467\"}]},\"id\":\"5468\",\"type\":\"Row\"},{\"attributes\":{\"label\":{\"value\":\"\\ub300\\uad6c\"},\"renderers\":[{\"id\":\"2237\"}]},\"id\":\"2265\",\"type\":\"LegendItem\"},{\"attributes\":{},\"id\":\"5126\",\"type\":\"WheelZoomTool\"},{\"attributes\":{\"active_multi\":null,\"tools\":[{\"id\":\"4437\"},{\"id\":\"4438\"},{\"id\":\"4439\"},{\"id\":\"4440\"},{\"id\":\"4441\"},{\"id\":\"4442\"}]},\"id\":\"4444\",\"type\":\"Toolbar\"},{\"attributes\":{\"data\":{\"x\":{\"__ndarray__\":\"AADAvacfdUIAAAAQoil1QgAAwJb3MnVCAAAA6fE8dUIAAIDVmUZ1QgAAwCeUUHVCAABAFDxadUIAAIBmNmR1QgAAwLgwbnVCAABApdh3dUIAAID30oF1QgAAAOR6i3VCAABANnWVdUIAAICIb591QgAAgKlyqHVCAADA+2yydUIAAEDoFLx1QgAAgDoPxnVCAAAAJ7fPdUIAAEB5sdl1QgAAgMur43VCAAAAuFPtdUIAAEAKTvd1QgAAwPb1AHZCAAAASfAKdkIAAECb6hR2QgAAQLztHXZCAACADugndkIAAAD7jzF2QgAAQE2KO3ZCAADAOTJFdkIAAACMLE92QgAAQN4mWXZCAADAys5idkIAAAAdyWx2QgAAgAlxdnZCAADAW2uAdkIAAACuZYp2QgAAAM9ok3ZCAABAIWOddkIAAMANC6d2QgAAAGAFsXZCAACATK26dkIAAMCep8R2QgAAAPGhznZCAACA3UnYdkIAAMAvROJ2QgAAQBzs63ZCAACAbub1dkIAAMDA4P92QgAAgEc2CXdCAADAmTATd0IAAECG2Bx3QgAAgNjSJndCAAAAxXowd0IAAEAXdTp3QgAAgGlvRHdCAAAAVhdOd0IAAECoEVh3QgAAwJS5YXdC\",\"dtype\":\"float64\",\"order\":\"little\",\"shape\":[60]},\"y\":[413,430,467,473,544,620,616,650,680,635,552,503,451,451,598,610,659,646,775,901,791,718,726,593,810,665,774,1058,1152,981,1040,1104,1000,1095,896,808,1117,1048,1069,1127,1146,1063,1386,1329,1410,1350,951,1144,1042,1040,1173,1199,1222,1341,1429,1217,1169,1138,961,752]},\"selected\":{\"id\":\"2849\"},\"selection_policy\":{\"id\":\"2850\"}},\"id\":\"2806\",\"type\":\"ColumnDataSource\"},{\"attributes\":{\"axis\":{\"id\":\"5121\"},\"dimension\":1,\"ticker\":null},\"id\":\"5124\",\"type\":\"Grid\"},{\"attributes\":{},\"id\":\"4773\",\"type\":\"BasicTicker\"},{\"attributes\":{\"children\":[{\"id\":\"4419\"}]},\"id\":\"5469\",\"type\":\"Row\"},{\"attributes\":{},\"id\":\"2164\",\"type\":\"SaveTool\"},{\"attributes\":{\"line_color\":\"#5e4fa2\",\"line_width\":0.8,\"x\":{\"field\":\"x\"},\"y\":{\"field\":\"y\"}},\"id\":\"2457\",\"type\":\"Line\"},{\"attributes\":{},\"id\":\"2166\",\"type\":\"HelpTool\"},{\"attributes\":{\"data\":{\"x\":{\"__ndarray__\":\"AADAvacfdUIAAAAQoil1QgAAwJb3MnVCAAAA6fE8dUIAAIDVmUZ1QgAAwCeUUHVCAABAFDxadUIAAIBmNmR1QgAAwLgwbnVCAABApdh3dUIAAID30oF1QgAAAOR6i3VCAABANnWVdUIAAICIb591QgAAgKlyqHVCAADA+2yydUIAAEDoFLx1QgAAgDoPxnVCAAAAJ7fPdUIAAEB5sdl1QgAAgMur43VCAAAAuFPtdUIAAEAKTvd1QgAAwPb1AHZCAAAASfAKdkIAAECb6hR2QgAAQLztHXZCAACADugndkIAAAD7jzF2QgAAQE2KO3ZCAADAOTJFdkIAAACMLE92QgAAQN4mWXZCAADAys5idkIAAAAdyWx2QgAAgAlxdnZCAADAW2uAdkIAAACuZYp2QgAAAM9ok3ZCAABAIWOddkIAAMANC6d2QgAAAGAFsXZCAACATK26dkIAAMCep8R2QgAAAPGhznZCAACA3UnYdkIAAMAvROJ2QgAAQBzs63ZCAACAbub1dkIAAMDA4P92QgAAgEc2CXdCAADAmTATd0IAAECG2Bx3QgAAgNjSJndCAAAAxXowd0IAAEAXdTp3QgAAgGlvRHdCAAAAVhdOd0IAAECoEVh3QgAAwJS5YXdC\",\"dtype\":\"float64\",\"order\":\"little\",\"shape\":[60]},\"y\":[158,222,165,197,237,216,188,270,257,236,252,228,274,229,312,280,429,441,434,505,469,484,466,495,491,503,591,596,658,596,570,537,581,678,542,543,638,461,565,623,565,638,679,677,695,659,576,531,616,552,527,601,539,496,566,460,560,601,411,374]},\"selected\":{\"id\":\"2909\"},\"selection_policy\":{\"id\":\"2910\"}},\"id\":\"2864\",\"type\":\"ColumnDataSource\"},{\"attributes\":{\"data_source\":{\"id\":\"4790\"},\"glyph\":{\"id\":\"4791\"},\"hover_glyph\":null,\"muted_glyph\":null,\"nonselection_glyph\":{\"id\":\"4792\"},\"view\":{\"id\":\"4794\"}},\"id\":\"4793\",\"type\":\"GlyphRenderer\"},{\"attributes\":{\"days\":[1,15]},\"id\":\"2196\",\"type\":\"DaysTicker\"},{\"attributes\":{},\"id\":\"5122\",\"type\":\"BasicTicker\"},{\"attributes\":{},\"id\":\"5298\",\"type\":\"AllLabels\"},{\"attributes\":{\"label\":{\"value\":\"\\uc81c\\uc8fc\"},\"renderers\":[{\"id\":\"2867\"}]},\"id\":\"2923\",\"type\":\"LegendItem\"},{\"attributes\":{},\"id\":\"2165\",\"type\":\"ResetTool\"},{\"attributes\":{\"source\":{\"id\":\"4790\"}},\"id\":\"4794\",\"type\":\"CDSView\"},{\"attributes\":{\"data_source\":{\"id\":\"2456\"},\"glyph\":{\"id\":\"2457\"},\"hover_glyph\":null,\"muted_glyph\":null,\"nonselection_glyph\":{\"id\":\"2458\"},\"view\":{\"id\":\"2460\"}},\"id\":\"2459\",\"type\":\"GlyphRenderer\"},{\"attributes\":{},\"id\":\"2186\",\"type\":\"DatetimeTickFormatter\"},{\"attributes\":{},\"id\":\"2184\",\"type\":\"AllLabels\"},{\"attributes\":{\"label\":{\"value\":\"\\uacbd\\uae30\"},\"renderers\":[{\"id\":\"2459\"}]},\"id\":\"2499\",\"type\":\"LegendItem\"},{\"attributes\":{\"line_color\":\"#f46d43\",\"line_width\":0.8,\"x\":{\"field\":\"x\"},\"y\":{\"field\":\"y\"}},\"id\":\"2865\",\"type\":\"Line\"},{\"attributes\":{\"months\":[0,1,2,3,4,5,6,7,8,9,10,11]},\"id\":\"2197\",\"type\":\"MonthsTicker\"},{\"attributes\":{\"axis_label\":\"\\uac74\\uc218\",\"formatter\":{\"id\":\"4589\"},\"major_label_policy\":{\"id\":\"4587\"},\"ticker\":{\"id\":\"4434\"}},\"id\":\"4433\",\"type\":\"LinearAxis\"},{\"attributes\":{\"label\":{\"value\":\"\\ubd80\\uc0b0\"},\"renderers\":[{\"id\":\"2207\"}]},\"id\":\"2233\",\"type\":\"LegendItem\"},{\"attributes\":{\"source\":{\"id\":\"2864\"}},\"id\":\"2868\",\"type\":\"CDSView\"},{\"attributes\":{\"source\":{\"id\":\"2456\"}},\"id\":\"2460\",\"type\":\"CDSView\"},{\"attributes\":{\"line_color\":\"#3288bd\",\"line_width\":0.8,\"x\":{\"field\":\"x\"},\"y\":{\"field\":\"y\"}},\"id\":\"2501\",\"type\":\"Line\"},{\"attributes\":{\"line_alpha\":0.1,\"line_color\":\"#f46d43\",\"line_width\":0.8,\"x\":{\"field\":\"x\"},\"y\":{\"field\":\"y\"}},\"id\":\"2866\",\"type\":\"Line\"},{\"attributes\":{},\"id\":\"4441\",\"type\":\"ResetTool\"},{\"attributes\":{},\"id\":\"4776\",\"type\":\"PanTool\"},{\"attributes\":{\"label\":{\"value\":\"\\uad11\\uc8fc\"},\"renderers\":[{\"id\":\"2303\"}]},\"id\":\"2335\",\"type\":\"LegendItem\"},{\"attributes\":{\"line_color\":\"tomato\",\"line_width\":0.8,\"x\":{\"field\":\"x\"},\"y\":{\"field\":\"y\"}},\"id\":\"2176\",\"type\":\"Line\"},{\"attributes\":{\"axis_label\":\"\\uac74\\uc218\",\"formatter\":{\"id\":\"4938\"},\"major_label_policy\":{\"id\":\"4936\"},\"ticker\":{\"id\":\"4773\"}},\"id\":\"4772\",\"type\":\"LinearAxis\"},{\"attributes\":{\"overlay\":{\"id\":\"5131\"}},\"id\":\"5127\",\"type\":\"BoxZoomTool\"},{\"attributes\":{\"data_source\":{\"id\":\"2864\"},\"glyph\":{\"id\":\"2865\"},\"hover_glyph\":null,\"muted_glyph\":null,\"nonselection_glyph\":{\"id\":\"2866\"},\"view\":{\"id\":\"2868\"}},\"id\":\"2867\",\"type\":\"GlyphRenderer\"},{\"attributes\":{\"line_alpha\":0.1,\"line_color\":\"#abdda4\",\"line_width\":0.8,\"x\":{\"field\":\"x\"},\"y\":{\"field\":\"y\"}},\"id\":\"2596\",\"type\":\"Line\"},{\"attributes\":{\"data\":{\"x\":{\"__ndarray__\":\"AADAvacfdUIAAAAQoil1QgAAwJb3MnVCAAAA6fE8dUIAAIDVmUZ1QgAAwCeUUHVCAABAFDxadUIAAIBmNmR1QgAAwLgwbnVCAABApdh3dUIAAID30oF1QgAAAOR6i3VCAABANnWVdUIAAICIb591QgAAgKlyqHVCAADA+2yydUIAAEDoFLx1QgAAgDoPxnVCAAAAJ7fPdUIAAEB5sdl1QgAAgMur43VCAAAAuFPtdUIAAEAKTvd1QgAAwPb1AHZCAAAASfAKdkIAAECb6hR2QgAAQLztHXZCAACADugndkIAAAD7jzF2QgAAQE2KO3ZCAADAOTJFdkIAAACMLE92QgAAQN4mWXZCAADAys5idkIAAAAdyWx2QgAAgAlxdnZCAADAW2uAdkIAAACuZYp2QgAAAM9ok3ZCAABAIWOddkIAAMANC6d2QgAAAGAFsXZCAACATK26dkIAAMCep8R2QgAAAPGhznZCAACA3UnYdkIAAMAvROJ2QgAAQBzs63ZCAACAbub1dkIAAMDA4P92QgAAgEc2CXdCAADAmTATd0IAAECG2Bx3QgAAgNjSJndCAAAAxXowd0IAAEAXdTp3QgAAgGlvRHdCAAAAVhdOd0IAAECoEVh3QgAAwJS5YXdC\",\"dtype\":\"float64\",\"order\":\"little\",\"shape\":[60]},\"y\":[345,335,413,558,727,803,719,673,745,694,545,405,344,349,436,586,840,887,875,766,752,672,528,379,371,387,514,618,791,803,830,716,681,774,552,456,442,390,473,656,826,836,1046,870,791,782,528,457,400,423,479,599,710,942,1004,765,694,612,483,359]},\"selected\":{\"id\":\"2219\"},\"selection_policy\":{\"id\":\"2220\"}},\"id\":\"2204\",\"type\":\"ColumnDataSource\"},{\"attributes\":{\"source\":{\"id\":\"2414\"}},\"id\":\"2418\",\"type\":\"CDSView\"},{\"attributes\":{\"line_alpha\":0.1,\"line_color\":\"#5e4fa2\",\"line_width\":0.8,\"x\":{\"field\":\"x\"},\"y\":{\"field\":\"y\"}},\"id\":\"2458\",\"type\":\"Line\"},{\"attributes\":{\"children\":[{\"id\":\"5466\"}]},\"id\":\"5467\",\"type\":\"Column\"},{\"attributes\":{\"label\":{\"value\":\"\\uc138\\uc885\"},\"renderers\":[{\"id\":\"2417\"}]},\"id\":\"2455\",\"type\":\"LegendItem\"},{\"attributes\":{\"label\":{\"value\":\"\\ucda9\\ub0a8\"},\"renderers\":[{\"id\":\"2597\"}]},\"id\":\"2643\",\"type\":\"LegendItem\"},{\"attributes\":{\"data\":{\"x\":{\"__ndarray__\":\"AADAvacfdUIAAAAQoil1QgAAwJb3MnVCAAAA6fE8dUIAAIDVmUZ1QgAAwCeUUHVCAABAFDxadUIAAIBmNmR1QgAAwLgwbnVCAABApdh3dUIAAID30oF1QgAAAOR6i3VCAABANnWVdUIAAICIb591QgAAgKlyqHVCAADA+2yydUIAAEDoFLx1QgAAgDoPxnVCAAAAJ7fPdUIAAEB5sdl1QgAAgMur43VCAAAAuFPtdUIAAEAKTvd1QgAAwPb1AHZCAAAASfAKdkIAAECb6hR2QgAAQLztHXZCAACADugndkIAAAD7jzF2QgAAQE2KO3ZCAADAOTJFdkIAAACMLE92QgAAQN4mWXZCAADAys5idkIAAAAdyWx2QgAAgAlxdnZCAADAW2uAdkIAAACuZYp2QgAAAM9ok3ZCAABAIWOddkIAAMANC6d2QgAAAGAFsXZCAACATK26dkIAAMCep8R2QgAAAPGhznZCAACA3UnYdkIAAMAvROJ2QgAAQBzs63ZCAACAbub1dkIAAMDA4P92QgAAgEc2CXdCAADAmTATd0IAAECG2Bx3QgAAgNjSJndCAAAAxXowd0IAAEAXdTp3QgAAgGlvRHdCAAAAVhdOd0IAAECoEVh3QgAAwJS5YXdC\",\"dtype\":\"float64\",\"order\":\"little\",\"shape\":[60]},\"y\":[191,220,391,363,414,433,418,501,452,510,344,335,363,340,409,368,552,482,620,590,485,500,448,489,431,346,535,554,675,639,597,612,599,672,1069,543,615,472,583,619,783,723,1026,778,838,769,637,650,698,597,713,658,854,820,919,857,791,712,616,617]},\"selected\":{\"id\":\"2629\"},\"selection_policy\":{\"id\":\"2630\"}},\"id\":\"2594\",\"type\":\"ColumnDataSource\"},{\"attributes\":{\"line_color\":\"#abdda4\",\"line_width\":0.8,\"x\":{\"field\":\"x\"},\"y\":{\"field\":\"y\"}},\"id\":\"2595\",\"type\":\"Line\"},{\"attributes\":{},\"id\":\"2181\",\"type\":\"AllLabels\"},{\"attributes\":{\"data_source\":{\"id\":\"2594\"},\"glyph\":{\"id\":\"2595\"},\"hover_glyph\":null,\"muted_glyph\":null,\"nonselection_glyph\":{\"id\":\"2596\"},\"view\":{\"id\":\"2598\"}},\"id\":\"2597\",\"type\":\"GlyphRenderer\"},{\"attributes\":{\"line_color\":\"#fdae61\",\"line_width\":0.8,\"x\":{\"field\":\"x\"},\"y\":{\"field\":\"y\"}},\"id\":\"2807\",\"type\":\"Line\"},{\"attributes\":{},\"id\":\"2322\",\"type\":\"UnionRenderers\"},{\"attributes\":{\"axis\":{\"id\":\"4433\"},\"dimension\":1,\"ticker\":null},\"id\":\"4436\",\"type\":\"Grid\"},{\"attributes\":{\"data\":{\"x\":{\"__ndarray__\":\"AADAvacfdUIAAAAQoil1QgAAwJb3MnVCAAAA6fE8dUIAAIDVmUZ1QgAAwCeUUHVCAABAFDxadUIAAIBmNmR1QgAAwLgwbnVCAABApdh3dUIAAID30oF1QgAAAOR6i3VCAABANnWVdUIAAICIb591QgAAgKlyqHVCAADA+2yydUIAAEDoFLx1QgAAgDoPxnVCAAAAJ7fPdUIAAEB5sdl1QgAAgMur43VCAAAAuFPtdUIAAEAKTvd1QgAAwPb1AHZCAAAASfAKdkIAAECb6hR2QgAAQLztHXZCAACADugndkIAAAD7jzF2QgAAQE2KO3ZCAADAOTJFdkIAAACMLE92QgAAQN4mWXZCAADAys5idkIAAAAdyWx2QgAAgAlxdnZCAADAW2uAdkIAAACuZYp2QgAAAM9ok3ZCAABAIWOddkIAAMANC6d2QgAAAGAFsXZCAACATK26dkIAAMCep8R2QgAAAPGhznZCAACA3UnYdkIAAMAvROJ2QgAAQBzs63ZCAACAbub1dkIAAMDA4P92QgAAgEc2CXdCAADAmTATd0IAAECG2Bx3QgAAgNjSJndCAAAAxXowd0IAAEAXdTp3QgAAgGlvRHdCAAAAVhdOd0IAAECoEVh3QgAAwJS5YXdC\",\"dtype\":\"float64\",\"order\":\"little\",\"shape\":[60]},\"y\":[447,443,584,770,923,884,931,907,826,792,663,457,504,435,564,675,860,906,1003,896,890,739,601,515,501,411,629,667,842,915,822,743,695,729,624,430,442,385,499,588,757,753,870,731,702,659,469,416,385,371,473,472,670,685,686,632,573,520,394,322]},\"selected\":{\"id\":\"2188\"},\"selection_policy\":{\"id\":\"2189\"}},\"id\":\"2175\",\"type\":\"ColumnDataSource\"},{\"attributes\":{},\"id\":\"2485\",\"type\":\"Selection\"},{\"attributes\":{},\"id\":\"2183\",\"type\":\"BasicTickFormatter\"},{\"attributes\":{\"source\":{\"id\":\"2594\"}},\"id\":\"2598\",\"type\":\"CDSView\"},{\"attributes\":{\"below\":[{\"id\":\"5117\"}],\"center\":[{\"id\":\"5120\"},{\"id\":\"5124\"}],\"height\":400,\"left\":[{\"id\":\"5121\"}],\"renderers\":[{\"id\":\"5142\"}],\"title\":{\"id\":\"5107\"},\"toolbar\":{\"id\":\"5132\"},\"width\":500,\"x_range\":{\"id\":\"5109\"},\"x_scale\":{\"id\":\"5113\"},\"y_range\":{\"id\":\"5111\"},\"y_scale\":{\"id\":\"5115\"}},\"id\":\"5106\",\"subtype\":\"Figure\",\"type\":\"Plot\"},{\"attributes\":{\"data\":{\"x\":{\"__ndarray__\":\"AADAvacfdUIAAAAQoil1QgAAwJb3MnVCAAAA6fE8dUIAAIDVmUZ1QgAAwCeUUHVCAABAFDxadUIAAIBmNmR1QgAAwLgwbnVCAABApdh3dUIAAID30oF1QgAAAOR6i3VCAABANnWVdUIAAICIb591QgAAgKlyqHVCAADA+2yydUIAAEDoFLx1QgAAgDoPxnVCAAAAJ7fPdUIAAEB5sdl1QgAAgMur43VCAAAAuFPtdUIAAEAKTvd1QgAAwPb1AHZCAAAASfAKdkIAAECb6hR2QgAAQLztHXZCAACADugndkIAAAD7jzF2QgAAQE2KO3ZCAADAOTJFdkIAAACMLE92QgAAQN4mWXZCAADAys5idkIAAAAdyWx2QgAAgAlxdnZCAADAW2uAdkIAAACuZYp2QgAAAM9ok3ZCAABAIWOddkIAAMANC6d2QgAAAGAFsXZCAACATK26dkIAAMCep8R2QgAAAPGhznZCAACA3UnYdkIAAMAvROJ2QgAAQBzs63ZCAACAbub1dkIAAMDA4P92QgAAgEc2CXdCAADAmTATd0IAAECG2Bx3QgAAgNjSJndCAAAAxXowd0IAAEAXdTp3QgAAgGlvRHdCAAAAVhdOd0IAAECoEVh3QgAAwJS5YXdC\",\"dtype\":\"float64\",\"order\":\"little\",\"shape\":[60]},\"y\":[205,198,267,280,288,346,353,372,354,429,250,246,246,259,314,353,431,432,440,541,439,453,339,263,307,279,554,470,550,518,602,522,571,654,564,433,595,506,592,645,697,682,844,790,625,746,658,458,696,698,739,688,857,811,954,789,723,700,631,533]},\"selected\":{\"id\":\"2681\"},\"selection_policy\":{\"id\":\"2682\"}},\"id\":\"2644\",\"type\":\"ColumnDataSource\"},{\"attributes\":{},\"id\":\"4437\",\"type\":\"PanTool\"},{\"attributes\":{},\"id\":\"2909\",\"type\":\"Selection\"},{\"attributes\":{},\"id\":\"2910\",\"type\":\"UnionRenderers\"},{\"attributes\":{\"days\":[1,8,15,22]},\"id\":\"2195\",\"type\":\"DaysTicker\"},{\"attributes\":{\"data\":{\"x\":{\"__ndarray__\":\"AADAvacfdUIAAAAQoil1QgAAwJb3MnVCAAAA6fE8dUIAAIDVmUZ1QgAAwCeUUHVCAABAFDxadUIAAIBmNmR1QgAAwLgwbnVCAABApdh3dUIAAID30oF1QgAAAOR6i3VCAABANnWVdUIAAICIb591QgAAgKlyqHVCAADA+2yydUIAAEDoFLx1QgAAgDoPxnVCAAAAJ7fPdUIAAEB5sdl1QgAAgMur43VCAAAAuFPtdUIAAEAKTvd1QgAAwPb1AHZCAAAASfAKdkIAAECb6hR2QgAAQLztHXZCAACADugndkIAAAD7jzF2QgAAQE2KO3ZCAADAOTJFdkIAAACMLE92QgAAQN4mWXZCAADAys5idkIAAAAdyWx2QgAAgAlxdnZCAADAW2uAdkIAAACuZYp2QgAAAM9ok3ZCAABAIWOddkIAAMANC6d2QgAAAGAFsXZCAACATK26dkIAAMCep8R2QgAAAPGhznZCAACA3UnYdkIAAMAvROJ2QgAAQBzs63ZCAACAbub1dkIAAMDA4P92QgAAgEc2CXdCAADAmTATd0IAAECG2Bx3QgAAgNjSJndCAAAAxXowd0IAAEAXdTp3QgAAgGlvRHdCAAAAVhdOd0IAAECoEVh3QgAAwJS5YXdC\",\"dtype\":\"float64\",\"order\":\"little\",\"shape\":[60]},\"y\":[13,14,26,27,41,39,45,39,41,41,29,29,20,28,15,23,32,46,38,27,32,31,30,23,31,10,40,29,31,31,42,44,33,45,23,45,32,25,40,43,44,28,62,55,22,68,41,34,38,16,18,31,31,8,0,38,46,35,30,39]},\"selected\":{\"id\":\"2441\"},\"selection_policy\":{\"id\":\"2442\"}},\"id\":\"2414\",\"type\":\"ColumnDataSource\"},{\"attributes\":{\"axis\":{\"id\":\"4768\"},\"ticker\":null},\"id\":\"4771\",\"type\":\"Grid\"},{\"attributes\":{\"source\":{\"id\":\"2300\"}},\"id\":\"2304\",\"type\":\"CDSView\"},{\"attributes\":{},\"id\":\"2486\",\"type\":\"UnionRenderers\"},{\"attributes\":{\"data_source\":{\"id\":\"2644\"},\"glyph\":{\"id\":\"2645\"},\"hover_glyph\":null,\"muted_glyph\":null,\"nonselection_glyph\":{\"id\":\"2646\"},\"view\":{\"id\":\"2648\"}},\"id\":\"2647\",\"type\":\"GlyphRenderer\"},{\"attributes\":{},\"id\":\"2531\",\"type\":\"Selection\"},{\"attributes\":{},\"id\":\"4944\",\"type\":\"UnionRenderers\"},{\"attributes\":{\"source\":{\"id\":\"2644\"}},\"id\":\"2648\",\"type\":\"CDSView\"},{\"attributes\":{},\"id\":\"2629\",\"type\":\"Selection\"},{\"attributes\":{},\"id\":\"2682\",\"type\":\"UnionRenderers\"},{\"attributes\":{\"months\":[0,4,8]},\"id\":\"2199\",\"type\":\"MonthsTicker\"},{\"attributes\":{},\"id\":\"4769\",\"type\":\"BasicTicker\"},{\"attributes\":{\"formatter\":{\"id\":\"4592\"},\"major_label_policy\":{\"id\":\"4590\"},\"ticker\":{\"id\":\"4431\"}},\"id\":\"4430\",\"type\":\"CategoricalAxis\"},{\"attributes\":{},\"id\":\"4440\",\"type\":\"SaveTool\"},{\"attributes\":{\"base\":24,\"mantissas\":[1,2,4,6,8,12],\"max_interval\":43200000.0,\"min_interval\":3600000.0,\"num_minor_ticks\":0},\"id\":\"2192\",\"type\":\"AdaptiveTicker\"},{\"attributes\":{\"overlay\":{\"id\":\"4443\"}},\"id\":\"4439\",\"type\":\"BoxZoomTool\"},{\"attributes\":{},\"id\":\"4434\",\"type\":\"BasicTicker\"},{\"attributes\":{\"line_color\":\"#66c2a5\",\"line_width\":0.8,\"x\":{\"field\":\"x\"},\"y\":{\"field\":\"y\"}},\"id\":\"2547\",\"type\":\"Line\"},{\"attributes\":{\"base\":60,\"mantissas\":[1,2,5,10,15,20,30],\"max_interval\":1800000.0,\"min_interval\":1000.0,\"num_minor_ticks\":0},\"id\":\"2191\",\"type\":\"AdaptiveTicker\"},{\"attributes\":{},\"id\":\"4781\",\"type\":\"HelpTool\"},{\"attributes\":{},\"id\":\"2630\",\"type\":\"UnionRenderers\"},{\"attributes\":{\"label\":{\"value\":\"\\uacbd\\ub0a8\"},\"renderers\":[{\"id\":\"2809\"}]},\"id\":\"2863\",\"type\":\"LegendItem\"},{\"attributes\":{},\"id\":\"2220\",\"type\":\"UnionRenderers\"},{\"attributes\":{\"line_alpha\":0.1,\"line_color\":\"blue\",\"line_width\":0.8,\"x\":{\"field\":\"x\"},\"y\":{\"field\":\"y\"}},\"id\":\"2302\",\"type\":\"Line\"},{\"attributes\":{},\"id\":\"4766\",\"type\":\"LinearScale\"},{\"attributes\":{\"data_source\":{\"id\":\"2300\"},\"glyph\":{\"id\":\"2301\"},\"hover_glyph\":null,\"muted_glyph\":null,\"nonselection_glyph\":{\"id\":\"2302\"},\"view\":{\"id\":\"2304\"}},\"id\":\"2303\",\"type\":\"GlyphRenderer\"},{\"attributes\":{\"active_multi\":null,\"tools\":[{\"id\":\"2161\"},{\"id\":\"2162\"},{\"id\":\"2163\"},{\"id\":\"2164\"},{\"id\":\"2165\"},{\"id\":\"2166\"}]},\"id\":\"2168\",\"type\":\"Toolbar\"}],\"root_ids\":[\"5470\"]},\"title\":\"Bokeh Application\",\"version\":\"2.3.2\"}};\n  var render_items = [{\"docid\":\"636d4e6d-860c-4733-8f75-2cdd52b8f570\",\"root_ids\":[\"5470\"],\"roots\":{\"5470\":\"598cb500-8815-421c-a373-accf267334ff\"}}];\n  root.Bokeh.embed.embed_items_notebook(docs_json, render_items);\n\n  }\n  if (root.Bokeh !== undefined) {\n    embed_document(root);\n  } else {\n    var attempts = 0;\n    var timer = setInterval(function(root) {\n      if (root.Bokeh !== undefined) {\n        clearInterval(timer);\n        embed_document(root);\n      } else {\n        attempts++;\n        if (attempts > 100) {\n          clearInterval(timer);\n          console.log(\"Bokeh: ERROR: Unable to run BokehJS code because BokehJS library is missing\");\n        }\n      }\n    }, 10, root)\n  }\n})(window);"
     },
     "metadata": {
      "application/vnd.bokehjs_exec.v0+json": {
       "id": "5470"
      }
     }
    },
    {
     "output_type": "execute_result",
     "data": {
      "text/plain": [
       "'c:\\\\Users\\\\ad\\\\Desktop\\\\ByunUiHyeok\\\\Development\\\\Project\\\\Data Analysis\\\\2.애완동물\\\\gr_sc\\\\p1_tot_test.html'"
      ]
     },
     "metadata": {},
     "execution_count": 26
    }
   ],
   "metadata": {}
  },
  {
   "cell_type": "code",
   "execution_count": 27,
   "source": [
    "df4 = pd.read_excel('C:/Users/ad/Documents/카카오톡 받은 파일/4조 하은종/유기동물데이터.xlsx', sheet_name='기타축종 발생현황' )\r\n",
    "df4 = df4.melt(id_vars='구분', var_name='년도', value_name='발생현황')\r\n",
    "df4"
   ],
   "outputs": [
    {
     "output_type": "execute_result",
     "data": {
      "text/plain": [
       "      구분     년도  발생현황\n",
       "0     토끼  2016년   329\n",
       "1    햄스터  2016년   145\n",
       "2   기니피그  2016년   114\n",
       "3      닭  2016년   109\n",
       "4    앵무새  2016년   132\n",
       "5     염소  2016년   125\n",
       "6   고슴도치  2016년    58\n",
       "7    거북이  2016년    54\n",
       "8     토끼  2017년   392\n",
       "9    햄스터  2017년   138\n",
       "10  기니피그  2017년    65\n",
       "11     닭  2017년    96\n",
       "12   앵무새  2017년    68\n",
       "13    염소  2017년    69\n",
       "14  고슴도치  2017년    99\n",
       "15   거북이  2017년    34\n",
       "16    토끼  2018년   263\n",
       "17   햄스터  2018년   121\n",
       "18  기니피그  2018년    61\n",
       "19     닭  2018년    79\n",
       "20   앵무새  2018년    77\n",
       "21    염소  2018년   111\n",
       "22  고슴도치  2018년    54\n",
       "23   거북이  2018년    20\n",
       "24    토끼  2019년   292\n",
       "25   햄스터  2019년   182\n",
       "26  기니피그  2019년    50\n",
       "27     닭  2019년   104\n",
       "28   앵무새  2019년    92\n",
       "29    염소  2019년   126\n",
       "30  고슴도치  2019년    61\n",
       "31   거북이  2019년    44\n",
       "32    토끼  2020년   329\n",
       "33   햄스터  2020년   146\n",
       "34  기니피그  2020년   114\n",
       "35     닭  2020년   121\n",
       "36   앵무새  2020년   132\n",
       "37    염소  2020년   126\n",
       "38  고슴도치  2020년    58\n",
       "39   거북이  2020년    54"
      ],
      "text/html": [
       "<div>\n",
       "<style scoped>\n",
       "    .dataframe tbody tr th:only-of-type {\n",
       "        vertical-align: middle;\n",
       "    }\n",
       "\n",
       "    .dataframe tbody tr th {\n",
       "        vertical-align: top;\n",
       "    }\n",
       "\n",
       "    .dataframe thead th {\n",
       "        text-align: right;\n",
       "    }\n",
       "</style>\n",
       "<table border=\"1\" class=\"dataframe\">\n",
       "  <thead>\n",
       "    <tr style=\"text-align: right;\">\n",
       "      <th></th>\n",
       "      <th>구분</th>\n",
       "      <th>년도</th>\n",
       "      <th>발생현황</th>\n",
       "    </tr>\n",
       "  </thead>\n",
       "  <tbody>\n",
       "    <tr>\n",
       "      <th>0</th>\n",
       "      <td>토끼</td>\n",
       "      <td>2016년</td>\n",
       "      <td>329</td>\n",
       "    </tr>\n",
       "    <tr>\n",
       "      <th>1</th>\n",
       "      <td>햄스터</td>\n",
       "      <td>2016년</td>\n",
       "      <td>145</td>\n",
       "    </tr>\n",
       "    <tr>\n",
       "      <th>2</th>\n",
       "      <td>기니피그</td>\n",
       "      <td>2016년</td>\n",
       "      <td>114</td>\n",
       "    </tr>\n",
       "    <tr>\n",
       "      <th>3</th>\n",
       "      <td>닭</td>\n",
       "      <td>2016년</td>\n",
       "      <td>109</td>\n",
       "    </tr>\n",
       "    <tr>\n",
       "      <th>4</th>\n",
       "      <td>앵무새</td>\n",
       "      <td>2016년</td>\n",
       "      <td>132</td>\n",
       "    </tr>\n",
       "    <tr>\n",
       "      <th>5</th>\n",
       "      <td>염소</td>\n",
       "      <td>2016년</td>\n",
       "      <td>125</td>\n",
       "    </tr>\n",
       "    <tr>\n",
       "      <th>6</th>\n",
       "      <td>고슴도치</td>\n",
       "      <td>2016년</td>\n",
       "      <td>58</td>\n",
       "    </tr>\n",
       "    <tr>\n",
       "      <th>7</th>\n",
       "      <td>거북이</td>\n",
       "      <td>2016년</td>\n",
       "      <td>54</td>\n",
       "    </tr>\n",
       "    <tr>\n",
       "      <th>8</th>\n",
       "      <td>토끼</td>\n",
       "      <td>2017년</td>\n",
       "      <td>392</td>\n",
       "    </tr>\n",
       "    <tr>\n",
       "      <th>9</th>\n",
       "      <td>햄스터</td>\n",
       "      <td>2017년</td>\n",
       "      <td>138</td>\n",
       "    </tr>\n",
       "    <tr>\n",
       "      <th>10</th>\n",
       "      <td>기니피그</td>\n",
       "      <td>2017년</td>\n",
       "      <td>65</td>\n",
       "    </tr>\n",
       "    <tr>\n",
       "      <th>11</th>\n",
       "      <td>닭</td>\n",
       "      <td>2017년</td>\n",
       "      <td>96</td>\n",
       "    </tr>\n",
       "    <tr>\n",
       "      <th>12</th>\n",
       "      <td>앵무새</td>\n",
       "      <td>2017년</td>\n",
       "      <td>68</td>\n",
       "    </tr>\n",
       "    <tr>\n",
       "      <th>13</th>\n",
       "      <td>염소</td>\n",
       "      <td>2017년</td>\n",
       "      <td>69</td>\n",
       "    </tr>\n",
       "    <tr>\n",
       "      <th>14</th>\n",
       "      <td>고슴도치</td>\n",
       "      <td>2017년</td>\n",
       "      <td>99</td>\n",
       "    </tr>\n",
       "    <tr>\n",
       "      <th>15</th>\n",
       "      <td>거북이</td>\n",
       "      <td>2017년</td>\n",
       "      <td>34</td>\n",
       "    </tr>\n",
       "    <tr>\n",
       "      <th>16</th>\n",
       "      <td>토끼</td>\n",
       "      <td>2018년</td>\n",
       "      <td>263</td>\n",
       "    </tr>\n",
       "    <tr>\n",
       "      <th>17</th>\n",
       "      <td>햄스터</td>\n",
       "      <td>2018년</td>\n",
       "      <td>121</td>\n",
       "    </tr>\n",
       "    <tr>\n",
       "      <th>18</th>\n",
       "      <td>기니피그</td>\n",
       "      <td>2018년</td>\n",
       "      <td>61</td>\n",
       "    </tr>\n",
       "    <tr>\n",
       "      <th>19</th>\n",
       "      <td>닭</td>\n",
       "      <td>2018년</td>\n",
       "      <td>79</td>\n",
       "    </tr>\n",
       "    <tr>\n",
       "      <th>20</th>\n",
       "      <td>앵무새</td>\n",
       "      <td>2018년</td>\n",
       "      <td>77</td>\n",
       "    </tr>\n",
       "    <tr>\n",
       "      <th>21</th>\n",
       "      <td>염소</td>\n",
       "      <td>2018년</td>\n",
       "      <td>111</td>\n",
       "    </tr>\n",
       "    <tr>\n",
       "      <th>22</th>\n",
       "      <td>고슴도치</td>\n",
       "      <td>2018년</td>\n",
       "      <td>54</td>\n",
       "    </tr>\n",
       "    <tr>\n",
       "      <th>23</th>\n",
       "      <td>거북이</td>\n",
       "      <td>2018년</td>\n",
       "      <td>20</td>\n",
       "    </tr>\n",
       "    <tr>\n",
       "      <th>24</th>\n",
       "      <td>토끼</td>\n",
       "      <td>2019년</td>\n",
       "      <td>292</td>\n",
       "    </tr>\n",
       "    <tr>\n",
       "      <th>25</th>\n",
       "      <td>햄스터</td>\n",
       "      <td>2019년</td>\n",
       "      <td>182</td>\n",
       "    </tr>\n",
       "    <tr>\n",
       "      <th>26</th>\n",
       "      <td>기니피그</td>\n",
       "      <td>2019년</td>\n",
       "      <td>50</td>\n",
       "    </tr>\n",
       "    <tr>\n",
       "      <th>27</th>\n",
       "      <td>닭</td>\n",
       "      <td>2019년</td>\n",
       "      <td>104</td>\n",
       "    </tr>\n",
       "    <tr>\n",
       "      <th>28</th>\n",
       "      <td>앵무새</td>\n",
       "      <td>2019년</td>\n",
       "      <td>92</td>\n",
       "    </tr>\n",
       "    <tr>\n",
       "      <th>29</th>\n",
       "      <td>염소</td>\n",
       "      <td>2019년</td>\n",
       "      <td>126</td>\n",
       "    </tr>\n",
       "    <tr>\n",
       "      <th>30</th>\n",
       "      <td>고슴도치</td>\n",
       "      <td>2019년</td>\n",
       "      <td>61</td>\n",
       "    </tr>\n",
       "    <tr>\n",
       "      <th>31</th>\n",
       "      <td>거북이</td>\n",
       "      <td>2019년</td>\n",
       "      <td>44</td>\n",
       "    </tr>\n",
       "    <tr>\n",
       "      <th>32</th>\n",
       "      <td>토끼</td>\n",
       "      <td>2020년</td>\n",
       "      <td>329</td>\n",
       "    </tr>\n",
       "    <tr>\n",
       "      <th>33</th>\n",
       "      <td>햄스터</td>\n",
       "      <td>2020년</td>\n",
       "      <td>146</td>\n",
       "    </tr>\n",
       "    <tr>\n",
       "      <th>34</th>\n",
       "      <td>기니피그</td>\n",
       "      <td>2020년</td>\n",
       "      <td>114</td>\n",
       "    </tr>\n",
       "    <tr>\n",
       "      <th>35</th>\n",
       "      <td>닭</td>\n",
       "      <td>2020년</td>\n",
       "      <td>121</td>\n",
       "    </tr>\n",
       "    <tr>\n",
       "      <th>36</th>\n",
       "      <td>앵무새</td>\n",
       "      <td>2020년</td>\n",
       "      <td>132</td>\n",
       "    </tr>\n",
       "    <tr>\n",
       "      <th>37</th>\n",
       "      <td>염소</td>\n",
       "      <td>2020년</td>\n",
       "      <td>126</td>\n",
       "    </tr>\n",
       "    <tr>\n",
       "      <th>38</th>\n",
       "      <td>고슴도치</td>\n",
       "      <td>2020년</td>\n",
       "      <td>58</td>\n",
       "    </tr>\n",
       "    <tr>\n",
       "      <th>39</th>\n",
       "      <td>거북이</td>\n",
       "      <td>2020년</td>\n",
       "      <td>54</td>\n",
       "    </tr>\n",
       "  </tbody>\n",
       "</table>\n",
       "</div>"
      ]
     },
     "metadata": {},
     "execution_count": 27
    }
   ],
   "metadata": {}
  },
  {
   "cell_type": "code",
   "execution_count": 28,
   "source": [
    "# df4_t = df4.set_index('구분').T\r\n",
    "# df4_t.head()\r\n",
    "df4_t = df4.set_index('년도')\r\n",
    "df4_tt = df4_t.copy()\r\n",
    "df4_tt.index = df4_t.index.str.replace('년','') #'월','.'\r\n",
    "# df2_tt.index = df2_tt.index.str.replace('월','') #'월','.'\r\n",
    "# df4_tt.index = pd.to_datetime(df4_tt.index).strftime('%Y-%m')\r\n",
    "df4_tt.index = pd.to_datetime(df4_tt.index)\r\n",
    "df4_tt"
   ],
   "outputs": [
    {
     "output_type": "execute_result",
     "data": {
      "text/plain": [
       "              구분  발생현황\n",
       "년도                    \n",
       "2016-01-01    토끼   329\n",
       "2016-01-01   햄스터   145\n",
       "2016-01-01  기니피그   114\n",
       "2016-01-01     닭   109\n",
       "2016-01-01   앵무새   132\n",
       "2016-01-01    염소   125\n",
       "2016-01-01  고슴도치    58\n",
       "2016-01-01   거북이    54\n",
       "2017-01-01    토끼   392\n",
       "2017-01-01   햄스터   138\n",
       "2017-01-01  기니피그    65\n",
       "2017-01-01     닭    96\n",
       "2017-01-01   앵무새    68\n",
       "2017-01-01    염소    69\n",
       "2017-01-01  고슴도치    99\n",
       "2017-01-01   거북이    34\n",
       "2018-01-01    토끼   263\n",
       "2018-01-01   햄스터   121\n",
       "2018-01-01  기니피그    61\n",
       "2018-01-01     닭    79\n",
       "2018-01-01   앵무새    77\n",
       "2018-01-01    염소   111\n",
       "2018-01-01  고슴도치    54\n",
       "2018-01-01   거북이    20\n",
       "2019-01-01    토끼   292\n",
       "2019-01-01   햄스터   182\n",
       "2019-01-01  기니피그    50\n",
       "2019-01-01     닭   104\n",
       "2019-01-01   앵무새    92\n",
       "2019-01-01    염소   126\n",
       "2019-01-01  고슴도치    61\n",
       "2019-01-01   거북이    44\n",
       "2020-01-01    토끼   329\n",
       "2020-01-01   햄스터   146\n",
       "2020-01-01  기니피그   114\n",
       "2020-01-01     닭   121\n",
       "2020-01-01   앵무새   132\n",
       "2020-01-01    염소   126\n",
       "2020-01-01  고슴도치    58\n",
       "2020-01-01   거북이    54"
      ],
      "text/html": [
       "<div>\n",
       "<style scoped>\n",
       "    .dataframe tbody tr th:only-of-type {\n",
       "        vertical-align: middle;\n",
       "    }\n",
       "\n",
       "    .dataframe tbody tr th {\n",
       "        vertical-align: top;\n",
       "    }\n",
       "\n",
       "    .dataframe thead th {\n",
       "        text-align: right;\n",
       "    }\n",
       "</style>\n",
       "<table border=\"1\" class=\"dataframe\">\n",
       "  <thead>\n",
       "    <tr style=\"text-align: right;\">\n",
       "      <th></th>\n",
       "      <th>구분</th>\n",
       "      <th>발생현황</th>\n",
       "    </tr>\n",
       "    <tr>\n",
       "      <th>년도</th>\n",
       "      <th></th>\n",
       "      <th></th>\n",
       "    </tr>\n",
       "  </thead>\n",
       "  <tbody>\n",
       "    <tr>\n",
       "      <th>2016-01-01</th>\n",
       "      <td>토끼</td>\n",
       "      <td>329</td>\n",
       "    </tr>\n",
       "    <tr>\n",
       "      <th>2016-01-01</th>\n",
       "      <td>햄스터</td>\n",
       "      <td>145</td>\n",
       "    </tr>\n",
       "    <tr>\n",
       "      <th>2016-01-01</th>\n",
       "      <td>기니피그</td>\n",
       "      <td>114</td>\n",
       "    </tr>\n",
       "    <tr>\n",
       "      <th>2016-01-01</th>\n",
       "      <td>닭</td>\n",
       "      <td>109</td>\n",
       "    </tr>\n",
       "    <tr>\n",
       "      <th>2016-01-01</th>\n",
       "      <td>앵무새</td>\n",
       "      <td>132</td>\n",
       "    </tr>\n",
       "    <tr>\n",
       "      <th>2016-01-01</th>\n",
       "      <td>염소</td>\n",
       "      <td>125</td>\n",
       "    </tr>\n",
       "    <tr>\n",
       "      <th>2016-01-01</th>\n",
       "      <td>고슴도치</td>\n",
       "      <td>58</td>\n",
       "    </tr>\n",
       "    <tr>\n",
       "      <th>2016-01-01</th>\n",
       "      <td>거북이</td>\n",
       "      <td>54</td>\n",
       "    </tr>\n",
       "    <tr>\n",
       "      <th>2017-01-01</th>\n",
       "      <td>토끼</td>\n",
       "      <td>392</td>\n",
       "    </tr>\n",
       "    <tr>\n",
       "      <th>2017-01-01</th>\n",
       "      <td>햄스터</td>\n",
       "      <td>138</td>\n",
       "    </tr>\n",
       "    <tr>\n",
       "      <th>2017-01-01</th>\n",
       "      <td>기니피그</td>\n",
       "      <td>65</td>\n",
       "    </tr>\n",
       "    <tr>\n",
       "      <th>2017-01-01</th>\n",
       "      <td>닭</td>\n",
       "      <td>96</td>\n",
       "    </tr>\n",
       "    <tr>\n",
       "      <th>2017-01-01</th>\n",
       "      <td>앵무새</td>\n",
       "      <td>68</td>\n",
       "    </tr>\n",
       "    <tr>\n",
       "      <th>2017-01-01</th>\n",
       "      <td>염소</td>\n",
       "      <td>69</td>\n",
       "    </tr>\n",
       "    <tr>\n",
       "      <th>2017-01-01</th>\n",
       "      <td>고슴도치</td>\n",
       "      <td>99</td>\n",
       "    </tr>\n",
       "    <tr>\n",
       "      <th>2017-01-01</th>\n",
       "      <td>거북이</td>\n",
       "      <td>34</td>\n",
       "    </tr>\n",
       "    <tr>\n",
       "      <th>2018-01-01</th>\n",
       "      <td>토끼</td>\n",
       "      <td>263</td>\n",
       "    </tr>\n",
       "    <tr>\n",
       "      <th>2018-01-01</th>\n",
       "      <td>햄스터</td>\n",
       "      <td>121</td>\n",
       "    </tr>\n",
       "    <tr>\n",
       "      <th>2018-01-01</th>\n",
       "      <td>기니피그</td>\n",
       "      <td>61</td>\n",
       "    </tr>\n",
       "    <tr>\n",
       "      <th>2018-01-01</th>\n",
       "      <td>닭</td>\n",
       "      <td>79</td>\n",
       "    </tr>\n",
       "    <tr>\n",
       "      <th>2018-01-01</th>\n",
       "      <td>앵무새</td>\n",
       "      <td>77</td>\n",
       "    </tr>\n",
       "    <tr>\n",
       "      <th>2018-01-01</th>\n",
       "      <td>염소</td>\n",
       "      <td>111</td>\n",
       "    </tr>\n",
       "    <tr>\n",
       "      <th>2018-01-01</th>\n",
       "      <td>고슴도치</td>\n",
       "      <td>54</td>\n",
       "    </tr>\n",
       "    <tr>\n",
       "      <th>2018-01-01</th>\n",
       "      <td>거북이</td>\n",
       "      <td>20</td>\n",
       "    </tr>\n",
       "    <tr>\n",
       "      <th>2019-01-01</th>\n",
       "      <td>토끼</td>\n",
       "      <td>292</td>\n",
       "    </tr>\n",
       "    <tr>\n",
       "      <th>2019-01-01</th>\n",
       "      <td>햄스터</td>\n",
       "      <td>182</td>\n",
       "    </tr>\n",
       "    <tr>\n",
       "      <th>2019-01-01</th>\n",
       "      <td>기니피그</td>\n",
       "      <td>50</td>\n",
       "    </tr>\n",
       "    <tr>\n",
       "      <th>2019-01-01</th>\n",
       "      <td>닭</td>\n",
       "      <td>104</td>\n",
       "    </tr>\n",
       "    <tr>\n",
       "      <th>2019-01-01</th>\n",
       "      <td>앵무새</td>\n",
       "      <td>92</td>\n",
       "    </tr>\n",
       "    <tr>\n",
       "      <th>2019-01-01</th>\n",
       "      <td>염소</td>\n",
       "      <td>126</td>\n",
       "    </tr>\n",
       "    <tr>\n",
       "      <th>2019-01-01</th>\n",
       "      <td>고슴도치</td>\n",
       "      <td>61</td>\n",
       "    </tr>\n",
       "    <tr>\n",
       "      <th>2019-01-01</th>\n",
       "      <td>거북이</td>\n",
       "      <td>44</td>\n",
       "    </tr>\n",
       "    <tr>\n",
       "      <th>2020-01-01</th>\n",
       "      <td>토끼</td>\n",
       "      <td>329</td>\n",
       "    </tr>\n",
       "    <tr>\n",
       "      <th>2020-01-01</th>\n",
       "      <td>햄스터</td>\n",
       "      <td>146</td>\n",
       "    </tr>\n",
       "    <tr>\n",
       "      <th>2020-01-01</th>\n",
       "      <td>기니피그</td>\n",
       "      <td>114</td>\n",
       "    </tr>\n",
       "    <tr>\n",
       "      <th>2020-01-01</th>\n",
       "      <td>닭</td>\n",
       "      <td>121</td>\n",
       "    </tr>\n",
       "    <tr>\n",
       "      <th>2020-01-01</th>\n",
       "      <td>앵무새</td>\n",
       "      <td>132</td>\n",
       "    </tr>\n",
       "    <tr>\n",
       "      <th>2020-01-01</th>\n",
       "      <td>염소</td>\n",
       "      <td>126</td>\n",
       "    </tr>\n",
       "    <tr>\n",
       "      <th>2020-01-01</th>\n",
       "      <td>고슴도치</td>\n",
       "      <td>58</td>\n",
       "    </tr>\n",
       "    <tr>\n",
       "      <th>2020-01-01</th>\n",
       "      <td>거북이</td>\n",
       "      <td>54</td>\n",
       "    </tr>\n",
       "  </tbody>\n",
       "</table>\n",
       "</div>"
      ]
     },
     "metadata": {},
     "execution_count": 28
    }
   ],
   "metadata": {}
  },
  {
   "cell_type": "code",
   "execution_count": null,
   "source": [],
   "outputs": [],
   "metadata": {}
  },
  {
   "cell_type": "code",
   "execution_count": 29,
   "source": [
    "#import itertools\r\n",
    "#from bokeh.palettes import Spectral11\r\n",
    "\r\n",
    "homework_7 = figure(plot_width=1000, plot_height=500, x_axis_type=\"datetime\",title=\"기타 축종 유기/유실 동물 현황\")\r\n",
    "#homework_1.title.text = \"test\"\r\n",
    "\r\n",
    "color_mapping = {\r\n",
    "    0:\"tomato\", 1:\"dodgerblue\", 2:\"lime\", 3:\"red\", 4:\"blue\", \r\n",
    "    5:\"green\", 6:\"orange\", 7:\"black\", 8:\"#5e4fa2\", 9:\"#3288bd\",\r\n",
    "    10:\"#66c2a5\", 11:\"#abdda4\", 12:\"#e6f598\", 13: \"#ffffbf\", 14:\"#fee08b\",\r\n",
    "    15:\"#fdae61\", 16:\"#f46d43\"}\r\n",
    "\r\n",
    "for h,i in enumerate(df4_tt['구분'].unique().tolist()):\r\n",
    "    homework_7.line(\r\n",
    "        df4_tt.loc[df4_tt['구분']==i,:].index.tolist(),\r\n",
    "        df4_tt.loc[df4_tt['구분']==i,:]['발생현황'].tolist(),\r\n",
    "        line_width=0.8,\r\n",
    "        line_color=color_mapping[h%17],\r\n",
    "        legend_label = i)\r\n",
    "\r\n",
    "homework_7.legend.location = \"top_left\"\r\n",
    "homework_7.legend.click_policy=\"hide\"\r\n",
    "#homework_1.legend.click_policy=\"mute\"\r\n",
    "homework_7.xaxis.axis_label=\"년도\"\r\n",
    "homework_7.yaxis.axis_label=\"건수\"\r\n",
    "show(homework_7)"
   ],
   "outputs": [
    {
     "output_type": "display_data",
     "data": {
      "text/html": [
       "\n",
       "\n",
       "\n",
       "\n",
       "\n",
       "\n",
       "  <div class=\"bk-root\" id=\"55e09307-7f1a-42d3-8f04-3b4ff0754d75\" data-root-id=\"7060\"></div>\n"
      ]
     },
     "metadata": {}
    },
    {
     "output_type": "display_data",
     "data": {
      "application/vnd.bokehjs_exec.v0+json": "",
      "application/javascript": "(function(root) {\n  function embed_document(root) {\n    \n  var docs_json = {\"b80fb749-536f-48e1-b68c-51700fe474b3\":{\"defs\":[],\"roots\":{\"references\":[{\"attributes\":{\"below\":[{\"id\":\"7071\"}],\"center\":[{\"id\":\"7074\"},{\"id\":\"7078\"},{\"id\":\"7120\"}],\"height\":500,\"left\":[{\"id\":\"7075\"}],\"renderers\":[{\"id\":\"7096\"},{\"id\":\"7125\"},{\"id\":\"7155\"},{\"id\":\"7187\"},{\"id\":\"7221\"},{\"id\":\"7257\"},{\"id\":\"7295\"},{\"id\":\"7335\"}],\"title\":{\"id\":\"7061\"},\"toolbar\":{\"id\":\"7086\"},\"width\":1000,\"x_range\":{\"id\":\"7063\"},\"x_scale\":{\"id\":\"7067\"},\"y_range\":{\"id\":\"7065\"},\"y_scale\":{\"id\":\"7069\"}},\"id\":\"7060\",\"subtype\":\"Figure\",\"type\":\"Plot\"},{\"attributes\":{},\"id\":\"7138\",\"type\":\"UnionRenderers\"},{\"attributes\":{\"data_source\":{\"id\":\"7122\"},\"glyph\":{\"id\":\"7123\"},\"hover_glyph\":null,\"muted_glyph\":null,\"nonselection_glyph\":{\"id\":\"7124\"},\"view\":{\"id\":\"7126\"}},\"id\":\"7125\",\"type\":\"GlyphRenderer\"},{\"attributes\":{\"source\":{\"id\":\"7122\"}},\"id\":\"7126\",\"type\":\"CDSView\"},{\"attributes\":{},\"id\":\"7137\",\"type\":\"Selection\"},{\"attributes\":{\"line_color\":\"dodgerblue\",\"line_width\":0.8,\"x\":{\"field\":\"x\"},\"y\":{\"field\":\"y\"}},\"id\":\"7123\",\"type\":\"Line\"},{\"attributes\":{\"label\":{\"value\":\"\\ud584\\uc2a4\\ud130\"},\"renderers\":[{\"id\":\"7125\"}]},\"id\":\"7151\",\"type\":\"LegendItem\"},{\"attributes\":{\"axis\":{\"id\":\"7075\"},\"dimension\":1,\"ticker\":null},\"id\":\"7078\",\"type\":\"Grid\"},{\"attributes\":{\"line_alpha\":0.1,\"line_color\":\"dodgerblue\",\"line_width\":0.8,\"x\":{\"field\":\"x\"},\"y\":{\"field\":\"y\"}},\"id\":\"7124\",\"type\":\"Line\"},{\"attributes\":{\"data\":{\"x\":[1451606400000.0,1483228800000.0,1514764800000.0,1546300800000.0,1577836800000.0],\"y\":[145,138,121,182,146]},\"selected\":{\"id\":\"7137\"},\"selection_policy\":{\"id\":\"7138\"}},\"id\":\"7122\",\"type\":\"ColumnDataSource\"},{\"attributes\":{\"days\":[1,2,3,4,5,6,7,8,9,10,11,12,13,14,15,16,17,18,19,20,21,22,23,24,25,26,27,28,29,30,31]},\"id\":\"7111\",\"type\":\"DaysTicker\"},{\"attributes\":{\"source\":{\"id\":\"7254\"}},\"id\":\"7258\",\"type\":\"CDSView\"},{\"attributes\":{\"line_color\":\"lime\",\"line_width\":0.8,\"x\":{\"field\":\"x\"},\"y\":{\"field\":\"y\"}},\"id\":\"7153\",\"type\":\"Line\"},{\"attributes\":{\"base\":24,\"mantissas\":[1,2,4,6,8,12],\"max_interval\":43200000.0,\"min_interval\":3600000.0,\"num_minor_ticks\":0},\"id\":\"7110\",\"type\":\"AdaptiveTicker\"},{\"attributes\":{},\"id\":\"7079\",\"type\":\"PanTool\"},{\"attributes\":{\"label\":{\"value\":\"\\uc5fc\\uc18c\"},\"renderers\":[{\"id\":\"7257\"}]},\"id\":\"7291\",\"type\":\"LegendItem\"},{\"attributes\":{\"base\":60,\"mantissas\":[1,2,5,10,15,20,30],\"max_interval\":1800000.0,\"min_interval\":1000.0,\"num_minor_ticks\":0},\"id\":\"7109\",\"type\":\"AdaptiveTicker\"},{\"attributes\":{\"mantissas\":[1,2,5],\"max_interval\":500.0,\"num_minor_ticks\":0},\"id\":\"7108\",\"type\":\"AdaptiveTicker\"},{\"attributes\":{\"days\":[1,4,7,10,13,16,19,22,25,28]},\"id\":\"7112\",\"type\":\"DaysTicker\"},{\"attributes\":{},\"id\":\"7099\",\"type\":\"AllLabels\"},{\"attributes\":{\"active_multi\":null,\"tools\":[{\"id\":\"7079\"},{\"id\":\"7080\"},{\"id\":\"7081\"},{\"id\":\"7082\"},{\"id\":\"7083\"},{\"id\":\"7084\"}]},\"id\":\"7086\",\"type\":\"Toolbar\"},{\"attributes\":{\"data_source\":{\"id\":\"7292\"},\"glyph\":{\"id\":\"7293\"},\"hover_glyph\":null,\"muted_glyph\":null,\"nonselection_glyph\":{\"id\":\"7294\"},\"view\":{\"id\":\"7296\"}},\"id\":\"7295\",\"type\":\"GlyphRenderer\"},{\"attributes\":{\"source\":{\"id\":\"7152\"}},\"id\":\"7156\",\"type\":\"CDSView\"},{\"attributes\":{},\"id\":\"7076\",\"type\":\"BasicTicker\"},{\"attributes\":{\"source\":{\"id\":\"7332\"}},\"id\":\"7336\",\"type\":\"CDSView\"},{\"attributes\":{\"line_alpha\":0.1,\"line_color\":\"lime\",\"line_width\":0.8,\"x\":{\"field\":\"x\"},\"y\":{\"field\":\"y\"}},\"id\":\"7154\",\"type\":\"Line\"},{\"attributes\":{\"line_color\":\"blue\",\"line_width\":0.8,\"x\":{\"field\":\"x\"},\"y\":{\"field\":\"y\"}},\"id\":\"7219\",\"type\":\"Line\"},{\"attributes\":{},\"id\":\"7080\",\"type\":\"WheelZoomTool\"},{\"attributes\":{},\"id\":\"7082\",\"type\":\"SaveTool\"},{\"attributes\":{},\"id\":\"7318\",\"type\":\"UnionRenderers\"},{\"attributes\":{\"data_source\":{\"id\":\"7332\"},\"glyph\":{\"id\":\"7333\"},\"hover_glyph\":null,\"muted_glyph\":null,\"nonselection_glyph\":{\"id\":\"7334\"},\"view\":{\"id\":\"7336\"}},\"id\":\"7335\",\"type\":\"GlyphRenderer\"},{\"attributes\":{\"label\":{\"value\":\"\\ud1a0\\ub07c\"},\"renderers\":[{\"id\":\"7096\"}]},\"id\":\"7121\",\"type\":\"LegendItem\"},{\"attributes\":{\"source\":{\"id\":\"7218\"}},\"id\":\"7222\",\"type\":\"CDSView\"},{\"attributes\":{\"line_alpha\":0.1,\"line_color\":\"green\",\"line_width\":0.8,\"x\":{\"field\":\"x\"},\"y\":{\"field\":\"y\"}},\"id\":\"7256\",\"type\":\"Line\"},{\"attributes\":{\"line_alpha\":0.1,\"line_color\":\"tomato\",\"line_width\":0.8,\"x\":{\"field\":\"x\"},\"y\":{\"field\":\"y\"}},\"id\":\"7095\",\"type\":\"Line\"},{\"attributes\":{\"click_policy\":\"hide\",\"items\":[{\"id\":\"7121\"},{\"id\":\"7151\"},{\"id\":\"7183\"},{\"id\":\"7217\"},{\"id\":\"7253\"},{\"id\":\"7291\"},{\"id\":\"7331\"},{\"id\":\"7373\"}],\"location\":\"top_left\"},\"id\":\"7120\",\"type\":\"Legend\"},{\"attributes\":{\"data\":{\"x\":[1451606400000.0,1483228800000.0,1514764800000.0,1546300800000.0,1577836800000.0],\"y\":[132,68,77,92,132]},\"selected\":{\"id\":\"7239\"},\"selection_policy\":{\"id\":\"7240\"}},\"id\":\"7218\",\"type\":\"ColumnDataSource\"},{\"attributes\":{\"line_alpha\":0.1,\"line_color\":\"blue\",\"line_width\":0.8,\"x\":{\"field\":\"x\"},\"y\":{\"field\":\"y\"}},\"id\":\"7220\",\"type\":\"Line\"},{\"attributes\":{},\"id\":\"7359\",\"type\":\"Selection\"},{\"attributes\":{},\"id\":\"7065\",\"type\":\"DataRange1d\"},{\"attributes\":{\"data\":{\"x\":[1451606400000.0,1483228800000.0,1514764800000.0,1546300800000.0,1577836800000.0],\"y\":[125,69,111,126,126]},\"selected\":{\"id\":\"7277\"},\"selection_policy\":{\"id\":\"7278\"}},\"id\":\"7254\",\"type\":\"ColumnDataSource\"},{\"attributes\":{\"axis_label\":\"\\uac74\\uc218\",\"formatter\":{\"id\":\"7101\"},\"major_label_policy\":{\"id\":\"7099\"},\"ticker\":{\"id\":\"7076\"}},\"id\":\"7075\",\"type\":\"LinearAxis\"},{\"attributes\":{\"months\":[0,6]},\"id\":\"7118\",\"type\":\"MonthsTicker\"},{\"attributes\":{\"data_source\":{\"id\":\"7218\"},\"glyph\":{\"id\":\"7219\"},\"hover_glyph\":null,\"muted_glyph\":null,\"nonselection_glyph\":{\"id\":\"7220\"},\"view\":{\"id\":\"7222\"}},\"id\":\"7221\",\"type\":\"GlyphRenderer\"},{\"attributes\":{},\"id\":\"7317\",\"type\":\"Selection\"},{\"attributes\":{},\"id\":\"7063\",\"type\":\"DataRange1d\"},{\"attributes\":{\"label\":{\"value\":\"\\uac70\\ubd81\\uc774\"},\"renderers\":[{\"id\":\"7335\"}]},\"id\":\"7373\",\"type\":\"LegendItem\"},{\"attributes\":{\"num_minor_ticks\":5,\"tickers\":[{\"id\":\"7108\"},{\"id\":\"7109\"},{\"id\":\"7110\"},{\"id\":\"7111\"},{\"id\":\"7112\"},{\"id\":\"7113\"},{\"id\":\"7114\"},{\"id\":\"7115\"},{\"id\":\"7116\"},{\"id\":\"7117\"},{\"id\":\"7118\"},{\"id\":\"7119\"}]},\"id\":\"7072\",\"type\":\"DatetimeTicker\"},{\"attributes\":{},\"id\":\"7240\",\"type\":\"UnionRenderers\"},{\"attributes\":{},\"id\":\"7083\",\"type\":\"ResetTool\"},{\"attributes\":{},\"id\":\"7239\",\"type\":\"Selection\"},{\"attributes\":{},\"id\":\"7067\",\"type\":\"LinearScale\"},{\"attributes\":{},\"id\":\"7069\",\"type\":\"LinearScale\"},{\"attributes\":{\"line_width\":0.8,\"x\":{\"field\":\"x\"},\"y\":{\"field\":\"y\"}},\"id\":\"7333\",\"type\":\"Line\"},{\"attributes\":{\"line_color\":\"green\",\"line_width\":0.8,\"x\":{\"field\":\"x\"},\"y\":{\"field\":\"y\"}},\"id\":\"7255\",\"type\":\"Line\"},{\"attributes\":{\"overlay\":{\"id\":\"7085\"}},\"id\":\"7081\",\"type\":\"BoxZoomTool\"},{\"attributes\":{\"data\":{\"x\":[1451606400000.0,1483228800000.0,1514764800000.0,1546300800000.0,1577836800000.0],\"y\":[58,99,54,61,58]},\"selected\":{\"id\":\"7317\"},\"selection_policy\":{\"id\":\"7318\"}},\"id\":\"7292\",\"type\":\"ColumnDataSource\"},{\"attributes\":{\"line_alpha\":0.1,\"line_color\":\"red\",\"line_width\":0.8,\"x\":{\"field\":\"x\"},\"y\":{\"field\":\"y\"}},\"id\":\"7186\",\"type\":\"Line\"},{\"attributes\":{\"line_color\":\"red\",\"line_width\":0.8,\"x\":{\"field\":\"x\"},\"y\":{\"field\":\"y\"}},\"id\":\"7185\",\"type\":\"Line\"},{\"attributes\":{\"axis\":{\"id\":\"7071\"},\"ticker\":null},\"id\":\"7074\",\"type\":\"Grid\"},{\"attributes\":{\"data\":{\"x\":[1451606400000.0,1483228800000.0,1514764800000.0,1546300800000.0,1577836800000.0],\"y\":[109,96,79,104,121]},\"selected\":{\"id\":\"7203\"},\"selection_policy\":{\"id\":\"7204\"}},\"id\":\"7184\",\"type\":\"ColumnDataSource\"},{\"attributes\":{\"axis_label\":\"\\ub144\\ub3c4\",\"formatter\":{\"id\":\"7104\"},\"major_label_policy\":{\"id\":\"7102\"},\"ticker\":{\"id\":\"7072\"}},\"id\":\"7071\",\"type\":\"DatetimeAxis\"},{\"attributes\":{\"days\":[1,15]},\"id\":\"7114\",\"type\":\"DaysTicker\"},{\"attributes\":{},\"id\":\"7119\",\"type\":\"YearsTicker\"},{\"attributes\":{\"data_source\":{\"id\":\"7254\"},\"glyph\":{\"id\":\"7255\"},\"hover_glyph\":null,\"muted_glyph\":null,\"nonselection_glyph\":{\"id\":\"7256\"},\"view\":{\"id\":\"7258\"}},\"id\":\"7257\",\"type\":\"GlyphRenderer\"},{\"attributes\":{\"months\":[0,2,4,6,8,10]},\"id\":\"7116\",\"type\":\"MonthsTicker\"},{\"attributes\":{\"line_color\":\"orange\",\"line_width\":0.8,\"x\":{\"field\":\"x\"},\"y\":{\"field\":\"y\"}},\"id\":\"7293\",\"type\":\"Line\"},{\"attributes\":{},\"id\":\"7203\",\"type\":\"Selection\"},{\"attributes\":{\"source\":{\"id\":\"7093\"}},\"id\":\"7097\",\"type\":\"CDSView\"},{\"attributes\":{\"label\":{\"value\":\"\\ub2ed\"},\"renderers\":[{\"id\":\"7187\"}]},\"id\":\"7217\",\"type\":\"LegendItem\"},{\"attributes\":{},\"id\":\"7277\",\"type\":\"Selection\"},{\"attributes\":{\"months\":[0,4,8]},\"id\":\"7117\",\"type\":\"MonthsTicker\"},{\"attributes\":{\"data_source\":{\"id\":\"7152\"},\"glyph\":{\"id\":\"7153\"},\"hover_glyph\":null,\"muted_glyph\":null,\"nonselection_glyph\":{\"id\":\"7154\"},\"view\":{\"id\":\"7156\"}},\"id\":\"7155\",\"type\":\"GlyphRenderer\"},{\"attributes\":{\"data\":{\"x\":[1451606400000.0,1483228800000.0,1514764800000.0,1546300800000.0,1577836800000.0],\"y\":[54,34,20,44,54]},\"selected\":{\"id\":\"7359\"},\"selection_policy\":{\"id\":\"7360\"}},\"id\":\"7332\",\"type\":\"ColumnDataSource\"},{\"attributes\":{\"bottom_units\":\"screen\",\"fill_alpha\":0.5,\"fill_color\":\"lightgrey\",\"left_units\":\"screen\",\"level\":\"overlay\",\"line_alpha\":1.0,\"line_color\":\"black\",\"line_dash\":[4,4],\"line_width\":2,\"right_units\":\"screen\",\"syncable\":false,\"top_units\":\"screen\"},\"id\":\"7085\",\"type\":\"BoxAnnotation\"},{\"attributes\":{},\"id\":\"7169\",\"type\":\"Selection\"},{\"attributes\":{\"label\":{\"value\":\"\\uc575\\ubb34\\uc0c8\"},\"renderers\":[{\"id\":\"7221\"}]},\"id\":\"7253\",\"type\":\"LegendItem\"},{\"attributes\":{\"line_alpha\":0.1,\"line_width\":0.8,\"x\":{\"field\":\"x\"},\"y\":{\"field\":\"y\"}},\"id\":\"7334\",\"type\":\"Line\"},{\"attributes\":{},\"id\":\"7204\",\"type\":\"UnionRenderers\"},{\"attributes\":{},\"id\":\"7084\",\"type\":\"HelpTool\"},{\"attributes\":{\"data\":{\"x\":[1451606400000.0,1483228800000.0,1514764800000.0,1546300800000.0,1577836800000.0],\"y\":[329,392,263,292,329]},\"selected\":{\"id\":\"7106\"},\"selection_policy\":{\"id\":\"7107\"}},\"id\":\"7093\",\"type\":\"ColumnDataSource\"},{\"attributes\":{\"months\":[0,1,2,3,4,5,6,7,8,9,10,11]},\"id\":\"7115\",\"type\":\"MonthsTicker\"},{\"attributes\":{\"label\":{\"value\":\"\\uace0\\uc2b4\\ub3c4\\uce58\"},\"renderers\":[{\"id\":\"7295\"}]},\"id\":\"7331\",\"type\":\"LegendItem\"},{\"attributes\":{},\"id\":\"7106\",\"type\":\"Selection\"},{\"attributes\":{},\"id\":\"7278\",\"type\":\"UnionRenderers\"},{\"attributes\":{\"text\":\"\\uae30\\ud0c0 \\ucd95\\uc885 \\uc720\\uae30/\\uc720\\uc2e4 \\ub3d9\\ubb3c \\ud604\\ud669\"},\"id\":\"7061\",\"type\":\"Title\"},{\"attributes\":{},\"id\":\"7170\",\"type\":\"UnionRenderers\"},{\"attributes\":{},\"id\":\"7104\",\"type\":\"DatetimeTickFormatter\"},{\"attributes\":{},\"id\":\"7360\",\"type\":\"UnionRenderers\"},{\"attributes\":{\"data_source\":{\"id\":\"7093\"},\"glyph\":{\"id\":\"7094\"},\"hover_glyph\":null,\"muted_glyph\":null,\"nonselection_glyph\":{\"id\":\"7095\"},\"view\":{\"id\":\"7097\"}},\"id\":\"7096\",\"type\":\"GlyphRenderer\"},{\"attributes\":{\"source\":{\"id\":\"7292\"}},\"id\":\"7296\",\"type\":\"CDSView\"},{\"attributes\":{},\"id\":\"7107\",\"type\":\"UnionRenderers\"},{\"attributes\":{},\"id\":\"7101\",\"type\":\"BasicTickFormatter\"},{\"attributes\":{\"data_source\":{\"id\":\"7184\"},\"glyph\":{\"id\":\"7185\"},\"hover_glyph\":null,\"muted_glyph\":null,\"nonselection_glyph\":{\"id\":\"7186\"},\"view\":{\"id\":\"7188\"}},\"id\":\"7187\",\"type\":\"GlyphRenderer\"},{\"attributes\":{\"line_color\":\"tomato\",\"line_width\":0.8,\"x\":{\"field\":\"x\"},\"y\":{\"field\":\"y\"}},\"id\":\"7094\",\"type\":\"Line\"},{\"attributes\":{},\"id\":\"7102\",\"type\":\"AllLabels\"},{\"attributes\":{\"data\":{\"x\":[1451606400000.0,1483228800000.0,1514764800000.0,1546300800000.0,1577836800000.0],\"y\":[114,65,61,50,114]},\"selected\":{\"id\":\"7169\"},\"selection_policy\":{\"id\":\"7170\"}},\"id\":\"7152\",\"type\":\"ColumnDataSource\"},{\"attributes\":{\"line_alpha\":0.1,\"line_color\":\"orange\",\"line_width\":0.8,\"x\":{\"field\":\"x\"},\"y\":{\"field\":\"y\"}},\"id\":\"7294\",\"type\":\"Line\"},{\"attributes\":{\"days\":[1,8,15,22]},\"id\":\"7113\",\"type\":\"DaysTicker\"},{\"attributes\":{\"source\":{\"id\":\"7184\"}},\"id\":\"7188\",\"type\":\"CDSView\"},{\"attributes\":{\"label\":{\"value\":\"\\uae30\\ub2c8\\ud53c\\uadf8\"},\"renderers\":[{\"id\":\"7155\"}]},\"id\":\"7183\",\"type\":\"LegendItem\"}],\"root_ids\":[\"7060\"]},\"title\":\"Bokeh Application\",\"version\":\"2.3.2\"}};\n  var render_items = [{\"docid\":\"b80fb749-536f-48e1-b68c-51700fe474b3\",\"root_ids\":[\"7060\"],\"roots\":{\"7060\":\"55e09307-7f1a-42d3-8f04-3b4ff0754d75\"}}];\n  root.Bokeh.embed.embed_items_notebook(docs_json, render_items);\n\n  }\n  if (root.Bokeh !== undefined) {\n    embed_document(root);\n  } else {\n    var attempts = 0;\n    var timer = setInterval(function(root) {\n      if (root.Bokeh !== undefined) {\n        clearInterval(timer);\n        embed_document(root);\n      } else {\n        attempts++;\n        if (attempts > 100) {\n          clearInterval(timer);\n          console.log(\"Bokeh: ERROR: Unable to run BokehJS code because BokehJS library is missing\");\n        }\n      }\n    }, 10, root)\n  }\n})(window);"
     },
     "metadata": {
      "application/vnd.bokehjs_exec.v0+json": {
       "id": "7060"
      }
     }
    }
   ],
   "metadata": {}
  },
  {
   "cell_type": "code",
   "execution_count": 30,
   "source": [
    "from bokeh.io import output_notebook, show, save\r\n",
    "save(obj=homework_7, filename= 'p2-1.html')"
   ],
   "outputs": [
    {
     "output_type": "stream",
     "name": "stderr",
     "text": [
      "C:\\Users\\ad\\miniconda3\\lib\\site-packages\\bokeh\\io\\saving.py:126: UserWarning: save() called but no resources were supplied and output_file(...) was never called, defaulting to resources.CDN\n",
      "  warn(\"save() called but no resources were supplied and output_file(...) was never called, defaulting to resources.CDN\")\n",
      "C:\\Users\\ad\\miniconda3\\lib\\site-packages\\bokeh\\io\\saving.py:139: UserWarning: save() called but no title was supplied and output_file(...) was never called, using default title 'Bokeh Plot'\n",
      "  warn(\"save() called but no title was supplied and output_file(...) was never called, using default title 'Bokeh Plot'\")\n"
     ]
    },
    {
     "output_type": "execute_result",
     "data": {
      "text/plain": [
       "'c:\\\\Users\\\\ad\\\\Desktop\\\\ByunUiHyeok\\\\Development\\\\Project\\\\Data Analysis\\\\2.애완동물\\\\gr_sc\\\\p2-1.html'"
      ]
     },
     "metadata": {},
     "execution_count": 30
    }
   ],
   "metadata": {}
  },
  {
   "cell_type": "code",
   "execution_count": 31,
   "source": [
    "p = df4.groupby('구분')['발생현황'].mean().sort_values(ascending=False)\r\n",
    "p = p.reset_index()\r\n",
    "p"
   ],
   "outputs": [
    {
     "output_type": "execute_result",
     "data": {
      "text/plain": [
       "     구분   발생현황\n",
       "0    토끼  321.0\n",
       "1   햄스터  146.4\n",
       "2    염소  111.4\n",
       "3     닭  101.8\n",
       "4   앵무새  100.2\n",
       "5  기니피그   80.8\n",
       "6  고슴도치   66.0\n",
       "7   거북이   41.2"
      ],
      "text/html": [
       "<div>\n",
       "<style scoped>\n",
       "    .dataframe tbody tr th:only-of-type {\n",
       "        vertical-align: middle;\n",
       "    }\n",
       "\n",
       "    .dataframe tbody tr th {\n",
       "        vertical-align: top;\n",
       "    }\n",
       "\n",
       "    .dataframe thead th {\n",
       "        text-align: right;\n",
       "    }\n",
       "</style>\n",
       "<table border=\"1\" class=\"dataframe\">\n",
       "  <thead>\n",
       "    <tr style=\"text-align: right;\">\n",
       "      <th></th>\n",
       "      <th>구분</th>\n",
       "      <th>발생현황</th>\n",
       "    </tr>\n",
       "  </thead>\n",
       "  <tbody>\n",
       "    <tr>\n",
       "      <th>0</th>\n",
       "      <td>토끼</td>\n",
       "      <td>321.0</td>\n",
       "    </tr>\n",
       "    <tr>\n",
       "      <th>1</th>\n",
       "      <td>햄스터</td>\n",
       "      <td>146.4</td>\n",
       "    </tr>\n",
       "    <tr>\n",
       "      <th>2</th>\n",
       "      <td>염소</td>\n",
       "      <td>111.4</td>\n",
       "    </tr>\n",
       "    <tr>\n",
       "      <th>3</th>\n",
       "      <td>닭</td>\n",
       "      <td>101.8</td>\n",
       "    </tr>\n",
       "    <tr>\n",
       "      <th>4</th>\n",
       "      <td>앵무새</td>\n",
       "      <td>100.2</td>\n",
       "    </tr>\n",
       "    <tr>\n",
       "      <th>5</th>\n",
       "      <td>기니피그</td>\n",
       "      <td>80.8</td>\n",
       "    </tr>\n",
       "    <tr>\n",
       "      <th>6</th>\n",
       "      <td>고슴도치</td>\n",
       "      <td>66.0</td>\n",
       "    </tr>\n",
       "    <tr>\n",
       "      <th>7</th>\n",
       "      <td>거북이</td>\n",
       "      <td>41.2</td>\n",
       "    </tr>\n",
       "  </tbody>\n",
       "</table>\n",
       "</div>"
      ]
     },
     "metadata": {},
     "execution_count": 31
    }
   ],
   "metadata": {}
  },
  {
   "cell_type": "code",
   "execution_count": 32,
   "source": [
    "from bokeh.palettes import Category10_8\r\n",
    "source = ColumnDataSource(data=dict(anim=p['구분'].tolist(), cnt=p['발생현황'].to_list(), color=Category10_8))\r\n",
    "\r\n",
    "homework_8 = figure(x_range=p['구분'].tolist(), plot_height=400,plot_width=1000,\r\n",
    "                    title=\"기타 축종별 발생 총합\")\r\n",
    "homework_8.vbar(x=\"anim\",width=0.5,top=\"cnt\",color=\"color\", source=source)\r\n",
    "\r\n",
    "#homework_4.xaxis.axis_label=\"날짜\"\r\n",
    "homework_8.yaxis.axis_label=\"발생건수\"\r\n",
    "\r\n",
    "show(homework_8)"
   ],
   "outputs": [
    {
     "output_type": "display_data",
     "data": {
      "text/html": [
       "\n",
       "\n",
       "\n",
       "\n",
       "\n",
       "\n",
       "  <div class=\"bk-root\" id=\"884eb26d-26e2-4fc7-a630-26078fa224f0\" data-root-id=\"8232\"></div>\n"
      ]
     },
     "metadata": {}
    },
    {
     "output_type": "display_data",
     "data": {
      "application/vnd.bokehjs_exec.v0+json": "",
      "application/javascript": "(function(root) {\n  function embed_document(root) {\n    \n  var docs_json = {\"55652c6c-a536-492a-b6f0-f9250506d1ef\":{\"defs\":[],\"roots\":{\"references\":[{\"attributes\":{\"below\":[{\"id\":\"8243\"}],\"center\":[{\"id\":\"8245\"},{\"id\":\"8249\"}],\"height\":400,\"left\":[{\"id\":\"8246\"}],\"renderers\":[{\"id\":\"8267\"}],\"title\":{\"id\":\"8233\"},\"toolbar\":{\"id\":\"8257\"},\"width\":1000,\"x_range\":{\"id\":\"8235\"},\"x_scale\":{\"id\":\"8239\"},\"y_range\":{\"id\":\"8237\"},\"y_scale\":{\"id\":\"8241\"}},\"id\":\"8232\",\"subtype\":\"Figure\",\"type\":\"Plot\"},{\"attributes\":{\"source\":{\"id\":\"8231\"}},\"id\":\"8268\",\"type\":\"CDSView\"},{\"attributes\":{},\"id\":\"8244\",\"type\":\"CategoricalTicker\"},{\"attributes\":{},\"id\":\"8555\",\"type\":\"CategoricalTickFormatter\"},{\"attributes\":{},\"id\":\"8241\",\"type\":\"LinearScale\"},{\"attributes\":{\"text\":\"\\uae30\\ud0c0 \\ucd95\\uc885\\ubcc4 \\ubc1c\\uc0dd \\ucd1d\\ud569\"},\"id\":\"8233\",\"type\":\"Title\"},{\"attributes\":{},\"id\":\"8552\",\"type\":\"BasicTickFormatter\"},{\"attributes\":{},\"id\":\"8558\",\"type\":\"UnionRenderers\"},{\"attributes\":{},\"id\":\"8253\",\"type\":\"SaveTool\"},{\"attributes\":{\"data\":{\"anim\":[\"\\ud1a0\\ub07c\",\"\\ud584\\uc2a4\\ud130\",\"\\uc5fc\\uc18c\",\"\\ub2ed\",\"\\uc575\\ubb34\\uc0c8\",\"\\uae30\\ub2c8\\ud53c\\uadf8\",\"\\uace0\\uc2b4\\ub3c4\\uce58\",\"\\uac70\\ubd81\\uc774\"],\"cnt\":[321.0,146.4,111.4,101.8,100.2,80.8,66.0,41.2],\"color\":[\"#1f77b4\",\"#ff7f0e\",\"#2ca02c\",\"#d62728\",\"#9467bd\",\"#8c564b\",\"#e377c2\",\"#7f7f7f\"]},\"selected\":{\"id\":\"8557\"},\"selection_policy\":{\"id\":\"8558\"}},\"id\":\"8231\",\"type\":\"ColumnDataSource\"},{\"attributes\":{\"axis\":{\"id\":\"8243\"},\"ticker\":null},\"id\":\"8245\",\"type\":\"Grid\"},{\"attributes\":{},\"id\":\"8250\",\"type\":\"PanTool\"},{\"attributes\":{\"bottom_units\":\"screen\",\"fill_alpha\":0.5,\"fill_color\":\"lightgrey\",\"left_units\":\"screen\",\"level\":\"overlay\",\"line_alpha\":1.0,\"line_color\":\"black\",\"line_dash\":[4,4],\"line_width\":2,\"right_units\":\"screen\",\"syncable\":false,\"top_units\":\"screen\"},\"id\":\"8256\",\"type\":\"BoxAnnotation\"},{\"attributes\":{\"fill_alpha\":{\"value\":0.1},\"fill_color\":{\"field\":\"color\"},\"line_alpha\":{\"value\":0.1},\"line_color\":{\"field\":\"color\"},\"top\":{\"field\":\"cnt\"},\"width\":{\"value\":0.5},\"x\":{\"field\":\"anim\"}},\"id\":\"8266\",\"type\":\"VBar\"},{\"attributes\":{},\"id\":\"8251\",\"type\":\"WheelZoomTool\"},{\"attributes\":{},\"id\":\"8254\",\"type\":\"ResetTool\"},{\"attributes\":{},\"id\":\"8550\",\"type\":\"AllLabels\"},{\"attributes\":{},\"id\":\"8247\",\"type\":\"BasicTicker\"},{\"attributes\":{},\"id\":\"8255\",\"type\":\"HelpTool\"},{\"attributes\":{\"fill_color\":{\"field\":\"color\"},\"line_color\":{\"field\":\"color\"},\"top\":{\"field\":\"cnt\"},\"width\":{\"value\":0.5},\"x\":{\"field\":\"anim\"}},\"id\":\"8265\",\"type\":\"VBar\"},{\"attributes\":{},\"id\":\"8553\",\"type\":\"AllLabels\"},{\"attributes\":{\"factors\":[\"\\ud1a0\\ub07c\",\"\\ud584\\uc2a4\\ud130\",\"\\uc5fc\\uc18c\",\"\\ub2ed\",\"\\uc575\\ubb34\\uc0c8\",\"\\uae30\\ub2c8\\ud53c\\uadf8\",\"\\uace0\\uc2b4\\ub3c4\\uce58\",\"\\uac70\\ubd81\\uc774\"]},\"id\":\"8235\",\"type\":\"FactorRange\"},{\"attributes\":{},\"id\":\"8239\",\"type\":\"CategoricalScale\"},{\"attributes\":{\"formatter\":{\"id\":\"8555\"},\"major_label_policy\":{\"id\":\"8553\"},\"ticker\":{\"id\":\"8244\"}},\"id\":\"8243\",\"type\":\"CategoricalAxis\"},{\"attributes\":{},\"id\":\"8237\",\"type\":\"DataRange1d\"},{\"attributes\":{\"axis\":{\"id\":\"8246\"},\"dimension\":1,\"ticker\":null},\"id\":\"8249\",\"type\":\"Grid\"},{\"attributes\":{\"data_source\":{\"id\":\"8231\"},\"glyph\":{\"id\":\"8265\"},\"hover_glyph\":null,\"muted_glyph\":null,\"nonselection_glyph\":{\"id\":\"8266\"},\"view\":{\"id\":\"8268\"}},\"id\":\"8267\",\"type\":\"GlyphRenderer\"},{\"attributes\":{\"active_multi\":null,\"tools\":[{\"id\":\"8250\"},{\"id\":\"8251\"},{\"id\":\"8252\"},{\"id\":\"8253\"},{\"id\":\"8254\"},{\"id\":\"8255\"}]},\"id\":\"8257\",\"type\":\"Toolbar\"},{\"attributes\":{\"axis_label\":\"\\ubc1c\\uc0dd\\uac74\\uc218\",\"formatter\":{\"id\":\"8552\"},\"major_label_policy\":{\"id\":\"8550\"},\"ticker\":{\"id\":\"8247\"}},\"id\":\"8246\",\"type\":\"LinearAxis\"},{\"attributes\":{},\"id\":\"8557\",\"type\":\"Selection\"},{\"attributes\":{\"overlay\":{\"id\":\"8256\"}},\"id\":\"8252\",\"type\":\"BoxZoomTool\"}],\"root_ids\":[\"8232\"]},\"title\":\"Bokeh Application\",\"version\":\"2.3.2\"}};\n  var render_items = [{\"docid\":\"55652c6c-a536-492a-b6f0-f9250506d1ef\",\"root_ids\":[\"8232\"],\"roots\":{\"8232\":\"884eb26d-26e2-4fc7-a630-26078fa224f0\"}}];\n  root.Bokeh.embed.embed_items_notebook(docs_json, render_items);\n\n  }\n  if (root.Bokeh !== undefined) {\n    embed_document(root);\n  } else {\n    var attempts = 0;\n    var timer = setInterval(function(root) {\n      if (root.Bokeh !== undefined) {\n        clearInterval(timer);\n        embed_document(root);\n      } else {\n        attempts++;\n        if (attempts > 100) {\n          clearInterval(timer);\n          console.log(\"Bokeh: ERROR: Unable to run BokehJS code because BokehJS library is missing\");\n        }\n      }\n    }, 10, root)\n  }\n})(window);"
     },
     "metadata": {
      "application/vnd.bokehjs_exec.v0+json": {
       "id": "8232"
      }
     }
    }
   ],
   "metadata": {}
  },
  {
   "cell_type": "code",
   "execution_count": 33,
   "source": [
    "from bokeh.io import output_notebook, show, save\r\n",
    "save(obj=homework_8, filename= 'p2-2.html')"
   ],
   "outputs": [
    {
     "output_type": "stream",
     "name": "stderr",
     "text": [
      "C:\\Users\\ad\\miniconda3\\lib\\site-packages\\bokeh\\io\\saving.py:126: UserWarning: save() called but no resources were supplied and output_file(...) was never called, defaulting to resources.CDN\n",
      "  warn(\"save() called but no resources were supplied and output_file(...) was never called, defaulting to resources.CDN\")\n",
      "C:\\Users\\ad\\miniconda3\\lib\\site-packages\\bokeh\\io\\saving.py:139: UserWarning: save() called but no title was supplied and output_file(...) was never called, using default title 'Bokeh Plot'\n",
      "  warn(\"save() called but no title was supplied and output_file(...) was never called, using default title 'Bokeh Plot'\")\n"
     ]
    },
    {
     "output_type": "execute_result",
     "data": {
      "text/plain": [
       "'c:\\\\Users\\\\ad\\\\Desktop\\\\ByunUiHyeok\\\\Development\\\\Project\\\\Data Analysis\\\\2.애완동물\\\\gr_sc\\\\p2-2.html'"
      ]
     },
     "metadata": {},
     "execution_count": 33
    }
   ],
   "metadata": {}
  },
  {
   "cell_type": "code",
   "execution_count": 35,
   "source": [
    "df3 = pd.read_excel('C:/Users/ad/Documents/카카오톡 받은 파일/4조 하은종/유기동물데이터.xlsx', sheet_name='유실, 유기동물 처리현황 년별' )\r\n",
    "df3 = df3.melt(id_vars='구분', var_name='년도', value_name='발생현황')\r\n",
    "df3_구분 = df3.groupby(['구분'])['발생현황'].sum()\r\n",
    "ratio = list(df3_구분)\r\n",
    "labels = ['기증', '미포획', '반환', '방사', '보호중', '안락사', '입양', '자연사']\r\n",
    "explode = [0.05, 0.05, 0.05, 0.05, 0.05, 0.05, 0.05, 0.05]\r\n",
    "dict(df3.groupby(['구분'])['발생현황'].sum())\r\n"
   ],
   "outputs": [
    {
     "output_type": "execute_result",
     "data": {
      "text/plain": [
       "{'기증': 10451,\n",
       " '미포획': 2346,\n",
       " '반환': 75413,\n",
       " '방사': 5446,\n",
       " '보호중': 18489,\n",
       " '안락사': 127883,\n",
       " '입양': 177061,\n",
       " '자연사': 153285}"
      ]
     },
     "metadata": {},
     "execution_count": 35
    }
   ],
   "metadata": {}
  },
  {
   "cell_type": "code",
   "execution_count": 51,
   "source": [
    "from math import pi\r\n",
    "\r\n",
    "import pandas as pd\r\n",
    "\r\n",
    "from bokeh.io import output_file, show\r\n",
    "from bokeh.palettes import Category20c\r\n",
    "from bokeh.plotting import figure\r\n",
    "from bokeh.transform import cumsum\r\n",
    "x = dict(df3.groupby(['구분'])['발생현황'].sum())\r\n",
    "xdata = pd.Series(x).reset_index(name='value').rename(columns={'index':'kind'})\r\n",
    "xdata['angle'] = xdata['value']/xdata['value'].sum() * 2*pi\r\n",
    "xdata['color'] = Category20c[len(x)]\r\n",
    "xdata['perc'] = round(xdata['value']/xdata['value'].sum() * 100)\r\n",
    "\r\n",
    "p = figure(plot_height=350, title=\"유기/유실동물 처리비율\", toolbar_location=None,\r\n",
    "           tools=\"hover\", tooltips=\"@kind: @value(@perc %)\", x_range=(-0.5, 1.0))\r\n",
    "\r\n",
    "p.wedge(x=0, y=1, radius=0.4,\r\n",
    "        start_angle=cumsum('angle', include_zero=True), end_angle=cumsum('angle'),\r\n",
    "        line_color=\"white\", fill_color='color', legend_field='kind', source=xdata)\r\n",
    "\r\n",
    "p.axis.axis_label=None\r\n",
    "p.axis.visible=False\r\n",
    "p.grid.grid_line_color = None\r\n",
    "#p.legend.click_policy=\"hide\"\r\n",
    "p.legend.click_policy=\"mute\"\r\n",
    "show(p)"
   ],
   "outputs": [
    {
     "output_type": "display_data",
     "data": {
      "text/html": [
       "\n",
       "\n",
       "\n",
       "\n",
       "\n",
       "\n",
       "  <div class=\"bk-root\" id=\"772c46c2-6442-42da-b36f-10d1feb80def\" data-root-id=\"13934\"></div>\n"
      ]
     },
     "metadata": {}
    },
    {
     "output_type": "display_data",
     "data": {
      "application/vnd.bokehjs_exec.v0+json": "",
      "application/javascript": "(function(root) {\n  function embed_document(root) {\n    \n  var docs_json = {\"3fe361c8-44ec-48ed-bbe2-d08ba33f1a6e\":{\"defs\":[],\"roots\":{\"references\":[{\"attributes\":{\"below\":[{\"id\":\"13945\"}],\"center\":[{\"id\":\"13948\"},{\"id\":\"13952\"},{\"id\":\"13973\"}],\"height\":350,\"left\":[{\"id\":\"13949\"}],\"renderers\":[{\"id\":\"13962\"}],\"title\":{\"id\":\"13935\"},\"toolbar\":{\"id\":\"13954\"},\"toolbar_location\":null,\"x_range\":{\"id\":\"13937\"},\"x_scale\":{\"id\":\"13941\"},\"y_range\":{\"id\":\"13939\"},\"y_scale\":{\"id\":\"13943\"}},\"id\":\"13934\",\"subtype\":\"Figure\",\"type\":\"Plot\"},{\"attributes\":{\"data_source\":{\"id\":\"13958\"},\"glyph\":{\"id\":\"13960\"},\"hover_glyph\":null,\"muted_glyph\":null,\"nonselection_glyph\":{\"id\":\"13961\"},\"view\":{\"id\":\"13963\"}},\"id\":\"13962\",\"type\":\"GlyphRenderer\"},{\"attributes\":{\"source\":{\"id\":\"13958\"}},\"id\":\"13963\",\"type\":\"CDSView\"},{\"attributes\":{},\"id\":\"13939\",\"type\":\"DataRange1d\"},{\"attributes\":{},\"id\":\"13970\",\"type\":\"BasicTickFormatter\"},{\"attributes\":{\"field\":\"angle\",\"include_zero\":true},\"id\":\"13956\",\"type\":\"CumSum\"},{\"attributes\":{},\"id\":\"13946\",\"type\":\"BasicTicker\"},{\"attributes\":{\"label\":{\"field\":\"kind\"},\"renderers\":[{\"id\":\"13962\"}]},\"id\":\"13974\",\"type\":\"LegendItem\"},{\"attributes\":{\"end_angle\":{\"expr\":{\"id\":\"13957\"}},\"fill_color\":{\"field\":\"color\"},\"line_color\":{\"value\":\"white\"},\"radius\":{\"value\":0.4},\"start_angle\":{\"expr\":{\"id\":\"13956\"}},\"x\":{\"value\":0},\"y\":{\"value\":1}},\"id\":\"13960\",\"type\":\"Wedge\"},{\"attributes\":{},\"id\":\"13971\",\"type\":\"Selection\"},{\"attributes\":{},\"id\":\"13972\",\"type\":\"UnionRenderers\"},{\"attributes\":{\"callback\":null,\"tooltips\":\"@kind: @value(@perc %)\"},\"id\":\"13953\",\"type\":\"HoverTool\"},{\"attributes\":{\"axis\":{\"id\":\"13945\"},\"grid_line_color\":null,\"ticker\":null},\"id\":\"13948\",\"type\":\"Grid\"},{\"attributes\":{\"start\":-0.5},\"id\":\"13937\",\"type\":\"Range1d\"},{\"attributes\":{},\"id\":\"13965\",\"type\":\"AllLabels\"},{\"attributes\":{},\"id\":\"13967\",\"type\":\"BasicTickFormatter\"},{\"attributes\":{\"text\":\"\\uc720\\uae30/\\uc720\\uc2e4\\ub3d9\\ubb3c \\ucc98\\ub9ac\\ube44\\uc728\"},\"id\":\"13935\",\"type\":\"Title\"},{\"attributes\":{},\"id\":\"13950\",\"type\":\"BasicTicker\"},{\"attributes\":{\"axis\":{\"id\":\"13949\"},\"dimension\":1,\"grid_line_color\":null,\"ticker\":null},\"id\":\"13952\",\"type\":\"Grid\"},{\"attributes\":{\"active_multi\":null,\"tools\":[{\"id\":\"13953\"}]},\"id\":\"13954\",\"type\":\"Toolbar\"},{\"attributes\":{\"click_policy\":\"mute\",\"items\":[{\"id\":\"13974\"}]},\"id\":\"13973\",\"type\":\"Legend\"},{\"attributes\":{\"end_angle\":{\"expr\":{\"id\":\"13957\"}},\"fill_alpha\":{\"value\":0.1},\"fill_color\":{\"field\":\"color\"},\"line_alpha\":{\"value\":0.1},\"line_color\":{\"value\":\"white\"},\"radius\":{\"value\":0.4},\"start_angle\":{\"expr\":{\"id\":\"13956\"}},\"x\":{\"value\":0},\"y\":{\"value\":1}},\"id\":\"13961\",\"type\":\"Wedge\"},{\"attributes\":{},\"id\":\"13943\",\"type\":\"LinearScale\"},{\"attributes\":{},\"id\":\"13968\",\"type\":\"AllLabels\"},{\"attributes\":{\"axis_label\":null,\"formatter\":{\"id\":\"13970\"},\"major_label_policy\":{\"id\":\"13968\"},\"ticker\":{\"id\":\"13946\"},\"visible\":false},\"id\":\"13945\",\"type\":\"LinearAxis\"},{\"attributes\":{\"axis_label\":null,\"formatter\":{\"id\":\"13967\"},\"major_label_policy\":{\"id\":\"13965\"},\"ticker\":{\"id\":\"13950\"},\"visible\":false},\"id\":\"13949\",\"type\":\"LinearAxis\"},{\"attributes\":{\"data\":{\"angle\":{\"__ndarray__\":\"gL2qI/p4vT8DiSNAq3aaP0M8jApxleo/5269FVq3rj8YJ+Rj9RHKPxeiKCg6ivY/PX792zE1/z+Syz77ZAT7Pw==\",\"dtype\":\"float64\",\"order\":\"little\",\"shape\":[8]},\"color\":[\"#3182bd\",\"#6baed6\",\"#9ecae1\",\"#c6dbef\",\"#e6550d\",\"#fd8d3c\",\"#fdae6b\",\"#fdd0a2\"],\"index\":[0,1,2,3,4,5,6,7],\"kind\":[\"\\uae30\\uc99d\",\"\\ubbf8\\ud3ec\\ud68d\",\"\\ubc18\\ud658\",\"\\ubc29\\uc0ac\",\"\\ubcf4\\ud638\\uc911\",\"\\uc548\\ub77d\\uc0ac\",\"\\uc785\\uc591\",\"\\uc790\\uc5f0\\uc0ac\"],\"perc\":{\"__ndarray__\":\"AAAAAAAAAEAAAAAAAAAAAAAAAAAAACpAAAAAAAAA8D8AAAAAAAAIQAAAAAAAADZAAAAAAAAAP0AAAAAAAAA7QA==\",\"dtype\":\"float64\",\"order\":\"little\",\"shape\":[8]},\"value\":[10451,2346,75413,5446,18489,127883,177061,153285]},\"selected\":{\"id\":\"13971\"},\"selection_policy\":{\"id\":\"13972\"}},\"id\":\"13958\",\"type\":\"ColumnDataSource\"},{\"attributes\":{\"field\":\"angle\"},\"id\":\"13957\",\"type\":\"CumSum\"},{\"attributes\":{},\"id\":\"13941\",\"type\":\"LinearScale\"}],\"root_ids\":[\"13934\"]},\"title\":\"Bokeh Application\",\"version\":\"2.3.2\"}};\n  var render_items = [{\"docid\":\"3fe361c8-44ec-48ed-bbe2-d08ba33f1a6e\",\"root_ids\":[\"13934\"],\"roots\":{\"13934\":\"772c46c2-6442-42da-b36f-10d1feb80def\"}}];\n  root.Bokeh.embed.embed_items_notebook(docs_json, render_items);\n\n  }\n  if (root.Bokeh !== undefined) {\n    embed_document(root);\n  } else {\n    var attempts = 0;\n    var timer = setInterval(function(root) {\n      if (root.Bokeh !== undefined) {\n        clearInterval(timer);\n        embed_document(root);\n      } else {\n        attempts++;\n        if (attempts > 100) {\n          clearInterval(timer);\n          console.log(\"Bokeh: ERROR: Unable to run BokehJS code because BokehJS library is missing\");\n        }\n      }\n    }, 10, root)\n  }\n})(window);"
     },
     "metadata": {
      "application/vnd.bokehjs_exec.v0+json": {
       "id": "13934"
      }
     }
    }
   ],
   "metadata": {}
  },
  {
   "cell_type": "code",
   "execution_count": 52,
   "source": [
    "from bokeh.io import output_notebook, show, save\r\n",
    "save(obj=p, filename= 'p3-1.html')"
   ],
   "outputs": [
    {
     "output_type": "stream",
     "name": "stderr",
     "text": [
      "C:\\Users\\ad\\miniconda3\\lib\\site-packages\\bokeh\\io\\saving.py:126: UserWarning: save() called but no resources were supplied and output_file(...) was never called, defaulting to resources.CDN\n",
      "  warn(\"save() called but no resources were supplied and output_file(...) was never called, defaulting to resources.CDN\")\n",
      "C:\\Users\\ad\\miniconda3\\lib\\site-packages\\bokeh\\io\\saving.py:139: UserWarning: save() called but no title was supplied and output_file(...) was never called, using default title 'Bokeh Plot'\n",
      "  warn(\"save() called but no title was supplied and output_file(...) was never called, using default title 'Bokeh Plot'\")\n"
     ]
    },
    {
     "output_type": "execute_result",
     "data": {
      "text/plain": [
       "'c:\\\\Users\\\\ad\\\\Desktop\\\\ByunUiHyeok\\\\Development\\\\Project\\\\Data Analysis\\\\2.애완동물\\\\gr_sc\\\\p3-1.html'"
      ]
     },
     "metadata": {},
     "execution_count": 52
    }
   ],
   "metadata": {}
  },
  {
   "cell_type": "code",
   "execution_count": 47,
   "source": [
    "xdata['perc'].sum()"
   ],
   "outputs": [
    {
     "output_type": "execute_result",
     "data": {
      "text/plain": [
       "99.0"
      ]
     },
     "metadata": {},
     "execution_count": 47
    }
   ],
   "metadata": {}
  },
  {
   "cell_type": "code",
   "execution_count": 280,
   "source": [
    "xdata['angle'].sum()"
   ],
   "outputs": [
    {
     "output_type": "execute_result",
     "data": {
      "text/plain": [
       "6.283185307179585"
      ]
     },
     "metadata": {},
     "execution_count": 280
    }
   ],
   "metadata": {}
  },
  {
   "cell_type": "code",
   "execution_count": 54,
   "source": [
    "df3_안락사 = df3[df3['구분'] == '안락사']\r\n",
    "df3_안락사2 = df3_안락사.set_index('년도')\r\n",
    "df3_안락사2.index = df3_안락사2.index.str.replace('년','') #'월','.'\r\n",
    "# df2_tt.index = df2_tt.index.str.replace('월','') #'월','.'\r\n",
    "# df4_tt.index = pd.to_datetime(df4_tt.index).strftime('%Y-%m')\r\n",
    "df3_안락사2.index = pd.to_datetime(df3_안락사2.index)\r\n",
    "df3_안락사2"
   ],
   "outputs": [
    {
     "output_type": "execute_result",
     "data": {
      "text/plain": [
       "             구분   발생현황\n",
       "년도                    \n",
       "2016-01-01  안락사  18679\n",
       "2017-01-01  안락사  21238\n",
       "2018-01-01  안락사  27751\n",
       "2019-01-01  안락사  33066\n",
       "2020-01-01  안락사  27149"
      ],
      "text/html": [
       "<div>\n",
       "<style scoped>\n",
       "    .dataframe tbody tr th:only-of-type {\n",
       "        vertical-align: middle;\n",
       "    }\n",
       "\n",
       "    .dataframe tbody tr th {\n",
       "        vertical-align: top;\n",
       "    }\n",
       "\n",
       "    .dataframe thead th {\n",
       "        text-align: right;\n",
       "    }\n",
       "</style>\n",
       "<table border=\"1\" class=\"dataframe\">\n",
       "  <thead>\n",
       "    <tr style=\"text-align: right;\">\n",
       "      <th></th>\n",
       "      <th>구분</th>\n",
       "      <th>발생현황</th>\n",
       "    </tr>\n",
       "    <tr>\n",
       "      <th>년도</th>\n",
       "      <th></th>\n",
       "      <th></th>\n",
       "    </tr>\n",
       "  </thead>\n",
       "  <tbody>\n",
       "    <tr>\n",
       "      <th>2016-01-01</th>\n",
       "      <td>안락사</td>\n",
       "      <td>18679</td>\n",
       "    </tr>\n",
       "    <tr>\n",
       "      <th>2017-01-01</th>\n",
       "      <td>안락사</td>\n",
       "      <td>21238</td>\n",
       "    </tr>\n",
       "    <tr>\n",
       "      <th>2018-01-01</th>\n",
       "      <td>안락사</td>\n",
       "      <td>27751</td>\n",
       "    </tr>\n",
       "    <tr>\n",
       "      <th>2019-01-01</th>\n",
       "      <td>안락사</td>\n",
       "      <td>33066</td>\n",
       "    </tr>\n",
       "    <tr>\n",
       "      <th>2020-01-01</th>\n",
       "      <td>안락사</td>\n",
       "      <td>27149</td>\n",
       "    </tr>\n",
       "  </tbody>\n",
       "</table>\n",
       "</div>"
      ]
     },
     "metadata": {},
     "execution_count": 54
    }
   ],
   "metadata": {}
  },
  {
   "cell_type": "code",
   "execution_count": 55,
   "source": [
    "homework_9 = figure(\r\n",
    "    plot_width=500, plot_height=400,\r\n",
    "    x_axis_type=\"datetime\",\r\n",
    "    title=\"년도별 안락사 현황\",\r\n",
    "    )\r\n",
    "    \r\n",
    "#homework_1.title.text = \"test\"\r\n",
    "\r\n",
    "homework_9.line(df3_안락사2.index.tolist(),\r\n",
    "                df3_안락사2['발생현황'].tolist(),\r\n",
    "                line_width=1,\r\n",
    "                line_color=\"tomato\")\r\n",
    "\r\n",
    "homework_9.xaxis.axis_label=\"년도\"\r\n",
    "homework_9.yaxis.axis_label=\"발생 건수\"\r\n",
    "#homework_6.x_range.start = 1\r\n",
    "#homework_6.x_range.end = 12\r\n",
    "#homework_5.x_range.range_padding = 1\r\n",
    "show(homework_9)"
   ],
   "outputs": [
    {
     "output_type": "display_data",
     "data": {
      "text/html": [
       "\n",
       "\n",
       "\n",
       "\n",
       "\n",
       "\n",
       "  <div class=\"bk-root\" id=\"b193593b-b57d-4f28-94fb-dc92b0c18603\" data-root-id=\"14527\"></div>\n"
      ]
     },
     "metadata": {}
    },
    {
     "output_type": "display_data",
     "data": {
      "application/vnd.bokehjs_exec.v0+json": "",
      "application/javascript": "(function(root) {\n  function embed_document(root) {\n    \n  var docs_json = {\"ea6d6f57-a8ed-4949-8bba-b45e13f12a95\":{\"defs\":[],\"roots\":{\"references\":[{\"attributes\":{\"below\":[{\"id\":\"14538\"}],\"center\":[{\"id\":\"14541\"},{\"id\":\"14545\"}],\"height\":400,\"left\":[{\"id\":\"14542\"}],\"renderers\":[{\"id\":\"14563\"}],\"title\":{\"id\":\"14528\"},\"toolbar\":{\"id\":\"14553\"},\"width\":500,\"x_range\":{\"id\":\"14530\"},\"x_scale\":{\"id\":\"14534\"},\"y_range\":{\"id\":\"14532\"},\"y_scale\":{\"id\":\"14536\"}},\"id\":\"14527\",\"subtype\":\"Figure\",\"type\":\"Plot\"},{\"attributes\":{},\"id\":\"14973\",\"type\":\"AllLabels\"},{\"attributes\":{\"data\":{\"x\":[1451606400000.0,1483228800000.0,1514764800000.0,1546300800000.0,1577836800000.0],\"y\":[18679,21238,27751,33066,27149]},\"selected\":{\"id\":\"14980\"},\"selection_policy\":{\"id\":\"14981\"}},\"id\":\"14560\",\"type\":\"ColumnDataSource\"},{\"attributes\":{\"months\":[0,1,2,3,4,5,6,7,8,9,10,11]},\"id\":\"14989\",\"type\":\"MonthsTicker\"},{\"attributes\":{\"axis\":{\"id\":\"14542\"},\"dimension\":1,\"ticker\":null},\"id\":\"14545\",\"type\":\"Grid\"},{\"attributes\":{\"days\":[1,15]},\"id\":\"14988\",\"type\":\"DaysTicker\"},{\"attributes\":{},\"id\":\"14536\",\"type\":\"LinearScale\"},{\"attributes\":{},\"id\":\"14993\",\"type\":\"YearsTicker\"},{\"attributes\":{\"base\":24,\"mantissas\":[1,2,4,6,8,12],\"max_interval\":43200000.0,\"min_interval\":3600000.0,\"num_minor_ticks\":0},\"id\":\"14984\",\"type\":\"AdaptiveTicker\"},{\"attributes\":{},\"id\":\"14978\",\"type\":\"DatetimeTickFormatter\"},{\"attributes\":{\"axis_label\":\"\\ub144\\ub3c4\",\"formatter\":{\"id\":\"14978\"},\"major_label_policy\":{\"id\":\"14976\"},\"ticker\":{\"id\":\"14539\"}},\"id\":\"14538\",\"type\":\"DatetimeAxis\"},{\"attributes\":{},\"id\":\"14534\",\"type\":\"LinearScale\"},{\"attributes\":{},\"id\":\"14532\",\"type\":\"DataRange1d\"},{\"attributes\":{},\"id\":\"14543\",\"type\":\"BasicTicker\"},{\"attributes\":{},\"id\":\"14975\",\"type\":\"BasicTickFormatter\"},{\"attributes\":{\"num_minor_ticks\":5,\"tickers\":[{\"id\":\"14982\"},{\"id\":\"14983\"},{\"id\":\"14984\"},{\"id\":\"14985\"},{\"id\":\"14986\"},{\"id\":\"14987\"},{\"id\":\"14988\"},{\"id\":\"14989\"},{\"id\":\"14990\"},{\"id\":\"14991\"},{\"id\":\"14992\"},{\"id\":\"14993\"}]},\"id\":\"14539\",\"type\":\"DatetimeTicker\"},{\"attributes\":{\"days\":[1,8,15,22]},\"id\":\"14987\",\"type\":\"DaysTicker\"},{\"attributes\":{\"mantissas\":[1,2,5],\"max_interval\":500.0,\"num_minor_ticks\":0},\"id\":\"14982\",\"type\":\"AdaptiveTicker\"},{\"attributes\":{\"days\":[1,2,3,4,5,6,7,8,9,10,11,12,13,14,15,16,17,18,19,20,21,22,23,24,25,26,27,28,29,30,31]},\"id\":\"14985\",\"type\":\"DaysTicker\"},{\"attributes\":{\"source\":{\"id\":\"14560\"}},\"id\":\"14564\",\"type\":\"CDSView\"},{\"attributes\":{\"axis\":{\"id\":\"14538\"},\"ticker\":null},\"id\":\"14541\",\"type\":\"Grid\"},{\"attributes\":{\"days\":[1,4,7,10,13,16,19,22,25,28]},\"id\":\"14986\",\"type\":\"DaysTicker\"},{\"attributes\":{\"axis_label\":\"\\ubc1c\\uc0dd \\uac74\\uc218\",\"formatter\":{\"id\":\"14975\"},\"major_label_policy\":{\"id\":\"14973\"},\"ticker\":{\"id\":\"14543\"}},\"id\":\"14542\",\"type\":\"LinearAxis\"},{\"attributes\":{\"months\":[0,2,4,6,8,10]},\"id\":\"14990\",\"type\":\"MonthsTicker\"},{\"attributes\":{},\"id\":\"14551\",\"type\":\"HelpTool\"},{\"attributes\":{},\"id\":\"14530\",\"type\":\"DataRange1d\"},{\"attributes\":{\"months\":[0,6]},\"id\":\"14992\",\"type\":\"MonthsTicker\"},{\"attributes\":{\"bottom_units\":\"screen\",\"fill_alpha\":0.5,\"fill_color\":\"lightgrey\",\"left_units\":\"screen\",\"level\":\"overlay\",\"line_alpha\":1.0,\"line_color\":\"black\",\"line_dash\":[4,4],\"line_width\":2,\"right_units\":\"screen\",\"syncable\":false,\"top_units\":\"screen\"},\"id\":\"14552\",\"type\":\"BoxAnnotation\"},{\"attributes\":{\"text\":\"\\ub144\\ub3c4\\ubcc4 \\uc548\\ub77d\\uc0ac \\ud604\\ud669\"},\"id\":\"14528\",\"type\":\"Title\"},{\"attributes\":{\"data_source\":{\"id\":\"14560\"},\"glyph\":{\"id\":\"14561\"},\"hover_glyph\":null,\"muted_glyph\":null,\"nonselection_glyph\":{\"id\":\"14562\"},\"view\":{\"id\":\"14564\"}},\"id\":\"14563\",\"type\":\"GlyphRenderer\"},{\"attributes\":{},\"id\":\"14976\",\"type\":\"AllLabels\"},{\"attributes\":{},\"id\":\"14550\",\"type\":\"ResetTool\"},{\"attributes\":{\"line_alpha\":0.1,\"line_color\":\"tomato\",\"x\":{\"field\":\"x\"},\"y\":{\"field\":\"y\"}},\"id\":\"14562\",\"type\":\"Line\"},{\"attributes\":{\"base\":60,\"mantissas\":[1,2,5,10,15,20,30],\"max_interval\":1800000.0,\"min_interval\":1000.0,\"num_minor_ticks\":0},\"id\":\"14983\",\"type\":\"AdaptiveTicker\"},{\"attributes\":{\"line_color\":\"tomato\",\"x\":{\"field\":\"x\"},\"y\":{\"field\":\"y\"}},\"id\":\"14561\",\"type\":\"Line\"},{\"attributes\":{\"months\":[0,4,8]},\"id\":\"14991\",\"type\":\"MonthsTicker\"},{\"attributes\":{},\"id\":\"14547\",\"type\":\"WheelZoomTool\"},{\"attributes\":{},\"id\":\"14980\",\"type\":\"Selection\"},{\"attributes\":{},\"id\":\"14549\",\"type\":\"SaveTool\"},{\"attributes\":{\"active_multi\":null,\"tools\":[{\"id\":\"14546\"},{\"id\":\"14547\"},{\"id\":\"14548\"},{\"id\":\"14549\"},{\"id\":\"14550\"},{\"id\":\"14551\"}]},\"id\":\"14553\",\"type\":\"Toolbar\"},{\"attributes\":{},\"id\":\"14546\",\"type\":\"PanTool\"},{\"attributes\":{\"overlay\":{\"id\":\"14552\"}},\"id\":\"14548\",\"type\":\"BoxZoomTool\"},{\"attributes\":{},\"id\":\"14981\",\"type\":\"UnionRenderers\"}],\"root_ids\":[\"14527\"]},\"title\":\"Bokeh Application\",\"version\":\"2.3.2\"}};\n  var render_items = [{\"docid\":\"ea6d6f57-a8ed-4949-8bba-b45e13f12a95\",\"root_ids\":[\"14527\"],\"roots\":{\"14527\":\"b193593b-b57d-4f28-94fb-dc92b0c18603\"}}];\n  root.Bokeh.embed.embed_items_notebook(docs_json, render_items);\n\n  }\n  if (root.Bokeh !== undefined) {\n    embed_document(root);\n  } else {\n    var attempts = 0;\n    var timer = setInterval(function(root) {\n      if (root.Bokeh !== undefined) {\n        clearInterval(timer);\n        embed_document(root);\n      } else {\n        attempts++;\n        if (attempts > 100) {\n          clearInterval(timer);\n          console.log(\"Bokeh: ERROR: Unable to run BokehJS code because BokehJS library is missing\");\n        }\n      }\n    }, 10, root)\n  }\n})(window);"
     },
     "metadata": {
      "application/vnd.bokehjs_exec.v0+json": {
       "id": "14527"
      }
     }
    }
   ],
   "metadata": {}
  },
  {
   "cell_type": "code",
   "execution_count": 56,
   "source": [
    "from bokeh.io import output_notebook, show, save\r\n",
    "save(obj=homework_9, filename= 'p3-2.html')"
   ],
   "outputs": [
    {
     "output_type": "stream",
     "name": "stderr",
     "text": [
      "C:\\Users\\ad\\miniconda3\\lib\\site-packages\\bokeh\\io\\saving.py:126: UserWarning: save() called but no resources were supplied and output_file(...) was never called, defaulting to resources.CDN\n",
      "  warn(\"save() called but no resources were supplied and output_file(...) was never called, defaulting to resources.CDN\")\n",
      "C:\\Users\\ad\\miniconda3\\lib\\site-packages\\bokeh\\io\\saving.py:139: UserWarning: save() called but no title was supplied and output_file(...) was never called, using default title 'Bokeh Plot'\n",
      "  warn(\"save() called but no title was supplied and output_file(...) was never called, using default title 'Bokeh Plot'\")\n"
     ]
    },
    {
     "output_type": "execute_result",
     "data": {
      "text/plain": [
       "'c:\\\\Users\\\\ad\\\\Desktop\\\\ByunUiHyeok\\\\Development\\\\Project\\\\Data Analysis\\\\2.애완동물\\\\gr_sc\\\\p3-2.html'"
      ]
     },
     "metadata": {},
     "execution_count": 56
    }
   ],
   "metadata": {}
  },
  {
   "cell_type": "code",
   "execution_count": 57,
   "source": [
    "df3_입양 = df3[df3['구분'] == '입양']\r\n",
    "df3_입양"
   ],
   "outputs": [
    {
     "output_type": "execute_result",
     "data": {
      "text/plain": [
       "    구분     년도   발생현황\n",
       "1   입양  2016년  29145\n",
       "9   입양  2017년  31567\n",
       "17  입양  2018년  37434\n",
       "25  입양  2019년  39459\n",
       "33  입양  2020년  39456"
      ],
      "text/html": [
       "<div>\n",
       "<style scoped>\n",
       "    .dataframe tbody tr th:only-of-type {\n",
       "        vertical-align: middle;\n",
       "    }\n",
       "\n",
       "    .dataframe tbody tr th {\n",
       "        vertical-align: top;\n",
       "    }\n",
       "\n",
       "    .dataframe thead th {\n",
       "        text-align: right;\n",
       "    }\n",
       "</style>\n",
       "<table border=\"1\" class=\"dataframe\">\n",
       "  <thead>\n",
       "    <tr style=\"text-align: right;\">\n",
       "      <th></th>\n",
       "      <th>구분</th>\n",
       "      <th>년도</th>\n",
       "      <th>발생현황</th>\n",
       "    </tr>\n",
       "  </thead>\n",
       "  <tbody>\n",
       "    <tr>\n",
       "      <th>1</th>\n",
       "      <td>입양</td>\n",
       "      <td>2016년</td>\n",
       "      <td>29145</td>\n",
       "    </tr>\n",
       "    <tr>\n",
       "      <th>9</th>\n",
       "      <td>입양</td>\n",
       "      <td>2017년</td>\n",
       "      <td>31567</td>\n",
       "    </tr>\n",
       "    <tr>\n",
       "      <th>17</th>\n",
       "      <td>입양</td>\n",
       "      <td>2018년</td>\n",
       "      <td>37434</td>\n",
       "    </tr>\n",
       "    <tr>\n",
       "      <th>25</th>\n",
       "      <td>입양</td>\n",
       "      <td>2019년</td>\n",
       "      <td>39459</td>\n",
       "    </tr>\n",
       "    <tr>\n",
       "      <th>33</th>\n",
       "      <td>입양</td>\n",
       "      <td>2020년</td>\n",
       "      <td>39456</td>\n",
       "    </tr>\n",
       "  </tbody>\n",
       "</table>\n",
       "</div>"
      ]
     },
     "metadata": {},
     "execution_count": 57
    }
   ],
   "metadata": {}
  },
  {
   "cell_type": "code",
   "execution_count": 58,
   "source": [
    "df3_입양2 = df3_입양.set_index('년도')\r\n",
    "df3_입양2.index = df3_입양2.index.str.replace('년','') #'월','.'\r\n",
    "# df2_tt.index = df2_tt.index.str.replace('월','') #'월','.'\r\n",
    "# df4_tt.index = pd.to_datetime(df4_tt.index).strftime('%Y-%m')\r\n",
    "df3_입양2.index = pd.to_datetime(df3_입양2.index, format='%Y')\r\n",
    "df3_입양2"
   ],
   "outputs": [
    {
     "output_type": "execute_result",
     "data": {
      "text/plain": [
       "            구분   발생현황\n",
       "년도                   \n",
       "2016-01-01  입양  29145\n",
       "2017-01-01  입양  31567\n",
       "2018-01-01  입양  37434\n",
       "2019-01-01  입양  39459\n",
       "2020-01-01  입양  39456"
      ],
      "text/html": [
       "<div>\n",
       "<style scoped>\n",
       "    .dataframe tbody tr th:only-of-type {\n",
       "        vertical-align: middle;\n",
       "    }\n",
       "\n",
       "    .dataframe tbody tr th {\n",
       "        vertical-align: top;\n",
       "    }\n",
       "\n",
       "    .dataframe thead th {\n",
       "        text-align: right;\n",
       "    }\n",
       "</style>\n",
       "<table border=\"1\" class=\"dataframe\">\n",
       "  <thead>\n",
       "    <tr style=\"text-align: right;\">\n",
       "      <th></th>\n",
       "      <th>구분</th>\n",
       "      <th>발생현황</th>\n",
       "    </tr>\n",
       "    <tr>\n",
       "      <th>년도</th>\n",
       "      <th></th>\n",
       "      <th></th>\n",
       "    </tr>\n",
       "  </thead>\n",
       "  <tbody>\n",
       "    <tr>\n",
       "      <th>2016-01-01</th>\n",
       "      <td>입양</td>\n",
       "      <td>29145</td>\n",
       "    </tr>\n",
       "    <tr>\n",
       "      <th>2017-01-01</th>\n",
       "      <td>입양</td>\n",
       "      <td>31567</td>\n",
       "    </tr>\n",
       "    <tr>\n",
       "      <th>2018-01-01</th>\n",
       "      <td>입양</td>\n",
       "      <td>37434</td>\n",
       "    </tr>\n",
       "    <tr>\n",
       "      <th>2019-01-01</th>\n",
       "      <td>입양</td>\n",
       "      <td>39459</td>\n",
       "    </tr>\n",
       "    <tr>\n",
       "      <th>2020-01-01</th>\n",
       "      <td>입양</td>\n",
       "      <td>39456</td>\n",
       "    </tr>\n",
       "  </tbody>\n",
       "</table>\n",
       "</div>"
      ]
     },
     "metadata": {},
     "execution_count": 58
    }
   ],
   "metadata": {}
  },
  {
   "cell_type": "code",
   "execution_count": 59,
   "source": [
    "homework_10 = figure(\r\n",
    "    plot_width=500, plot_height=400,\r\n",
    "    x_axis_type=\"datetime\",\r\n",
    "    title=\"년도별 입양 현황\",\r\n",
    "    )\r\n",
    "    \r\n",
    "#homework_1.title.text = \"test\"\r\n",
    "\r\n",
    "homework_10.line(df3_입양2.index.tolist(),\r\n",
    "                df3_입양2['발생현황'].tolist(),\r\n",
    "                line_width=1,\r\n",
    "                line_color=\"tomato\")\r\n",
    "\r\n",
    "homework_10.xaxis.axis_label=\"년도\"\r\n",
    "homework_10.yaxis.axis_label=\"발생 건수\"\r\n",
    "#homework_6.x_range.start = 1\r\n",
    "#homework_6.x_range.end = 12\r\n",
    "#homework_5.x_range.range_padding = 1\r\n",
    "show(homework_10)"
   ],
   "outputs": [
    {
     "output_type": "display_data",
     "data": {
      "text/html": [
       "\n",
       "\n",
       "\n",
       "\n",
       "\n",
       "\n",
       "  <div class=\"bk-root\" id=\"12ec8979-efb9-4a69-8977-52d49c27dc47\" data-root-id=\"15347\"></div>\n"
      ]
     },
     "metadata": {}
    },
    {
     "output_type": "display_data",
     "data": {
      "application/vnd.bokehjs_exec.v0+json": "",
      "application/javascript": "(function(root) {\n  function embed_document(root) {\n    \n  var docs_json = {\"f4d4d502-a003-42fb-a228-b52028e42e76\":{\"defs\":[],\"roots\":{\"references\":[{\"attributes\":{\"below\":[{\"id\":\"15358\"}],\"center\":[{\"id\":\"15361\"},{\"id\":\"15365\"}],\"height\":400,\"left\":[{\"id\":\"15362\"}],\"renderers\":[{\"id\":\"15383\"}],\"title\":{\"id\":\"15348\"},\"toolbar\":{\"id\":\"15373\"},\"width\":500,\"x_range\":{\"id\":\"15350\"},\"x_scale\":{\"id\":\"15354\"},\"y_range\":{\"id\":\"15352\"},\"y_scale\":{\"id\":\"15356\"}},\"id\":\"15347\",\"subtype\":\"Figure\",\"type\":\"Plot\"},{\"attributes\":{\"months\":[0,4,8]},\"id\":\"15833\",\"type\":\"MonthsTicker\"},{\"attributes\":{\"mantissas\":[1,2,5],\"max_interval\":500.0,\"num_minor_ticks\":0},\"id\":\"15824\",\"type\":\"AdaptiveTicker\"},{\"attributes\":{\"axis_label\":\"\\ub144\\ub3c4\",\"formatter\":{\"id\":\"15820\"},\"major_label_policy\":{\"id\":\"15818\"},\"ticker\":{\"id\":\"15359\"}},\"id\":\"15358\",\"type\":\"DatetimeAxis\"},{\"attributes\":{},\"id\":\"15356\",\"type\":\"LinearScale\"},{\"attributes\":{},\"id\":\"15354\",\"type\":\"LinearScale\"},{\"attributes\":{},\"id\":\"15370\",\"type\":\"ResetTool\"},{\"attributes\":{},\"id\":\"15367\",\"type\":\"WheelZoomTool\"},{\"attributes\":{},\"id\":\"15371\",\"type\":\"HelpTool\"},{\"attributes\":{\"source\":{\"id\":\"15380\"}},\"id\":\"15384\",\"type\":\"CDSView\"},{\"attributes\":{},\"id\":\"15369\",\"type\":\"SaveTool\"},{\"attributes\":{},\"id\":\"15363\",\"type\":\"BasicTicker\"},{\"attributes\":{},\"id\":\"15817\",\"type\":\"BasicTickFormatter\"},{\"attributes\":{\"axis_label\":\"\\ubc1c\\uc0dd \\uac74\\uc218\",\"formatter\":{\"id\":\"15817\"},\"major_label_policy\":{\"id\":\"15815\"},\"ticker\":{\"id\":\"15363\"}},\"id\":\"15362\",\"type\":\"LinearAxis\"},{\"attributes\":{\"data_source\":{\"id\":\"15380\"},\"glyph\":{\"id\":\"15381\"},\"hover_glyph\":null,\"muted_glyph\":null,\"nonselection_glyph\":{\"id\":\"15382\"},\"view\":{\"id\":\"15384\"}},\"id\":\"15383\",\"type\":\"GlyphRenderer\"},{\"attributes\":{\"bottom_units\":\"screen\",\"fill_alpha\":0.5,\"fill_color\":\"lightgrey\",\"left_units\":\"screen\",\"level\":\"overlay\",\"line_alpha\":1.0,\"line_color\":\"black\",\"line_dash\":[4,4],\"line_width\":2,\"right_units\":\"screen\",\"syncable\":false,\"top_units\":\"screen\"},\"id\":\"15372\",\"type\":\"BoxAnnotation\"},{\"attributes\":{\"months\":[0,2,4,6,8,10]},\"id\":\"15832\",\"type\":\"MonthsTicker\"},{\"attributes\":{\"line_alpha\":0.1,\"line_color\":\"tomato\",\"x\":{\"field\":\"x\"},\"y\":{\"field\":\"y\"}},\"id\":\"15382\",\"type\":\"Line\"},{\"attributes\":{\"months\":[0,6]},\"id\":\"15834\",\"type\":\"MonthsTicker\"},{\"attributes\":{},\"id\":\"15815\",\"type\":\"AllLabels\"},{\"attributes\":{},\"id\":\"15350\",\"type\":\"DataRange1d\"},{\"attributes\":{\"text\":\"\\ub144\\ub3c4\\ubcc4 \\uc785\\uc591 \\ud604\\ud669\"},\"id\":\"15348\",\"type\":\"Title\"},{\"attributes\":{},\"id\":\"15818\",\"type\":\"AllLabels\"},{\"attributes\":{},\"id\":\"15820\",\"type\":\"DatetimeTickFormatter\"},{\"attributes\":{\"data\":{\"x\":[1451606400000.0,1483228800000.0,1514764800000.0,1546300800000.0,1577836800000.0],\"y\":[29145,31567,37434,39459,39456]},\"selected\":{\"id\":\"15822\"},\"selection_policy\":{\"id\":\"15823\"}},\"id\":\"15380\",\"type\":\"ColumnDataSource\"},{\"attributes\":{\"base\":60,\"mantissas\":[1,2,5,10,15,20,30],\"max_interval\":1800000.0,\"min_interval\":1000.0,\"num_minor_ticks\":0},\"id\":\"15825\",\"type\":\"AdaptiveTicker\"},{\"attributes\":{\"days\":[1,4,7,10,13,16,19,22,25,28]},\"id\":\"15828\",\"type\":\"DaysTicker\"},{\"attributes\":{\"line_color\":\"tomato\",\"x\":{\"field\":\"x\"},\"y\":{\"field\":\"y\"}},\"id\":\"15381\",\"type\":\"Line\"},{\"attributes\":{\"active_multi\":null,\"tools\":[{\"id\":\"15366\"},{\"id\":\"15367\"},{\"id\":\"15368\"},{\"id\":\"15369\"},{\"id\":\"15370\"},{\"id\":\"15371\"}]},\"id\":\"15373\",\"type\":\"Toolbar\"},{\"attributes\":{\"days\":[1,2,3,4,5,6,7,8,9,10,11,12,13,14,15,16,17,18,19,20,21,22,23,24,25,26,27,28,29,30,31]},\"id\":\"15827\",\"type\":\"DaysTicker\"},{\"attributes\":{},\"id\":\"15823\",\"type\":\"UnionRenderers\"},{\"attributes\":{},\"id\":\"15366\",\"type\":\"PanTool\"},{\"attributes\":{\"days\":[1,15]},\"id\":\"15830\",\"type\":\"DaysTicker\"},{\"attributes\":{\"months\":[0,1,2,3,4,5,6,7,8,9,10,11]},\"id\":\"15831\",\"type\":\"MonthsTicker\"},{\"attributes\":{\"base\":24,\"mantissas\":[1,2,4,6,8,12],\"max_interval\":43200000.0,\"min_interval\":3600000.0,\"num_minor_ticks\":0},\"id\":\"15826\",\"type\":\"AdaptiveTicker\"},{\"attributes\":{},\"id\":\"15835\",\"type\":\"YearsTicker\"},{\"attributes\":{\"overlay\":{\"id\":\"15372\"}},\"id\":\"15368\",\"type\":\"BoxZoomTool\"},{\"attributes\":{\"days\":[1,8,15,22]},\"id\":\"15829\",\"type\":\"DaysTicker\"},{\"attributes\":{\"num_minor_ticks\":5,\"tickers\":[{\"id\":\"15824\"},{\"id\":\"15825\"},{\"id\":\"15826\"},{\"id\":\"15827\"},{\"id\":\"15828\"},{\"id\":\"15829\"},{\"id\":\"15830\"},{\"id\":\"15831\"},{\"id\":\"15832\"},{\"id\":\"15833\"},{\"id\":\"15834\"},{\"id\":\"15835\"}]},\"id\":\"15359\",\"type\":\"DatetimeTicker\"},{\"attributes\":{\"axis\":{\"id\":\"15362\"},\"dimension\":1,\"ticker\":null},\"id\":\"15365\",\"type\":\"Grid\"},{\"attributes\":{},\"id\":\"15822\",\"type\":\"Selection\"},{\"attributes\":{\"axis\":{\"id\":\"15358\"},\"ticker\":null},\"id\":\"15361\",\"type\":\"Grid\"},{\"attributes\":{},\"id\":\"15352\",\"type\":\"DataRange1d\"}],\"root_ids\":[\"15347\"]},\"title\":\"Bokeh Application\",\"version\":\"2.3.2\"}};\n  var render_items = [{\"docid\":\"f4d4d502-a003-42fb-a228-b52028e42e76\",\"root_ids\":[\"15347\"],\"roots\":{\"15347\":\"12ec8979-efb9-4a69-8977-52d49c27dc47\"}}];\n  root.Bokeh.embed.embed_items_notebook(docs_json, render_items);\n\n  }\n  if (root.Bokeh !== undefined) {\n    embed_document(root);\n  } else {\n    var attempts = 0;\n    var timer = setInterval(function(root) {\n      if (root.Bokeh !== undefined) {\n        clearInterval(timer);\n        embed_document(root);\n      } else {\n        attempts++;\n        if (attempts > 100) {\n          clearInterval(timer);\n          console.log(\"Bokeh: ERROR: Unable to run BokehJS code because BokehJS library is missing\");\n        }\n      }\n    }, 10, root)\n  }\n})(window);"
     },
     "metadata": {
      "application/vnd.bokehjs_exec.v0+json": {
       "id": "15347"
      }
     }
    }
   ],
   "metadata": {}
  },
  {
   "cell_type": "code",
   "execution_count": 60,
   "source": [
    "from bokeh.io import output_notebook, show, save\r\n",
    "save(obj=homework_10, filename= 'p3-3.html')"
   ],
   "outputs": [
    {
     "output_type": "stream",
     "name": "stderr",
     "text": [
      "C:\\Users\\ad\\miniconda3\\lib\\site-packages\\bokeh\\io\\saving.py:126: UserWarning: save() called but no resources were supplied and output_file(...) was never called, defaulting to resources.CDN\n",
      "  warn(\"save() called but no resources were supplied and output_file(...) was never called, defaulting to resources.CDN\")\n",
      "C:\\Users\\ad\\miniconda3\\lib\\site-packages\\bokeh\\io\\saving.py:139: UserWarning: save() called but no title was supplied and output_file(...) was never called, using default title 'Bokeh Plot'\n",
      "  warn(\"save() called but no title was supplied and output_file(...) was never called, using default title 'Bokeh Plot'\")\n"
     ]
    },
    {
     "output_type": "execute_result",
     "data": {
      "text/plain": [
       "'c:\\\\Users\\\\ad\\\\Desktop\\\\ByunUiHyeok\\\\Development\\\\Project\\\\Data Analysis\\\\2.애완동물\\\\gr_sc\\\\p3-3.html'"
      ]
     },
     "metadata": {},
     "execution_count": 60
    }
   ],
   "metadata": {}
  },
  {
   "cell_type": "code",
   "execution_count": 62,
   "source": [
    "df = pd.read_excel('C:/Users/ad/Documents/카카오톡 받은 파일/애완동물/project/동물장묘업.xlsx')\r\n",
    "df"
   ],
   "outputs": [
    {
     "output_type": "execute_result",
     "data": {
      "text/plain": [
       "      년도  2020  2019  2018  2017  2016\n",
       "0  동물장묘업    57    44    33    26    20"
      ],
      "text/html": [
       "<div>\n",
       "<style scoped>\n",
       "    .dataframe tbody tr th:only-of-type {\n",
       "        vertical-align: middle;\n",
       "    }\n",
       "\n",
       "    .dataframe tbody tr th {\n",
       "        vertical-align: top;\n",
       "    }\n",
       "\n",
       "    .dataframe thead th {\n",
       "        text-align: right;\n",
       "    }\n",
       "</style>\n",
       "<table border=\"1\" class=\"dataframe\">\n",
       "  <thead>\n",
       "    <tr style=\"text-align: right;\">\n",
       "      <th></th>\n",
       "      <th>년도</th>\n",
       "      <th>2020</th>\n",
       "      <th>2019</th>\n",
       "      <th>2018</th>\n",
       "      <th>2017</th>\n",
       "      <th>2016</th>\n",
       "    </tr>\n",
       "  </thead>\n",
       "  <tbody>\n",
       "    <tr>\n",
       "      <th>0</th>\n",
       "      <td>동물장묘업</td>\n",
       "      <td>57</td>\n",
       "      <td>44</td>\n",
       "      <td>33</td>\n",
       "      <td>26</td>\n",
       "      <td>20</td>\n",
       "    </tr>\n",
       "  </tbody>\n",
       "</table>\n",
       "</div>"
      ]
     },
     "metadata": {},
     "execution_count": 62
    }
   ],
   "metadata": {}
  },
  {
   "cell_type": "code",
   "execution_count": 63,
   "source": [
    "df33 = df.pivot_table(columns='년도')\r\n",
    "df33\r\n",
    "# df2_tt.index = df2_tt.index.str.replace('월','') #'월','.'\r\n",
    "# df4_tt.index = pd.to_datetime(df4_tt.index).strftime('%Y-%m')\r\n",
    "#df33.index = pd.to_datetime(df33.index)\r\n",
    "df33.index"
   ],
   "outputs": [
    {
     "output_type": "execute_result",
     "data": {
      "text/plain": [
       "Index([2016, 2017, 2018, 2019, 2020], dtype='object')"
      ]
     },
     "metadata": {},
     "execution_count": 63
    }
   ],
   "metadata": {}
  },
  {
   "cell_type": "code",
   "execution_count": 64,
   "source": [
    "homework_11 = figure(\r\n",
    "    plot_width=500, plot_height=400,\r\n",
    "    title=\"동물 장묘업 성장율\",\r\n",
    "    )\r\n",
    "    \r\n",
    "#homework_1.title.text = \"test\"\r\n",
    "\r\n",
    "homework_11.line(df33.index.tolist(),\r\n",
    "                df33['동물장묘업'].tolist(),\r\n",
    "                line_width=1,\r\n",
    "                line_color=\"tomato\")\r\n",
    "\r\n",
    "homework_11.xaxis.axis_label=\"년도\"\r\n",
    "homework_11.yaxis.axis_label=\"업체수\"\r\n",
    "#homework_6.x_range.start = 1\r\n",
    "#homework_6.x_range.end = 12\r\n",
    "#homework_5.x_range.range_padding = 1\r\n",
    "show(homework_11)"
   ],
   "outputs": [
    {
     "output_type": "display_data",
     "data": {
      "text/html": [
       "\n",
       "\n",
       "\n",
       "\n",
       "\n",
       "\n",
       "  <div class=\"bk-root\" id=\"30a5da48-5e63-40a7-9475-9cff358fcf48\" data-root-id=\"16189\"></div>\n"
      ]
     },
     "metadata": {}
    },
    {
     "output_type": "display_data",
     "data": {
      "application/vnd.bokehjs_exec.v0+json": "",
      "application/javascript": "(function(root) {\n  function embed_document(root) {\n    \n  var docs_json = {\"2fb8d2d9-f3a1-4ff5-aa65-9e2825d65766\":{\"defs\":[],\"roots\":{\"references\":[{\"attributes\":{\"below\":[{\"id\":\"16200\"}],\"center\":[{\"id\":\"16203\"},{\"id\":\"16207\"}],\"height\":400,\"left\":[{\"id\":\"16204\"}],\"renderers\":[{\"id\":\"16225\"}],\"title\":{\"id\":\"16190\"},\"toolbar\":{\"id\":\"16215\"},\"width\":500,\"x_range\":{\"id\":\"16192\"},\"x_scale\":{\"id\":\"16196\"},\"y_range\":{\"id\":\"16194\"},\"y_scale\":{\"id\":\"16198\"}},\"id\":\"16189\",\"subtype\":\"Figure\",\"type\":\"Plot\"},{\"attributes\":{},\"id\":\"16205\",\"type\":\"BasicTicker\"},{\"attributes\":{\"axis\":{\"id\":\"16204\"},\"dimension\":1,\"ticker\":null},\"id\":\"16207\",\"type\":\"Grid\"},{\"attributes\":{\"active_multi\":null,\"tools\":[{\"id\":\"16208\"},{\"id\":\"16209\"},{\"id\":\"16210\"},{\"id\":\"16211\"},{\"id\":\"16212\"},{\"id\":\"16213\"}]},\"id\":\"16215\",\"type\":\"Toolbar\"},{\"attributes\":{},\"id\":\"16198\",\"type\":\"LinearScale\"},{\"attributes\":{\"axis\":{\"id\":\"16200\"},\"ticker\":null},\"id\":\"16203\",\"type\":\"Grid\"},{\"attributes\":{},\"id\":\"16687\",\"type\":\"UnionRenderers\"},{\"attributes\":{},\"id\":\"16212\",\"type\":\"ResetTool\"},{\"attributes\":{},\"id\":\"16686\",\"type\":\"Selection\"},{\"attributes\":{\"source\":{\"id\":\"16222\"}},\"id\":\"16226\",\"type\":\"CDSView\"},{\"attributes\":{\"line_alpha\":0.1,\"line_color\":\"tomato\",\"x\":{\"field\":\"x\"},\"y\":{\"field\":\"y\"}},\"id\":\"16224\",\"type\":\"Line\"},{\"attributes\":{},\"id\":\"16684\",\"type\":\"BasicTickFormatter\"},{\"attributes\":{},\"id\":\"16681\",\"type\":\"BasicTickFormatter\"},{\"attributes\":{},\"id\":\"16201\",\"type\":\"BasicTicker\"},{\"attributes\":{},\"id\":\"16208\",\"type\":\"PanTool\"},{\"attributes\":{\"axis_label\":\"\\ub144\\ub3c4\",\"formatter\":{\"id\":\"16684\"},\"major_label_policy\":{\"id\":\"16682\"},\"ticker\":{\"id\":\"16201\"}},\"id\":\"16200\",\"type\":\"LinearAxis\"},{\"attributes\":{},\"id\":\"16192\",\"type\":\"DataRange1d\"},{\"attributes\":{},\"id\":\"16194\",\"type\":\"DataRange1d\"},{\"attributes\":{\"overlay\":{\"id\":\"16214\"}},\"id\":\"16210\",\"type\":\"BoxZoomTool\"},{\"attributes\":{\"bottom_units\":\"screen\",\"fill_alpha\":0.5,\"fill_color\":\"lightgrey\",\"left_units\":\"screen\",\"level\":\"overlay\",\"line_alpha\":1.0,\"line_color\":\"black\",\"line_dash\":[4,4],\"line_width\":2,\"right_units\":\"screen\",\"syncable\":false,\"top_units\":\"screen\"},\"id\":\"16214\",\"type\":\"BoxAnnotation\"},{\"attributes\":{},\"id\":\"16211\",\"type\":\"SaveTool\"},{\"attributes\":{},\"id\":\"16682\",\"type\":\"AllLabels\"},{\"attributes\":{\"line_color\":\"tomato\",\"x\":{\"field\":\"x\"},\"y\":{\"field\":\"y\"}},\"id\":\"16223\",\"type\":\"Line\"},{\"attributes\":{\"data_source\":{\"id\":\"16222\"},\"glyph\":{\"id\":\"16223\"},\"hover_glyph\":null,\"muted_glyph\":null,\"nonselection_glyph\":{\"id\":\"16224\"},\"view\":{\"id\":\"16226\"}},\"id\":\"16225\",\"type\":\"GlyphRenderer\"},{\"attributes\":{\"data\":{\"x\":[2016,2017,2018,2019,2020],\"y\":[20,26,33,44,57]},\"selected\":{\"id\":\"16686\"},\"selection_policy\":{\"id\":\"16687\"}},\"id\":\"16222\",\"type\":\"ColumnDataSource\"},{\"attributes\":{},\"id\":\"16679\",\"type\":\"AllLabels\"},{\"attributes\":{},\"id\":\"16209\",\"type\":\"WheelZoomTool\"},{\"attributes\":{\"text\":\"\\ub3d9\\ubb3c \\uc7a5\\ubb18\\uc5c5 \\uc131\\uc7a5\\uc728\"},\"id\":\"16190\",\"type\":\"Title\"},{\"attributes\":{},\"id\":\"16196\",\"type\":\"LinearScale\"},{\"attributes\":{\"axis_label\":\"\\uc5c5\\uccb4\\uc218\",\"formatter\":{\"id\":\"16681\"},\"major_label_policy\":{\"id\":\"16679\"},\"ticker\":{\"id\":\"16205\"}},\"id\":\"16204\",\"type\":\"LinearAxis\"},{\"attributes\":{},\"id\":\"16213\",\"type\":\"HelpTool\"}],\"root_ids\":[\"16189\"]},\"title\":\"Bokeh Application\",\"version\":\"2.3.2\"}};\n  var render_items = [{\"docid\":\"2fb8d2d9-f3a1-4ff5-aa65-9e2825d65766\",\"root_ids\":[\"16189\"],\"roots\":{\"16189\":\"30a5da48-5e63-40a7-9475-9cff358fcf48\"}}];\n  root.Bokeh.embed.embed_items_notebook(docs_json, render_items);\n\n  }\n  if (root.Bokeh !== undefined) {\n    embed_document(root);\n  } else {\n    var attempts = 0;\n    var timer = setInterval(function(root) {\n      if (root.Bokeh !== undefined) {\n        clearInterval(timer);\n        embed_document(root);\n      } else {\n        attempts++;\n        if (attempts > 100) {\n          clearInterval(timer);\n          console.log(\"Bokeh: ERROR: Unable to run BokehJS code because BokehJS library is missing\");\n        }\n      }\n    }, 10, root)\n  }\n})(window);"
     },
     "metadata": {
      "application/vnd.bokehjs_exec.v0+json": {
       "id": "16189"
      }
     }
    }
   ],
   "metadata": {}
  },
  {
   "cell_type": "code",
   "execution_count": 65,
   "source": [
    "from bokeh.io import output_notebook, show, save\r\n",
    "save(obj=homework_11, filename= 'p4-2.html')"
   ],
   "outputs": [
    {
     "output_type": "stream",
     "name": "stderr",
     "text": [
      "C:\\Users\\ad\\miniconda3\\lib\\site-packages\\bokeh\\io\\saving.py:126: UserWarning: save() called but no resources were supplied and output_file(...) was never called, defaulting to resources.CDN\n",
      "  warn(\"save() called but no resources were supplied and output_file(...) was never called, defaulting to resources.CDN\")\n",
      "C:\\Users\\ad\\miniconda3\\lib\\site-packages\\bokeh\\io\\saving.py:139: UserWarning: save() called but no title was supplied and output_file(...) was never called, using default title 'Bokeh Plot'\n",
      "  warn(\"save() called but no title was supplied and output_file(...) was never called, using default title 'Bokeh Plot'\")\n"
     ]
    },
    {
     "output_type": "execute_result",
     "data": {
      "text/plain": [
       "'c:\\\\Users\\\\ad\\\\Desktop\\\\ByunUiHyeok\\\\Development\\\\Project\\\\Data Analysis\\\\2.애완동물\\\\gr_sc\\\\p4-2.html'"
      ]
     },
     "metadata": {},
     "execution_count": 65
    }
   ],
   "metadata": {}
  },
  {
   "cell_type": "code",
   "execution_count": 340,
   "source": [
    "df = pd.read_excel('C:/Users/ad/Documents/카카오톡 받은 파일/애완동물프로젝트/프로젝트/총등록수.xlsx')\r\n",
    "df = df.set_index('년도')\r\n",
    "df['total'].tolist()"
   ],
   "outputs": [
    {
     "output_type": "execute_result",
     "data": {
      "text/plain": [
       "[91509, 104809, 146617, 797081, 235637]"
      ]
     },
     "metadata": {},
     "execution_count": 340
    }
   ],
   "metadata": {}
  },
  {
   "cell_type": "code",
   "execution_count": 363,
   "source": [
    "from bokeh.models import PrintfTickFormatter\r\n",
    "from bokeh.models import NumeralTickFormatter\r\n",
    "homework_12 = figure(\r\n",
    "    plot_width=600, plot_height=400,\r\n",
    "    title=\"년도별 반려동물 등록 추이\",\r\n",
    "    )\r\n",
    "    \r\n",
    "#homework_1.title.text = \"test\"\r\n",
    "\r\n",
    "homework_12.line(df.index.tolist(),\r\n",
    "                df['total'].tolist(),\r\n",
    "                line_width=1,\r\n",
    "                line_color=\"tomato\")\r\n",
    "\r\n",
    "homework_12.xaxis.axis_label=\"년도\"\r\n",
    "homework_12.yaxis.axis_label=\"등록수\"\r\n",
    "homework_12.y_range.start = 0\r\n",
    "homework_12.y_range.end = 800000\r\n",
    "#homework_12.yscale(\"float\")\r\n",
    "#homework_12[0].formatter = PrintfTickFormatter(format=\"%5f\")\r\n",
    "#homework_12.yaxis[0].formatter = NumeralTickFormatter(format=\"0.000\")\r\n",
    "homework_12.left[0].formatter.use_scientific = False\r\n",
    "show(homework_12)"
   ],
   "outputs": [
    {
     "output_type": "display_data",
     "data": {
      "text/html": [
       "\n",
       "\n",
       "\n",
       "\n",
       "\n",
       "\n",
       "  <div class=\"bk-root\" id=\"4149e016-74cd-4316-82d2-eb68ed4eb52b\" data-root-id=\"85741\"></div>\n"
      ]
     },
     "metadata": {}
    },
    {
     "output_type": "display_data",
     "data": {
      "application/vnd.bokehjs_exec.v0+json": "",
      "application/javascript": "(function(root) {\n  function embed_document(root) {\n    \n  var docs_json = {\"c31f4775-6a65-4b6c-8457-e2ad1f5adf5b\":{\"defs\":[],\"roots\":{\"references\":[{\"attributes\":{\"below\":[{\"id\":\"85752\"}],\"center\":[{\"id\":\"85755\"},{\"id\":\"85759\"}],\"height\":400,\"left\":[{\"id\":\"85756\"}],\"renderers\":[{\"id\":\"85777\"}],\"title\":{\"id\":\"85742\"},\"toolbar\":{\"id\":\"85767\"},\"x_range\":{\"id\":\"85744\"},\"x_scale\":{\"id\":\"85748\"},\"y_range\":{\"id\":\"85746\"},\"y_scale\":{\"id\":\"85750\"}},\"id\":\"85741\",\"subtype\":\"Figure\",\"type\":\"Plot\"},{\"attributes\":{\"source\":{\"id\":\"85774\"}},\"id\":\"85778\",\"type\":\"CDSView\"},{\"attributes\":{},\"id\":\"85760\",\"type\":\"PanTool\"},{\"attributes\":{\"line_color\":\"tomato\",\"x\":{\"field\":\"x\"},\"y\":{\"field\":\"y\"}},\"id\":\"85775\",\"type\":\"Line\"},{\"attributes\":{\"line_alpha\":0.1,\"line_color\":\"tomato\",\"x\":{\"field\":\"x\"},\"y\":{\"field\":\"y\"}},\"id\":\"85776\",\"type\":\"Line\"},{\"attributes\":{\"end\":800000,\"start\":0},\"id\":\"85746\",\"type\":\"DataRange1d\"},{\"attributes\":{\"axis\":{\"id\":\"85756\"},\"dimension\":1,\"ticker\":null},\"id\":\"85759\",\"type\":\"Grid\"},{\"attributes\":{},\"id\":\"85748\",\"type\":\"LinearScale\"},{\"attributes\":{\"data\":{\"x\":[2016,2017,2018,2019,2020],\"y\":[91509,104809,146617,797081,235637]},\"selected\":{\"id\":\"87275\"},\"selection_policy\":{\"id\":\"87276\"}},\"id\":\"85774\",\"type\":\"ColumnDataSource\"},{\"attributes\":{},\"id\":\"87269\",\"type\":\"AllLabels\"},{\"attributes\":{},\"id\":\"85761\",\"type\":\"WheelZoomTool\"},{\"attributes\":{},\"id\":\"85764\",\"type\":\"ResetTool\"},{\"attributes\":{},\"id\":\"87276\",\"type\":\"UnionRenderers\"},{\"attributes\":{\"text\":\"\\ub144\\ub3c4\\ubcc4 \\ubc18\\ub824\\ub3d9\\ubb3c \\ub4f1\\ub85d \\ucd94\\uc774\"},\"id\":\"85742\",\"type\":\"Title\"},{\"attributes\":{},\"id\":\"87272\",\"type\":\"AllLabels\"},{\"attributes\":{\"axis_label\":\"\\ub144\\ub3c4\",\"formatter\":{\"id\":\"87268\"},\"major_label_policy\":{\"id\":\"87269\"},\"ticker\":{\"id\":\"85753\"}},\"id\":\"85752\",\"type\":\"LinearAxis\"},{\"attributes\":{\"data_source\":{\"id\":\"85774\"},\"glyph\":{\"id\":\"85775\"},\"hover_glyph\":null,\"muted_glyph\":null,\"nonselection_glyph\":{\"id\":\"85776\"},\"view\":{\"id\":\"85778\"}},\"id\":\"85777\",\"type\":\"GlyphRenderer\"},{\"attributes\":{},\"id\":\"85744\",\"type\":\"DataRange1d\"},{\"attributes\":{},\"id\":\"87275\",\"type\":\"Selection\"},{\"attributes\":{\"axis_label\":\"\\ub4f1\\ub85d\\uc218\",\"formatter\":{\"id\":\"85779\"},\"major_label_policy\":{\"id\":\"87272\"},\"ticker\":{\"id\":\"85757\"}},\"id\":\"85756\",\"type\":\"LinearAxis\"},{\"attributes\":{\"use_scientific\":false},\"id\":\"85779\",\"type\":\"BasicTickFormatter\"},{\"attributes\":{\"bottom_units\":\"screen\",\"fill_alpha\":0.5,\"fill_color\":\"lightgrey\",\"left_units\":\"screen\",\"level\":\"overlay\",\"line_alpha\":1.0,\"line_color\":\"black\",\"line_dash\":[4,4],\"line_width\":2,\"right_units\":\"screen\",\"syncable\":false,\"top_units\":\"screen\"},\"id\":\"85766\",\"type\":\"BoxAnnotation\"},{\"attributes\":{\"active_multi\":null,\"tools\":[{\"id\":\"85760\"},{\"id\":\"85761\"},{\"id\":\"85762\"},{\"id\":\"85763\"},{\"id\":\"85764\"},{\"id\":\"85765\"}]},\"id\":\"85767\",\"type\":\"Toolbar\"},{\"attributes\":{},\"id\":\"85765\",\"type\":\"HelpTool\"},{\"attributes\":{\"overlay\":{\"id\":\"85766\"}},\"id\":\"85762\",\"type\":\"BoxZoomTool\"},{\"attributes\":{\"axis\":{\"id\":\"85752\"},\"ticker\":null},\"id\":\"85755\",\"type\":\"Grid\"},{\"attributes\":{},\"id\":\"85763\",\"type\":\"SaveTool\"},{\"attributes\":{},\"id\":\"85753\",\"type\":\"BasicTicker\"},{\"attributes\":{},\"id\":\"85750\",\"type\":\"LinearScale\"},{\"attributes\":{},\"id\":\"87268\",\"type\":\"BasicTickFormatter\"},{\"attributes\":{},\"id\":\"85757\",\"type\":\"BasicTicker\"}],\"root_ids\":[\"85741\"]},\"title\":\"Bokeh Application\",\"version\":\"2.3.2\"}};\n  var render_items = [{\"docid\":\"c31f4775-6a65-4b6c-8457-e2ad1f5adf5b\",\"root_ids\":[\"85741\"],\"roots\":{\"85741\":\"4149e016-74cd-4316-82d2-eb68ed4eb52b\"}}];\n  root.Bokeh.embed.embed_items_notebook(docs_json, render_items);\n\n  }\n  if (root.Bokeh !== undefined) {\n    embed_document(root);\n  } else {\n    var attempts = 0;\n    var timer = setInterval(function(root) {\n      if (root.Bokeh !== undefined) {\n        clearInterval(timer);\n        embed_document(root);\n      } else {\n        attempts++;\n        if (attempts > 100) {\n          clearInterval(timer);\n          console.log(\"Bokeh: ERROR: Unable to run BokehJS code because BokehJS library is missing\");\n        }\n      }\n    }, 10, root)\n  }\n})(window);"
     },
     "metadata": {
      "application/vnd.bokehjs_exec.v0+json": {
       "id": "85741"
      }
     }
    }
   ],
   "metadata": {}
  },
  {
   "cell_type": "code",
   "execution_count": 365,
   "source": [
    "df = pd.read_excel('C:/Users/ad/Documents/카카오톡 받은 파일/애완동물프로젝트/프로젝트/지역별 반려동물.xlsx')\r\n",
    "df.head()"
   ],
   "outputs": [
    {
     "output_type": "execute_result",
     "data": {
      "text/plain": [
       "   지역  2016년 등록마리수 누계  2017년 등록마리수 누계  2018년 등록마리수 누계  2019년 등록마리수 누계  \\\n",
       "0  서울           22393           24839           30560          125458   \n",
       "1  부산            5086            5401            7732           48468   \n",
       "2  대구            4345            4207            6264           30036   \n",
       "3  인천            3968            4650            9297           59654   \n",
       "4  광주            1892            1893            3837           20614   \n",
       "\n",
       "   2020년 등록마리수 누계   total  \n",
       "0           44721  247971  \n",
       "1           11000   77687  \n",
       "2            8965   53817  \n",
       "3           13817   91386  \n",
       "4            5698   33934  "
      ],
      "text/html": [
       "<div>\n",
       "<style scoped>\n",
       "    .dataframe tbody tr th:only-of-type {\n",
       "        vertical-align: middle;\n",
       "    }\n",
       "\n",
       "    .dataframe tbody tr th {\n",
       "        vertical-align: top;\n",
       "    }\n",
       "\n",
       "    .dataframe thead th {\n",
       "        text-align: right;\n",
       "    }\n",
       "</style>\n",
       "<table border=\"1\" class=\"dataframe\">\n",
       "  <thead>\n",
       "    <tr style=\"text-align: right;\">\n",
       "      <th></th>\n",
       "      <th>지역</th>\n",
       "      <th>2016년 등록마리수 누계</th>\n",
       "      <th>2017년 등록마리수 누계</th>\n",
       "      <th>2018년 등록마리수 누계</th>\n",
       "      <th>2019년 등록마리수 누계</th>\n",
       "      <th>2020년 등록마리수 누계</th>\n",
       "      <th>total</th>\n",
       "    </tr>\n",
       "  </thead>\n",
       "  <tbody>\n",
       "    <tr>\n",
       "      <th>0</th>\n",
       "      <td>서울</td>\n",
       "      <td>22393</td>\n",
       "      <td>24839</td>\n",
       "      <td>30560</td>\n",
       "      <td>125458</td>\n",
       "      <td>44721</td>\n",
       "      <td>247971</td>\n",
       "    </tr>\n",
       "    <tr>\n",
       "      <th>1</th>\n",
       "      <td>부산</td>\n",
       "      <td>5086</td>\n",
       "      <td>5401</td>\n",
       "      <td>7732</td>\n",
       "      <td>48468</td>\n",
       "      <td>11000</td>\n",
       "      <td>77687</td>\n",
       "    </tr>\n",
       "    <tr>\n",
       "      <th>2</th>\n",
       "      <td>대구</td>\n",
       "      <td>4345</td>\n",
       "      <td>4207</td>\n",
       "      <td>6264</td>\n",
       "      <td>30036</td>\n",
       "      <td>8965</td>\n",
       "      <td>53817</td>\n",
       "    </tr>\n",
       "    <tr>\n",
       "      <th>3</th>\n",
       "      <td>인천</td>\n",
       "      <td>3968</td>\n",
       "      <td>4650</td>\n",
       "      <td>9297</td>\n",
       "      <td>59654</td>\n",
       "      <td>13817</td>\n",
       "      <td>91386</td>\n",
       "    </tr>\n",
       "    <tr>\n",
       "      <th>4</th>\n",
       "      <td>광주</td>\n",
       "      <td>1892</td>\n",
       "      <td>1893</td>\n",
       "      <td>3837</td>\n",
       "      <td>20614</td>\n",
       "      <td>5698</td>\n",
       "      <td>33934</td>\n",
       "    </tr>\n",
       "  </tbody>\n",
       "</table>\n",
       "</div>"
      ]
     },
     "metadata": {},
     "execution_count": 365
    }
   ],
   "metadata": {}
  },
  {
   "cell_type": "code",
   "execution_count": 373,
   "source": [
    "df.pivot_table(index='지역',values='total').index.tolist()\r\n",
    "df.pivot_table(index='지역',values='total')['total'].tolist()\r\n",
    "df.pivot_table(index='지역',values='total')"
   ],
   "outputs": [
    {
     "output_type": "execute_result",
     "data": {
      "text/plain": [
       "     total\n",
       "지역        \n",
       "강원   42111\n",
       "경기  406614\n",
       "경남   75733\n",
       "경북   57785\n",
       "광주   33934\n",
       "대구   53817\n",
       "대전   38373\n",
       "부산   77687\n",
       "서울  247971\n",
       "세종    7858\n",
       "울산   26165\n",
       "인천   91386\n",
       "전남   48070\n",
       "전북   36716\n",
       "제주   25362\n",
       "충남   57671\n",
       "충북   48400"
      ],
      "text/html": [
       "<div>\n",
       "<style scoped>\n",
       "    .dataframe tbody tr th:only-of-type {\n",
       "        vertical-align: middle;\n",
       "    }\n",
       "\n",
       "    .dataframe tbody tr th {\n",
       "        vertical-align: top;\n",
       "    }\n",
       "\n",
       "    .dataframe thead th {\n",
       "        text-align: right;\n",
       "    }\n",
       "</style>\n",
       "<table border=\"1\" class=\"dataframe\">\n",
       "  <thead>\n",
       "    <tr style=\"text-align: right;\">\n",
       "      <th></th>\n",
       "      <th>total</th>\n",
       "    </tr>\n",
       "    <tr>\n",
       "      <th>지역</th>\n",
       "      <th></th>\n",
       "    </tr>\n",
       "  </thead>\n",
       "  <tbody>\n",
       "    <tr>\n",
       "      <th>강원</th>\n",
       "      <td>42111</td>\n",
       "    </tr>\n",
       "    <tr>\n",
       "      <th>경기</th>\n",
       "      <td>406614</td>\n",
       "    </tr>\n",
       "    <tr>\n",
       "      <th>경남</th>\n",
       "      <td>75733</td>\n",
       "    </tr>\n",
       "    <tr>\n",
       "      <th>경북</th>\n",
       "      <td>57785</td>\n",
       "    </tr>\n",
       "    <tr>\n",
       "      <th>광주</th>\n",
       "      <td>33934</td>\n",
       "    </tr>\n",
       "    <tr>\n",
       "      <th>대구</th>\n",
       "      <td>53817</td>\n",
       "    </tr>\n",
       "    <tr>\n",
       "      <th>대전</th>\n",
       "      <td>38373</td>\n",
       "    </tr>\n",
       "    <tr>\n",
       "      <th>부산</th>\n",
       "      <td>77687</td>\n",
       "    </tr>\n",
       "    <tr>\n",
       "      <th>서울</th>\n",
       "      <td>247971</td>\n",
       "    </tr>\n",
       "    <tr>\n",
       "      <th>세종</th>\n",
       "      <td>7858</td>\n",
       "    </tr>\n",
       "    <tr>\n",
       "      <th>울산</th>\n",
       "      <td>26165</td>\n",
       "    </tr>\n",
       "    <tr>\n",
       "      <th>인천</th>\n",
       "      <td>91386</td>\n",
       "    </tr>\n",
       "    <tr>\n",
       "      <th>전남</th>\n",
       "      <td>48070</td>\n",
       "    </tr>\n",
       "    <tr>\n",
       "      <th>전북</th>\n",
       "      <td>36716</td>\n",
       "    </tr>\n",
       "    <tr>\n",
       "      <th>제주</th>\n",
       "      <td>25362</td>\n",
       "    </tr>\n",
       "    <tr>\n",
       "      <th>충남</th>\n",
       "      <td>57671</td>\n",
       "    </tr>\n",
       "    <tr>\n",
       "      <th>충북</th>\n",
       "      <td>48400</td>\n",
       "    </tr>\n",
       "  </tbody>\n",
       "</table>\n",
       "</div>"
      ]
     },
     "metadata": {},
     "execution_count": 373
    }
   ],
   "metadata": {}
  },
  {
   "cell_type": "code",
   "execution_count": 377,
   "source": [
    "from bokeh.palettes import Category10_8\r\n",
    "source = ColumnDataSource(\r\n",
    "    data=dict(\r\n",
    "        reg=df.pivot_table(index='지역',values='total').index.tolist(), \r\n",
    "        tot=df.pivot_table(index='지역',values='total')['total'].tolist(), \r\n",
    "        color=Category20_17))\r\n",
    "\r\n",
    "homework_13 = figure(x_range=df.pivot_table(index='지역',values='total').index.tolist(), plot_height=400,plot_width=1000,\r\n",
    "                    title=\"지역별 반려동물 등록마리수 누계\")\r\n",
    "homework_13.vbar(x=\"reg\",width=0.5,top=\"tot\",color=\"color\", source=source)\r\n",
    "homework_13.left[0].formatter.use_scientific = False\r\n",
    "#homework_4.xaxis.axis_label=\"날짜\"\r\n",
    "homework_13.yaxis.axis_label=\"등록마리수 누계\"\r\n",
    "\r\n",
    "show(homework_13)"
   ],
   "outputs": [
    {
     "output_type": "display_data",
     "data": {
      "text/html": [
       "\n",
       "\n",
       "\n",
       "\n",
       "\n",
       "\n",
       "  <div class=\"bk-root\" id=\"52bae018-a2ad-4fe1-966e-05143f96a0fd\" data-root-id=\"92588\"></div>\n"
      ]
     },
     "metadata": {}
    },
    {
     "output_type": "display_data",
     "data": {
      "application/vnd.bokehjs_exec.v0+json": "",
      "application/javascript": "(function(root) {\n  function embed_document(root) {\n    \n  var docs_json = {\"ace60548-96d8-4fcf-88fb-6453892d0820\":{\"defs\":[],\"roots\":{\"references\":[{\"attributes\":{\"below\":[{\"id\":\"92599\"}],\"center\":[{\"id\":\"92601\"},{\"id\":\"92605\"}],\"height\":400,\"left\":[{\"id\":\"92602\"}],\"renderers\":[{\"id\":\"92623\"}],\"title\":{\"id\":\"92589\"},\"toolbar\":{\"id\":\"92613\"},\"width\":1000,\"x_range\":{\"id\":\"92591\"},\"x_scale\":{\"id\":\"92595\"},\"y_range\":{\"id\":\"92593\"},\"y_scale\":{\"id\":\"92597\"}},\"id\":\"92588\",\"subtype\":\"Figure\",\"type\":\"Plot\"},{\"attributes\":{\"bottom_units\":\"screen\",\"fill_alpha\":0.5,\"fill_color\":\"lightgrey\",\"left_units\":\"screen\",\"level\":\"overlay\",\"line_alpha\":1.0,\"line_color\":\"black\",\"line_dash\":[4,4],\"line_width\":2,\"right_units\":\"screen\",\"syncable\":false,\"top_units\":\"screen\"},\"id\":\"92612\",\"type\":\"BoxAnnotation\"},{\"attributes\":{\"source\":{\"id\":\"92587\"}},\"id\":\"92624\",\"type\":\"CDSView\"},{\"attributes\":{\"text\":\"\\uc9c0\\uc5ed\\ubcc4 \\ubc18\\ub824\\ub3d9\\ubb3c \\ub4f1\\ub85d\\ub9c8\\ub9ac\\uc218 \\ub204\\uacc4\"},\"id\":\"92589\",\"type\":\"Title\"},{\"attributes\":{},\"id\":\"92606\",\"type\":\"PanTool\"},{\"attributes\":{},\"id\":\"92600\",\"type\":\"CategoricalTicker\"},{\"attributes\":{},\"id\":\"92603\",\"type\":\"BasicTicker\"},{\"attributes\":{},\"id\":\"94161\",\"type\":\"Selection\"},{\"attributes\":{},\"id\":\"94162\",\"type\":\"UnionRenderers\"},{\"attributes\":{},\"id\":\"94158\",\"type\":\"AllLabels\"},{\"attributes\":{},\"id\":\"92597\",\"type\":\"LinearScale\"},{\"attributes\":{\"overlay\":{\"id\":\"92612\"}},\"id\":\"92608\",\"type\":\"BoxZoomTool\"},{\"attributes\":{\"data\":{\"color\":[\"#1f77b4\",\"#aec7e8\",\"#ff7f0e\",\"#ffbb78\",\"#2ca02c\",\"#98df8a\",\"#d62728\",\"#ff9896\",\"#9467bd\",\"#c5b0d5\",\"#8c564b\",\"#c49c94\",\"#e377c2\",\"#f7b6d2\",\"#7f7f7f\",\"#c7c7c7\",\"#bcbd22\"],\"reg\":[\"\\uac15\\uc6d0\",\"\\uacbd\\uae30\",\"\\uacbd\\ub0a8\",\"\\uacbd\\ubd81\",\"\\uad11\\uc8fc\",\"\\ub300\\uad6c\",\"\\ub300\\uc804\",\"\\ubd80\\uc0b0\",\"\\uc11c\\uc6b8\",\"\\uc138\\uc885\",\"\\uc6b8\\uc0b0\",\"\\uc778\\ucc9c\",\"\\uc804\\ub0a8\",\"\\uc804\\ubd81\",\"\\uc81c\\uc8fc\",\"\\ucda9\\ub0a8\",\"\\ucda9\\ubd81\"],\"tot\":[42111,406614,75733,57785,33934,53817,38373,77687,247971,7858,26165,91386,48070,36716,25362,57671,48400]},\"selected\":{\"id\":\"94161\"},\"selection_policy\":{\"id\":\"94162\"}},\"id\":\"92587\",\"type\":\"ColumnDataSource\"},{\"attributes\":{\"data_source\":{\"id\":\"92587\"},\"glyph\":{\"id\":\"92621\"},\"hover_glyph\":null,\"muted_glyph\":null,\"nonselection_glyph\":{\"id\":\"92622\"},\"view\":{\"id\":\"92624\"}},\"id\":\"92623\",\"type\":\"GlyphRenderer\"},{\"attributes\":{\"axis_label\":\"\\ub4f1\\ub85d\\ub9c8\\ub9ac\\uc218 \\ub204\\uacc4\",\"formatter\":{\"id\":\"92625\"},\"major_label_policy\":{\"id\":\"94158\"},\"ticker\":{\"id\":\"92603\"}},\"id\":\"92602\",\"type\":\"LinearAxis\"},{\"attributes\":{},\"id\":\"92595\",\"type\":\"CategoricalScale\"},{\"attributes\":{},\"id\":\"92611\",\"type\":\"HelpTool\"},{\"attributes\":{\"fill_alpha\":{\"value\":0.1},\"fill_color\":{\"field\":\"color\"},\"line_alpha\":{\"value\":0.1},\"line_color\":{\"field\":\"color\"},\"top\":{\"field\":\"tot\"},\"width\":{\"value\":0.5},\"x\":{\"field\":\"reg\"}},\"id\":\"92622\",\"type\":\"VBar\"},{\"attributes\":{},\"id\":\"94155\",\"type\":\"AllLabels\"},{\"attributes\":{\"use_scientific\":false},\"id\":\"92625\",\"type\":\"BasicTickFormatter\"},{\"attributes\":{},\"id\":\"92593\",\"type\":\"DataRange1d\"},{\"attributes\":{\"factors\":[\"\\uac15\\uc6d0\",\"\\uacbd\\uae30\",\"\\uacbd\\ub0a8\",\"\\uacbd\\ubd81\",\"\\uad11\\uc8fc\",\"\\ub300\\uad6c\",\"\\ub300\\uc804\",\"\\ubd80\\uc0b0\",\"\\uc11c\\uc6b8\",\"\\uc138\\uc885\",\"\\uc6b8\\uc0b0\",\"\\uc778\\ucc9c\",\"\\uc804\\ub0a8\",\"\\uc804\\ubd81\",\"\\uc81c\\uc8fc\",\"\\ucda9\\ub0a8\",\"\\ucda9\\ubd81\"]},\"id\":\"92591\",\"type\":\"FactorRange\"},{\"attributes\":{},\"id\":\"92607\",\"type\":\"WheelZoomTool\"},{\"attributes\":{},\"id\":\"92609\",\"type\":\"SaveTool\"},{\"attributes\":{},\"id\":\"94154\",\"type\":\"CategoricalTickFormatter\"},{\"attributes\":{\"fill_color\":{\"field\":\"color\"},\"line_color\":{\"field\":\"color\"},\"top\":{\"field\":\"tot\"},\"width\":{\"value\":0.5},\"x\":{\"field\":\"reg\"}},\"id\":\"92621\",\"type\":\"VBar\"},{\"attributes\":{},\"id\":\"92610\",\"type\":\"ResetTool\"},{\"attributes\":{\"active_multi\":null,\"tools\":[{\"id\":\"92606\"},{\"id\":\"92607\"},{\"id\":\"92608\"},{\"id\":\"92609\"},{\"id\":\"92610\"},{\"id\":\"92611\"}]},\"id\":\"92613\",\"type\":\"Toolbar\"},{\"attributes\":{\"axis\":{\"id\":\"92599\"},\"ticker\":null},\"id\":\"92601\",\"type\":\"Grid\"},{\"attributes\":{\"axis\":{\"id\":\"92602\"},\"dimension\":1,\"ticker\":null},\"id\":\"92605\",\"type\":\"Grid\"},{\"attributes\":{\"formatter\":{\"id\":\"94154\"},\"major_label_policy\":{\"id\":\"94155\"},\"ticker\":{\"id\":\"92600\"}},\"id\":\"92599\",\"type\":\"CategoricalAxis\"}],\"root_ids\":[\"92588\"]},\"title\":\"Bokeh Application\",\"version\":\"2.3.2\"}};\n  var render_items = [{\"docid\":\"ace60548-96d8-4fcf-88fb-6453892d0820\",\"root_ids\":[\"92588\"],\"roots\":{\"92588\":\"52bae018-a2ad-4fe1-966e-05143f96a0fd\"}}];\n  root.Bokeh.embed.embed_items_notebook(docs_json, render_items);\n\n  }\n  if (root.Bokeh !== undefined) {\n    embed_document(root);\n  } else {\n    var attempts = 0;\n    var timer = setInterval(function(root) {\n      if (root.Bokeh !== undefined) {\n        clearInterval(timer);\n        embed_document(root);\n      } else {\n        attempts++;\n        if (attempts > 100) {\n          clearInterval(timer);\n          console.log(\"Bokeh: ERROR: Unable to run BokehJS code because BokehJS library is missing\");\n        }\n      }\n    }, 10, root)\n  }\n})(window);"
     },
     "metadata": {
      "application/vnd.bokehjs_exec.v0+json": {
       "id": "92588"
      }
     }
    }
   ],
   "metadata": {}
  },
  {
   "cell_type": "code",
   "execution_count": null,
   "source": [],
   "outputs": [],
   "metadata": {}
  }
 ],
 "metadata": {
  "orig_nbformat": 4,
  "language_info": {
   "name": "python",
   "version": "3.9.1",
   "mimetype": "text/x-python",
   "codemirror_mode": {
    "name": "ipython",
    "version": 3
   },
   "pygments_lexer": "ipython3",
   "nbconvert_exporter": "python",
   "file_extension": ".py"
  },
  "kernelspec": {
   "name": "python3",
   "display_name": "Python 3.9.1 64-bit ('base': conda)"
  },
  "interpreter": {
   "hash": "26cbe81f990c700cacc7344ce939feb35388ff5140935024bac84d606131ac1b"
  }
 },
 "nbformat": 4,
 "nbformat_minor": 2
}