{
 "cells": [
  {
   "cell_type": "code",
   "execution_count": 15,
   "source": [
    "# !pip install chardet\r\n",
    "import pandas as pd\r\n",
    "import chardet\r\n",
    "\r\n",
    "def find_encoding(filename :str) -> str:\r\n",
    "    read_file = open(filename, 'rb').read()        # 파일 읽기모드 rb는 read + 바이너리 파일( 바이너리 파일 읽을때 사용 )\r\n",
    "    result    = chardet.detect(read_file)\r\n",
    "    charenc   = result['encoding']\r\n",
    "    return charenc\r\n",
    "\r\n",
    "source_path = \"C:/Users/ad/Desktop/ByunUiHyeok/Development/Project/Data Analysis/2.애완동물/source/fulldata_02_03_01_P_동물병원.csv\"\r\n",
    "# csv 출처(행안부) https://www.data.go.kr/data/15045050/fileData.do\r\n",
    "\r\n",
    "file_encoding = find_encoding(source_path)\r\n",
    "open_source = pd.read_csv(source_path, encoding=file_encoding)\r\n",
    "\r\n",
    "print(file_encoding)"
   ],
   "outputs": [
    {
     "output_type": "stream",
     "name": "stdout",
     "text": [
      "EUC-KR\n"
     ]
    }
   ],
   "metadata": {}
  },
  {
   "cell_type": "code",
   "execution_count": 16,
   "source": [
    "open_source.columns\r\n",
    "open_source.index\r\n",
    "open_source.shape                # -> (9181, 33)\r\n",
    "open_source.info()"
   ],
   "outputs": [
    {
     "output_type": "stream",
     "name": "stdout",
     "text": [
      "<class 'pandas.core.frame.DataFrame'>\n",
      "RangeIndex: 9181 entries, 0 to 9180\n",
      "Data columns (total 33 columns):\n",
      " #   Column       Non-Null Count  Dtype  \n",
      "---  ------       --------------  -----  \n",
      " 0   번호           9181 non-null   int64  \n",
      " 1   개방서비스명       9181 non-null   object \n",
      " 2   개방서비스id      9181 non-null   object \n",
      " 3   개방자치단체코드     9181 non-null   int64  \n",
      " 4   관리번호         9181 non-null   int64  \n",
      " 5   인허가일자        9181 non-null   int64  \n",
      " 6   인허가취소일자      0 non-null      float64\n",
      " 7   영업상태구분코드     9181 non-null   int64  \n",
      " 8   영업상태명        9181 non-null   object \n",
      " 9   상세영업상태코드     9181 non-null   object \n",
      " 10  상세영업상태명      9180 non-null   object \n",
      " 11  폐업일자         4164 non-null   float64\n",
      " 12  휴업시작일자       39 non-null     float64\n",
      " 13  휴업종료일자       34 non-null     float64\n",
      " 14  재개업일자        19 non-null     float64\n",
      " 15  소재지전화        7001 non-null   object \n",
      " 16  소재지면적        8685 non-null   float64\n",
      " 17  소재지우편번호      0 non-null      float64\n",
      " 18  소재지전체주소      8969 non-null   object \n",
      " 19  도로명전체주소      7513 non-null   object \n",
      " 20  도로명우편번호      5978 non-null   float64\n",
      " 21  사업장명         9181 non-null   object \n",
      " 22  최종수정시점       9181 non-null   int64  \n",
      " 23  데이터갱신구분      9181 non-null   object \n",
      " 24  데이터갱신일자      9181 non-null   object \n",
      " 25  업태구분명        0 non-null      float64\n",
      " 26  좌표정보(x)      8041 non-null   float64\n",
      " 27  좌표정보(y)      8041 non-null   float64\n",
      " 28  업무구분명        9179 non-null   object \n",
      " 29  상세업무구분명      0 non-null      float64\n",
      " 30  권리주체일련번호     9164 non-null   object \n",
      " 31  총종업원수        0 non-null      float64\n",
      " 32  Unnamed: 32  0 non-null      float64\n",
      "dtypes: float64(14), int64(6), object(13)\n",
      "memory usage: 2.3+ MB\n"
     ]
    }
   ],
   "metadata": {}
  },
  {
   "cell_type": "code",
   "execution_count": 17,
   "source": [
    "open_source1 = open_source.loc[((open_source['상세영업상태명']==\"정상\") | (open_source['상세영업상태명']==\"휴업\")),:]\r\n",
    "open_source1['상세영업상태명'].tail(2)"
   ],
   "outputs": [
    {
     "output_type": "execute_result",
     "data": {
      "text/plain": [
       "4942    휴업\n",
       "4943    휴업\n",
       "Name: 상세영업상태명, dtype: object"
      ]
     },
     "metadata": {},
     "execution_count": 17
    }
   ],
   "metadata": {}
  },
  {
   "cell_type": "code",
   "execution_count": 18,
   "source": [
    "# open_source = open_source.loc[open_source['상세영업상태명']==\"정상\",:]\r\n",
    "open_source = open_source.loc[open_source['상세영업상태명']==\"정상\",:]\r\n",
    "open_source.columns"
   ],
   "outputs": [
    {
     "output_type": "execute_result",
     "data": {
      "text/plain": [
       "Index(['번호', '개방서비스명', '개방서비스id', '개방자치단체코드', '관리번호', '인허가일자', '인허가취소일자',\n",
       "       '영업상태구분코드', '영업상태명', '상세영업상태코드', '상세영업상태명', '폐업일자', '휴업시작일자', '휴업종료일자',\n",
       "       '재개업일자', '소재지전화', '소재지면적', '소재지우편번호', '소재지전체주소', '도로명전체주소', '도로명우편번호',\n",
       "       '사업장명', '최종수정시점', '데이터갱신구분', '데이터갱신일자', '업태구분명', '좌표정보(x)', '좌표정보(y)',\n",
       "       '업무구분명', '상세업무구분명', '권리주체일련번호', '총종업원수', 'Unnamed: 32'],\n",
       "      dtype='object')"
      ]
     },
     "metadata": {},
     "execution_count": 18
    }
   ],
   "metadata": {}
  },
  {
   "cell_type": "code",
   "execution_count": null,
   "source": [],
   "outputs": [],
   "metadata": {}
  },
  {
   "cell_type": "code",
   "execution_count": 19,
   "source": [
    "fin_source_data = open_source.iloc[:,[21, 10,18,19,26,27]]\r\n",
    "# fin_source_data = open_source1.iloc[:,[10,18,19,20,26,27]]\r\n",
    "\r\n",
    "fin_source_data['구분'] = fin_source_data['소재지전체주소'].str.split(' ').str.get(0).copy()\r\n",
    "fin_source_data.columns= ['병원명', '영업상태', '지번', '도로명', '위도', '경도', '지역']\r\n",
    "fin_source_data"
   ],
   "outputs": [
    {
     "output_type": "stream",
     "name": "stderr",
     "text": [
      "<ipython-input-19-877eef886091>:4: SettingWithCopyWarning: \n",
      "A value is trying to be set on a copy of a slice from a DataFrame.\n",
      "Try using .loc[row_indexer,col_indexer] = value instead\n",
      "\n",
      "See the caveats in the documentation: https://pandas.pydata.org/pandas-docs/stable/user_guide/indexing.html#returning-a-view-versus-a-copy\n",
      "  fin_source_data['구분'] = fin_source_data['소재지전체주소'].str.split(' ').str.get(0).copy()\n"
     ]
    },
    {
     "output_type": "execute_result",
     "data": {
      "text/plain": [
       "            병원명 영업상태                            지번  \\\n",
       "0         추동물병원   정상  충청북도 영동군 영동읍 부용리 346-9 추동물병원   \n",
       "1     도그스타 동물병원   정상  경기도 수원시 권선구 호매실동 1375-1 202호   \n",
       "2        소담동물병원   정상        경상북도 울진군 평해읍 평해리 462-4   \n",
       "3        우리동물병원   정상     전라북도 정읍시 이평면 두지리 195 만석식당   \n",
       "4        원 동물병원   정상        충청북도 청주시 흥덕구 상신동 106-2   \n",
       "...         ...  ...                           ...   \n",
       "4864   김앤강 동물병원   정상          광주광역시 북구 오치동 1028-27   \n",
       "4865   참좋은 동물병원   정상          광주광역시 북구 양산동 254-123   \n",
       "4866     우리동물병원   정상            광주광역시 북구 임동 5-16번지   \n",
       "4867     엔젤동물병원   정상            광주광역시 북구 두암동 927-1   \n",
       "4868     일곡동물병원   정상          광주광역시 북구 일곡동 843-5번지   \n",
       "\n",
       "                                         도로명             위도             경도  \\\n",
       "0             충청북도 영동군 영동읍 난계로 1166-1, 추동물병원  269459.440980  297446.921926   \n",
       "1     경기도 수원시 권선구 호매실로218번길 124, 202호 (호매실동)  196493.936553  418242.406823   \n",
       "2                      경상북도 울진군 평해읍 월송정로 143  418279.642270  361268.661686   \n",
       "3             전라북도 정읍시 이평면 황토현로 298, 만석식당 2층  185270.307816  240487.309876   \n",
       "4              충청북도 청주시 흥덕구 상신로 138-68 (상신동)  238737.923591  352447.666104   \n",
       "...                                      ...            ...            ...   \n",
       "4864                광주광역시 북구 서하로 319-1 (오치동)  192235.320008  187547.250035   \n",
       "4865              광주광역시 북구 하서로 371, 1층 (양산동)  188403.348228  189881.785373   \n",
       "4866                  광주광역시 북구 태봉로 37-6 (임동)  191120.420030  184715.866146   \n",
       "4867                   광주광역시 북구 삼정로 95 (두암동)  194205.750000  185704.245000   \n",
       "4868               광주광역시 북구 양일로305번길 8 (일곡동)  190562.909155  189333.017063   \n",
       "\n",
       "         지역  \n",
       "0      충청북도  \n",
       "1       경기도  \n",
       "2      경상북도  \n",
       "3      전라북도  \n",
       "4      충청북도  \n",
       "...     ...  \n",
       "4864  광주광역시  \n",
       "4865  광주광역시  \n",
       "4866  광주광역시  \n",
       "4867  광주광역시  \n",
       "4868  광주광역시  \n",
       "\n",
       "[4869 rows x 7 columns]"
      ],
      "text/html": [
       "<div>\n",
       "<style scoped>\n",
       "    .dataframe tbody tr th:only-of-type {\n",
       "        vertical-align: middle;\n",
       "    }\n",
       "\n",
       "    .dataframe tbody tr th {\n",
       "        vertical-align: top;\n",
       "    }\n",
       "\n",
       "    .dataframe thead th {\n",
       "        text-align: right;\n",
       "    }\n",
       "</style>\n",
       "<table border=\"1\" class=\"dataframe\">\n",
       "  <thead>\n",
       "    <tr style=\"text-align: right;\">\n",
       "      <th></th>\n",
       "      <th>병원명</th>\n",
       "      <th>영업상태</th>\n",
       "      <th>지번</th>\n",
       "      <th>도로명</th>\n",
       "      <th>위도</th>\n",
       "      <th>경도</th>\n",
       "      <th>지역</th>\n",
       "    </tr>\n",
       "  </thead>\n",
       "  <tbody>\n",
       "    <tr>\n",
       "      <th>0</th>\n",
       "      <td>추동물병원</td>\n",
       "      <td>정상</td>\n",
       "      <td>충청북도 영동군 영동읍 부용리 346-9 추동물병원</td>\n",
       "      <td>충청북도 영동군 영동읍 난계로 1166-1, 추동물병원</td>\n",
       "      <td>269459.440980</td>\n",
       "      <td>297446.921926</td>\n",
       "      <td>충청북도</td>\n",
       "    </tr>\n",
       "    <tr>\n",
       "      <th>1</th>\n",
       "      <td>도그스타 동물병원</td>\n",
       "      <td>정상</td>\n",
       "      <td>경기도 수원시 권선구 호매실동 1375-1 202호</td>\n",
       "      <td>경기도 수원시 권선구 호매실로218번길 124, 202호 (호매실동)</td>\n",
       "      <td>196493.936553</td>\n",
       "      <td>418242.406823</td>\n",
       "      <td>경기도</td>\n",
       "    </tr>\n",
       "    <tr>\n",
       "      <th>2</th>\n",
       "      <td>소담동물병원</td>\n",
       "      <td>정상</td>\n",
       "      <td>경상북도 울진군 평해읍 평해리 462-4</td>\n",
       "      <td>경상북도 울진군 평해읍 월송정로 143</td>\n",
       "      <td>418279.642270</td>\n",
       "      <td>361268.661686</td>\n",
       "      <td>경상북도</td>\n",
       "    </tr>\n",
       "    <tr>\n",
       "      <th>3</th>\n",
       "      <td>우리동물병원</td>\n",
       "      <td>정상</td>\n",
       "      <td>전라북도 정읍시 이평면 두지리 195 만석식당</td>\n",
       "      <td>전라북도 정읍시 이평면 황토현로 298, 만석식당 2층</td>\n",
       "      <td>185270.307816</td>\n",
       "      <td>240487.309876</td>\n",
       "      <td>전라북도</td>\n",
       "    </tr>\n",
       "    <tr>\n",
       "      <th>4</th>\n",
       "      <td>원 동물병원</td>\n",
       "      <td>정상</td>\n",
       "      <td>충청북도 청주시 흥덕구 상신동 106-2</td>\n",
       "      <td>충청북도 청주시 흥덕구 상신로 138-68 (상신동)</td>\n",
       "      <td>238737.923591</td>\n",
       "      <td>352447.666104</td>\n",
       "      <td>충청북도</td>\n",
       "    </tr>\n",
       "    <tr>\n",
       "      <th>...</th>\n",
       "      <td>...</td>\n",
       "      <td>...</td>\n",
       "      <td>...</td>\n",
       "      <td>...</td>\n",
       "      <td>...</td>\n",
       "      <td>...</td>\n",
       "      <td>...</td>\n",
       "    </tr>\n",
       "    <tr>\n",
       "      <th>4864</th>\n",
       "      <td>김앤강 동물병원</td>\n",
       "      <td>정상</td>\n",
       "      <td>광주광역시 북구 오치동 1028-27</td>\n",
       "      <td>광주광역시 북구 서하로 319-1 (오치동)</td>\n",
       "      <td>192235.320008</td>\n",
       "      <td>187547.250035</td>\n",
       "      <td>광주광역시</td>\n",
       "    </tr>\n",
       "    <tr>\n",
       "      <th>4865</th>\n",
       "      <td>참좋은 동물병원</td>\n",
       "      <td>정상</td>\n",
       "      <td>광주광역시 북구 양산동 254-123</td>\n",
       "      <td>광주광역시 북구 하서로 371, 1층 (양산동)</td>\n",
       "      <td>188403.348228</td>\n",
       "      <td>189881.785373</td>\n",
       "      <td>광주광역시</td>\n",
       "    </tr>\n",
       "    <tr>\n",
       "      <th>4866</th>\n",
       "      <td>우리동물병원</td>\n",
       "      <td>정상</td>\n",
       "      <td>광주광역시 북구 임동 5-16번지</td>\n",
       "      <td>광주광역시 북구 태봉로 37-6 (임동)</td>\n",
       "      <td>191120.420030</td>\n",
       "      <td>184715.866146</td>\n",
       "      <td>광주광역시</td>\n",
       "    </tr>\n",
       "    <tr>\n",
       "      <th>4867</th>\n",
       "      <td>엔젤동물병원</td>\n",
       "      <td>정상</td>\n",
       "      <td>광주광역시 북구 두암동 927-1</td>\n",
       "      <td>광주광역시 북구 삼정로 95 (두암동)</td>\n",
       "      <td>194205.750000</td>\n",
       "      <td>185704.245000</td>\n",
       "      <td>광주광역시</td>\n",
       "    </tr>\n",
       "    <tr>\n",
       "      <th>4868</th>\n",
       "      <td>일곡동물병원</td>\n",
       "      <td>정상</td>\n",
       "      <td>광주광역시 북구 일곡동 843-5번지</td>\n",
       "      <td>광주광역시 북구 양일로305번길 8 (일곡동)</td>\n",
       "      <td>190562.909155</td>\n",
       "      <td>189333.017063</td>\n",
       "      <td>광주광역시</td>\n",
       "    </tr>\n",
       "  </tbody>\n",
       "</table>\n",
       "<p>4869 rows × 7 columns</p>\n",
       "</div>"
      ]
     },
     "metadata": {},
     "execution_count": 19
    }
   ],
   "metadata": {}
  },
  {
   "cell_type": "code",
   "execution_count": 20,
   "source": [
    "fin_source_data.info()"
   ],
   "outputs": [
    {
     "output_type": "stream",
     "name": "stdout",
     "text": [
      "<class 'pandas.core.frame.DataFrame'>\n",
      "Int64Index: 4869 entries, 0 to 4868\n",
      "Data columns (total 7 columns):\n",
      " #   Column  Non-Null Count  Dtype  \n",
      "---  ------  --------------  -----  \n",
      " 0   병원명     4869 non-null   object \n",
      " 1   영업상태    4869 non-null   object \n",
      " 2   지번      4787 non-null   object \n",
      " 3   도로명     4840 non-null   object \n",
      " 4   위도      4766 non-null   float64\n",
      " 5   경도      4766 non-null   float64\n",
      " 6   지역      4787 non-null   object \n",
      "dtypes: float64(2), object(5)\n",
      "memory usage: 304.3+ KB\n"
     ]
    }
   ],
   "metadata": {}
  },
  {
   "cell_type": "code",
   "execution_count": 21,
   "source": [
    "fin_source_data.isnull().sum()"
   ],
   "outputs": [
    {
     "output_type": "execute_result",
     "data": {
      "text/plain": [
       "병원명       0\n",
       "영업상태      0\n",
       "지번       82\n",
       "도로명      29\n",
       "위도      103\n",
       "경도      103\n",
       "지역       82\n",
       "dtype: int64"
      ]
     },
     "metadata": {},
     "execution_count": 21
    }
   ],
   "metadata": {}
  },
  {
   "cell_type": "code",
   "execution_count": 22,
   "source": [
    "#fin_source_data.loc[fin_source_data['도로명'].isnull(),:]\r\n",
    "fin_source_data['도로명'].fillna(0, inplace=True)\r\n",
    "fin_source_data.loc[fin_source_data['도로명']==0, :].head(1)\r\n",
    "\r\n",
    "\r\n"
   ],
   "outputs": [
    {
     "output_type": "stream",
     "name": "stderr",
     "text": [
      "C:\\Users\\ad\\miniconda3\\lib\\site-packages\\pandas\\core\\series.py:4463: SettingWithCopyWarning: \n",
      "A value is trying to be set on a copy of a slice from a DataFrame\n",
      "\n",
      "See the caveats in the documentation: https://pandas.pydata.org/pandas-docs/stable/user_guide/indexing.html#returning-a-view-versus-a-copy\n",
      "  return super().fillna(\n"
     ]
    },
    {
     "output_type": "execute_result",
     "data": {
      "text/plain": [
       "        병원명 영업상태                        지번 도로명             위도             경도  \\\n",
       "92  목도 동물병원   정상  충청북도 괴산군 불정면 목도리 296-7번지   0  276072.209377  374853.338019   \n",
       "\n",
       "      지역  \n",
       "92  충청북도  "
      ],
      "text/html": [
       "<div>\n",
       "<style scoped>\n",
       "    .dataframe tbody tr th:only-of-type {\n",
       "        vertical-align: middle;\n",
       "    }\n",
       "\n",
       "    .dataframe tbody tr th {\n",
       "        vertical-align: top;\n",
       "    }\n",
       "\n",
       "    .dataframe thead th {\n",
       "        text-align: right;\n",
       "    }\n",
       "</style>\n",
       "<table border=\"1\" class=\"dataframe\">\n",
       "  <thead>\n",
       "    <tr style=\"text-align: right;\">\n",
       "      <th></th>\n",
       "      <th>병원명</th>\n",
       "      <th>영업상태</th>\n",
       "      <th>지번</th>\n",
       "      <th>도로명</th>\n",
       "      <th>위도</th>\n",
       "      <th>경도</th>\n",
       "      <th>지역</th>\n",
       "    </tr>\n",
       "  </thead>\n",
       "  <tbody>\n",
       "    <tr>\n",
       "      <th>92</th>\n",
       "      <td>목도 동물병원</td>\n",
       "      <td>정상</td>\n",
       "      <td>충청북도 괴산군 불정면 목도리 296-7번지</td>\n",
       "      <td>0</td>\n",
       "      <td>276072.209377</td>\n",
       "      <td>374853.338019</td>\n",
       "      <td>충청북도</td>\n",
       "    </tr>\n",
       "  </tbody>\n",
       "</table>\n",
       "</div>"
      ]
     },
     "metadata": {},
     "execution_count": 22
    }
   ],
   "metadata": {}
  },
  {
   "cell_type": "code",
   "execution_count": 23,
   "source": [
    "fin_source_data.loc[ fin_source_data[\"지번\"]== \"충청북도 괴산군 불정면 목도리 296-7번지\", \"위도\" ] = 10\r\n",
    "fin_source_data.loc[ fin_source_data[\"지번\"]== \"충청북도 괴산군 불정면 목도리 296-7번지\", : ]\r\n",
    "fin_source_data.loc[ fin_source_data[\"도로명\"]== \"충청북도 영동군 영동읍 난계로 1166-1, 추동물병원\", : ]\r\n",
    "type(fin_source_data.loc[ fin_source_data[\"도로명\"]== \"충청북도 영동군 영동읍 난계로 1166-1, 추동물병원\", \"도로명\" ][0])\r\n",
    "fin_source_data.loc[ fin_source_data[\"도로명\"]== \"충청북도 영동군 영동읍 난계로 1166-1, 추동물병원\", \"도로명\" ][0]\r\n",
    "\r\n",
    "addr_final[0] == fin_source_data.loc[ fin_source_data[\"도로명\"]== \"충청북도 영동군 영동읍 난계로 1166-1, 추동물병원\", \"도로명\" ][0]"
   ],
   "outputs": [
    {
     "output_type": "stream",
     "name": "stderr",
     "text": [
      "C:\\Users\\ad\\miniconda3\\lib\\site-packages\\pandas\\core\\indexing.py:1720: SettingWithCopyWarning: \n",
      "A value is trying to be set on a copy of a slice from a DataFrame.\n",
      "Try using .loc[row_indexer,col_indexer] = value instead\n",
      "\n",
      "See the caveats in the documentation: https://pandas.pydata.org/pandas-docs/stable/user_guide/indexing.html#returning-a-view-versus-a-copy\n",
      "  self._setitem_single_column(loc, value, pi)\n"
     ]
    },
    {
     "output_type": "error",
     "ename": "NameError",
     "evalue": "name 'addr_final' is not defined",
     "traceback": [
      "\u001b[1;31m---------------------------------------------------------------------------\u001b[0m",
      "\u001b[1;31mNameError\u001b[0m                                 Traceback (most recent call last)",
      "\u001b[1;32m<ipython-input-23-e1b1f00fab01>\u001b[0m in \u001b[0;36m<module>\u001b[1;34m\u001b[0m\n\u001b[0;32m      5\u001b[0m \u001b[0mfin_source_data\u001b[0m\u001b[1;33m.\u001b[0m\u001b[0mloc\u001b[0m\u001b[1;33m[\u001b[0m \u001b[0mfin_source_data\u001b[0m\u001b[1;33m[\u001b[0m\u001b[1;34m\"도로명\"\u001b[0m\u001b[1;33m]\u001b[0m\u001b[1;33m==\u001b[0m \u001b[1;34m\"충청북도 영동군 영동읍 난계로 1166-1, 추동물병원\"\u001b[0m\u001b[1;33m,\u001b[0m \u001b[1;34m\"도로명\"\u001b[0m \u001b[1;33m]\u001b[0m\u001b[1;33m[\u001b[0m\u001b[1;36m0\u001b[0m\u001b[1;33m]\u001b[0m\u001b[1;33m\u001b[0m\u001b[1;33m\u001b[0m\u001b[0m\n\u001b[0;32m      6\u001b[0m \u001b[1;33m\u001b[0m\u001b[0m\n\u001b[1;32m----> 7\u001b[1;33m \u001b[0maddr_final\u001b[0m\u001b[1;33m[\u001b[0m\u001b[1;36m0\u001b[0m\u001b[1;33m]\u001b[0m \u001b[1;33m==\u001b[0m \u001b[0mfin_source_data\u001b[0m\u001b[1;33m.\u001b[0m\u001b[0mloc\u001b[0m\u001b[1;33m[\u001b[0m \u001b[0mfin_source_data\u001b[0m\u001b[1;33m[\u001b[0m\u001b[1;34m\"도로명\"\u001b[0m\u001b[1;33m]\u001b[0m\u001b[1;33m==\u001b[0m \u001b[1;34m\"충청북도 영동군 영동읍 난계로 1166-1, 추동물병원\"\u001b[0m\u001b[1;33m,\u001b[0m \u001b[1;34m\"도로명\"\u001b[0m \u001b[1;33m]\u001b[0m\u001b[1;33m[\u001b[0m\u001b[1;36m0\u001b[0m\u001b[1;33m]\u001b[0m\u001b[1;33m\u001b[0m\u001b[1;33m\u001b[0m\u001b[0m\n\u001b[0m",
      "\u001b[1;31mNameError\u001b[0m: name 'addr_final' is not defined"
     ]
    }
   ],
   "metadata": {}
  },
  {
   "cell_type": "code",
   "execution_count": null,
   "source": [
    "# for i,j in fin_source_data[['도로명']].iterrows() :\r\n",
    "#     print(i)\r\n",
    "#     print(j[0])\r\n",
    "#     break\r\n",
    "# ---------------------------------------------------------\r\n",
    "addr_final = list()\r\n",
    "for i,j in fin_source_data[['도로명']].iterrows():\r\n",
    "    if j[0] != 0:\r\n",
    "        addr_final.append(j[0])\r\n",
    "    else :\r\n",
    "        addr_final.append(fin_source_data.loc[i,\"지번\"])\r\n",
    "\r\n",
    "addr_final[0]"
   ],
   "outputs": [
    {
     "output_type": "execute_result",
     "data": {
      "text/plain": [
       "'충청북도 영동군 영동읍 난계로 1166-1, 추동물병원'"
      ]
     },
     "metadata": {},
     "execution_count": 106
    }
   ],
   "metadata": {}
  },
  {
   "cell_type": "code",
   "execution_count": null,
   "source": [
    "fin_source_data.loc[ fin_source_data[\"지번\"]== \"경기도 수원시 권선구 호매실동 1375-1 202호\", \"지번\" ]\r\n",
    "#fin_source_data.loc[ fin_source_data[\"도로명\"]== \"경기도 수원시 권선구 호매실로218번길 124, 202호 (호매실동)\", \"도로명\" ][0]\r\n",
    "fin_source_data.loc[ fin_source_data[\"도로명\"]== \"충청북도 영동군 영동읍 난계로 1166-1, 추동물병원\", \"도로명\" ]"
   ],
   "outputs": [
    {
     "output_type": "execute_result",
     "data": {
      "text/plain": [
       "0    충청북도 영동군 영동읍 난계로 1166-1, 추동물병원\n",
       "Name: 도로명, dtype: object"
      ]
     },
     "metadata": {},
     "execution_count": 129
    }
   ],
   "metadata": {}
  },
  {
   "cell_type": "code",
   "execution_count": null,
   "source": [
    "fin_source_data.loc[ fin_source_data[\"도로명\"]== \"경기도 수원시 권선구 호매실로218번길 124, 202호 (호매실동)\", \"도로명\" ].unique()[0]"
   ],
   "outputs": [
    {
     "output_type": "execute_result",
     "data": {
      "text/plain": [
       "'경기도 수원시 권선구 호매실로218번길 124, 202호 (호매실동)'"
      ]
     },
     "metadata": {},
     "execution_count": 159
    }
   ],
   "metadata": {}
  },
  {
   "cell_type": "code",
   "execution_count": null,
   "source": [
    "bcorr  = 0\r\n",
    "corr = 0\r\n",
    "\r\n",
    "for i in range(len(fin_source_data[\"도로명\"])):\r\n",
    "\r\n",
    "    if fin_source_data[\"도로명\"][i] == addr_final[i] :\r\n",
    "        corr += 1\r\n",
    "    else : \r\n",
    "        bcorr += 1\r\n",
    "print(corr)\r\n",
    "print(bcorr)"
   ],
   "outputs": [
    {
     "output_type": "error",
     "ename": "TypeError",
     "evalue": "'method' object is not subscriptable",
     "traceback": [
      "\u001b[1;31m---------------------------------------------------------------------------\u001b[0m",
      "\u001b[1;31mTypeError\u001b[0m                                 Traceback (most recent call last)",
      "\u001b[1;32m<ipython-input-141-bc7a97cb03bb>\u001b[0m in \u001b[0;36m<module>\u001b[1;34m\u001b[0m\n\u001b[1;32m----> 1\u001b[1;33m \u001b[0mfin_source_data\u001b[0m\u001b[1;33m.\u001b[0m\u001b[0mlookup\u001b[0m\u001b[1;33m[\u001b[0m\u001b[1;36m0\u001b[0m\u001b[1;33m,\u001b[0m\u001b[1;34m\"도로명\"\u001b[0m\u001b[1;33m]\u001b[0m\u001b[1;33m\u001b[0m\u001b[1;33m\u001b[0m\u001b[0m\n\u001b[0m",
      "\u001b[1;31mTypeError\u001b[0m: 'method' object is not subscriptable"
     ]
    }
   ],
   "metadata": {}
  },
  {
   "cell_type": "code",
   "execution_count": null,
   "source": [
    "tt = {\"위도\":\"y\", \"경도\":\"x\"}\r\n",
    "for j,k in tt.items():\r\n",
    "    print(j)\r\n",
    "    print(k)\r\n"
   ],
   "outputs": [
    {
     "output_type": "stream",
     "name": "stdout",
     "text": [
      "위도\n",
      "y\n",
      "경도\n",
      "x\n"
     ]
    }
   ],
   "metadata": {}
  },
  {
   "cell_type": "code",
   "execution_count": null,
   "source": [
    "import re\r\n",
    "a = \"대구광역시 수성구 용학로48길 24, 2/3층 (지산동)\"\r\n",
    "a = a.split()\r\n",
    "a = ' '.join(a[:-2])\r\n",
    "a = re.sub(r'[,]','',a)\r\n",
    "type(a)"
   ],
   "outputs": [
    {
     "output_type": "execute_result",
     "data": {
      "text/plain": [
       "str"
      ]
     },
     "metadata": {},
     "execution_count": 194
    }
   ],
   "metadata": {}
  },
  {
   "cell_type": "code",
   "execution_count": null,
   "source": [
    "for i in addr_final :\r\n",
    "    tt = {\"위도\":\"y\", \"경도\":\"x\"}\r\n",
    "\r\n",
    "    rest_api_key = 'c6ead90ce93e6ff182fbb5dbbb2efb6c'\r\n",
    "    query = i\r\n",
    "    url = f\"https://dapi.kakao.com/v2/local/search/address.json?query={query}\"\r\n",
    "    headers={'Authorization':'KakaoAK {}'.format(rest_api_key)}\r\n",
    "    res = requests.get(url, headers=headers)\r\n",
    "    res_json = res.json()\r\n",
    "    #print(i)                     #########\r\n",
    "    \r\n",
    "    try :\r\n",
    "        if i == fin_source_data.loc[ fin_source_data[\"도로명\"]== i, \"도로명\" ].unique()[0]:\r\n",
    "            for j,k in tt.items():\r\n",
    "                #print(res_json)###########\\\r\n",
    "                #print(j,k)\r\n",
    "\r\n",
    "                fin_source_data.loc[ fin_source_data[\"도로명\"]== i , j ] = res_json['documents'][0]['address'][k]\r\n",
    "\r\n",
    "        elif i == fin_source_data.loc[ fin_source_data[\"지번\"]== i, \"지번\" ].unique()[0]:\r\n",
    "            fin_source_data.loc[ fin_source_data[\"지번\"]== i , \"도로명\" ] = res_json['documents'][0]['road_address']['address_name']\r\n",
    "\r\n",
    "            for j,k in tt.items():\r\n",
    "                fin_source_data.loc[ fin_source_data[\"지번\"]== i , j ] = res_json['documents'][0]['address'][k]\r\n",
    "            \r\n",
    "        addr = res_json['documents'][0]['road_address']['address_name']\r\n",
    "        name = fin_source_data.loc[ fin_source_data[\"도로명\"]== i, \"병원명\" ].unique()[0]\r\n",
    "    except IndexError:\r\n",
    "        i2 = i.split()\r\n",
    "        i2 = ' '.join(i2[:-2])\r\n",
    "        i2 = re.sub(r'[,]','',i2)\r\n",
    "        print(i)\r\n",
    "        query = i2\r\n",
    "        url = f\"https://dapi.kakao.com/v2/local/search/address.json?query={query}\"\r\n",
    "        headers={'Authorization':'KakaoAK {}'.format(rest_api_key)}\r\n",
    "        res = requests.get(url, headers=headers)\r\n",
    "        res_json = res.json()\r\n",
    "\r\n",
    "\r\n",
    "        if i == fin_source_data.loc[ fin_source_data[\"도로명\"]== i, \"도로명\" ].unique()[0]:\r\n",
    "            for j,k in tt.items():\r\n",
    "                print(res_json)###########\r\n",
    "                print(j,k)\r\n",
    "                print( fin_source_data.loc[ fin_source_data[\"도로명\"]== i , j ])\r\n",
    "                print(res_json['documents'][0]['address'][k])\r\n",
    "                fin_source_data.loc[ fin_source_data[\"도로명\"]== i , j ] = res_json['documents'][0]['address'][k]\r\n",
    "\r\n",
    "        elif i == fin_source_data.loc[ fin_source_data[\"지번\"]== i, \"지번\" ].unique()[0]:\r\n",
    "            fin_source_data.loc[ fin_source_data[\"지번\"]== i , \"도로명\" ] = res_json['documents'][0]['road_address']['address_name']\r\n",
    "\r\n",
    "            for j,k in tt.items():\r\n",
    "                fin_source_data.loc[ fin_source_data[\"지번\"]== i , j ] = res_json['documents'][0]['address'][k]\r\n",
    "        \r\n"
   ],
   "outputs": [],
   "metadata": {}
  },
  {
   "cell_type": "code",
   "execution_count": 24,
   "source": [
    "len(addr_final)"
   ],
   "outputs": [
    {
     "output_type": "error",
     "ename": "NameError",
     "evalue": "name 'addr_final' is not defined",
     "traceback": [
      "\u001b[1;31m---------------------------------------------------------------------------\u001b[0m",
      "\u001b[1;31mNameError\u001b[0m                                 Traceback (most recent call last)",
      "\u001b[1;32m<ipython-input-24-4b9e36439988>\u001b[0m in \u001b[0;36m<module>\u001b[1;34m\u001b[0m\n\u001b[1;32m----> 1\u001b[1;33m \u001b[0mlen\u001b[0m\u001b[1;33m(\u001b[0m\u001b[0maddr_final\u001b[0m\u001b[1;33m)\u001b[0m\u001b[1;33m\u001b[0m\u001b[1;33m\u001b[0m\u001b[0m\n\u001b[0m",
      "\u001b[1;31mNameError\u001b[0m: name 'addr_final' is not defined"
     ]
    }
   ],
   "metadata": {}
  },
  {
   "cell_type": "code",
   "execution_count": null,
   "source": [
    "def test():\r\n",
    "\r\n",
    "for i in addr_final :\r\n",
    "    tt = {\"위도\":\"y\", \"경도\":\"x\"}\r\n",
    "\r\n",
    "    rest_api_key = 'c6ead90ce93e6ff182fbb5dbbb2efb6c'\r\n",
    "    query = i\r\n",
    "    url = f\"https://dapi.kakao.com/v2/local/search/address.json?query={query}\"\r\n",
    "    headers={'Authorization':'KakaoAK {}'.format(rest_api_key)}\r\n",
    "    res = requests.get(url, headers=headers)\r\n",
    "    res_json = res.json()\r\n",
    "    #print(i)                     #########\r\n",
    "    \r\n",
    "    try :\r\n",
    "        if i == fin_source_data.loc[ fin_source_data[\"도로명\"]== i, \"도로명\" ].unique()[0]:\r\n",
    "            for j,k in tt.items():\r\n",
    "                #print(res_json)###########\\\r\n",
    "                #print(j,k)\r\n",
    "\r\n",
    "                fin_source_data.loc[ fin_source_data[\"도로명\"]== i , j ] = res_json['documents'][0]['address'][k]\r\n",
    "\r\n",
    "        elif i == fin_source_data.loc[ fin_source_data[\"지번\"]== i, \"지번\" ].unique()[0]:\r\n",
    "            fin_source_data.loc[ fin_source_data[\"지번\"]== i , \"도로명\" ] = res_json['documents'][0]['road_address']['address_name']\r\n",
    "\r\n",
    "            for j,k in tt.items():\r\n",
    "                fin_source_data.loc[ fin_source_data[\"지번\"]== i , j ] = res_json['documents'][0]['address'][k]\r\n",
    "            \r\n",
    "        addr = res_json['documents'][0]['road_address']['address_name']\r\n",
    "        name = fin_source_data.loc[ fin_source_data[\"도로명\"]== i, \"병원명\" ].unique()[0]\r\n",
    "    except IndexError:\r\n",
    "        i2 = i.split()\r\n",
    "        i2 = ' '.join(i2[:-2])\r\n",
    "        i2 = re.sub(r'[,]','',i2)\r\n",
    "        print(i)\r\n",
    "        query = i2\r\n",
    "        url = f\"https://dapi.kakao.com/v2/local/search/address.json?query={query}\"\r\n",
    "        headers={'Authorization':'KakaoAK {}'.format(rest_api_key)}\r\n",
    "        res = requests.get(url, headers=headers)\r\n",
    "        res_json = res.json()\r\n",
    "\r\n",
    "\r\n",
    "        if i == fin_source_data.loc[ fin_source_data[\"도로명\"]== i, \"도로명\" ].unique()[0]:\r\n",
    "            for j,k in tt.items():\r\n",
    "                print(res_json)###########\r\n",
    "                print(j,k)\r\n",
    "                print( fin_source_data.loc[ fin_source_data[\"도로명\"]== i , j ])\r\n",
    "                print(res_json['documents'][0]['address'][k])\r\n",
    "                fin_source_data.loc[ fin_source_data[\"도로명\"]== i , j ] = res_json['documents'][0]['address'][k]\r\n",
    "\r\n",
    "        elif i == fin_source_data.loc[ fin_source_data[\"지번\"]== i, \"지번\" ].unique()[0]:\r\n",
    "            fin_source_data.loc[ fin_source_data[\"지번\"]== i , \"도로명\" ] = res_json['documents'][0]['road_address']['address_name']\r\n",
    "\r\n",
    "            for j,k in tt.items():\r\n",
    "                fin_source_data.loc[ fin_source_data[\"지번\"]== i , j ] = res_json['documents'][0]['address'][k]\r\n",
    "        \r\n"
   ],
   "outputs": [
    {
     "output_type": "error",
     "ename": "NameError",
     "evalue": "name 'addr_final' is not defined",
     "traceback": [
      "\u001b[1;31m---------------------------------------------------------------------------\u001b[0m",
      "\u001b[1;31mNameError\u001b[0m                                 Traceback (most recent call last)",
      "\u001b[1;32m<ipython-input-14-bfeb581b0c1e>\u001b[0m in \u001b[0;36m<module>\u001b[1;34m\u001b[0m\n\u001b[1;32m----> 1\u001b[1;33m \u001b[1;32mfor\u001b[0m \u001b[0mi\u001b[0m \u001b[1;32min\u001b[0m \u001b[0maddr_final\u001b[0m \u001b[1;33m:\u001b[0m\u001b[1;33m\u001b[0m\u001b[1;33m\u001b[0m\u001b[0m\n\u001b[0m\u001b[0;32m      2\u001b[0m     \u001b[0mtt\u001b[0m \u001b[1;33m=\u001b[0m \u001b[1;33m{\u001b[0m\u001b[1;34m\"위도\"\u001b[0m\u001b[1;33m:\u001b[0m\u001b[1;34m\"y\"\u001b[0m\u001b[1;33m,\u001b[0m \u001b[1;34m\"경도\"\u001b[0m\u001b[1;33m:\u001b[0m\u001b[1;34m\"x\"\u001b[0m\u001b[1;33m}\u001b[0m\u001b[1;33m\u001b[0m\u001b[1;33m\u001b[0m\u001b[0m\n\u001b[0;32m      3\u001b[0m \u001b[1;33m\u001b[0m\u001b[0m\n\u001b[0;32m      4\u001b[0m     \u001b[0mrest_api_key\u001b[0m \u001b[1;33m=\u001b[0m \u001b[1;34m'c6ead90ce93e6ff182fbb5dbbb2efb6c'\u001b[0m\u001b[1;33m\u001b[0m\u001b[1;33m\u001b[0m\u001b[0m\n\u001b[0;32m      5\u001b[0m     \u001b[0mquery\u001b[0m \u001b[1;33m=\u001b[0m \u001b[0mi\u001b[0m\u001b[1;33m\u001b[0m\u001b[1;33m\u001b[0m\u001b[0m\n",
      "\u001b[1;31mNameError\u001b[0m: name 'addr_final' is not defined"
     ]
    }
   ],
   "metadata": {}
  },
  {
   "cell_type": "code",
   "execution_count": null,
   "source": [
    "def pre(i):\r\n",
    "    try :\r\n",
    "        if i == fin_source_data.loc[ fin_source_data[\"도로명\"]== i, \"도로명\" ].unique()[0]:\r\n",
    "            for j,k in tt.items():\r\n",
    "                print(res_json)###########\r\n",
    "                fin_source_data.loc[ fin_source_data[\"도로명\"]== i , j ] = res_json['documents'][0]['address'][k]\r\n",
    "\r\n",
    "        elif i == fin_source_data.loc[ fin_source_data[\"지번\"]== i, \"지번\" ].unique()[0]:\r\n",
    "            fin_source_data.loc[ fin_source_data[\"지번\"]== i , \"도로명\" ] = res_json['documents'][0]['road_address']['address_name']\r\n",
    "\r\n",
    "            for j,k in tt.items():\r\n",
    "                fin_source_data.loc[ fin_source_data[\"지번\"]== i , j ] = res_json['documents'][0]['address'][k]\r\n",
    "            \r\n",
    "        addr = res_json['documents'][0]['road_address']['address_name']\r\n",
    "        name = fin_source_data.loc[ fin_source_data[\"도로명\"]== i, \"병원명\" ].unique()[0]\r\n",
    "    except IndexError:\r\n",
    "        j = i.split()\r\n",
    "        j = ' '.join(i[:-2])\r\n",
    "        j = re.sub(r'[,]','',j)\r\n",
    "        i = j\r\n",
    "\r\n",
    "        if i == fin_source_data.loc[ fin_source_data[\"도로명\"]== i, \"도로명\" ].unique()[0]:\r\n",
    "            for j,k in tt.items():\r\n",
    "                print(res_json)###########\r\n",
    "                fin_source_data.loc[ fin_source_data[\"도로명\"]== i , j ] = res_json['documents'][0]['address'][k]\r\n",
    "\r\n",
    "        elif i == fin_source_data.loc[ fin_source_data[\"지번\"]== i, \"지번\" ].unique()[0]:\r\n",
    "            fin_source_data.loc[ fin_source_data[\"지번\"]== i , \"도로명\" ] = res_json['documents'][0]['road_address']['address_name']\r\n",
    "\r\n",
    "            for j,k in tt.items():\r\n",
    "                fin_source_data.loc[ fin_source_data[\"지번\"]== i , j ] = res_json['documents'][0]['address'][k]\r\n",
    "        print(i)\r\n",
    "\r\n",
    "\r\n",
    "\r\n",
    "for i in addr_final :\r\n",
    "    tt = {\"위도\":\"y\", \"경도\":\"x\"}\r\n",
    "\r\n",
    "    rest_api_key = 'c6ead90ce93e6ff182fbb5dbbb2efb6c'\r\n",
    "    query = i\r\n",
    "    url = f\"https://dapi.kakao.com/v2/local/search/address.json?query={query}\"\r\n",
    "    headers={'Authorization':'KakaoAK {}'.format(rest_api_key)}\r\n",
    "    res = requests.get(url, headers=headers)\r\n",
    "    res_json = res.json()\r\n",
    "    print(i)                     #########\r\n",
    "    print(res_json)       ##########\r\n",
    "    pre(i)"
   ],
   "outputs": [
    {
     "output_type": "stream",
     "name": "stdout",
     "text": [
      "충청북도 영동군 영동읍 난계로 1166-1, 추동물병원\n",
      "{'documents': [{'address': {'address_name': '충북 영동군 영동읍 부용리 346-9', 'b_code': '4374025028', 'h_code': '4374025000', 'main_address_no': '346', 'mountain_yn': 'N', 'region_1depth_name': '충북', 'region_2depth_name': '영동군', 'region_3depth_h_name': '영동읍', 'region_3depth_name': '영동읍 부용리', 'sub_address_no': '9', 'x': '127.772918724607', 'y': '36.1751407754167'}, 'address_name': '충북 영동군 영동읍 난계로 1166-1', 'address_type': 'ROAD_ADDR', 'road_address': {'address_name': '충북 영동군 영동읍 난계로 1166-1', 'building_name': '물류업소', 'main_building_no': '1166', 'region_1depth_name': '충북', 'region_2depth_name': '영동군', 'region_3depth_name': '영동읍 부용리', 'road_name': '난계로', 'sub_building_no': '1', 'underground_yn': 'N', 'x': '127.772918724607', 'y': '36.1751407754167', 'zone_no': '29149'}, 'x': '127.772918724607', 'y': '36.1751407754167'}], 'meta': {'is_end': True, 'pageable_count': 1, 'total_count': 1}}\n",
      "{'documents': [{'address': {'address_name': '충북 영동군 영동읍 부용리 346-9', 'b_code': '4374025028', 'h_code': '4374025000', 'main_address_no': '346', 'mountain_yn': 'N', 'region_1depth_name': '충북', 'region_2depth_name': '영동군', 'region_3depth_h_name': '영동읍', 'region_3depth_name': '영동읍 부용리', 'sub_address_no': '9', 'x': '127.772918724607', 'y': '36.1751407754167'}, 'address_name': '충북 영동군 영동읍 난계로 1166-1', 'address_type': 'ROAD_ADDR', 'road_address': {'address_name': '충북 영동군 영동읍 난계로 1166-1', 'building_name': '물류업소', 'main_building_no': '1166', 'region_1depth_name': '충북', 'region_2depth_name': '영동군', 'region_3depth_name': '영동읍 부용리', 'road_name': '난계로', 'sub_building_no': '1', 'underground_yn': 'N', 'x': '127.772918724607', 'y': '36.1751407754167', 'zone_no': '29149'}, 'x': '127.772918724607', 'y': '36.1751407754167'}], 'meta': {'is_end': True, 'pageable_count': 1, 'total_count': 1}}\n",
      "{'documents': [{'address': {'address_name': '충북 영동군 영동읍 부용리 346-9', 'b_code': '4374025028', 'h_code': '4374025000', 'main_address_no': '346', 'mountain_yn': 'N', 'region_1depth_name': '충북', 'region_2depth_name': '영동군', 'region_3depth_h_name': '영동읍', 'region_3depth_name': '영동읍 부용리', 'sub_address_no': '9', 'x': '127.772918724607', 'y': '36.1751407754167'}, 'address_name': '충북 영동군 영동읍 난계로 1166-1', 'address_type': 'ROAD_ADDR', 'road_address': {'address_name': '충북 영동군 영동읍 난계로 1166-1', 'building_name': '물류업소', 'main_building_no': '1166', 'region_1depth_name': '충북', 'region_2depth_name': '영동군', 'region_3depth_name': '영동읍 부용리', 'road_name': '난계로', 'sub_building_no': '1', 'underground_yn': 'N', 'x': '127.772918724607', 'y': '36.1751407754167', 'zone_no': '29149'}, 'x': '127.772918724607', 'y': '36.1751407754167'}], 'meta': {'is_end': True, 'pageable_count': 1, 'total_count': 1}}\n",
      "경기도 수원시 권선구 호매실로218번길 124, 202호 (호매실동)\n",
      "{'documents': [{'address': {'address_name': '경기 수원시 권선구 호매실동 1375-1', 'b_code': '4111313500', 'h_code': '4111366400', 'main_address_no': '1375', 'mountain_yn': 'N', 'region_1depth_name': '경기', 'region_2depth_name': '수원시 권선구', 'region_3depth_h_name': '호매실동', 'region_3depth_name': '호매실동', 'sub_address_no': '1', 'x': '126.961251963815', 'y': '37.2661269037194'}, 'address_name': '경기 수원시 권선구 호매실로218번길 124', 'address_type': 'ROAD_ADDR', 'road_address': {'address_name': '경기 수원시 권선구 호매실로218번길 124', 'building_name': '', 'main_building_no': '124', 'region_1depth_name': '경기', 'region_2depth_name': '수원시 권선구', 'region_3depth_name': '호매실동', 'road_name': '호매실로218번길', 'sub_building_no': '', 'underground_yn': 'N', 'x': '126.961251963815', 'y': '37.2661269037194', 'zone_no': '16402'}, 'x': '126.961251963815', 'y': '37.2661269037194'}], 'meta': {'is_end': True, 'pageable_count': 1, 'total_count': 1}}\n",
      "{'documents': [{'address': {'address_name': '경기 수원시 권선구 호매실동 1375-1', 'b_code': '4111313500', 'h_code': '4111366400', 'main_address_no': '1375', 'mountain_yn': 'N', 'region_1depth_name': '경기', 'region_2depth_name': '수원시 권선구', 'region_3depth_h_name': '호매실동', 'region_3depth_name': '호매실동', 'sub_address_no': '1', 'x': '126.961251963815', 'y': '37.2661269037194'}, 'address_name': '경기 수원시 권선구 호매실로218번길 124', 'address_type': 'ROAD_ADDR', 'road_address': {'address_name': '경기 수원시 권선구 호매실로218번길 124', 'building_name': '', 'main_building_no': '124', 'region_1depth_name': '경기', 'region_2depth_name': '수원시 권선구', 'region_3depth_name': '호매실동', 'road_name': '호매실로218번길', 'sub_building_no': '', 'underground_yn': 'N', 'x': '126.961251963815', 'y': '37.2661269037194', 'zone_no': '16402'}, 'x': '126.961251963815', 'y': '37.2661269037194'}], 'meta': {'is_end': True, 'pageable_count': 1, 'total_count': 1}}\n",
      "{'documents': [{'address': {'address_name': '경기 수원시 권선구 호매실동 1375-1', 'b_code': '4111313500', 'h_code': '4111366400', 'main_address_no': '1375', 'mountain_yn': 'N', 'region_1depth_name': '경기', 'region_2depth_name': '수원시 권선구', 'region_3depth_h_name': '호매실동', 'region_3depth_name': '호매실동', 'sub_address_no': '1', 'x': '126.961251963815', 'y': '37.2661269037194'}, 'address_name': '경기 수원시 권선구 호매실로218번길 124', 'address_type': 'ROAD_ADDR', 'road_address': {'address_name': '경기 수원시 권선구 호매실로218번길 124', 'building_name': '', 'main_building_no': '124', 'region_1depth_name': '경기', 'region_2depth_name': '수원시 권선구', 'region_3depth_name': '호매실동', 'road_name': '호매실로218번길', 'sub_building_no': '', 'underground_yn': 'N', 'x': '126.961251963815', 'y': '37.2661269037194', 'zone_no': '16402'}, 'x': '126.961251963815', 'y': '37.2661269037194'}], 'meta': {'is_end': True, 'pageable_count': 1, 'total_count': 1}}\n"
     ]
    },
    {
     "output_type": "stream",
     "name": "stderr",
     "text": [
      "C:\\Users\\ad\\miniconda3\\lib\\site-packages\\pandas\\core\\indexing.py:1637: SettingWithCopyWarning: \n",
      "A value is trying to be set on a copy of a slice from a DataFrame\n",
      "\n",
      "See the caveats in the documentation: https://pandas.pydata.org/pandas-docs/stable/user_guide/indexing.html#returning-a-view-versus-a-copy\n",
      "  self._setitem_single_block(indexer, value, name)\n",
      "C:\\Users\\ad\\miniconda3\\lib\\site-packages\\pandas\\core\\indexing.py:692: SettingWithCopyWarning: \n",
      "A value is trying to be set on a copy of a slice from a DataFrame\n",
      "\n",
      "See the caveats in the documentation: https://pandas.pydata.org/pandas-docs/stable/user_guide/indexing.html#returning-a-view-versus-a-copy\n",
      "  iloc._setitem_with_indexer(indexer, value, self.name)\n"
     ]
    },
    {
     "output_type": "stream",
     "name": "stdout",
     "text": [
      "경상북도 울진군 평해읍 월송정로 143\n",
      "{'documents': [{'address': {'address_name': '경북 울진군 평해읍 평해리 462-4', 'b_code': '4793025321', 'h_code': '4793025300', 'main_address_no': '462', 'mountain_yn': 'N', 'region_1depth_name': '경북', 'region_2depth_name': '울진군', 'region_3depth_h_name': '평해읍', 'region_3depth_name': '평해읍 평해리', 'sub_address_no': '4', 'x': '129.4442521317', 'y': '36.7277343696959'}, 'address_name': '경북 울진군 평해읍 월송정로 143', 'address_type': 'ROAD_ADDR', 'road_address': {'address_name': '경북 울진군 평해읍 월송정로 143', 'building_name': '대게한식', 'main_building_no': '143', 'region_1depth_name': '경북', 'region_2depth_name': '울진군', 'region_3depth_name': '평해읍 평해리', 'road_name': '월송정로', 'sub_building_no': '', 'underground_yn': 'N', 'x': '129.4442521317', 'y': '36.7277343696959', 'zone_no': '36366'}, 'x': '129.4442521317', 'y': '36.7277343696959'}], 'meta': {'is_end': True, 'pageable_count': 1, 'total_count': 1}}\n",
      "{'documents': [{'address': {'address_name': '경북 울진군 평해읍 평해리 462-4', 'b_code': '4793025321', 'h_code': '4793025300', 'main_address_no': '462', 'mountain_yn': 'N', 'region_1depth_name': '경북', 'region_2depth_name': '울진군', 'region_3depth_h_name': '평해읍', 'region_3depth_name': '평해읍 평해리', 'sub_address_no': '4', 'x': '129.4442521317', 'y': '36.7277343696959'}, 'address_name': '경북 울진군 평해읍 월송정로 143', 'address_type': 'ROAD_ADDR', 'road_address': {'address_name': '경북 울진군 평해읍 월송정로 143', 'building_name': '대게한식', 'main_building_no': '143', 'region_1depth_name': '경북', 'region_2depth_name': '울진군', 'region_3depth_name': '평해읍 평해리', 'road_name': '월송정로', 'sub_building_no': '', 'underground_yn': 'N', 'x': '129.4442521317', 'y': '36.7277343696959', 'zone_no': '36366'}, 'x': '129.4442521317', 'y': '36.7277343696959'}], 'meta': {'is_end': True, 'pageable_count': 1, 'total_count': 1}}\n",
      "{'documents': [{'address': {'address_name': '경북 울진군 평해읍 평해리 462-4', 'b_code': '4793025321', 'h_code': '4793025300', 'main_address_no': '462', 'mountain_yn': 'N', 'region_1depth_name': '경북', 'region_2depth_name': '울진군', 'region_3depth_h_name': '평해읍', 'region_3depth_name': '평해읍 평해리', 'sub_address_no': '4', 'x': '129.4442521317', 'y': '36.7277343696959'}, 'address_name': '경북 울진군 평해읍 월송정로 143', 'address_type': 'ROAD_ADDR', 'road_address': {'address_name': '경북 울진군 평해읍 월송정로 143', 'building_name': '대게한식', 'main_building_no': '143', 'region_1depth_name': '경북', 'region_2depth_name': '울진군', 'region_3depth_name': '평해읍 평해리', 'road_name': '월송정로', 'sub_building_no': '', 'underground_yn': 'N', 'x': '129.4442521317', 'y': '36.7277343696959', 'zone_no': '36366'}, 'x': '129.4442521317', 'y': '36.7277343696959'}], 'meta': {'is_end': True, 'pageable_count': 1, 'total_count': 1}}\n",
      "전라북도 정읍시 이평면 황토현로 298, 만석식당 2층\n",
      "{'documents': [{'address': {'address_name': '전북 정읍시 이평면 두지리 195', 'b_code': '4518037025', 'h_code': '4518037000', 'main_address_no': '195', 'mountain_yn': 'N', 'region_1depth_name': '전북', 'region_2depth_name': '정읍시', 'region_3depth_h_name': '이평면', 'region_3depth_name': '이평면 두지리', 'sub_address_no': '', 'x': '126.838039179329', 'y': '35.6641330619704'}, 'address_name': '전북 정읍시 이평면 황토현로 298', 'address_type': 'ROAD_ADDR', 'road_address': {'address_name': '전북 정읍시 이평면 황토현로 298', 'building_name': '만석식당', 'main_building_no': '298', 'region_1depth_name': '전북', 'region_2depth_name': '정읍시', 'region_3depth_name': '이평면 두지리', 'road_name': '황토현로', 'sub_building_no': '', 'underground_yn': 'N', 'x': '126.838039179329', 'y': '35.6641330619704', 'zone_no': '56144'}, 'x': '126.838039179329', 'y': '35.6641330619704'}], 'meta': {'is_end': True, 'pageable_count': 1, 'total_count': 1}}\n",
      "{'documents': [{'address': {'address_name': '전북 정읍시 이평면 두지리 195', 'b_code': '4518037025', 'h_code': '4518037000', 'main_address_no': '195', 'mountain_yn': 'N', 'region_1depth_name': '전북', 'region_2depth_name': '정읍시', 'region_3depth_h_name': '이평면', 'region_3depth_name': '이평면 두지리', 'sub_address_no': '', 'x': '126.838039179329', 'y': '35.6641330619704'}, 'address_name': '전북 정읍시 이평면 황토현로 298', 'address_type': 'ROAD_ADDR', 'road_address': {'address_name': '전북 정읍시 이평면 황토현로 298', 'building_name': '만석식당', 'main_building_no': '298', 'region_1depth_name': '전북', 'region_2depth_name': '정읍시', 'region_3depth_name': '이평면 두지리', 'road_name': '황토현로', 'sub_building_no': '', 'underground_yn': 'N', 'x': '126.838039179329', 'y': '35.6641330619704', 'zone_no': '56144'}, 'x': '126.838039179329', 'y': '35.6641330619704'}], 'meta': {'is_end': True, 'pageable_count': 1, 'total_count': 1}}\n",
      "{'documents': [{'address': {'address_name': '전북 정읍시 이평면 두지리 195', 'b_code': '4518037025', 'h_code': '4518037000', 'main_address_no': '195', 'mountain_yn': 'N', 'region_1depth_name': '전북', 'region_2depth_name': '정읍시', 'region_3depth_h_name': '이평면', 'region_3depth_name': '이평면 두지리', 'sub_address_no': '', 'x': '126.838039179329', 'y': '35.6641330619704'}, 'address_name': '전북 정읍시 이평면 황토현로 298', 'address_type': 'ROAD_ADDR', 'road_address': {'address_name': '전북 정읍시 이평면 황토현로 298', 'building_name': '만석식당', 'main_building_no': '298', 'region_1depth_name': '전북', 'region_2depth_name': '정읍시', 'region_3depth_name': '이평면 두지리', 'road_name': '황토현로', 'sub_building_no': '', 'underground_yn': 'N', 'x': '126.838039179329', 'y': '35.6641330619704', 'zone_no': '56144'}, 'x': '126.838039179329', 'y': '35.6641330619704'}], 'meta': {'is_end': True, 'pageable_count': 1, 'total_count': 1}}\n",
      "충청북도 청주시 흥덕구 상신로 138-68 (상신동)\n",
      "{'documents': [{'address': {'address_name': '충북 청주시 흥덕구 상신동 106-2', 'b_code': '4311313100', 'h_code': '4311377000', 'main_address_no': '106', 'mountain_yn': 'N', 'region_1depth_name': '충북', 'region_2depth_name': '청주시 흥덕구', 'region_3depth_h_name': '강서2동', 'region_3depth_name': '상신동', 'sub_address_no': '2', 'x': '127.434115484989', 'y': '36.672629804863'}, 'address_name': '충북 청주시 흥덕구 상신로 138-68', 'address_type': 'ROAD_ADDR', 'road_address': {'address_name': '충북 청주시 흥덕구 상신로 138-68', 'building_name': '', 'main_building_no': '138', 'region_1depth_name': '충북', 'region_2depth_name': '청주시 흥덕구', 'region_3depth_name': '상신동', 'road_name': '상신로', 'sub_building_no': '68', 'underground_yn': 'N', 'x': '127.434115484989', 'y': '36.672629804863', 'zone_no': '28303'}, 'x': '127.434115484989', 'y': '36.672629804863'}], 'meta': {'is_end': True, 'pageable_count': 1, 'total_count': 1}}\n",
      "{'documents': [{'address': {'address_name': '충북 청주시 흥덕구 상신동 106-2', 'b_code': '4311313100', 'h_code': '4311377000', 'main_address_no': '106', 'mountain_yn': 'N', 'region_1depth_name': '충북', 'region_2depth_name': '청주시 흥덕구', 'region_3depth_h_name': '강서2동', 'region_3depth_name': '상신동', 'sub_address_no': '2', 'x': '127.434115484989', 'y': '36.672629804863'}, 'address_name': '충북 청주시 흥덕구 상신로 138-68', 'address_type': 'ROAD_ADDR', 'road_address': {'address_name': '충북 청주시 흥덕구 상신로 138-68', 'building_name': '', 'main_building_no': '138', 'region_1depth_name': '충북', 'region_2depth_name': '청주시 흥덕구', 'region_3depth_name': '상신동', 'road_name': '상신로', 'sub_building_no': '68', 'underground_yn': 'N', 'x': '127.434115484989', 'y': '36.672629804863', 'zone_no': '28303'}, 'x': '127.434115484989', 'y': '36.672629804863'}], 'meta': {'is_end': True, 'pageable_count': 1, 'total_count': 1}}\n",
      "{'documents': [{'address': {'address_name': '충북 청주시 흥덕구 상신동 106-2', 'b_code': '4311313100', 'h_code': '4311377000', 'main_address_no': '106', 'mountain_yn': 'N', 'region_1depth_name': '충북', 'region_2depth_name': '청주시 흥덕구', 'region_3depth_h_name': '강서2동', 'region_3depth_name': '상신동', 'sub_address_no': '2', 'x': '127.434115484989', 'y': '36.672629804863'}, 'address_name': '충북 청주시 흥덕구 상신로 138-68', 'address_type': 'ROAD_ADDR', 'road_address': {'address_name': '충북 청주시 흥덕구 상신로 138-68', 'building_name': '', 'main_building_no': '138', 'region_1depth_name': '충북', 'region_2depth_name': '청주시 흥덕구', 'region_3depth_name': '상신동', 'road_name': '상신로', 'sub_building_no': '68', 'underground_yn': 'N', 'x': '127.434115484989', 'y': '36.672629804863', 'zone_no': '28303'}, 'x': '127.434115484989', 'y': '36.672629804863'}], 'meta': {'is_end': True, 'pageable_count': 1, 'total_count': 1}}\n",
      "부산광역시 연제구 연수로 135 (연산동)\n",
      "{'documents': [{'address': {'address_name': '부산 연제구 연산동 1953-1', 'b_code': '2647010200', 'h_code': '2647066000', 'main_address_no': '1953', 'mountain_yn': 'N', 'region_1depth_name': '부산', 'region_2depth_name': '연제구', 'region_3depth_h_name': '연산2동', 'region_3depth_name': '연산동', 'sub_address_no': '1', 'x': '129.085557849761', 'y': '35.1749521572262'}, 'address_name': '부산 연제구 연수로 135', 'address_type': 'ROAD_ADDR', 'road_address': {'address_name': '부산 연제구 연수로 135', 'building_name': '', 'main_building_no': '135', 'region_1depth_name': '부산', 'region_2depth_name': '연제구', 'region_3depth_name': '연산동', 'road_name': '연수로', 'sub_building_no': '', 'underground_yn': 'N', 'x': '129.085557849761', 'y': '35.1749521572262', 'zone_no': '47603'}, 'x': '129.085557849761', 'y': '35.1749521572262'}], 'meta': {'is_end': True, 'pageable_count': 1, 'total_count': 1}}\n",
      "{'documents': [{'address': {'address_name': '부산 연제구 연산동 1953-1', 'b_code': '2647010200', 'h_code': '2647066000', 'main_address_no': '1953', 'mountain_yn': 'N', 'region_1depth_name': '부산', 'region_2depth_name': '연제구', 'region_3depth_h_name': '연산2동', 'region_3depth_name': '연산동', 'sub_address_no': '1', 'x': '129.085557849761', 'y': '35.1749521572262'}, 'address_name': '부산 연제구 연수로 135', 'address_type': 'ROAD_ADDR', 'road_address': {'address_name': '부산 연제구 연수로 135', 'building_name': '', 'main_building_no': '135', 'region_1depth_name': '부산', 'region_2depth_name': '연제구', 'region_3depth_name': '연산동', 'road_name': '연수로', 'sub_building_no': '', 'underground_yn': 'N', 'x': '129.085557849761', 'y': '35.1749521572262', 'zone_no': '47603'}, 'x': '129.085557849761', 'y': '35.1749521572262'}], 'meta': {'is_end': True, 'pageable_count': 1, 'total_count': 1}}\n",
      "{'documents': [{'address': {'address_name': '부산 연제구 연산동 1953-1', 'b_code': '2647010200', 'h_code': '2647066000', 'main_address_no': '1953', 'mountain_yn': 'N', 'region_1depth_name': '부산', 'region_2depth_name': '연제구', 'region_3depth_h_name': '연산2동', 'region_3depth_name': '연산동', 'sub_address_no': '1', 'x': '129.085557849761', 'y': '35.1749521572262'}, 'address_name': '부산 연제구 연수로 135', 'address_type': 'ROAD_ADDR', 'road_address': {'address_name': '부산 연제구 연수로 135', 'building_name': '', 'main_building_no': '135', 'region_1depth_name': '부산', 'region_2depth_name': '연제구', 'region_3depth_name': '연산동', 'road_name': '연수로', 'sub_building_no': '', 'underground_yn': 'N', 'x': '129.085557849761', 'y': '35.1749521572262', 'zone_no': '47603'}, 'x': '129.085557849761', 'y': '35.1749521572262'}], 'meta': {'is_end': True, 'pageable_count': 1, 'total_count': 1}}\n",
      "경기도 수원시 영통구 법조로 25, 광교 SK VIEW Lake 근린생활비 112~114호 (하동)\n",
      "{'documents': [{'address': {'address_name': '경기 수원시 영통구 하동 1016-1', 'b_code': '4111710400', 'h_code': '4111761000', 'main_address_no': '1016', 'mountain_yn': 'N', 'region_1depth_name': '경기', 'region_2depth_name': '수원시 영통구', 'region_3depth_h_name': '광교2동', 'region_3depth_name': '하동', 'sub_address_no': '1', 'x': '127.060178440172', 'y': '37.2874808899042'}, 'address_name': '경기 수원시 영통구 법조로 25', 'address_type': 'ROAD_ADDR', 'road_address': {'address_name': '경기 수원시 영통구 법조로 25', 'building_name': '광교 SK VIEW Lake', 'main_building_no': '25', 'region_1depth_name': '경기', 'region_2depth_name': '수원시 영통구', 'region_3depth_name': '하동', 'road_name': '법조로', 'sub_building_no': '', 'underground_yn': 'N', 'x': '127.060178440172', 'y': '37.2874808899042', 'zone_no': '16514'}, 'x': '127.060178440172', 'y': '37.2874808899042'}], 'meta': {'is_end': True, 'pageable_count': 1, 'total_count': 1}}\n",
      "{'documents': [{'address': {'address_name': '경기 수원시 영통구 하동 1016-1', 'b_code': '4111710400', 'h_code': '4111761000', 'main_address_no': '1016', 'mountain_yn': 'N', 'region_1depth_name': '경기', 'region_2depth_name': '수원시 영통구', 'region_3depth_h_name': '광교2동', 'region_3depth_name': '하동', 'sub_address_no': '1', 'x': '127.060178440172', 'y': '37.2874808899042'}, 'address_name': '경기 수원시 영통구 법조로 25', 'address_type': 'ROAD_ADDR', 'road_address': {'address_name': '경기 수원시 영통구 법조로 25', 'building_name': '광교 SK VIEW Lake', 'main_building_no': '25', 'region_1depth_name': '경기', 'region_2depth_name': '수원시 영통구', 'region_3depth_name': '하동', 'road_name': '법조로', 'sub_building_no': '', 'underground_yn': 'N', 'x': '127.060178440172', 'y': '37.2874808899042', 'zone_no': '16514'}, 'x': '127.060178440172', 'y': '37.2874808899042'}], 'meta': {'is_end': True, 'pageable_count': 1, 'total_count': 1}}\n",
      "{'documents': [{'address': {'address_name': '경기 수원시 영통구 하동 1016-1', 'b_code': '4111710400', 'h_code': '4111761000', 'main_address_no': '1016', 'mountain_yn': 'N', 'region_1depth_name': '경기', 'region_2depth_name': '수원시 영통구', 'region_3depth_h_name': '광교2동', 'region_3depth_name': '하동', 'sub_address_no': '1', 'x': '127.060178440172', 'y': '37.2874808899042'}, 'address_name': '경기 수원시 영통구 법조로 25', 'address_type': 'ROAD_ADDR', 'road_address': {'address_name': '경기 수원시 영통구 법조로 25', 'building_name': '광교 SK VIEW Lake', 'main_building_no': '25', 'region_1depth_name': '경기', 'region_2depth_name': '수원시 영통구', 'region_3depth_name': '하동', 'road_name': '법조로', 'sub_building_no': '', 'underground_yn': 'N', 'x': '127.060178440172', 'y': '37.2874808899042', 'zone_no': '16514'}, 'x': '127.060178440172', 'y': '37.2874808899042'}], 'meta': {'is_end': True, 'pageable_count': 1, 'total_count': 1}}\n",
      "전라남도 영광군 영광읍 백수로 1640, 나동\n",
      "{'documents': [{'address': {'address_name': '전남 영광군 영광읍 신하리 586-8', 'b_code': '4687025039', 'h_code': '4687025000', 'main_address_no': '586', 'mountain_yn': 'N', 'region_1depth_name': '전남', 'region_2depth_name': '영광군', 'region_3depth_h_name': '영광읍', 'region_3depth_name': '영광읍 신하리', 'sub_address_no': '8', 'x': '126.484735006695', 'y': '35.2821284245991'}, 'address_name': '전남 영광군 영광읍 백수로 1640', 'address_type': 'ROAD_ADDR', 'road_address': {'address_name': '전남 영광군 영광읍 백수로 1640', 'building_name': '', 'main_building_no': '1640', 'region_1depth_name': '전남', 'region_2depth_name': '영광군', 'region_3depth_name': '영광읍 신하리', 'road_name': '백수로', 'sub_building_no': '', 'underground_yn': 'N', 'x': '126.484735006695', 'y': '35.2821284245991', 'zone_no': '57038'}, 'x': '126.484735006695', 'y': '35.2821284245991'}], 'meta': {'is_end': True, 'pageable_count': 1, 'total_count': 1}}\n",
      "{'documents': [{'address': {'address_name': '전남 영광군 영광읍 신하리 586-8', 'b_code': '4687025039', 'h_code': '4687025000', 'main_address_no': '586', 'mountain_yn': 'N', 'region_1depth_name': '전남', 'region_2depth_name': '영광군', 'region_3depth_h_name': '영광읍', 'region_3depth_name': '영광읍 신하리', 'sub_address_no': '8', 'x': '126.484735006695', 'y': '35.2821284245991'}, 'address_name': '전남 영광군 영광읍 백수로 1640', 'address_type': 'ROAD_ADDR', 'road_address': {'address_name': '전남 영광군 영광읍 백수로 1640', 'building_name': '', 'main_building_no': '1640', 'region_1depth_name': '전남', 'region_2depth_name': '영광군', 'region_3depth_name': '영광읍 신하리', 'road_name': '백수로', 'sub_building_no': '', 'underground_yn': 'N', 'x': '126.484735006695', 'y': '35.2821284245991', 'zone_no': '57038'}, 'x': '126.484735006695', 'y': '35.2821284245991'}], 'meta': {'is_end': True, 'pageable_count': 1, 'total_count': 1}}\n",
      "{'documents': [{'address': {'address_name': '전남 영광군 영광읍 신하리 586-8', 'b_code': '4687025039', 'h_code': '4687025000', 'main_address_no': '586', 'mountain_yn': 'N', 'region_1depth_name': '전남', 'region_2depth_name': '영광군', 'region_3depth_h_name': '영광읍', 'region_3depth_name': '영광읍 신하리', 'sub_address_no': '8', 'x': '126.484735006695', 'y': '35.2821284245991'}, 'address_name': '전남 영광군 영광읍 백수로 1640', 'address_type': 'ROAD_ADDR', 'road_address': {'address_name': '전남 영광군 영광읍 백수로 1640', 'building_name': '', 'main_building_no': '1640', 'region_1depth_name': '전남', 'region_2depth_name': '영광군', 'region_3depth_name': '영광읍 신하리', 'road_name': '백수로', 'sub_building_no': '', 'underground_yn': 'N', 'x': '126.484735006695', 'y': '35.2821284245991', 'zone_no': '57038'}, 'x': '126.484735006695', 'y': '35.2821284245991'}], 'meta': {'is_end': True, 'pageable_count': 1, 'total_count': 1}}\n",
      "경기도 성남시 중원구 산성대로 498, 1층 102호 (은행동)\n",
      "{'documents': [{'address': {'address_name': '경기 성남시 중원구 은행동 1633', 'b_code': '4113310400', 'h_code': '4113356000', 'main_address_no': '1633', 'mountain_yn': 'N', 'region_1depth_name': '경기', 'region_2depth_name': '성남시 중원구', 'region_3depth_h_name': '은행2동', 'region_3depth_name': '은행동', 'sub_address_no': '', 'x': '127.162577095163', 'y': '37.4555725309509'}, 'address_name': '경기 성남시 중원구 산성대로 498', 'address_type': 'ROAD_ADDR', 'road_address': {'address_name': '경기 성남시 중원구 산성대로 498', 'building_name': '', 'main_building_no': '498', 'region_1depth_name': '경기', 'region_2depth_name': '성남시 중원구', 'region_3depth_name': '은행동', 'road_name': '산성대로', 'sub_building_no': '', 'underground_yn': 'N', 'x': '127.162577095163', 'y': '37.4555725309509', 'zone_no': '13157'}, 'x': '127.162577095163', 'y': '37.4555725309509'}], 'meta': {'is_end': True, 'pageable_count': 1, 'total_count': 1}}\n",
      "{'documents': [{'address': {'address_name': '경기 성남시 중원구 은행동 1633', 'b_code': '4113310400', 'h_code': '4113356000', 'main_address_no': '1633', 'mountain_yn': 'N', 'region_1depth_name': '경기', 'region_2depth_name': '성남시 중원구', 'region_3depth_h_name': '은행2동', 'region_3depth_name': '은행동', 'sub_address_no': '', 'x': '127.162577095163', 'y': '37.4555725309509'}, 'address_name': '경기 성남시 중원구 산성대로 498', 'address_type': 'ROAD_ADDR', 'road_address': {'address_name': '경기 성남시 중원구 산성대로 498', 'building_name': '', 'main_building_no': '498', 'region_1depth_name': '경기', 'region_2depth_name': '성남시 중원구', 'region_3depth_name': '은행동', 'road_name': '산성대로', 'sub_building_no': '', 'underground_yn': 'N', 'x': '127.162577095163', 'y': '37.4555725309509', 'zone_no': '13157'}, 'x': '127.162577095163', 'y': '37.4555725309509'}], 'meta': {'is_end': True, 'pageable_count': 1, 'total_count': 1}}\n",
      "{'documents': [{'address': {'address_name': '경기 성남시 중원구 은행동 1633', 'b_code': '4113310400', 'h_code': '4113356000', 'main_address_no': '1633', 'mountain_yn': 'N', 'region_1depth_name': '경기', 'region_2depth_name': '성남시 중원구', 'region_3depth_h_name': '은행2동', 'region_3depth_name': '은행동', 'sub_address_no': '', 'x': '127.162577095163', 'y': '37.4555725309509'}, 'address_name': '경기 성남시 중원구 산성대로 498', 'address_type': 'ROAD_ADDR', 'road_address': {'address_name': '경기 성남시 중원구 산성대로 498', 'building_name': '', 'main_building_no': '498', 'region_1depth_name': '경기', 'region_2depth_name': '성남시 중원구', 'region_3depth_name': '은행동', 'road_name': '산성대로', 'sub_building_no': '', 'underground_yn': 'N', 'x': '127.162577095163', 'y': '37.4555725309509', 'zone_no': '13157'}, 'x': '127.162577095163', 'y': '37.4555725309509'}], 'meta': {'is_end': True, 'pageable_count': 1, 'total_count': 1}}\n",
      "충청남도 아산시 온천대로 1676, 1층 (풍기동)\n",
      "{'documents': [{'address': {'address_name': '충남 아산시 풍기동 485', 'b_code': '4420011100', 'h_code': '4420062000', 'main_address_no': '485', 'mountain_yn': 'N', 'region_1depth_name': '충남', 'region_2depth_name': '아산시', 'region_3depth_h_name': '온양6동', 'region_3depth_name': '풍기동', 'sub_address_no': '', 'x': '127.023041616512', 'y': '36.7765047938386'}, 'address_name': '충남 아산시 온천대로 1676', 'address_type': 'ROAD_ADDR', 'road_address': {'address_name': '충남 아산시 온천대로 1676', 'building_name': '', 'main_building_no': '1676', 'region_1depth_name': '충남', 'region_2depth_name': '아산시', 'region_3depth_name': '풍기동', 'road_name': '온천대로', 'sub_building_no': '', 'underground_yn': 'N', 'x': '127.023041616512', 'y': '36.7765047938386', 'zone_no': '31528'}, 'x': '127.023041616512', 'y': '36.7765047938386'}], 'meta': {'is_end': True, 'pageable_count': 1, 'total_count': 1}}\n",
      "{'documents': [{'address': {'address_name': '충남 아산시 풍기동 485', 'b_code': '4420011100', 'h_code': '4420062000', 'main_address_no': '485', 'mountain_yn': 'N', 'region_1depth_name': '충남', 'region_2depth_name': '아산시', 'region_3depth_h_name': '온양6동', 'region_3depth_name': '풍기동', 'sub_address_no': '', 'x': '127.023041616512', 'y': '36.7765047938386'}, 'address_name': '충남 아산시 온천대로 1676', 'address_type': 'ROAD_ADDR', 'road_address': {'address_name': '충남 아산시 온천대로 1676', 'building_name': '', 'main_building_no': '1676', 'region_1depth_name': '충남', 'region_2depth_name': '아산시', 'region_3depth_name': '풍기동', 'road_name': '온천대로', 'sub_building_no': '', 'underground_yn': 'N', 'x': '127.023041616512', 'y': '36.7765047938386', 'zone_no': '31528'}, 'x': '127.023041616512', 'y': '36.7765047938386'}], 'meta': {'is_end': True, 'pageable_count': 1, 'total_count': 1}}\n",
      "{'documents': [{'address': {'address_name': '충남 아산시 풍기동 485', 'b_code': '4420011100', 'h_code': '4420062000', 'main_address_no': '485', 'mountain_yn': 'N', 'region_1depth_name': '충남', 'region_2depth_name': '아산시', 'region_3depth_h_name': '온양6동', 'region_3depth_name': '풍기동', 'sub_address_no': '', 'x': '127.023041616512', 'y': '36.7765047938386'}, 'address_name': '충남 아산시 온천대로 1676', 'address_type': 'ROAD_ADDR', 'road_address': {'address_name': '충남 아산시 온천대로 1676', 'building_name': '', 'main_building_no': '1676', 'region_1depth_name': '충남', 'region_2depth_name': '아산시', 'region_3depth_name': '풍기동', 'road_name': '온천대로', 'sub_building_no': '', 'underground_yn': 'N', 'x': '127.023041616512', 'y': '36.7765047938386', 'zone_no': '31528'}, 'x': '127.023041616512', 'y': '36.7765047938386'}], 'meta': {'is_end': True, 'pageable_count': 1, 'total_count': 1}}\n",
      "경기도 파주시 법원읍 술이홀로 1409\n",
      "{'documents': [{'address': {'address_name': '경기 파주시 법원읍 금곡리 230', 'b_code': '4148025630', 'h_code': '4148025600', 'main_address_no': '230', 'mountain_yn': 'N', 'region_1depth_name': '경기', 'region_2depth_name': '파주시', 'region_3depth_h_name': '법원읍', 'region_3depth_name': '법원읍 금곡리', 'sub_address_no': '', 'x': '126.879861489917', 'y': '37.8933938948136'}, 'address_name': '경기 파주시 법원읍 술이홀로 1409', 'address_type': 'ROAD_ADDR', 'road_address': {'address_name': '경기 파주시 법원읍 술이홀로 1409', 'building_name': '', 'main_building_no': '1409', 'region_1depth_name': '경기', 'region_2depth_name': '파주시', 'region_3depth_name': '법원읍 금곡리', 'road_name': '술이홀로', 'sub_building_no': '', 'underground_yn': 'N', 'x': '126.879861489917', 'y': '37.8933938948136', 'zone_no': '10806'}, 'x': '126.879861489917', 'y': '37.8933938948136'}], 'meta': {'is_end': True, 'pageable_count': 1, 'total_count': 1}}\n",
      "{'documents': [{'address': {'address_name': '경기 파주시 법원읍 금곡리 230', 'b_code': '4148025630', 'h_code': '4148025600', 'main_address_no': '230', 'mountain_yn': 'N', 'region_1depth_name': '경기', 'region_2depth_name': '파주시', 'region_3depth_h_name': '법원읍', 'region_3depth_name': '법원읍 금곡리', 'sub_address_no': '', 'x': '126.879861489917', 'y': '37.8933938948136'}, 'address_name': '경기 파주시 법원읍 술이홀로 1409', 'address_type': 'ROAD_ADDR', 'road_address': {'address_name': '경기 파주시 법원읍 술이홀로 1409', 'building_name': '', 'main_building_no': '1409', 'region_1depth_name': '경기', 'region_2depth_name': '파주시', 'region_3depth_name': '법원읍 금곡리', 'road_name': '술이홀로', 'sub_building_no': '', 'underground_yn': 'N', 'x': '126.879861489917', 'y': '37.8933938948136', 'zone_no': '10806'}, 'x': '126.879861489917', 'y': '37.8933938948136'}], 'meta': {'is_end': True, 'pageable_count': 1, 'total_count': 1}}\n",
      "{'documents': [{'address': {'address_name': '경기 파주시 법원읍 금곡리 230', 'b_code': '4148025630', 'h_code': '4148025600', 'main_address_no': '230', 'mountain_yn': 'N', 'region_1depth_name': '경기', 'region_2depth_name': '파주시', 'region_3depth_h_name': '법원읍', 'region_3depth_name': '법원읍 금곡리', 'sub_address_no': '', 'x': '126.879861489917', 'y': '37.8933938948136'}, 'address_name': '경기 파주시 법원읍 술이홀로 1409', 'address_type': 'ROAD_ADDR', 'road_address': {'address_name': '경기 파주시 법원읍 술이홀로 1409', 'building_name': '', 'main_building_no': '1409', 'region_1depth_name': '경기', 'region_2depth_name': '파주시', 'region_3depth_name': '법원읍 금곡리', 'road_name': '술이홀로', 'sub_building_no': '', 'underground_yn': 'N', 'x': '126.879861489917', 'y': '37.8933938948136', 'zone_no': '10806'}, 'x': '126.879861489917', 'y': '37.8933938948136'}], 'meta': {'is_end': True, 'pageable_count': 1, 'total_count': 1}}\n",
      "경기도 과천시 별양로 164, 상가동 2층 205호 (부림동, 과천센트럴파크푸르지오써밋)\n",
      "{'documents': [{'address': {'address_name': '경기 과천시 부림동 49', 'b_code': '4129011000', 'h_code': '4129054000', 'main_address_no': '49', 'mountain_yn': 'N', 'region_1depth_name': '경기', 'region_2depth_name': '과천시', 'region_3depth_h_name': '부림동', 'region_3depth_name': '부림동', 'sub_address_no': '', 'x': '126.998858477825', 'y': '37.4327957855187'}, 'address_name': '경기 과천시 별양로 164', 'address_type': 'ROAD_ADDR', 'road_address': {'address_name': '경기 과천시 별양로 164', 'building_name': '과천센트럴파크푸르지오써밋', 'main_building_no': '164', 'region_1depth_name': '경기', 'region_2depth_name': '과천시', 'region_3depth_name': '부림동', 'road_name': '별양로', 'sub_building_no': '', 'underground_yn': 'N', 'x': '126.998858477825', 'y': '37.4327957855187', 'zone_no': '13832'}, 'x': '126.998858477825', 'y': '37.4327957855187'}], 'meta': {'is_end': True, 'pageable_count': 1, 'total_count': 1}}\n",
      "{'documents': [{'address': {'address_name': '경기 과천시 부림동 49', 'b_code': '4129011000', 'h_code': '4129054000', 'main_address_no': '49', 'mountain_yn': 'N', 'region_1depth_name': '경기', 'region_2depth_name': '과천시', 'region_3depth_h_name': '부림동', 'region_3depth_name': '부림동', 'sub_address_no': '', 'x': '126.998858477825', 'y': '37.4327957855187'}, 'address_name': '경기 과천시 별양로 164', 'address_type': 'ROAD_ADDR', 'road_address': {'address_name': '경기 과천시 별양로 164', 'building_name': '과천센트럴파크푸르지오써밋', 'main_building_no': '164', 'region_1depth_name': '경기', 'region_2depth_name': '과천시', 'region_3depth_name': '부림동', 'road_name': '별양로', 'sub_building_no': '', 'underground_yn': 'N', 'x': '126.998858477825', 'y': '37.4327957855187', 'zone_no': '13832'}, 'x': '126.998858477825', 'y': '37.4327957855187'}], 'meta': {'is_end': True, 'pageable_count': 1, 'total_count': 1}}\n",
      "{'documents': [{'address': {'address_name': '경기 과천시 부림동 49', 'b_code': '4129011000', 'h_code': '4129054000', 'main_address_no': '49', 'mountain_yn': 'N', 'region_1depth_name': '경기', 'region_2depth_name': '과천시', 'region_3depth_h_name': '부림동', 'region_3depth_name': '부림동', 'sub_address_no': '', 'x': '126.998858477825', 'y': '37.4327957855187'}, 'address_name': '경기 과천시 별양로 164', 'address_type': 'ROAD_ADDR', 'road_address': {'address_name': '경기 과천시 별양로 164', 'building_name': '과천센트럴파크푸르지오써밋', 'main_building_no': '164', 'region_1depth_name': '경기', 'region_2depth_name': '과천시', 'region_3depth_name': '부림동', 'road_name': '별양로', 'sub_building_no': '', 'underground_yn': 'N', 'x': '126.998858477825', 'y': '37.4327957855187', 'zone_no': '13832'}, 'x': '126.998858477825', 'y': '37.4327957855187'}], 'meta': {'is_end': True, 'pageable_count': 1, 'total_count': 1}}\n",
      "경기도 하남시 미사강변남로 91, 르보아파크 Ⅱ 1층 119,120호 (망월동)\n",
      "{'documents': [{'address': {'address_name': '경기 하남시 망월동 1119-1', 'b_code': '4145010900', 'h_code': '4145061000', 'main_address_no': '1119', 'mountain_yn': 'N', 'region_1depth_name': '경기', 'region_2depth_name': '하남시', 'region_3depth_h_name': '미사1동', 'region_3depth_name': '망월동', 'sub_address_no': '1', 'x': '127.191988927649', 'y': '37.5607551744151'}, 'address_name': '경기 하남시 미사강변남로 91', 'address_type': 'ROAD_ADDR', 'road_address': {'address_name': '경기 하남시 미사강변남로 91', 'building_name': '르보아파크 Ⅱ', 'main_building_no': '91', 'region_1depth_name': '경기', 'region_2depth_name': '하남시', 'region_3depth_name': '망월동', 'road_name': '미사강변남로', 'sub_building_no': '', 'underground_yn': 'N', 'x': '127.191988927649', 'y': '37.5607551744151', 'zone_no': '12913'}, 'x': '127.191988927649', 'y': '37.5607551744151'}], 'meta': {'is_end': True, 'pageable_count': 1, 'total_count': 1}}\n",
      "{'documents': [{'address': {'address_name': '경기 하남시 망월동 1119-1', 'b_code': '4145010900', 'h_code': '4145061000', 'main_address_no': '1119', 'mountain_yn': 'N', 'region_1depth_name': '경기', 'region_2depth_name': '하남시', 'region_3depth_h_name': '미사1동', 'region_3depth_name': '망월동', 'sub_address_no': '1', 'x': '127.191988927649', 'y': '37.5607551744151'}, 'address_name': '경기 하남시 미사강변남로 91', 'address_type': 'ROAD_ADDR', 'road_address': {'address_name': '경기 하남시 미사강변남로 91', 'building_name': '르보아파크 Ⅱ', 'main_building_no': '91', 'region_1depth_name': '경기', 'region_2depth_name': '하남시', 'region_3depth_name': '망월동', 'road_name': '미사강변남로', 'sub_building_no': '', 'underground_yn': 'N', 'x': '127.191988927649', 'y': '37.5607551744151', 'zone_no': '12913'}, 'x': '127.191988927649', 'y': '37.5607551744151'}], 'meta': {'is_end': True, 'pageable_count': 1, 'total_count': 1}}\n",
      "{'documents': [{'address': {'address_name': '경기 하남시 망월동 1119-1', 'b_code': '4145010900', 'h_code': '4145061000', 'main_address_no': '1119', 'mountain_yn': 'N', 'region_1depth_name': '경기', 'region_2depth_name': '하남시', 'region_3depth_h_name': '미사1동', 'region_3depth_name': '망월동', 'sub_address_no': '1', 'x': '127.191988927649', 'y': '37.5607551744151'}, 'address_name': '경기 하남시 미사강변남로 91', 'address_type': 'ROAD_ADDR', 'road_address': {'address_name': '경기 하남시 미사강변남로 91', 'building_name': '르보아파크 Ⅱ', 'main_building_no': '91', 'region_1depth_name': '경기', 'region_2depth_name': '하남시', 'region_3depth_name': '망월동', 'road_name': '미사강변남로', 'sub_building_no': '', 'underground_yn': 'N', 'x': '127.191988927649', 'y': '37.5607551744151', 'zone_no': '12913'}, 'x': '127.191988927649', 'y': '37.5607551744151'}], 'meta': {'is_end': True, 'pageable_count': 1, 'total_count': 1}}\n",
      "서울특별시 중랑구 봉화산로 39-1, 유정빌딩 2층 201호 (중화동)\n",
      "{'documents': [{'address': {'address_name': '서울 중랑구 중화동 305-44', 'b_code': '1126010300', 'h_code': '1126061000', 'main_address_no': '305', 'mountain_yn': 'N', 'region_1depth_name': '서울', 'region_2depth_name': '중랑구', 'region_3depth_h_name': '중화2동', 'region_3depth_name': '중화동', 'sub_address_no': '44', 'x': '127.078752031935', 'y': '37.6017908315484'}, 'address_name': '서울 중랑구 봉화산로 39-1', 'address_type': 'ROAD_ADDR', 'road_address': {'address_name': '서울 중랑구 봉화산로 39-1', 'building_name': '유정빌딩', 'main_building_no': '39', 'region_1depth_name': '서울', 'region_2depth_name': '중랑구', 'region_3depth_name': '중화동', 'road_name': '봉화산로', 'sub_building_no': '1', 'underground_yn': 'N', 'x': '127.078752031935', 'y': '37.6017908315484', 'zone_no': '02017'}, 'x': '127.078752031935', 'y': '37.6017908315484'}], 'meta': {'is_end': True, 'pageable_count': 1, 'total_count': 1}}\n",
      "{'documents': [{'address': {'address_name': '서울 중랑구 중화동 305-44', 'b_code': '1126010300', 'h_code': '1126061000', 'main_address_no': '305', 'mountain_yn': 'N', 'region_1depth_name': '서울', 'region_2depth_name': '중랑구', 'region_3depth_h_name': '중화2동', 'region_3depth_name': '중화동', 'sub_address_no': '44', 'x': '127.078752031935', 'y': '37.6017908315484'}, 'address_name': '서울 중랑구 봉화산로 39-1', 'address_type': 'ROAD_ADDR', 'road_address': {'address_name': '서울 중랑구 봉화산로 39-1', 'building_name': '유정빌딩', 'main_building_no': '39', 'region_1depth_name': '서울', 'region_2depth_name': '중랑구', 'region_3depth_name': '중화동', 'road_name': '봉화산로', 'sub_building_no': '1', 'underground_yn': 'N', 'x': '127.078752031935', 'y': '37.6017908315484', 'zone_no': '02017'}, 'x': '127.078752031935', 'y': '37.6017908315484'}], 'meta': {'is_end': True, 'pageable_count': 1, 'total_count': 1}}\n",
      "{'documents': [{'address': {'address_name': '서울 중랑구 중화동 305-44', 'b_code': '1126010300', 'h_code': '1126061000', 'main_address_no': '305', 'mountain_yn': 'N', 'region_1depth_name': '서울', 'region_2depth_name': '중랑구', 'region_3depth_h_name': '중화2동', 'region_3depth_name': '중화동', 'sub_address_no': '44', 'x': '127.078752031935', 'y': '37.6017908315484'}, 'address_name': '서울 중랑구 봉화산로 39-1', 'address_type': 'ROAD_ADDR', 'road_address': {'address_name': '서울 중랑구 봉화산로 39-1', 'building_name': '유정빌딩', 'main_building_no': '39', 'region_1depth_name': '서울', 'region_2depth_name': '중랑구', 'region_3depth_name': '중화동', 'road_name': '봉화산로', 'sub_building_no': '1', 'underground_yn': 'N', 'x': '127.078752031935', 'y': '37.6017908315484', 'zone_no': '02017'}, 'x': '127.078752031935', 'y': '37.6017908315484'}], 'meta': {'is_end': True, 'pageable_count': 1, 'total_count': 1}}\n",
      "경기도 평택시 송탄고가길 2 (신장동)\n",
      "{'documents': [{'address': {'address_name': '경기 평택시 신장동 51-2', 'b_code': '4122011200', 'h_code': '4122057000', 'main_address_no': '51', 'mountain_yn': 'N', 'region_1depth_name': '경기', 'region_2depth_name': '평택시', 'region_3depth_h_name': '신장1동', 'region_3depth_name': '신장동', 'sub_address_no': '2', 'x': '127.054159552483', 'y': '37.0903895150317'}, 'address_name': '경기 평택시 송탄고가길 2', 'address_type': 'ROAD_ADDR', 'road_address': {'address_name': '경기 평택시 송탄고가길 2', 'building_name': '', 'main_building_no': '2', 'region_1depth_name': '경기', 'region_2depth_name': '평택시', 'region_3depth_name': '신장동', 'road_name': '송탄고가길', 'sub_building_no': '', 'underground_yn': 'N', 'x': '127.054159552483', 'y': '37.0903895150317', 'zone_no': '17752'}, 'x': '127.054159552483', 'y': '37.0903895150317'}], 'meta': {'is_end': True, 'pageable_count': 1, 'total_count': 1}}\n",
      "{'documents': [{'address': {'address_name': '경기 평택시 신장동 51-2', 'b_code': '4122011200', 'h_code': '4122057000', 'main_address_no': '51', 'mountain_yn': 'N', 'region_1depth_name': '경기', 'region_2depth_name': '평택시', 'region_3depth_h_name': '신장1동', 'region_3depth_name': '신장동', 'sub_address_no': '2', 'x': '127.054159552483', 'y': '37.0903895150317'}, 'address_name': '경기 평택시 송탄고가길 2', 'address_type': 'ROAD_ADDR', 'road_address': {'address_name': '경기 평택시 송탄고가길 2', 'building_name': '', 'main_building_no': '2', 'region_1depth_name': '경기', 'region_2depth_name': '평택시', 'region_3depth_name': '신장동', 'road_name': '송탄고가길', 'sub_building_no': '', 'underground_yn': 'N', 'x': '127.054159552483', 'y': '37.0903895150317', 'zone_no': '17752'}, 'x': '127.054159552483', 'y': '37.0903895150317'}], 'meta': {'is_end': True, 'pageable_count': 1, 'total_count': 1}}\n",
      "{'documents': [{'address': {'address_name': '경기 평택시 신장동 51-2', 'b_code': '4122011200', 'h_code': '4122057000', 'main_address_no': '51', 'mountain_yn': 'N', 'region_1depth_name': '경기', 'region_2depth_name': '평택시', 'region_3depth_h_name': '신장1동', 'region_3depth_name': '신장동', 'sub_address_no': '2', 'x': '127.054159552483', 'y': '37.0903895150317'}, 'address_name': '경기 평택시 송탄고가길 2', 'address_type': 'ROAD_ADDR', 'road_address': {'address_name': '경기 평택시 송탄고가길 2', 'building_name': '', 'main_building_no': '2', 'region_1depth_name': '경기', 'region_2depth_name': '평택시', 'region_3depth_name': '신장동', 'road_name': '송탄고가길', 'sub_building_no': '', 'underground_yn': 'N', 'x': '127.054159552483', 'y': '37.0903895150317', 'zone_no': '17752'}, 'x': '127.054159552483', 'y': '37.0903895150317'}], 'meta': {'is_end': True, 'pageable_count': 1, 'total_count': 1}}\n",
      "대구광역시 수성구 용학로48길 24, 2/3층 (지산동)\n",
      "{'documents': [], 'meta': {'is_end': True, 'pageable_count': 0, 'total_count': 0}}\n",
      "{'documents': [], 'meta': {'is_end': True, 'pageable_count': 0, 'total_count': 0}}\n"
     ]
    },
    {
     "output_type": "error",
     "ename": "IndexError",
     "evalue": "index 0 is out of bounds for axis 0 with size 0",
     "traceback": [
      "\u001b[1;31m---------------------------------------------------------------------------\u001b[0m",
      "\u001b[1;31mIndexError\u001b[0m                                Traceback (most recent call last)",
      "\u001b[1;32m<ipython-input-187-332f5faa130a>\u001b[0m in \u001b[0;36mpre\u001b[1;34m(i)\u001b[0m\n\u001b[0;32m      5\u001b[0m                 \u001b[0mprint\u001b[0m\u001b[1;33m(\u001b[0m\u001b[0mres_json\u001b[0m\u001b[1;33m)\u001b[0m\u001b[1;31m###########\u001b[0m\u001b[1;33m\u001b[0m\u001b[1;33m\u001b[0m\u001b[0m\n\u001b[1;32m----> 6\u001b[1;33m                 \u001b[0mfin_source_data\u001b[0m\u001b[1;33m.\u001b[0m\u001b[0mloc\u001b[0m\u001b[1;33m[\u001b[0m \u001b[0mfin_source_data\u001b[0m\u001b[1;33m[\u001b[0m\u001b[1;34m\"도로명\"\u001b[0m\u001b[1;33m]\u001b[0m\u001b[1;33m==\u001b[0m \u001b[0mi\u001b[0m \u001b[1;33m,\u001b[0m \u001b[0mj\u001b[0m \u001b[1;33m]\u001b[0m \u001b[1;33m=\u001b[0m \u001b[0mres_json\u001b[0m\u001b[1;33m[\u001b[0m\u001b[1;34m'documents'\u001b[0m\u001b[1;33m]\u001b[0m\u001b[1;33m[\u001b[0m\u001b[1;36m0\u001b[0m\u001b[1;33m]\u001b[0m\u001b[1;33m[\u001b[0m\u001b[1;34m'address'\u001b[0m\u001b[1;33m]\u001b[0m\u001b[1;33m[\u001b[0m\u001b[0mk\u001b[0m\u001b[1;33m]\u001b[0m\u001b[1;33m\u001b[0m\u001b[1;33m\u001b[0m\u001b[0m\n\u001b[0m\u001b[0;32m      7\u001b[0m \u001b[1;33m\u001b[0m\u001b[0m\n",
      "\u001b[1;31mIndexError\u001b[0m: list index out of range",
      "\nDuring handling of the above exception, another exception occurred:\n",
      "\u001b[1;31mIndexError\u001b[0m                                Traceback (most recent call last)",
      "\u001b[1;32m<ipython-input-187-332f5faa130a>\u001b[0m in \u001b[0;36m<module>\u001b[1;34m\u001b[0m\n\u001b[0;32m     45\u001b[0m     \u001b[0mprint\u001b[0m\u001b[1;33m(\u001b[0m\u001b[0mi\u001b[0m\u001b[1;33m)\u001b[0m                     \u001b[1;31m#########\u001b[0m\u001b[1;33m\u001b[0m\u001b[1;33m\u001b[0m\u001b[0m\n\u001b[0;32m     46\u001b[0m     \u001b[0mprint\u001b[0m\u001b[1;33m(\u001b[0m\u001b[0mres_json\u001b[0m\u001b[1;33m)\u001b[0m       \u001b[1;31m##########\u001b[0m\u001b[1;33m\u001b[0m\u001b[1;33m\u001b[0m\u001b[0m\n\u001b[1;32m---> 47\u001b[1;33m     \u001b[0mpre\u001b[0m\u001b[1;33m(\u001b[0m\u001b[0mi\u001b[0m\u001b[1;33m)\u001b[0m\u001b[1;33m\u001b[0m\u001b[1;33m\u001b[0m\u001b[0m\n\u001b[0m",
      "\u001b[1;32m<ipython-input-187-332f5faa130a>\u001b[0m in \u001b[0;36mpre\u001b[1;34m(i)\u001b[0m\n\u001b[0;32m     20\u001b[0m         \u001b[0mi\u001b[0m \u001b[1;33m=\u001b[0m \u001b[0mj\u001b[0m\u001b[1;33m\u001b[0m\u001b[1;33m\u001b[0m\u001b[0m\n\u001b[0;32m     21\u001b[0m \u001b[1;33m\u001b[0m\u001b[0m\n\u001b[1;32m---> 22\u001b[1;33m         \u001b[1;32mif\u001b[0m \u001b[0mi\u001b[0m \u001b[1;33m==\u001b[0m \u001b[0mfin_source_data\u001b[0m\u001b[1;33m.\u001b[0m\u001b[0mloc\u001b[0m\u001b[1;33m[\u001b[0m \u001b[0mfin_source_data\u001b[0m\u001b[1;33m[\u001b[0m\u001b[1;34m\"도로명\"\u001b[0m\u001b[1;33m]\u001b[0m\u001b[1;33m==\u001b[0m \u001b[0mi\u001b[0m\u001b[1;33m,\u001b[0m \u001b[1;34m\"도로명\"\u001b[0m \u001b[1;33m]\u001b[0m\u001b[1;33m.\u001b[0m\u001b[0munique\u001b[0m\u001b[1;33m(\u001b[0m\u001b[1;33m)\u001b[0m\u001b[1;33m[\u001b[0m\u001b[1;36m0\u001b[0m\u001b[1;33m]\u001b[0m\u001b[1;33m:\u001b[0m\u001b[1;33m\u001b[0m\u001b[1;33m\u001b[0m\u001b[0m\n\u001b[0m\u001b[0;32m     23\u001b[0m             \u001b[1;32mfor\u001b[0m \u001b[0mj\u001b[0m\u001b[1;33m,\u001b[0m\u001b[0mk\u001b[0m \u001b[1;32min\u001b[0m \u001b[0mtt\u001b[0m\u001b[1;33m.\u001b[0m\u001b[0mitems\u001b[0m\u001b[1;33m(\u001b[0m\u001b[1;33m)\u001b[0m\u001b[1;33m:\u001b[0m\u001b[1;33m\u001b[0m\u001b[1;33m\u001b[0m\u001b[0m\n\u001b[0;32m     24\u001b[0m                 \u001b[0mprint\u001b[0m\u001b[1;33m(\u001b[0m\u001b[0mres_json\u001b[0m\u001b[1;33m)\u001b[0m\u001b[1;31m###########\u001b[0m\u001b[1;33m\u001b[0m\u001b[1;33m\u001b[0m\u001b[0m\n",
      "\u001b[1;31mIndexError\u001b[0m: index 0 is out of bounds for axis 0 with size 0"
     ]
    }
   ],
   "metadata": {}
  },
  {
   "cell_type": "code",
   "execution_count": null,
   "source": [
    "for i in addr_final :\r\n",
    "    tt = {\"위도\":\"y\", \"경도\":\"x\"}\r\n",
    "\r\n",
    "    rest_api_key = 'c6ead90ce93e6ff182fbb5dbbb2efb6c'\r\n",
    "    query = i\r\n",
    "    url = f\"https://dapi.kakao.com/v2/local/search/address.json?query={query}\"\r\n",
    "    headers={'Authorization':'KakaoAK {}'.format(rest_api_key)}\r\n",
    "    res = requests.get(url, headers=headers)\r\n",
    "    res_json = res.json()\r\n",
    "    print(i)                     #########\r\n",
    "    print(res_json)       ##########\r\n",
    "\r\n",
    "\r\n",
    "    if i == fin_source_data.loc[ fin_source_data[\"도로명\"]== i, \"도로명\" ].unique()[0]:\r\n",
    "        for j,k in tt.items():\r\n",
    "            print(res_json)###########\r\n",
    "            fin_source_data.loc[ fin_source_data[\"도로명\"]== i , j ] = res_json['documents'][0]['address'][k]\r\n",
    "\r\n",
    "    elif i == fin_source_data.loc[ fin_source_data[\"지번\"]== i, \"지번\" ].unique()[0]:\r\n",
    "        fin_source_data.loc[ fin_source_data[\"지번\"]== i , \"도로명\" ] = res_json['documents'][0]['road_address']['address_name']\r\n",
    "\r\n",
    "        for j,k in tt.items():\r\n",
    "            fin_source_data.loc[ fin_source_data[\"지번\"]== i , j ] = res_json['documents'][0]['address'][k]\r\n",
    "        \r\n",
    "    addr = res_json['documents'][0]['road_address']['address_name']\r\n",
    "    name = fin_source_data.loc[ fin_source_data[\"도로명\"]== i, \"병원명\" ].unique()[0]"
   ],
   "outputs": [
    {
     "output_type": "stream",
     "name": "stdout",
     "text": [
      "충청북도 영동군 영동읍 난계로 1166-1, 추동물병원\n",
      "{'documents': [{'address': {'address_name': '충북 영동군 영동읍 부용리 346-9', 'b_code': '4374025028', 'h_code': '4374025000', 'main_address_no': '346', 'mountain_yn': 'N', 'region_1depth_name': '충북', 'region_2depth_name': '영동군', 'region_3depth_h_name': '영동읍', 'region_3depth_name': '영동읍 부용리', 'sub_address_no': '9', 'x': '127.772918724607', 'y': '36.1751407754167'}, 'address_name': '충북 영동군 영동읍 난계로 1166-1', 'address_type': 'ROAD_ADDR', 'road_address': {'address_name': '충북 영동군 영동읍 난계로 1166-1', 'building_name': '물류업소', 'main_building_no': '1166', 'region_1depth_name': '충북', 'region_2depth_name': '영동군', 'region_3depth_name': '영동읍 부용리', 'road_name': '난계로', 'sub_building_no': '1', 'underground_yn': 'N', 'x': '127.772918724607', 'y': '36.1751407754167', 'zone_no': '29149'}, 'x': '127.772918724607', 'y': '36.1751407754167'}], 'meta': {'is_end': True, 'pageable_count': 1, 'total_count': 1}}\n",
      "{'documents': [{'address': {'address_name': '충북 영동군 영동읍 부용리 346-9', 'b_code': '4374025028', 'h_code': '4374025000', 'main_address_no': '346', 'mountain_yn': 'N', 'region_1depth_name': '충북', 'region_2depth_name': '영동군', 'region_3depth_h_name': '영동읍', 'region_3depth_name': '영동읍 부용리', 'sub_address_no': '9', 'x': '127.772918724607', 'y': '36.1751407754167'}, 'address_name': '충북 영동군 영동읍 난계로 1166-1', 'address_type': 'ROAD_ADDR', 'road_address': {'address_name': '충북 영동군 영동읍 난계로 1166-1', 'building_name': '물류업소', 'main_building_no': '1166', 'region_1depth_name': '충북', 'region_2depth_name': '영동군', 'region_3depth_name': '영동읍 부용리', 'road_name': '난계로', 'sub_building_no': '1', 'underground_yn': 'N', 'x': '127.772918724607', 'y': '36.1751407754167', 'zone_no': '29149'}, 'x': '127.772918724607', 'y': '36.1751407754167'}], 'meta': {'is_end': True, 'pageable_count': 1, 'total_count': 1}}\n",
      "{'documents': [{'address': {'address_name': '충북 영동군 영동읍 부용리 346-9', 'b_code': '4374025028', 'h_code': '4374025000', 'main_address_no': '346', 'mountain_yn': 'N', 'region_1depth_name': '충북', 'region_2depth_name': '영동군', 'region_3depth_h_name': '영동읍', 'region_3depth_name': '영동읍 부용리', 'sub_address_no': '9', 'x': '127.772918724607', 'y': '36.1751407754167'}, 'address_name': '충북 영동군 영동읍 난계로 1166-1', 'address_type': 'ROAD_ADDR', 'road_address': {'address_name': '충북 영동군 영동읍 난계로 1166-1', 'building_name': '물류업소', 'main_building_no': '1166', 'region_1depth_name': '충북', 'region_2depth_name': '영동군', 'region_3depth_name': '영동읍 부용리', 'road_name': '난계로', 'sub_building_no': '1', 'underground_yn': 'N', 'x': '127.772918724607', 'y': '36.1751407754167', 'zone_no': '29149'}, 'x': '127.772918724607', 'y': '36.1751407754167'}], 'meta': {'is_end': True, 'pageable_count': 1, 'total_count': 1}}\n",
      "경기도 수원시 권선구 호매실로218번길 124, 202호 (호매실동)\n",
      "{'documents': [{'address': {'address_name': '경기 수원시 권선구 호매실동 1375-1', 'b_code': '4111313500', 'h_code': '4111366400', 'main_address_no': '1375', 'mountain_yn': 'N', 'region_1depth_name': '경기', 'region_2depth_name': '수원시 권선구', 'region_3depth_h_name': '호매실동', 'region_3depth_name': '호매실동', 'sub_address_no': '1', 'x': '126.961251963815', 'y': '37.2661269037194'}, 'address_name': '경기 수원시 권선구 호매실로218번길 124', 'address_type': 'ROAD_ADDR', 'road_address': {'address_name': '경기 수원시 권선구 호매실로218번길 124', 'building_name': '', 'main_building_no': '124', 'region_1depth_name': '경기', 'region_2depth_name': '수원시 권선구', 'region_3depth_name': '호매실동', 'road_name': '호매실로218번길', 'sub_building_no': '', 'underground_yn': 'N', 'x': '126.961251963815', 'y': '37.2661269037194', 'zone_no': '16402'}, 'x': '126.961251963815', 'y': '37.2661269037194'}], 'meta': {'is_end': True, 'pageable_count': 1, 'total_count': 1}}\n",
      "{'documents': [{'address': {'address_name': '경기 수원시 권선구 호매실동 1375-1', 'b_code': '4111313500', 'h_code': '4111366400', 'main_address_no': '1375', 'mountain_yn': 'N', 'region_1depth_name': '경기', 'region_2depth_name': '수원시 권선구', 'region_3depth_h_name': '호매실동', 'region_3depth_name': '호매실동', 'sub_address_no': '1', 'x': '126.961251963815', 'y': '37.2661269037194'}, 'address_name': '경기 수원시 권선구 호매실로218번길 124', 'address_type': 'ROAD_ADDR', 'road_address': {'address_name': '경기 수원시 권선구 호매실로218번길 124', 'building_name': '', 'main_building_no': '124', 'region_1depth_name': '경기', 'region_2depth_name': '수원시 권선구', 'region_3depth_name': '호매실동', 'road_name': '호매실로218번길', 'sub_building_no': '', 'underground_yn': 'N', 'x': '126.961251963815', 'y': '37.2661269037194', 'zone_no': '16402'}, 'x': '126.961251963815', 'y': '37.2661269037194'}], 'meta': {'is_end': True, 'pageable_count': 1, 'total_count': 1}}\n",
      "{'documents': [{'address': {'address_name': '경기 수원시 권선구 호매실동 1375-1', 'b_code': '4111313500', 'h_code': '4111366400', 'main_address_no': '1375', 'mountain_yn': 'N', 'region_1depth_name': '경기', 'region_2depth_name': '수원시 권선구', 'region_3depth_h_name': '호매실동', 'region_3depth_name': '호매실동', 'sub_address_no': '1', 'x': '126.961251963815', 'y': '37.2661269037194'}, 'address_name': '경기 수원시 권선구 호매실로218번길 124', 'address_type': 'ROAD_ADDR', 'road_address': {'address_name': '경기 수원시 권선구 호매실로218번길 124', 'building_name': '', 'main_building_no': '124', 'region_1depth_name': '경기', 'region_2depth_name': '수원시 권선구', 'region_3depth_name': '호매실동', 'road_name': '호매실로218번길', 'sub_building_no': '', 'underground_yn': 'N', 'x': '126.961251963815', 'y': '37.2661269037194', 'zone_no': '16402'}, 'x': '126.961251963815', 'y': '37.2661269037194'}], 'meta': {'is_end': True, 'pageable_count': 1, 'total_count': 1}}\n",
      "경상북도 울진군 평해읍 월송정로 143\n",
      "{'documents': [{'address': {'address_name': '경북 울진군 평해읍 평해리 462-4', 'b_code': '4793025321', 'h_code': '4793025300', 'main_address_no': '462', 'mountain_yn': 'N', 'region_1depth_name': '경북', 'region_2depth_name': '울진군', 'region_3depth_h_name': '평해읍', 'region_3depth_name': '평해읍 평해리', 'sub_address_no': '4', 'x': '129.4442521317', 'y': '36.7277343696959'}, 'address_name': '경북 울진군 평해읍 월송정로 143', 'address_type': 'ROAD_ADDR', 'road_address': {'address_name': '경북 울진군 평해읍 월송정로 143', 'building_name': '대게한식', 'main_building_no': '143', 'region_1depth_name': '경북', 'region_2depth_name': '울진군', 'region_3depth_name': '평해읍 평해리', 'road_name': '월송정로', 'sub_building_no': '', 'underground_yn': 'N', 'x': '129.4442521317', 'y': '36.7277343696959', 'zone_no': '36366'}, 'x': '129.4442521317', 'y': '36.7277343696959'}], 'meta': {'is_end': True, 'pageable_count': 1, 'total_count': 1}}\n",
      "{'documents': [{'address': {'address_name': '경북 울진군 평해읍 평해리 462-4', 'b_code': '4793025321', 'h_code': '4793025300', 'main_address_no': '462', 'mountain_yn': 'N', 'region_1depth_name': '경북', 'region_2depth_name': '울진군', 'region_3depth_h_name': '평해읍', 'region_3depth_name': '평해읍 평해리', 'sub_address_no': '4', 'x': '129.4442521317', 'y': '36.7277343696959'}, 'address_name': '경북 울진군 평해읍 월송정로 143', 'address_type': 'ROAD_ADDR', 'road_address': {'address_name': '경북 울진군 평해읍 월송정로 143', 'building_name': '대게한식', 'main_building_no': '143', 'region_1depth_name': '경북', 'region_2depth_name': '울진군', 'region_3depth_name': '평해읍 평해리', 'road_name': '월송정로', 'sub_building_no': '', 'underground_yn': 'N', 'x': '129.4442521317', 'y': '36.7277343696959', 'zone_no': '36366'}, 'x': '129.4442521317', 'y': '36.7277343696959'}], 'meta': {'is_end': True, 'pageable_count': 1, 'total_count': 1}}\n",
      "{'documents': [{'address': {'address_name': '경북 울진군 평해읍 평해리 462-4', 'b_code': '4793025321', 'h_code': '4793025300', 'main_address_no': '462', 'mountain_yn': 'N', 'region_1depth_name': '경북', 'region_2depth_name': '울진군', 'region_3depth_h_name': '평해읍', 'region_3depth_name': '평해읍 평해리', 'sub_address_no': '4', 'x': '129.4442521317', 'y': '36.7277343696959'}, 'address_name': '경북 울진군 평해읍 월송정로 143', 'address_type': 'ROAD_ADDR', 'road_address': {'address_name': '경북 울진군 평해읍 월송정로 143', 'building_name': '대게한식', 'main_building_no': '143', 'region_1depth_name': '경북', 'region_2depth_name': '울진군', 'region_3depth_name': '평해읍 평해리', 'road_name': '월송정로', 'sub_building_no': '', 'underground_yn': 'N', 'x': '129.4442521317', 'y': '36.7277343696959', 'zone_no': '36366'}, 'x': '129.4442521317', 'y': '36.7277343696959'}], 'meta': {'is_end': True, 'pageable_count': 1, 'total_count': 1}}\n"
     ]
    },
    {
     "output_type": "stream",
     "name": "stderr",
     "text": [
      "C:\\Users\\ad\\miniconda3\\lib\\site-packages\\pandas\\core\\indexing.py:1637: SettingWithCopyWarning: \n",
      "A value is trying to be set on a copy of a slice from a DataFrame\n",
      "\n",
      "See the caveats in the documentation: https://pandas.pydata.org/pandas-docs/stable/user_guide/indexing.html#returning-a-view-versus-a-copy\n",
      "  self._setitem_single_block(indexer, value, name)\n",
      "C:\\Users\\ad\\miniconda3\\lib\\site-packages\\pandas\\core\\indexing.py:692: SettingWithCopyWarning: \n",
      "A value is trying to be set on a copy of a slice from a DataFrame\n",
      "\n",
      "See the caveats in the documentation: https://pandas.pydata.org/pandas-docs/stable/user_guide/indexing.html#returning-a-view-versus-a-copy\n",
      "  iloc._setitem_with_indexer(indexer, value, self.name)\n"
     ]
    },
    {
     "output_type": "stream",
     "name": "stdout",
     "text": [
      "전라북도 정읍시 이평면 황토현로 298, 만석식당 2층\n",
      "{'documents': [{'address': {'address_name': '전북 정읍시 이평면 두지리 195', 'b_code': '4518037025', 'h_code': '4518037000', 'main_address_no': '195', 'mountain_yn': 'N', 'region_1depth_name': '전북', 'region_2depth_name': '정읍시', 'region_3depth_h_name': '이평면', 'region_3depth_name': '이평면 두지리', 'sub_address_no': '', 'x': '126.838039179329', 'y': '35.6641330619704'}, 'address_name': '전북 정읍시 이평면 황토현로 298', 'address_type': 'ROAD_ADDR', 'road_address': {'address_name': '전북 정읍시 이평면 황토현로 298', 'building_name': '만석식당', 'main_building_no': '298', 'region_1depth_name': '전북', 'region_2depth_name': '정읍시', 'region_3depth_name': '이평면 두지리', 'road_name': '황토현로', 'sub_building_no': '', 'underground_yn': 'N', 'x': '126.838039179329', 'y': '35.6641330619704', 'zone_no': '56144'}, 'x': '126.838039179329', 'y': '35.6641330619704'}], 'meta': {'is_end': True, 'pageable_count': 1, 'total_count': 1}}\n",
      "{'documents': [{'address': {'address_name': '전북 정읍시 이평면 두지리 195', 'b_code': '4518037025', 'h_code': '4518037000', 'main_address_no': '195', 'mountain_yn': 'N', 'region_1depth_name': '전북', 'region_2depth_name': '정읍시', 'region_3depth_h_name': '이평면', 'region_3depth_name': '이평면 두지리', 'sub_address_no': '', 'x': '126.838039179329', 'y': '35.6641330619704'}, 'address_name': '전북 정읍시 이평면 황토현로 298', 'address_type': 'ROAD_ADDR', 'road_address': {'address_name': '전북 정읍시 이평면 황토현로 298', 'building_name': '만석식당', 'main_building_no': '298', 'region_1depth_name': '전북', 'region_2depth_name': '정읍시', 'region_3depth_name': '이평면 두지리', 'road_name': '황토현로', 'sub_building_no': '', 'underground_yn': 'N', 'x': '126.838039179329', 'y': '35.6641330619704', 'zone_no': '56144'}, 'x': '126.838039179329', 'y': '35.6641330619704'}], 'meta': {'is_end': True, 'pageable_count': 1, 'total_count': 1}}\n",
      "{'documents': [{'address': {'address_name': '전북 정읍시 이평면 두지리 195', 'b_code': '4518037025', 'h_code': '4518037000', 'main_address_no': '195', 'mountain_yn': 'N', 'region_1depth_name': '전북', 'region_2depth_name': '정읍시', 'region_3depth_h_name': '이평면', 'region_3depth_name': '이평면 두지리', 'sub_address_no': '', 'x': '126.838039179329', 'y': '35.6641330619704'}, 'address_name': '전북 정읍시 이평면 황토현로 298', 'address_type': 'ROAD_ADDR', 'road_address': {'address_name': '전북 정읍시 이평면 황토현로 298', 'building_name': '만석식당', 'main_building_no': '298', 'region_1depth_name': '전북', 'region_2depth_name': '정읍시', 'region_3depth_name': '이평면 두지리', 'road_name': '황토현로', 'sub_building_no': '', 'underground_yn': 'N', 'x': '126.838039179329', 'y': '35.6641330619704', 'zone_no': '56144'}, 'x': '126.838039179329', 'y': '35.6641330619704'}], 'meta': {'is_end': True, 'pageable_count': 1, 'total_count': 1}}\n",
      "충청북도 청주시 흥덕구 상신로 138-68 (상신동)\n",
      "{'documents': [{'address': {'address_name': '충북 청주시 흥덕구 상신동 106-2', 'b_code': '4311313100', 'h_code': '4311377000', 'main_address_no': '106', 'mountain_yn': 'N', 'region_1depth_name': '충북', 'region_2depth_name': '청주시 흥덕구', 'region_3depth_h_name': '강서2동', 'region_3depth_name': '상신동', 'sub_address_no': '2', 'x': '127.434115484989', 'y': '36.672629804863'}, 'address_name': '충북 청주시 흥덕구 상신로 138-68', 'address_type': 'ROAD_ADDR', 'road_address': {'address_name': '충북 청주시 흥덕구 상신로 138-68', 'building_name': '', 'main_building_no': '138', 'region_1depth_name': '충북', 'region_2depth_name': '청주시 흥덕구', 'region_3depth_name': '상신동', 'road_name': '상신로', 'sub_building_no': '68', 'underground_yn': 'N', 'x': '127.434115484989', 'y': '36.672629804863', 'zone_no': '28303'}, 'x': '127.434115484989', 'y': '36.672629804863'}], 'meta': {'is_end': True, 'pageable_count': 1, 'total_count': 1}}\n",
      "{'documents': [{'address': {'address_name': '충북 청주시 흥덕구 상신동 106-2', 'b_code': '4311313100', 'h_code': '4311377000', 'main_address_no': '106', 'mountain_yn': 'N', 'region_1depth_name': '충북', 'region_2depth_name': '청주시 흥덕구', 'region_3depth_h_name': '강서2동', 'region_3depth_name': '상신동', 'sub_address_no': '2', 'x': '127.434115484989', 'y': '36.672629804863'}, 'address_name': '충북 청주시 흥덕구 상신로 138-68', 'address_type': 'ROAD_ADDR', 'road_address': {'address_name': '충북 청주시 흥덕구 상신로 138-68', 'building_name': '', 'main_building_no': '138', 'region_1depth_name': '충북', 'region_2depth_name': '청주시 흥덕구', 'region_3depth_name': '상신동', 'road_name': '상신로', 'sub_building_no': '68', 'underground_yn': 'N', 'x': '127.434115484989', 'y': '36.672629804863', 'zone_no': '28303'}, 'x': '127.434115484989', 'y': '36.672629804863'}], 'meta': {'is_end': True, 'pageable_count': 1, 'total_count': 1}}\n",
      "{'documents': [{'address': {'address_name': '충북 청주시 흥덕구 상신동 106-2', 'b_code': '4311313100', 'h_code': '4311377000', 'main_address_no': '106', 'mountain_yn': 'N', 'region_1depth_name': '충북', 'region_2depth_name': '청주시 흥덕구', 'region_3depth_h_name': '강서2동', 'region_3depth_name': '상신동', 'sub_address_no': '2', 'x': '127.434115484989', 'y': '36.672629804863'}, 'address_name': '충북 청주시 흥덕구 상신로 138-68', 'address_type': 'ROAD_ADDR', 'road_address': {'address_name': '충북 청주시 흥덕구 상신로 138-68', 'building_name': '', 'main_building_no': '138', 'region_1depth_name': '충북', 'region_2depth_name': '청주시 흥덕구', 'region_3depth_name': '상신동', 'road_name': '상신로', 'sub_building_no': '68', 'underground_yn': 'N', 'x': '127.434115484989', 'y': '36.672629804863', 'zone_no': '28303'}, 'x': '127.434115484989', 'y': '36.672629804863'}], 'meta': {'is_end': True, 'pageable_count': 1, 'total_count': 1}}\n",
      "부산광역시 연제구 연수로 135 (연산동)\n",
      "{'documents': [{'address': {'address_name': '부산 연제구 연산동 1953-1', 'b_code': '2647010200', 'h_code': '2647066000', 'main_address_no': '1953', 'mountain_yn': 'N', 'region_1depth_name': '부산', 'region_2depth_name': '연제구', 'region_3depth_h_name': '연산2동', 'region_3depth_name': '연산동', 'sub_address_no': '1', 'x': '129.085557849761', 'y': '35.1749521572262'}, 'address_name': '부산 연제구 연수로 135', 'address_type': 'ROAD_ADDR', 'road_address': {'address_name': '부산 연제구 연수로 135', 'building_name': '', 'main_building_no': '135', 'region_1depth_name': '부산', 'region_2depth_name': '연제구', 'region_3depth_name': '연산동', 'road_name': '연수로', 'sub_building_no': '', 'underground_yn': 'N', 'x': '129.085557849761', 'y': '35.1749521572262', 'zone_no': '47603'}, 'x': '129.085557849761', 'y': '35.1749521572262'}], 'meta': {'is_end': True, 'pageable_count': 1, 'total_count': 1}}\n",
      "{'documents': [{'address': {'address_name': '부산 연제구 연산동 1953-1', 'b_code': '2647010200', 'h_code': '2647066000', 'main_address_no': '1953', 'mountain_yn': 'N', 'region_1depth_name': '부산', 'region_2depth_name': '연제구', 'region_3depth_h_name': '연산2동', 'region_3depth_name': '연산동', 'sub_address_no': '1', 'x': '129.085557849761', 'y': '35.1749521572262'}, 'address_name': '부산 연제구 연수로 135', 'address_type': 'ROAD_ADDR', 'road_address': {'address_name': '부산 연제구 연수로 135', 'building_name': '', 'main_building_no': '135', 'region_1depth_name': '부산', 'region_2depth_name': '연제구', 'region_3depth_name': '연산동', 'road_name': '연수로', 'sub_building_no': '', 'underground_yn': 'N', 'x': '129.085557849761', 'y': '35.1749521572262', 'zone_no': '47603'}, 'x': '129.085557849761', 'y': '35.1749521572262'}], 'meta': {'is_end': True, 'pageable_count': 1, 'total_count': 1}}\n",
      "{'documents': [{'address': {'address_name': '부산 연제구 연산동 1953-1', 'b_code': '2647010200', 'h_code': '2647066000', 'main_address_no': '1953', 'mountain_yn': 'N', 'region_1depth_name': '부산', 'region_2depth_name': '연제구', 'region_3depth_h_name': '연산2동', 'region_3depth_name': '연산동', 'sub_address_no': '1', 'x': '129.085557849761', 'y': '35.1749521572262'}, 'address_name': '부산 연제구 연수로 135', 'address_type': 'ROAD_ADDR', 'road_address': {'address_name': '부산 연제구 연수로 135', 'building_name': '', 'main_building_no': '135', 'region_1depth_name': '부산', 'region_2depth_name': '연제구', 'region_3depth_name': '연산동', 'road_name': '연수로', 'sub_building_no': '', 'underground_yn': 'N', 'x': '129.085557849761', 'y': '35.1749521572262', 'zone_no': '47603'}, 'x': '129.085557849761', 'y': '35.1749521572262'}], 'meta': {'is_end': True, 'pageable_count': 1, 'total_count': 1}}\n",
      "경기도 수원시 영통구 법조로 25, 광교 SK VIEW Lake 근린생활비 112~114호 (하동)\n",
      "{'documents': [{'address': {'address_name': '경기 수원시 영통구 하동 1016-1', 'b_code': '4111710400', 'h_code': '4111761000', 'main_address_no': '1016', 'mountain_yn': 'N', 'region_1depth_name': '경기', 'region_2depth_name': '수원시 영통구', 'region_3depth_h_name': '광교2동', 'region_3depth_name': '하동', 'sub_address_no': '1', 'x': '127.060178440172', 'y': '37.2874808899042'}, 'address_name': '경기 수원시 영통구 법조로 25', 'address_type': 'ROAD_ADDR', 'road_address': {'address_name': '경기 수원시 영통구 법조로 25', 'building_name': '광교 SK VIEW Lake', 'main_building_no': '25', 'region_1depth_name': '경기', 'region_2depth_name': '수원시 영통구', 'region_3depth_name': '하동', 'road_name': '법조로', 'sub_building_no': '', 'underground_yn': 'N', 'x': '127.060178440172', 'y': '37.2874808899042', 'zone_no': '16514'}, 'x': '127.060178440172', 'y': '37.2874808899042'}], 'meta': {'is_end': True, 'pageable_count': 1, 'total_count': 1}}\n",
      "{'documents': [{'address': {'address_name': '경기 수원시 영통구 하동 1016-1', 'b_code': '4111710400', 'h_code': '4111761000', 'main_address_no': '1016', 'mountain_yn': 'N', 'region_1depth_name': '경기', 'region_2depth_name': '수원시 영통구', 'region_3depth_h_name': '광교2동', 'region_3depth_name': '하동', 'sub_address_no': '1', 'x': '127.060178440172', 'y': '37.2874808899042'}, 'address_name': '경기 수원시 영통구 법조로 25', 'address_type': 'ROAD_ADDR', 'road_address': {'address_name': '경기 수원시 영통구 법조로 25', 'building_name': '광교 SK VIEW Lake', 'main_building_no': '25', 'region_1depth_name': '경기', 'region_2depth_name': '수원시 영통구', 'region_3depth_name': '하동', 'road_name': '법조로', 'sub_building_no': '', 'underground_yn': 'N', 'x': '127.060178440172', 'y': '37.2874808899042', 'zone_no': '16514'}, 'x': '127.060178440172', 'y': '37.2874808899042'}], 'meta': {'is_end': True, 'pageable_count': 1, 'total_count': 1}}\n",
      "{'documents': [{'address': {'address_name': '경기 수원시 영통구 하동 1016-1', 'b_code': '4111710400', 'h_code': '4111761000', 'main_address_no': '1016', 'mountain_yn': 'N', 'region_1depth_name': '경기', 'region_2depth_name': '수원시 영통구', 'region_3depth_h_name': '광교2동', 'region_3depth_name': '하동', 'sub_address_no': '1', 'x': '127.060178440172', 'y': '37.2874808899042'}, 'address_name': '경기 수원시 영통구 법조로 25', 'address_type': 'ROAD_ADDR', 'road_address': {'address_name': '경기 수원시 영통구 법조로 25', 'building_name': '광교 SK VIEW Lake', 'main_building_no': '25', 'region_1depth_name': '경기', 'region_2depth_name': '수원시 영통구', 'region_3depth_name': '하동', 'road_name': '법조로', 'sub_building_no': '', 'underground_yn': 'N', 'x': '127.060178440172', 'y': '37.2874808899042', 'zone_no': '16514'}, 'x': '127.060178440172', 'y': '37.2874808899042'}], 'meta': {'is_end': True, 'pageable_count': 1, 'total_count': 1}}\n",
      "전라남도 영광군 영광읍 백수로 1640, 나동\n",
      "{'documents': [{'address': {'address_name': '전남 영광군 영광읍 신하리 586-8', 'b_code': '4687025039', 'h_code': '4687025000', 'main_address_no': '586', 'mountain_yn': 'N', 'region_1depth_name': '전남', 'region_2depth_name': '영광군', 'region_3depth_h_name': '영광읍', 'region_3depth_name': '영광읍 신하리', 'sub_address_no': '8', 'x': '126.484735006695', 'y': '35.2821284245991'}, 'address_name': '전남 영광군 영광읍 백수로 1640', 'address_type': 'ROAD_ADDR', 'road_address': {'address_name': '전남 영광군 영광읍 백수로 1640', 'building_name': '', 'main_building_no': '1640', 'region_1depth_name': '전남', 'region_2depth_name': '영광군', 'region_3depth_name': '영광읍 신하리', 'road_name': '백수로', 'sub_building_no': '', 'underground_yn': 'N', 'x': '126.484735006695', 'y': '35.2821284245991', 'zone_no': '57038'}, 'x': '126.484735006695', 'y': '35.2821284245991'}], 'meta': {'is_end': True, 'pageable_count': 1, 'total_count': 1}}\n",
      "{'documents': [{'address': {'address_name': '전남 영광군 영광읍 신하리 586-8', 'b_code': '4687025039', 'h_code': '4687025000', 'main_address_no': '586', 'mountain_yn': 'N', 'region_1depth_name': '전남', 'region_2depth_name': '영광군', 'region_3depth_h_name': '영광읍', 'region_3depth_name': '영광읍 신하리', 'sub_address_no': '8', 'x': '126.484735006695', 'y': '35.2821284245991'}, 'address_name': '전남 영광군 영광읍 백수로 1640', 'address_type': 'ROAD_ADDR', 'road_address': {'address_name': '전남 영광군 영광읍 백수로 1640', 'building_name': '', 'main_building_no': '1640', 'region_1depth_name': '전남', 'region_2depth_name': '영광군', 'region_3depth_name': '영광읍 신하리', 'road_name': '백수로', 'sub_building_no': '', 'underground_yn': 'N', 'x': '126.484735006695', 'y': '35.2821284245991', 'zone_no': '57038'}, 'x': '126.484735006695', 'y': '35.2821284245991'}], 'meta': {'is_end': True, 'pageable_count': 1, 'total_count': 1}}\n",
      "{'documents': [{'address': {'address_name': '전남 영광군 영광읍 신하리 586-8', 'b_code': '4687025039', 'h_code': '4687025000', 'main_address_no': '586', 'mountain_yn': 'N', 'region_1depth_name': '전남', 'region_2depth_name': '영광군', 'region_3depth_h_name': '영광읍', 'region_3depth_name': '영광읍 신하리', 'sub_address_no': '8', 'x': '126.484735006695', 'y': '35.2821284245991'}, 'address_name': '전남 영광군 영광읍 백수로 1640', 'address_type': 'ROAD_ADDR', 'road_address': {'address_name': '전남 영광군 영광읍 백수로 1640', 'building_name': '', 'main_building_no': '1640', 'region_1depth_name': '전남', 'region_2depth_name': '영광군', 'region_3depth_name': '영광읍 신하리', 'road_name': '백수로', 'sub_building_no': '', 'underground_yn': 'N', 'x': '126.484735006695', 'y': '35.2821284245991', 'zone_no': '57038'}, 'x': '126.484735006695', 'y': '35.2821284245991'}], 'meta': {'is_end': True, 'pageable_count': 1, 'total_count': 1}}\n",
      "경기도 성남시 중원구 산성대로 498, 1층 102호 (은행동)\n",
      "{'documents': [{'address': {'address_name': '경기 성남시 중원구 은행동 1633', 'b_code': '4113310400', 'h_code': '4113356000', 'main_address_no': '1633', 'mountain_yn': 'N', 'region_1depth_name': '경기', 'region_2depth_name': '성남시 중원구', 'region_3depth_h_name': '은행2동', 'region_3depth_name': '은행동', 'sub_address_no': '', 'x': '127.162577095163', 'y': '37.4555725309509'}, 'address_name': '경기 성남시 중원구 산성대로 498', 'address_type': 'ROAD_ADDR', 'road_address': {'address_name': '경기 성남시 중원구 산성대로 498', 'building_name': '', 'main_building_no': '498', 'region_1depth_name': '경기', 'region_2depth_name': '성남시 중원구', 'region_3depth_name': '은행동', 'road_name': '산성대로', 'sub_building_no': '', 'underground_yn': 'N', 'x': '127.162577095163', 'y': '37.4555725309509', 'zone_no': '13157'}, 'x': '127.162577095163', 'y': '37.4555725309509'}], 'meta': {'is_end': True, 'pageable_count': 1, 'total_count': 1}}\n",
      "{'documents': [{'address': {'address_name': '경기 성남시 중원구 은행동 1633', 'b_code': '4113310400', 'h_code': '4113356000', 'main_address_no': '1633', 'mountain_yn': 'N', 'region_1depth_name': '경기', 'region_2depth_name': '성남시 중원구', 'region_3depth_h_name': '은행2동', 'region_3depth_name': '은행동', 'sub_address_no': '', 'x': '127.162577095163', 'y': '37.4555725309509'}, 'address_name': '경기 성남시 중원구 산성대로 498', 'address_type': 'ROAD_ADDR', 'road_address': {'address_name': '경기 성남시 중원구 산성대로 498', 'building_name': '', 'main_building_no': '498', 'region_1depth_name': '경기', 'region_2depth_name': '성남시 중원구', 'region_3depth_name': '은행동', 'road_name': '산성대로', 'sub_building_no': '', 'underground_yn': 'N', 'x': '127.162577095163', 'y': '37.4555725309509', 'zone_no': '13157'}, 'x': '127.162577095163', 'y': '37.4555725309509'}], 'meta': {'is_end': True, 'pageable_count': 1, 'total_count': 1}}\n",
      "{'documents': [{'address': {'address_name': '경기 성남시 중원구 은행동 1633', 'b_code': '4113310400', 'h_code': '4113356000', 'main_address_no': '1633', 'mountain_yn': 'N', 'region_1depth_name': '경기', 'region_2depth_name': '성남시 중원구', 'region_3depth_h_name': '은행2동', 'region_3depth_name': '은행동', 'sub_address_no': '', 'x': '127.162577095163', 'y': '37.4555725309509'}, 'address_name': '경기 성남시 중원구 산성대로 498', 'address_type': 'ROAD_ADDR', 'road_address': {'address_name': '경기 성남시 중원구 산성대로 498', 'building_name': '', 'main_building_no': '498', 'region_1depth_name': '경기', 'region_2depth_name': '성남시 중원구', 'region_3depth_name': '은행동', 'road_name': '산성대로', 'sub_building_no': '', 'underground_yn': 'N', 'x': '127.162577095163', 'y': '37.4555725309509', 'zone_no': '13157'}, 'x': '127.162577095163', 'y': '37.4555725309509'}], 'meta': {'is_end': True, 'pageable_count': 1, 'total_count': 1}}\n",
      "충청남도 아산시 온천대로 1676, 1층 (풍기동)\n",
      "{'documents': [{'address': {'address_name': '충남 아산시 풍기동 485', 'b_code': '4420011100', 'h_code': '4420062000', 'main_address_no': '485', 'mountain_yn': 'N', 'region_1depth_name': '충남', 'region_2depth_name': '아산시', 'region_3depth_h_name': '온양6동', 'region_3depth_name': '풍기동', 'sub_address_no': '', 'x': '127.023041616512', 'y': '36.7765047938386'}, 'address_name': '충남 아산시 온천대로 1676', 'address_type': 'ROAD_ADDR', 'road_address': {'address_name': '충남 아산시 온천대로 1676', 'building_name': '', 'main_building_no': '1676', 'region_1depth_name': '충남', 'region_2depth_name': '아산시', 'region_3depth_name': '풍기동', 'road_name': '온천대로', 'sub_building_no': '', 'underground_yn': 'N', 'x': '127.023041616512', 'y': '36.7765047938386', 'zone_no': '31528'}, 'x': '127.023041616512', 'y': '36.7765047938386'}], 'meta': {'is_end': True, 'pageable_count': 1, 'total_count': 1}}\n",
      "{'documents': [{'address': {'address_name': '충남 아산시 풍기동 485', 'b_code': '4420011100', 'h_code': '4420062000', 'main_address_no': '485', 'mountain_yn': 'N', 'region_1depth_name': '충남', 'region_2depth_name': '아산시', 'region_3depth_h_name': '온양6동', 'region_3depth_name': '풍기동', 'sub_address_no': '', 'x': '127.023041616512', 'y': '36.7765047938386'}, 'address_name': '충남 아산시 온천대로 1676', 'address_type': 'ROAD_ADDR', 'road_address': {'address_name': '충남 아산시 온천대로 1676', 'building_name': '', 'main_building_no': '1676', 'region_1depth_name': '충남', 'region_2depth_name': '아산시', 'region_3depth_name': '풍기동', 'road_name': '온천대로', 'sub_building_no': '', 'underground_yn': 'N', 'x': '127.023041616512', 'y': '36.7765047938386', 'zone_no': '31528'}, 'x': '127.023041616512', 'y': '36.7765047938386'}], 'meta': {'is_end': True, 'pageable_count': 1, 'total_count': 1}}\n",
      "{'documents': [{'address': {'address_name': '충남 아산시 풍기동 485', 'b_code': '4420011100', 'h_code': '4420062000', 'main_address_no': '485', 'mountain_yn': 'N', 'region_1depth_name': '충남', 'region_2depth_name': '아산시', 'region_3depth_h_name': '온양6동', 'region_3depth_name': '풍기동', 'sub_address_no': '', 'x': '127.023041616512', 'y': '36.7765047938386'}, 'address_name': '충남 아산시 온천대로 1676', 'address_type': 'ROAD_ADDR', 'road_address': {'address_name': '충남 아산시 온천대로 1676', 'building_name': '', 'main_building_no': '1676', 'region_1depth_name': '충남', 'region_2depth_name': '아산시', 'region_3depth_name': '풍기동', 'road_name': '온천대로', 'sub_building_no': '', 'underground_yn': 'N', 'x': '127.023041616512', 'y': '36.7765047938386', 'zone_no': '31528'}, 'x': '127.023041616512', 'y': '36.7765047938386'}], 'meta': {'is_end': True, 'pageable_count': 1, 'total_count': 1}}\n",
      "경기도 파주시 법원읍 술이홀로 1409\n",
      "{'documents': [{'address': {'address_name': '경기 파주시 법원읍 금곡리 230', 'b_code': '4148025630', 'h_code': '4148025600', 'main_address_no': '230', 'mountain_yn': 'N', 'region_1depth_name': '경기', 'region_2depth_name': '파주시', 'region_3depth_h_name': '법원읍', 'region_3depth_name': '법원읍 금곡리', 'sub_address_no': '', 'x': '126.879861489917', 'y': '37.8933938948136'}, 'address_name': '경기 파주시 법원읍 술이홀로 1409', 'address_type': 'ROAD_ADDR', 'road_address': {'address_name': '경기 파주시 법원읍 술이홀로 1409', 'building_name': '', 'main_building_no': '1409', 'region_1depth_name': '경기', 'region_2depth_name': '파주시', 'region_3depth_name': '법원읍 금곡리', 'road_name': '술이홀로', 'sub_building_no': '', 'underground_yn': 'N', 'x': '126.879861489917', 'y': '37.8933938948136', 'zone_no': '10806'}, 'x': '126.879861489917', 'y': '37.8933938948136'}], 'meta': {'is_end': True, 'pageable_count': 1, 'total_count': 1}}\n",
      "{'documents': [{'address': {'address_name': '경기 파주시 법원읍 금곡리 230', 'b_code': '4148025630', 'h_code': '4148025600', 'main_address_no': '230', 'mountain_yn': 'N', 'region_1depth_name': '경기', 'region_2depth_name': '파주시', 'region_3depth_h_name': '법원읍', 'region_3depth_name': '법원읍 금곡리', 'sub_address_no': '', 'x': '126.879861489917', 'y': '37.8933938948136'}, 'address_name': '경기 파주시 법원읍 술이홀로 1409', 'address_type': 'ROAD_ADDR', 'road_address': {'address_name': '경기 파주시 법원읍 술이홀로 1409', 'building_name': '', 'main_building_no': '1409', 'region_1depth_name': '경기', 'region_2depth_name': '파주시', 'region_3depth_name': '법원읍 금곡리', 'road_name': '술이홀로', 'sub_building_no': '', 'underground_yn': 'N', 'x': '126.879861489917', 'y': '37.8933938948136', 'zone_no': '10806'}, 'x': '126.879861489917', 'y': '37.8933938948136'}], 'meta': {'is_end': True, 'pageable_count': 1, 'total_count': 1}}\n",
      "{'documents': [{'address': {'address_name': '경기 파주시 법원읍 금곡리 230', 'b_code': '4148025630', 'h_code': '4148025600', 'main_address_no': '230', 'mountain_yn': 'N', 'region_1depth_name': '경기', 'region_2depth_name': '파주시', 'region_3depth_h_name': '법원읍', 'region_3depth_name': '법원읍 금곡리', 'sub_address_no': '', 'x': '126.879861489917', 'y': '37.8933938948136'}, 'address_name': '경기 파주시 법원읍 술이홀로 1409', 'address_type': 'ROAD_ADDR', 'road_address': {'address_name': '경기 파주시 법원읍 술이홀로 1409', 'building_name': '', 'main_building_no': '1409', 'region_1depth_name': '경기', 'region_2depth_name': '파주시', 'region_3depth_name': '법원읍 금곡리', 'road_name': '술이홀로', 'sub_building_no': '', 'underground_yn': 'N', 'x': '126.879861489917', 'y': '37.8933938948136', 'zone_no': '10806'}, 'x': '126.879861489917', 'y': '37.8933938948136'}], 'meta': {'is_end': True, 'pageable_count': 1, 'total_count': 1}}\n",
      "경기도 과천시 별양로 164, 상가동 2층 205호 (부림동, 과천센트럴파크푸르지오써밋)\n",
      "{'documents': [{'address': {'address_name': '경기 과천시 부림동 49', 'b_code': '4129011000', 'h_code': '4129054000', 'main_address_no': '49', 'mountain_yn': 'N', 'region_1depth_name': '경기', 'region_2depth_name': '과천시', 'region_3depth_h_name': '부림동', 'region_3depth_name': '부림동', 'sub_address_no': '', 'x': '126.998858477825', 'y': '37.4327957855187'}, 'address_name': '경기 과천시 별양로 164', 'address_type': 'ROAD_ADDR', 'road_address': {'address_name': '경기 과천시 별양로 164', 'building_name': '과천센트럴파크푸르지오써밋', 'main_building_no': '164', 'region_1depth_name': '경기', 'region_2depth_name': '과천시', 'region_3depth_name': '부림동', 'road_name': '별양로', 'sub_building_no': '', 'underground_yn': 'N', 'x': '126.998858477825', 'y': '37.4327957855187', 'zone_no': '13832'}, 'x': '126.998858477825', 'y': '37.4327957855187'}], 'meta': {'is_end': True, 'pageable_count': 1, 'total_count': 1}}\n",
      "{'documents': [{'address': {'address_name': '경기 과천시 부림동 49', 'b_code': '4129011000', 'h_code': '4129054000', 'main_address_no': '49', 'mountain_yn': 'N', 'region_1depth_name': '경기', 'region_2depth_name': '과천시', 'region_3depth_h_name': '부림동', 'region_3depth_name': '부림동', 'sub_address_no': '', 'x': '126.998858477825', 'y': '37.4327957855187'}, 'address_name': '경기 과천시 별양로 164', 'address_type': 'ROAD_ADDR', 'road_address': {'address_name': '경기 과천시 별양로 164', 'building_name': '과천센트럴파크푸르지오써밋', 'main_building_no': '164', 'region_1depth_name': '경기', 'region_2depth_name': '과천시', 'region_3depth_name': '부림동', 'road_name': '별양로', 'sub_building_no': '', 'underground_yn': 'N', 'x': '126.998858477825', 'y': '37.4327957855187', 'zone_no': '13832'}, 'x': '126.998858477825', 'y': '37.4327957855187'}], 'meta': {'is_end': True, 'pageable_count': 1, 'total_count': 1}}\n",
      "{'documents': [{'address': {'address_name': '경기 과천시 부림동 49', 'b_code': '4129011000', 'h_code': '4129054000', 'main_address_no': '49', 'mountain_yn': 'N', 'region_1depth_name': '경기', 'region_2depth_name': '과천시', 'region_3depth_h_name': '부림동', 'region_3depth_name': '부림동', 'sub_address_no': '', 'x': '126.998858477825', 'y': '37.4327957855187'}, 'address_name': '경기 과천시 별양로 164', 'address_type': 'ROAD_ADDR', 'road_address': {'address_name': '경기 과천시 별양로 164', 'building_name': '과천센트럴파크푸르지오써밋', 'main_building_no': '164', 'region_1depth_name': '경기', 'region_2depth_name': '과천시', 'region_3depth_name': '부림동', 'road_name': '별양로', 'sub_building_no': '', 'underground_yn': 'N', 'x': '126.998858477825', 'y': '37.4327957855187', 'zone_no': '13832'}, 'x': '126.998858477825', 'y': '37.4327957855187'}], 'meta': {'is_end': True, 'pageable_count': 1, 'total_count': 1}}\n",
      "경기도 하남시 미사강변남로 91, 르보아파크 Ⅱ 1층 119,120호 (망월동)\n",
      "{'documents': [{'address': {'address_name': '경기 하남시 망월동 1119-1', 'b_code': '4145010900', 'h_code': '4145061000', 'main_address_no': '1119', 'mountain_yn': 'N', 'region_1depth_name': '경기', 'region_2depth_name': '하남시', 'region_3depth_h_name': '미사1동', 'region_3depth_name': '망월동', 'sub_address_no': '1', 'x': '127.191988927649', 'y': '37.5607551744151'}, 'address_name': '경기 하남시 미사강변남로 91', 'address_type': 'ROAD_ADDR', 'road_address': {'address_name': '경기 하남시 미사강변남로 91', 'building_name': '르보아파크 Ⅱ', 'main_building_no': '91', 'region_1depth_name': '경기', 'region_2depth_name': '하남시', 'region_3depth_name': '망월동', 'road_name': '미사강변남로', 'sub_building_no': '', 'underground_yn': 'N', 'x': '127.191988927649', 'y': '37.5607551744151', 'zone_no': '12913'}, 'x': '127.191988927649', 'y': '37.5607551744151'}], 'meta': {'is_end': True, 'pageable_count': 1, 'total_count': 1}}\n",
      "{'documents': [{'address': {'address_name': '경기 하남시 망월동 1119-1', 'b_code': '4145010900', 'h_code': '4145061000', 'main_address_no': '1119', 'mountain_yn': 'N', 'region_1depth_name': '경기', 'region_2depth_name': '하남시', 'region_3depth_h_name': '미사1동', 'region_3depth_name': '망월동', 'sub_address_no': '1', 'x': '127.191988927649', 'y': '37.5607551744151'}, 'address_name': '경기 하남시 미사강변남로 91', 'address_type': 'ROAD_ADDR', 'road_address': {'address_name': '경기 하남시 미사강변남로 91', 'building_name': '르보아파크 Ⅱ', 'main_building_no': '91', 'region_1depth_name': '경기', 'region_2depth_name': '하남시', 'region_3depth_name': '망월동', 'road_name': '미사강변남로', 'sub_building_no': '', 'underground_yn': 'N', 'x': '127.191988927649', 'y': '37.5607551744151', 'zone_no': '12913'}, 'x': '127.191988927649', 'y': '37.5607551744151'}], 'meta': {'is_end': True, 'pageable_count': 1, 'total_count': 1}}\n",
      "{'documents': [{'address': {'address_name': '경기 하남시 망월동 1119-1', 'b_code': '4145010900', 'h_code': '4145061000', 'main_address_no': '1119', 'mountain_yn': 'N', 'region_1depth_name': '경기', 'region_2depth_name': '하남시', 'region_3depth_h_name': '미사1동', 'region_3depth_name': '망월동', 'sub_address_no': '1', 'x': '127.191988927649', 'y': '37.5607551744151'}, 'address_name': '경기 하남시 미사강변남로 91', 'address_type': 'ROAD_ADDR', 'road_address': {'address_name': '경기 하남시 미사강변남로 91', 'building_name': '르보아파크 Ⅱ', 'main_building_no': '91', 'region_1depth_name': '경기', 'region_2depth_name': '하남시', 'region_3depth_name': '망월동', 'road_name': '미사강변남로', 'sub_building_no': '', 'underground_yn': 'N', 'x': '127.191988927649', 'y': '37.5607551744151', 'zone_no': '12913'}, 'x': '127.191988927649', 'y': '37.5607551744151'}], 'meta': {'is_end': True, 'pageable_count': 1, 'total_count': 1}}\n",
      "서울특별시 중랑구 봉화산로 39-1, 유정빌딩 2층 201호 (중화동)\n",
      "{'documents': [{'address': {'address_name': '서울 중랑구 중화동 305-44', 'b_code': '1126010300', 'h_code': '1126061000', 'main_address_no': '305', 'mountain_yn': 'N', 'region_1depth_name': '서울', 'region_2depth_name': '중랑구', 'region_3depth_h_name': '중화2동', 'region_3depth_name': '중화동', 'sub_address_no': '44', 'x': '127.078752031935', 'y': '37.6017908315484'}, 'address_name': '서울 중랑구 봉화산로 39-1', 'address_type': 'ROAD_ADDR', 'road_address': {'address_name': '서울 중랑구 봉화산로 39-1', 'building_name': '유정빌딩', 'main_building_no': '39', 'region_1depth_name': '서울', 'region_2depth_name': '중랑구', 'region_3depth_name': '중화동', 'road_name': '봉화산로', 'sub_building_no': '1', 'underground_yn': 'N', 'x': '127.078752031935', 'y': '37.6017908315484', 'zone_no': '02017'}, 'x': '127.078752031935', 'y': '37.6017908315484'}], 'meta': {'is_end': True, 'pageable_count': 1, 'total_count': 1}}\n",
      "{'documents': [{'address': {'address_name': '서울 중랑구 중화동 305-44', 'b_code': '1126010300', 'h_code': '1126061000', 'main_address_no': '305', 'mountain_yn': 'N', 'region_1depth_name': '서울', 'region_2depth_name': '중랑구', 'region_3depth_h_name': '중화2동', 'region_3depth_name': '중화동', 'sub_address_no': '44', 'x': '127.078752031935', 'y': '37.6017908315484'}, 'address_name': '서울 중랑구 봉화산로 39-1', 'address_type': 'ROAD_ADDR', 'road_address': {'address_name': '서울 중랑구 봉화산로 39-1', 'building_name': '유정빌딩', 'main_building_no': '39', 'region_1depth_name': '서울', 'region_2depth_name': '중랑구', 'region_3depth_name': '중화동', 'road_name': '봉화산로', 'sub_building_no': '1', 'underground_yn': 'N', 'x': '127.078752031935', 'y': '37.6017908315484', 'zone_no': '02017'}, 'x': '127.078752031935', 'y': '37.6017908315484'}], 'meta': {'is_end': True, 'pageable_count': 1, 'total_count': 1}}\n",
      "{'documents': [{'address': {'address_name': '서울 중랑구 중화동 305-44', 'b_code': '1126010300', 'h_code': '1126061000', 'main_address_no': '305', 'mountain_yn': 'N', 'region_1depth_name': '서울', 'region_2depth_name': '중랑구', 'region_3depth_h_name': '중화2동', 'region_3depth_name': '중화동', 'sub_address_no': '44', 'x': '127.078752031935', 'y': '37.6017908315484'}, 'address_name': '서울 중랑구 봉화산로 39-1', 'address_type': 'ROAD_ADDR', 'road_address': {'address_name': '서울 중랑구 봉화산로 39-1', 'building_name': '유정빌딩', 'main_building_no': '39', 'region_1depth_name': '서울', 'region_2depth_name': '중랑구', 'region_3depth_name': '중화동', 'road_name': '봉화산로', 'sub_building_no': '1', 'underground_yn': 'N', 'x': '127.078752031935', 'y': '37.6017908315484', 'zone_no': '02017'}, 'x': '127.078752031935', 'y': '37.6017908315484'}], 'meta': {'is_end': True, 'pageable_count': 1, 'total_count': 1}}\n",
      "경기도 평택시 송탄고가길 2 (신장동)\n",
      "{'documents': [{'address': {'address_name': '경기 평택시 신장동 51-2', 'b_code': '4122011200', 'h_code': '4122057000', 'main_address_no': '51', 'mountain_yn': 'N', 'region_1depth_name': '경기', 'region_2depth_name': '평택시', 'region_3depth_h_name': '신장1동', 'region_3depth_name': '신장동', 'sub_address_no': '2', 'x': '127.054159552483', 'y': '37.0903895150317'}, 'address_name': '경기 평택시 송탄고가길 2', 'address_type': 'ROAD_ADDR', 'road_address': {'address_name': '경기 평택시 송탄고가길 2', 'building_name': '', 'main_building_no': '2', 'region_1depth_name': '경기', 'region_2depth_name': '평택시', 'region_3depth_name': '신장동', 'road_name': '송탄고가길', 'sub_building_no': '', 'underground_yn': 'N', 'x': '127.054159552483', 'y': '37.0903895150317', 'zone_no': '17752'}, 'x': '127.054159552483', 'y': '37.0903895150317'}], 'meta': {'is_end': True, 'pageable_count': 1, 'total_count': 1}}\n",
      "{'documents': [{'address': {'address_name': '경기 평택시 신장동 51-2', 'b_code': '4122011200', 'h_code': '4122057000', 'main_address_no': '51', 'mountain_yn': 'N', 'region_1depth_name': '경기', 'region_2depth_name': '평택시', 'region_3depth_h_name': '신장1동', 'region_3depth_name': '신장동', 'sub_address_no': '2', 'x': '127.054159552483', 'y': '37.0903895150317'}, 'address_name': '경기 평택시 송탄고가길 2', 'address_type': 'ROAD_ADDR', 'road_address': {'address_name': '경기 평택시 송탄고가길 2', 'building_name': '', 'main_building_no': '2', 'region_1depth_name': '경기', 'region_2depth_name': '평택시', 'region_3depth_name': '신장동', 'road_name': '송탄고가길', 'sub_building_no': '', 'underground_yn': 'N', 'x': '127.054159552483', 'y': '37.0903895150317', 'zone_no': '17752'}, 'x': '127.054159552483', 'y': '37.0903895150317'}], 'meta': {'is_end': True, 'pageable_count': 1, 'total_count': 1}}\n",
      "{'documents': [{'address': {'address_name': '경기 평택시 신장동 51-2', 'b_code': '4122011200', 'h_code': '4122057000', 'main_address_no': '51', 'mountain_yn': 'N', 'region_1depth_name': '경기', 'region_2depth_name': '평택시', 'region_3depth_h_name': '신장1동', 'region_3depth_name': '신장동', 'sub_address_no': '2', 'x': '127.054159552483', 'y': '37.0903895150317'}, 'address_name': '경기 평택시 송탄고가길 2', 'address_type': 'ROAD_ADDR', 'road_address': {'address_name': '경기 평택시 송탄고가길 2', 'building_name': '', 'main_building_no': '2', 'region_1depth_name': '경기', 'region_2depth_name': '평택시', 'region_3depth_name': '신장동', 'road_name': '송탄고가길', 'sub_building_no': '', 'underground_yn': 'N', 'x': '127.054159552483', 'y': '37.0903895150317', 'zone_no': '17752'}, 'x': '127.054159552483', 'y': '37.0903895150317'}], 'meta': {'is_end': True, 'pageable_count': 1, 'total_count': 1}}\n",
      "대구광역시 수성구 용학로48길 24, 2/3층 (지산동)\n",
      "{'documents': [], 'meta': {'is_end': True, 'pageable_count': 0, 'total_count': 0}}\n",
      "{'documents': [], 'meta': {'is_end': True, 'pageable_count': 0, 'total_count': 0}}\n"
     ]
    },
    {
     "output_type": "error",
     "ename": "IndexError",
     "evalue": "list index out of range",
     "traceback": [
      "\u001b[1;31m---------------------------------------------------------------------------\u001b[0m",
      "\u001b[1;31mIndexError\u001b[0m                                Traceback (most recent call last)",
      "\u001b[1;32m<ipython-input-167-d544dec5f64c>\u001b[0m in \u001b[0;36m<module>\u001b[1;34m\u001b[0m\n\u001b[0;32m     15\u001b[0m         \u001b[1;32mfor\u001b[0m \u001b[0mj\u001b[0m\u001b[1;33m,\u001b[0m\u001b[0mk\u001b[0m \u001b[1;32min\u001b[0m \u001b[0mtt\u001b[0m\u001b[1;33m.\u001b[0m\u001b[0mitems\u001b[0m\u001b[1;33m(\u001b[0m\u001b[1;33m)\u001b[0m\u001b[1;33m:\u001b[0m\u001b[1;33m\u001b[0m\u001b[1;33m\u001b[0m\u001b[0m\n\u001b[0;32m     16\u001b[0m             \u001b[0mprint\u001b[0m\u001b[1;33m(\u001b[0m\u001b[0mres_json\u001b[0m\u001b[1;33m)\u001b[0m\u001b[1;33m\u001b[0m\u001b[1;33m\u001b[0m\u001b[0m\n\u001b[1;32m---> 17\u001b[1;33m             \u001b[0mfin_source_data\u001b[0m\u001b[1;33m.\u001b[0m\u001b[0mloc\u001b[0m\u001b[1;33m[\u001b[0m \u001b[0mfin_source_data\u001b[0m\u001b[1;33m[\u001b[0m\u001b[1;34m\"도로명\"\u001b[0m\u001b[1;33m]\u001b[0m\u001b[1;33m==\u001b[0m \u001b[0mi\u001b[0m \u001b[1;33m,\u001b[0m \u001b[0mj\u001b[0m \u001b[1;33m]\u001b[0m \u001b[1;33m=\u001b[0m \u001b[0mres_json\u001b[0m\u001b[1;33m[\u001b[0m\u001b[1;34m'documents'\u001b[0m\u001b[1;33m]\u001b[0m\u001b[1;33m[\u001b[0m\u001b[1;36m0\u001b[0m\u001b[1;33m]\u001b[0m\u001b[1;33m[\u001b[0m\u001b[1;34m'address'\u001b[0m\u001b[1;33m]\u001b[0m\u001b[1;33m[\u001b[0m\u001b[0mk\u001b[0m\u001b[1;33m]\u001b[0m\u001b[1;33m\u001b[0m\u001b[1;33m\u001b[0m\u001b[0m\n\u001b[0m\u001b[0;32m     18\u001b[0m \u001b[1;33m\u001b[0m\u001b[0m\n\u001b[0;32m     19\u001b[0m     \u001b[1;32melif\u001b[0m \u001b[0mi\u001b[0m \u001b[1;33m==\u001b[0m \u001b[0mfin_source_data\u001b[0m\u001b[1;33m.\u001b[0m\u001b[0mloc\u001b[0m\u001b[1;33m[\u001b[0m \u001b[0mfin_source_data\u001b[0m\u001b[1;33m[\u001b[0m\u001b[1;34m\"지번\"\u001b[0m\u001b[1;33m]\u001b[0m\u001b[1;33m==\u001b[0m \u001b[0mi\u001b[0m\u001b[1;33m,\u001b[0m \u001b[1;34m\"지번\"\u001b[0m \u001b[1;33m]\u001b[0m\u001b[1;33m.\u001b[0m\u001b[0munique\u001b[0m\u001b[1;33m(\u001b[0m\u001b[1;33m)\u001b[0m\u001b[1;33m[\u001b[0m\u001b[1;36m0\u001b[0m\u001b[1;33m]\u001b[0m\u001b[1;33m:\u001b[0m\u001b[1;33m\u001b[0m\u001b[1;33m\u001b[0m\u001b[0m\n",
      "\u001b[1;31mIndexError\u001b[0m: list index out of range"
     ]
    }
   ],
   "metadata": {}
  },
  {
   "cell_type": "code",
   "execution_count": null,
   "source": [
    "fin_source_data"
   ],
   "outputs": [
    {
     "output_type": "execute_result",
     "data": {
      "text/plain": [
       "            병원명 영업상태                            지번  \\\n",
       "0         추동물병원   정상  충청북도 영동군 영동읍 부용리 346-9 추동물병원   \n",
       "1     도그스타 동물병원   정상  경기도 수원시 권선구 호매실동 1375-1 202호   \n",
       "2        소담동물병원   정상        경상북도 울진군 평해읍 평해리 462-4   \n",
       "3        우리동물병원   정상     전라북도 정읍시 이평면 두지리 195 만석식당   \n",
       "4        원 동물병원   정상        충청북도 청주시 흥덕구 상신동 106-2   \n",
       "...         ...  ...                           ...   \n",
       "4864   김앤강 동물병원   정상          광주광역시 북구 오치동 1028-27   \n",
       "4865   참좋은 동물병원   정상          광주광역시 북구 양산동 254-123   \n",
       "4866     우리동물병원   정상            광주광역시 북구 임동 5-16번지   \n",
       "4867     엔젤동물병원   정상            광주광역시 북구 두암동 927-1   \n",
       "4868     일곡동물병원   정상          광주광역시 북구 일곡동 843-5번지   \n",
       "\n",
       "                                         도로명                위도  \\\n",
       "0             충청북도 영동군 영동읍 난계로 1166-1, 추동물병원  36.1751407754167   \n",
       "1     경기도 수원시 권선구 호매실로218번길 124, 202호 (호매실동)  37.2661269037194   \n",
       "2                      경상북도 울진군 평해읍 월송정로 143  36.7277343696959   \n",
       "3             전라북도 정읍시 이평면 황토현로 298, 만석식당 2층  35.6641330619704   \n",
       "4              충청북도 청주시 흥덕구 상신로 138-68 (상신동)   36.672629804863   \n",
       "...                                      ...               ...   \n",
       "4864                광주광역시 북구 서하로 319-1 (오치동)     192235.320008   \n",
       "4865              광주광역시 북구 하서로 371, 1층 (양산동)     188403.348228   \n",
       "4866                  광주광역시 북구 태봉로 37-6 (임동)      191120.42003   \n",
       "4867                   광주광역시 북구 삼정로 95 (두암동)         194205.75   \n",
       "4868               광주광역시 북구 양일로305번길 8 (일곡동)     190562.909155   \n",
       "\n",
       "                    경도     지역  \n",
       "0     127.772918724607   충청북도  \n",
       "1     126.961251963815    경기도  \n",
       "2       129.4442521317   경상북도  \n",
       "3     126.838039179329   전라북도  \n",
       "4     127.434115484989   충청북도  \n",
       "...                ...    ...  \n",
       "4864     187547.250035  광주광역시  \n",
       "4865     189881.785373  광주광역시  \n",
       "4866     184715.866146  광주광역시  \n",
       "4867        185704.245  광주광역시  \n",
       "4868     189333.017063  광주광역시  \n",
       "\n",
       "[4869 rows x 7 columns]"
      ],
      "text/html": [
       "<div>\n",
       "<style scoped>\n",
       "    .dataframe tbody tr th:only-of-type {\n",
       "        vertical-align: middle;\n",
       "    }\n",
       "\n",
       "    .dataframe tbody tr th {\n",
       "        vertical-align: top;\n",
       "    }\n",
       "\n",
       "    .dataframe thead th {\n",
       "        text-align: right;\n",
       "    }\n",
       "</style>\n",
       "<table border=\"1\" class=\"dataframe\">\n",
       "  <thead>\n",
       "    <tr style=\"text-align: right;\">\n",
       "      <th></th>\n",
       "      <th>병원명</th>\n",
       "      <th>영업상태</th>\n",
       "      <th>지번</th>\n",
       "      <th>도로명</th>\n",
       "      <th>위도</th>\n",
       "      <th>경도</th>\n",
       "      <th>지역</th>\n",
       "    </tr>\n",
       "  </thead>\n",
       "  <tbody>\n",
       "    <tr>\n",
       "      <th>0</th>\n",
       "      <td>추동물병원</td>\n",
       "      <td>정상</td>\n",
       "      <td>충청북도 영동군 영동읍 부용리 346-9 추동물병원</td>\n",
       "      <td>충청북도 영동군 영동읍 난계로 1166-1, 추동물병원</td>\n",
       "      <td>36.1751407754167</td>\n",
       "      <td>127.772918724607</td>\n",
       "      <td>충청북도</td>\n",
       "    </tr>\n",
       "    <tr>\n",
       "      <th>1</th>\n",
       "      <td>도그스타 동물병원</td>\n",
       "      <td>정상</td>\n",
       "      <td>경기도 수원시 권선구 호매실동 1375-1 202호</td>\n",
       "      <td>경기도 수원시 권선구 호매실로218번길 124, 202호 (호매실동)</td>\n",
       "      <td>37.2661269037194</td>\n",
       "      <td>126.961251963815</td>\n",
       "      <td>경기도</td>\n",
       "    </tr>\n",
       "    <tr>\n",
       "      <th>2</th>\n",
       "      <td>소담동물병원</td>\n",
       "      <td>정상</td>\n",
       "      <td>경상북도 울진군 평해읍 평해리 462-4</td>\n",
       "      <td>경상북도 울진군 평해읍 월송정로 143</td>\n",
       "      <td>36.7277343696959</td>\n",
       "      <td>129.4442521317</td>\n",
       "      <td>경상북도</td>\n",
       "    </tr>\n",
       "    <tr>\n",
       "      <th>3</th>\n",
       "      <td>우리동물병원</td>\n",
       "      <td>정상</td>\n",
       "      <td>전라북도 정읍시 이평면 두지리 195 만석식당</td>\n",
       "      <td>전라북도 정읍시 이평면 황토현로 298, 만석식당 2층</td>\n",
       "      <td>35.6641330619704</td>\n",
       "      <td>126.838039179329</td>\n",
       "      <td>전라북도</td>\n",
       "    </tr>\n",
       "    <tr>\n",
       "      <th>4</th>\n",
       "      <td>원 동물병원</td>\n",
       "      <td>정상</td>\n",
       "      <td>충청북도 청주시 흥덕구 상신동 106-2</td>\n",
       "      <td>충청북도 청주시 흥덕구 상신로 138-68 (상신동)</td>\n",
       "      <td>36.672629804863</td>\n",
       "      <td>127.434115484989</td>\n",
       "      <td>충청북도</td>\n",
       "    </tr>\n",
       "    <tr>\n",
       "      <th>...</th>\n",
       "      <td>...</td>\n",
       "      <td>...</td>\n",
       "      <td>...</td>\n",
       "      <td>...</td>\n",
       "      <td>...</td>\n",
       "      <td>...</td>\n",
       "      <td>...</td>\n",
       "    </tr>\n",
       "    <tr>\n",
       "      <th>4864</th>\n",
       "      <td>김앤강 동물병원</td>\n",
       "      <td>정상</td>\n",
       "      <td>광주광역시 북구 오치동 1028-27</td>\n",
       "      <td>광주광역시 북구 서하로 319-1 (오치동)</td>\n",
       "      <td>192235.320008</td>\n",
       "      <td>187547.250035</td>\n",
       "      <td>광주광역시</td>\n",
       "    </tr>\n",
       "    <tr>\n",
       "      <th>4865</th>\n",
       "      <td>참좋은 동물병원</td>\n",
       "      <td>정상</td>\n",
       "      <td>광주광역시 북구 양산동 254-123</td>\n",
       "      <td>광주광역시 북구 하서로 371, 1층 (양산동)</td>\n",
       "      <td>188403.348228</td>\n",
       "      <td>189881.785373</td>\n",
       "      <td>광주광역시</td>\n",
       "    </tr>\n",
       "    <tr>\n",
       "      <th>4866</th>\n",
       "      <td>우리동물병원</td>\n",
       "      <td>정상</td>\n",
       "      <td>광주광역시 북구 임동 5-16번지</td>\n",
       "      <td>광주광역시 북구 태봉로 37-6 (임동)</td>\n",
       "      <td>191120.42003</td>\n",
       "      <td>184715.866146</td>\n",
       "      <td>광주광역시</td>\n",
       "    </tr>\n",
       "    <tr>\n",
       "      <th>4867</th>\n",
       "      <td>엔젤동물병원</td>\n",
       "      <td>정상</td>\n",
       "      <td>광주광역시 북구 두암동 927-1</td>\n",
       "      <td>광주광역시 북구 삼정로 95 (두암동)</td>\n",
       "      <td>194205.75</td>\n",
       "      <td>185704.245</td>\n",
       "      <td>광주광역시</td>\n",
       "    </tr>\n",
       "    <tr>\n",
       "      <th>4868</th>\n",
       "      <td>일곡동물병원</td>\n",
       "      <td>정상</td>\n",
       "      <td>광주광역시 북구 일곡동 843-5번지</td>\n",
       "      <td>광주광역시 북구 양일로305번길 8 (일곡동)</td>\n",
       "      <td>190562.909155</td>\n",
       "      <td>189333.017063</td>\n",
       "      <td>광주광역시</td>\n",
       "    </tr>\n",
       "  </tbody>\n",
       "</table>\n",
       "<p>4869 rows × 7 columns</p>\n",
       "</div>"
      ]
     },
     "metadata": {},
     "execution_count": 166
    }
   ],
   "metadata": {}
  },
  {
   "cell_type": "code",
   "execution_count": null,
   "source": [
    "import requests\r\n",
    "import json\r\n",
    "rest_api_key = 'c6ead90ce93e6ff182fbb5dbbb2efb6c'\r\n",
    "query = addr_final[0]\r\n",
    "url = f\"https://dapi.kakao.com/v2/local/search/address.json?query={query}\"\r\n",
    "url\r\n",
    "\r\n",
    "headers={'Authorization':'KakaoAK {}'.format(rest_api_key)}\r\n",
    "res = requests.get(url, headers=headers)\r\n",
    "res.text"
   ],
   "outputs": [
    {
     "output_type": "execute_result",
     "data": {
      "text/plain": [
       "'{\"documents\":[{\"address\":{\"address_name\":\"충북 영동군 영동읍 부용리 346-9\",\"b_code\":\"4374025028\",\"h_code\":\"4374025000\",\"main_address_no\":\"346\",\"mountain_yn\":\"N\",\"region_1depth_name\":\"충북\",\"region_2depth_name\":\"영동군\",\"region_3depth_h_name\":\"영동읍\",\"region_3depth_name\":\"영동읍 부용리\",\"sub_address_no\":\"9\",\"x\":\"127.772918724607\",\"y\":\"36.1751407754167\"},\"address_name\":\"충북 영동군 영동읍 난계로 1166-1\",\"address_type\":\"ROAD_ADDR\",\"road_address\":{\"address_name\":\"충북 영동군 영동읍 난계로 1166-1\",\"building_name\":\"물류업소\",\"main_building_no\":\"1166\",\"region_1depth_name\":\"충북\",\"region_2depth_name\":\"영동군\",\"region_3depth_name\":\"영동읍 부용리\",\"road_name\":\"난계로\",\"sub_building_no\":\"1\",\"underground_yn\":\"N\",\"x\":\"127.772918724607\",\"y\":\"36.1751407754167\",\"zone_no\":\"29149\"},\"x\":\"127.772918724607\",\"y\":\"36.1751407754167\"}],\"meta\":{\"is_end\":true,\"pageable_count\":1,\"total_count\":1}}'"
      ]
     },
     "metadata": {},
     "execution_count": 56
    }
   ],
   "metadata": {}
  },
  {
   "cell_type": "code",
   "execution_count": null,
   "source": [
    "res_json = res.json()\r\n",
    "res_json"
   ],
   "outputs": [
    {
     "output_type": "execute_result",
     "data": {
      "text/plain": [
       "{'documents': [{'address': {'address_name': '충북 영동군 영동읍 부용리 346-9',\n",
       "    'b_code': '4374025028',\n",
       "    'h_code': '4374025000',\n",
       "    'main_address_no': '346',\n",
       "    'mountain_yn': 'N',\n",
       "    'region_1depth_name': '충북',\n",
       "    'region_2depth_name': '영동군',\n",
       "    'region_3depth_h_name': '영동읍',\n",
       "    'region_3depth_name': '영동읍 부용리',\n",
       "    'sub_address_no': '9',\n",
       "    'x': '127.772918724607',\n",
       "    'y': '36.1751407754167'},\n",
       "   'address_name': '충북 영동군 영동읍 난계로 1166-1',\n",
       "   'address_type': 'ROAD_ADDR',\n",
       "   'road_address': {'address_name': '충북 영동군 영동읍 난계로 1166-1',\n",
       "    'building_name': '물류업소',\n",
       "    'main_building_no': '1166',\n",
       "    'region_1depth_name': '충북',\n",
       "    'region_2depth_name': '영동군',\n",
       "    'region_3depth_name': '영동읍 부용리',\n",
       "    'road_name': '난계로',\n",
       "    'sub_building_no': '1',\n",
       "    'underground_yn': 'N',\n",
       "    'x': '127.772918724607',\n",
       "    'y': '36.1751407754167',\n",
       "    'zone_no': '29149'},\n",
       "   'x': '127.772918724607',\n",
       "   'y': '36.1751407754167'}],\n",
       " 'meta': {'is_end': True, 'pageable_count': 1, 'total_count': 1}}"
      ]
     },
     "metadata": {},
     "execution_count": 57
    }
   ],
   "metadata": {}
  },
  {
   "cell_type": "code",
   "execution_count": null,
   "source": [
    "x = res_json['documents'][0]['address']['x']  # 경도\r\n",
    "x\r\n",
    "\r\n",
    "y = res_json['documents'][0]['address']['y']  # 위도\r\n",
    "y\r\n",
    "\r\n",
    "addr = res_json['documents'][0]['road_address']['address_name']\r\n",
    "addr,x,y"
   ],
   "outputs": [
    {
     "output_type": "execute_result",
     "data": {
      "text/plain": [
       "('충북 영동군 영동읍 난계로 1166-1', '127.772918724607', '36.1751407754167')"
      ]
     },
     "metadata": {},
     "execution_count": 85
    }
   ],
   "metadata": {}
  },
  {
   "cell_type": "code",
   "execution_count": null,
   "source": [
    "36.1751407754167 127.772918724607"
   ],
   "outputs": [],
   "metadata": {}
  },
  {
   "cell_type": "code",
   "execution_count": null,
   "source": [
    "url"
   ],
   "outputs": [
    {
     "output_type": "execute_result",
     "data": {
      "text/plain": [
       "'https://dapi.kakao.com/v2/local/search/address.json?query=충청북도 영동군 영동읍 난계로 1166-1, 추동물병원'"
      ]
     },
     "metadata": {},
     "execution_count": 60
    }
   ],
   "metadata": {}
  },
  {
   "cell_type": "code",
   "execution_count": null,
   "source": [
    "36.175176212183324, 127.77283728496391"
   ],
   "outputs": [],
   "metadata": {}
  },
  {
   "cell_type": "code",
   "execution_count": null,
   "source": [
    "def test(x):\r\n",
    "    x = str(x)+'ab'\r\n",
    "    return x\r\n",
    " \r\n",
    "[test(i) for i in range(5)]\r\n"
   ],
   "outputs": [
    {
     "output_type": "execute_result",
     "data": {
      "text/plain": [
       "['0ab', '1ab', '2ab', '3ab', '4ab']"
      ]
     },
     "metadata": {},
     "execution_count": 5
    }
   ],
   "metadata": {}
  },
  {
   "cell_type": "code",
   "execution_count": null,
   "source": [
    "a =[lambda i : str(i)+'ab'  for i in range(5)]\r\n",
    "a"
   ],
   "outputs": [
    {
     "output_type": "execute_result",
     "data": {
      "text/plain": [
       "[<function __main__.<listcomp>.<lambda>(i)>,\n",
       " <function __main__.<listcomp>.<lambda>(i)>,\n",
       " <function __main__.<listcomp>.<lambda>(i)>,\n",
       " <function __main__.<listcomp>.<lambda>(i)>,\n",
       " <function __main__.<listcomp>.<lambda>(i)>]"
      ]
     },
     "metadata": {},
     "execution_count": 8
    }
   ],
   "metadata": {}
  },
  {
   "cell_type": "code",
   "execution_count": null,
   "source": [
    "import folium\r\n",
    "m = folium.Map(location=[y,x],zoom_start=8)\r\n",
    "folium.Marker(location=[y,x],tooltip=addr,icon=folium.Icon(color='red',icon='ok')).add_to(m)\r\n",
    "m"
   ],
   "outputs": [
    {
     "output_type": "execute_result",
     "data": {
      "text/plain": [
       "<folium.folium.Map at 0x210e73a3ee0>"
      ],
      "text/html": [
       "<div style=\"width:100%;\"><div style=\"position:relative;width:100%;height:0;padding-bottom:60%;\"><span style=\"color:#565656\">Make this Notebook Trusted to load map: File -> Trust Notebook</span><iframe src=\"about:blank\" style=\"position:absolute;width:100%;height:100%;left:0;top:0;border:none !important;\" data-html=%3C%21DOCTYPE%20html%3E%0A%3Chead%3E%20%20%20%20%0A%20%20%20%20%3Cmeta%20http-equiv%3D%22content-type%22%20content%3D%22text/html%3B%20charset%3DUTF-8%22%20/%3E%0A%20%20%20%20%0A%20%20%20%20%20%20%20%20%3Cscript%3E%0A%20%20%20%20%20%20%20%20%20%20%20%20L_NO_TOUCH%20%3D%20false%3B%0A%20%20%20%20%20%20%20%20%20%20%20%20L_DISABLE_3D%20%3D%20false%3B%0A%20%20%20%20%20%20%20%20%3C/script%3E%0A%20%20%20%20%0A%20%20%20%20%3Cstyle%3Ehtml%2C%20body%20%7Bwidth%3A%20100%25%3Bheight%3A%20100%25%3Bmargin%3A%200%3Bpadding%3A%200%3B%7D%3C/style%3E%0A%20%20%20%20%3Cstyle%3E%23map%20%7Bposition%3Aabsolute%3Btop%3A0%3Bbottom%3A0%3Bright%3A0%3Bleft%3A0%3B%7D%3C/style%3E%0A%20%20%20%20%3Cscript%20src%3D%22https%3A//cdn.jsdelivr.net/npm/leaflet%401.6.0/dist/leaflet.js%22%3E%3C/script%3E%0A%20%20%20%20%3Cscript%20src%3D%22https%3A//code.jquery.com/jquery-1.12.4.min.js%22%3E%3C/script%3E%0A%20%20%20%20%3Cscript%20src%3D%22https%3A//maxcdn.bootstrapcdn.com/bootstrap/3.2.0/js/bootstrap.min.js%22%3E%3C/script%3E%0A%20%20%20%20%3Cscript%20src%3D%22https%3A//cdnjs.cloudflare.com/ajax/libs/Leaflet.awesome-markers/2.0.2/leaflet.awesome-markers.js%22%3E%3C/script%3E%0A%20%20%20%20%3Clink%20rel%3D%22stylesheet%22%20href%3D%22https%3A//cdn.jsdelivr.net/npm/leaflet%401.6.0/dist/leaflet.css%22/%3E%0A%20%20%20%20%3Clink%20rel%3D%22stylesheet%22%20href%3D%22https%3A//maxcdn.bootstrapcdn.com/bootstrap/3.2.0/css/bootstrap.min.css%22/%3E%0A%20%20%20%20%3Clink%20rel%3D%22stylesheet%22%20href%3D%22https%3A//maxcdn.bootstrapcdn.com/bootstrap/3.2.0/css/bootstrap-theme.min.css%22/%3E%0A%20%20%20%20%3Clink%20rel%3D%22stylesheet%22%20href%3D%22https%3A//maxcdn.bootstrapcdn.com/font-awesome/4.6.3/css/font-awesome.min.css%22/%3E%0A%20%20%20%20%3Clink%20rel%3D%22stylesheet%22%20href%3D%22https%3A//cdnjs.cloudflare.com/ajax/libs/Leaflet.awesome-markers/2.0.2/leaflet.awesome-markers.css%22/%3E%0A%20%20%20%20%3Clink%20rel%3D%22stylesheet%22%20href%3D%22https%3A//cdn.jsdelivr.net/gh/python-visualization/folium/folium/templates/leaflet.awesome.rotate.min.css%22/%3E%0A%20%20%20%20%0A%20%20%20%20%20%20%20%20%20%20%20%20%3Cmeta%20name%3D%22viewport%22%20content%3D%22width%3Ddevice-width%2C%0A%20%20%20%20%20%20%20%20%20%20%20%20%20%20%20%20initial-scale%3D1.0%2C%20maximum-scale%3D1.0%2C%20user-scalable%3Dno%22%20/%3E%0A%20%20%20%20%20%20%20%20%20%20%20%20%3Cstyle%3E%0A%20%20%20%20%20%20%20%20%20%20%20%20%20%20%20%20%23map_d82f4c3eea7943908fb98f249b72015d%20%7B%0A%20%20%20%20%20%20%20%20%20%20%20%20%20%20%20%20%20%20%20%20position%3A%20relative%3B%0A%20%20%20%20%20%20%20%20%20%20%20%20%20%20%20%20%20%20%20%20width%3A%20100.0%25%3B%0A%20%20%20%20%20%20%20%20%20%20%20%20%20%20%20%20%20%20%20%20height%3A%20100.0%25%3B%0A%20%20%20%20%20%20%20%20%20%20%20%20%20%20%20%20%20%20%20%20left%3A%200.0%25%3B%0A%20%20%20%20%20%20%20%20%20%20%20%20%20%20%20%20%20%20%20%20top%3A%200.0%25%3B%0A%20%20%20%20%20%20%20%20%20%20%20%20%20%20%20%20%7D%0A%20%20%20%20%20%20%20%20%20%20%20%20%3C/style%3E%0A%20%20%20%20%20%20%20%20%0A%3C/head%3E%0A%3Cbody%3E%20%20%20%20%0A%20%20%20%20%0A%20%20%20%20%20%20%20%20%20%20%20%20%3Cdiv%20class%3D%22folium-map%22%20id%3D%22map_d82f4c3eea7943908fb98f249b72015d%22%20%3E%3C/div%3E%0A%20%20%20%20%20%20%20%20%0A%3C/body%3E%0A%3Cscript%3E%20%20%20%20%0A%20%20%20%20%0A%20%20%20%20%20%20%20%20%20%20%20%20var%20map_d82f4c3eea7943908fb98f249b72015d%20%3D%20L.map%28%0A%20%20%20%20%20%20%20%20%20%20%20%20%20%20%20%20%22map_d82f4c3eea7943908fb98f249b72015d%22%2C%0A%20%20%20%20%20%20%20%20%20%20%20%20%20%20%20%20%7B%0A%20%20%20%20%20%20%20%20%20%20%20%20%20%20%20%20%20%20%20%20center%3A%20%5B36.1751407754167%2C%20127.772918724607%5D%2C%0A%20%20%20%20%20%20%20%20%20%20%20%20%20%20%20%20%20%20%20%20crs%3A%20L.CRS.EPSG3857%2C%0A%20%20%20%20%20%20%20%20%20%20%20%20%20%20%20%20%20%20%20%20zoom%3A%208%2C%0A%20%20%20%20%20%20%20%20%20%20%20%20%20%20%20%20%20%20%20%20zoomControl%3A%20true%2C%0A%20%20%20%20%20%20%20%20%20%20%20%20%20%20%20%20%20%20%20%20preferCanvas%3A%20false%2C%0A%20%20%20%20%20%20%20%20%20%20%20%20%20%20%20%20%7D%0A%20%20%20%20%20%20%20%20%20%20%20%20%29%3B%0A%0A%20%20%20%20%20%20%20%20%20%20%20%20%0A%0A%20%20%20%20%20%20%20%20%0A%20%20%20%20%0A%20%20%20%20%20%20%20%20%20%20%20%20var%20tile_layer_ad0b10754a0c48bf8f1b5842627b4f05%20%3D%20L.tileLayer%28%0A%20%20%20%20%20%20%20%20%20%20%20%20%20%20%20%20%22https%3A//%7Bs%7D.tile.openstreetmap.org/%7Bz%7D/%7Bx%7D/%7By%7D.png%22%2C%0A%20%20%20%20%20%20%20%20%20%20%20%20%20%20%20%20%7B%22attribution%22%3A%20%22Data%20by%20%5Cu0026copy%3B%20%5Cu003ca%20href%3D%5C%22http%3A//openstreetmap.org%5C%22%5Cu003eOpenStreetMap%5Cu003c/a%5Cu003e%2C%20under%20%5Cu003ca%20href%3D%5C%22http%3A//www.openstreetmap.org/copyright%5C%22%5Cu003eODbL%5Cu003c/a%5Cu003e.%22%2C%20%22detectRetina%22%3A%20false%2C%20%22maxNativeZoom%22%3A%2018%2C%20%22maxZoom%22%3A%2018%2C%20%22minZoom%22%3A%200%2C%20%22noWrap%22%3A%20false%2C%20%22opacity%22%3A%201%2C%20%22subdomains%22%3A%20%22abc%22%2C%20%22tms%22%3A%20false%7D%0A%20%20%20%20%20%20%20%20%20%20%20%20%29.addTo%28map_d82f4c3eea7943908fb98f249b72015d%29%3B%0A%20%20%20%20%20%20%20%20%0A%20%20%20%20%0A%20%20%20%20%20%20%20%20%20%20%20%20var%20marker_0a59b8ddf5c0459dbe4bd72ecd415b59%20%3D%20L.marker%28%0A%20%20%20%20%20%20%20%20%20%20%20%20%20%20%20%20%5B36.1751407754167%2C%20127.772918724607%5D%2C%0A%20%20%20%20%20%20%20%20%20%20%20%20%20%20%20%20%7B%7D%0A%20%20%20%20%20%20%20%20%20%20%20%20%29.addTo%28map_d82f4c3eea7943908fb98f249b72015d%29%3B%0A%20%20%20%20%20%20%20%20%0A%20%20%20%20%0A%20%20%20%20%20%20%20%20%20%20%20%20var%20icon_a5fb84f932ea4603a00c51950f953a0f%20%3D%20L.AwesomeMarkers.icon%28%0A%20%20%20%20%20%20%20%20%20%20%20%20%20%20%20%20%7B%22extraClasses%22%3A%20%22fa-rotate-0%22%2C%20%22icon%22%3A%20%22ok%22%2C%20%22iconColor%22%3A%20%22white%22%2C%20%22markerColor%22%3A%20%22red%22%2C%20%22prefix%22%3A%20%22glyphicon%22%7D%0A%20%20%20%20%20%20%20%20%20%20%20%20%29%3B%0A%20%20%20%20%20%20%20%20%20%20%20%20marker_0a59b8ddf5c0459dbe4bd72ecd415b59.setIcon%28icon_a5fb84f932ea4603a00c51950f953a0f%29%3B%0A%20%20%20%20%20%20%20%20%0A%20%20%20%20%0A%20%20%20%20%20%20%20%20%20%20%20%20marker_0a59b8ddf5c0459dbe4bd72ecd415b59.bindTooltip%28%0A%20%20%20%20%20%20%20%20%20%20%20%20%20%20%20%20%60%3Cdiv%3E%0A%20%20%20%20%20%20%20%20%20%20%20%20%20%20%20%20%20%20%20%20%20%EC%B6%A9%EB%B6%81%20%EC%98%81%EB%8F%99%EA%B5%B0%20%EC%98%81%EB%8F%99%EC%9D%8D%20%EB%82%9C%EA%B3%84%EB%A1%9C%201166-1%0A%20%20%20%20%20%20%20%20%20%20%20%20%20%20%20%20%20%3C/div%3E%60%2C%0A%20%20%20%20%20%20%20%20%20%20%20%20%20%20%20%20%7B%22sticky%22%3A%20true%7D%0A%20%20%20%20%20%20%20%20%20%20%20%20%29%3B%0A%20%20%20%20%20%20%20%20%0A%3C/script%3E onload=\"this.contentDocument.open();this.contentDocument.write(    decodeURIComponent(this.getAttribute('data-html')));this.contentDocument.close();\" allowfullscreen webkitallowfullscreen mozallowfullscreen></iframe></div></div>"
      ]
     },
     "metadata": {},
     "execution_count": 76
    }
   ],
   "metadata": {}
  },
  {
   "cell_type": "code",
   "execution_count": null,
   "source": [],
   "outputs": [],
   "metadata": {}
  },
  {
   "cell_type": "code",
   "execution_count": null,
   "source": [
    "bcorr  = 0\r\n",
    "corr = 0\r\n",
    "\r\n",
    "for i in range(len(fin_source_data[\"도로명\"])):\r\n",
    "\r\n",
    "    if fin_source_data[\"도로명\"][i] == addr_final[i] :\r\n",
    "        corr += 1\r\n",
    "    else : \r\n",
    "        bcorr += 1\r\n",
    "print(corr)\r\n",
    "print(bcorr)"
   ],
   "outputs": [
    {
     "output_type": "stream",
     "name": "stdout",
     "text": [
      "4840\n",
      "29\n"
     ]
    }
   ],
   "metadata": {}
  },
  {
   "cell_type": "code",
   "execution_count": null,
   "source": [],
   "outputs": [],
   "metadata": {}
  },
  {
   "cell_type": "code",
   "execution_count": null,
   "source": [],
   "outputs": [],
   "metadata": {}
  },
  {
   "cell_type": "code",
   "execution_count": null,
   "source": [],
   "outputs": [],
   "metadata": {}
  },
  {
   "cell_type": "code",
   "execution_count": null,
   "source": [],
   "outputs": [],
   "metadata": {}
  },
  {
   "cell_type": "code",
   "execution_count": null,
   "source": [
    "import webbrowser\r\n",
    "from bokeh.plotting import show\r\n",
    "from bokeh.models import ColumnDataSource, DataTable, TableColumn\r\n",
    "import bokeh\r\n",
    "\r\n",
    "source = ColumnDataSource(fin_source_data)\r\n",
    "columns = [ TableColumn( field=col, title=col ) for col in fin_source_data.columns ]\r\n",
    "data_table = DataTable(source=source, columns = columns)\r\n",
    "bokeh.io.save(obj=data_table, filename='table.html')\r\n",
    "webbrowser.open('table.html')"
   ],
   "outputs": [
    {
     "output_type": "stream",
     "name": "stderr",
     "text": [
      "C:\\Users\\ad\\miniconda3\\lib\\site-packages\\bokeh\\io\\saving.py:126: UserWarning: save() called but no resources were supplied and output_file(...) was never called, defaulting to resources.CDN\n",
      "  warn(\"save() called but no resources were supplied and output_file(...) was never called, defaulting to resources.CDN\")\n",
      "C:\\Users\\ad\\miniconda3\\lib\\site-packages\\bokeh\\io\\saving.py:139: UserWarning: save() called but no title was supplied and output_file(...) was never called, using default title 'Bokeh Plot'\n",
      "  warn(\"save() called but no title was supplied and output_file(...) was never called, using default title 'Bokeh Plot'\")\n"
     ]
    },
    {
     "output_type": "execute_result",
     "data": {
      "text/plain": [
       "True"
      ]
     },
     "metadata": {},
     "execution_count": 79
    }
   ],
   "metadata": {}
  },
  {
   "cell_type": "code",
   "execution_count": null,
   "source": [],
   "outputs": [],
   "metadata": {}
  }
 ],
 "metadata": {
  "orig_nbformat": 4,
  "language_info": {
   "name": "python",
   "version": "3.9.1",
   "mimetype": "text/x-python",
   "codemirror_mode": {
    "name": "ipython",
    "version": 3
   },
   "pygments_lexer": "ipython3",
   "nbconvert_exporter": "python",
   "file_extension": ".py"
  },
  "kernelspec": {
   "name": "python3",
   "display_name": "Python 3.9.1 64-bit ('base': conda)"
  },
  "interpreter": {
   "hash": "26cbe81f990c700cacc7344ce939feb35388ff5140935024bac84d606131ac1b"
  }
 },
 "nbformat": 4,
 "nbformat_minor": 2
}