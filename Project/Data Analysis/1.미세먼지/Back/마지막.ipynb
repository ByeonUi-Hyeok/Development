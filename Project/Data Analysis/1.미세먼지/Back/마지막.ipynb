{
 "metadata": {
  "language_info": {
   "codemirror_mode": {
    "name": "ipython",
    "version": 3
   },
   "file_extension": ".py",
   "mimetype": "text/x-python",
   "name": "python",
   "nbconvert_exporter": "python",
   "pygments_lexer": "ipython3",
   "version": "3.9.1"
  },
  "orig_nbformat": 4,
  "kernelspec": {
   "name": "python3",
   "display_name": "Python 3.9.1 64-bit ('base': conda)"
  },
  "interpreter": {
   "hash": "26cbe81f990c700cacc7344ce939feb35388ff5140935024bac84d606131ac1b"
  }
 },
 "nbformat": 4,
 "nbformat_minor": 2,
 "cells": [
  {
   "cell_type": "code",
   "execution_count": 53,
   "metadata": {},
   "outputs": [
    {
     "output_type": "stream",
     "name": "stderr",
     "text": [
      "C:\\Users\\ad\\miniconda3\\lib\\site-packages\\bokeh\\io\\saving.py:126: UserWarning: save() called but no resources were supplied and output_file(...) was never called, defaulting to resources.CDN\n  warn(\"save() called but no resources were supplied and output_file(...) was never called, defaulting to resources.CDN\")\nC:\\Users\\ad\\miniconda3\\lib\\site-packages\\bokeh\\io\\saving.py:139: UserWarning: save() called but no title was supplied and output_file(...) was never called, using default title 'Bokeh Plot'\n  warn(\"save() called but no title was supplied and output_file(...) was never called, using default title 'Bokeh Plot'\")\n"
     ]
    },
    {
     "output_type": "execute_result",
     "data": {
      "text/plain": [
       "True"
      ]
     },
     "metadata": {},
     "execution_count": 53
    }
   ],
   "source": [
    "#최종22\n",
    "import pandas as pd \n",
    "import numpy as np\n",
    "import bokeh\n",
    "import webbrowser\n",
    "from bokeh.io import output_notebook, show, save, output_notebook, curdoc, output_file\n",
    "from bokeh.plotting import figure, show\n",
    "from bokeh.models import Select, CheckboxButtonGroup, ColumnDataSource, DataTable, TableColumn, WMTSTileSource, FactorRange, PanTool\n",
    "from bokeh.models import BoxZoomTool, PanTool, ResetTool\n",
    "from bokeh.layouts import row, column\n",
    "from bokeh.resources import INLINE\n",
    "from bokeh.models import *\n",
    "from bokeh.plotting import *\n",
    "from bokeh.io import *\n",
    "from bokeh.tile_providers import *\n",
    "from bokeh.palettes import *\n",
    "from bokeh.transform import *\n",
    "from bokeh.layouts import *\n",
    "#output_notebook() \n",
    "\n",
    "# 최종파일 오픈 최종\n",
    "\n",
    "#자료임포트\n",
    "filepath = f'C:/Users/ad/Desktop/test/fin/SEOULFIN.xlsx'\n",
    "excel_df = pd.read_excel(filepath)\n",
    "excel_df_cop = excel_df.copy()\n",
    "excel_df_cop['DATE'] = pd.to_datetime(excel_df['DATE']) #date 컬럼 시계열 변경\n",
    "\n",
    "# 체크박스 다중선택\n",
    "\n",
    "\n",
    "checkbox_options = ['PM2.5','PM10','CO','CEN','PRE','DDD']\n",
    "\n",
    "checkbox_grp = CheckboxButtonGroup(labels=checkbox_options, active=[0], button_type=\"success\")\n",
    "\n",
    "# 라인그래프\n",
    "ap = figure(plot_width=700, plot_height=400, x_axis_type='datetime', output_backend=\"svg\",sizing_mode='stretch_width', title='SEOUL')\n",
    "ap.line(excel_df_cop['DATE'], excel_df_cop['PM2.5'], color='navy', alpha=0.5)\n",
    "\n",
    "# 표\n",
    "source = ColumnDataSource(excel_df)\n",
    "columns = [ TableColumn( field=col, title=col ) for col in excel_df.columns ]\n",
    "data_table = DataTable(source=source, columns = columns, background='red',width=1300,sizing_mode='scale_both' )\n",
    "\n",
    "\n",
    "# 3일 평균\n",
    "tdata = excel_df['DATE'].to_list()[:3]\n",
    "tvalue = excel_df[['PM10','PM2.5','CO','CENTIGRADE','PRECIPITATION']][:3]\n",
    "\n",
    "data = {\n",
    "        'PM10'   : excel_df_cop['PM10'].to_list()[:3],\n",
    "        'PM2.5'  : excel_df_cop['PM2.5'].to_list()[:3],\n",
    "        'CO'     : excel_df_cop['CO'].to_list()[:3],\n",
    "        'C'      : excel_df_cop['CENTIGRADE'].to_list()[:3],\n",
    "        'PPTN'   : excel_df_cop['PRECIPITATION'].to_list()[:3]\n",
    "        }\n",
    "\n",
    "# this creates [ (\"Apples\", \"2015\"), (\"Apples\", \"2016\"), (\"Apples\", \"2017\"), (\"Pears\", \"2015), ... ]\n",
    "x = [ (tdat, tval) for tdat in tdata for tval in tvalue ]\n",
    "counts = sum(zip(data['PM10'], data['PM2.5'], data['CO'], data['C'], data['PPTN']), ()) # like an hstack\n",
    "\n",
    "source = ColumnDataSource(data=dict(x=x, counts=counts))\n",
    "\n",
    "p = figure(\n",
    "    x_range=FactorRange(*x), \n",
    "    plot_height=400,\n",
    "    plot_width=630, \n",
    "    title=\"Change in Seoul for the last three days\",\n",
    "    #toolbar_location=None,\n",
    "    tools=\"xwheel_pan, reset\"\n",
    "    )\n",
    "\n",
    "p.vbar(x='x', top='counts', width=0.9, source=source)\n",
    "\n",
    "p.y_range.start = 0\n",
    "p.x_range.range_padding = 0.01\n",
    "p.xaxis.major_label_orientation = 1\n",
    "#p.xgrid.grid_line_color = None\n",
    "p.add_tools(PanTool(dimensions=\"width\"))\n",
    "# 3개 병합\n",
    "layout_with_widgets = column(\n",
    "                            column(checkbox_grp),column(row(ap,p)),\n",
    "                            row(column(data_table)))\n",
    "#show(checkbox_grp)\n",
    "#show(ap)\n",
    "#show(scatter)\n",
    "#show(data_table)\n",
    "#show(layout_with_widgets)\n",
    "save(obj=layout_with_widgets, filename='layout_with_widgets.html')\n",
    "webbrowser.open('layout_with_widgets.html')"
   ]
  },
  {
   "cell_type": "code",
   "execution_count": 10,
   "metadata": {},
   "outputs": [
    {
     "output_type": "stream",
     "name": "stdout",
     "text": [
      "C:/Users/ad/Desktop/test/fin/SEOULFIN.xlsx\n",
      "C:/Users/ad/Desktop/test/fin/PUSANFIN.xlsx\n",
      "C:/Users/ad/Desktop/test/fin/DEAGUFIN.xlsx\n",
      "C:/Users/ad/Desktop/test/fin/INCHEONFIN.xlsx\n",
      "C:/Users/ad/Desktop/test/fin/KWANG_JUFIN.xlsx\n",
      "C:/Users/ad/Desktop/test/fin/DAEJEONFIN.xlsx\n",
      "C:/Users/ad/Desktop/test/fin/ULSANFIN.xlsx\n",
      "C:/Users/ad/Desktop/test/fin/KYEONG_GIFIN.xlsx\n",
      "C:/Users/ad/Desktop/test/fin/KANGONEFIN.xlsx\n",
      "C:/Users/ad/Desktop/test/fin/CHUNG_BUKFIN.xlsx\n",
      "C:/Users/ad/Desktop/test/fin/CHUNG_NAMFIN.xlsx\n",
      "C:/Users/ad/Desktop/test/fin/JEON_BUKFIN.xlsx\n",
      "C:/Users/ad/Desktop/test/fin/JEON_NAMFIN.xlsx\n",
      "C:/Users/ad/Desktop/test/fin/KYUNG_BUKFIN.xlsx\n",
      "C:/Users/ad/Desktop/test/fin/KYUNG_NAMFIN.xlsx\n",
      "C:/Users/ad/Desktop/test/fin/JE_JUFIN.xlsx\n",
      "C:/Users/ad/Desktop/test/fin/SEJONGFIN.xlsx\n"
     ]
    }
   ],
   "source": [
    "\n",
    "import pandas as pd \n",
    "\n",
    "# 최종파일 오픈 최종\n",
    "\n",
    "def finalopen(a):\n",
    "    filepath = f'C:/Users/ad/Desktop/test/fin/{a}FIN.xlsx'\n",
    "    excel_df = pd.read_excel(filepath)\n",
    "    print (filepath)\n",
    "    return(excel_df)\n",
    "    \n",
    "columns = ['SEOUL', 'PUSAN', 'DEAGU', 'INCHEON', 'KWANG_JU', 'DAEJEON', 'ULSAN',\n",
    "       'KYEONG_GI', 'KANGONE', 'CHUNG_BUK', 'CHUNG_NAM', 'JEON_BUK',\n",
    "       'JEON_NAM', 'KYUNG_BUK', 'KYUNG_NAM', 'JE_JU', 'SEJONG']\n",
    "\n",
    "for column in columns:\n",
    "     globals()[f'{column}FINAL'] = finalopen(column)\n",
    "     globals()[f'{column}FINAL_cop'] = globals()[f'{column}FINAL'].copy()\n",
    "     globals()[f'{column}FINAL_cop']['DATE'] = pd.to_datetime(globals()[f'{column}FINAL_cop']['DATE'])\n"
   ]
  },
  {
   "cell_type": "code",
   "execution_count": 36,
   "metadata": {},
   "outputs": [],
   "source": [
    "\n",
    "# 최종파일 오픈 최종\n",
    "\n",
    "def make_graphs():\n",
    "    import pandas as pd \n",
    "    import numpy as np\n",
    "    import bokeh\n",
    "    import webbrowser\n",
    "    from bokeh.io import output_notebook, show, save, output_notebook, curdoc, output_file\n",
    "    from bokeh.plotting import figure, show\n",
    "    from bokeh.models import Select, CheckboxButtonGroup, ColumnDataSource, DataTable, TableColumn, WMTSTileSource, FactorRange, PanTool\n",
    "    from bokeh.models import BoxZoomTool, PanTool, ResetTool\n",
    "    from bokeh.layouts import row, column\n",
    "    from bokeh.resources import INLINE\n",
    "\n",
    "    columns = ['SEOUL', 'PUSAN', 'DEAGU', 'INCHEON', 'KWANG_JU', 'DAEJEON', 'ULSAN',\n",
    "       'KYEONG_GI', 'KANGONE', 'CHUNG_BUK', 'CHUNG_NAM', 'JEON_BUK',\n",
    "       'JEON_NAM', 'KYUNG_BUK', 'KYUNG_NAM', 'JE_JU', 'SEJONG']\n",
    "\n",
    "    for column in columns:\n",
    "        globals()[f'{column}FINAL_cop'] =globals()[f'{column}FINAL'].copy()\n",
    "        globals()[f'{column}FINAL_cop']['DATE'] = pd.to_datetime(globals()[f'{column}FINAL_cop']['DATE'])\n",
    "        # 라인그래프\n",
    "        globals()[f'{column}ap'] = figure(\n",
    "            plot_width=500, plot_height=400, \n",
    "            x_axis_type='datetime', output_backend=\"svg\",\n",
    "            sizing_mode='stretch_width', title=\"SEOUL's PM 2.5\")\n",
    "\n",
    "        globals()[f'{column}ap'].line(globals()[f'{column}FINAL_cop']['DATE'], globals()[f'{column}FINAL_cop']['PM2.5'], color='navy', alpha=0.5)\n",
    "\n",
    "        # 표\n",
    "        source = ColumnDataSource(globals()[f'{column}FINAL_cop'])\n",
    "        columns = [ TableColumn( field=col, title=col ) for col in globals()[f'{column}FINAL'].columns ]\n",
    "        globals()[f'{column}data_table'] = DataTable(source=source, columns = columns, background='red',width=1300,sizing_mode='scale_both' )\n",
    "\n",
    "\n",
    "        # 3일 평균\n",
    "        tdata = globals()[f'{column}FINAL']['DATE'].to_list()[:3]\n",
    "        tvalue = globals()[f'{column}FINAL'][['PM10','PM2.5','CO','CENTIGRADE','PRECIPITATION']][:3]\n",
    "\n",
    "        data = {\n",
    "                'PM10'   : globals()[f'{column}FINAL']['PM10'].to_list()[:3],\n",
    "                'PM2.5'  : globals()[f'{column}FINAL']['PM2.5'].to_list()[:3],\n",
    "                'CO'     : globals()[f'{column}FINAL']['CO'].to_list()[:3],\n",
    "                'C'      : globals()[f'{column}FINAL']['CENTIGRADE'].to_list()[:3],\n",
    "                'PPTN'   : globals()[f'{column}FINAL']['PRECIPITATION'].to_list()[:3]\n",
    "                }\n",
    "\n",
    "        # this creates [ (\"Apples\", \"2015\"), (\"Apples\", \"2016\"), (\"Apples\", \"2017\"), (\"Pears\", \"2015), ... ]\n",
    "        x = [ (tdat, tval) for tdat in tdata for tval in tvalue ]\n",
    "        counts = sum(zip(data['PM10'], data['PM2.5'], data['CO'], data['C'], data['PPTN']), ()) # like an hstack\n",
    "\n",
    "        source = ColumnDataSource(data=dict(x=x, counts=counts))\n",
    "\n",
    "        globals()[f'{column}p'] = figure(\n",
    "            x_range=FactorRange(*x), \n",
    "            plot_height=400,\n",
    "            plot_width=500, \n",
    "            title= f\"Change in {column} for the last three days\",\n",
    "            #toolbar_location=None,\n",
    "            tools=\"xwheel_pan, reset\"\n",
    "            )\n",
    "\n",
    "        globals()[f'{column}p'].vbar(x='x', top='counts', width=0.9, source=source)\n",
    "\n",
    "        globals()[f'{column}p'].y_range.start = 0\n",
    "        globals()[f'{column}p'].x_range.range_padding = 0.01\n",
    "        globals()[f'{column}p'].xaxis.major_label_orientation = 1\n",
    "        #p.xgrid.grid_line_color = None\n",
    "        globals()[f'{column}p'].add_tools(PanTool(dimensions=\"width\"))\n",
    "        # 3개 병합\n",
    "        # globals()[f'{column}G']= column(\n",
    "        #                             column(row(globals()[f'{column}ap'],globals()[f'{column}p'])),\n",
    "        #                             row(column(globals()[f'{column}data_table'])))\n",
    "        # #show(checkbox_grp)\n",
    "        #show(ap)\n",
    "        #show(scatter)\n",
    "        #show(data_table)\n",
    "        #show(layout_with_widgets)\n",
    "        #save(obj=layout_with_widgets, filename= f'{column}.html')\n",
    "        #webbrowser.open('layout_with_widgets.html')\n",
    "        #break    "
   ]
  },
  {
   "cell_type": "code",
   "execution_count": 37,
   "metadata": {},
   "outputs": [],
   "source": [
    "make_graphs()"
   ]
  },
  {
   "cell_type": "code",
   "execution_count": 40,
   "metadata": {},
   "outputs": [
    {
     "output_type": "error",
     "ename": "RuntimeError",
     "evalue": "Models must be owned by only a single document, DatetimeTickFormatter(id='6529', ...) is already in a doc",
     "traceback": [
      "\u001b[1;31m---------------------------------------------------------------------------\u001b[0m",
      "\u001b[1;31mRuntimeError\u001b[0m                              Traceback (most recent call last)",
      "\u001b[1;32m<ipython-input-40-d2332cc89882>\u001b[0m in \u001b[0;36m<module>\u001b[1;34m\u001b[0m\n\u001b[0;32m      3\u001b[0m             \u001b[0mrow\u001b[0m\u001b[1;33m(\u001b[0m\u001b[0mSEOULdata_table\u001b[0m\u001b[1;33m)\u001b[0m\u001b[1;33m\u001b[0m\u001b[1;33m\u001b[0m\u001b[0m\n\u001b[0;32m      4\u001b[0m )\n\u001b[1;32m----> 5\u001b[1;33m \u001b[0mshow\u001b[0m\u001b[1;33m(\u001b[0m\u001b[0ma\u001b[0m\u001b[1;33m)\u001b[0m\u001b[1;33m\u001b[0m\u001b[1;33m\u001b[0m\u001b[0m\n\u001b[0m",
      "\u001b[1;32m~\\miniconda3\\lib\\site-packages\\bokeh\\io\\showing.py\u001b[0m in \u001b[0;36mshow\u001b[1;34m(obj, browser, new, notebook_handle, notebook_url, **kw)\u001b[0m\n\u001b[0;32m    137\u001b[0m         \u001b[1;32mreturn\u001b[0m \u001b[0mrun_notebook_hook\u001b[0m\u001b[1;33m(\u001b[0m\u001b[0mstate\u001b[0m\u001b[1;33m.\u001b[0m\u001b[0mnotebook_type\u001b[0m\u001b[1;33m,\u001b[0m \u001b[1;34m'app'\u001b[0m\u001b[1;33m,\u001b[0m \u001b[0mobj\u001b[0m\u001b[1;33m,\u001b[0m \u001b[0mstate\u001b[0m\u001b[1;33m,\u001b[0m \u001b[0mnotebook_url\u001b[0m\u001b[1;33m,\u001b[0m \u001b[1;33m**\u001b[0m\u001b[0mkw\u001b[0m\u001b[1;33m)\u001b[0m\u001b[1;33m\u001b[0m\u001b[1;33m\u001b[0m\u001b[0m\n\u001b[0;32m    138\u001b[0m \u001b[1;33m\u001b[0m\u001b[0m\n\u001b[1;32m--> 139\u001b[1;33m     \u001b[1;32mreturn\u001b[0m \u001b[0m_show_with_state\u001b[0m\u001b[1;33m(\u001b[0m\u001b[0mobj\u001b[0m\u001b[1;33m,\u001b[0m \u001b[0mstate\u001b[0m\u001b[1;33m,\u001b[0m \u001b[0mbrowser\u001b[0m\u001b[1;33m,\u001b[0m \u001b[0mnew\u001b[0m\u001b[1;33m,\u001b[0m \u001b[0mnotebook_handle\u001b[0m\u001b[1;33m=\u001b[0m\u001b[0mnotebook_handle\u001b[0m\u001b[1;33m)\u001b[0m\u001b[1;33m\u001b[0m\u001b[1;33m\u001b[0m\u001b[0m\n\u001b[0m\u001b[0;32m    140\u001b[0m \u001b[1;33m\u001b[0m\u001b[0m\n\u001b[0;32m    141\u001b[0m \u001b[1;31m#-----------------------------------------------------------------------------\u001b[0m\u001b[1;33m\u001b[0m\u001b[1;33m\u001b[0m\u001b[1;33m\u001b[0m\u001b[0m\n",
      "\u001b[1;32m~\\miniconda3\\lib\\site-packages\\bokeh\\io\\showing.py\u001b[0m in \u001b[0;36m_show_with_state\u001b[1;34m(obj, state, browser, new, notebook_handle)\u001b[0m\n\u001b[0;32m    175\u001b[0m \u001b[1;33m\u001b[0m\u001b[0m\n\u001b[0;32m    176\u001b[0m     \u001b[1;32mif\u001b[0m \u001b[0mstate\u001b[0m\u001b[1;33m.\u001b[0m\u001b[0mfile\u001b[0m \u001b[1;32mor\u001b[0m \u001b[1;32mnot\u001b[0m \u001b[0mshown\u001b[0m\u001b[1;33m:\u001b[0m\u001b[1;33m\u001b[0m\u001b[1;33m\u001b[0m\u001b[0m\n\u001b[1;32m--> 177\u001b[1;33m         \u001b[0m_show_file_with_state\u001b[0m\u001b[1;33m(\u001b[0m\u001b[0mobj\u001b[0m\u001b[1;33m,\u001b[0m \u001b[0mstate\u001b[0m\u001b[1;33m,\u001b[0m \u001b[0mnew\u001b[0m\u001b[1;33m,\u001b[0m \u001b[0mcontroller\u001b[0m\u001b[1;33m)\u001b[0m\u001b[1;33m\u001b[0m\u001b[1;33m\u001b[0m\u001b[0m\n\u001b[0m\u001b[0;32m    178\u001b[0m \u001b[1;33m\u001b[0m\u001b[0m\n\u001b[0;32m    179\u001b[0m     \u001b[1;32mreturn\u001b[0m \u001b[0mcomms_handle\u001b[0m\u001b[1;33m\u001b[0m\u001b[1;33m\u001b[0m\u001b[0m\n",
      "\u001b[1;32m~\\miniconda3\\lib\\site-packages\\bokeh\\io\\showing.py\u001b[0m in \u001b[0;36m_show_file_with_state\u001b[1;34m(obj, state, new, controller)\u001b[0m\n\u001b[0;32m    158\u001b[0m \u001b[1;33m\u001b[0m\u001b[0m\n\u001b[0;32m    159\u001b[0m     '''\n\u001b[1;32m--> 160\u001b[1;33m     \u001b[0mfilename\u001b[0m \u001b[1;33m=\u001b[0m \u001b[0msave\u001b[0m\u001b[1;33m(\u001b[0m\u001b[0mobj\u001b[0m\u001b[1;33m,\u001b[0m \u001b[0mstate\u001b[0m\u001b[1;33m=\u001b[0m\u001b[0mstate\u001b[0m\u001b[1;33m)\u001b[0m\u001b[1;33m\u001b[0m\u001b[1;33m\u001b[0m\u001b[0m\n\u001b[0m\u001b[0;32m    161\u001b[0m     \u001b[0mcontroller\u001b[0m\u001b[1;33m.\u001b[0m\u001b[0mopen\u001b[0m\u001b[1;33m(\u001b[0m\u001b[1;34m\"file://\"\u001b[0m \u001b[1;33m+\u001b[0m \u001b[0mfilename\u001b[0m\u001b[1;33m,\u001b[0m \u001b[0mnew\u001b[0m\u001b[1;33m=\u001b[0m\u001b[0mNEW_PARAM\u001b[0m\u001b[1;33m[\u001b[0m\u001b[0mnew\u001b[0m\u001b[1;33m]\u001b[0m\u001b[1;33m)\u001b[0m\u001b[1;33m\u001b[0m\u001b[1;33m\u001b[0m\u001b[0m\n\u001b[0;32m    162\u001b[0m \u001b[1;33m\u001b[0m\u001b[0m\n",
      "\u001b[1;32m~\\miniconda3\\lib\\site-packages\\bokeh\\io\\saving.py\u001b[0m in \u001b[0;36msave\u001b[1;34m(obj, filename, resources, title, template, state, **kwargs)\u001b[0m\n\u001b[0;32m     84\u001b[0m \u001b[1;33m\u001b[0m\u001b[0m\n\u001b[0;32m     85\u001b[0m     \u001b[0mfilename\u001b[0m\u001b[1;33m,\u001b[0m \u001b[0mresources\u001b[0m\u001b[1;33m,\u001b[0m \u001b[0mtitle\u001b[0m \u001b[1;33m=\u001b[0m \u001b[0m_get_save_args\u001b[0m\u001b[1;33m(\u001b[0m\u001b[0mstate\u001b[0m\u001b[1;33m,\u001b[0m \u001b[0mfilename\u001b[0m\u001b[1;33m,\u001b[0m \u001b[0mresources\u001b[0m\u001b[1;33m,\u001b[0m \u001b[0mtitle\u001b[0m\u001b[1;33m)\u001b[0m\u001b[1;33m\u001b[0m\u001b[1;33m\u001b[0m\u001b[0m\n\u001b[1;32m---> 86\u001b[1;33m     \u001b[0m_save_helper\u001b[0m\u001b[1;33m(\u001b[0m\u001b[0mobj\u001b[0m\u001b[1;33m,\u001b[0m \u001b[0mfilename\u001b[0m\u001b[1;33m,\u001b[0m \u001b[0mresources\u001b[0m\u001b[1;33m,\u001b[0m \u001b[0mtitle\u001b[0m\u001b[1;33m,\u001b[0m \u001b[0mtemplate\u001b[0m\u001b[1;33m,\u001b[0m \u001b[0mtheme\u001b[0m\u001b[1;33m)\u001b[0m\u001b[1;33m\u001b[0m\u001b[1;33m\u001b[0m\u001b[0m\n\u001b[0m\u001b[0;32m     87\u001b[0m     \u001b[1;32mreturn\u001b[0m \u001b[0mabspath\u001b[0m\u001b[1;33m(\u001b[0m\u001b[0mfilename\u001b[0m\u001b[1;33m)\u001b[0m\u001b[1;33m\u001b[0m\u001b[1;33m\u001b[0m\u001b[0m\n\u001b[0;32m     88\u001b[0m \u001b[1;33m\u001b[0m\u001b[0m\n",
      "\u001b[1;32m~\\miniconda3\\lib\\site-packages\\bokeh\\io\\saving.py\u001b[0m in \u001b[0;36m_save_helper\u001b[1;34m(obj, filename, resources, title, template, theme)\u001b[0m\n\u001b[0;32m    146\u001b[0m     '''\n\u001b[0;32m    147\u001b[0m     \u001b[1;32mfrom\u001b[0m \u001b[1;33m.\u001b[0m\u001b[1;33m.\u001b[0m\u001b[0membed\u001b[0m \u001b[1;32mimport\u001b[0m \u001b[0mfile_html\u001b[0m\u001b[1;33m\u001b[0m\u001b[1;33m\u001b[0m\u001b[0m\n\u001b[1;32m--> 148\u001b[1;33m     \u001b[0mhtml\u001b[0m \u001b[1;33m=\u001b[0m \u001b[0mfile_html\u001b[0m\u001b[1;33m(\u001b[0m\u001b[0mobj\u001b[0m\u001b[1;33m,\u001b[0m \u001b[0mresources\u001b[0m\u001b[1;33m,\u001b[0m \u001b[0mtitle\u001b[0m\u001b[1;33m=\u001b[0m\u001b[0mtitle\u001b[0m\u001b[1;33m,\u001b[0m \u001b[0mtemplate\u001b[0m\u001b[1;33m=\u001b[0m\u001b[0mtemplate\u001b[0m\u001b[1;33m,\u001b[0m \u001b[0mtheme\u001b[0m\u001b[1;33m=\u001b[0m\u001b[0mtheme\u001b[0m\u001b[1;33m)\u001b[0m\u001b[1;33m\u001b[0m\u001b[1;33m\u001b[0m\u001b[0m\n\u001b[0m\u001b[0;32m    149\u001b[0m \u001b[1;33m\u001b[0m\u001b[0m\n\u001b[0;32m    150\u001b[0m     \u001b[1;32mwith\u001b[0m \u001b[0mopen\u001b[0m\u001b[1;33m(\u001b[0m\u001b[0mfilename\u001b[0m\u001b[1;33m,\u001b[0m \u001b[0mmode\u001b[0m\u001b[1;33m=\u001b[0m\u001b[1;34m\"w\"\u001b[0m\u001b[1;33m,\u001b[0m \u001b[0mencoding\u001b[0m\u001b[1;33m=\u001b[0m\u001b[1;34m\"utf-8\"\u001b[0m\u001b[1;33m)\u001b[0m \u001b[1;32mas\u001b[0m \u001b[0mf\u001b[0m\u001b[1;33m:\u001b[0m\u001b[1;33m\u001b[0m\u001b[1;33m\u001b[0m\u001b[0m\n",
      "\u001b[1;32m~\\miniconda3\\lib\\site-packages\\bokeh\\embed\\standalone.py\u001b[0m in \u001b[0;36mfile_html\u001b[1;34m(models, resources, title, template, template_variables, theme, suppress_callback_warning, _always_new)\u001b[0m\n\u001b[0;32m    301\u001b[0m         \u001b[0mmodels_seq\u001b[0m \u001b[1;33m=\u001b[0m \u001b[0mmodels\u001b[0m\u001b[1;33m\u001b[0m\u001b[1;33m\u001b[0m\u001b[0m\n\u001b[0;32m    302\u001b[0m \u001b[1;33m\u001b[0m\u001b[0m\n\u001b[1;32m--> 303\u001b[1;33m     \u001b[1;32mwith\u001b[0m \u001b[0mOutputDocumentFor\u001b[0m\u001b[1;33m(\u001b[0m\u001b[0mmodels_seq\u001b[0m\u001b[1;33m,\u001b[0m \u001b[0mapply_theme\u001b[0m\u001b[1;33m=\u001b[0m\u001b[0mtheme\u001b[0m\u001b[1;33m,\u001b[0m \u001b[0malways_new\u001b[0m\u001b[1;33m=\u001b[0m\u001b[0m_always_new\u001b[0m\u001b[1;33m)\u001b[0m \u001b[1;32mas\u001b[0m \u001b[0mdoc\u001b[0m\u001b[1;33m:\u001b[0m\u001b[1;33m\u001b[0m\u001b[1;33m\u001b[0m\u001b[0m\n\u001b[0m\u001b[0;32m    304\u001b[0m         \u001b[1;33m(\u001b[0m\u001b[0mdocs_json\u001b[0m\u001b[1;33m,\u001b[0m \u001b[0mrender_items\u001b[0m\u001b[1;33m)\u001b[0m \u001b[1;33m=\u001b[0m \u001b[0mstandalone_docs_json_and_render_items\u001b[0m\u001b[1;33m(\u001b[0m\u001b[0mmodels_seq\u001b[0m\u001b[1;33m,\u001b[0m \u001b[0msuppress_callback_warning\u001b[0m\u001b[1;33m=\u001b[0m\u001b[0msuppress_callback_warning\u001b[0m\u001b[1;33m)\u001b[0m\u001b[1;33m\u001b[0m\u001b[1;33m\u001b[0m\u001b[0m\n\u001b[0;32m    305\u001b[0m         \u001b[0mtitle\u001b[0m \u001b[1;33m=\u001b[0m \u001b[0m_title_from_models\u001b[0m\u001b[1;33m(\u001b[0m\u001b[0mmodels_seq\u001b[0m\u001b[1;33m,\u001b[0m \u001b[0mtitle\u001b[0m\u001b[1;33m)\u001b[0m\u001b[1;33m\u001b[0m\u001b[1;33m\u001b[0m\u001b[0m\n",
      "\u001b[1;32m~\\miniconda3\\lib\\contextlib.py\u001b[0m in \u001b[0;36m__enter__\u001b[1;34m(self)\u001b[0m\n\u001b[0;32m    115\u001b[0m         \u001b[1;32mdel\u001b[0m \u001b[0mself\u001b[0m\u001b[1;33m.\u001b[0m\u001b[0margs\u001b[0m\u001b[1;33m,\u001b[0m \u001b[0mself\u001b[0m\u001b[1;33m.\u001b[0m\u001b[0mkwds\u001b[0m\u001b[1;33m,\u001b[0m \u001b[0mself\u001b[0m\u001b[1;33m.\u001b[0m\u001b[0mfunc\u001b[0m\u001b[1;33m\u001b[0m\u001b[1;33m\u001b[0m\u001b[0m\n\u001b[0;32m    116\u001b[0m         \u001b[1;32mtry\u001b[0m\u001b[1;33m:\u001b[0m\u001b[1;33m\u001b[0m\u001b[1;33m\u001b[0m\u001b[0m\n\u001b[1;32m--> 117\u001b[1;33m             \u001b[1;32mreturn\u001b[0m \u001b[0mnext\u001b[0m\u001b[1;33m(\u001b[0m\u001b[0mself\u001b[0m\u001b[1;33m.\u001b[0m\u001b[0mgen\u001b[0m\u001b[1;33m)\u001b[0m\u001b[1;33m\u001b[0m\u001b[1;33m\u001b[0m\u001b[0m\n\u001b[0m\u001b[0;32m    118\u001b[0m         \u001b[1;32mexcept\u001b[0m \u001b[0mStopIteration\u001b[0m\u001b[1;33m:\u001b[0m\u001b[1;33m\u001b[0m\u001b[1;33m\u001b[0m\u001b[0m\n\u001b[0;32m    119\u001b[0m             \u001b[1;32mraise\u001b[0m \u001b[0mRuntimeError\u001b[0m\u001b[1;33m(\u001b[0m\u001b[1;34m\"generator didn't yield\"\u001b[0m\u001b[1;33m)\u001b[0m \u001b[1;32mfrom\u001b[0m \u001b[1;32mNone\u001b[0m\u001b[1;33m\u001b[0m\u001b[1;33m\u001b[0m\u001b[0m\n",
      "\u001b[1;32m~\\miniconda3\\lib\\site-packages\\bokeh\\embed\\util.py\u001b[0m in \u001b[0;36mOutputDocumentFor\u001b[1;34m(objs, apply_theme, always_new)\u001b[0m\n\u001b[0;32m    132\u001b[0m             \u001b[0mdoc\u001b[0m \u001b[1;33m=\u001b[0m \u001b[0mDocument\u001b[0m\u001b[1;33m(\u001b[0m\u001b[1;33m)\u001b[0m\u001b[1;33m\u001b[0m\u001b[1;33m\u001b[0m\u001b[0m\n\u001b[0;32m    133\u001b[0m             \u001b[1;32mfor\u001b[0m \u001b[0mmodel\u001b[0m \u001b[1;32min\u001b[0m \u001b[0mobjs\u001b[0m\u001b[1;33m:\u001b[0m\u001b[1;33m\u001b[0m\u001b[1;33m\u001b[0m\u001b[0m\n\u001b[1;32m--> 134\u001b[1;33m                 \u001b[0mdoc\u001b[0m\u001b[1;33m.\u001b[0m\u001b[0madd_root\u001b[0m\u001b[1;33m(\u001b[0m\u001b[0mmodel\u001b[0m\u001b[1;33m)\u001b[0m\u001b[1;33m\u001b[0m\u001b[1;33m\u001b[0m\u001b[0m\n\u001b[0m\u001b[0;32m    135\u001b[0m \u001b[1;33m\u001b[0m\u001b[0m\n\u001b[0;32m    136\u001b[0m         \u001b[1;31m# handle a single shared document\u001b[0m\u001b[1;33m\u001b[0m\u001b[1;33m\u001b[0m\u001b[1;33m\u001b[0m\u001b[0m\n",
      "\u001b[1;32m~\\miniconda3\\lib\\site-packages\\bokeh\\document\\document.py\u001b[0m in \u001b[0;36madd_root\u001b[1;34m(self, model, setter)\u001b[0m\n\u001b[0;32m    319\u001b[0m             \u001b[0mself\u001b[0m\u001b[1;33m.\u001b[0m\u001b[0m_roots\u001b[0m\u001b[1;33m.\u001b[0m\u001b[0mappend\u001b[0m\u001b[1;33m(\u001b[0m\u001b[0mmodel\u001b[0m\u001b[1;33m)\u001b[0m\u001b[1;33m\u001b[0m\u001b[1;33m\u001b[0m\u001b[0m\n\u001b[0;32m    320\u001b[0m         \u001b[1;32mfinally\u001b[0m\u001b[1;33m:\u001b[0m\u001b[1;33m\u001b[0m\u001b[1;33m\u001b[0m\u001b[0m\n\u001b[1;32m--> 321\u001b[1;33m             \u001b[0mself\u001b[0m\u001b[1;33m.\u001b[0m\u001b[0m_pop_all_models_freeze\u001b[0m\u001b[1;33m(\u001b[0m\u001b[1;33m)\u001b[0m\u001b[1;33m\u001b[0m\u001b[1;33m\u001b[0m\u001b[0m\n\u001b[0m\u001b[0;32m    322\u001b[0m         \u001b[0mself\u001b[0m\u001b[1;33m.\u001b[0m\u001b[0m_trigger_on_change\u001b[0m\u001b[1;33m(\u001b[0m\u001b[0mRootAddedEvent\u001b[0m\u001b[1;33m(\u001b[0m\u001b[0mself\u001b[0m\u001b[1;33m,\u001b[0m \u001b[0mmodel\u001b[0m\u001b[1;33m,\u001b[0m \u001b[0msetter\u001b[0m\u001b[1;33m)\u001b[0m\u001b[1;33m)\u001b[0m\u001b[1;33m\u001b[0m\u001b[1;33m\u001b[0m\u001b[0m\n\u001b[0;32m    323\u001b[0m \u001b[1;33m\u001b[0m\u001b[0m\n",
      "\u001b[1;32m~\\miniconda3\\lib\\site-packages\\bokeh\\document\\document.py\u001b[0m in \u001b[0;36m_pop_all_models_freeze\u001b[1;34m(self)\u001b[0m\n\u001b[0;32m   1102\u001b[0m         \u001b[0mself\u001b[0m\u001b[1;33m.\u001b[0m\u001b[0m_all_models_freeze_count\u001b[0m \u001b[1;33m-=\u001b[0m \u001b[1;36m1\u001b[0m\u001b[1;33m\u001b[0m\u001b[1;33m\u001b[0m\u001b[0m\n\u001b[0;32m   1103\u001b[0m         \u001b[1;32mif\u001b[0m \u001b[0mself\u001b[0m\u001b[1;33m.\u001b[0m\u001b[0m_all_models_freeze_count\u001b[0m \u001b[1;33m==\u001b[0m \u001b[1;36m0\u001b[0m\u001b[1;33m:\u001b[0m\u001b[1;33m\u001b[0m\u001b[1;33m\u001b[0m\u001b[0m\n\u001b[1;32m-> 1104\u001b[1;33m             \u001b[0mself\u001b[0m\u001b[1;33m.\u001b[0m\u001b[0m_recompute_all_models\u001b[0m\u001b[1;33m(\u001b[0m\u001b[1;33m)\u001b[0m\u001b[1;33m\u001b[0m\u001b[1;33m\u001b[0m\u001b[0m\n\u001b[0m\u001b[0;32m   1105\u001b[0m \u001b[1;33m\u001b[0m\u001b[0m\n\u001b[0;32m   1106\u001b[0m     \u001b[1;32mdef\u001b[0m \u001b[0m_recompute_all_models\u001b[0m\u001b[1;33m(\u001b[0m\u001b[0mself\u001b[0m\u001b[1;33m)\u001b[0m\u001b[1;33m:\u001b[0m\u001b[1;33m\u001b[0m\u001b[1;33m\u001b[0m\u001b[0m\n",
      "\u001b[1;32m~\\miniconda3\\lib\\site-packages\\bokeh\\document\\document.py\u001b[0m in \u001b[0;36m_recompute_all_models\u001b[1;34m(self)\u001b[0m\n\u001b[0;32m   1125\u001b[0m             \u001b[0md\u001b[0m\u001b[1;33m.\u001b[0m\u001b[0m_detach_document\u001b[0m\u001b[1;33m(\u001b[0m\u001b[1;33m)\u001b[0m\u001b[1;33m\u001b[0m\u001b[1;33m\u001b[0m\u001b[0m\n\u001b[0;32m   1126\u001b[0m         \u001b[1;32mfor\u001b[0m \u001b[0ma\u001b[0m \u001b[1;32min\u001b[0m \u001b[0mto_attach\u001b[0m\u001b[1;33m:\u001b[0m\u001b[1;33m\u001b[0m\u001b[1;33m\u001b[0m\u001b[0m\n\u001b[1;32m-> 1127\u001b[1;33m             \u001b[0ma\u001b[0m\u001b[1;33m.\u001b[0m\u001b[0m_attach_document\u001b[0m\u001b[1;33m(\u001b[0m\u001b[0mself\u001b[0m\u001b[1;33m)\u001b[0m\u001b[1;33m\u001b[0m\u001b[1;33m\u001b[0m\u001b[0m\n\u001b[0m\u001b[0;32m   1128\u001b[0m         \u001b[0mself\u001b[0m\u001b[1;33m.\u001b[0m\u001b[0m_all_models\u001b[0m \u001b[1;33m=\u001b[0m \u001b[0mrecomputed\u001b[0m\u001b[1;33m\u001b[0m\u001b[1;33m\u001b[0m\u001b[0m\n\u001b[0;32m   1129\u001b[0m         \u001b[0mself\u001b[0m\u001b[1;33m.\u001b[0m\u001b[0m_all_models_by_name\u001b[0m \u001b[1;33m=\u001b[0m \u001b[0mrecomputed_by_name\u001b[0m\u001b[1;33m\u001b[0m\u001b[1;33m\u001b[0m\u001b[0m\n",
      "\u001b[1;32m~\\miniconda3\\lib\\site-packages\\bokeh\\model.py\u001b[0m in \u001b[0;36m_attach_document\u001b[1;34m(self, doc)\u001b[0m\n\u001b[0;32m    690\u001b[0m         '''\n\u001b[0;32m    691\u001b[0m         \u001b[1;32mif\u001b[0m \u001b[0mself\u001b[0m\u001b[1;33m.\u001b[0m\u001b[0m_document\u001b[0m \u001b[1;32mis\u001b[0m \u001b[1;32mnot\u001b[0m \u001b[1;32mNone\u001b[0m \u001b[1;32mand\u001b[0m \u001b[0mself\u001b[0m\u001b[1;33m.\u001b[0m\u001b[0m_document\u001b[0m \u001b[1;32mis\u001b[0m \u001b[1;32mnot\u001b[0m \u001b[0mdoc\u001b[0m\u001b[1;33m:\u001b[0m\u001b[1;33m\u001b[0m\u001b[1;33m\u001b[0m\u001b[0m\n\u001b[1;32m--> 692\u001b[1;33m             \u001b[1;32mraise\u001b[0m \u001b[0mRuntimeError\u001b[0m\u001b[1;33m(\u001b[0m\u001b[1;34m\"Models must be owned by only a single document, %r is already in a doc\"\u001b[0m \u001b[1;33m%\u001b[0m \u001b[1;33m(\u001b[0m\u001b[0mself\u001b[0m\u001b[1;33m)\u001b[0m\u001b[1;33m)\u001b[0m\u001b[1;33m\u001b[0m\u001b[1;33m\u001b[0m\u001b[0m\n\u001b[0m\u001b[0;32m    693\u001b[0m         \u001b[0mdoc\u001b[0m\u001b[1;33m.\u001b[0m\u001b[0mtheme\u001b[0m\u001b[1;33m.\u001b[0m\u001b[0mapply_to_model\u001b[0m\u001b[1;33m(\u001b[0m\u001b[0mself\u001b[0m\u001b[1;33m)\u001b[0m\u001b[1;33m\u001b[0m\u001b[1;33m\u001b[0m\u001b[0m\n\u001b[0;32m    694\u001b[0m         \u001b[0mself\u001b[0m\u001b[1;33m.\u001b[0m\u001b[0m_document\u001b[0m \u001b[1;33m=\u001b[0m \u001b[0mdoc\u001b[0m\u001b[1;33m\u001b[0m\u001b[1;33m\u001b[0m\u001b[0m\n",
      "\u001b[1;31mRuntimeError\u001b[0m: Models must be owned by only a single document, DatetimeTickFormatter(id='6529', ...) is already in a doc"
     ]
    }
   ],
   "source": [
    "a = column(\n",
    "            column(row(SEOULap, SEOULp)),\n",
    "            row(SEOULdata_table)\n",
    ")\n",
    "show(a)"
   ]
  },
  {
   "cell_type": "code",
   "execution_count": 59,
   "metadata": {},
   "outputs": [],
   "source": [
    "# # 그래프 함수 시작\n",
    "# def make__graph():\n",
    "#     # 라인그래프 만들기 시작\n",
    "#     columns = ['SEOUL', 'PUSAN', 'DEAGU', 'INCHEON', 'KWANG_JU', 'DAEJEON', 'ULSAN',\n",
    "#        'KYEONG_GI', 'KANGONE', 'CHUNG_BUK', 'CHUNG_NAM', 'JEON_BUK',\n",
    "#        'JEON_NAM', 'KYUNG_BUK', 'KYUNG_NAM', 'JE_JU', 'SEJONG']\n",
    "\n",
    "#     for column in columns:\n",
    "#         lap = figure(\n",
    "#             plot_width=550, plot_height=400, \n",
    "#             x_axis_type='datetime', output_backend=\"svg\",\n",
    "#             sizing_mode='stretch_width', \n",
    "#             title=f\"{column}'s PM2.5\")\n",
    "#         lap.line(\n",
    "#             globals()[f'{column}FINAL_cop']['DATE'],\n",
    "#             globals()[f'{column}FINAL_cop']['PM2.5'],\n",
    "#             color='navy',\n",
    "#             alpha=0.7 )\n",
    "#         # 라인그래프 만들기 끝\n",
    "#         # 표만들기 시작\n",
    "#         psource = ColumnDataSource(globals()[f'{column}FINAL'])\n",
    "#         pcolumns = [ TableColumn( field=pcol, title=pcol ) for pcol in globals()[f'{column}FINAL'].columns ]\n",
    "#         data_table = DataTable(source=psource, columns = pcolumns, background='red',width=1000, sizing_mode='scale_both' )\n",
    "        \n",
    "#         # 최근 3일\n",
    "#         data = globals()[f'{column}FINAL']['DATE'].to_list()[:3]\n",
    "#         value = globals()[f'{column}FINAL'][['PM10','PM2.5','CO','CENTIGRADE','PRECIPITATION']][:3]\n",
    "#         data = {\n",
    "#             'PM10'   : globals()[f'{column}FINAL']['PM10'].to_list()[:3],\n",
    "#             'PM2.5'  : globals()[f'{column}FINAL']['PM2.5'].to_list()[:3],\n",
    "#             'CO'     : globals()[f'{column}FINAL']['CO'].to_list()[:3],\n",
    "#             'C'      : globals()[f'{column}FINAL']['CENTIGRADE'].to_list()[:3],\n",
    "#             'PPTN'   : globals()[f'{column}FINAL']['PRECIPITATION'].to_list()[:3]\n",
    "#             }\n",
    "            \n",
    "#         x = [ (dat, val) for dat in data for val in value ]\n",
    "#         counts = sum(zip(data['PM10'], data['PM2.5'], data['CO'], data['C'], data['PPTN']), ()) \n",
    "#         source = ColumnDataSource(data=dict(x=x, counts=counts))\n",
    "#         p = figure(\n",
    "#             x_range=FactorRange(*x), \n",
    "#             plot_height=400,\n",
    "#             plot_width=450, \n",
    "#             title= f\"Change in {column} for the last three days\",\n",
    "#             #toolbar_location=None,\n",
    "#             tools=\"xwheel_pan, reset\")\n",
    "\n",
    "#         p.vbar(x='x', top='counts', width=0.9, source=source)\n",
    "#         p.y_range.start = 0\n",
    "#         p.x_range.range_padding = 0.01\n",
    "#         p.xaxis.major_label_orientation = 1\n",
    "#         #p.xgrid.grid_line_color = None\n",
    "#         p.add_tools(PanTool(dimensions=\"width\"))\n",
    "#         layout_with_widgets = column(\n",
    "#                             column(checkbox_grp),column(row(ap,p)),\n",
    "#                             row(column(data_table)))\n",
    "#         save(obj=layout_with_widgets, filename=f'{column}Final.html')\n",
    "#         print(f'{column}Final.html 완')\n",
    "#             # webbrowser.open('layout_with_widgets.html')"
   ]
  },
  {
   "cell_type": "code",
   "execution_count": 60,
   "metadata": {},
   "outputs": [
    {
     "output_type": "stream",
     "name": "stderr",
     "text": [
      "BokehUserWarning: ColumnDataSource's columns must be of the same length. Current lengths: ('counts', 15), ('x', 25)\n"
     ]
    },
    {
     "output_type": "error",
     "ename": "TypeError",
     "evalue": "'str' object is not callable",
     "traceback": [
      "\u001b[1;31m---------------------------------------------------------------------------\u001b[0m",
      "\u001b[1;31mTypeError\u001b[0m                                 Traceback (most recent call last)",
      "\u001b[1;32m<ipython-input-60-48cc5c202d55>\u001b[0m in \u001b[0;36m<module>\u001b[1;34m\u001b[0m\n\u001b[1;32m----> 1\u001b[1;33m \u001b[0mmake__graph\u001b[0m\u001b[1;33m(\u001b[0m\u001b[1;33m)\u001b[0m\u001b[1;33m\u001b[0m\u001b[1;33m\u001b[0m\u001b[0m\n\u001b[0m",
      "\u001b[1;32m<ipython-input-59-8234a47d7db3>\u001b[0m in \u001b[0;36mmake__graph\u001b[1;34m()\u001b[0m\n\u001b[0;32m     52\u001b[0m         \u001b[0mp\u001b[0m\u001b[1;33m.\u001b[0m\u001b[0madd_tools\u001b[0m\u001b[1;33m(\u001b[0m\u001b[0mPanTool\u001b[0m\u001b[1;33m(\u001b[0m\u001b[0mdimensions\u001b[0m\u001b[1;33m=\u001b[0m\u001b[1;34m\"width\"\u001b[0m\u001b[1;33m)\u001b[0m\u001b[1;33m)\u001b[0m\u001b[1;33m\u001b[0m\u001b[1;33m\u001b[0m\u001b[0m\n\u001b[0;32m     53\u001b[0m         layout_with_widgets = column(\n\u001b[1;32m---> 54\u001b[1;33m                             \u001b[0mcolumn\u001b[0m\u001b[1;33m(\u001b[0m\u001b[0mcheckbox_grp\u001b[0m\u001b[1;33m)\u001b[0m\u001b[1;33m,\u001b[0m\u001b[0mcolumn\u001b[0m\u001b[1;33m(\u001b[0m\u001b[0mrow\u001b[0m\u001b[1;33m(\u001b[0m\u001b[0map\u001b[0m\u001b[1;33m,\u001b[0m\u001b[0mp\u001b[0m\u001b[1;33m)\u001b[0m\u001b[1;33m)\u001b[0m\u001b[1;33m,\u001b[0m\u001b[1;33m\u001b[0m\u001b[1;33m\u001b[0m\u001b[0m\n\u001b[0m\u001b[0;32m     55\u001b[0m                             row(column(data_table)))\n\u001b[0;32m     56\u001b[0m         \u001b[0msave\u001b[0m\u001b[1;33m(\u001b[0m\u001b[0mobj\u001b[0m\u001b[1;33m=\u001b[0m\u001b[0mlayout_with_widgets\u001b[0m\u001b[1;33m,\u001b[0m \u001b[0mfilename\u001b[0m\u001b[1;33m=\u001b[0m\u001b[1;34mf'{column}Final.html'\u001b[0m\u001b[1;33m)\u001b[0m\u001b[1;33m\u001b[0m\u001b[1;33m\u001b[0m\u001b[0m\n",
      "\u001b[1;31mTypeError\u001b[0m: 'str' object is not callable"
     ]
    }
   ],
   "source": [
    "make__graph()"
   ]
  },
  {
   "cell_type": "code",
   "execution_count": 51,
   "metadata": {},
   "outputs": [],
   "source": [
    "layout_with_widgets = column(\n",
    "                            column(ap,p),\n",
    "                            row(column(data_table)))\n"
   ]
  },
  {
   "cell_type": "code",
   "execution_count": 54,
   "metadata": {},
   "outputs": [
    {
     "output_type": "error",
     "ename": "RuntimeError",
     "evalue": "Models must be owned by only a single document, HelpTool(id='3218', ...) is already in a doc",
     "traceback": [
      "\u001b[1;31m---------------------------------------------------------------------------\u001b[0m",
      "\u001b[1;31mRuntimeError\u001b[0m                              Traceback (most recent call last)",
      "\u001b[1;32m<ipython-input-54-a0df2fd92545>\u001b[0m in \u001b[0;36m<module>\u001b[1;34m\u001b[0m\n\u001b[0;32m      2\u001b[0m                             \u001b[0mcolumn\u001b[0m\u001b[1;33m(\u001b[0m\u001b[0mcheckbox_grp\u001b[0m\u001b[1;33m)\u001b[0m\u001b[1;33m,\u001b[0m\u001b[0mcolumn\u001b[0m\u001b[1;33m(\u001b[0m\u001b[0mrow\u001b[0m\u001b[1;33m(\u001b[0m\u001b[0map\u001b[0m\u001b[1;33m,\u001b[0m\u001b[0mp\u001b[0m\u001b[1;33m)\u001b[0m\u001b[1;33m)\u001b[0m\u001b[1;33m,\u001b[0m\u001b[1;33m\u001b[0m\u001b[1;33m\u001b[0m\u001b[0m\n\u001b[0;32m      3\u001b[0m                             row(column(data_table)))\n\u001b[1;32m----> 4\u001b[1;33m \u001b[0mshow\u001b[0m\u001b[1;33m(\u001b[0m\u001b[0mlayout_with_widgets\u001b[0m\u001b[1;33m)\u001b[0m\u001b[1;33m\u001b[0m\u001b[1;33m\u001b[0m\u001b[0m\n\u001b[0m",
      "\u001b[1;32m~\\miniconda3\\lib\\site-packages\\bokeh\\io\\showing.py\u001b[0m in \u001b[0;36mshow\u001b[1;34m(obj, browser, new, notebook_handle, notebook_url, **kw)\u001b[0m\n\u001b[0;32m    137\u001b[0m         \u001b[1;32mreturn\u001b[0m \u001b[0mrun_notebook_hook\u001b[0m\u001b[1;33m(\u001b[0m\u001b[0mstate\u001b[0m\u001b[1;33m.\u001b[0m\u001b[0mnotebook_type\u001b[0m\u001b[1;33m,\u001b[0m \u001b[1;34m'app'\u001b[0m\u001b[1;33m,\u001b[0m \u001b[0mobj\u001b[0m\u001b[1;33m,\u001b[0m \u001b[0mstate\u001b[0m\u001b[1;33m,\u001b[0m \u001b[0mnotebook_url\u001b[0m\u001b[1;33m,\u001b[0m \u001b[1;33m**\u001b[0m\u001b[0mkw\u001b[0m\u001b[1;33m)\u001b[0m\u001b[1;33m\u001b[0m\u001b[1;33m\u001b[0m\u001b[0m\n\u001b[0;32m    138\u001b[0m \u001b[1;33m\u001b[0m\u001b[0m\n\u001b[1;32m--> 139\u001b[1;33m     \u001b[1;32mreturn\u001b[0m \u001b[0m_show_with_state\u001b[0m\u001b[1;33m(\u001b[0m\u001b[0mobj\u001b[0m\u001b[1;33m,\u001b[0m \u001b[0mstate\u001b[0m\u001b[1;33m,\u001b[0m \u001b[0mbrowser\u001b[0m\u001b[1;33m,\u001b[0m \u001b[0mnew\u001b[0m\u001b[1;33m,\u001b[0m \u001b[0mnotebook_handle\u001b[0m\u001b[1;33m=\u001b[0m\u001b[0mnotebook_handle\u001b[0m\u001b[1;33m)\u001b[0m\u001b[1;33m\u001b[0m\u001b[1;33m\u001b[0m\u001b[0m\n\u001b[0m\u001b[0;32m    140\u001b[0m \u001b[1;33m\u001b[0m\u001b[0m\n\u001b[0;32m    141\u001b[0m \u001b[1;31m#-----------------------------------------------------------------------------\u001b[0m\u001b[1;33m\u001b[0m\u001b[1;33m\u001b[0m\u001b[1;33m\u001b[0m\u001b[0m\n",
      "\u001b[1;32m~\\miniconda3\\lib\\site-packages\\bokeh\\io\\showing.py\u001b[0m in \u001b[0;36m_show_with_state\u001b[1;34m(obj, state, browser, new, notebook_handle)\u001b[0m\n\u001b[0;32m    175\u001b[0m \u001b[1;33m\u001b[0m\u001b[0m\n\u001b[0;32m    176\u001b[0m     \u001b[1;32mif\u001b[0m \u001b[0mstate\u001b[0m\u001b[1;33m.\u001b[0m\u001b[0mfile\u001b[0m \u001b[1;32mor\u001b[0m \u001b[1;32mnot\u001b[0m \u001b[0mshown\u001b[0m\u001b[1;33m:\u001b[0m\u001b[1;33m\u001b[0m\u001b[1;33m\u001b[0m\u001b[0m\n\u001b[1;32m--> 177\u001b[1;33m         \u001b[0m_show_file_with_state\u001b[0m\u001b[1;33m(\u001b[0m\u001b[0mobj\u001b[0m\u001b[1;33m,\u001b[0m \u001b[0mstate\u001b[0m\u001b[1;33m,\u001b[0m \u001b[0mnew\u001b[0m\u001b[1;33m,\u001b[0m \u001b[0mcontroller\u001b[0m\u001b[1;33m)\u001b[0m\u001b[1;33m\u001b[0m\u001b[1;33m\u001b[0m\u001b[0m\n\u001b[0m\u001b[0;32m    178\u001b[0m \u001b[1;33m\u001b[0m\u001b[0m\n\u001b[0;32m    179\u001b[0m     \u001b[1;32mreturn\u001b[0m \u001b[0mcomms_handle\u001b[0m\u001b[1;33m\u001b[0m\u001b[1;33m\u001b[0m\u001b[0m\n",
      "\u001b[1;32m~\\miniconda3\\lib\\site-packages\\bokeh\\io\\showing.py\u001b[0m in \u001b[0;36m_show_file_with_state\u001b[1;34m(obj, state, new, controller)\u001b[0m\n\u001b[0;32m    158\u001b[0m \u001b[1;33m\u001b[0m\u001b[0m\n\u001b[0;32m    159\u001b[0m     '''\n\u001b[1;32m--> 160\u001b[1;33m     \u001b[0mfilename\u001b[0m \u001b[1;33m=\u001b[0m \u001b[0msave\u001b[0m\u001b[1;33m(\u001b[0m\u001b[0mobj\u001b[0m\u001b[1;33m,\u001b[0m \u001b[0mstate\u001b[0m\u001b[1;33m=\u001b[0m\u001b[0mstate\u001b[0m\u001b[1;33m)\u001b[0m\u001b[1;33m\u001b[0m\u001b[1;33m\u001b[0m\u001b[0m\n\u001b[0m\u001b[0;32m    161\u001b[0m     \u001b[0mcontroller\u001b[0m\u001b[1;33m.\u001b[0m\u001b[0mopen\u001b[0m\u001b[1;33m(\u001b[0m\u001b[1;34m\"file://\"\u001b[0m \u001b[1;33m+\u001b[0m \u001b[0mfilename\u001b[0m\u001b[1;33m,\u001b[0m \u001b[0mnew\u001b[0m\u001b[1;33m=\u001b[0m\u001b[0mNEW_PARAM\u001b[0m\u001b[1;33m[\u001b[0m\u001b[0mnew\u001b[0m\u001b[1;33m]\u001b[0m\u001b[1;33m)\u001b[0m\u001b[1;33m\u001b[0m\u001b[1;33m\u001b[0m\u001b[0m\n\u001b[0;32m    162\u001b[0m \u001b[1;33m\u001b[0m\u001b[0m\n",
      "\u001b[1;32m~\\miniconda3\\lib\\site-packages\\bokeh\\io\\saving.py\u001b[0m in \u001b[0;36msave\u001b[1;34m(obj, filename, resources, title, template, state, **kwargs)\u001b[0m\n\u001b[0;32m     84\u001b[0m \u001b[1;33m\u001b[0m\u001b[0m\n\u001b[0;32m     85\u001b[0m     \u001b[0mfilename\u001b[0m\u001b[1;33m,\u001b[0m \u001b[0mresources\u001b[0m\u001b[1;33m,\u001b[0m \u001b[0mtitle\u001b[0m \u001b[1;33m=\u001b[0m \u001b[0m_get_save_args\u001b[0m\u001b[1;33m(\u001b[0m\u001b[0mstate\u001b[0m\u001b[1;33m,\u001b[0m \u001b[0mfilename\u001b[0m\u001b[1;33m,\u001b[0m \u001b[0mresources\u001b[0m\u001b[1;33m,\u001b[0m \u001b[0mtitle\u001b[0m\u001b[1;33m)\u001b[0m\u001b[1;33m\u001b[0m\u001b[1;33m\u001b[0m\u001b[0m\n\u001b[1;32m---> 86\u001b[1;33m     \u001b[0m_save_helper\u001b[0m\u001b[1;33m(\u001b[0m\u001b[0mobj\u001b[0m\u001b[1;33m,\u001b[0m \u001b[0mfilename\u001b[0m\u001b[1;33m,\u001b[0m \u001b[0mresources\u001b[0m\u001b[1;33m,\u001b[0m \u001b[0mtitle\u001b[0m\u001b[1;33m,\u001b[0m \u001b[0mtemplate\u001b[0m\u001b[1;33m,\u001b[0m \u001b[0mtheme\u001b[0m\u001b[1;33m)\u001b[0m\u001b[1;33m\u001b[0m\u001b[1;33m\u001b[0m\u001b[0m\n\u001b[0m\u001b[0;32m     87\u001b[0m     \u001b[1;32mreturn\u001b[0m \u001b[0mabspath\u001b[0m\u001b[1;33m(\u001b[0m\u001b[0mfilename\u001b[0m\u001b[1;33m)\u001b[0m\u001b[1;33m\u001b[0m\u001b[1;33m\u001b[0m\u001b[0m\n\u001b[0;32m     88\u001b[0m \u001b[1;33m\u001b[0m\u001b[0m\n",
      "\u001b[1;32m~\\miniconda3\\lib\\site-packages\\bokeh\\io\\saving.py\u001b[0m in \u001b[0;36m_save_helper\u001b[1;34m(obj, filename, resources, title, template, theme)\u001b[0m\n\u001b[0;32m    146\u001b[0m     '''\n\u001b[0;32m    147\u001b[0m     \u001b[1;32mfrom\u001b[0m \u001b[1;33m.\u001b[0m\u001b[1;33m.\u001b[0m\u001b[0membed\u001b[0m \u001b[1;32mimport\u001b[0m \u001b[0mfile_html\u001b[0m\u001b[1;33m\u001b[0m\u001b[1;33m\u001b[0m\u001b[0m\n\u001b[1;32m--> 148\u001b[1;33m     \u001b[0mhtml\u001b[0m \u001b[1;33m=\u001b[0m \u001b[0mfile_html\u001b[0m\u001b[1;33m(\u001b[0m\u001b[0mobj\u001b[0m\u001b[1;33m,\u001b[0m \u001b[0mresources\u001b[0m\u001b[1;33m,\u001b[0m \u001b[0mtitle\u001b[0m\u001b[1;33m=\u001b[0m\u001b[0mtitle\u001b[0m\u001b[1;33m,\u001b[0m \u001b[0mtemplate\u001b[0m\u001b[1;33m=\u001b[0m\u001b[0mtemplate\u001b[0m\u001b[1;33m,\u001b[0m \u001b[0mtheme\u001b[0m\u001b[1;33m=\u001b[0m\u001b[0mtheme\u001b[0m\u001b[1;33m)\u001b[0m\u001b[1;33m\u001b[0m\u001b[1;33m\u001b[0m\u001b[0m\n\u001b[0m\u001b[0;32m    149\u001b[0m \u001b[1;33m\u001b[0m\u001b[0m\n\u001b[0;32m    150\u001b[0m     \u001b[1;32mwith\u001b[0m \u001b[0mopen\u001b[0m\u001b[1;33m(\u001b[0m\u001b[0mfilename\u001b[0m\u001b[1;33m,\u001b[0m \u001b[0mmode\u001b[0m\u001b[1;33m=\u001b[0m\u001b[1;34m\"w\"\u001b[0m\u001b[1;33m,\u001b[0m \u001b[0mencoding\u001b[0m\u001b[1;33m=\u001b[0m\u001b[1;34m\"utf-8\"\u001b[0m\u001b[1;33m)\u001b[0m \u001b[1;32mas\u001b[0m \u001b[0mf\u001b[0m\u001b[1;33m:\u001b[0m\u001b[1;33m\u001b[0m\u001b[1;33m\u001b[0m\u001b[0m\n",
      "\u001b[1;32m~\\miniconda3\\lib\\site-packages\\bokeh\\embed\\standalone.py\u001b[0m in \u001b[0;36mfile_html\u001b[1;34m(models, resources, title, template, template_variables, theme, suppress_callback_warning, _always_new)\u001b[0m\n\u001b[0;32m    301\u001b[0m         \u001b[0mmodels_seq\u001b[0m \u001b[1;33m=\u001b[0m \u001b[0mmodels\u001b[0m\u001b[1;33m\u001b[0m\u001b[1;33m\u001b[0m\u001b[0m\n\u001b[0;32m    302\u001b[0m \u001b[1;33m\u001b[0m\u001b[0m\n\u001b[1;32m--> 303\u001b[1;33m     \u001b[1;32mwith\u001b[0m \u001b[0mOutputDocumentFor\u001b[0m\u001b[1;33m(\u001b[0m\u001b[0mmodels_seq\u001b[0m\u001b[1;33m,\u001b[0m \u001b[0mapply_theme\u001b[0m\u001b[1;33m=\u001b[0m\u001b[0mtheme\u001b[0m\u001b[1;33m,\u001b[0m \u001b[0malways_new\u001b[0m\u001b[1;33m=\u001b[0m\u001b[0m_always_new\u001b[0m\u001b[1;33m)\u001b[0m \u001b[1;32mas\u001b[0m \u001b[0mdoc\u001b[0m\u001b[1;33m:\u001b[0m\u001b[1;33m\u001b[0m\u001b[1;33m\u001b[0m\u001b[0m\n\u001b[0m\u001b[0;32m    304\u001b[0m         \u001b[1;33m(\u001b[0m\u001b[0mdocs_json\u001b[0m\u001b[1;33m,\u001b[0m \u001b[0mrender_items\u001b[0m\u001b[1;33m)\u001b[0m \u001b[1;33m=\u001b[0m \u001b[0mstandalone_docs_json_and_render_items\u001b[0m\u001b[1;33m(\u001b[0m\u001b[0mmodels_seq\u001b[0m\u001b[1;33m,\u001b[0m \u001b[0msuppress_callback_warning\u001b[0m\u001b[1;33m=\u001b[0m\u001b[0msuppress_callback_warning\u001b[0m\u001b[1;33m)\u001b[0m\u001b[1;33m\u001b[0m\u001b[1;33m\u001b[0m\u001b[0m\n\u001b[0;32m    305\u001b[0m         \u001b[0mtitle\u001b[0m \u001b[1;33m=\u001b[0m \u001b[0m_title_from_models\u001b[0m\u001b[1;33m(\u001b[0m\u001b[0mmodels_seq\u001b[0m\u001b[1;33m,\u001b[0m \u001b[0mtitle\u001b[0m\u001b[1;33m)\u001b[0m\u001b[1;33m\u001b[0m\u001b[1;33m\u001b[0m\u001b[0m\n",
      "\u001b[1;32m~\\miniconda3\\lib\\contextlib.py\u001b[0m in \u001b[0;36m__enter__\u001b[1;34m(self)\u001b[0m\n\u001b[0;32m    115\u001b[0m         \u001b[1;32mdel\u001b[0m \u001b[0mself\u001b[0m\u001b[1;33m.\u001b[0m\u001b[0margs\u001b[0m\u001b[1;33m,\u001b[0m \u001b[0mself\u001b[0m\u001b[1;33m.\u001b[0m\u001b[0mkwds\u001b[0m\u001b[1;33m,\u001b[0m \u001b[0mself\u001b[0m\u001b[1;33m.\u001b[0m\u001b[0mfunc\u001b[0m\u001b[1;33m\u001b[0m\u001b[1;33m\u001b[0m\u001b[0m\n\u001b[0;32m    116\u001b[0m         \u001b[1;32mtry\u001b[0m\u001b[1;33m:\u001b[0m\u001b[1;33m\u001b[0m\u001b[1;33m\u001b[0m\u001b[0m\n\u001b[1;32m--> 117\u001b[1;33m             \u001b[1;32mreturn\u001b[0m \u001b[0mnext\u001b[0m\u001b[1;33m(\u001b[0m\u001b[0mself\u001b[0m\u001b[1;33m.\u001b[0m\u001b[0mgen\u001b[0m\u001b[1;33m)\u001b[0m\u001b[1;33m\u001b[0m\u001b[1;33m\u001b[0m\u001b[0m\n\u001b[0m\u001b[0;32m    118\u001b[0m         \u001b[1;32mexcept\u001b[0m \u001b[0mStopIteration\u001b[0m\u001b[1;33m:\u001b[0m\u001b[1;33m\u001b[0m\u001b[1;33m\u001b[0m\u001b[0m\n\u001b[0;32m    119\u001b[0m             \u001b[1;32mraise\u001b[0m \u001b[0mRuntimeError\u001b[0m\u001b[1;33m(\u001b[0m\u001b[1;34m\"generator didn't yield\"\u001b[0m\u001b[1;33m)\u001b[0m \u001b[1;32mfrom\u001b[0m \u001b[1;32mNone\u001b[0m\u001b[1;33m\u001b[0m\u001b[1;33m\u001b[0m\u001b[0m\n",
      "\u001b[1;32m~\\miniconda3\\lib\\site-packages\\bokeh\\embed\\util.py\u001b[0m in \u001b[0;36mOutputDocumentFor\u001b[1;34m(objs, apply_theme, always_new)\u001b[0m\n\u001b[0;32m    132\u001b[0m             \u001b[0mdoc\u001b[0m \u001b[1;33m=\u001b[0m \u001b[0mDocument\u001b[0m\u001b[1;33m(\u001b[0m\u001b[1;33m)\u001b[0m\u001b[1;33m\u001b[0m\u001b[1;33m\u001b[0m\u001b[0m\n\u001b[0;32m    133\u001b[0m             \u001b[1;32mfor\u001b[0m \u001b[0mmodel\u001b[0m \u001b[1;32min\u001b[0m \u001b[0mobjs\u001b[0m\u001b[1;33m:\u001b[0m\u001b[1;33m\u001b[0m\u001b[1;33m\u001b[0m\u001b[0m\n\u001b[1;32m--> 134\u001b[1;33m                 \u001b[0mdoc\u001b[0m\u001b[1;33m.\u001b[0m\u001b[0madd_root\u001b[0m\u001b[1;33m(\u001b[0m\u001b[0mmodel\u001b[0m\u001b[1;33m)\u001b[0m\u001b[1;33m\u001b[0m\u001b[1;33m\u001b[0m\u001b[0m\n\u001b[0m\u001b[0;32m    135\u001b[0m \u001b[1;33m\u001b[0m\u001b[0m\n\u001b[0;32m    136\u001b[0m         \u001b[1;31m# handle a single shared document\u001b[0m\u001b[1;33m\u001b[0m\u001b[1;33m\u001b[0m\u001b[1;33m\u001b[0m\u001b[0m\n",
      "\u001b[1;32m~\\miniconda3\\lib\\site-packages\\bokeh\\document\\document.py\u001b[0m in \u001b[0;36madd_root\u001b[1;34m(self, model, setter)\u001b[0m\n\u001b[0;32m    319\u001b[0m             \u001b[0mself\u001b[0m\u001b[1;33m.\u001b[0m\u001b[0m_roots\u001b[0m\u001b[1;33m.\u001b[0m\u001b[0mappend\u001b[0m\u001b[1;33m(\u001b[0m\u001b[0mmodel\u001b[0m\u001b[1;33m)\u001b[0m\u001b[1;33m\u001b[0m\u001b[1;33m\u001b[0m\u001b[0m\n\u001b[0;32m    320\u001b[0m         \u001b[1;32mfinally\u001b[0m\u001b[1;33m:\u001b[0m\u001b[1;33m\u001b[0m\u001b[1;33m\u001b[0m\u001b[0m\n\u001b[1;32m--> 321\u001b[1;33m             \u001b[0mself\u001b[0m\u001b[1;33m.\u001b[0m\u001b[0m_pop_all_models_freeze\u001b[0m\u001b[1;33m(\u001b[0m\u001b[1;33m)\u001b[0m\u001b[1;33m\u001b[0m\u001b[1;33m\u001b[0m\u001b[0m\n\u001b[0m\u001b[0;32m    322\u001b[0m         \u001b[0mself\u001b[0m\u001b[1;33m.\u001b[0m\u001b[0m_trigger_on_change\u001b[0m\u001b[1;33m(\u001b[0m\u001b[0mRootAddedEvent\u001b[0m\u001b[1;33m(\u001b[0m\u001b[0mself\u001b[0m\u001b[1;33m,\u001b[0m \u001b[0mmodel\u001b[0m\u001b[1;33m,\u001b[0m \u001b[0msetter\u001b[0m\u001b[1;33m)\u001b[0m\u001b[1;33m)\u001b[0m\u001b[1;33m\u001b[0m\u001b[1;33m\u001b[0m\u001b[0m\n\u001b[0;32m    323\u001b[0m \u001b[1;33m\u001b[0m\u001b[0m\n",
      "\u001b[1;32m~\\miniconda3\\lib\\site-packages\\bokeh\\document\\document.py\u001b[0m in \u001b[0;36m_pop_all_models_freeze\u001b[1;34m(self)\u001b[0m\n\u001b[0;32m   1102\u001b[0m         \u001b[0mself\u001b[0m\u001b[1;33m.\u001b[0m\u001b[0m_all_models_freeze_count\u001b[0m \u001b[1;33m-=\u001b[0m \u001b[1;36m1\u001b[0m\u001b[1;33m\u001b[0m\u001b[1;33m\u001b[0m\u001b[0m\n\u001b[0;32m   1103\u001b[0m         \u001b[1;32mif\u001b[0m \u001b[0mself\u001b[0m\u001b[1;33m.\u001b[0m\u001b[0m_all_models_freeze_count\u001b[0m \u001b[1;33m==\u001b[0m \u001b[1;36m0\u001b[0m\u001b[1;33m:\u001b[0m\u001b[1;33m\u001b[0m\u001b[1;33m\u001b[0m\u001b[0m\n\u001b[1;32m-> 1104\u001b[1;33m             \u001b[0mself\u001b[0m\u001b[1;33m.\u001b[0m\u001b[0m_recompute_all_models\u001b[0m\u001b[1;33m(\u001b[0m\u001b[1;33m)\u001b[0m\u001b[1;33m\u001b[0m\u001b[1;33m\u001b[0m\u001b[0m\n\u001b[0m\u001b[0;32m   1105\u001b[0m \u001b[1;33m\u001b[0m\u001b[0m\n\u001b[0;32m   1106\u001b[0m     \u001b[1;32mdef\u001b[0m \u001b[0m_recompute_all_models\u001b[0m\u001b[1;33m(\u001b[0m\u001b[0mself\u001b[0m\u001b[1;33m)\u001b[0m\u001b[1;33m:\u001b[0m\u001b[1;33m\u001b[0m\u001b[1;33m\u001b[0m\u001b[0m\n",
      "\u001b[1;32m~\\miniconda3\\lib\\site-packages\\bokeh\\document\\document.py\u001b[0m in \u001b[0;36m_recompute_all_models\u001b[1;34m(self)\u001b[0m\n\u001b[0;32m   1125\u001b[0m             \u001b[0md\u001b[0m\u001b[1;33m.\u001b[0m\u001b[0m_detach_document\u001b[0m\u001b[1;33m(\u001b[0m\u001b[1;33m)\u001b[0m\u001b[1;33m\u001b[0m\u001b[1;33m\u001b[0m\u001b[0m\n\u001b[0;32m   1126\u001b[0m         \u001b[1;32mfor\u001b[0m \u001b[0ma\u001b[0m \u001b[1;32min\u001b[0m \u001b[0mto_attach\u001b[0m\u001b[1;33m:\u001b[0m\u001b[1;33m\u001b[0m\u001b[1;33m\u001b[0m\u001b[0m\n\u001b[1;32m-> 1127\u001b[1;33m             \u001b[0ma\u001b[0m\u001b[1;33m.\u001b[0m\u001b[0m_attach_document\u001b[0m\u001b[1;33m(\u001b[0m\u001b[0mself\u001b[0m\u001b[1;33m)\u001b[0m\u001b[1;33m\u001b[0m\u001b[1;33m\u001b[0m\u001b[0m\n\u001b[0m\u001b[0;32m   1128\u001b[0m         \u001b[0mself\u001b[0m\u001b[1;33m.\u001b[0m\u001b[0m_all_models\u001b[0m \u001b[1;33m=\u001b[0m \u001b[0mrecomputed\u001b[0m\u001b[1;33m\u001b[0m\u001b[1;33m\u001b[0m\u001b[0m\n\u001b[0;32m   1129\u001b[0m         \u001b[0mself\u001b[0m\u001b[1;33m.\u001b[0m\u001b[0m_all_models_by_name\u001b[0m \u001b[1;33m=\u001b[0m \u001b[0mrecomputed_by_name\u001b[0m\u001b[1;33m\u001b[0m\u001b[1;33m\u001b[0m\u001b[0m\n",
      "\u001b[1;32m~\\miniconda3\\lib\\site-packages\\bokeh\\model.py\u001b[0m in \u001b[0;36m_attach_document\u001b[1;34m(self, doc)\u001b[0m\n\u001b[0;32m    690\u001b[0m         '''\n\u001b[0;32m    691\u001b[0m         \u001b[1;32mif\u001b[0m \u001b[0mself\u001b[0m\u001b[1;33m.\u001b[0m\u001b[0m_document\u001b[0m \u001b[1;32mis\u001b[0m \u001b[1;32mnot\u001b[0m \u001b[1;32mNone\u001b[0m \u001b[1;32mand\u001b[0m \u001b[0mself\u001b[0m\u001b[1;33m.\u001b[0m\u001b[0m_document\u001b[0m \u001b[1;32mis\u001b[0m \u001b[1;32mnot\u001b[0m \u001b[0mdoc\u001b[0m\u001b[1;33m:\u001b[0m\u001b[1;33m\u001b[0m\u001b[1;33m\u001b[0m\u001b[0m\n\u001b[1;32m--> 692\u001b[1;33m             \u001b[1;32mraise\u001b[0m \u001b[0mRuntimeError\u001b[0m\u001b[1;33m(\u001b[0m\u001b[1;34m\"Models must be owned by only a single document, %r is already in a doc\"\u001b[0m \u001b[1;33m%\u001b[0m \u001b[1;33m(\u001b[0m\u001b[0mself\u001b[0m\u001b[1;33m)\u001b[0m\u001b[1;33m)\u001b[0m\u001b[1;33m\u001b[0m\u001b[1;33m\u001b[0m\u001b[0m\n\u001b[0m\u001b[0;32m    693\u001b[0m         \u001b[0mdoc\u001b[0m\u001b[1;33m.\u001b[0m\u001b[0mtheme\u001b[0m\u001b[1;33m.\u001b[0m\u001b[0mapply_to_model\u001b[0m\u001b[1;33m(\u001b[0m\u001b[0mself\u001b[0m\u001b[1;33m)\u001b[0m\u001b[1;33m\u001b[0m\u001b[1;33m\u001b[0m\u001b[0m\n\u001b[0;32m    694\u001b[0m         \u001b[0mself\u001b[0m\u001b[1;33m.\u001b[0m\u001b[0m_document\u001b[0m \u001b[1;33m=\u001b[0m \u001b[0mdoc\u001b[0m\u001b[1;33m\u001b[0m\u001b[1;33m\u001b[0m\u001b[0m\n",
      "\u001b[1;31mRuntimeError\u001b[0m: Models must be owned by only a single document, HelpTool(id='3218', ...) is already in a doc"
     ]
    }
   ],
   "source": [
    "layout_with_widgets = column(\n",
    "                            column(checkbox_grp),column(row(ap,p)),\n",
    "                            row(column(data_table)))\n",
    "show(layout_with_widgets)"
   ]
  },
  {
   "cell_type": "code",
   "execution_count": 14,
   "metadata": {},
   "outputs": [],
   "source": [
    "def make_line_graph():\n",
    "    columns = ['SEOUL', 'PUSAN', 'DEAGU', 'INCHEON', 'KWANG_JU', 'DAEJEON', 'ULSAN',\n",
    "       'KYEONG_GI', 'KANGONE', 'CHUNG_BUK', 'CHUNG_NAM', 'JEON_BUK',\n",
    "       'JEON_NAM', 'KYUNG_BUK', 'KYUNG_NAM', 'JE_JU', 'SEJONG']\n",
    "\n",
    "    for column in columns:\n",
    "        globals()[f'{column}FINAL_LINEG'] = figure(\n",
    "            plot_width=500, plot_height=400, \n",
    "            x_axis_type='datetime', output_backend=\"svg\",\n",
    "            sizing_mode='stretch_width', \n",
    "            title=f\"{column}'s PM2.5\")\n",
    "        globals()[f'{column}FINAL_LINEG'].line(\n",
    "            globals()[f'{column}FINAL_cop']['DATE'],\n",
    "            globals()[f'{column}FINAL_cop']['PM2.5'],\n",
    "            color='navy',\n",
    "            alpha=0.7 )"
   ]
  },
  {
   "cell_type": "code",
   "execution_count": 15,
   "metadata": {},
   "outputs": [],
   "source": [
    "make_line_graph()"
   ]
  },
  {
   "cell_type": "code",
   "execution_count": 20,
   "metadata": {},
   "outputs": [],
   "source": [
    "show(SEJONGFINAL_LINEG)"
   ]
  },
  {
   "cell_type": "code",
   "execution_count": 19,
   "metadata": {},
   "outputs": [
    {
     "output_type": "execute_result",
     "data": {
      "text/plain": [
       "          DATE  PM10  PM2.5   CO    NO2     O3    SO2  CENTIGRADE  \\\n",
       "0   2021-06-22    28     19  0.4  0.012  0.035  0.003        24.0   \n",
       "1   2021-06-21    32     20  0.4  0.012  0.050  0.003        24.0   \n",
       "2   2021-06-20    35     22  0.4  0.007  0.051  0.003        24.0   \n",
       "3   2021-06-19    28     16  0.4  0.007  0.051  0.003        23.1   \n",
       "4   2021-06-18    13      8  0.3  0.008  0.031  0.003        21.3   \n",
       "..         ...   ...    ...  ...    ...    ...    ...         ...   \n",
       "443 2020-04-05    32     11  0.3  0.009  0.041  0.003         7.8   \n",
       "444 2020-04-04    69     24  0.4  0.015  0.039  0.003         8.9   \n",
       "445 2020-04-03    47     28  0.5  0.019  0.042  0.004        10.9   \n",
       "446 2020-04-02    41     20  0.4  0.015  0.039  0.003        10.6   \n",
       "447 2020-04-01    43     21  0.4  0.013  0.042  0.003        10.7   \n",
       "\n",
       "     PRECIPITATION  WIND SPEED  RELATIVE HUMIDITY  \n",
       "0              0.0         1.4               30.0  \n",
       "1              0.0         1.4               30.0  \n",
       "2              0.0         1.4               30.0  \n",
       "3              0.0         0.6               36.0  \n",
       "4              4.1         0.7               91.0  \n",
       "..             ...         ...                ...  \n",
       "443            0.0         1.7               37.1  \n",
       "444            0.0         1.8               45.6  \n",
       "445            0.0         1.3               35.9  \n",
       "446            0.0         1.3               42.5  \n",
       "447            0.0         1.9               50.1  \n",
       "\n",
       "[448 rows x 11 columns]"
      ],
      "text/html": "<div>\n<style scoped>\n    .dataframe tbody tr th:only-of-type {\n        vertical-align: middle;\n    }\n\n    .dataframe tbody tr th {\n        vertical-align: top;\n    }\n\n    .dataframe thead th {\n        text-align: right;\n    }\n</style>\n<table border=\"1\" class=\"dataframe\">\n  <thead>\n    <tr style=\"text-align: right;\">\n      <th></th>\n      <th>DATE</th>\n      <th>PM10</th>\n      <th>PM2.5</th>\n      <th>CO</th>\n      <th>NO2</th>\n      <th>O3</th>\n      <th>SO2</th>\n      <th>CENTIGRADE</th>\n      <th>PRECIPITATION</th>\n      <th>WIND SPEED</th>\n      <th>RELATIVE HUMIDITY</th>\n    </tr>\n  </thead>\n  <tbody>\n    <tr>\n      <th>0</th>\n      <td>2021-06-22</td>\n      <td>28</td>\n      <td>19</td>\n      <td>0.4</td>\n      <td>0.012</td>\n      <td>0.035</td>\n      <td>0.003</td>\n      <td>24.0</td>\n      <td>0.0</td>\n      <td>1.4</td>\n      <td>30.0</td>\n    </tr>\n    <tr>\n      <th>1</th>\n      <td>2021-06-21</td>\n      <td>32</td>\n      <td>20</td>\n      <td>0.4</td>\n      <td>0.012</td>\n      <td>0.050</td>\n      <td>0.003</td>\n      <td>24.0</td>\n      <td>0.0</td>\n      <td>1.4</td>\n      <td>30.0</td>\n    </tr>\n    <tr>\n      <th>2</th>\n      <td>2021-06-20</td>\n      <td>35</td>\n      <td>22</td>\n      <td>0.4</td>\n      <td>0.007</td>\n      <td>0.051</td>\n      <td>0.003</td>\n      <td>24.0</td>\n      <td>0.0</td>\n      <td>1.4</td>\n      <td>30.0</td>\n    </tr>\n    <tr>\n      <th>3</th>\n      <td>2021-06-19</td>\n      <td>28</td>\n      <td>16</td>\n      <td>0.4</td>\n      <td>0.007</td>\n      <td>0.051</td>\n      <td>0.003</td>\n      <td>23.1</td>\n      <td>0.0</td>\n      <td>0.6</td>\n      <td>36.0</td>\n    </tr>\n    <tr>\n      <th>4</th>\n      <td>2021-06-18</td>\n      <td>13</td>\n      <td>8</td>\n      <td>0.3</td>\n      <td>0.008</td>\n      <td>0.031</td>\n      <td>0.003</td>\n      <td>21.3</td>\n      <td>4.1</td>\n      <td>0.7</td>\n      <td>91.0</td>\n    </tr>\n    <tr>\n      <th>...</th>\n      <td>...</td>\n      <td>...</td>\n      <td>...</td>\n      <td>...</td>\n      <td>...</td>\n      <td>...</td>\n      <td>...</td>\n      <td>...</td>\n      <td>...</td>\n      <td>...</td>\n      <td>...</td>\n    </tr>\n    <tr>\n      <th>443</th>\n      <td>2020-04-05</td>\n      <td>32</td>\n      <td>11</td>\n      <td>0.3</td>\n      <td>0.009</td>\n      <td>0.041</td>\n      <td>0.003</td>\n      <td>7.8</td>\n      <td>0.0</td>\n      <td>1.7</td>\n      <td>37.1</td>\n    </tr>\n    <tr>\n      <th>444</th>\n      <td>2020-04-04</td>\n      <td>69</td>\n      <td>24</td>\n      <td>0.4</td>\n      <td>0.015</td>\n      <td>0.039</td>\n      <td>0.003</td>\n      <td>8.9</td>\n      <td>0.0</td>\n      <td>1.8</td>\n      <td>45.6</td>\n    </tr>\n    <tr>\n      <th>445</th>\n      <td>2020-04-03</td>\n      <td>47</td>\n      <td>28</td>\n      <td>0.5</td>\n      <td>0.019</td>\n      <td>0.042</td>\n      <td>0.004</td>\n      <td>10.9</td>\n      <td>0.0</td>\n      <td>1.3</td>\n      <td>35.9</td>\n    </tr>\n    <tr>\n      <th>446</th>\n      <td>2020-04-02</td>\n      <td>41</td>\n      <td>20</td>\n      <td>0.4</td>\n      <td>0.015</td>\n      <td>0.039</td>\n      <td>0.003</td>\n      <td>10.6</td>\n      <td>0.0</td>\n      <td>1.3</td>\n      <td>42.5</td>\n    </tr>\n    <tr>\n      <th>447</th>\n      <td>2020-04-01</td>\n      <td>43</td>\n      <td>21</td>\n      <td>0.4</td>\n      <td>0.013</td>\n      <td>0.042</td>\n      <td>0.003</td>\n      <td>10.7</td>\n      <td>0.0</td>\n      <td>1.9</td>\n      <td>50.1</td>\n    </tr>\n  </tbody>\n</table>\n<p>448 rows × 11 columns</p>\n</div>"
     },
     "metadata": {},
     "execution_count": 19
    }
   ],
   "source": [
    "KWANG_JUFINAL_cop"
   ]
  },
  {
   "cell_type": "code",
   "execution_count": 19,
   "metadata": {},
   "outputs": [
    {
     "output_type": "stream",
     "name": "stdout",
     "text": [
      "['SEOULFINAL', 'PUSANFINAL', 'DEAGUFINAL', 'INCHEONFINAL', 'KWANG_JUFINAL', 'DAEJEONFINAL', 'ULSANFINAL', 'KYEONG_GIFINAL', 'KANGONEFINAL', 'CHUNG_BUKFINAL', 'CHUNG_NAMFINAL', 'JEON_BUKFINAL', 'JEON_NAMFINAL', 'KYUNG_BUKFINAL', 'KYUNG_NAMFINAL', 'JE_JUFINAL', 'SEJONGFINAL']\n"
     ]
    }
   ],
   "source": [
    "Columns = ['SEOUL', 'PUSAN', 'DEAGU', 'INCHEON', 'KWANG_JU', 'DAEJEON', 'ULSAN',\n",
    "       'KYEONG_GI', 'KANGONE', 'CHUNG_BUK', 'CHUNG_NAM', 'JEON_BUK',\n",
    "       'JEON_NAM', 'KYUNG_BUK', 'KYUNG_NAM', 'JE_JU', 'SEJONG']\n",
    "aaaa = list()\n",
    "for i in Columns:\n",
    "    aaaa.append(i+'FINAL')\n",
    "    \n",
    "print(aaaa)"
   ]
  },
  {
   "cell_type": "code",
   "execution_count": 23,
   "metadata": {},
   "outputs": [
    {
     "output_type": "stream",
     "name": "stdout",
     "text": [
      "C:/Users/ad/Desktop/test/fin/SEOULFIN.xlsx\n",
      "C:/Users/ad/Desktop/test/fin/PUSANFIN.xlsx\n",
      "C:/Users/ad/Desktop/test/fin/DEAGUFIN.xlsx\n",
      "C:/Users/ad/Desktop/test/fin/INCHEONFIN.xlsx\n",
      "C:/Users/ad/Desktop/test/fin/KWANG_JUFIN.xlsx\n",
      "C:/Users/ad/Desktop/test/fin/DAEJEONFIN.xlsx\n",
      "C:/Users/ad/Desktop/test/fin/ULSANFIN.xlsx\n",
      "C:/Users/ad/Desktop/test/fin/KYEONG_GIFIN.xlsx\n",
      "C:/Users/ad/Desktop/test/fin/KANGONEFIN.xlsx\n",
      "C:/Users/ad/Desktop/test/fin/CHUNG_BUKFIN.xlsx\n",
      "C:/Users/ad/Desktop/test/fin/CHUNG_NAMFIN.xlsx\n",
      "C:/Users/ad/Desktop/test/fin/JEON_BUKFIN.xlsx\n",
      "C:/Users/ad/Desktop/test/fin/JEON_NAMFIN.xlsx\n",
      "C:/Users/ad/Desktop/test/fin/KYUNG_BUKFIN.xlsx\n",
      "C:/Users/ad/Desktop/test/fin/KYUNG_NAMFIN.xlsx\n",
      "C:/Users/ad/Desktop/test/fin/JE_JUFIN.xlsx\n",
      "C:/Users/ad/Desktop/test/fin/SEJONGFIN.xlsx\n"
     ]
    }
   ],
   "source": [
    "\n",
    "import pandas as pd \n",
    "import numpy as np\n",
    "import bokeh\n",
    "import webbrowser\n",
    "from bokeh.io import output_notebook, show, save, output_notebook, curdoc, output_file\n",
    "from bokeh.plotting import figure, show\n",
    "from bokeh.models import Select, CheckboxButtonGroup, ColumnDataSource, DataTable, TableColumn, WMTSTileSource, FactorRange, PanTool\n",
    "from bokeh.models import BoxZoomTool, PanTool, ResetTool\n",
    "from bokeh.layouts import row, column\n",
    "from bokeh.resources import INLINE\n",
    "from bokeh.models import *\n",
    "from bokeh.plotting import *\n",
    "from bokeh.io import *\n",
    "from bokeh.tile_providers import *\n",
    "from bokeh.palettes import *\n",
    "from bokeh.transform import *\n",
    "from bokeh.layouts import *\n",
    "# 최종파일 오픈 최종\n",
    "\n",
    "def finalopen(a):\n",
    "    filepath = f'C:/Users/ad/Desktop/test/fin/{a}FIN.xlsx'\n",
    "    excel_df = pd.read_excel(filepath)\n",
    "    print (filepath)\n",
    "    return(excel_df)\n",
    "    \n",
    "columns = ['SEOUL', 'PUSAN', 'DEAGU', 'INCHEON', 'KWANG_JU', 'DAEJEON', 'ULSAN',\n",
    "       'KYEONG_GI', 'KANGONE', 'CHUNG_BUK', 'CHUNG_NAM', 'JEON_BUK',\n",
    "       'JEON_NAM', 'KYUNG_BUK', 'KYUNG_NAM', 'JE_JU', 'SEJONG']\n",
    "\n",
    "for column in columns:\n",
    "     globals()[f'{column}FINAL'] = finalopen(column)\n",
    "     globals()[f'{column}FINAL_cop'] = globals()[f'{column}FINAL'].copy()\n",
    "     globals()[f'{column}FINAL_cop']['DATE'] = pd.to_datetime(globals()[f'{column}FINAL_cop']['DATE'])"
   ]
  },
  {
   "cell_type": "code",
   "execution_count": 27,
   "metadata": {},
   "outputs": [
    {
     "output_type": "error",
     "ename": "NameError",
     "evalue": "name 'checkbox_grp' is not defined",
     "traceback": [
      "\u001b[1;31m---------------------------------------------------------------------------\u001b[0m",
      "\u001b[1;31mNameError\u001b[0m                                 Traceback (most recent call last)",
      "\u001b[1;32m<ipython-input-27-3e67da0e9f38>\u001b[0m in \u001b[0;36m<module>\u001b[1;34m\u001b[0m\n\u001b[0;32m     46\u001b[0m \u001b[1;31m# 3개 병합\u001b[0m\u001b[1;33m\u001b[0m\u001b[1;33m\u001b[0m\u001b[1;33m\u001b[0m\u001b[0m\n\u001b[0;32m     47\u001b[0m layout_with_widgets = column(\n\u001b[1;32m---> 48\u001b[1;33m                             \u001b[0mcolumn\u001b[0m\u001b[1;33m(\u001b[0m\u001b[0mcheckbox_grp\u001b[0m\u001b[1;33m)\u001b[0m\u001b[1;33m,\u001b[0m\u001b[0mcolumn\u001b[0m\u001b[1;33m(\u001b[0m\u001b[0mrow\u001b[0m\u001b[1;33m(\u001b[0m\u001b[0map\u001b[0m\u001b[1;33m,\u001b[0m\u001b[0mp\u001b[0m\u001b[1;33m)\u001b[0m\u001b[1;33m)\u001b[0m\u001b[1;33m,\u001b[0m\u001b[1;33m\u001b[0m\u001b[1;33m\u001b[0m\u001b[0m\n\u001b[0m\u001b[0;32m     49\u001b[0m                             row(column(data_table)))\n\u001b[0;32m     50\u001b[0m \u001b[1;31m#show(checkbox_grp)\u001b[0m\u001b[1;33m\u001b[0m\u001b[1;33m\u001b[0m\u001b[1;33m\u001b[0m\u001b[0m\n",
      "\u001b[1;31mNameError\u001b[0m: name 'checkbox_grp' is not defined"
     ]
    }
   ],
   "source": []
  },
  {
   "cell_type": "code",
   "execution_count": 32,
   "metadata": {},
   "outputs": [
    {
     "output_type": "execute_result",
     "data": {
      "text/plain": [
       "True"
      ]
     },
     "metadata": {},
     "execution_count": 32
    }
   ],
   "source": [
    "#----------------------------------------------------------------------\n",
    "\n",
    "ap = figure(plot_width=700, plot_height=400, x_axis_type='datetime', output_backend=\"svg\",sizing_mode='stretch_width', title='SEOUL')\n",
    "ap.line(SEOULFINAL_cop['DATE'], SEOULFINAL_cop['PM2.5'], color='navy', alpha=0.5)\n",
    "\n",
    "# 표\n",
    "source = ColumnDataSource(SEOULFINAL)\n",
    "columns = [ TableColumn( field=col, title=col ) for col in SEOULFINAL.columns ]\n",
    "data_table = DataTable(source=source, columns = columns, background='red',width=1300,sizing_mode='scale_both' )\n",
    "\n",
    "\n",
    "# 3일 평균\n",
    "tdata = SEOULFINAL['DATE'].to_list()[:3]\n",
    "tvalue = SEOULFINAL[['PM10','PM2.5','CO','CENTIGRADE','PRECIPITATION']][:3]\n",
    "\n",
    "data = {\n",
    "        'PM10'   : SEOULFINAL_cop['PM10'].to_list()[:3],\n",
    "        'PM2.5'  : SEOULFINAL_cop['PM2.5'].to_list()[:3],\n",
    "        'CO'     : SEOULFINAL_cop['CO'].to_list()[:3],\n",
    "        'C'      : SEOULFINAL_cop['CENTIGRADE'].to_list()[:3],\n",
    "        'PPTN'   : SEOULFINAL_cop['PRECIPITATION'].to_list()[:3]\n",
    "        }\n",
    "\n",
    "# this creates [ (\"Apples\", \"2015\"), (\"Apples\", \"2016\"), (\"Apples\", \"2017\"), (\"Pears\", \"2015), ... ]\n",
    "x = [ (tdat, tval) for tdat in tdata for tval in tvalue ]\n",
    "counts = sum(zip(data['PM10'], data['PM2.5'], data['CO'], data['C'], data['PPTN']), ()) # like an hstack\n",
    "\n",
    "source = ColumnDataSource(data=dict(x=x, counts=counts))\n",
    "\n",
    "p = figure(\n",
    "    x_range=FactorRange(*x), \n",
    "    plot_height=400,\n",
    "    plot_width=630, \n",
    "    title=\"Change in Seoul for the last three days\",\n",
    "    #toolbar_location=None,\n",
    "    tools=\"xwheel_pan, reset\"\n",
    "    )\n",
    "\n",
    "p.vbar(x='x', top='counts', width=0.9, source=source)\n",
    "\n",
    "p.y_range.start = 0\n",
    "p.x_range.range_padding = 0.01\n",
    "p.xaxis.major_label_orientation = 1\n",
    "#p.xgrid.grid_line_color = None\n",
    "p.add_tools(PanTool(dimensions=\"width\"))\n",
    "# 3개 병합\n",
    "layout_with_widgets = column(\n",
    "                            column(row(ap,p)),\n",
    "                            row(column(data_table)))\n",
    "#show(checkbox_grp)\n",
    "#show(ap)\n",
    "#show(scatter)\n",
    "#show(data_table)\n",
    "#show(layout_with_widgets)\n",
    "save(obj=layout_with_widgets, filename='SEOUL.html')\n",
    "webbrowser.open('layout_with_widgets.html')"
   ]
  },
  {
   "cell_type": "code",
   "execution_count": null,
   "metadata": {},
   "outputs": [],
   "source": []
  }
 ]
}