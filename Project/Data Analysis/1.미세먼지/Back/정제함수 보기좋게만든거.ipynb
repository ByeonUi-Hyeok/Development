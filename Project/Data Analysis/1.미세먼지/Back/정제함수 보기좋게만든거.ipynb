{
 "metadata": {
  "language_info": {
   "codemirror_mode": {
    "name": "ipython",
    "version": 3
   },
   "file_extension": ".py",
   "mimetype": "text/x-python",
   "name": "python",
   "nbconvert_exporter": "python",
   "pygments_lexer": "ipython3",
   "version": "3.9.1"
  },
  "orig_nbformat": 4,
  "kernelspec": {
   "name": "python3",
   "display_name": "Python 3.9.1 64-bit ('base': conda)"
  },
  "interpreter": {
   "hash": "26cbe81f990c700cacc7344ce939feb35388ff5140935024bac84d606131ac1b"
  }
 },
 "nbformat": 4,
 "nbformat_minor": 2,
 "cells": [
  {
   "cell_type": "code",
   "execution_count": 231,
   "metadata": {},
   "outputs": [],
   "source": [
    "# from numpy import append\n",
    "# import pandas as pd\n",
    "# import datetime\n",
    "\n",
    "# RENAME_ALL = {\n",
    "#     '서울':'SEOUL', '부산':'PUSAN', '대구':'DEAGU', '인천':'INCHEON', '광주':'KWANG_JU', '대전':'DAEJEON',\n",
    "#     '울산':'ULSAN', '경기':'KYEONG_GI', '강원':'KANGONE', '충북':'CHUNG_BUK', '충남':'CHUNG_NAM', '전북':'JEON_BUK',\n",
    "#     '전남':'JEON_NAM', '경북':'KYUNG_BUK','경남':'KYUNG_NAM','제주':'JE_JU','세종':'SEJONG'}\n",
    "\n",
    "# def excelappend(aa, yy, mm):\n",
    "#     '''\n",
    "#     aa = 파일경로\n",
    "#     yy = 년도 4자리(ex: 2020)\n",
    "#     mm = 월 2자리 (ex : 01, 11, 12)\n",
    "#     '''\n",
    "#     filepath = f'C:/Users/minipojectweb/data/{aa}/{yy}{mm}.xls' \n",
    "#     excel_df = pd.read_excel(filepath, header=3)\n",
    "#     print (filepath)\n",
    "#     return(excel_df)\n",
    "\n",
    "# def appendname(aa):\n",
    "#     '''\n",
    "#     aa는 excelappend의 aa (파일 경로를 뜻함)\n",
    "#     '''\n",
    "#     CURRENTTIME = datetime.datetime.today()                        # 오늘 날짜 / 시간 /초\n",
    "#     CURRENTTIME = int(CURRENTTIME.strftime('%m'))                  # 오늘 날짜의 월을 추출\n",
    "#     globals()[f'{aa}DF'] = pd.DataFrame()\n",
    "#     for yy in [2020, 2021]:                                        # 년도는 2020, 2021 두개\n",
    "#         for mm in range (1, 13):                                   # 월은 1~12\n",
    "#             if yy == 2020 and mm < 4 or yy == 2021 and mm > CURRENTTIME : # 2020 1~3월/ 2021 현재월보다 크면 제외\n",
    "#                 print(f'{yy}{str(mm).zfill(2)} fail')\n",
    "#             else:    \n",
    "#                 temp = excelappend(aa, str(yy), str(mm).zfill(2))          # zfill 문자열의 빈칸을 0으로 채워줌\n",
    "#                 globals()[f'{aa}DF'] = globals()[f'{aa}DF'].append(temp, ignore_index=True)\n",
    "#                 print(f'{aa} {yy}{str(mm).zfill(2)} success')\n",
    "\n",
    "#     globals()[f'{aa}DF'].sort_values( by = '날짜', ascending=False, inplace=True)\n",
    "#     save_PATH = f'C:/Users/ad/Desktop/tot/test/KOR_{aa}' # 저장경로\n",
    "#     globals()[f'{aa}DF'].to_excel(save_PATH + '.xlsx', index=False)\n",
    "#     globals()[f'{aa}DF'].to_csv(save_PATH + '.csv', index=False, encoding='utf-8-sig')\n",
    "#     globals()[f'{aa}DF_I'] = globals()[f'{aa}DF'].rename(RENAME_ALL, axis='columns')\n",
    "\n"
   ]
  },
  {
   "cell_type": "code",
   "execution_count": 164,
   "metadata": {},
   "outputs": [],
   "source": [
    "from numpy import append\n",
    "import pandas as pd\n",
    "import datetime\n",
    "import numpy as np\n",
    "\n",
    "\n",
    "def excelappend(aa, yy, mm):\n",
    "    '''\n",
    "    aa = 파일경로\n",
    "    yy = 년도 4자리(ex: 2020)\n",
    "    mm = 월 2자리 (ex : 01, 11, 12)\n",
    "    '''\n",
    "    filepath = f'C:/Users/minipojectweb/data/{aa}/{yy}{mm}.xls'\n",
    "    excel_df = pd.read_excel(filepath, header=3)\n",
    "    print (filepath)\n",
    "    return(excel_df)\n",
    "\n",
    "def appendname(aa):\n",
    "    '''\n",
    "    aa는 excelappend의 aa (파일 경로를 뜻함)\n",
    "    '''\n",
    "    RENAME_ALL = {\n",
    "    '서울':'SEOUL', '부산':'PUSAN', '대구':'DEAGU', '인천':'INCHEON', '광주':'KWANG_JU', '대전':'DAEJEON',\n",
    "    '울산':'ULSAN', '경기':'KYEONG_GI', '강원':'KANGONE', '충북':'CHUNG_BUK', '충남':'CHUNG_NAM', '전북':'JEON_BUK',\n",
    "    '전남':'JEON_NAM', '경북':'KYUNG_BUK','경남':'KYUNG_NAM','제주':'JE_JU','세종':'SEJONG'}\n",
    "    \n",
    "    CURRENTTIME = datetime.datetime.today()           # 오늘 날짜 / 시간 /초\n",
    "    CURRENTTIME = int(CURRENTTIME.strftime('%m'))     # 오늘 날짜의 월을 추출\n",
    "    globals()[f'{aa}DF'] = pd.DataFrame()\n",
    "    for yy in [2020, 2021]:                                                   # 2020 ~ 2021\n",
    "        for mm in range (1, 13):                                              # 1 ~ 12\n",
    "            if yy == 2020 and mm < 4 or yy == 2021 and mm > CURRENTTIME :     # 2020 1~3월/ 2021 현재월보다 크면 제외\n",
    "                print(f'{yy}{str(mm).zfill(2)} fail')                         # zfill 문자열의 빈칸을 0으로 채워줌\n",
    "            else:    \n",
    "                temp = excelappend(aa, str(yy), str(mm).zfill(2))\n",
    "                globals()[f'{aa}DF'] = globals()[f'{aa}DF'].append(temp, ignore_index=True)\n",
    "                print(f'{aa} {yy}{str(mm).zfill(2)} success')\n",
    "\n",
    "    globals()[f'{aa}DF'].sort_values( by = '날짜', ascending=False, inplace=True)\n",
    "    save_PATH = f'C:/Users/ad/Desktop/test/tot/KOR_{aa}' # 저장경로\n",
    "    globals()[f'{aa}DF'].to_excel(save_PATH + '.xlsx', index=False)\n",
    "    globals()[f'{aa}DF'].to_csv(save_PATH + '.csv', index=False, encoding='utf-8-sig')\n",
    "    globals()[f'{aa}DF_I'] = globals()[f'{aa}DF'].rename(RENAME_ALL, axis='columns')"
   ]
  },
  {
   "cell_type": "code",
   "execution_count": 478,
   "metadata": {},
   "outputs": [
    {
     "output_type": "stream",
     "name": "stdout",
     "text": [
      "202001 fail\n",
      "202002 fail\n",
      "202003 fail\n",
      "C:/Users/minipojectweb/data/pm10/202004.xls\n",
      "pm10 202004 success\n",
      "C:/Users/minipojectweb/data/pm10/202005.xls\n",
      "pm10 202005 success\n",
      "C:/Users/minipojectweb/data/pm10/202006.xls\n",
      "pm10 202006 success\n",
      "C:/Users/minipojectweb/data/pm10/202007.xls\n",
      "pm10 202007 success\n",
      "C:/Users/minipojectweb/data/pm10/202008.xls\n",
      "pm10 202008 success\n",
      "C:/Users/minipojectweb/data/pm10/202009.xls\n",
      "pm10 202009 success\n",
      "C:/Users/minipojectweb/data/pm10/202010.xls\n",
      "pm10 202010 success\n",
      "C:/Users/minipojectweb/data/pm10/202011.xls\n",
      "pm10 202011 success\n",
      "C:/Users/minipojectweb/data/pm10/202012.xls\n",
      "pm10 202012 success\n",
      "C:/Users/minipojectweb/data/pm10/202101.xls\n",
      "pm10 202101 success\n",
      "C:/Users/minipojectweb/data/pm10/202102.xls\n",
      "pm10 202102 success\n",
      "C:/Users/minipojectweb/data/pm10/202103.xls\n",
      "pm10 202103 success\n",
      "C:/Users/minipojectweb/data/pm10/202104.xls\n",
      "pm10 202104 success\n",
      "C:/Users/minipojectweb/data/pm10/202105.xls\n",
      "pm10 202105 success\n",
      "C:/Users/minipojectweb/data/pm10/202106.xls\n",
      "pm10 202106 success\n",
      "202107 fail\n",
      "202108 fail\n",
      "202109 fail\n",
      "202110 fail\n",
      "202111 fail\n",
      "202112 fail\n",
      "202001 fail\n",
      "202002 fail\n",
      "202003 fail\n",
      "C:/Users/minipojectweb/data/pm25/202004.xls\n",
      "pm25 202004 success\n",
      "C:/Users/minipojectweb/data/pm25/202005.xls\n",
      "pm25 202005 success\n",
      "C:/Users/minipojectweb/data/pm25/202006.xls\n",
      "pm25 202006 success\n",
      "C:/Users/minipojectweb/data/pm25/202007.xls\n",
      "pm25 202007 success\n",
      "C:/Users/minipojectweb/data/pm25/202008.xls\n",
      "pm25 202008 success\n",
      "C:/Users/minipojectweb/data/pm25/202009.xls\n",
      "pm25 202009 success\n",
      "C:/Users/minipojectweb/data/pm25/202010.xls\n",
      "pm25 202010 success\n",
      "C:/Users/minipojectweb/data/pm25/202011.xls\n",
      "pm25 202011 success\n",
      "C:/Users/minipojectweb/data/pm25/202012.xls\n",
      "pm25 202012 success\n",
      "C:/Users/minipojectweb/data/pm25/202101.xls\n",
      "pm25 202101 success\n",
      "C:/Users/minipojectweb/data/pm25/202102.xls\n",
      "pm25 202102 success\n",
      "C:/Users/minipojectweb/data/pm25/202103.xls\n",
      "pm25 202103 success\n",
      "C:/Users/minipojectweb/data/pm25/202104.xls\n",
      "pm25 202104 success\n",
      "C:/Users/minipojectweb/data/pm25/202105.xls\n",
      "pm25 202105 success\n",
      "C:/Users/minipojectweb/data/pm25/202106.xls\n",
      "pm25 202106 success\n",
      "202107 fail\n",
      "202108 fail\n",
      "202109 fail\n",
      "202110 fail\n",
      "202111 fail\n",
      "202112 fail\n",
      "202001 fail\n",
      "202002 fail\n",
      "202003 fail\n",
      "C:/Users/minipojectweb/data/co/202004.xls\n",
      "co 202004 success\n",
      "C:/Users/minipojectweb/data/co/202005.xls\n",
      "co 202005 success\n",
      "C:/Users/minipojectweb/data/co/202006.xls\n",
      "co 202006 success\n",
      "C:/Users/minipojectweb/data/co/202007.xls\n",
      "co 202007 success\n",
      "C:/Users/minipojectweb/data/co/202008.xls\n",
      "co 202008 success\n",
      "C:/Users/minipojectweb/data/co/202009.xls\n",
      "co 202009 success\n",
      "C:/Users/minipojectweb/data/co/202010.xls\n",
      "co 202010 success\n",
      "C:/Users/minipojectweb/data/co/202011.xls\n",
      "co 202011 success\n",
      "C:/Users/minipojectweb/data/co/202012.xls\n",
      "co 202012 success\n",
      "C:/Users/minipojectweb/data/co/202101.xls\n",
      "co 202101 success\n",
      "C:/Users/minipojectweb/data/co/202102.xls\n",
      "co 202102 success\n",
      "C:/Users/minipojectweb/data/co/202103.xls\n",
      "co 202103 success\n",
      "C:/Users/minipojectweb/data/co/202104.xls\n",
      "co 202104 success\n",
      "C:/Users/minipojectweb/data/co/202105.xls\n",
      "co 202105 success\n",
      "C:/Users/minipojectweb/data/co/202106.xls\n",
      "co 202106 success\n",
      "202107 fail\n",
      "202108 fail\n",
      "202109 fail\n",
      "202110 fail\n",
      "202111 fail\n",
      "202112 fail\n",
      "202001 fail\n",
      "202002 fail\n",
      "202003 fail\n",
      "C:/Users/minipojectweb/data/no2/202004.xls\n",
      "no2 202004 success\n",
      "C:/Users/minipojectweb/data/no2/202005.xls\n",
      "no2 202005 success\n",
      "C:/Users/minipojectweb/data/no2/202006.xls\n",
      "no2 202006 success\n",
      "C:/Users/minipojectweb/data/no2/202007.xls\n",
      "no2 202007 success\n",
      "C:/Users/minipojectweb/data/no2/202008.xls\n",
      "no2 202008 success\n",
      "C:/Users/minipojectweb/data/no2/202009.xls\n",
      "no2 202009 success\n",
      "C:/Users/minipojectweb/data/no2/202010.xls\n",
      "no2 202010 success\n",
      "C:/Users/minipojectweb/data/no2/202011.xls\n",
      "no2 202011 success\n",
      "C:/Users/minipojectweb/data/no2/202012.xls\n",
      "no2 202012 success\n",
      "C:/Users/minipojectweb/data/no2/202101.xls\n",
      "no2 202101 success\n",
      "C:/Users/minipojectweb/data/no2/202102.xls\n",
      "no2 202102 success\n",
      "C:/Users/minipojectweb/data/no2/202103.xls\n",
      "no2 202103 success\n",
      "C:/Users/minipojectweb/data/no2/202104.xls\n",
      "no2 202104 success\n",
      "C:/Users/minipojectweb/data/no2/202105.xls\n",
      "no2 202105 success\n",
      "C:/Users/minipojectweb/data/no2/202106.xls\n",
      "no2 202106 success\n",
      "202107 fail\n",
      "202108 fail\n",
      "202109 fail\n",
      "202110 fail\n",
      "202111 fail\n",
      "202112 fail\n",
      "202001 fail\n",
      "202002 fail\n",
      "202003 fail\n",
      "C:/Users/minipojectweb/data/o3/202004.xls\n",
      "o3 202004 success\n",
      "C:/Users/minipojectweb/data/o3/202005.xls\n",
      "o3 202005 success\n",
      "C:/Users/minipojectweb/data/o3/202006.xls\n",
      "o3 202006 success\n",
      "C:/Users/minipojectweb/data/o3/202007.xls\n",
      "o3 202007 success\n",
      "C:/Users/minipojectweb/data/o3/202008.xls\n",
      "o3 202008 success\n",
      "C:/Users/minipojectweb/data/o3/202009.xls\n",
      "o3 202009 success\n",
      "C:/Users/minipojectweb/data/o3/202010.xls\n",
      "o3 202010 success\n",
      "C:/Users/minipojectweb/data/o3/202011.xls\n",
      "o3 202011 success\n",
      "C:/Users/minipojectweb/data/o3/202012.xls\n",
      "o3 202012 success\n",
      "C:/Users/minipojectweb/data/o3/202101.xls\n",
      "o3 202101 success\n",
      "C:/Users/minipojectweb/data/o3/202102.xls\n",
      "o3 202102 success\n",
      "C:/Users/minipojectweb/data/o3/202103.xls\n",
      "o3 202103 success\n",
      "C:/Users/minipojectweb/data/o3/202104.xls\n",
      "o3 202104 success\n",
      "C:/Users/minipojectweb/data/o3/202105.xls\n",
      "o3 202105 success\n",
      "C:/Users/minipojectweb/data/o3/202106.xls\n",
      "o3 202106 success\n",
      "202107 fail\n",
      "202108 fail\n",
      "202109 fail\n",
      "202110 fail\n",
      "202111 fail\n",
      "202112 fail\n",
      "202001 fail\n",
      "202002 fail\n",
      "202003 fail\n",
      "C:/Users/minipojectweb/data/so2/202004.xls\n",
      "so2 202004 success\n",
      "C:/Users/minipojectweb/data/so2/202005.xls\n",
      "so2 202005 success\n",
      "C:/Users/minipojectweb/data/so2/202006.xls\n",
      "so2 202006 success\n",
      "C:/Users/minipojectweb/data/so2/202007.xls\n",
      "so2 202007 success\n",
      "C:/Users/minipojectweb/data/so2/202008.xls\n",
      "so2 202008 success\n",
      "C:/Users/minipojectweb/data/so2/202009.xls\n",
      "so2 202009 success\n",
      "C:/Users/minipojectweb/data/so2/202010.xls\n",
      "so2 202010 success\n",
      "C:/Users/minipojectweb/data/so2/202011.xls\n",
      "so2 202011 success\n",
      "C:/Users/minipojectweb/data/so2/202012.xls\n",
      "so2 202012 success\n",
      "C:/Users/minipojectweb/data/so2/202101.xls\n",
      "so2 202101 success\n",
      "C:/Users/minipojectweb/data/so2/202102.xls\n",
      "so2 202102 success\n",
      "C:/Users/minipojectweb/data/so2/202103.xls\n",
      "so2 202103 success\n",
      "C:/Users/minipojectweb/data/so2/202104.xls\n",
      "so2 202104 success\n",
      "C:/Users/minipojectweb/data/so2/202105.xls\n",
      "so2 202105 success\n",
      "C:/Users/minipojectweb/data/so2/202106.xls\n",
      "so2 202106 success\n",
      "202107 fail\n",
      "202108 fail\n",
      "202109 fail\n",
      "202110 fail\n",
      "202111 fail\n",
      "202112 fail\n"
     ]
    }
   ],
   "source": [
    "for i in ['pm10', 'pm25', 'co', 'no2', 'o3', 'so2']:\n",
    "    appendname(i)"
   ]
  },
  {
   "cell_type": "code",
   "execution_count": 479,
   "metadata": {},
   "outputs": [
    {
     "output_type": "execute_result",
     "data": {
      "text/plain": [
       "             날짜  SEOUL  PUSAN  DEAGU  INCHEON  KWANG_JU  DAEJEON  ULSAN  \\\n",
       "426  2021-06-22     20     19     25       40        28       22     17   \n",
       "427  2021-06-21     41     37     31       42        32       40     33   \n",
       "428  2021-06-20     51     42     36       62        35       34     43   \n",
       "429  2021-06-19     42     39     31       44        28       28     33   \n",
       "430  2021-06-18     17     23     31       15        13       12     27   \n",
       "..          ...    ...    ...    ...      ...       ...      ...    ...   \n",
       "25   2020-04-05     47     34     33       44        32       35     31   \n",
       "26   2020-04-04     68     48     57       60        69       68     47   \n",
       "27   2020-04-03     56     37     43       47        47       44     40   \n",
       "28   2020-04-02     39     30     38       36        41       38     29   \n",
       "29   2020-04-01     69     35     56       60        43       50     41   \n",
       "\n",
       "     KYEONG_GI  KANGONE  CHUNG_BUK  CHUNG_NAM  JEON_BUK  JEON_NAM  KYUNG_BUK  \\\n",
       "426         32       12         22         36        34        28         20   \n",
       "427         47       32         46         48        50        34         33   \n",
       "428         57       35         39         46        40        34         35   \n",
       "429         47       26         38         37        33        27         28   \n",
       "430         19       15         13         13        14        15         22   \n",
       "..         ...      ...        ...        ...       ...       ...        ...   \n",
       "25          48       33         41         45        36        31         31   \n",
       "26          77       59         77         82        73        61         59   \n",
       "27          56       40         47         54        52        40         39   \n",
       "28          40       31         37         43        42        39         33   \n",
       "29          74       49         66         61        49        40         49   \n",
       "\n",
       "     KYUNG_NAM  JE_JU  SEJONG  \n",
       "426         26   31.0      27  \n",
       "427         32   36.0      37  \n",
       "428         36   36.0      38  \n",
       "429         31   25.0      29  \n",
       "430         24   17.0      12  \n",
       "..         ...    ...     ...  \n",
       "25          32   36.0      39  \n",
       "26          50   68.0      74  \n",
       "27          33   48.0      50  \n",
       "28          31   56.0      42  \n",
       "29          41   44.0      58  \n",
       "\n",
       "[448 rows x 18 columns]"
      ],
      "text/html": "<div>\n<style scoped>\n    .dataframe tbody tr th:only-of-type {\n        vertical-align: middle;\n    }\n\n    .dataframe tbody tr th {\n        vertical-align: top;\n    }\n\n    .dataframe thead th {\n        text-align: right;\n    }\n</style>\n<table border=\"1\" class=\"dataframe\">\n  <thead>\n    <tr style=\"text-align: right;\">\n      <th></th>\n      <th>날짜</th>\n      <th>SEOUL</th>\n      <th>PUSAN</th>\n      <th>DEAGU</th>\n      <th>INCHEON</th>\n      <th>KWANG_JU</th>\n      <th>DAEJEON</th>\n      <th>ULSAN</th>\n      <th>KYEONG_GI</th>\n      <th>KANGONE</th>\n      <th>CHUNG_BUK</th>\n      <th>CHUNG_NAM</th>\n      <th>JEON_BUK</th>\n      <th>JEON_NAM</th>\n      <th>KYUNG_BUK</th>\n      <th>KYUNG_NAM</th>\n      <th>JE_JU</th>\n      <th>SEJONG</th>\n    </tr>\n  </thead>\n  <tbody>\n    <tr>\n      <th>426</th>\n      <td>2021-06-22</td>\n      <td>20</td>\n      <td>19</td>\n      <td>25</td>\n      <td>40</td>\n      <td>28</td>\n      <td>22</td>\n      <td>17</td>\n      <td>32</td>\n      <td>12</td>\n      <td>22</td>\n      <td>36</td>\n      <td>34</td>\n      <td>28</td>\n      <td>20</td>\n      <td>26</td>\n      <td>31.0</td>\n      <td>27</td>\n    </tr>\n    <tr>\n      <th>427</th>\n      <td>2021-06-21</td>\n      <td>41</td>\n      <td>37</td>\n      <td>31</td>\n      <td>42</td>\n      <td>32</td>\n      <td>40</td>\n      <td>33</td>\n      <td>47</td>\n      <td>32</td>\n      <td>46</td>\n      <td>48</td>\n      <td>50</td>\n      <td>34</td>\n      <td>33</td>\n      <td>32</td>\n      <td>36.0</td>\n      <td>37</td>\n    </tr>\n    <tr>\n      <th>428</th>\n      <td>2021-06-20</td>\n      <td>51</td>\n      <td>42</td>\n      <td>36</td>\n      <td>62</td>\n      <td>35</td>\n      <td>34</td>\n      <td>43</td>\n      <td>57</td>\n      <td>35</td>\n      <td>39</td>\n      <td>46</td>\n      <td>40</td>\n      <td>34</td>\n      <td>35</td>\n      <td>36</td>\n      <td>36.0</td>\n      <td>38</td>\n    </tr>\n    <tr>\n      <th>429</th>\n      <td>2021-06-19</td>\n      <td>42</td>\n      <td>39</td>\n      <td>31</td>\n      <td>44</td>\n      <td>28</td>\n      <td>28</td>\n      <td>33</td>\n      <td>47</td>\n      <td>26</td>\n      <td>38</td>\n      <td>37</td>\n      <td>33</td>\n      <td>27</td>\n      <td>28</td>\n      <td>31</td>\n      <td>25.0</td>\n      <td>29</td>\n    </tr>\n    <tr>\n      <th>430</th>\n      <td>2021-06-18</td>\n      <td>17</td>\n      <td>23</td>\n      <td>31</td>\n      <td>15</td>\n      <td>13</td>\n      <td>12</td>\n      <td>27</td>\n      <td>19</td>\n      <td>15</td>\n      <td>13</td>\n      <td>13</td>\n      <td>14</td>\n      <td>15</td>\n      <td>22</td>\n      <td>24</td>\n      <td>17.0</td>\n      <td>12</td>\n    </tr>\n    <tr>\n      <th>...</th>\n      <td>...</td>\n      <td>...</td>\n      <td>...</td>\n      <td>...</td>\n      <td>...</td>\n      <td>...</td>\n      <td>...</td>\n      <td>...</td>\n      <td>...</td>\n      <td>...</td>\n      <td>...</td>\n      <td>...</td>\n      <td>...</td>\n      <td>...</td>\n      <td>...</td>\n      <td>...</td>\n      <td>...</td>\n      <td>...</td>\n    </tr>\n    <tr>\n      <th>25</th>\n      <td>2020-04-05</td>\n      <td>47</td>\n      <td>34</td>\n      <td>33</td>\n      <td>44</td>\n      <td>32</td>\n      <td>35</td>\n      <td>31</td>\n      <td>48</td>\n      <td>33</td>\n      <td>41</td>\n      <td>45</td>\n      <td>36</td>\n      <td>31</td>\n      <td>31</td>\n      <td>32</td>\n      <td>36.0</td>\n      <td>39</td>\n    </tr>\n    <tr>\n      <th>26</th>\n      <td>2020-04-04</td>\n      <td>68</td>\n      <td>48</td>\n      <td>57</td>\n      <td>60</td>\n      <td>69</td>\n      <td>68</td>\n      <td>47</td>\n      <td>77</td>\n      <td>59</td>\n      <td>77</td>\n      <td>82</td>\n      <td>73</td>\n      <td>61</td>\n      <td>59</td>\n      <td>50</td>\n      <td>68.0</td>\n      <td>74</td>\n    </tr>\n    <tr>\n      <th>27</th>\n      <td>2020-04-03</td>\n      <td>56</td>\n      <td>37</td>\n      <td>43</td>\n      <td>47</td>\n      <td>47</td>\n      <td>44</td>\n      <td>40</td>\n      <td>56</td>\n      <td>40</td>\n      <td>47</td>\n      <td>54</td>\n      <td>52</td>\n      <td>40</td>\n      <td>39</td>\n      <td>33</td>\n      <td>48.0</td>\n      <td>50</td>\n    </tr>\n    <tr>\n      <th>28</th>\n      <td>2020-04-02</td>\n      <td>39</td>\n      <td>30</td>\n      <td>38</td>\n      <td>36</td>\n      <td>41</td>\n      <td>38</td>\n      <td>29</td>\n      <td>40</td>\n      <td>31</td>\n      <td>37</td>\n      <td>43</td>\n      <td>42</td>\n      <td>39</td>\n      <td>33</td>\n      <td>31</td>\n      <td>56.0</td>\n      <td>42</td>\n    </tr>\n    <tr>\n      <th>29</th>\n      <td>2020-04-01</td>\n      <td>69</td>\n      <td>35</td>\n      <td>56</td>\n      <td>60</td>\n      <td>43</td>\n      <td>50</td>\n      <td>41</td>\n      <td>74</td>\n      <td>49</td>\n      <td>66</td>\n      <td>61</td>\n      <td>49</td>\n      <td>40</td>\n      <td>49</td>\n      <td>41</td>\n      <td>44.0</td>\n      <td>58</td>\n    </tr>\n  </tbody>\n</table>\n<p>448 rows × 18 columns</p>\n</div>"
     },
     "metadata": {},
     "execution_count": 479
    }
   ],
   "source": [
    "pm10DF_I"
   ]
  },
  {
   "cell_type": "code",
   "execution_count": 480,
   "metadata": {},
   "outputs": [],
   "source": [
    "def cutcity(what):\n",
    "    for city in globals()[f'{what}DF_I'].columns[1:]:\n",
    "        globals()[f'{what}{city}DF_II'] = globals()[f'{what}DF_I'][ [ '날짜',city ] ].rename({ city: what}, axis='columns')"
   ]
  },
  {
   "cell_type": "code",
   "execution_count": 481,
   "metadata": {},
   "outputs": [],
   "source": [
    "append_list = ['pm10', 'pm25', 'co', 'no2', 'o3', 'so2']\n",
    "for i in append_list:\n",
    "    cutcity(i)"
   ]
  },
  {
   "cell_type": "code",
   "execution_count": 482,
   "metadata": {},
   "outputs": [],
   "source": [
    "def mergecity(what, afterwhat):\n",
    "    for city in globals()[f'{what}DF_I'].columns[1:]:\n",
    "        globals()[f'{what}{city}DF_II'] = pd.merge(left = globals()[f'{what}{city}DF_II'], right = globals()[f'{afterwhat}{city}DF_II'], how = 'left', left_on ='날짜', right_on='날짜')\n",
    "        globals()[f'{what}{city}DF_II'].drop_duplicates() # 중복 행제거 모든열기준\n",
    "        globals()[f'{what}{city}DF_II'].sort_values( by = '날짜', ascending=False, inplace=True)\n",
    "        #globals()[f'{what}{city}DF_II']['날짜'] = globals()[f'{what}{city}DF_II']['날짜'].dt.date\n",
    "        pppath    = f'{city}_FIN'\n",
    "        save_PATH = f'C:/Users/ad/Desktop/test/{pppath}'\n",
    "        globals()[f'{what}{city}DF_II'].to_excel(save_PATH + '.xlsx', index=False)\n",
    "        globals()[f'{what}{city}DF_II'].to_csv(save_PATH + '.csv', index=False, encoding='utf-8-sig')"
   ]
  },
  {
   "cell_type": "code",
   "execution_count": 483,
   "metadata": {},
   "outputs": [],
   "source": [
    "append_list = ['pm25', 'co', 'no2', 'o3', 'so2']\n",
    "for what in ['pm10']:\n",
    "    pass\n",
    "    for afterwhat in append_list:\n",
    "        mergecity(what, afterwhat) "
   ]
  },
  {
   "cell_type": "code",
   "execution_count": 484,
   "metadata": {},
   "outputs": [
    {
     "output_type": "execute_result",
     "data": {
      "text/plain": [
       "             날짜  pm10  pm25   co    no2     o3    so2\n",
       "0    2021-06-22    36    24  0.4  0.013  0.033  0.004\n",
       "1    2021-06-21    48    31  0.5  0.009  0.067  0.004\n",
       "2    2021-06-20    46    27  0.5  0.006  0.068  0.004\n",
       "3    2021-06-19    37    22  0.4  0.007  0.055  0.004\n",
       "4    2021-06-18    13     8  0.3  0.006  0.039  0.003\n",
       "..          ...   ...   ...  ...    ...    ...    ...\n",
       "443  2020-04-05    45    18  0.4  0.009  0.041  0.003\n",
       "444  2020-04-04    82    26  0.4  0.010  0.041  0.003\n",
       "445  2020-04-03    54    32  0.5  0.015  0.038  0.004\n",
       "446  2020-04-02    43    25  0.4  0.014  0.035  0.003\n",
       "447  2020-04-01    61    26  0.4  0.014  0.039  0.004\n",
       "\n",
       "[448 rows x 7 columns]"
      ],
      "text/html": "<div>\n<style scoped>\n    .dataframe tbody tr th:only-of-type {\n        vertical-align: middle;\n    }\n\n    .dataframe tbody tr th {\n        vertical-align: top;\n    }\n\n    .dataframe thead th {\n        text-align: right;\n    }\n</style>\n<table border=\"1\" class=\"dataframe\">\n  <thead>\n    <tr style=\"text-align: right;\">\n      <th></th>\n      <th>날짜</th>\n      <th>pm10</th>\n      <th>pm25</th>\n      <th>co</th>\n      <th>no2</th>\n      <th>o3</th>\n      <th>so2</th>\n    </tr>\n  </thead>\n  <tbody>\n    <tr>\n      <th>0</th>\n      <td>2021-06-22</td>\n      <td>36</td>\n      <td>24</td>\n      <td>0.4</td>\n      <td>0.013</td>\n      <td>0.033</td>\n      <td>0.004</td>\n    </tr>\n    <tr>\n      <th>1</th>\n      <td>2021-06-21</td>\n      <td>48</td>\n      <td>31</td>\n      <td>0.5</td>\n      <td>0.009</td>\n      <td>0.067</td>\n      <td>0.004</td>\n    </tr>\n    <tr>\n      <th>2</th>\n      <td>2021-06-20</td>\n      <td>46</td>\n      <td>27</td>\n      <td>0.5</td>\n      <td>0.006</td>\n      <td>0.068</td>\n      <td>0.004</td>\n    </tr>\n    <tr>\n      <th>3</th>\n      <td>2021-06-19</td>\n      <td>37</td>\n      <td>22</td>\n      <td>0.4</td>\n      <td>0.007</td>\n      <td>0.055</td>\n      <td>0.004</td>\n    </tr>\n    <tr>\n      <th>4</th>\n      <td>2021-06-18</td>\n      <td>13</td>\n      <td>8</td>\n      <td>0.3</td>\n      <td>0.006</td>\n      <td>0.039</td>\n      <td>0.003</td>\n    </tr>\n    <tr>\n      <th>...</th>\n      <td>...</td>\n      <td>...</td>\n      <td>...</td>\n      <td>...</td>\n      <td>...</td>\n      <td>...</td>\n      <td>...</td>\n    </tr>\n    <tr>\n      <th>443</th>\n      <td>2020-04-05</td>\n      <td>45</td>\n      <td>18</td>\n      <td>0.4</td>\n      <td>0.009</td>\n      <td>0.041</td>\n      <td>0.003</td>\n    </tr>\n    <tr>\n      <th>444</th>\n      <td>2020-04-04</td>\n      <td>82</td>\n      <td>26</td>\n      <td>0.4</td>\n      <td>0.010</td>\n      <td>0.041</td>\n      <td>0.003</td>\n    </tr>\n    <tr>\n      <th>445</th>\n      <td>2020-04-03</td>\n      <td>54</td>\n      <td>32</td>\n      <td>0.5</td>\n      <td>0.015</td>\n      <td>0.038</td>\n      <td>0.004</td>\n    </tr>\n    <tr>\n      <th>446</th>\n      <td>2020-04-02</td>\n      <td>43</td>\n      <td>25</td>\n      <td>0.4</td>\n      <td>0.014</td>\n      <td>0.035</td>\n      <td>0.003</td>\n    </tr>\n    <tr>\n      <th>447</th>\n      <td>2020-04-01</td>\n      <td>61</td>\n      <td>26</td>\n      <td>0.4</td>\n      <td>0.014</td>\n      <td>0.039</td>\n      <td>0.004</td>\n    </tr>\n  </tbody>\n</table>\n<p>448 rows × 7 columns</p>\n</div>"
     },
     "metadata": {},
     "execution_count": 484
    }
   ],
   "source": [
    "pm10CHUNG_NAMDF_II"
   ]
  },
  {
   "cell_type": "code",
   "execution_count": 485,
   "metadata": {},
   "outputs": [],
   "source": [
    "#### 기상 불러오기\n",
    "from numpy import append\n",
    "import pandas as pd\n",
    "import datetime\n",
    "\n",
    "def excelappend2(a):\n",
    "    filepath = f'C:/Users/minipojectweb/data/weather/{a}.xlsx'\n",
    "    excel_df = pd.read_excel(filepath, usecols='B:F' ,header=0)\n",
    "    excel_df.sort_values( by = '날짜', ascending=False, inplace=True)\n",
    "    #excel_df.set_index('날짜', inplace=True)\n",
    "    print (filepath)\n",
    "    return(excel_df)"
   ]
  },
  {
   "cell_type": "code",
   "execution_count": null,
   "metadata": {},
   "outputs": [],
   "source": [
    "# # 참고 파일읽어오기 2\n",
    "# import pandas as pd\n",
    "# import os\n",
    "# openpath = 'C:/Users/ad/Documents/카카오톡 받은 파일/fin/'\n",
    "\n",
    "\n",
    "# def auto(): # file_list에는 파일 이름과 확장자만 저장\n",
    "#   file_list = os.listdir(openpath)\n",
    "#   name_list = []\n",
    "#   for file_name in file_list:\n",
    "#     if \".xlsx\" in file_name:\n",
    "#         openfilename = openpath + file_name  \n",
    "#         name_list.append(file_name) # name_list에는 파일경로 및 이름까지 저장\n",
    "\n",
    "#   for file in name_list:\n",
    "#       RENAME_ALL = {'pm25':'pm2.5',\n",
    "#                     '평균기온(°C)':'mean temperature(°C)',\n",
    "#                     '일강수량(mm)':'daily precipitation(mm)',\n",
    "#                     '평균 풍속(m/s)':'mean wind speed', \n",
    "#                     '평균 상대습도(%)':'average relatively humidity(%)'} \n",
    "#       tmp = pd.read_excel(openfilename)\n",
    "#       print(tmp.columns)\n",
    "\n",
    "\n",
    "#       tmp.rename(RENAME_ALL, axis='columns', inplace=True)\n",
    "#       print(tmp.columns)\n",
    "#       savepath = f'C:/Users/ad/Desktop/test/test/{file}'\n",
    "#       tmp.to_excel(savepath, index=False)\n",
    "#       print(file)\n",
    "#       print(savepath)"
   ]
  },
  {
   "cell_type": "code",
   "execution_count": 486,
   "metadata": {},
   "outputs": [
    {
     "output_type": "stream",
     "name": "stdout",
     "text": [
      "C:/Users/minipojectweb/data/weather/SEOUL.xlsx\n",
      "C:/Users/minipojectweb/data/weather/PUSAN.xlsx\n",
      "C:/Users/minipojectweb/data/weather/DEAGU.xlsx\n",
      "C:/Users/minipojectweb/data/weather/INCHEON.xlsx\n",
      "C:/Users/minipojectweb/data/weather/KWANG_JU.xlsx\n",
      "C:/Users/minipojectweb/data/weather/DAEJEON.xlsx\n",
      "C:/Users/minipojectweb/data/weather/ULSAN.xlsx\n",
      "C:/Users/minipojectweb/data/weather/KYEONG_GI.xlsx\n",
      "C:/Users/minipojectweb/data/weather/KANGONE.xlsx\n",
      "C:/Users/minipojectweb/data/weather/CHUNG_BUK.xlsx\n",
      "C:/Users/minipojectweb/data/weather/CHUNG_NAM.xlsx\n",
      "C:/Users/minipojectweb/data/weather/JEON_BUK.xlsx\n",
      "C:/Users/minipojectweb/data/weather/JEON_NAM.xlsx\n",
      "C:/Users/minipojectweb/data/weather/KYUNG_BUK.xlsx\n",
      "C:/Users/minipojectweb/data/weather/KYUNG_NAM.xlsx\n",
      "C:/Users/minipojectweb/data/weather/JE_JU.xlsx\n",
      "C:/Users/minipojectweb/data/weather/SEJONG.xlsx\n"
     ]
    }
   ],
   "source": [
    "# 기상불러오기 함수 호출\n",
    "\n",
    "for i in pm10DF_I.columns[1:]:\n",
    "    globals()[f'{i}WDF'] =   excelappend2(i)\n",
    "    globals()[f'{i}WDF'] =   globals()[f'{i}WDF'].drop(index=range(0,91), axis=0,)\n",
    "    globals()[f'{i}WDF'].reset_index(drop=True, inplace=True)\n",
    "    ####globals()[f'{i}WDF']['날짜'] = globals()[f'{i}WDF']['날짜'].dt.date\n",
    "    globals()[f'{i}WDF'].날짜=globals()[f'{i}WDF'].날짜.astype(str)"
   ]
  },
  {
   "cell_type": "code",
   "execution_count": 487,
   "metadata": {},
   "outputs": [
    {
     "output_type": "execute_result",
     "data": {
      "text/plain": [
       "             날짜  평균기온(°C)  일강수량(mm)  평균 풍속(m/s)  평균 상대습도(%)\n",
       "0    2021-06-20      22.9       NaN         2.8        48.0\n",
       "1    2021-06-19      22.3       NaN         1.8        49.0\n",
       "2    2021-06-18      20.0       6.3         2.5        82.0\n",
       "3    2021-06-17      21.9       0.0         2.4        58.0\n",
       "4    2021-06-16      24.3       NaN         3.6        46.0\n",
       "..          ...       ...       ...         ...         ...\n",
       "441  2020-04-05       7.2       NaN         2.8        29.5\n",
       "442  2020-04-04       8.9       NaN         3.4        36.4\n",
       "443  2020-04-03      10.0       NaN         2.7        53.8\n",
       "444  2020-04-02       9.3       NaN         2.3        41.4\n",
       "445  2020-04-01      11.3       NaN         3.7        35.6\n",
       "\n",
       "[446 rows x 5 columns]"
      ],
      "text/html": "<div>\n<style scoped>\n    .dataframe tbody tr th:only-of-type {\n        vertical-align: middle;\n    }\n\n    .dataframe tbody tr th {\n        vertical-align: top;\n    }\n\n    .dataframe thead th {\n        text-align: right;\n    }\n</style>\n<table border=\"1\" class=\"dataframe\">\n  <thead>\n    <tr style=\"text-align: right;\">\n      <th></th>\n      <th>날짜</th>\n      <th>평균기온(°C)</th>\n      <th>일강수량(mm)</th>\n      <th>평균 풍속(m/s)</th>\n      <th>평균 상대습도(%)</th>\n    </tr>\n  </thead>\n  <tbody>\n    <tr>\n      <th>0</th>\n      <td>2021-06-20</td>\n      <td>22.9</td>\n      <td>NaN</td>\n      <td>2.8</td>\n      <td>48.0</td>\n    </tr>\n    <tr>\n      <th>1</th>\n      <td>2021-06-19</td>\n      <td>22.3</td>\n      <td>NaN</td>\n      <td>1.8</td>\n      <td>49.0</td>\n    </tr>\n    <tr>\n      <th>2</th>\n      <td>2021-06-18</td>\n      <td>20.0</td>\n      <td>6.3</td>\n      <td>2.5</td>\n      <td>82.0</td>\n    </tr>\n    <tr>\n      <th>3</th>\n      <td>2021-06-17</td>\n      <td>21.9</td>\n      <td>0.0</td>\n      <td>2.4</td>\n      <td>58.0</td>\n    </tr>\n    <tr>\n      <th>4</th>\n      <td>2021-06-16</td>\n      <td>24.3</td>\n      <td>NaN</td>\n      <td>3.6</td>\n      <td>46.0</td>\n    </tr>\n    <tr>\n      <th>...</th>\n      <td>...</td>\n      <td>...</td>\n      <td>...</td>\n      <td>...</td>\n      <td>...</td>\n    </tr>\n    <tr>\n      <th>441</th>\n      <td>2020-04-05</td>\n      <td>7.2</td>\n      <td>NaN</td>\n      <td>2.8</td>\n      <td>29.5</td>\n    </tr>\n    <tr>\n      <th>442</th>\n      <td>2020-04-04</td>\n      <td>8.9</td>\n      <td>NaN</td>\n      <td>3.4</td>\n      <td>36.4</td>\n    </tr>\n    <tr>\n      <th>443</th>\n      <td>2020-04-03</td>\n      <td>10.0</td>\n      <td>NaN</td>\n      <td>2.7</td>\n      <td>53.8</td>\n    </tr>\n    <tr>\n      <th>444</th>\n      <td>2020-04-02</td>\n      <td>9.3</td>\n      <td>NaN</td>\n      <td>2.3</td>\n      <td>41.4</td>\n    </tr>\n    <tr>\n      <th>445</th>\n      <td>2020-04-01</td>\n      <td>11.3</td>\n      <td>NaN</td>\n      <td>3.7</td>\n      <td>35.6</td>\n    </tr>\n  </tbody>\n</table>\n<p>446 rows × 5 columns</p>\n</div>"
     },
     "metadata": {},
     "execution_count": 487
    }
   ],
   "source": [
    "seoulWDF"
   ]
  },
  {
   "cell_type": "code",
   "execution_count": 504,
   "metadata": {},
   "outputs": [],
   "source": [
    "def mergeWcity(what):\n",
    "     for wcity in pm10DF_I.columns[1:]:\n",
    "         if what == wcity :\n",
    "            print(what, wcity)\n",
    "            globals()[f'{what}WFIN'] = pd.merge(\n",
    "                left = globals()[f'pm10{what}DF_II'], right = globals()[f'{wcity}WDF'], how = 'left', left_on ='날짜',\n",
    "                    right_on='날짜')\n",
    "\n",
    "            globals()[f'{what}WFIN'].drop_duplicates() # 중복 행제거 모든열기준\n",
    "            globals()[f'{what}WFIN'].sort_values( by = '날짜', ascending=False, inplace=True)\n",
    "            # pppath    = f'{what}FIN'\n",
    "            # save_PATH = f'C:/Users/ad/Desktop/test/fin/{pppath}'\n",
    "            # globals()[f'{what}WFIN'].to_excel(save_PATH + '.xlsx', index=False)\n",
    "            # globals()[f'{what}WFIN'].to_csv(save_PATH + '.csv', index=False, encoding='utf-8-sig')\n",
    "     for  i in pm10DF_I.columns[1:]:\n",
    "        RENAME_ALL = {\n",
    "            '날짜':'DATE', 'pm10':'PM10', 'pm25':'PM2.5', 'co':'CO', 'no2':'NO2', 'o3':'O3', 'so2':'SO2', \n",
    "            '평균기온(°C)':'CENTIGRADE', '일강수량(mm)':'PRECIPITATION', '평균 풍속(m/s)':'WIND SPEED', \n",
    "            '평균 상대습도(%)':'RELATIVE HUMIDITY' }\n",
    "        globals()[f'{i}WFIN'] = globals()[f'{i}WFIN'].rename(RENAME_ALL, axis='columns')\n",
    "        #-- 컬럼명 제지정 상위 2개----\n",
    "\n",
    "        #-- 결측치 제거 --\n",
    "        globals()[f'{i}WFIN'].fillna({'PRECIPITATION': 0.0}, inplace=True)\n",
    "        globals()[f'{i}WFIN']['CENTIGRADE'].ffill(inplace=True)\n",
    "        globals()[f'{i}WFIN']['CENTIGRADE'].bfill(inplace=True)\n",
    "        globals()[f'{i}WFIN']['WIND SPEED'].ffill(inplace=True)\n",
    "        globals()[f'{i}WFIN']['WIND SPEED'].bfill(inplace=True)\n",
    "        globals()[f'{i}WFIN']['RELATIVE HUMIDITY'].ffill(inplace=True)\n",
    "        globals()[f'{i}WFIN']['RELATIVE HUMIDITY'].bfill(inplace=True)\n",
    "        globals()[f'{i}WFIN'].drop_duplicates() # 중복 행제거 모든열기준\n",
    "        globals()[f'{i}WFIN'].sort_values( by = 'DATE', ascending=False, inplace=True)\n",
    "        # -- 이하 저장 --                   \n",
    "        pppath    = f'{i}FIN'\n",
    "        save_PATH = f'C:/Users/ad/Desktop/test/fin/{pppath}'\n",
    "        globals()[f'{i}WFIN'].to_excel(save_PATH + '.xlsx', index=False)\n",
    "        globals()[f'{i}WFIN'].to_csv(save_PATH + '.csv', index=False, encoding='utf-8-sig')"
   ]
  },
  {
   "cell_type": "code",
   "execution_count": 511,
   "metadata": {},
   "outputs": [
    {
     "output_type": "stream",
     "name": "stdout",
     "text": [
      "1\n",
      "SEOUL SEOUL\n",
      "2\n",
      "PUSAN PUSAN\n",
      "3\n",
      "DEAGU DEAGU\n",
      "4\n",
      "INCHEON INCHEON\n",
      "5\n",
      "KWANG_JU KWANG_JU\n",
      "6\n",
      "DAEJEON DAEJEON\n",
      "7\n",
      "ULSAN ULSAN\n",
      "8\n",
      "KYEONG_GI KYEONG_GI\n",
      "9\n",
      "KANGONE KANGONE\n",
      "10\n",
      "CHUNG_BUK CHUNG_BUK\n",
      "11\n",
      "CHUNG_NAM CHUNG_NAM\n",
      "12\n",
      "JEON_BUK JEON_BUK\n",
      "13\n",
      "JEON_NAM JEON_NAM\n",
      "14\n",
      "KYUNG_BUK KYUNG_BUK\n",
      "15\n",
      "KYUNG_NAM KYUNG_NAM\n",
      "16\n",
      "JE_JU JE_JU\n",
      "17\n",
      "SEJONG SEJONG\n"
     ]
    }
   ],
   "source": [
    "a = 0\n",
    "for i in pm10DF_I.columns[1:]:\n",
    "    a += 1\n",
    "    print(a)\n",
    "    mergeWcity(i)"
   ]
  },
  {
   "cell_type": "code",
   "execution_count": 510,
   "metadata": {},
   "outputs": [
    {
     "output_type": "execute_result",
     "data": {
      "text/plain": [
       "           DATE  PM10  PM2.5   CO    NO2     O3    SO2  CENTIGRADE  \\\n",
       "0    2021-06-22    17      8  0.3  0.010  0.032  0.003        23.1   \n",
       "1    2021-06-21    33     20  0.4  0.016  0.043  0.003        23.1   \n",
       "2    2021-06-20    43     29  0.5  0.017  0.059  0.005        23.1   \n",
       "3    2021-06-19    33     20  0.4  0.014  0.052  0.003        23.0   \n",
       "4    2021-06-18    27     18  0.4  0.022  0.024  0.004        21.1   \n",
       "..          ...   ...    ...  ...    ...    ...    ...         ...   \n",
       "443  2020-04-05    31      9  0.4  0.011  0.042  0.004         8.7   \n",
       "444  2020-04-04    47     22  0.4  0.016  0.044  0.004        11.2   \n",
       "445  2020-04-03    40     24  0.5  0.024  0.040  0.005        13.6   \n",
       "446  2020-04-02    29     17  0.4  0.017  0.040  0.004        11.0   \n",
       "447  2020-04-01    41     23  0.5  0.019  0.034  0.004        11.8   \n",
       "\n",
       "     PRECIPITATION  WIND SPEED  RELATIVE HUMIDITY  \n",
       "0              0.0         1.2               55.0  \n",
       "1              0.0         1.2               55.0  \n",
       "2              0.0         1.2               55.0  \n",
       "3              0.0         1.9               42.0  \n",
       "4              2.9         0.9               75.0  \n",
       "..             ...         ...                ...  \n",
       "443            0.0         2.2               49.3  \n",
       "444            0.0         2.7               49.6  \n",
       "445            0.0         2.1               37.6  \n",
       "446            0.0         2.4               50.0  \n",
       "447            0.8         2.1               76.1  \n",
       "\n",
       "[448 rows x 11 columns]"
      ],
      "text/html": "<div>\n<style scoped>\n    .dataframe tbody tr th:only-of-type {\n        vertical-align: middle;\n    }\n\n    .dataframe tbody tr th {\n        vertical-align: top;\n    }\n\n    .dataframe thead th {\n        text-align: right;\n    }\n</style>\n<table border=\"1\" class=\"dataframe\">\n  <thead>\n    <tr style=\"text-align: right;\">\n      <th></th>\n      <th>DATE</th>\n      <th>PM10</th>\n      <th>PM2.5</th>\n      <th>CO</th>\n      <th>NO2</th>\n      <th>O3</th>\n      <th>SO2</th>\n      <th>CENTIGRADE</th>\n      <th>PRECIPITATION</th>\n      <th>WIND SPEED</th>\n      <th>RELATIVE HUMIDITY</th>\n    </tr>\n  </thead>\n  <tbody>\n    <tr>\n      <th>0</th>\n      <td>2021-06-22</td>\n      <td>17</td>\n      <td>8</td>\n      <td>0.3</td>\n      <td>0.010</td>\n      <td>0.032</td>\n      <td>0.003</td>\n      <td>23.1</td>\n      <td>0.0</td>\n      <td>1.2</td>\n      <td>55.0</td>\n    </tr>\n    <tr>\n      <th>1</th>\n      <td>2021-06-21</td>\n      <td>33</td>\n      <td>20</td>\n      <td>0.4</td>\n      <td>0.016</td>\n      <td>0.043</td>\n      <td>0.003</td>\n      <td>23.1</td>\n      <td>0.0</td>\n      <td>1.2</td>\n      <td>55.0</td>\n    </tr>\n    <tr>\n      <th>2</th>\n      <td>2021-06-20</td>\n      <td>43</td>\n      <td>29</td>\n      <td>0.5</td>\n      <td>0.017</td>\n      <td>0.059</td>\n      <td>0.005</td>\n      <td>23.1</td>\n      <td>0.0</td>\n      <td>1.2</td>\n      <td>55.0</td>\n    </tr>\n    <tr>\n      <th>3</th>\n      <td>2021-06-19</td>\n      <td>33</td>\n      <td>20</td>\n      <td>0.4</td>\n      <td>0.014</td>\n      <td>0.052</td>\n      <td>0.003</td>\n      <td>23.0</td>\n      <td>0.0</td>\n      <td>1.9</td>\n      <td>42.0</td>\n    </tr>\n    <tr>\n      <th>4</th>\n      <td>2021-06-18</td>\n      <td>27</td>\n      <td>18</td>\n      <td>0.4</td>\n      <td>0.022</td>\n      <td>0.024</td>\n      <td>0.004</td>\n      <td>21.1</td>\n      <td>2.9</td>\n      <td>0.9</td>\n      <td>75.0</td>\n    </tr>\n    <tr>\n      <th>...</th>\n      <td>...</td>\n      <td>...</td>\n      <td>...</td>\n      <td>...</td>\n      <td>...</td>\n      <td>...</td>\n      <td>...</td>\n      <td>...</td>\n      <td>...</td>\n      <td>...</td>\n      <td>...</td>\n    </tr>\n    <tr>\n      <th>443</th>\n      <td>2020-04-05</td>\n      <td>31</td>\n      <td>9</td>\n      <td>0.4</td>\n      <td>0.011</td>\n      <td>0.042</td>\n      <td>0.004</td>\n      <td>8.7</td>\n      <td>0.0</td>\n      <td>2.2</td>\n      <td>49.3</td>\n    </tr>\n    <tr>\n      <th>444</th>\n      <td>2020-04-04</td>\n      <td>47</td>\n      <td>22</td>\n      <td>0.4</td>\n      <td>0.016</td>\n      <td>0.044</td>\n      <td>0.004</td>\n      <td>11.2</td>\n      <td>0.0</td>\n      <td>2.7</td>\n      <td>49.6</td>\n    </tr>\n    <tr>\n      <th>445</th>\n      <td>2020-04-03</td>\n      <td>40</td>\n      <td>24</td>\n      <td>0.5</td>\n      <td>0.024</td>\n      <td>0.040</td>\n      <td>0.005</td>\n      <td>13.6</td>\n      <td>0.0</td>\n      <td>2.1</td>\n      <td>37.6</td>\n    </tr>\n    <tr>\n      <th>446</th>\n      <td>2020-04-02</td>\n      <td>29</td>\n      <td>17</td>\n      <td>0.4</td>\n      <td>0.017</td>\n      <td>0.040</td>\n      <td>0.004</td>\n      <td>11.0</td>\n      <td>0.0</td>\n      <td>2.4</td>\n      <td>50.0</td>\n    </tr>\n    <tr>\n      <th>447</th>\n      <td>2020-04-01</td>\n      <td>41</td>\n      <td>23</td>\n      <td>0.5</td>\n      <td>0.019</td>\n      <td>0.034</td>\n      <td>0.004</td>\n      <td>11.8</td>\n      <td>0.8</td>\n      <td>2.1</td>\n      <td>76.1</td>\n    </tr>\n  </tbody>\n</table>\n<p>448 rows × 11 columns</p>\n</div>"
     },
     "metadata": {},
     "execution_count": 510
    }
   ],
   "source": [
    "ULSANWFIN"
   ]
  },
  {
   "cell_type": "code",
   "execution_count": 471,
   "metadata": {},
   "outputs": [
    {
     "output_type": "stream",
     "name": "stdout",
     "text": [
      "C:/Users/ad/Desktop/test/fin/SEOULFIN.xlsx\n",
      "C:/Users/ad/Desktop/test/fin/PUSANFIN.xlsx\n",
      "C:/Users/ad/Desktop/test/fin/DEAGUFIN.xlsx\n",
      "C:/Users/ad/Desktop/test/fin/INCHEONFIN.xlsx\n",
      "C:/Users/ad/Desktop/test/fin/KWANG_JUFIN.xlsx\n",
      "C:/Users/ad/Desktop/test/fin/DAEJEONFIN.xlsx\n",
      "C:/Users/ad/Desktop/test/fin/ULSANFIN.xlsx\n",
      "C:/Users/ad/Desktop/test/fin/KYEONG_GIFIN.xlsx\n",
      "C:/Users/ad/Desktop/test/fin/KANGONEFIN.xlsx\n",
      "C:/Users/ad/Desktop/test/fin/CHUNG_BUKFIN.xlsx\n",
      "C:/Users/ad/Desktop/test/fin/CHUNG_NAMFIN.xlsx\n",
      "C:/Users/ad/Desktop/test/fin/JEON_BUKFIN.xlsx\n",
      "C:/Users/ad/Desktop/test/fin/JEON_NAMFIN.xlsx\n",
      "C:/Users/ad/Desktop/test/fin/KYUNG_BUKFIN.xlsx\n",
      "C:/Users/ad/Desktop/test/fin/KYUNG_NAMFIN.xlsx\n",
      "C:/Users/ad/Desktop/test/fin/JE_JUFIN.xlsx\n",
      "C:/Users/ad/Desktop/test/fin/SEJONGFIN.xlsx\n"
     ]
    }
   ],
   "source": [
    "# 최종파일 오픈 최종\n",
    "\n",
    "def finalopen(a):\n",
    "    filepath = f'C:/Users/ad/Desktop/test/fin/{a}FIN.xlsx'\n",
    "    excel_df = pd.read_excel(filepath)\n",
    "    print (filepath)\n",
    "    return(excel_df)\n",
    "    \n",
    "columns = ['SEOUL', 'PUSAN', 'DEAGU', 'INCHEON', 'KWANG_JU', 'DAEJEON', 'ULSAN',\n",
    "       'KYEONG_GI', 'KANGONE', 'CHUNG_BUK', 'CHUNG_NAM', 'JEON_BUK',\n",
    "       'JEON_NAM', 'KYUNG_BUK', 'KYUNG_NAM', 'JE_JU', 'SEJONG']\n",
    "\n",
    "for column in columns:\n",
    "     globals()[f'{column}FINAL'] = finalopen(column)\n",
    "\n",
    "# 각각 파일은 column에있는명 + FINAL (ex: SEOULFINAL)로 데이터프레임 만들어짐"
   ]
  },
  {
   "cell_type": "code",
   "execution_count": null,
   "metadata": {},
   "outputs": [],
   "source": [
    "# #최종파일 오픈2 참고\n",
    "# import pandas as pd\n",
    "# import os\n",
    "# openpath = 'C:/Users/ad/Documents/카카오톡 받은 파일/fin/'\n",
    "# file_list = os.listdir(openpath)\n",
    "# name_list = []\n",
    "# for file_name in file_list:\n",
    "#     if \".xlsx\" in file_name:\n",
    "#         openfilename = openpath + file_name  \n",
    "#         excel_df = pd.read_excel(openfilename)\n",
    "#         print(openfilename)\n",
    "#         for i in openfilename:\n",
    "#             x = i.split('/')\n",
    "#             filename = x[-1].replace('.xlsx', '')\n",
    "#             #print(filename)\n",
    "#             globals()[f'{filename}FINAL'] = excel_df\n",
    "#             #print(f'{filename}FINAL')"
   ]
  },
  {
   "cell_type": "code",
   "execution_count": 474,
   "metadata": {},
   "outputs": [
    {
     "output_type": "execute_result",
     "data": {
      "text/plain": [
       "             날짜  pm10  pm25   co    no2     o3    so2  평균기온(°C)  일강수량(mm)  \\\n",
       "0    2021-06-22    19     9  0.2  0.009  0.035  0.003      23.0       0.0   \n",
       "1    2021-06-21    37    22  0.3  0.016  0.046  0.003      23.0       0.0   \n",
       "2    2021-06-20    42    26  0.4  0.015  0.056  0.003      23.0       0.0   \n",
       "3    2021-06-19    39    23  0.3  0.013  0.054  0.003      22.9       0.0   \n",
       "4    2021-06-18    23    15  0.3  0.018  0.024  0.003      20.0       5.0   \n",
       "..          ...   ...   ...  ...    ...    ...    ...       ...       ...   \n",
       "443  2020-04-05    34    11  0.3  0.010  0.042  0.003       9.7       0.0   \n",
       "444  2020-04-04    48    23  0.4  0.014  0.047  0.004      12.8       0.0   \n",
       "445  2020-04-03    37    21  0.4  0.022  0.039  0.004      13.8       0.0   \n",
       "446  2020-04-02    30    16  0.3  0.015  0.040  0.003      11.5       0.0   \n",
       "447  2020-04-01    35    19  0.4  0.020  0.036  0.003      12.5       2.7   \n",
       "\n",
       "     평균 풍속(m/s)  평균 상대습도(%)  \n",
       "0           2.6        53.0  \n",
       "1           2.6        53.0  \n",
       "2           2.6        53.0  \n",
       "3           2.2        51.0  \n",
       "4           2.4        78.0  \n",
       "..          ...         ...  \n",
       "443         3.4        43.4  \n",
       "444         4.0        43.3  \n",
       "445         3.8        38.6  \n",
       "446         3.5        42.8  \n",
       "447         2.7        60.1  \n",
       "\n",
       "[448 rows x 11 columns]"
      ],
      "text/html": "<div>\n<style scoped>\n    .dataframe tbody tr th:only-of-type {\n        vertical-align: middle;\n    }\n\n    .dataframe tbody tr th {\n        vertical-align: top;\n    }\n\n    .dataframe thead th {\n        text-align: right;\n    }\n</style>\n<table border=\"1\" class=\"dataframe\">\n  <thead>\n    <tr style=\"text-align: right;\">\n      <th></th>\n      <th>날짜</th>\n      <th>pm10</th>\n      <th>pm25</th>\n      <th>co</th>\n      <th>no2</th>\n      <th>o3</th>\n      <th>so2</th>\n      <th>평균기온(°C)</th>\n      <th>일강수량(mm)</th>\n      <th>평균 풍속(m/s)</th>\n      <th>평균 상대습도(%)</th>\n    </tr>\n  </thead>\n  <tbody>\n    <tr>\n      <th>0</th>\n      <td>2021-06-22</td>\n      <td>19</td>\n      <td>9</td>\n      <td>0.2</td>\n      <td>0.009</td>\n      <td>0.035</td>\n      <td>0.003</td>\n      <td>23.0</td>\n      <td>0.0</td>\n      <td>2.6</td>\n      <td>53.0</td>\n    </tr>\n    <tr>\n      <th>1</th>\n      <td>2021-06-21</td>\n      <td>37</td>\n      <td>22</td>\n      <td>0.3</td>\n      <td>0.016</td>\n      <td>0.046</td>\n      <td>0.003</td>\n      <td>23.0</td>\n      <td>0.0</td>\n      <td>2.6</td>\n      <td>53.0</td>\n    </tr>\n    <tr>\n      <th>2</th>\n      <td>2021-06-20</td>\n      <td>42</td>\n      <td>26</td>\n      <td>0.4</td>\n      <td>0.015</td>\n      <td>0.056</td>\n      <td>0.003</td>\n      <td>23.0</td>\n      <td>0.0</td>\n      <td>2.6</td>\n      <td>53.0</td>\n    </tr>\n    <tr>\n      <th>3</th>\n      <td>2021-06-19</td>\n      <td>39</td>\n      <td>23</td>\n      <td>0.3</td>\n      <td>0.013</td>\n      <td>0.054</td>\n      <td>0.003</td>\n      <td>22.9</td>\n      <td>0.0</td>\n      <td>2.2</td>\n      <td>51.0</td>\n    </tr>\n    <tr>\n      <th>4</th>\n      <td>2021-06-18</td>\n      <td>23</td>\n      <td>15</td>\n      <td>0.3</td>\n      <td>0.018</td>\n      <td>0.024</td>\n      <td>0.003</td>\n      <td>20.0</td>\n      <td>5.0</td>\n      <td>2.4</td>\n      <td>78.0</td>\n    </tr>\n    <tr>\n      <th>...</th>\n      <td>...</td>\n      <td>...</td>\n      <td>...</td>\n      <td>...</td>\n      <td>...</td>\n      <td>...</td>\n      <td>...</td>\n      <td>...</td>\n      <td>...</td>\n      <td>...</td>\n      <td>...</td>\n    </tr>\n    <tr>\n      <th>443</th>\n      <td>2020-04-05</td>\n      <td>34</td>\n      <td>11</td>\n      <td>0.3</td>\n      <td>0.010</td>\n      <td>0.042</td>\n      <td>0.003</td>\n      <td>9.7</td>\n      <td>0.0</td>\n      <td>3.4</td>\n      <td>43.4</td>\n    </tr>\n    <tr>\n      <th>444</th>\n      <td>2020-04-04</td>\n      <td>48</td>\n      <td>23</td>\n      <td>0.4</td>\n      <td>0.014</td>\n      <td>0.047</td>\n      <td>0.004</td>\n      <td>12.8</td>\n      <td>0.0</td>\n      <td>4.0</td>\n      <td>43.3</td>\n    </tr>\n    <tr>\n      <th>445</th>\n      <td>2020-04-03</td>\n      <td>37</td>\n      <td>21</td>\n      <td>0.4</td>\n      <td>0.022</td>\n      <td>0.039</td>\n      <td>0.004</td>\n      <td>13.8</td>\n      <td>0.0</td>\n      <td>3.8</td>\n      <td>38.6</td>\n    </tr>\n    <tr>\n      <th>446</th>\n      <td>2020-04-02</td>\n      <td>30</td>\n      <td>16</td>\n      <td>0.3</td>\n      <td>0.015</td>\n      <td>0.040</td>\n      <td>0.003</td>\n      <td>11.5</td>\n      <td>0.0</td>\n      <td>3.5</td>\n      <td>42.8</td>\n    </tr>\n    <tr>\n      <th>447</th>\n      <td>2020-04-01</td>\n      <td>35</td>\n      <td>19</td>\n      <td>0.4</td>\n      <td>0.020</td>\n      <td>0.036</td>\n      <td>0.003</td>\n      <td>12.5</td>\n      <td>2.7</td>\n      <td>2.7</td>\n      <td>60.1</td>\n    </tr>\n  </tbody>\n</table>\n<p>448 rows × 11 columns</p>\n</div>"
     },
     "metadata": {},
     "execution_count": 474
    }
   ],
   "source": [
    "PUSANFINAL"
   ]
  },
  {
   "cell_type": "code",
   "execution_count": 475,
   "metadata": {},
   "outputs": [],
   "source": [
    "#참고 데이터프레임> 지도저장\n",
    "PUSANFINAL.to_html('PUSANFINAL.html', justify='center')"
   ]
  },
  {
   "cell_type": "code",
   "execution_count": 120,
   "metadata": {},
   "outputs": [
    {
     "output_type": "stream",
     "name": "stdout",
     "text": [
      "test.loc['SEOUL']\ntest.loc['PUSAN']\ntest.loc['DEAGU']\ntest.loc['INCHEON']\ntest.loc['KWANG_JU']\ntest.loc['DAEJEON']\ntest.loc['ULSAN']\ntest.loc['KYEONG_GI']\ntest.loc['KANGONE']\ntest.loc['CHUNG_BUK']\ntest.loc['CHUNG_NAM']\ntest.loc['JEON_BUK']\ntest.loc['JEON_NAM']\ntest.loc['KYUNG_BUK']\ntest.loc['KYUNG_NAM']\ntest.loc['JE_JU']\ntest.loc['SEJONG']\n"
     ]
    }
   ],
   "source": [
    "for i in test.index:\n",
    "    print(f\"test.loc['{i}']\")"
   ]
  },
  {
   "cell_type": "code",
   "execution_count": 181,
   "metadata": {},
   "outputs": [],
   "source": [
    "# #참고 인덱스 안주고 다 컬럼으로 줌\n",
    "# RENAME_ALL = {\n",
    "#     '서울':'SEOUL', '부산':'PUSAN', '대구':'DEAGU', '인천':'INCHEON', '광주':'KWANG_JU', '대전':'DAEJEON',\n",
    "#     '울산':'ULSAN', '경기':'KYEONG_GI', '강원':'KANGONE', '충북':'CHUNG_BUK', '충남':'CHUNG_NAM', '전북':'JEON_BUK',\n",
    "#     '전남':'JEON_NAM', '경북':'KYUNG_BUK','경남':'KYUNG_NAM','제주':'JE_JU','세종':'SEJONG'}\n",
    "# listvalues=list()\n",
    "# for i,j in RENAME_ALL.items():\n",
    "#     listvalues.append(j)\n",
    "# import pandas as pd\n",
    "# test = pd.DataFrame(columns=['이름','위도','경도'])\n",
    "# test = test.astype({'이름':object, '위도':np.float64, '경도':np.float64})"
   ]
  },
  {
   "cell_type": "code",
   "execution_count": 182,
   "metadata": {},
   "outputs": [],
   "source": [
    "RENAME_ALL = {\n",
    "    '서울':'SEOUL', '부산':'PUSAN', '대구':'DEAGU', '인천':'INCHEON', '광주':'KWANG_JU', '대전':'DAEJEON',\n",
    "    '울산':'ULSAN', '경기':'KYEONG_GI', '강원':'KANGONE', '충북':'CHUNG_BUK', '충남':'CHUNG_NAM', '전북':'JEON_BUK',\n",
    "    '전남':'JEON_NAM', '경북':'KYUNG_BUK','경남':'KYUNG_NAM','제주':'JE_JU','세종':'SEJONG'}\n",
    "listvalues=list()\n",
    "for i,j in RENAME_ALL.items():\n",
    "    listvalues.append(j)\n",
    "import pandas as pd\n",
    "test = pd.DataFrame(index=listvalues,columns=['위도','경도'])\n",
    "test = test[['위도','경도']].astype('float')\n",
    "test.index.names=['이름']\n",
    "test.loc['SEOUL']     = [ 37.59057852325989, 126.9741461697108 ]\n",
    "test.loc['PUSAN']     = [ 35.16646763080438, 129.02660703271857 ]\n",
    "test.loc['DEAGU']     = [ 35.81991384028659, 128.5446689181621 ]\n",
    "test.loc['INCHEON']   = [ 37.449887059861396, 126.70211361857983 ]\n",
    "test.loc['KWANG_JU']  = [ 35.166368382961416, 126.82977521060587 ]\n",
    "test.loc['DAEJEON']   = [ 36.333919790187515, 127.39531192170182 ]\n",
    "test.loc['ULSAN']     = [ 35.56562151744547, 129.2697436746425 ]\n",
    "test.loc['KYEONG_GI'] = [ 37.39689214652871, 127.49626348873487 ]\n",
    "test.loc['KANGONE']   = [ 35.481133297445965, 128.30797526353385 ]\n",
    "test.loc['CHUNG_BUK'] = [ 36.99449992376472, 127.67010320984288 ]\n",
    "test.loc['CHUNG_NAM'] = [ 36.63527888122404, 126.84859514953921 ]\n",
    "test.loc['JEON_BUK']  = [ 35.708444280199004, 127.11662005953636 ]\n",
    "test.loc['JEON_NAM']  = [ 34.88949116972007, 126.99172287794916 ]\n",
    "test.loc['KYUNG_BUK'] = [ 36.39981068831169, 128.83975128231492 ]\n",
    "test.loc['KYUNG_NAM'] = [ 35.40505429632169, 128.15416667027876 ]\n",
    "test.loc['JE_JU']     = [ 33.41802888452141, 126.57348525443793 ]\n",
    "test.loc['SEJONG']    = [ 36.5594077631663, 127.24823548942054 ]\n",
    "save_PATH = 'C:/Users/ad/Desktop/test/fin/위도경도'\n",
    "test.to_excel(save_PATH + '.xlsx', index=False)\n",
    "test.to_csv(save_PATH + '.csv', index=False, encoding='utf-8-sig')"
   ]
  },
  {
   "cell_type": "code",
   "execution_count": 183,
   "metadata": {},
   "outputs": [
    {
     "output_type": "execute_result",
     "data": {
      "text/plain": [
       "                  위도          경도\n",
       "이름                              \n",
       "SEOUL      37.590579  126.974146\n",
       "PUSAN      35.166468  129.026607\n",
       "DEAGU      35.819914  128.544669\n",
       "INCHEON    37.449887  126.702114\n",
       "KWANG_JU   35.166368  126.829775\n",
       "DAEJEON    36.333920  127.395312\n",
       "ULSAN      35.565622  129.269744\n",
       "KYEONG_GI  37.396892  127.496263\n",
       "KANGONE    35.481133  128.307975\n",
       "CHUNG_BUK  36.994500  127.670103\n",
       "CHUNG_NAM  36.635279  126.848595\n",
       "JEON_BUK   35.708444  127.116620\n",
       "JEON_NAM   34.889491  126.991723\n",
       "KYUNG_BUK  36.399811  128.839751\n",
       "KYUNG_NAM  35.405054  128.154167\n",
       "JE_JU      33.418029  126.573485\n",
       "SEJONG     36.559408  127.248235"
      ],
      "text/html": "<div>\n<style scoped>\n    .dataframe tbody tr th:only-of-type {\n        vertical-align: middle;\n    }\n\n    .dataframe tbody tr th {\n        vertical-align: top;\n    }\n\n    .dataframe thead th {\n        text-align: right;\n    }\n</style>\n<table border=\"1\" class=\"dataframe\">\n  <thead>\n    <tr style=\"text-align: right;\">\n      <th></th>\n      <th>위도</th>\n      <th>경도</th>\n    </tr>\n    <tr>\n      <th>이름</th>\n      <th></th>\n      <th></th>\n    </tr>\n  </thead>\n  <tbody>\n    <tr>\n      <th>SEOUL</th>\n      <td>37.590579</td>\n      <td>126.974146</td>\n    </tr>\n    <tr>\n      <th>PUSAN</th>\n      <td>35.166468</td>\n      <td>129.026607</td>\n    </tr>\n    <tr>\n      <th>DEAGU</th>\n      <td>35.819914</td>\n      <td>128.544669</td>\n    </tr>\n    <tr>\n      <th>INCHEON</th>\n      <td>37.449887</td>\n      <td>126.702114</td>\n    </tr>\n    <tr>\n      <th>KWANG_JU</th>\n      <td>35.166368</td>\n      <td>126.829775</td>\n    </tr>\n    <tr>\n      <th>DAEJEON</th>\n      <td>36.333920</td>\n      <td>127.395312</td>\n    </tr>\n    <tr>\n      <th>ULSAN</th>\n      <td>35.565622</td>\n      <td>129.269744</td>\n    </tr>\n    <tr>\n      <th>KYEONG_GI</th>\n      <td>37.396892</td>\n      <td>127.496263</td>\n    </tr>\n    <tr>\n      <th>KANGONE</th>\n      <td>35.481133</td>\n      <td>128.307975</td>\n    </tr>\n    <tr>\n      <th>CHUNG_BUK</th>\n      <td>36.994500</td>\n      <td>127.670103</td>\n    </tr>\n    <tr>\n      <th>CHUNG_NAM</th>\n      <td>36.635279</td>\n      <td>126.848595</td>\n    </tr>\n    <tr>\n      <th>JEON_BUK</th>\n      <td>35.708444</td>\n      <td>127.116620</td>\n    </tr>\n    <tr>\n      <th>JEON_NAM</th>\n      <td>34.889491</td>\n      <td>126.991723</td>\n    </tr>\n    <tr>\n      <th>KYUNG_BUK</th>\n      <td>36.399811</td>\n      <td>128.839751</td>\n    </tr>\n    <tr>\n      <th>KYUNG_NAM</th>\n      <td>35.405054</td>\n      <td>128.154167</td>\n    </tr>\n    <tr>\n      <th>JE_JU</th>\n      <td>33.418029</td>\n      <td>126.573485</td>\n    </tr>\n    <tr>\n      <th>SEJONG</th>\n      <td>36.559408</td>\n      <td>127.248235</td>\n    </tr>\n  </tbody>\n</table>\n</div>"
     },
     "metadata": {},
     "execution_count": 183
    }
   ],
   "source": [
    "test"
   ]
  },
  {
   "cell_type": "code",
   "execution_count": 184,
   "metadata": {},
   "outputs": [
    {
     "output_type": "execute_result",
     "data": {
      "text/plain": [
       "Index(['SEOUL', 'PUSAN', 'DEAGU', 'INCHEON', 'KWANG_JU', 'DAEJEON', 'ULSAN',\n",
       "       'KYEONG_GI', 'KANGONE', 'CHUNG_BUK', 'CHUNG_NAM', 'JEON_BUK',\n",
       "       'JEON_NAM', 'KYUNG_BUK', 'KYUNG_NAM', 'JE_JU', 'SEJONG'],\n",
       "      dtype='object', name='이름')"
      ]
     },
     "metadata": {},
     "execution_count": 184
    }
   ],
   "source": [
    "test.index"
   ]
  },
  {
   "cell_type": "code",
   "execution_count": 185,
   "metadata": {},
   "outputs": [
    {
     "output_type": "execute_result",
     "data": {
      "text/plain": [
       "37.59057852325989"
      ]
     },
     "metadata": {},
     "execution_count": 185
    }
   ],
   "source": [
    "test.loc['SEOUL', '위도']"
   ]
  },
  {
   "cell_type": "code",
   "execution_count": 206,
   "metadata": {},
   "outputs": [
    {
     "output_type": "stream",
     "name": "stdout",
     "text": [
      "37.59057852325989 126.9741461697108\n35.16646763080438 129.02660703271857\n35.81991384028659 128.5446689181621\n37.449887059861396 126.70211361857983\n35.166368382961416 126.82977521060587\n36.333919790187515 127.39531192170182\n35.56562151744547 129.2697436746425\n37.39689214652871 127.49626348873487\n35.481133297445965 128.30797526353385\n36.99449992376472 127.67010320984288\n36.63527888122404 126.84859514953921\n35.708444280199004 127.11662005953636\n34.88949116972007 126.99172287794916\n36.39981068831169 128.83975128231492\n35.40505429632169 128.15416667027876\n33.41802888452141 126.57348525443793\n36.5594077631663 127.24823548942054\n"
     ]
    }
   ],
   "source": [
    "for i in test.index :\n",
    "    latitude  = test.loc[ i, '위도' ] \n",
    "    longitude = test.loc[ i, '경도' ]\n",
    "    print(latitude, longitude)"
   ]
  },
  {
   "cell_type": "code",
   "execution_count": 222,
   "metadata": {},
   "outputs": [],
   "source": [
    "import folium\n",
    "Korea_map = folium.Map(\n",
    "    location = [ 36.71030472717672, 127.84071240718731 ],\n",
    "    titles   = 'Stamen Terrain',\n",
    "    zoom_start = 7)"
   ]
  },
  {
   "cell_type": "code",
   "execution_count": 220,
   "metadata": {},
   "outputs": [],
   "source": [
    "for i in test.index :\n",
    "    latitude  = test.loc[ i, '위도' ] \n",
    "    longitude = test.loc[ i, '경도' ]\n",
    "    \n",
    "    folium.CircleMarker(\n",
    "        location = [float(latitude),float(longitude)],\n",
    "        fill = True,\n",
    "        fill_color = 'green',\n",
    "        fill_opacity = 1,\n",
    "        weight = 1,\n",
    "        radius = 3 ).add_to(Korea_map)"
   ]
  },
  {
   "cell_type": "code",
   "execution_count": 228,
   "metadata": {},
   "outputs": [],
   "source": [
    "for i in test.index :\n",
    "    latitude  = test.loc[ i, '위도' ] \n",
    "    longitude = test.loc[ i, '경도' ]\n",
    "    fillColor = ''\n",
    "    if i == 'SEOUL':\n",
    "        fillColor = 'green'\n",
    "        size = 1\n",
    "    elif i == 'PUSAN':\n",
    "        fillColor = 'blue'\n",
    "        size = 5\n",
    "    else:\n",
    "        fillColor = 'red'\n",
    "        size = 3\n",
    "    folium.CircleMarker(\n",
    "        location = [float(latitude),float(longitude)],\n",
    "        color = fillColor,\n",
    "        fill = True,\n",
    "        fill_color = fillColor,\n",
    "        fill_opacity = 1,\n",
    "        weight = 1,\n",
    "        radius = size\n",
    "\n",
    "    ).add_to(Korea_map)\n"
   ]
  },
  {
   "cell_type": "code",
   "execution_count": 229,
   "metadata": {},
   "outputs": [
    {
     "output_type": "execute_result",
     "data": {
      "text/plain": [
       "<folium.folium.Map at 0x1bc736946d0>"
      ],
      "text/html": "<div style=\"width:100%;\"><div style=\"position:relative;width:100%;height:0;padding-bottom:60%;\"><span style=\"color:#565656\">Make this Notebook Trusted to load map: File -> Trust Notebook</span><iframe src=\"about:blank\" style=\"position:absolute;width:100%;height:100%;left:0;top:0;border:none !important;\" data-html=%3C%21DOCTYPE%20html%3E%0A%3Chead%3E%20%20%20%20%0A%20%20%20%20%3Cmeta%20http-equiv%3D%22content-type%22%20content%3D%22text/html%3B%20charset%3DUTF-8%22%20/%3E%0A%20%20%20%20%0A%20%20%20%20%20%20%20%20%3Cscript%3E%0A%20%20%20%20%20%20%20%20%20%20%20%20L_NO_TOUCH%20%3D%20false%3B%0A%20%20%20%20%20%20%20%20%20%20%20%20L_DISABLE_3D%20%3D%20false%3B%0A%20%20%20%20%20%20%20%20%3C/script%3E%0A%20%20%20%20%0A%20%20%20%20%3Cstyle%3Ehtml%2C%20body%20%7Bwidth%3A%20100%25%3Bheight%3A%20100%25%3Bmargin%3A%200%3Bpadding%3A%200%3B%7D%3C/style%3E%0A%20%20%20%20%3Cstyle%3E%23map%20%7Bposition%3Aabsolute%3Btop%3A0%3Bbottom%3A0%3Bright%3A0%3Bleft%3A0%3B%7D%3C/style%3E%0A%20%20%20%20%3Cscript%20src%3D%22https%3A//cdn.jsdelivr.net/npm/leaflet%401.6.0/dist/leaflet.js%22%3E%3C/script%3E%0A%20%20%20%20%3Cscript%20src%3D%22https%3A//code.jquery.com/jquery-1.12.4.min.js%22%3E%3C/script%3E%0A%20%20%20%20%3Cscript%20src%3D%22https%3A//maxcdn.bootstrapcdn.com/bootstrap/3.2.0/js/bootstrap.min.js%22%3E%3C/script%3E%0A%20%20%20%20%3Cscript%20src%3D%22https%3A//cdnjs.cloudflare.com/ajax/libs/Leaflet.awesome-markers/2.0.2/leaflet.awesome-markers.js%22%3E%3C/script%3E%0A%20%20%20%20%3Clink%20rel%3D%22stylesheet%22%20href%3D%22https%3A//cdn.jsdelivr.net/npm/leaflet%401.6.0/dist/leaflet.css%22/%3E%0A%20%20%20%20%3Clink%20rel%3D%22stylesheet%22%20href%3D%22https%3A//maxcdn.bootstrapcdn.com/bootstrap/3.2.0/css/bootstrap.min.css%22/%3E%0A%20%20%20%20%3Clink%20rel%3D%22stylesheet%22%20href%3D%22https%3A//maxcdn.bootstrapcdn.com/bootstrap/3.2.0/css/bootstrap-theme.min.css%22/%3E%0A%20%20%20%20%3Clink%20rel%3D%22stylesheet%22%20href%3D%22https%3A//maxcdn.bootstrapcdn.com/font-awesome/4.6.3/css/font-awesome.min.css%22/%3E%0A%20%20%20%20%3Clink%20rel%3D%22stylesheet%22%20href%3D%22https%3A//cdnjs.cloudflare.com/ajax/libs/Leaflet.awesome-markers/2.0.2/leaflet.awesome-markers.css%22/%3E%0A%20%20%20%20%3Clink%20rel%3D%22stylesheet%22%20href%3D%22https%3A//cdn.jsdelivr.net/gh/python-visualization/folium/folium/templates/leaflet.awesome.rotate.min.css%22/%3E%0A%20%20%20%20%0A%20%20%20%20%20%20%20%20%20%20%20%20%3Cmeta%20name%3D%22viewport%22%20content%3D%22width%3Ddevice-width%2C%0A%20%20%20%20%20%20%20%20%20%20%20%20%20%20%20%20initial-scale%3D1.0%2C%20maximum-scale%3D1.0%2C%20user-scalable%3Dno%22%20/%3E%0A%20%20%20%20%20%20%20%20%20%20%20%20%3Cstyle%3E%0A%20%20%20%20%20%20%20%20%20%20%20%20%20%20%20%20%23map_39f8c3e45d3440719e49060ef5767f8f%20%7B%0A%20%20%20%20%20%20%20%20%20%20%20%20%20%20%20%20%20%20%20%20position%3A%20relative%3B%0A%20%20%20%20%20%20%20%20%20%20%20%20%20%20%20%20%20%20%20%20width%3A%20100.0%25%3B%0A%20%20%20%20%20%20%20%20%20%20%20%20%20%20%20%20%20%20%20%20height%3A%20100.0%25%3B%0A%20%20%20%20%20%20%20%20%20%20%20%20%20%20%20%20%20%20%20%20left%3A%200.0%25%3B%0A%20%20%20%20%20%20%20%20%20%20%20%20%20%20%20%20%20%20%20%20top%3A%200.0%25%3B%0A%20%20%20%20%20%20%20%20%20%20%20%20%20%20%20%20%7D%0A%20%20%20%20%20%20%20%20%20%20%20%20%3C/style%3E%0A%20%20%20%20%20%20%20%20%0A%3C/head%3E%0A%3Cbody%3E%20%20%20%20%0A%20%20%20%20%0A%20%20%20%20%20%20%20%20%20%20%20%20%3Cdiv%20class%3D%22folium-map%22%20id%3D%22map_39f8c3e45d3440719e49060ef5767f8f%22%20%3E%3C/div%3E%0A%20%20%20%20%20%20%20%20%0A%3C/body%3E%0A%3Cscript%3E%20%20%20%20%0A%20%20%20%20%0A%20%20%20%20%20%20%20%20%20%20%20%20var%20map_39f8c3e45d3440719e49060ef5767f8f%20%3D%20L.map%28%0A%20%20%20%20%20%20%20%20%20%20%20%20%20%20%20%20%22map_39f8c3e45d3440719e49060ef5767f8f%22%2C%0A%20%20%20%20%20%20%20%20%20%20%20%20%20%20%20%20%7B%0A%20%20%20%20%20%20%20%20%20%20%20%20%20%20%20%20%20%20%20%20center%3A%20%5B36.71030472717672%2C%20127.84071240718731%5D%2C%0A%20%20%20%20%20%20%20%20%20%20%20%20%20%20%20%20%20%20%20%20crs%3A%20L.CRS.EPSG3857%2C%0A%20%20%20%20%20%20%20%20%20%20%20%20%20%20%20%20%20%20%20%20zoom%3A%207%2C%0A%20%20%20%20%20%20%20%20%20%20%20%20%20%20%20%20%20%20%20%20zoomControl%3A%20true%2C%0A%20%20%20%20%20%20%20%20%20%20%20%20%20%20%20%20%20%20%20%20preferCanvas%3A%20false%2C%0A%20%20%20%20%20%20%20%20%20%20%20%20%20%20%20%20%20%20%20%20titles%3A%20%22Stamen%20Terrain%22%2C%0A%20%20%20%20%20%20%20%20%20%20%20%20%20%20%20%20%7D%0A%20%20%20%20%20%20%20%20%20%20%20%20%29%3B%0A%0A%20%20%20%20%20%20%20%20%20%20%20%20%0A%0A%20%20%20%20%20%20%20%20%0A%20%20%20%20%0A%20%20%20%20%20%20%20%20%20%20%20%20var%20tile_layer_4719ac71f188400cb65912c0ccec6bfd%20%3D%20L.tileLayer%28%0A%20%20%20%20%20%20%20%20%20%20%20%20%20%20%20%20%22https%3A//%7Bs%7D.tile.openstreetmap.org/%7Bz%7D/%7Bx%7D/%7By%7D.png%22%2C%0A%20%20%20%20%20%20%20%20%20%20%20%20%20%20%20%20%7B%22attribution%22%3A%20%22Data%20by%20%5Cu0026copy%3B%20%5Cu003ca%20href%3D%5C%22http%3A//openstreetmap.org%5C%22%5Cu003eOpenStreetMap%5Cu003c/a%5Cu003e%2C%20under%20%5Cu003ca%20href%3D%5C%22http%3A//www.openstreetmap.org/copyright%5C%22%5Cu003eODbL%5Cu003c/a%5Cu003e.%22%2C%20%22detectRetina%22%3A%20false%2C%20%22maxNativeZoom%22%3A%2018%2C%20%22maxZoom%22%3A%2018%2C%20%22minZoom%22%3A%200%2C%20%22noWrap%22%3A%20false%2C%20%22opacity%22%3A%201%2C%20%22subdomains%22%3A%20%22abc%22%2C%20%22tms%22%3A%20false%7D%0A%20%20%20%20%20%20%20%20%20%20%20%20%29.addTo%28map_39f8c3e45d3440719e49060ef5767f8f%29%3B%0A%20%20%20%20%20%20%20%20%0A%20%20%20%20%0A%20%20%20%20%20%20%20%20%20%20%20%20var%20circle_marker_ffebe153ee674d0e9be9b7987ce0d8a9%20%3D%20L.circleMarker%28%0A%20%20%20%20%20%20%20%20%20%20%20%20%20%20%20%20%5B37.59057852325989%2C%20126.9741461697108%5D%2C%0A%20%20%20%20%20%20%20%20%20%20%20%20%20%20%20%20%7B%22bubblingMouseEvents%22%3A%20true%2C%20%22color%22%3A%20%22gray%22%2C%20%22dashArray%22%3A%20null%2C%20%22dashOffset%22%3A%20null%2C%20%22fill%22%3A%20true%2C%20%22fillColor%22%3A%20%22gray%22%2C%20%22fillOpacity%22%3A%201%2C%20%22fillRule%22%3A%20%22evenodd%22%2C%20%22lineCap%22%3A%20%22round%22%2C%20%22lineJoin%22%3A%20%22round%22%2C%20%22opacity%22%3A%201.0%2C%20%22radius%22%3A%201%2C%20%22stroke%22%3A%20true%2C%20%22weight%22%3A%201%7D%0A%20%20%20%20%20%20%20%20%20%20%20%20%29.addTo%28map_39f8c3e45d3440719e49060ef5767f8f%29%3B%0A%20%20%20%20%20%20%20%20%0A%20%20%20%20%0A%20%20%20%20%20%20%20%20%20%20%20%20var%20circle_marker_c9f56020b5174000891590d77c89e99b%20%3D%20L.circleMarker%28%0A%20%20%20%20%20%20%20%20%20%20%20%20%20%20%20%20%5B35.16646763080438%2C%20129.02660703271857%5D%2C%0A%20%20%20%20%20%20%20%20%20%20%20%20%20%20%20%20%7B%22bubblingMouseEvents%22%3A%20true%2C%20%22color%22%3A%20%22blue%22%2C%20%22dashArray%22%3A%20null%2C%20%22dashOffset%22%3A%20null%2C%20%22fill%22%3A%20true%2C%20%22fillColor%22%3A%20%22blue%22%2C%20%22fillOpacity%22%3A%201%2C%20%22fillRule%22%3A%20%22evenodd%22%2C%20%22lineCap%22%3A%20%22round%22%2C%20%22lineJoin%22%3A%20%22round%22%2C%20%22opacity%22%3A%201.0%2C%20%22radius%22%3A%205%2C%20%22stroke%22%3A%20true%2C%20%22weight%22%3A%201%7D%0A%20%20%20%20%20%20%20%20%20%20%20%20%29.addTo%28map_39f8c3e45d3440719e49060ef5767f8f%29%3B%0A%20%20%20%20%20%20%20%20%0A%20%20%20%20%0A%20%20%20%20%20%20%20%20%20%20%20%20var%20circle_marker_a011febb4f4c48b5805317608384de0f%20%3D%20L.circleMarker%28%0A%20%20%20%20%20%20%20%20%20%20%20%20%20%20%20%20%5B35.81991384028659%2C%20128.5446689181621%5D%2C%0A%20%20%20%20%20%20%20%20%20%20%20%20%20%20%20%20%7B%22bubblingMouseEvents%22%3A%20true%2C%20%22color%22%3A%20%22red%22%2C%20%22dashArray%22%3A%20null%2C%20%22dashOffset%22%3A%20null%2C%20%22fill%22%3A%20true%2C%20%22fillColor%22%3A%20%22red%22%2C%20%22fillOpacity%22%3A%201%2C%20%22fillRule%22%3A%20%22evenodd%22%2C%20%22lineCap%22%3A%20%22round%22%2C%20%22lineJoin%22%3A%20%22round%22%2C%20%22opacity%22%3A%201.0%2C%20%22radius%22%3A%203%2C%20%22stroke%22%3A%20true%2C%20%22weight%22%3A%201%7D%0A%20%20%20%20%20%20%20%20%20%20%20%20%29.addTo%28map_39f8c3e45d3440719e49060ef5767f8f%29%3B%0A%20%20%20%20%20%20%20%20%0A%20%20%20%20%0A%20%20%20%20%20%20%20%20%20%20%20%20var%20circle_marker_99a3cb0230f74577be499d2329991641%20%3D%20L.circleMarker%28%0A%20%20%20%20%20%20%20%20%20%20%20%20%20%20%20%20%5B37.449887059861396%2C%20126.70211361857983%5D%2C%0A%20%20%20%20%20%20%20%20%20%20%20%20%20%20%20%20%7B%22bubblingMouseEvents%22%3A%20true%2C%20%22color%22%3A%20%22red%22%2C%20%22dashArray%22%3A%20null%2C%20%22dashOffset%22%3A%20null%2C%20%22fill%22%3A%20true%2C%20%22fillColor%22%3A%20%22red%22%2C%20%22fillOpacity%22%3A%201%2C%20%22fillRule%22%3A%20%22evenodd%22%2C%20%22lineCap%22%3A%20%22round%22%2C%20%22lineJoin%22%3A%20%22round%22%2C%20%22opacity%22%3A%201.0%2C%20%22radius%22%3A%203%2C%20%22stroke%22%3A%20true%2C%20%22weight%22%3A%201%7D%0A%20%20%20%20%20%20%20%20%20%20%20%20%29.addTo%28map_39f8c3e45d3440719e49060ef5767f8f%29%3B%0A%20%20%20%20%20%20%20%20%0A%20%20%20%20%0A%20%20%20%20%20%20%20%20%20%20%20%20var%20circle_marker_316b54b99e83411d91d826db558b687a%20%3D%20L.circleMarker%28%0A%20%20%20%20%20%20%20%20%20%20%20%20%20%20%20%20%5B35.166368382961416%2C%20126.82977521060587%5D%2C%0A%20%20%20%20%20%20%20%20%20%20%20%20%20%20%20%20%7B%22bubblingMouseEvents%22%3A%20true%2C%20%22color%22%3A%20%22red%22%2C%20%22dashArray%22%3A%20null%2C%20%22dashOffset%22%3A%20null%2C%20%22fill%22%3A%20true%2C%20%22fillColor%22%3A%20%22red%22%2C%20%22fillOpacity%22%3A%201%2C%20%22fillRule%22%3A%20%22evenodd%22%2C%20%22lineCap%22%3A%20%22round%22%2C%20%22lineJoin%22%3A%20%22round%22%2C%20%22opacity%22%3A%201.0%2C%20%22radius%22%3A%203%2C%20%22stroke%22%3A%20true%2C%20%22weight%22%3A%201%7D%0A%20%20%20%20%20%20%20%20%20%20%20%20%29.addTo%28map_39f8c3e45d3440719e49060ef5767f8f%29%3B%0A%20%20%20%20%20%20%20%20%0A%20%20%20%20%0A%20%20%20%20%20%20%20%20%20%20%20%20var%20circle_marker_3b638cafbaf94b20bac12865541ada35%20%3D%20L.circleMarker%28%0A%20%20%20%20%20%20%20%20%20%20%20%20%20%20%20%20%5B36.333919790187515%2C%20127.39531192170182%5D%2C%0A%20%20%20%20%20%20%20%20%20%20%20%20%20%20%20%20%7B%22bubblingMouseEvents%22%3A%20true%2C%20%22color%22%3A%20%22red%22%2C%20%22dashArray%22%3A%20null%2C%20%22dashOffset%22%3A%20null%2C%20%22fill%22%3A%20true%2C%20%22fillColor%22%3A%20%22red%22%2C%20%22fillOpacity%22%3A%201%2C%20%22fillRule%22%3A%20%22evenodd%22%2C%20%22lineCap%22%3A%20%22round%22%2C%20%22lineJoin%22%3A%20%22round%22%2C%20%22opacity%22%3A%201.0%2C%20%22radius%22%3A%203%2C%20%22stroke%22%3A%20true%2C%20%22weight%22%3A%201%7D%0A%20%20%20%20%20%20%20%20%20%20%20%20%29.addTo%28map_39f8c3e45d3440719e49060ef5767f8f%29%3B%0A%20%20%20%20%20%20%20%20%0A%20%20%20%20%0A%20%20%20%20%20%20%20%20%20%20%20%20var%20circle_marker_f3ad27b582a343cb83523bd754a3a967%20%3D%20L.circleMarker%28%0A%20%20%20%20%20%20%20%20%20%20%20%20%20%20%20%20%5B35.56562151744547%2C%20129.2697436746425%5D%2C%0A%20%20%20%20%20%20%20%20%20%20%20%20%20%20%20%20%7B%22bubblingMouseEvents%22%3A%20true%2C%20%22color%22%3A%20%22red%22%2C%20%22dashArray%22%3A%20null%2C%20%22dashOffset%22%3A%20null%2C%20%22fill%22%3A%20true%2C%20%22fillColor%22%3A%20%22red%22%2C%20%22fillOpacity%22%3A%201%2C%20%22fillRule%22%3A%20%22evenodd%22%2C%20%22lineCap%22%3A%20%22round%22%2C%20%22lineJoin%22%3A%20%22round%22%2C%20%22opacity%22%3A%201.0%2C%20%22radius%22%3A%203%2C%20%22stroke%22%3A%20true%2C%20%22weight%22%3A%201%7D%0A%20%20%20%20%20%20%20%20%20%20%20%20%29.addTo%28map_39f8c3e45d3440719e49060ef5767f8f%29%3B%0A%20%20%20%20%20%20%20%20%0A%20%20%20%20%0A%20%20%20%20%20%20%20%20%20%20%20%20var%20circle_marker_5c6fe3daa2554fea8c9cbab25db6e522%20%3D%20L.circleMarker%28%0A%20%20%20%20%20%20%20%20%20%20%20%20%20%20%20%20%5B37.39689214652871%2C%20127.49626348873487%5D%2C%0A%20%20%20%20%20%20%20%20%20%20%20%20%20%20%20%20%7B%22bubblingMouseEvents%22%3A%20true%2C%20%22color%22%3A%20%22red%22%2C%20%22dashArray%22%3A%20null%2C%20%22dashOffset%22%3A%20null%2C%20%22fill%22%3A%20true%2C%20%22fillColor%22%3A%20%22red%22%2C%20%22fillOpacity%22%3A%201%2C%20%22fillRule%22%3A%20%22evenodd%22%2C%20%22lineCap%22%3A%20%22round%22%2C%20%22lineJoin%22%3A%20%22round%22%2C%20%22opacity%22%3A%201.0%2C%20%22radius%22%3A%203%2C%20%22stroke%22%3A%20true%2C%20%22weight%22%3A%201%7D%0A%20%20%20%20%20%20%20%20%20%20%20%20%29.addTo%28map_39f8c3e45d3440719e49060ef5767f8f%29%3B%0A%20%20%20%20%20%20%20%20%0A%20%20%20%20%0A%20%20%20%20%20%20%20%20%20%20%20%20var%20circle_marker_c4f26166237d4c3dba7781e7484d00c7%20%3D%20L.circleMarker%28%0A%20%20%20%20%20%20%20%20%20%20%20%20%20%20%20%20%5B35.481133297445965%2C%20128.30797526353385%5D%2C%0A%20%20%20%20%20%20%20%20%20%20%20%20%20%20%20%20%7B%22bubblingMouseEvents%22%3A%20true%2C%20%22color%22%3A%20%22red%22%2C%20%22dashArray%22%3A%20null%2C%20%22dashOffset%22%3A%20null%2C%20%22fill%22%3A%20true%2C%20%22fillColor%22%3A%20%22red%22%2C%20%22fillOpacity%22%3A%201%2C%20%22fillRule%22%3A%20%22evenodd%22%2C%20%22lineCap%22%3A%20%22round%22%2C%20%22lineJoin%22%3A%20%22round%22%2C%20%22opacity%22%3A%201.0%2C%20%22radius%22%3A%203%2C%20%22stroke%22%3A%20true%2C%20%22weight%22%3A%201%7D%0A%20%20%20%20%20%20%20%20%20%20%20%20%29.addTo%28map_39f8c3e45d3440719e49060ef5767f8f%29%3B%0A%20%20%20%20%20%20%20%20%0A%20%20%20%20%0A%20%20%20%20%20%20%20%20%20%20%20%20var%20circle_marker_2bb0a83020c94d378f021862c6178e60%20%3D%20L.circleMarker%28%0A%20%20%20%20%20%20%20%20%20%20%20%20%20%20%20%20%5B36.99449992376472%2C%20127.67010320984288%5D%2C%0A%20%20%20%20%20%20%20%20%20%20%20%20%20%20%20%20%7B%22bubblingMouseEvents%22%3A%20true%2C%20%22color%22%3A%20%22red%22%2C%20%22dashArray%22%3A%20null%2C%20%22dashOffset%22%3A%20null%2C%20%22fill%22%3A%20true%2C%20%22fillColor%22%3A%20%22red%22%2C%20%22fillOpacity%22%3A%201%2C%20%22fillRule%22%3A%20%22evenodd%22%2C%20%22lineCap%22%3A%20%22round%22%2C%20%22lineJoin%22%3A%20%22round%22%2C%20%22opacity%22%3A%201.0%2C%20%22radius%22%3A%203%2C%20%22stroke%22%3A%20true%2C%20%22weight%22%3A%201%7D%0A%20%20%20%20%20%20%20%20%20%20%20%20%29.addTo%28map_39f8c3e45d3440719e49060ef5767f8f%29%3B%0A%20%20%20%20%20%20%20%20%0A%20%20%20%20%0A%20%20%20%20%20%20%20%20%20%20%20%20var%20circle_marker_74c47802984946afa3822b272aeffeee%20%3D%20L.circleMarker%28%0A%20%20%20%20%20%20%20%20%20%20%20%20%20%20%20%20%5B36.63527888122404%2C%20126.84859514953921%5D%2C%0A%20%20%20%20%20%20%20%20%20%20%20%20%20%20%20%20%7B%22bubblingMouseEvents%22%3A%20true%2C%20%22color%22%3A%20%22red%22%2C%20%22dashArray%22%3A%20null%2C%20%22dashOffset%22%3A%20null%2C%20%22fill%22%3A%20true%2C%20%22fillColor%22%3A%20%22red%22%2C%20%22fillOpacity%22%3A%201%2C%20%22fillRule%22%3A%20%22evenodd%22%2C%20%22lineCap%22%3A%20%22round%22%2C%20%22lineJoin%22%3A%20%22round%22%2C%20%22opacity%22%3A%201.0%2C%20%22radius%22%3A%203%2C%20%22stroke%22%3A%20true%2C%20%22weight%22%3A%201%7D%0A%20%20%20%20%20%20%20%20%20%20%20%20%29.addTo%28map_39f8c3e45d3440719e49060ef5767f8f%29%3B%0A%20%20%20%20%20%20%20%20%0A%20%20%20%20%0A%20%20%20%20%20%20%20%20%20%20%20%20var%20circle_marker_fd0d74fb6cfb4c3bbdceadc056a8cf3f%20%3D%20L.circleMarker%28%0A%20%20%20%20%20%20%20%20%20%20%20%20%20%20%20%20%5B35.708444280199004%2C%20127.11662005953636%5D%2C%0A%20%20%20%20%20%20%20%20%20%20%20%20%20%20%20%20%7B%22bubblingMouseEvents%22%3A%20true%2C%20%22color%22%3A%20%22red%22%2C%20%22dashArray%22%3A%20null%2C%20%22dashOffset%22%3A%20null%2C%20%22fill%22%3A%20true%2C%20%22fillColor%22%3A%20%22red%22%2C%20%22fillOpacity%22%3A%201%2C%20%22fillRule%22%3A%20%22evenodd%22%2C%20%22lineCap%22%3A%20%22round%22%2C%20%22lineJoin%22%3A%20%22round%22%2C%20%22opacity%22%3A%201.0%2C%20%22radius%22%3A%203%2C%20%22stroke%22%3A%20true%2C%20%22weight%22%3A%201%7D%0A%20%20%20%20%20%20%20%20%20%20%20%20%29.addTo%28map_39f8c3e45d3440719e49060ef5767f8f%29%3B%0A%20%20%20%20%20%20%20%20%0A%20%20%20%20%0A%20%20%20%20%20%20%20%20%20%20%20%20var%20circle_marker_ae053913394e4aa59edb65f0e2c5f4db%20%3D%20L.circleMarker%28%0A%20%20%20%20%20%20%20%20%20%20%20%20%20%20%20%20%5B34.88949116972007%2C%20126.99172287794916%5D%2C%0A%20%20%20%20%20%20%20%20%20%20%20%20%20%20%20%20%7B%22bubblingMouseEvents%22%3A%20true%2C%20%22color%22%3A%20%22red%22%2C%20%22dashArray%22%3A%20null%2C%20%22dashOffset%22%3A%20null%2C%20%22fill%22%3A%20true%2C%20%22fillColor%22%3A%20%22red%22%2C%20%22fillOpacity%22%3A%201%2C%20%22fillRule%22%3A%20%22evenodd%22%2C%20%22lineCap%22%3A%20%22round%22%2C%20%22lineJoin%22%3A%20%22round%22%2C%20%22opacity%22%3A%201.0%2C%20%22radius%22%3A%203%2C%20%22stroke%22%3A%20true%2C%20%22weight%22%3A%201%7D%0A%20%20%20%20%20%20%20%20%20%20%20%20%29.addTo%28map_39f8c3e45d3440719e49060ef5767f8f%29%3B%0A%20%20%20%20%20%20%20%20%0A%20%20%20%20%0A%20%20%20%20%20%20%20%20%20%20%20%20var%20circle_marker_af80b7199c8a4de2be39671595365537%20%3D%20L.circleMarker%28%0A%20%20%20%20%20%20%20%20%20%20%20%20%20%20%20%20%5B36.39981068831169%2C%20128.83975128231492%5D%2C%0A%20%20%20%20%20%20%20%20%20%20%20%20%20%20%20%20%7B%22bubblingMouseEvents%22%3A%20true%2C%20%22color%22%3A%20%22red%22%2C%20%22dashArray%22%3A%20null%2C%20%22dashOffset%22%3A%20null%2C%20%22fill%22%3A%20true%2C%20%22fillColor%22%3A%20%22red%22%2C%20%22fillOpacity%22%3A%201%2C%20%22fillRule%22%3A%20%22evenodd%22%2C%20%22lineCap%22%3A%20%22round%22%2C%20%22lineJoin%22%3A%20%22round%22%2C%20%22opacity%22%3A%201.0%2C%20%22radius%22%3A%203%2C%20%22stroke%22%3A%20true%2C%20%22weight%22%3A%201%7D%0A%20%20%20%20%20%20%20%20%20%20%20%20%29.addTo%28map_39f8c3e45d3440719e49060ef5767f8f%29%3B%0A%20%20%20%20%20%20%20%20%0A%20%20%20%20%0A%20%20%20%20%20%20%20%20%20%20%20%20var%20circle_marker_1b4656132dbc484697c7be668a8c63c3%20%3D%20L.circleMarker%28%0A%20%20%20%20%20%20%20%20%20%20%20%20%20%20%20%20%5B35.40505429632169%2C%20128.15416667027876%5D%2C%0A%20%20%20%20%20%20%20%20%20%20%20%20%20%20%20%20%7B%22bubblingMouseEvents%22%3A%20true%2C%20%22color%22%3A%20%22red%22%2C%20%22dashArray%22%3A%20null%2C%20%22dashOffset%22%3A%20null%2C%20%22fill%22%3A%20true%2C%20%22fillColor%22%3A%20%22red%22%2C%20%22fillOpacity%22%3A%201%2C%20%22fillRule%22%3A%20%22evenodd%22%2C%20%22lineCap%22%3A%20%22round%22%2C%20%22lineJoin%22%3A%20%22round%22%2C%20%22opacity%22%3A%201.0%2C%20%22radius%22%3A%203%2C%20%22stroke%22%3A%20true%2C%20%22weight%22%3A%201%7D%0A%20%20%20%20%20%20%20%20%20%20%20%20%29.addTo%28map_39f8c3e45d3440719e49060ef5767f8f%29%3B%0A%20%20%20%20%20%20%20%20%0A%20%20%20%20%0A%20%20%20%20%20%20%20%20%20%20%20%20var%20circle_marker_e9a5d058b7d64b89bab14d5278206692%20%3D%20L.circleMarker%28%0A%20%20%20%20%20%20%20%20%20%20%20%20%20%20%20%20%5B33.41802888452141%2C%20126.57348525443793%5D%2C%0A%20%20%20%20%20%20%20%20%20%20%20%20%20%20%20%20%7B%22bubblingMouseEvents%22%3A%20true%2C%20%22color%22%3A%20%22red%22%2C%20%22dashArray%22%3A%20null%2C%20%22dashOffset%22%3A%20null%2C%20%22fill%22%3A%20true%2C%20%22fillColor%22%3A%20%22red%22%2C%20%22fillOpacity%22%3A%201%2C%20%22fillRule%22%3A%20%22evenodd%22%2C%20%22lineCap%22%3A%20%22round%22%2C%20%22lineJoin%22%3A%20%22round%22%2C%20%22opacity%22%3A%201.0%2C%20%22radius%22%3A%203%2C%20%22stroke%22%3A%20true%2C%20%22weight%22%3A%201%7D%0A%20%20%20%20%20%20%20%20%20%20%20%20%29.addTo%28map_39f8c3e45d3440719e49060ef5767f8f%29%3B%0A%20%20%20%20%20%20%20%20%0A%20%20%20%20%0A%20%20%20%20%20%20%20%20%20%20%20%20var%20circle_marker_14f49a7c130a41a2bae276f48162eb92%20%3D%20L.circleMarker%28%0A%20%20%20%20%20%20%20%20%20%20%20%20%20%20%20%20%5B36.5594077631663%2C%20127.24823548942054%5D%2C%0A%20%20%20%20%20%20%20%20%20%20%20%20%20%20%20%20%7B%22bubblingMouseEvents%22%3A%20true%2C%20%22color%22%3A%20%22red%22%2C%20%22dashArray%22%3A%20null%2C%20%22dashOffset%22%3A%20null%2C%20%22fill%22%3A%20true%2C%20%22fillColor%22%3A%20%22red%22%2C%20%22fillOpacity%22%3A%201%2C%20%22fillRule%22%3A%20%22evenodd%22%2C%20%22lineCap%22%3A%20%22round%22%2C%20%22lineJoin%22%3A%20%22round%22%2C%20%22opacity%22%3A%201.0%2C%20%22radius%22%3A%203%2C%20%22stroke%22%3A%20true%2C%20%22weight%22%3A%201%7D%0A%20%20%20%20%20%20%20%20%20%20%20%20%29.addTo%28map_39f8c3e45d3440719e49060ef5767f8f%29%3B%0A%20%20%20%20%20%20%20%20%0A%20%20%20%20%0A%20%20%20%20%20%20%20%20%20%20%20%20var%20circle_marker_a8ee1ea18a79459ebaf2d0706514bdcd%20%3D%20L.circleMarker%28%0A%20%20%20%20%20%20%20%20%20%20%20%20%20%20%20%20%5B37.59057852325989%2C%20126.9741461697108%5D%2C%0A%20%20%20%20%20%20%20%20%20%20%20%20%20%20%20%20%7B%22bubblingMouseEvents%22%3A%20true%2C%20%22color%22%3A%20%22green%22%2C%20%22dashArray%22%3A%20null%2C%20%22dashOffset%22%3A%20null%2C%20%22fill%22%3A%20true%2C%20%22fillColor%22%3A%20%22green%22%2C%20%22fillOpacity%22%3A%201%2C%20%22fillRule%22%3A%20%22evenodd%22%2C%20%22lineCap%22%3A%20%22round%22%2C%20%22lineJoin%22%3A%20%22round%22%2C%20%22opacity%22%3A%201.0%2C%20%22radius%22%3A%201%2C%20%22stroke%22%3A%20true%2C%20%22weight%22%3A%201%7D%0A%20%20%20%20%20%20%20%20%20%20%20%20%29.addTo%28map_39f8c3e45d3440719e49060ef5767f8f%29%3B%0A%20%20%20%20%20%20%20%20%0A%20%20%20%20%0A%20%20%20%20%20%20%20%20%20%20%20%20var%20circle_marker_190711c776a9417cb0b2a03ff0fd21bd%20%3D%20L.circleMarker%28%0A%20%20%20%20%20%20%20%20%20%20%20%20%20%20%20%20%5B35.16646763080438%2C%20129.02660703271857%5D%2C%0A%20%20%20%20%20%20%20%20%20%20%20%20%20%20%20%20%7B%22bubblingMouseEvents%22%3A%20true%2C%20%22color%22%3A%20%22blue%22%2C%20%22dashArray%22%3A%20null%2C%20%22dashOffset%22%3A%20null%2C%20%22fill%22%3A%20true%2C%20%22fillColor%22%3A%20%22blue%22%2C%20%22fillOpacity%22%3A%201%2C%20%22fillRule%22%3A%20%22evenodd%22%2C%20%22lineCap%22%3A%20%22round%22%2C%20%22lineJoin%22%3A%20%22round%22%2C%20%22opacity%22%3A%201.0%2C%20%22radius%22%3A%205%2C%20%22stroke%22%3A%20true%2C%20%22weight%22%3A%201%7D%0A%20%20%20%20%20%20%20%20%20%20%20%20%29.addTo%28map_39f8c3e45d3440719e49060ef5767f8f%29%3B%0A%20%20%20%20%20%20%20%20%0A%20%20%20%20%0A%20%20%20%20%20%20%20%20%20%20%20%20var%20circle_marker_5a2afe3fb6aa4a4bbc98868a2aec6814%20%3D%20L.circleMarker%28%0A%20%20%20%20%20%20%20%20%20%20%20%20%20%20%20%20%5B35.81991384028659%2C%20128.5446689181621%5D%2C%0A%20%20%20%20%20%20%20%20%20%20%20%20%20%20%20%20%7B%22bubblingMouseEvents%22%3A%20true%2C%20%22color%22%3A%20%22red%22%2C%20%22dashArray%22%3A%20null%2C%20%22dashOffset%22%3A%20null%2C%20%22fill%22%3A%20true%2C%20%22fillColor%22%3A%20%22red%22%2C%20%22fillOpacity%22%3A%201%2C%20%22fillRule%22%3A%20%22evenodd%22%2C%20%22lineCap%22%3A%20%22round%22%2C%20%22lineJoin%22%3A%20%22round%22%2C%20%22opacity%22%3A%201.0%2C%20%22radius%22%3A%203%2C%20%22stroke%22%3A%20true%2C%20%22weight%22%3A%201%7D%0A%20%20%20%20%20%20%20%20%20%20%20%20%29.addTo%28map_39f8c3e45d3440719e49060ef5767f8f%29%3B%0A%20%20%20%20%20%20%20%20%0A%20%20%20%20%0A%20%20%20%20%20%20%20%20%20%20%20%20var%20circle_marker_364be02655e345b4ba0d69b6a94f83f2%20%3D%20L.circleMarker%28%0A%20%20%20%20%20%20%20%20%20%20%20%20%20%20%20%20%5B37.449887059861396%2C%20126.70211361857983%5D%2C%0A%20%20%20%20%20%20%20%20%20%20%20%20%20%20%20%20%7B%22bubblingMouseEvents%22%3A%20true%2C%20%22color%22%3A%20%22red%22%2C%20%22dashArray%22%3A%20null%2C%20%22dashOffset%22%3A%20null%2C%20%22fill%22%3A%20true%2C%20%22fillColor%22%3A%20%22red%22%2C%20%22fillOpacity%22%3A%201%2C%20%22fillRule%22%3A%20%22evenodd%22%2C%20%22lineCap%22%3A%20%22round%22%2C%20%22lineJoin%22%3A%20%22round%22%2C%20%22opacity%22%3A%201.0%2C%20%22radius%22%3A%203%2C%20%22stroke%22%3A%20true%2C%20%22weight%22%3A%201%7D%0A%20%20%20%20%20%20%20%20%20%20%20%20%29.addTo%28map_39f8c3e45d3440719e49060ef5767f8f%29%3B%0A%20%20%20%20%20%20%20%20%0A%20%20%20%20%0A%20%20%20%20%20%20%20%20%20%20%20%20var%20circle_marker_91e571ab3e6044c8ba05ebc019c26d9f%20%3D%20L.circleMarker%28%0A%20%20%20%20%20%20%20%20%20%20%20%20%20%20%20%20%5B35.166368382961416%2C%20126.82977521060587%5D%2C%0A%20%20%20%20%20%20%20%20%20%20%20%20%20%20%20%20%7B%22bubblingMouseEvents%22%3A%20true%2C%20%22color%22%3A%20%22red%22%2C%20%22dashArray%22%3A%20null%2C%20%22dashOffset%22%3A%20null%2C%20%22fill%22%3A%20true%2C%20%22fillColor%22%3A%20%22red%22%2C%20%22fillOpacity%22%3A%201%2C%20%22fillRule%22%3A%20%22evenodd%22%2C%20%22lineCap%22%3A%20%22round%22%2C%20%22lineJoin%22%3A%20%22round%22%2C%20%22opacity%22%3A%201.0%2C%20%22radius%22%3A%203%2C%20%22stroke%22%3A%20true%2C%20%22weight%22%3A%201%7D%0A%20%20%20%20%20%20%20%20%20%20%20%20%29.addTo%28map_39f8c3e45d3440719e49060ef5767f8f%29%3B%0A%20%20%20%20%20%20%20%20%0A%20%20%20%20%0A%20%20%20%20%20%20%20%20%20%20%20%20var%20circle_marker_6f35cc620f6c40dca892d6d610348268%20%3D%20L.circleMarker%28%0A%20%20%20%20%20%20%20%20%20%20%20%20%20%20%20%20%5B36.333919790187515%2C%20127.39531192170182%5D%2C%0A%20%20%20%20%20%20%20%20%20%20%20%20%20%20%20%20%7B%22bubblingMouseEvents%22%3A%20true%2C%20%22color%22%3A%20%22red%22%2C%20%22dashArray%22%3A%20null%2C%20%22dashOffset%22%3A%20null%2C%20%22fill%22%3A%20true%2C%20%22fillColor%22%3A%20%22red%22%2C%20%22fillOpacity%22%3A%201%2C%20%22fillRule%22%3A%20%22evenodd%22%2C%20%22lineCap%22%3A%20%22round%22%2C%20%22lineJoin%22%3A%20%22round%22%2C%20%22opacity%22%3A%201.0%2C%20%22radius%22%3A%203%2C%20%22stroke%22%3A%20true%2C%20%22weight%22%3A%201%7D%0A%20%20%20%20%20%20%20%20%20%20%20%20%29.addTo%28map_39f8c3e45d3440719e49060ef5767f8f%29%3B%0A%20%20%20%20%20%20%20%20%0A%20%20%20%20%0A%20%20%20%20%20%20%20%20%20%20%20%20var%20circle_marker_b1e87ef432734a3aa49ff1ef0fff22ac%20%3D%20L.circleMarker%28%0A%20%20%20%20%20%20%20%20%20%20%20%20%20%20%20%20%5B35.56562151744547%2C%20129.2697436746425%5D%2C%0A%20%20%20%20%20%20%20%20%20%20%20%20%20%20%20%20%7B%22bubblingMouseEvents%22%3A%20true%2C%20%22color%22%3A%20%22red%22%2C%20%22dashArray%22%3A%20null%2C%20%22dashOffset%22%3A%20null%2C%20%22fill%22%3A%20true%2C%20%22fillColor%22%3A%20%22red%22%2C%20%22fillOpacity%22%3A%201%2C%20%22fillRule%22%3A%20%22evenodd%22%2C%20%22lineCap%22%3A%20%22round%22%2C%20%22lineJoin%22%3A%20%22round%22%2C%20%22opacity%22%3A%201.0%2C%20%22radius%22%3A%203%2C%20%22stroke%22%3A%20true%2C%20%22weight%22%3A%201%7D%0A%20%20%20%20%20%20%20%20%20%20%20%20%29.addTo%28map_39f8c3e45d3440719e49060ef5767f8f%29%3B%0A%20%20%20%20%20%20%20%20%0A%20%20%20%20%0A%20%20%20%20%20%20%20%20%20%20%20%20var%20circle_marker_319d7356479c4b81a17b4348d090fbaf%20%3D%20L.circleMarker%28%0A%20%20%20%20%20%20%20%20%20%20%20%20%20%20%20%20%5B37.39689214652871%2C%20127.49626348873487%5D%2C%0A%20%20%20%20%20%20%20%20%20%20%20%20%20%20%20%20%7B%22bubblingMouseEvents%22%3A%20true%2C%20%22color%22%3A%20%22red%22%2C%20%22dashArray%22%3A%20null%2C%20%22dashOffset%22%3A%20null%2C%20%22fill%22%3A%20true%2C%20%22fillColor%22%3A%20%22red%22%2C%20%22fillOpacity%22%3A%201%2C%20%22fillRule%22%3A%20%22evenodd%22%2C%20%22lineCap%22%3A%20%22round%22%2C%20%22lineJoin%22%3A%20%22round%22%2C%20%22opacity%22%3A%201.0%2C%20%22radius%22%3A%203%2C%20%22stroke%22%3A%20true%2C%20%22weight%22%3A%201%7D%0A%20%20%20%20%20%20%20%20%20%20%20%20%29.addTo%28map_39f8c3e45d3440719e49060ef5767f8f%29%3B%0A%20%20%20%20%20%20%20%20%0A%20%20%20%20%0A%20%20%20%20%20%20%20%20%20%20%20%20var%20circle_marker_a22b6cd95a504e5cafdf553f8990ab42%20%3D%20L.circleMarker%28%0A%20%20%20%20%20%20%20%20%20%20%20%20%20%20%20%20%5B35.481133297445965%2C%20128.30797526353385%5D%2C%0A%20%20%20%20%20%20%20%20%20%20%20%20%20%20%20%20%7B%22bubblingMouseEvents%22%3A%20true%2C%20%22color%22%3A%20%22red%22%2C%20%22dashArray%22%3A%20null%2C%20%22dashOffset%22%3A%20null%2C%20%22fill%22%3A%20true%2C%20%22fillColor%22%3A%20%22red%22%2C%20%22fillOpacity%22%3A%201%2C%20%22fillRule%22%3A%20%22evenodd%22%2C%20%22lineCap%22%3A%20%22round%22%2C%20%22lineJoin%22%3A%20%22round%22%2C%20%22opacity%22%3A%201.0%2C%20%22radius%22%3A%203%2C%20%22stroke%22%3A%20true%2C%20%22weight%22%3A%201%7D%0A%20%20%20%20%20%20%20%20%20%20%20%20%29.addTo%28map_39f8c3e45d3440719e49060ef5767f8f%29%3B%0A%20%20%20%20%20%20%20%20%0A%20%20%20%20%0A%20%20%20%20%20%20%20%20%20%20%20%20var%20circle_marker_584efa49049845cc88c2e0e6fddcae6f%20%3D%20L.circleMarker%28%0A%20%20%20%20%20%20%20%20%20%20%20%20%20%20%20%20%5B36.99449992376472%2C%20127.67010320984288%5D%2C%0A%20%20%20%20%20%20%20%20%20%20%20%20%20%20%20%20%7B%22bubblingMouseEvents%22%3A%20true%2C%20%22color%22%3A%20%22red%22%2C%20%22dashArray%22%3A%20null%2C%20%22dashOffset%22%3A%20null%2C%20%22fill%22%3A%20true%2C%20%22fillColor%22%3A%20%22red%22%2C%20%22fillOpacity%22%3A%201%2C%20%22fillRule%22%3A%20%22evenodd%22%2C%20%22lineCap%22%3A%20%22round%22%2C%20%22lineJoin%22%3A%20%22round%22%2C%20%22opacity%22%3A%201.0%2C%20%22radius%22%3A%203%2C%20%22stroke%22%3A%20true%2C%20%22weight%22%3A%201%7D%0A%20%20%20%20%20%20%20%20%20%20%20%20%29.addTo%28map_39f8c3e45d3440719e49060ef5767f8f%29%3B%0A%20%20%20%20%20%20%20%20%0A%20%20%20%20%0A%20%20%20%20%20%20%20%20%20%20%20%20var%20circle_marker_fedeca1495e3471e90180e097d432b0e%20%3D%20L.circleMarker%28%0A%20%20%20%20%20%20%20%20%20%20%20%20%20%20%20%20%5B36.63527888122404%2C%20126.84859514953921%5D%2C%0A%20%20%20%20%20%20%20%20%20%20%20%20%20%20%20%20%7B%22bubblingMouseEvents%22%3A%20true%2C%20%22color%22%3A%20%22red%22%2C%20%22dashArray%22%3A%20null%2C%20%22dashOffset%22%3A%20null%2C%20%22fill%22%3A%20true%2C%20%22fillColor%22%3A%20%22red%22%2C%20%22fillOpacity%22%3A%201%2C%20%22fillRule%22%3A%20%22evenodd%22%2C%20%22lineCap%22%3A%20%22round%22%2C%20%22lineJoin%22%3A%20%22round%22%2C%20%22opacity%22%3A%201.0%2C%20%22radius%22%3A%203%2C%20%22stroke%22%3A%20true%2C%20%22weight%22%3A%201%7D%0A%20%20%20%20%20%20%20%20%20%20%20%20%29.addTo%28map_39f8c3e45d3440719e49060ef5767f8f%29%3B%0A%20%20%20%20%20%20%20%20%0A%20%20%20%20%0A%20%20%20%20%20%20%20%20%20%20%20%20var%20circle_marker_738da47ec44e4c369c3e5728885c1e32%20%3D%20L.circleMarker%28%0A%20%20%20%20%20%20%20%20%20%20%20%20%20%20%20%20%5B35.708444280199004%2C%20127.11662005953636%5D%2C%0A%20%20%20%20%20%20%20%20%20%20%20%20%20%20%20%20%7B%22bubblingMouseEvents%22%3A%20true%2C%20%22color%22%3A%20%22red%22%2C%20%22dashArray%22%3A%20null%2C%20%22dashOffset%22%3A%20null%2C%20%22fill%22%3A%20true%2C%20%22fillColor%22%3A%20%22red%22%2C%20%22fillOpacity%22%3A%201%2C%20%22fillRule%22%3A%20%22evenodd%22%2C%20%22lineCap%22%3A%20%22round%22%2C%20%22lineJoin%22%3A%20%22round%22%2C%20%22opacity%22%3A%201.0%2C%20%22radius%22%3A%203%2C%20%22stroke%22%3A%20true%2C%20%22weight%22%3A%201%7D%0A%20%20%20%20%20%20%20%20%20%20%20%20%29.addTo%28map_39f8c3e45d3440719e49060ef5767f8f%29%3B%0A%20%20%20%20%20%20%20%20%0A%20%20%20%20%0A%20%20%20%20%20%20%20%20%20%20%20%20var%20circle_marker_b384f767a33146e7887e1cb9ed65cc8f%20%3D%20L.circleMarker%28%0A%20%20%20%20%20%20%20%20%20%20%20%20%20%20%20%20%5B34.88949116972007%2C%20126.99172287794916%5D%2C%0A%20%20%20%20%20%20%20%20%20%20%20%20%20%20%20%20%7B%22bubblingMouseEvents%22%3A%20true%2C%20%22color%22%3A%20%22red%22%2C%20%22dashArray%22%3A%20null%2C%20%22dashOffset%22%3A%20null%2C%20%22fill%22%3A%20true%2C%20%22fillColor%22%3A%20%22red%22%2C%20%22fillOpacity%22%3A%201%2C%20%22fillRule%22%3A%20%22evenodd%22%2C%20%22lineCap%22%3A%20%22round%22%2C%20%22lineJoin%22%3A%20%22round%22%2C%20%22opacity%22%3A%201.0%2C%20%22radius%22%3A%203%2C%20%22stroke%22%3A%20true%2C%20%22weight%22%3A%201%7D%0A%20%20%20%20%20%20%20%20%20%20%20%20%29.addTo%28map_39f8c3e45d3440719e49060ef5767f8f%29%3B%0A%20%20%20%20%20%20%20%20%0A%20%20%20%20%0A%20%20%20%20%20%20%20%20%20%20%20%20var%20circle_marker_c4a12e19c037444b9d2b58f2de628d7e%20%3D%20L.circleMarker%28%0A%20%20%20%20%20%20%20%20%20%20%20%20%20%20%20%20%5B36.39981068831169%2C%20128.83975128231492%5D%2C%0A%20%20%20%20%20%20%20%20%20%20%20%20%20%20%20%20%7B%22bubblingMouseEvents%22%3A%20true%2C%20%22color%22%3A%20%22red%22%2C%20%22dashArray%22%3A%20null%2C%20%22dashOffset%22%3A%20null%2C%20%22fill%22%3A%20true%2C%20%22fillColor%22%3A%20%22red%22%2C%20%22fillOpacity%22%3A%201%2C%20%22fillRule%22%3A%20%22evenodd%22%2C%20%22lineCap%22%3A%20%22round%22%2C%20%22lineJoin%22%3A%20%22round%22%2C%20%22opacity%22%3A%201.0%2C%20%22radius%22%3A%203%2C%20%22stroke%22%3A%20true%2C%20%22weight%22%3A%201%7D%0A%20%20%20%20%20%20%20%20%20%20%20%20%29.addTo%28map_39f8c3e45d3440719e49060ef5767f8f%29%3B%0A%20%20%20%20%20%20%20%20%0A%20%20%20%20%0A%20%20%20%20%20%20%20%20%20%20%20%20var%20circle_marker_37b955279d2e4ce38ad335b4458edf6f%20%3D%20L.circleMarker%28%0A%20%20%20%20%20%20%20%20%20%20%20%20%20%20%20%20%5B35.40505429632169%2C%20128.15416667027876%5D%2C%0A%20%20%20%20%20%20%20%20%20%20%20%20%20%20%20%20%7B%22bubblingMouseEvents%22%3A%20true%2C%20%22color%22%3A%20%22red%22%2C%20%22dashArray%22%3A%20null%2C%20%22dashOffset%22%3A%20null%2C%20%22fill%22%3A%20true%2C%20%22fillColor%22%3A%20%22red%22%2C%20%22fillOpacity%22%3A%201%2C%20%22fillRule%22%3A%20%22evenodd%22%2C%20%22lineCap%22%3A%20%22round%22%2C%20%22lineJoin%22%3A%20%22round%22%2C%20%22opacity%22%3A%201.0%2C%20%22radius%22%3A%203%2C%20%22stroke%22%3A%20true%2C%20%22weight%22%3A%201%7D%0A%20%20%20%20%20%20%20%20%20%20%20%20%29.addTo%28map_39f8c3e45d3440719e49060ef5767f8f%29%3B%0A%20%20%20%20%20%20%20%20%0A%20%20%20%20%0A%20%20%20%20%20%20%20%20%20%20%20%20var%20circle_marker_febe5be6b5ea4d48bed3306bb61ae3d6%20%3D%20L.circleMarker%28%0A%20%20%20%20%20%20%20%20%20%20%20%20%20%20%20%20%5B33.41802888452141%2C%20126.57348525443793%5D%2C%0A%20%20%20%20%20%20%20%20%20%20%20%20%20%20%20%20%7B%22bubblingMouseEvents%22%3A%20true%2C%20%22color%22%3A%20%22red%22%2C%20%22dashArray%22%3A%20null%2C%20%22dashOffset%22%3A%20null%2C%20%22fill%22%3A%20true%2C%20%22fillColor%22%3A%20%22red%22%2C%20%22fillOpacity%22%3A%201%2C%20%22fillRule%22%3A%20%22evenodd%22%2C%20%22lineCap%22%3A%20%22round%22%2C%20%22lineJoin%22%3A%20%22round%22%2C%20%22opacity%22%3A%201.0%2C%20%22radius%22%3A%203%2C%20%22stroke%22%3A%20true%2C%20%22weight%22%3A%201%7D%0A%20%20%20%20%20%20%20%20%20%20%20%20%29.addTo%28map_39f8c3e45d3440719e49060ef5767f8f%29%3B%0A%20%20%20%20%20%20%20%20%0A%20%20%20%20%0A%20%20%20%20%20%20%20%20%20%20%20%20var%20circle_marker_19bf0e2e24984f0a9051675c3158e205%20%3D%20L.circleMarker%28%0A%20%20%20%20%20%20%20%20%20%20%20%20%20%20%20%20%5B36.5594077631663%2C%20127.24823548942054%5D%2C%0A%20%20%20%20%20%20%20%20%20%20%20%20%20%20%20%20%7B%22bubblingMouseEvents%22%3A%20true%2C%20%22color%22%3A%20%22red%22%2C%20%22dashArray%22%3A%20null%2C%20%22dashOffset%22%3A%20null%2C%20%22fill%22%3A%20true%2C%20%22fillColor%22%3A%20%22red%22%2C%20%22fillOpacity%22%3A%201%2C%20%22fillRule%22%3A%20%22evenodd%22%2C%20%22lineCap%22%3A%20%22round%22%2C%20%22lineJoin%22%3A%20%22round%22%2C%20%22opacity%22%3A%201.0%2C%20%22radius%22%3A%203%2C%20%22stroke%22%3A%20true%2C%20%22weight%22%3A%201%7D%0A%20%20%20%20%20%20%20%20%20%20%20%20%29.addTo%28map_39f8c3e45d3440719e49060ef5767f8f%29%3B%0A%20%20%20%20%20%20%20%20%0A%3C/script%3E onload=\"this.contentDocument.open();this.contentDocument.write(    decodeURIComponent(this.getAttribute('data-html')));this.contentDocument.close();\" allowfullscreen webkitallowfullscreen mozallowfullscreen></iframe></div></div>"
     },
     "metadata": {},
     "execution_count": 229
    }
   ],
   "source": [
    "Korea_map"
   ]
  },
  {
   "cell_type": "code",
   "execution_count": 230,
   "metadata": {},
   "outputs": [
    {
     "output_type": "error",
     "ename": "NameError",
     "evalue": "name 'PUSANFINAL' is not defined",
     "traceback": [
      "\u001b[1;31m---------------------------------------------------------------------------\u001b[0m",
      "\u001b[1;31mNameError\u001b[0m                                 Traceback (most recent call last)",
      "\u001b[1;32m<ipython-input-230-048c25445973>\u001b[0m in \u001b[0;36m<module>\u001b[1;34m\u001b[0m\n\u001b[1;32m----> 1\u001b[1;33m \u001b[0mPUSANFINAL\u001b[0m\u001b[1;33m\u001b[0m\u001b[1;33m\u001b[0m\u001b[0m\n\u001b[0m",
      "\u001b[1;31mNameError\u001b[0m: name 'PUSANFINAL' is not defined"
     ]
    }
   ],
   "source": [
    "PUSANFINAL"
   ]
  },
  {
   "cell_type": "code",
   "execution_count": 232,
   "metadata": {},
   "outputs": [
    {
     "output_type": "error",
     "ename": "NameError",
     "evalue": "name 'pm10DF_I' is not defined",
     "traceback": [
      "\u001b[1;31m---------------------------------------------------------------------------\u001b[0m",
      "\u001b[1;31mNameError\u001b[0m                                 Traceback (most recent call last)",
      "\u001b[1;32m<ipython-input-232-4979452d4f26>\u001b[0m in \u001b[0;36m<module>\u001b[1;34m\u001b[0m\n\u001b[1;32m----> 1\u001b[1;33m \u001b[0mpm10DF_I\u001b[0m\u001b[1;33m\u001b[0m\u001b[1;33m\u001b[0m\u001b[0m\n\u001b[0m",
      "\u001b[1;31mNameError\u001b[0m: name 'pm10DF_I' is not defined"
     ]
    }
   ],
   "source": [
    "pm10DF_I"
   ]
  },
  {
   "cell_type": "code",
   "execution_count": 233,
   "metadata": {},
   "outputs": [
    {
     "output_type": "error",
     "ename": "NameError",
     "evalue": "name 'pm10DF_I' is not defined",
     "traceback": [
      "\u001b[1;31m---------------------------------------------------------------------------\u001b[0m",
      "\u001b[1;31mNameError\u001b[0m                                 Traceback (most recent call last)",
      "\u001b[1;32m<ipython-input-233-4979452d4f26>\u001b[0m in \u001b[0;36m<module>\u001b[1;34m\u001b[0m\n\u001b[1;32m----> 1\u001b[1;33m \u001b[0mpm10DF_I\u001b[0m\u001b[1;33m\u001b[0m\u001b[1;33m\u001b[0m\u001b[0m\n\u001b[0m",
      "\u001b[1;31mNameError\u001b[0m: name 'pm10DF_I' is not defined"
     ]
    }
   ],
   "source": [
    "pm10DF_I"
   ]
  },
  {
   "cell_type": "code",
   "execution_count": null,
   "metadata": {},
   "outputs": [],
   "source": []
  }
 ]
}