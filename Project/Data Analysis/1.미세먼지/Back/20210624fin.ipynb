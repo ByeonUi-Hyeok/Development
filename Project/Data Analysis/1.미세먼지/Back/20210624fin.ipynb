{
 "metadata": {
  "language_info": {
   "codemirror_mode": {
    "name": "ipython",
    "version": 3
   },
   "file_extension": ".py",
   "mimetype": "text/x-python",
   "name": "python",
   "nbconvert_exporter": "python",
   "pygments_lexer": "ipython3",
   "version": "3.9.1"
  },
  "orig_nbformat": 4,
  "kernelspec": {
   "name": "python3",
   "display_name": "Python 3.9.1 64-bit ('base': conda)"
  },
  "interpreter": {
   "hash": "26cbe81f990c700cacc7344ce939feb35388ff5140935024bac84d606131ac1b"
  }
 },
 "nbformat": 4,
 "nbformat_minor": 2,
 "cells": [
  {
   "cell_type": "code",
   "execution_count": 20,
   "metadata": {},
   "outputs": [
    {
     "output_type": "stream",
     "name": "stdout",
     "text": [
      "C:/Users/ad/Desktop/test/fin/SEOULFIN.xlsx\n",
      "C:/Users/ad/Desktop/test/fin/PUSANFIN.xlsx\n",
      "C:/Users/ad/Desktop/test/fin/DEAGUFIN.xlsx\n",
      "C:/Users/ad/Desktop/test/fin/INCHEONFIN.xlsx\n",
      "C:/Users/ad/Desktop/test/fin/KWANG_JUFIN.xlsx\n",
      "C:/Users/ad/Desktop/test/fin/DAEJEONFIN.xlsx\n",
      "C:/Users/ad/Desktop/test/fin/ULSANFIN.xlsx\n",
      "C:/Users/ad/Desktop/test/fin/KYEONG_GIFIN.xlsx\n",
      "C:/Users/ad/Desktop/test/fin/KANGONEFIN.xlsx\n",
      "C:/Users/ad/Desktop/test/fin/CHUNG_BUKFIN.xlsx\n",
      "C:/Users/ad/Desktop/test/fin/CHUNG_NAMFIN.xlsx\n",
      "C:/Users/ad/Desktop/test/fin/JEON_BUKFIN.xlsx\n",
      "C:/Users/ad/Desktop/test/fin/JEON_NAMFIN.xlsx\n",
      "C:/Users/ad/Desktop/test/fin/KYUNG_BUKFIN.xlsx\n",
      "C:/Users/ad/Desktop/test/fin/KYUNG_NAMFIN.xlsx\n",
      "C:/Users/ad/Desktop/test/fin/JE_JUFIN.xlsx\n",
      "C:/Users/ad/Desktop/test/fin/SEJONGFIN.xlsx\n"
     ]
    },
    {
     "output_type": "error",
     "ename": "TypeError",
     "evalue": "'str' object is not callable",
     "traceback": [
      "\u001b[1;31m---------------------------------------------------------------------------\u001b[0m",
      "\u001b[1;31mTypeError\u001b[0m                                 Traceback (most recent call last)",
      "\u001b[1;32m<ipython-input-20-96f355edd54b>\u001b[0m in \u001b[0;36m<module>\u001b[1;34m\u001b[0m\n\u001b[0;32m    117\u001b[0m \u001b[1;33m\u001b[0m\u001b[0m\n\u001b[0;32m    118\u001b[0m layout_with_widgets_SEOUL = column(\n\u001b[1;32m--> 119\u001b[1;33m                             \u001b[0mcolumn\u001b[0m\u001b[1;33m(\u001b[0m\u001b[0mrow\u001b[0m\u001b[1;33m(\u001b[0m\u001b[0mSEOULap\u001b[0m\u001b[1;33m,\u001b[0m\u001b[0mSEOULp\u001b[0m\u001b[1;33m)\u001b[0m\u001b[1;33m)\u001b[0m\u001b[1;33m,\u001b[0m\u001b[1;33m\u001b[0m\u001b[1;33m\u001b[0m\u001b[0m\n\u001b[0m\u001b[0;32m    120\u001b[0m                             row(column(SEOULdata_table)))\n\u001b[0;32m    121\u001b[0m \u001b[1;31m#show(layout_with_widgets)\u001b[0m\u001b[1;33m\u001b[0m\u001b[1;33m\u001b[0m\u001b[1;33m\u001b[0m\u001b[0m\n",
      "\u001b[1;31mTypeError\u001b[0m: 'str' object is not callable"
     ]
    }
   ],
   "source": [
    "import pandas as pd \n",
    "import numpy as np\n",
    "import bokeh\n",
    "import webbrowser\n",
    "from bokeh.io import output_notebook, show, save, output_notebook, curdoc, output_file\n",
    "from bokeh.plotting import figure, show\n",
    "from bokeh.models import Select, CheckboxButtonGroup, ColumnDataSource, DataTable, TableColumn, WMTSTileSource, FactorRange, PanTool\n",
    "from bokeh.models import BoxZoomTool, PanTool, ResetTool\n",
    "from bokeh.layouts import row, column\n",
    "from bokeh import layouts\n",
    "from bokeh.resources import INLINE\n",
    "from bokeh.models import *\n",
    "from bokeh.plotting import *\n",
    "from bokeh.io import *\n",
    "from bokeh.tile_providers import *\n",
    "from bokeh.palettes import *\n",
    "from bokeh.transform import *\n",
    "from bokeh.layouts import *\n",
    "\n",
    "\n",
    "# 최종파일 오픈 최종\n",
    "\n",
    "def finalopen(a):\n",
    "    filepath = f'C:/Users/ad/Desktop/test/fin/{a}FIN.xlsx'\n",
    "    excel_df = pd.read_excel(filepath)\n",
    "    print (filepath)\n",
    "    return(excel_df)\n",
    "    \n",
    "columns = ['SEOUL', 'PUSAN', 'DEAGU', 'INCHEON', 'KWANG_JU', 'DAEJEON', 'ULSAN',\n",
    "       'KYEONG_GI', 'KANGONE', 'CHUNG_BUK', 'CHUNG_NAM', 'JEON_BUK',\n",
    "       'JEON_NAM', 'KYUNG_BUK', 'KYUNG_NAM', 'JE_JU', 'SEJONG']\n",
    "\n",
    "for column in columns:\n",
    "     globals()[f'{column}FINAL'] = finalopen(column)\n",
    "     globals()[f'{column}FINAL_cop'] = globals()[f'{column}FINAL'].copy()\n",
    "     globals()[f'{column}FINAL_cop']['DATE'] = pd.to_datetime(globals()[f'{column}FINAL_cop']['DATE'])\n",
    "\n",
    "\n",
    "# 최종파일 오픈 최종\n",
    "\n",
    "def make_graphs():\n",
    "\n",
    "    columns = ['SEOUL', 'PUSAN', 'DEAGU', 'INCHEON', 'KWANG_JU', 'DAEJEON', 'ULSAN',\n",
    "       'KYEONG_GI', 'KANGONE', 'CHUNG_BUK', 'CHUNG_NAM', 'JEON_BUK',\n",
    "       'JEON_NAM', 'KYUNG_BUK', 'KYUNG_NAM', 'JE_JU', 'SEJONG']\n",
    "\n",
    "    for column in columns:\n",
    "        globals()[f'{column}FINAL_cop'] =globals()[f'{column}FINAL'].copy()\n",
    "        globals()[f'{column}FINAL_cop']['DATE'] = pd.to_datetime(globals()[f'{column}FINAL_cop']['DATE'])\n",
    "        # 라인그래프\n",
    "        globals()[f'{column}ap'] = figure(\n",
    "            plot_width=500, plot_height=400, \n",
    "            x_axis_type='datetime', output_backend=\"svg\",\n",
    "            sizing_mode='stretch_width', title=f\"{column}'s PM 2.5\")\n",
    "\n",
    "        globals()[f'{column}ap'].line(globals()[f'{column}FINAL_cop']['DATE'], globals()[f'{column}FINAL_cop']['PM2.5'], color='navy', alpha=0.5)\n",
    "\n",
    "        # 표\n",
    "        source = ColumnDataSource(globals()[f'{column}FINAL_cop'])\n",
    "        columns = [ TableColumn( field=col, title=col ) for col in globals()[f'{column}FINAL'].columns ]\n",
    "        globals()[f'{column}data_table'] = DataTable(source=source, columns = columns, background='red',width=900,sizing_mode='scale_both' )\n",
    "\n",
    "\n",
    "        # 3일 평균\n",
    "        tdata = globals()[f'{column}FINAL']['DATE'].to_list()[:3]\n",
    "        tvalue = globals()[f'{column}FINAL'][['PM10','PM2.5','CO','CENTIGRADE','PRECIPITATION']][:3]\n",
    "\n",
    "        data = {\n",
    "                'PM10'   : globals()[f'{column}FINAL']['PM10'].to_list()[:3],\n",
    "                'PM2.5'  : globals()[f'{column}FINAL']['PM2.5'].to_list()[:3],\n",
    "                'CO'     : globals()[f'{column}FINAL']['CO'].to_list()[:3],\n",
    "                'C'      : globals()[f'{column}FINAL']['CENTIGRADE'].to_list()[:3],\n",
    "                'PPTN'   : globals()[f'{column}FINAL']['PRECIPITATION'].to_list()[:3]\n",
    "                }\n",
    "\n",
    "        # this creates [ (\"Apples\", \"2015\"), (\"Apples\", \"2016\"), (\"Apples\", \"2017\"), (\"Pears\", \"2015), ... ]\n",
    "        x = [ (tdat, tval) for tdat in tdata for tval in tvalue ]\n",
    "        counts = sum(zip(data['PM10'], data['PM2.5'], data['CO'], data['C'], data['PPTN']), ()) # like an hstack\n",
    "\n",
    "        source = ColumnDataSource(data=dict(x=x, counts=counts))\n",
    "\n",
    "        globals()[f'{column}p'] = figure(\n",
    "            x_range=FactorRange(*x), \n",
    "            plot_height=400,\n",
    "            plot_width=400, \n",
    "            title= f\"Change in {column} for the last three days\",\n",
    "            #toolbar_location=None,\n",
    "            tools=\"xwheel_pan, reset\"\n",
    "            )\n",
    "\n",
    "        globals()[f'{column}p'].vbar(x='x', top='counts', width=0.9, source=source)\n",
    "\n",
    "        globals()[f'{column}p'].y_range.start = 0\n",
    "        globals()[f'{column}p'].x_range.range_padding = 0.01\n",
    "        globals()[f'{column}p'].xaxis.major_label_orientation = 1\n",
    "        #p.xgrid.grid_line_color = None\n",
    "        globals()[f'{column}p'].add_tools(PanTool(dimensions=\"width\"))\n",
    "        globals()[f'{column}cb_op'] = ['open','high','low','close']\n",
    "        globals()[f'{column}cb'] = CheckboxButtonGroup(labels=globals()[f'{column}cb_op'], active=[0], button_type=\"success\")\n",
    "\n",
    "        # 3개 병합\n",
    "        # globals()[f'{column}G']= column(\n",
    "        #                             column(row(globals()[f'{column}ap'],globals()[f'{column}p'])),\n",
    "        #                             row(column(globals()[f'{column}data_table'])))\n",
    "        # #show(checkbox_grp)\n",
    "        #show(ap)\n",
    "        #show(scatter)\n",
    "        #show(data_table)\n",
    "        #show(layout_with_widgets)\n",
    "        #save(obj=layout_with_widgets, filename= f'{column}.html')\n",
    "        #webbrowser.open('layout_with_widgets.html')\n",
    "        #break    \n",
    "\n",
    "\n",
    "make_graphs()\n",
    "\n",
    "  \n",
    "layout_with_widgets_SEOUL = column(\n",
    "                            column(row(SEOULap,SEOULp)),\n",
    "                            row(column(SEOULdata_table)))\n",
    "#show(layout_with_widgets)\n",
    "#show(DEAGUdata_table)\n",
    "save(obj=layout_with_widgets_SEOUL, filename= 'SEOULPM25.html')\n",
    "\n",
    "layout_with_widgets_PUSAN = column(\n",
    "                            column(row(PUSANap,PUSANp)),\n",
    "                            row(column(PUSANdata_table)))\n",
    "#show(layout_with_widgets)\n",
    "#show(DEAGUdata_table)\n",
    "save(obj=layout_with_widgets_PUSAN, filename= 'PUSANPM25.html')\n",
    "\n",
    "\n",
    "layout_with_widgets_DEAGU = column(\n",
    "                            column(row(DEAGUap,DEAGUp)),\n",
    "                            row(column(DEAGUdata_table)))\n",
    "#show(layout_with_widgets)\n",
    "#show(DEAGUdata_table)\n",
    "save(obj=layout_with_widgets_DEAGU, filename= 'DEAGUPM25.html')\n",
    "\n",
    "layout_with_widgets_INCHEON = column(\n",
    "                            column(row(INCHEONap,INCHEONp)),\n",
    "                            row(column(INCHEONdata_table)))\n",
    "#show(layout_with_widgets)\n",
    "#show(INCHEONdata_table)\n",
    "save(obj=layout_with_widgets_INCHEON, filename= 'INCHEONPM25.html')\n",
    "\n",
    "layout_with_widgets_KWANG_JU = column(\n",
    "                            column(row(KWANG_JUap,KWANG_JUp)),\n",
    "                            row(column(KWANG_JUdata_table)))\n",
    "#show(layout_with_widgets)\n",
    "#show(KWANG_JUdata_table)\n",
    "save(obj=layout_with_widgets_KWANG_JU, filename= 'KWANG_JUPM25.html')\n",
    "\n",
    "layout_with_widgets_DAEJEON = column(\n",
    "                            column(row(DAEJEONap,DAEJEONp)),\n",
    "                            row(column(DAEJEONdata_table)))\n",
    "#show(layout_with_widgets)\n",
    "#show(DAEJEONdata_table)\n",
    "save(obj=layout_with_widgets_DAEJEON, filename= 'DAEJEONPM25.html')\n",
    "\n",
    "layout_with_widgets_ULSAN = column(\n",
    "                            column(row(ULSANap,ULSANp)),\n",
    "                            row(column(ULSANdata_table)))\n",
    "#show(layout_with_widgets)\n",
    "#show(ULSANdata_table)\n",
    "save(obj=layout_with_widgets_ULSAN, filename= 'ULSANPM25.html')\n",
    "\n",
    "layout_with_widgets_KYEONG_GI = column(\n",
    "                            column(row(KYEONG_GIap,KYEONG_GIp)),\n",
    "                            row(column(KYEONG_GIdata_table)))\n",
    "#show(layout_with_widgets)\n",
    "#show(KYEONG_GIdata_table)\n",
    "save(obj=layout_with_widgets_KYEONG_GI, filename= 'KYEONG_GIPM25.html')\n",
    "\n",
    "layout_with_widgets_KANGONE = column(\n",
    "                            column(row(KANGONEap,KANGONEp)),\n",
    "                            row(column(KANGONEdata_table)))\n",
    "#show(layout_with_widgets)\n",
    "#show(KANGONEdata_table)\n",
    "save(obj=layout_with_widgets_KANGONE, filename= 'KANGONEPM25.html')\n",
    "\n",
    "layout_with_widgets_CHUNG_BUK = column(\n",
    "                            column(row(CHUNG_BUKap,CHUNG_BUKp)),\n",
    "                            row(column(CHUNG_BUKdata_table)))\n",
    "#show(layout_with_widgets)\n",
    "#show(CHUNG_BUKdata_table)\n",
    "save(obj=layout_with_widgets_CHUNG_BUK, filename= 'CHUNG_BUKPM25.html')\n",
    "\n",
    "layout_with_widgets_CHUNG_NAM = column(\n",
    "                            column(row(CHUNG_NAMap,CHUNG_NAMp)),\n",
    "                            row(column(CHUNG_NAMdata_table)))\n",
    "#show(layout_with_widgets)\n",
    "#show(CHUNG_NAMdata_table)\n",
    "save(obj=layout_with_widgets_CHUNG_NAM, filename= 'CHUNG_NAMPM25.html')\n",
    "\n",
    "layout_with_widgets_JEON_BUK = column(\n",
    "                            column(row(JEON_BUKap,JEON_BUKp)),\n",
    "                            row(column(JEON_BUKdata_table)))\n",
    "#show(layout_with_widgets)\n",
    "#show(JEON_BUKdata_table)\n",
    "save(obj=layout_with_widgets_JEON_BUK, filename= 'JEON_BUKPM25.html')\n",
    "\n",
    "layout_with_widgets_JEON_NAM = column(\n",
    "                            column(row(JEON_NAMap,JEON_NAMp)),\n",
    "                            row(column(JEON_NAMdata_table)))\n",
    "#show(layout_with_widgets)\n",
    "#show(JEON_NAMdata_table)\n",
    "save(obj=layout_with_widgets_JEON_NAM, filename= 'JEON_NAMPM25.html')\n",
    "\n",
    "layout_with_widgets_KYUNG_BUK = column(\n",
    "                            column(row(KYUNG_BUKap,KYUNG_BUKp)),\n",
    "                            row(column(KYUNG_BUKdata_table)))\n",
    "#show(layout_with_widgets)\n",
    "#show(KYUNG_BUKdata_table)\n",
    "save(obj=layout_with_widgets_KYUNG_BUK, filename= 'KYUNG_BUKPM25.html')\n",
    "\n",
    "layout_with_widgets_KYUNG_NAM = column(\n",
    "                            column(row(KYUNG_NAMap,KYUNG_NAMp)),\n",
    "                            row(column(KYUNG_NAMdata_table)))\n",
    "#show(layout_with_widgets)\n",
    "#show(KYUNG_NAMdata_table)\n",
    "save(obj=layout_with_widgets_KYUNG_NAM, filename= 'KYUNG_NAMPM25.html')\n",
    "\n",
    "layout_with_widgets_JE_JU = column(\n",
    "                            column(row(JE_JUap,JE_JUp)),\n",
    "                            row(column(JE_JUdata_table)))\n",
    "#show(layout_with_widgets)\n",
    "#show(JE_JUdata_table)\n",
    "save(obj=layout_with_widgets_JE_JU, filename= 'JE_JUPM25.html')\n",
    "\n",
    "layout_with_widgets_SEJONG = column(\n",
    "                            column(row(SEJONGap,SEJONGp)),\n",
    "                            row(column(SEJONGdata_table)))\n",
    "#show(layout_with_widgets)\n",
    "#show(SEJONGdata_table)\n",
    "save(obj=layout_with_widgets_SEJONG, filename= 'SEJONGPM25.html')"
   ]
  },
  {
   "cell_type": "code",
   "execution_count": 4,
   "metadata": {},
   "outputs": [
    {
     "output_type": "error",
     "ename": "TypeError",
     "evalue": "'str' object is not callable",
     "traceback": [
      "\u001b[1;31m---------------------------------------------------------------------------\u001b[0m",
      "\u001b[1;31mTypeError\u001b[0m                                 Traceback (most recent call last)",
      "\u001b[1;32m<ipython-input-4-1f21a9a3604a>\u001b[0m in \u001b[0;36m<module>\u001b[1;34m\u001b[0m\n\u001b[0;32m      1\u001b[0m layout_with_widgets_SEOUL = layouts.Column(\n\u001b[0;32m      2\u001b[0m                             \u001b[0mlayouts\u001b[0m\u001b[1;33m.\u001b[0m\u001b[0mColumn\u001b[0m\u001b[1;33m(\u001b[0m\u001b[0mrow\u001b[0m\u001b[1;33m(\u001b[0m\u001b[0mSEOULap\u001b[0m\u001b[1;33m,\u001b[0m\u001b[0mSEOULp\u001b[0m\u001b[1;33m)\u001b[0m\u001b[1;33m)\u001b[0m\u001b[1;33m,\u001b[0m\u001b[1;33m\u001b[0m\u001b[1;33m\u001b[0m\u001b[0m\n\u001b[1;32m----> 3\u001b[1;33m                             layouts.Row(column(SEOULdata_table)))\n\u001b[0m",
      "\u001b[1;31mTypeError\u001b[0m: 'str' object is not callable"
     ]
    }
   ],
   "source": [
    "  \n",
    "\n",
    "layout_with_widgets_SEOUL = layouts.Column(\n",
    "                            layouts.Column(row(SEOULap,SEOULp)),\n",
    "                            layouts.Row(column(SEOULdata_table)))"
   ]
  },
  {
   "cell_type": "code",
   "execution_count": 16,
   "metadata": {},
   "outputs": [],
   "source": [
    "layout_with_widgets_SEJONG =  layouts.Column(row(SEOULap))"
   ]
  },
  {
   "cell_type": "code",
   "execution_count": 17,
   "metadata": {},
   "outputs": [
    {
     "output_type": "error",
     "ename": "RuntimeError",
     "evalue": "Models must be owned by only a single document, BasicTickFormatter(id='3909', ...) is already in a doc",
     "traceback": [
      "\u001b[1;31m---------------------------------------------------------------------------\u001b[0m",
      "\u001b[1;31mRuntimeError\u001b[0m                              Traceback (most recent call last)",
      "\u001b[1;32m<ipython-input-17-6767b1b41ec3>\u001b[0m in \u001b[0;36m<module>\u001b[1;34m\u001b[0m\n\u001b[1;32m----> 1\u001b[1;33m \u001b[0mshow\u001b[0m\u001b[1;33m(\u001b[0m\u001b[0mlayout_with_widgets_SEJONG\u001b[0m\u001b[1;33m)\u001b[0m\u001b[1;33m\u001b[0m\u001b[1;33m\u001b[0m\u001b[0m\n\u001b[0m",
      "\u001b[1;32m~\\miniconda3\\lib\\site-packages\\bokeh\\io\\showing.py\u001b[0m in \u001b[0;36mshow\u001b[1;34m(obj, browser, new, notebook_handle, notebook_url, **kw)\u001b[0m\n\u001b[0;32m    137\u001b[0m         \u001b[1;32mreturn\u001b[0m \u001b[0mrun_notebook_hook\u001b[0m\u001b[1;33m(\u001b[0m\u001b[0mstate\u001b[0m\u001b[1;33m.\u001b[0m\u001b[0mnotebook_type\u001b[0m\u001b[1;33m,\u001b[0m \u001b[1;34m'app'\u001b[0m\u001b[1;33m,\u001b[0m \u001b[0mobj\u001b[0m\u001b[1;33m,\u001b[0m \u001b[0mstate\u001b[0m\u001b[1;33m,\u001b[0m \u001b[0mnotebook_url\u001b[0m\u001b[1;33m,\u001b[0m \u001b[1;33m**\u001b[0m\u001b[0mkw\u001b[0m\u001b[1;33m)\u001b[0m\u001b[1;33m\u001b[0m\u001b[1;33m\u001b[0m\u001b[0m\n\u001b[0;32m    138\u001b[0m \u001b[1;33m\u001b[0m\u001b[0m\n\u001b[1;32m--> 139\u001b[1;33m     \u001b[1;32mreturn\u001b[0m \u001b[0m_show_with_state\u001b[0m\u001b[1;33m(\u001b[0m\u001b[0mobj\u001b[0m\u001b[1;33m,\u001b[0m \u001b[0mstate\u001b[0m\u001b[1;33m,\u001b[0m \u001b[0mbrowser\u001b[0m\u001b[1;33m,\u001b[0m \u001b[0mnew\u001b[0m\u001b[1;33m,\u001b[0m \u001b[0mnotebook_handle\u001b[0m\u001b[1;33m=\u001b[0m\u001b[0mnotebook_handle\u001b[0m\u001b[1;33m)\u001b[0m\u001b[1;33m\u001b[0m\u001b[1;33m\u001b[0m\u001b[0m\n\u001b[0m\u001b[0;32m    140\u001b[0m \u001b[1;33m\u001b[0m\u001b[0m\n\u001b[0;32m    141\u001b[0m \u001b[1;31m#-----------------------------------------------------------------------------\u001b[0m\u001b[1;33m\u001b[0m\u001b[1;33m\u001b[0m\u001b[1;33m\u001b[0m\u001b[0m\n",
      "\u001b[1;32m~\\miniconda3\\lib\\site-packages\\bokeh\\io\\showing.py\u001b[0m in \u001b[0;36m_show_with_state\u001b[1;34m(obj, state, browser, new, notebook_handle)\u001b[0m\n\u001b[0;32m    175\u001b[0m \u001b[1;33m\u001b[0m\u001b[0m\n\u001b[0;32m    176\u001b[0m     \u001b[1;32mif\u001b[0m \u001b[0mstate\u001b[0m\u001b[1;33m.\u001b[0m\u001b[0mfile\u001b[0m \u001b[1;32mor\u001b[0m \u001b[1;32mnot\u001b[0m \u001b[0mshown\u001b[0m\u001b[1;33m:\u001b[0m\u001b[1;33m\u001b[0m\u001b[1;33m\u001b[0m\u001b[0m\n\u001b[1;32m--> 177\u001b[1;33m         \u001b[0m_show_file_with_state\u001b[0m\u001b[1;33m(\u001b[0m\u001b[0mobj\u001b[0m\u001b[1;33m,\u001b[0m \u001b[0mstate\u001b[0m\u001b[1;33m,\u001b[0m \u001b[0mnew\u001b[0m\u001b[1;33m,\u001b[0m \u001b[0mcontroller\u001b[0m\u001b[1;33m)\u001b[0m\u001b[1;33m\u001b[0m\u001b[1;33m\u001b[0m\u001b[0m\n\u001b[0m\u001b[0;32m    178\u001b[0m \u001b[1;33m\u001b[0m\u001b[0m\n\u001b[0;32m    179\u001b[0m     \u001b[1;32mreturn\u001b[0m \u001b[0mcomms_handle\u001b[0m\u001b[1;33m\u001b[0m\u001b[1;33m\u001b[0m\u001b[0m\n",
      "\u001b[1;32m~\\miniconda3\\lib\\site-packages\\bokeh\\io\\showing.py\u001b[0m in \u001b[0;36m_show_file_with_state\u001b[1;34m(obj, state, new, controller)\u001b[0m\n\u001b[0;32m    158\u001b[0m \u001b[1;33m\u001b[0m\u001b[0m\n\u001b[0;32m    159\u001b[0m     '''\n\u001b[1;32m--> 160\u001b[1;33m     \u001b[0mfilename\u001b[0m \u001b[1;33m=\u001b[0m \u001b[0msave\u001b[0m\u001b[1;33m(\u001b[0m\u001b[0mobj\u001b[0m\u001b[1;33m,\u001b[0m \u001b[0mstate\u001b[0m\u001b[1;33m=\u001b[0m\u001b[0mstate\u001b[0m\u001b[1;33m)\u001b[0m\u001b[1;33m\u001b[0m\u001b[1;33m\u001b[0m\u001b[0m\n\u001b[0m\u001b[0;32m    161\u001b[0m     \u001b[0mcontroller\u001b[0m\u001b[1;33m.\u001b[0m\u001b[0mopen\u001b[0m\u001b[1;33m(\u001b[0m\u001b[1;34m\"file://\"\u001b[0m \u001b[1;33m+\u001b[0m \u001b[0mfilename\u001b[0m\u001b[1;33m,\u001b[0m \u001b[0mnew\u001b[0m\u001b[1;33m=\u001b[0m\u001b[0mNEW_PARAM\u001b[0m\u001b[1;33m[\u001b[0m\u001b[0mnew\u001b[0m\u001b[1;33m]\u001b[0m\u001b[1;33m)\u001b[0m\u001b[1;33m\u001b[0m\u001b[1;33m\u001b[0m\u001b[0m\n\u001b[0;32m    162\u001b[0m \u001b[1;33m\u001b[0m\u001b[0m\n",
      "\u001b[1;32m~\\miniconda3\\lib\\site-packages\\bokeh\\io\\saving.py\u001b[0m in \u001b[0;36msave\u001b[1;34m(obj, filename, resources, title, template, state, **kwargs)\u001b[0m\n\u001b[0;32m     84\u001b[0m \u001b[1;33m\u001b[0m\u001b[0m\n\u001b[0;32m     85\u001b[0m     \u001b[0mfilename\u001b[0m\u001b[1;33m,\u001b[0m \u001b[0mresources\u001b[0m\u001b[1;33m,\u001b[0m \u001b[0mtitle\u001b[0m \u001b[1;33m=\u001b[0m \u001b[0m_get_save_args\u001b[0m\u001b[1;33m(\u001b[0m\u001b[0mstate\u001b[0m\u001b[1;33m,\u001b[0m \u001b[0mfilename\u001b[0m\u001b[1;33m,\u001b[0m \u001b[0mresources\u001b[0m\u001b[1;33m,\u001b[0m \u001b[0mtitle\u001b[0m\u001b[1;33m)\u001b[0m\u001b[1;33m\u001b[0m\u001b[1;33m\u001b[0m\u001b[0m\n\u001b[1;32m---> 86\u001b[1;33m     \u001b[0m_save_helper\u001b[0m\u001b[1;33m(\u001b[0m\u001b[0mobj\u001b[0m\u001b[1;33m,\u001b[0m \u001b[0mfilename\u001b[0m\u001b[1;33m,\u001b[0m \u001b[0mresources\u001b[0m\u001b[1;33m,\u001b[0m \u001b[0mtitle\u001b[0m\u001b[1;33m,\u001b[0m \u001b[0mtemplate\u001b[0m\u001b[1;33m,\u001b[0m \u001b[0mtheme\u001b[0m\u001b[1;33m)\u001b[0m\u001b[1;33m\u001b[0m\u001b[1;33m\u001b[0m\u001b[0m\n\u001b[0m\u001b[0;32m     87\u001b[0m     \u001b[1;32mreturn\u001b[0m \u001b[0mabspath\u001b[0m\u001b[1;33m(\u001b[0m\u001b[0mfilename\u001b[0m\u001b[1;33m)\u001b[0m\u001b[1;33m\u001b[0m\u001b[1;33m\u001b[0m\u001b[0m\n\u001b[0;32m     88\u001b[0m \u001b[1;33m\u001b[0m\u001b[0m\n",
      "\u001b[1;32m~\\miniconda3\\lib\\site-packages\\bokeh\\io\\saving.py\u001b[0m in \u001b[0;36m_save_helper\u001b[1;34m(obj, filename, resources, title, template, theme)\u001b[0m\n\u001b[0;32m    146\u001b[0m     '''\n\u001b[0;32m    147\u001b[0m     \u001b[1;32mfrom\u001b[0m \u001b[1;33m.\u001b[0m\u001b[1;33m.\u001b[0m\u001b[0membed\u001b[0m \u001b[1;32mimport\u001b[0m \u001b[0mfile_html\u001b[0m\u001b[1;33m\u001b[0m\u001b[1;33m\u001b[0m\u001b[0m\n\u001b[1;32m--> 148\u001b[1;33m     \u001b[0mhtml\u001b[0m \u001b[1;33m=\u001b[0m \u001b[0mfile_html\u001b[0m\u001b[1;33m(\u001b[0m\u001b[0mobj\u001b[0m\u001b[1;33m,\u001b[0m \u001b[0mresources\u001b[0m\u001b[1;33m,\u001b[0m \u001b[0mtitle\u001b[0m\u001b[1;33m=\u001b[0m\u001b[0mtitle\u001b[0m\u001b[1;33m,\u001b[0m \u001b[0mtemplate\u001b[0m\u001b[1;33m=\u001b[0m\u001b[0mtemplate\u001b[0m\u001b[1;33m,\u001b[0m \u001b[0mtheme\u001b[0m\u001b[1;33m=\u001b[0m\u001b[0mtheme\u001b[0m\u001b[1;33m)\u001b[0m\u001b[1;33m\u001b[0m\u001b[1;33m\u001b[0m\u001b[0m\n\u001b[0m\u001b[0;32m    149\u001b[0m \u001b[1;33m\u001b[0m\u001b[0m\n\u001b[0;32m    150\u001b[0m     \u001b[1;32mwith\u001b[0m \u001b[0mopen\u001b[0m\u001b[1;33m(\u001b[0m\u001b[0mfilename\u001b[0m\u001b[1;33m,\u001b[0m \u001b[0mmode\u001b[0m\u001b[1;33m=\u001b[0m\u001b[1;34m\"w\"\u001b[0m\u001b[1;33m,\u001b[0m \u001b[0mencoding\u001b[0m\u001b[1;33m=\u001b[0m\u001b[1;34m\"utf-8\"\u001b[0m\u001b[1;33m)\u001b[0m \u001b[1;32mas\u001b[0m \u001b[0mf\u001b[0m\u001b[1;33m:\u001b[0m\u001b[1;33m\u001b[0m\u001b[1;33m\u001b[0m\u001b[0m\n",
      "\u001b[1;32m~\\miniconda3\\lib\\site-packages\\bokeh\\embed\\standalone.py\u001b[0m in \u001b[0;36mfile_html\u001b[1;34m(models, resources, title, template, template_variables, theme, suppress_callback_warning, _always_new)\u001b[0m\n\u001b[0;32m    301\u001b[0m         \u001b[0mmodels_seq\u001b[0m \u001b[1;33m=\u001b[0m \u001b[0mmodels\u001b[0m\u001b[1;33m\u001b[0m\u001b[1;33m\u001b[0m\u001b[0m\n\u001b[0;32m    302\u001b[0m \u001b[1;33m\u001b[0m\u001b[0m\n\u001b[1;32m--> 303\u001b[1;33m     \u001b[1;32mwith\u001b[0m \u001b[0mOutputDocumentFor\u001b[0m\u001b[1;33m(\u001b[0m\u001b[0mmodels_seq\u001b[0m\u001b[1;33m,\u001b[0m \u001b[0mapply_theme\u001b[0m\u001b[1;33m=\u001b[0m\u001b[0mtheme\u001b[0m\u001b[1;33m,\u001b[0m \u001b[0malways_new\u001b[0m\u001b[1;33m=\u001b[0m\u001b[0m_always_new\u001b[0m\u001b[1;33m)\u001b[0m \u001b[1;32mas\u001b[0m \u001b[0mdoc\u001b[0m\u001b[1;33m:\u001b[0m\u001b[1;33m\u001b[0m\u001b[1;33m\u001b[0m\u001b[0m\n\u001b[0m\u001b[0;32m    304\u001b[0m         \u001b[1;33m(\u001b[0m\u001b[0mdocs_json\u001b[0m\u001b[1;33m,\u001b[0m \u001b[0mrender_items\u001b[0m\u001b[1;33m)\u001b[0m \u001b[1;33m=\u001b[0m \u001b[0mstandalone_docs_json_and_render_items\u001b[0m\u001b[1;33m(\u001b[0m\u001b[0mmodels_seq\u001b[0m\u001b[1;33m,\u001b[0m \u001b[0msuppress_callback_warning\u001b[0m\u001b[1;33m=\u001b[0m\u001b[0msuppress_callback_warning\u001b[0m\u001b[1;33m)\u001b[0m\u001b[1;33m\u001b[0m\u001b[1;33m\u001b[0m\u001b[0m\n\u001b[0;32m    305\u001b[0m         \u001b[0mtitle\u001b[0m \u001b[1;33m=\u001b[0m \u001b[0m_title_from_models\u001b[0m\u001b[1;33m(\u001b[0m\u001b[0mmodels_seq\u001b[0m\u001b[1;33m,\u001b[0m \u001b[0mtitle\u001b[0m\u001b[1;33m)\u001b[0m\u001b[1;33m\u001b[0m\u001b[1;33m\u001b[0m\u001b[0m\n",
      "\u001b[1;32m~\\miniconda3\\lib\\contextlib.py\u001b[0m in \u001b[0;36m__enter__\u001b[1;34m(self)\u001b[0m\n\u001b[0;32m    115\u001b[0m         \u001b[1;32mdel\u001b[0m \u001b[0mself\u001b[0m\u001b[1;33m.\u001b[0m\u001b[0margs\u001b[0m\u001b[1;33m,\u001b[0m \u001b[0mself\u001b[0m\u001b[1;33m.\u001b[0m\u001b[0mkwds\u001b[0m\u001b[1;33m,\u001b[0m \u001b[0mself\u001b[0m\u001b[1;33m.\u001b[0m\u001b[0mfunc\u001b[0m\u001b[1;33m\u001b[0m\u001b[1;33m\u001b[0m\u001b[0m\n\u001b[0;32m    116\u001b[0m         \u001b[1;32mtry\u001b[0m\u001b[1;33m:\u001b[0m\u001b[1;33m\u001b[0m\u001b[1;33m\u001b[0m\u001b[0m\n\u001b[1;32m--> 117\u001b[1;33m             \u001b[1;32mreturn\u001b[0m \u001b[0mnext\u001b[0m\u001b[1;33m(\u001b[0m\u001b[0mself\u001b[0m\u001b[1;33m.\u001b[0m\u001b[0mgen\u001b[0m\u001b[1;33m)\u001b[0m\u001b[1;33m\u001b[0m\u001b[1;33m\u001b[0m\u001b[0m\n\u001b[0m\u001b[0;32m    118\u001b[0m         \u001b[1;32mexcept\u001b[0m \u001b[0mStopIteration\u001b[0m\u001b[1;33m:\u001b[0m\u001b[1;33m\u001b[0m\u001b[1;33m\u001b[0m\u001b[0m\n\u001b[0;32m    119\u001b[0m             \u001b[1;32mraise\u001b[0m \u001b[0mRuntimeError\u001b[0m\u001b[1;33m(\u001b[0m\u001b[1;34m\"generator didn't yield\"\u001b[0m\u001b[1;33m)\u001b[0m \u001b[1;32mfrom\u001b[0m \u001b[1;32mNone\u001b[0m\u001b[1;33m\u001b[0m\u001b[1;33m\u001b[0m\u001b[0m\n",
      "\u001b[1;32m~\\miniconda3\\lib\\site-packages\\bokeh\\embed\\util.py\u001b[0m in \u001b[0;36mOutputDocumentFor\u001b[1;34m(objs, apply_theme, always_new)\u001b[0m\n\u001b[0;32m    132\u001b[0m             \u001b[0mdoc\u001b[0m \u001b[1;33m=\u001b[0m \u001b[0mDocument\u001b[0m\u001b[1;33m(\u001b[0m\u001b[1;33m)\u001b[0m\u001b[1;33m\u001b[0m\u001b[1;33m\u001b[0m\u001b[0m\n\u001b[0;32m    133\u001b[0m             \u001b[1;32mfor\u001b[0m \u001b[0mmodel\u001b[0m \u001b[1;32min\u001b[0m \u001b[0mobjs\u001b[0m\u001b[1;33m:\u001b[0m\u001b[1;33m\u001b[0m\u001b[1;33m\u001b[0m\u001b[0m\n\u001b[1;32m--> 134\u001b[1;33m                 \u001b[0mdoc\u001b[0m\u001b[1;33m.\u001b[0m\u001b[0madd_root\u001b[0m\u001b[1;33m(\u001b[0m\u001b[0mmodel\u001b[0m\u001b[1;33m)\u001b[0m\u001b[1;33m\u001b[0m\u001b[1;33m\u001b[0m\u001b[0m\n\u001b[0m\u001b[0;32m    135\u001b[0m \u001b[1;33m\u001b[0m\u001b[0m\n\u001b[0;32m    136\u001b[0m         \u001b[1;31m# handle a single shared document\u001b[0m\u001b[1;33m\u001b[0m\u001b[1;33m\u001b[0m\u001b[1;33m\u001b[0m\u001b[0m\n",
      "\u001b[1;32m~\\miniconda3\\lib\\site-packages\\bokeh\\document\\document.py\u001b[0m in \u001b[0;36madd_root\u001b[1;34m(self, model, setter)\u001b[0m\n\u001b[0;32m    319\u001b[0m             \u001b[0mself\u001b[0m\u001b[1;33m.\u001b[0m\u001b[0m_roots\u001b[0m\u001b[1;33m.\u001b[0m\u001b[0mappend\u001b[0m\u001b[1;33m(\u001b[0m\u001b[0mmodel\u001b[0m\u001b[1;33m)\u001b[0m\u001b[1;33m\u001b[0m\u001b[1;33m\u001b[0m\u001b[0m\n\u001b[0;32m    320\u001b[0m         \u001b[1;32mfinally\u001b[0m\u001b[1;33m:\u001b[0m\u001b[1;33m\u001b[0m\u001b[1;33m\u001b[0m\u001b[0m\n\u001b[1;32m--> 321\u001b[1;33m             \u001b[0mself\u001b[0m\u001b[1;33m.\u001b[0m\u001b[0m_pop_all_models_freeze\u001b[0m\u001b[1;33m(\u001b[0m\u001b[1;33m)\u001b[0m\u001b[1;33m\u001b[0m\u001b[1;33m\u001b[0m\u001b[0m\n\u001b[0m\u001b[0;32m    322\u001b[0m         \u001b[0mself\u001b[0m\u001b[1;33m.\u001b[0m\u001b[0m_trigger_on_change\u001b[0m\u001b[1;33m(\u001b[0m\u001b[0mRootAddedEvent\u001b[0m\u001b[1;33m(\u001b[0m\u001b[0mself\u001b[0m\u001b[1;33m,\u001b[0m \u001b[0mmodel\u001b[0m\u001b[1;33m,\u001b[0m \u001b[0msetter\u001b[0m\u001b[1;33m)\u001b[0m\u001b[1;33m)\u001b[0m\u001b[1;33m\u001b[0m\u001b[1;33m\u001b[0m\u001b[0m\n\u001b[0;32m    323\u001b[0m \u001b[1;33m\u001b[0m\u001b[0m\n",
      "\u001b[1;32m~\\miniconda3\\lib\\site-packages\\bokeh\\document\\document.py\u001b[0m in \u001b[0;36m_pop_all_models_freeze\u001b[1;34m(self)\u001b[0m\n\u001b[0;32m   1102\u001b[0m         \u001b[0mself\u001b[0m\u001b[1;33m.\u001b[0m\u001b[0m_all_models_freeze_count\u001b[0m \u001b[1;33m-=\u001b[0m \u001b[1;36m1\u001b[0m\u001b[1;33m\u001b[0m\u001b[1;33m\u001b[0m\u001b[0m\n\u001b[0;32m   1103\u001b[0m         \u001b[1;32mif\u001b[0m \u001b[0mself\u001b[0m\u001b[1;33m.\u001b[0m\u001b[0m_all_models_freeze_count\u001b[0m \u001b[1;33m==\u001b[0m \u001b[1;36m0\u001b[0m\u001b[1;33m:\u001b[0m\u001b[1;33m\u001b[0m\u001b[1;33m\u001b[0m\u001b[0m\n\u001b[1;32m-> 1104\u001b[1;33m             \u001b[0mself\u001b[0m\u001b[1;33m.\u001b[0m\u001b[0m_recompute_all_models\u001b[0m\u001b[1;33m(\u001b[0m\u001b[1;33m)\u001b[0m\u001b[1;33m\u001b[0m\u001b[1;33m\u001b[0m\u001b[0m\n\u001b[0m\u001b[0;32m   1105\u001b[0m \u001b[1;33m\u001b[0m\u001b[0m\n\u001b[0;32m   1106\u001b[0m     \u001b[1;32mdef\u001b[0m \u001b[0m_recompute_all_models\u001b[0m\u001b[1;33m(\u001b[0m\u001b[0mself\u001b[0m\u001b[1;33m)\u001b[0m\u001b[1;33m:\u001b[0m\u001b[1;33m\u001b[0m\u001b[1;33m\u001b[0m\u001b[0m\n",
      "\u001b[1;32m~\\miniconda3\\lib\\site-packages\\bokeh\\document\\document.py\u001b[0m in \u001b[0;36m_recompute_all_models\u001b[1;34m(self)\u001b[0m\n\u001b[0;32m   1125\u001b[0m             \u001b[0md\u001b[0m\u001b[1;33m.\u001b[0m\u001b[0m_detach_document\u001b[0m\u001b[1;33m(\u001b[0m\u001b[1;33m)\u001b[0m\u001b[1;33m\u001b[0m\u001b[1;33m\u001b[0m\u001b[0m\n\u001b[0;32m   1126\u001b[0m         \u001b[1;32mfor\u001b[0m \u001b[0ma\u001b[0m \u001b[1;32min\u001b[0m \u001b[0mto_attach\u001b[0m\u001b[1;33m:\u001b[0m\u001b[1;33m\u001b[0m\u001b[1;33m\u001b[0m\u001b[0m\n\u001b[1;32m-> 1127\u001b[1;33m             \u001b[0ma\u001b[0m\u001b[1;33m.\u001b[0m\u001b[0m_attach_document\u001b[0m\u001b[1;33m(\u001b[0m\u001b[0mself\u001b[0m\u001b[1;33m)\u001b[0m\u001b[1;33m\u001b[0m\u001b[1;33m\u001b[0m\u001b[0m\n\u001b[0m\u001b[0;32m   1128\u001b[0m         \u001b[0mself\u001b[0m\u001b[1;33m.\u001b[0m\u001b[0m_all_models\u001b[0m \u001b[1;33m=\u001b[0m \u001b[0mrecomputed\u001b[0m\u001b[1;33m\u001b[0m\u001b[1;33m\u001b[0m\u001b[0m\n\u001b[0;32m   1129\u001b[0m         \u001b[0mself\u001b[0m\u001b[1;33m.\u001b[0m\u001b[0m_all_models_by_name\u001b[0m \u001b[1;33m=\u001b[0m \u001b[0mrecomputed_by_name\u001b[0m\u001b[1;33m\u001b[0m\u001b[1;33m\u001b[0m\u001b[0m\n",
      "\u001b[1;32m~\\miniconda3\\lib\\site-packages\\bokeh\\model.py\u001b[0m in \u001b[0;36m_attach_document\u001b[1;34m(self, doc)\u001b[0m\n\u001b[0;32m    690\u001b[0m         '''\n\u001b[0;32m    691\u001b[0m         \u001b[1;32mif\u001b[0m \u001b[0mself\u001b[0m\u001b[1;33m.\u001b[0m\u001b[0m_document\u001b[0m \u001b[1;32mis\u001b[0m \u001b[1;32mnot\u001b[0m \u001b[1;32mNone\u001b[0m \u001b[1;32mand\u001b[0m \u001b[0mself\u001b[0m\u001b[1;33m.\u001b[0m\u001b[0m_document\u001b[0m \u001b[1;32mis\u001b[0m \u001b[1;32mnot\u001b[0m \u001b[0mdoc\u001b[0m\u001b[1;33m:\u001b[0m\u001b[1;33m\u001b[0m\u001b[1;33m\u001b[0m\u001b[0m\n\u001b[1;32m--> 692\u001b[1;33m             \u001b[1;32mraise\u001b[0m \u001b[0mRuntimeError\u001b[0m\u001b[1;33m(\u001b[0m\u001b[1;34m\"Models must be owned by only a single document, %r is already in a doc\"\u001b[0m \u001b[1;33m%\u001b[0m \u001b[1;33m(\u001b[0m\u001b[0mself\u001b[0m\u001b[1;33m)\u001b[0m\u001b[1;33m)\u001b[0m\u001b[1;33m\u001b[0m\u001b[1;33m\u001b[0m\u001b[0m\n\u001b[0m\u001b[0;32m    693\u001b[0m         \u001b[0mdoc\u001b[0m\u001b[1;33m.\u001b[0m\u001b[0mtheme\u001b[0m\u001b[1;33m.\u001b[0m\u001b[0mapply_to_model\u001b[0m\u001b[1;33m(\u001b[0m\u001b[0mself\u001b[0m\u001b[1;33m)\u001b[0m\u001b[1;33m\u001b[0m\u001b[1;33m\u001b[0m\u001b[0m\n\u001b[0;32m    694\u001b[0m         \u001b[0mself\u001b[0m\u001b[1;33m.\u001b[0m\u001b[0m_document\u001b[0m \u001b[1;33m=\u001b[0m \u001b[0mdoc\u001b[0m\u001b[1;33m\u001b[0m\u001b[1;33m\u001b[0m\u001b[0m\n",
      "\u001b[1;31mRuntimeError\u001b[0m: Models must be owned by only a single document, BasicTickFormatter(id='3909', ...) is already in a doc"
     ]
    }
   ],
   "source": [
    "show(layout_with_widgets_SEJONG)"
   ]
  },
  {
   "cell_type": "code",
   "execution_count": 22,
   "metadata": {},
   "outputs": [
    {
     "output_type": "error",
     "ename": "TypeError",
     "evalue": "'str' object is not callable",
     "traceback": [
      "\u001b[1;31m---------------------------------------------------------------------------\u001b[0m",
      "\u001b[1;31mTypeError\u001b[0m                                 Traceback (most recent call last)",
      "\u001b[1;32m<ipython-input-22-d4eca8a69c36>\u001b[0m in \u001b[0;36m<module>\u001b[1;34m\u001b[0m\n\u001b[0;32m      1\u001b[0m layout_with_widgets_KYUNG_BUK = column(\n\u001b[1;32m----> 2\u001b[1;33m                             \u001b[0mcolumn\u001b[0m\u001b[1;33m(\u001b[0m\u001b[0mrow\u001b[0m\u001b[1;33m(\u001b[0m\u001b[0mKYUNG_BUKap\u001b[0m\u001b[1;33m,\u001b[0m\u001b[0mKYUNG_BUKp\u001b[0m\u001b[1;33m)\u001b[0m\u001b[1;33m)\u001b[0m\u001b[1;33m,\u001b[0m\u001b[1;33m\u001b[0m\u001b[1;33m\u001b[0m\u001b[0m\n\u001b[0m\u001b[0;32m      3\u001b[0m                             row(column(KYUNG_BUKdata_table)))\n\u001b[0;32m      4\u001b[0m \u001b[0msave\u001b[0m\u001b[1;33m(\u001b[0m\u001b[0mobj\u001b[0m\u001b[1;33m=\u001b[0m\u001b[0mlayout_with_widgets_KYUNG_BUK\u001b[0m\u001b[1;33m,\u001b[0m \u001b[0mfilename\u001b[0m\u001b[1;33m=\u001b[0m \u001b[1;34m'KYUNG_BUKPM25.html'\u001b[0m\u001b[1;33m)\u001b[0m\u001b[1;33m\u001b[0m\u001b[1;33m\u001b[0m\u001b[0m\n",
      "\u001b[1;31mTypeError\u001b[0m: 'str' object is not callable"
     ]
    }
   ],
   "source": [
    "layout_with_widgets_KYUNG_BUK = column(\n",
    "                            column(row(KYUNG_BUKap,KYUNG_BUKp)),\n",
    "                            row(column(KYUNG_BUKdata_table)))\n",
    "save(obj=layout_with_widgets_KYUNG_BUK, filename= 'KYUNG_BUKPM25.html')\n"
   ]
  },
  {
   "cell_type": "code",
   "execution_count": 42,
   "metadata": {},
   "outputs": [
    {
     "output_type": "stream",
     "name": "stderr",
     "text": [
      "C:\\Users\\ad\\miniconda3\\lib\\site-packages\\bokeh\\io\\saving.py:126: UserWarning: save() called but no resources were supplied and output_file(...) was never called, defaulting to resources.CDN\n  warn(\"save() called but no resources were supplied and output_file(...) was never called, defaulting to resources.CDN\")\nC:\\Users\\ad\\miniconda3\\lib\\site-packages\\bokeh\\io\\saving.py:139: UserWarning: save() called but no title was supplied and output_file(...) was never called, using default title 'Bokeh Plot'\n  warn(\"save() called but no title was supplied and output_file(...) was never called, using default title 'Bokeh Plot'\")\n"
     ]
    },
    {
     "output_type": "execute_result",
     "data": {
      "text/plain": [
       "True"
      ]
     },
     "metadata": {},
     "execution_count": 42
    }
   ],
   "source": [
    "#최종22\n",
    "import pandas as pd \n",
    "import numpy as np\n",
    "import bokeh\n",
    "import webbrowser\n",
    "from bokeh.io import output_notebook, show, save, output_notebook, curdoc, output_file\n",
    "from bokeh.plotting import figure, show\n",
    "from bokeh.models import Select, CheckboxButtonGroup, ColumnDataSource, DataTable, TableColumn, WMTSTileSource, FactorRange, PanTool\n",
    "from bokeh.models import BoxZoomTool, PanTool, ResetTool\n",
    "from bokeh.layouts import row, column\n",
    "from bokeh.resources import INLINE\n",
    "from bokeh.models import *\n",
    "from bokeh.plotting import *\n",
    "from bokeh.io import *\n",
    "from bokeh.tile_providers import *\n",
    "from bokeh.palettes import *\n",
    "from bokeh.transform import *\n",
    "from bokeh.layouts import *\n",
    "#output_notebook() \n",
    "\n",
    "# 최종파일 오픈 최종\n",
    "\n",
    "#자료임포트\n",
    "filepath = f'C:/Users/ad/Desktop/test/fin/SEOULFIN.xlsx'\n",
    "excel_df = pd.read_excel(filepath)\n",
    "excel_df_cop = excel_df.copy()\n",
    "excel_df_cop['DATE'] = pd.to_datetime(excel_df['DATE']) #date 컬럼 시계열 변경\n",
    "\n",
    "# 체크박스 다중선택\n",
    "\n",
    "\n",
    "checkbox_options = ['PM2.5','PM10','CO','CEN','PRE','DDD']\n",
    "\n",
    "checkbox_grp = CheckboxButtonGroup(labels=checkbox_options, active=[0], button_type=\"success\")\n",
    "\n",
    "# 라인그래프\n",
    "ap = figure(plot_width=500, plot_height=400, x_axis_type='datetime', output_backend=\"svg\",sizing_mode='stretch_width', title='SEOUL')\n",
    "ap.line(excel_df_cop['DATE'], excel_df_cop['PM2.5'], color='navy', alpha=0.5)\n",
    "\n",
    "# 표\n",
    "source = ColumnDataSource(excel_df)\n",
    "columns = [ TableColumn( field=col, title=col ) for col in excel_df.columns ]\n",
    "data_table = DataTable(source=source, columns = columns, background='red',width=900,sizing_mode='scale_both' )\n",
    "\n",
    "\n",
    "# 3일 평균\n",
    "tdata = excel_df['DATE'].to_list()[:3]\n",
    "tvalue = excel_df[['PM10','PM2.5','CO','CENTIGRADE','PRECIPITATION']][:3]\n",
    "\n",
    "data = {\n",
    "        'PM10'   : excel_df_cop['PM10'].to_list()[:3],\n",
    "        'PM2.5'  : excel_df_cop['PM2.5'].to_list()[:3],\n",
    "        'CO'     : excel_df_cop['CO'].to_list()[:3],\n",
    "        'C'      : excel_df_cop['CENTIGRADE'].to_list()[:3],\n",
    "        'PPTN'   : excel_df_cop['PRECIPITATION'].to_list()[:3]\n",
    "        }\n",
    "\n",
    "# this creates [ (\"Apples\", \"2015\"), (\"Apples\", \"2016\"), (\"Apples\", \"2017\"), (\"Pears\", \"2015), ... ]\n",
    "x = [ (tdat, tval) for tdat in tdata for tval in tvalue ]\n",
    "counts = sum(zip(data['PM10'], data['PM2.5'], data['CO'], data['C'], data['PPTN']), ()) # like an hstack\n",
    "\n",
    "source = ColumnDataSource(data=dict(x=x, counts=counts))\n",
    "\n",
    "p = figure(\n",
    "    x_range=FactorRange(*x), \n",
    "    plot_height=400,\n",
    "    plot_width=400, \n",
    "    title=\"Change in Seoul for the last three days\",\n",
    "    #toolbar_location=None,\n",
    "    tools=\"xwheel_pan, reset\"\n",
    "    )\n",
    "\n",
    "p.vbar(x='x', top='counts', width=0.9, source=source)\n",
    "\n",
    "p.y_range.start = 0\n",
    "p.x_range.range_padding = 0.01\n",
    "p.xaxis.major_label_orientation = 1\n",
    "#p.xgrid.grid_line_color = None\n",
    "p.add_tools(PanTool(dimensions=\"width\"))\n",
    "# 3개 병합\n",
    "layout_with_widgets = column(\n",
    "                            column(checkbox_grp),column(row(ap,p)),\n",
    "                            row(column(data_table)))\n",
    "#show(checkbox_grp)\n",
    "#show(ap)\n",
    "#show(scatter)\n",
    "#show(data_table)\n",
    "#show(layout_with_widgets)\n",
    "save(obj=layout_with_widgets, filename='layout_with_widgets.html')\n",
    "webbrowser.open('layout_with_widgets.html')"
   ]
  },
  {
   "cell_type": "code",
   "execution_count": 24,
   "metadata": {},
   "outputs": [
    {
     "output_type": "execute_result",
     "data": {
      "text/plain": [
       "CheckboxButtonGroup(id='7046', ...)"
      ],
      "text/html": "<div style=\"display: table;\"><div style=\"display: table-row;\"><div style=\"display: table-cell;\"><b title=\"bokeh.models.widgets.groups.CheckboxButtonGroup\">CheckboxButtonGroup</b>(</div><div style=\"display: table-cell;\">id&nbsp;=&nbsp;'7046', <span id=\"7579\" style=\"cursor: pointer;\">&hellip;)</span></div></div><div class=\"7578\" style=\"display: none;\"><div style=\"display: table-cell;\"></div><div style=\"display: table-cell;\">active&nbsp;=&nbsp;[0],</div></div><div class=\"7578\" style=\"display: none;\"><div style=\"display: table-cell;\"></div><div style=\"display: table-cell;\">align&nbsp;=&nbsp;'start',</div></div><div class=\"7578\" style=\"display: none;\"><div style=\"display: table-cell;\"></div><div style=\"display: table-cell;\">aspect_ratio&nbsp;=&nbsp;None,</div></div><div class=\"7578\" style=\"display: none;\"><div style=\"display: table-cell;\"></div><div style=\"display: table-cell;\">background&nbsp;=&nbsp;None,</div></div><div class=\"7578\" style=\"display: none;\"><div style=\"display: table-cell;\"></div><div style=\"display: table-cell;\">button_type&nbsp;=&nbsp;'success',</div></div><div class=\"7578\" style=\"display: none;\"><div style=\"display: table-cell;\"></div><div style=\"display: table-cell;\">css_classes&nbsp;=&nbsp;[],</div></div><div class=\"7578\" style=\"display: none;\"><div style=\"display: table-cell;\"></div><div style=\"display: table-cell;\">default_size&nbsp;=&nbsp;300,</div></div><div class=\"7578\" style=\"display: none;\"><div style=\"display: table-cell;\"></div><div style=\"display: table-cell;\">disabled&nbsp;=&nbsp;False,</div></div><div class=\"7578\" style=\"display: none;\"><div style=\"display: table-cell;\"></div><div style=\"display: table-cell;\">height&nbsp;=&nbsp;None,</div></div><div class=\"7578\" style=\"display: none;\"><div style=\"display: table-cell;\"></div><div style=\"display: table-cell;\">height_policy&nbsp;=&nbsp;'auto',</div></div><div class=\"7578\" style=\"display: none;\"><div style=\"display: table-cell;\"></div><div style=\"display: table-cell;\">js_event_callbacks&nbsp;=&nbsp;{},</div></div><div class=\"7578\" style=\"display: none;\"><div style=\"display: table-cell;\"></div><div style=\"display: table-cell;\">js_property_callbacks&nbsp;=&nbsp;{},</div></div><div class=\"7578\" style=\"display: none;\"><div style=\"display: table-cell;\"></div><div style=\"display: table-cell;\">labels&nbsp;=&nbsp;['PM2.5', 'PM10', 'CO', 'CEN', 'PRE', 'DDD'],</div></div><div class=\"7578\" style=\"display: none;\"><div style=\"display: table-cell;\"></div><div style=\"display: table-cell;\">margin&nbsp;=&nbsp;(5, 5, 5, 5),</div></div><div class=\"7578\" style=\"display: none;\"><div style=\"display: table-cell;\"></div><div style=\"display: table-cell;\">max_height&nbsp;=&nbsp;None,</div></div><div class=\"7578\" style=\"display: none;\"><div style=\"display: table-cell;\"></div><div style=\"display: table-cell;\">max_width&nbsp;=&nbsp;None,</div></div><div class=\"7578\" style=\"display: none;\"><div style=\"display: table-cell;\"></div><div style=\"display: table-cell;\">min_height&nbsp;=&nbsp;None,</div></div><div class=\"7578\" style=\"display: none;\"><div style=\"display: table-cell;\"></div><div style=\"display: table-cell;\">min_width&nbsp;=&nbsp;None,</div></div><div class=\"7578\" style=\"display: none;\"><div style=\"display: table-cell;\"></div><div style=\"display: table-cell;\">name&nbsp;=&nbsp;None,</div></div><div class=\"7578\" style=\"display: none;\"><div style=\"display: table-cell;\"></div><div style=\"display: table-cell;\">orientation&nbsp;=&nbsp;'horizontal',</div></div><div class=\"7578\" style=\"display: none;\"><div style=\"display: table-cell;\"></div><div style=\"display: table-cell;\">sizing_mode&nbsp;=&nbsp;None,</div></div><div class=\"7578\" style=\"display: none;\"><div style=\"display: table-cell;\"></div><div style=\"display: table-cell;\">subscribed_events&nbsp;=&nbsp;[],</div></div><div class=\"7578\" style=\"display: none;\"><div style=\"display: table-cell;\"></div><div style=\"display: table-cell;\">syncable&nbsp;=&nbsp;True,</div></div><div class=\"7578\" style=\"display: none;\"><div style=\"display: table-cell;\"></div><div style=\"display: table-cell;\">tags&nbsp;=&nbsp;[],</div></div><div class=\"7578\" style=\"display: none;\"><div style=\"display: table-cell;\"></div><div style=\"display: table-cell;\">visible&nbsp;=&nbsp;True,</div></div><div class=\"7578\" style=\"display: none;\"><div style=\"display: table-cell;\"></div><div style=\"display: table-cell;\">width&nbsp;=&nbsp;None,</div></div><div class=\"7578\" style=\"display: none;\"><div style=\"display: table-cell;\"></div><div style=\"display: table-cell;\">width_policy&nbsp;=&nbsp;'auto')</div></div></div>\n<script>\n(function() {\n  var expanded = false;\n  var ellipsis = document.getElementById(\"7579\");\n  ellipsis.addEventListener(\"click\", function() {\n    var rows = document.getElementsByClassName(\"7578\");\n    for (var i = 0; i < rows.length; i++) {\n      var el = rows[i];\n      el.style.display = expanded ? \"none\" : \"table-row\";\n    }\n    ellipsis.innerHTML = expanded ? \"&hellip;)\" : \"&lsaquo;&lsaquo;&lsaquo;\";\n    expanded = !expanded;\n  });\n})();\n</script>\n"
     },
     "metadata": {},
     "execution_count": 24
    }
   ],
   "source": [
    "checkbox_grp"
   ]
  },
  {
   "cell_type": "code",
   "execution_count": 25,
   "metadata": {},
   "outputs": [
    {
     "output_type": "execute_result",
     "data": {
      "text/plain": [
       "CheckboxButtonGroup(id='5767', ...)"
      ],
      "text/html": "<div style=\"display: table;\"><div style=\"display: table-row;\"><div style=\"display: table-cell;\"><b title=\"bokeh.models.widgets.groups.CheckboxButtonGroup\">CheckboxButtonGroup</b>(</div><div style=\"display: table-cell;\">id&nbsp;=&nbsp;'5767', <span id=\"7581\" style=\"cursor: pointer;\">&hellip;)</span></div></div><div class=\"7580\" style=\"display: none;\"><div style=\"display: table-cell;\"></div><div style=\"display: table-cell;\">active&nbsp;=&nbsp;[0],</div></div><div class=\"7580\" style=\"display: none;\"><div style=\"display: table-cell;\"></div><div style=\"display: table-cell;\">align&nbsp;=&nbsp;'start',</div></div><div class=\"7580\" style=\"display: none;\"><div style=\"display: table-cell;\"></div><div style=\"display: table-cell;\">aspect_ratio&nbsp;=&nbsp;None,</div></div><div class=\"7580\" style=\"display: none;\"><div style=\"display: table-cell;\"></div><div style=\"display: table-cell;\">background&nbsp;=&nbsp;None,</div></div><div class=\"7580\" style=\"display: none;\"><div style=\"display: table-cell;\"></div><div style=\"display: table-cell;\">button_type&nbsp;=&nbsp;'success',</div></div><div class=\"7580\" style=\"display: none;\"><div style=\"display: table-cell;\"></div><div style=\"display: table-cell;\">css_classes&nbsp;=&nbsp;[],</div></div><div class=\"7580\" style=\"display: none;\"><div style=\"display: table-cell;\"></div><div style=\"display: table-cell;\">default_size&nbsp;=&nbsp;300,</div></div><div class=\"7580\" style=\"display: none;\"><div style=\"display: table-cell;\"></div><div style=\"display: table-cell;\">disabled&nbsp;=&nbsp;False,</div></div><div class=\"7580\" style=\"display: none;\"><div style=\"display: table-cell;\"></div><div style=\"display: table-cell;\">height&nbsp;=&nbsp;None,</div></div><div class=\"7580\" style=\"display: none;\"><div style=\"display: table-cell;\"></div><div style=\"display: table-cell;\">height_policy&nbsp;=&nbsp;'auto',</div></div><div class=\"7580\" style=\"display: none;\"><div style=\"display: table-cell;\"></div><div style=\"display: table-cell;\">js_event_callbacks&nbsp;=&nbsp;{},</div></div><div class=\"7580\" style=\"display: none;\"><div style=\"display: table-cell;\"></div><div style=\"display: table-cell;\">js_property_callbacks&nbsp;=&nbsp;{},</div></div><div class=\"7580\" style=\"display: none;\"><div style=\"display: table-cell;\"></div><div style=\"display: table-cell;\">labels&nbsp;=&nbsp;['open', 'high', 'low', 'close'],</div></div><div class=\"7580\" style=\"display: none;\"><div style=\"display: table-cell;\"></div><div style=\"display: table-cell;\">margin&nbsp;=&nbsp;(5, 5, 5, 5),</div></div><div class=\"7580\" style=\"display: none;\"><div style=\"display: table-cell;\"></div><div style=\"display: table-cell;\">max_height&nbsp;=&nbsp;None,</div></div><div class=\"7580\" style=\"display: none;\"><div style=\"display: table-cell;\"></div><div style=\"display: table-cell;\">max_width&nbsp;=&nbsp;None,</div></div><div class=\"7580\" style=\"display: none;\"><div style=\"display: table-cell;\"></div><div style=\"display: table-cell;\">min_height&nbsp;=&nbsp;None,</div></div><div class=\"7580\" style=\"display: none;\"><div style=\"display: table-cell;\"></div><div style=\"display: table-cell;\">min_width&nbsp;=&nbsp;None,</div></div><div class=\"7580\" style=\"display: none;\"><div style=\"display: table-cell;\"></div><div style=\"display: table-cell;\">name&nbsp;=&nbsp;None,</div></div><div class=\"7580\" style=\"display: none;\"><div style=\"display: table-cell;\"></div><div style=\"display: table-cell;\">orientation&nbsp;=&nbsp;'horizontal',</div></div><div class=\"7580\" style=\"display: none;\"><div style=\"display: table-cell;\"></div><div style=\"display: table-cell;\">sizing_mode&nbsp;=&nbsp;None,</div></div><div class=\"7580\" style=\"display: none;\"><div style=\"display: table-cell;\"></div><div style=\"display: table-cell;\">subscribed_events&nbsp;=&nbsp;[],</div></div><div class=\"7580\" style=\"display: none;\"><div style=\"display: table-cell;\"></div><div style=\"display: table-cell;\">syncable&nbsp;=&nbsp;True,</div></div><div class=\"7580\" style=\"display: none;\"><div style=\"display: table-cell;\"></div><div style=\"display: table-cell;\">tags&nbsp;=&nbsp;[],</div></div><div class=\"7580\" style=\"display: none;\"><div style=\"display: table-cell;\"></div><div style=\"display: table-cell;\">visible&nbsp;=&nbsp;True,</div></div><div class=\"7580\" style=\"display: none;\"><div style=\"display: table-cell;\"></div><div style=\"display: table-cell;\">width&nbsp;=&nbsp;None,</div></div><div class=\"7580\" style=\"display: none;\"><div style=\"display: table-cell;\"></div><div style=\"display: table-cell;\">width_policy&nbsp;=&nbsp;'auto')</div></div></div>\n<script>\n(function() {\n  var expanded = false;\n  var ellipsis = document.getElementById(\"7581\");\n  ellipsis.addEventListener(\"click\", function() {\n    var rows = document.getElementsByClassName(\"7580\");\n    for (var i = 0; i < rows.length; i++) {\n      var el = rows[i];\n      el.style.display = expanded ? \"none\" : \"table-row\";\n    }\n    ellipsis.innerHTML = expanded ? \"&hellip;)\" : \"&lsaquo;&lsaquo;&lsaquo;\";\n    expanded = !expanded;\n  });\n})();\n</script>\n"
     },
     "metadata": {},
     "execution_count": 25
    }
   ],
   "source": [
    "PUSANcb"
   ]
  },
  {
   "cell_type": "code",
   "execution_count": 26,
   "metadata": {},
   "outputs": [
    {
     "output_type": "execute_result",
     "data": {
      "text/plain": [
       "Figure(id='7047', ...)"
      ],
      "text/html": "<div style=\"display: table;\"><div style=\"display: table-row;\"><div style=\"display: table-cell;\"><b title=\"bokeh.plotting.figure.Figure\">Figure</b>(</div><div style=\"display: table-cell;\">id&nbsp;=&nbsp;'7047', <span id=\"7583\" style=\"cursor: pointer;\">&hellip;)</span></div></div><div class=\"7582\" style=\"display: none;\"><div style=\"display: table-cell;\"></div><div style=\"display: table-cell;\">above&nbsp;=&nbsp;[],</div></div><div class=\"7582\" style=\"display: none;\"><div style=\"display: table-cell;\"></div><div style=\"display: table-cell;\">align&nbsp;=&nbsp;'start',</div></div><div class=\"7582\" style=\"display: none;\"><div style=\"display: table-cell;\"></div><div style=\"display: table-cell;\">aspect_ratio&nbsp;=&nbsp;None,</div></div><div class=\"7582\" style=\"display: none;\"><div style=\"display: table-cell;\"></div><div style=\"display: table-cell;\">aspect_scale&nbsp;=&nbsp;1,</div></div><div class=\"7582\" style=\"display: none;\"><div style=\"display: table-cell;\"></div><div style=\"display: table-cell;\">background&nbsp;=&nbsp;None,</div></div><div class=\"7582\" style=\"display: none;\"><div style=\"display: table-cell;\"></div><div style=\"display: table-cell;\">background_fill_alpha&nbsp;=&nbsp;1.0,</div></div><div class=\"7582\" style=\"display: none;\"><div style=\"display: table-cell;\"></div><div style=\"display: table-cell;\">background_fill_color&nbsp;=&nbsp;'#ffffff',</div></div><div class=\"7582\" style=\"display: none;\"><div style=\"display: table-cell;\"></div><div style=\"display: table-cell;\">below&nbsp;=&nbsp;[DatetimeAxis(id='7058', ...)],</div></div><div class=\"7582\" style=\"display: none;\"><div style=\"display: table-cell;\"></div><div style=\"display: table-cell;\">border_fill_alpha&nbsp;=&nbsp;1.0,</div></div><div class=\"7582\" style=\"display: none;\"><div style=\"display: table-cell;\"></div><div style=\"display: table-cell;\">border_fill_color&nbsp;=&nbsp;'#ffffff',</div></div><div class=\"7582\" style=\"display: none;\"><div style=\"display: table-cell;\"></div><div style=\"display: table-cell;\">center&nbsp;=&nbsp;[Grid(id='7061', ...), Grid(id='7065', ...)],</div></div><div class=\"7582\" style=\"display: none;\"><div style=\"display: table-cell;\"></div><div style=\"display: table-cell;\">css_classes&nbsp;=&nbsp;[],</div></div><div class=\"7582\" style=\"display: none;\"><div style=\"display: table-cell;\"></div><div style=\"display: table-cell;\">disabled&nbsp;=&nbsp;False,</div></div><div class=\"7582\" style=\"display: none;\"><div style=\"display: table-cell;\"></div><div style=\"display: table-cell;\">extra_x_ranges&nbsp;=&nbsp;{},</div></div><div class=\"7582\" style=\"display: none;\"><div style=\"display: table-cell;\"></div><div style=\"display: table-cell;\">extra_y_ranges&nbsp;=&nbsp;{},</div></div><div class=\"7582\" style=\"display: none;\"><div style=\"display: table-cell;\"></div><div style=\"display: table-cell;\">frame_height&nbsp;=&nbsp;None,</div></div><div class=\"7582\" style=\"display: none;\"><div style=\"display: table-cell;\"></div><div style=\"display: table-cell;\">frame_width&nbsp;=&nbsp;None,</div></div><div class=\"7582\" style=\"display: none;\"><div style=\"display: table-cell;\"></div><div style=\"display: table-cell;\">height&nbsp;=&nbsp;400,</div></div><div class=\"7582\" style=\"display: none;\"><div style=\"display: table-cell;\"></div><div style=\"display: table-cell;\">height_policy&nbsp;=&nbsp;'auto',</div></div><div class=\"7582\" style=\"display: none;\"><div style=\"display: table-cell;\"></div><div style=\"display: table-cell;\">hidpi&nbsp;=&nbsp;True,</div></div><div class=\"7582\" style=\"display: none;\"><div style=\"display: table-cell;\"></div><div style=\"display: table-cell;\">inner_height&nbsp;=&nbsp;0,</div></div><div class=\"7582\" style=\"display: none;\"><div style=\"display: table-cell;\"></div><div style=\"display: table-cell;\">inner_width&nbsp;=&nbsp;0,</div></div><div class=\"7582\" style=\"display: none;\"><div style=\"display: table-cell;\"></div><div style=\"display: table-cell;\">js_event_callbacks&nbsp;=&nbsp;{},</div></div><div class=\"7582\" style=\"display: none;\"><div style=\"display: table-cell;\"></div><div style=\"display: table-cell;\">js_property_callbacks&nbsp;=&nbsp;{},</div></div><div class=\"7582\" style=\"display: none;\"><div style=\"display: table-cell;\"></div><div style=\"display: table-cell;\">left&nbsp;=&nbsp;[LinearAxis(id='7062', ...)],</div></div><div class=\"7582\" style=\"display: none;\"><div style=\"display: table-cell;\"></div><div style=\"display: table-cell;\">lod_factor&nbsp;=&nbsp;10,</div></div><div class=\"7582\" style=\"display: none;\"><div style=\"display: table-cell;\"></div><div style=\"display: table-cell;\">lod_interval&nbsp;=&nbsp;300,</div></div><div class=\"7582\" style=\"display: none;\"><div style=\"display: table-cell;\"></div><div style=\"display: table-cell;\">lod_threshold&nbsp;=&nbsp;2000,</div></div><div class=\"7582\" style=\"display: none;\"><div style=\"display: table-cell;\"></div><div style=\"display: table-cell;\">lod_timeout&nbsp;=&nbsp;500,</div></div><div class=\"7582\" style=\"display: none;\"><div style=\"display: table-cell;\"></div><div style=\"display: table-cell;\">margin&nbsp;=&nbsp;(0, 0, 0, 0),</div></div><div class=\"7582\" style=\"display: none;\"><div style=\"display: table-cell;\"></div><div style=\"display: table-cell;\">match_aspect&nbsp;=&nbsp;False,</div></div><div class=\"7582\" style=\"display: none;\"><div style=\"display: table-cell;\"></div><div style=\"display: table-cell;\">max_height&nbsp;=&nbsp;None,</div></div><div class=\"7582\" style=\"display: none;\"><div style=\"display: table-cell;\"></div><div style=\"display: table-cell;\">max_width&nbsp;=&nbsp;None,</div></div><div class=\"7582\" style=\"display: none;\"><div style=\"display: table-cell;\"></div><div style=\"display: table-cell;\">min_border&nbsp;=&nbsp;5,</div></div><div class=\"7582\" style=\"display: none;\"><div style=\"display: table-cell;\"></div><div style=\"display: table-cell;\">min_border_bottom&nbsp;=&nbsp;None,</div></div><div class=\"7582\" style=\"display: none;\"><div style=\"display: table-cell;\"></div><div style=\"display: table-cell;\">min_border_left&nbsp;=&nbsp;None,</div></div><div class=\"7582\" style=\"display: none;\"><div style=\"display: table-cell;\"></div><div style=\"display: table-cell;\">min_border_right&nbsp;=&nbsp;None,</div></div><div class=\"7582\" style=\"display: none;\"><div style=\"display: table-cell;\"></div><div style=\"display: table-cell;\">min_border_top&nbsp;=&nbsp;None,</div></div><div class=\"7582\" style=\"display: none;\"><div style=\"display: table-cell;\"></div><div style=\"display: table-cell;\">min_height&nbsp;=&nbsp;None,</div></div><div class=\"7582\" style=\"display: none;\"><div style=\"display: table-cell;\"></div><div style=\"display: table-cell;\">min_width&nbsp;=&nbsp;None,</div></div><div class=\"7582\" style=\"display: none;\"><div style=\"display: table-cell;\"></div><div style=\"display: table-cell;\">name&nbsp;=&nbsp;None,</div></div><div class=\"7582\" style=\"display: none;\"><div style=\"display: table-cell;\"></div><div style=\"display: table-cell;\">outer_height&nbsp;=&nbsp;0,</div></div><div class=\"7582\" style=\"display: none;\"><div style=\"display: table-cell;\"></div><div style=\"display: table-cell;\">outer_width&nbsp;=&nbsp;0,</div></div><div class=\"7582\" style=\"display: none;\"><div style=\"display: table-cell;\"></div><div style=\"display: table-cell;\">outline_line_alpha&nbsp;=&nbsp;1.0,</div></div><div class=\"7582\" style=\"display: none;\"><div style=\"display: table-cell;\"></div><div style=\"display: table-cell;\">outline_line_cap&nbsp;=&nbsp;'butt',</div></div><div class=\"7582\" style=\"display: none;\"><div style=\"display: table-cell;\"></div><div style=\"display: table-cell;\">outline_line_color&nbsp;=&nbsp;'#e5e5e5',</div></div><div class=\"7582\" style=\"display: none;\"><div style=\"display: table-cell;\"></div><div style=\"display: table-cell;\">outline_line_dash&nbsp;=&nbsp;[],</div></div><div class=\"7582\" style=\"display: none;\"><div style=\"display: table-cell;\"></div><div style=\"display: table-cell;\">outline_line_dash_offset&nbsp;=&nbsp;0,</div></div><div class=\"7582\" style=\"display: none;\"><div style=\"display: table-cell;\"></div><div style=\"display: table-cell;\">outline_line_join&nbsp;=&nbsp;'bevel',</div></div><div class=\"7582\" style=\"display: none;\"><div style=\"display: table-cell;\"></div><div style=\"display: table-cell;\">outline_line_width&nbsp;=&nbsp;1,</div></div><div class=\"7582\" style=\"display: none;\"><div style=\"display: table-cell;\"></div><div style=\"display: table-cell;\">output_backend&nbsp;=&nbsp;'svg',</div></div><div class=\"7582\" style=\"display: none;\"><div style=\"display: table-cell;\"></div><div style=\"display: table-cell;\">renderers&nbsp;=&nbsp;[GlyphRenderer(id='7083', ...)],</div></div><div class=\"7582\" style=\"display: none;\"><div style=\"display: table-cell;\"></div><div style=\"display: table-cell;\">reset_policy&nbsp;=&nbsp;'standard',</div></div><div class=\"7582\" style=\"display: none;\"><div style=\"display: table-cell;\"></div><div style=\"display: table-cell;\">right&nbsp;=&nbsp;[],</div></div><div class=\"7582\" style=\"display: none;\"><div style=\"display: table-cell;\"></div><div style=\"display: table-cell;\">sizing_mode&nbsp;=&nbsp;'stretch_width',</div></div><div class=\"7582\" style=\"display: none;\"><div style=\"display: table-cell;\"></div><div style=\"display: table-cell;\">subscribed_events&nbsp;=&nbsp;[],</div></div><div class=\"7582\" style=\"display: none;\"><div style=\"display: table-cell;\"></div><div style=\"display: table-cell;\">syncable&nbsp;=&nbsp;True,</div></div><div class=\"7582\" style=\"display: none;\"><div style=\"display: table-cell;\"></div><div style=\"display: table-cell;\">tags&nbsp;=&nbsp;[],</div></div><div class=\"7582\" style=\"display: none;\"><div style=\"display: table-cell;\"></div><div style=\"display: table-cell;\">title&nbsp;=&nbsp;Title(id='7048', ...),</div></div><div class=\"7582\" style=\"display: none;\"><div style=\"display: table-cell;\"></div><div style=\"display: table-cell;\">title_location&nbsp;=&nbsp;'above',</div></div><div class=\"7582\" style=\"display: none;\"><div style=\"display: table-cell;\"></div><div style=\"display: table-cell;\">toolbar&nbsp;=&nbsp;Toolbar(id='7073', ...),</div></div><div class=\"7582\" style=\"display: none;\"><div style=\"display: table-cell;\"></div><div style=\"display: table-cell;\">toolbar_location&nbsp;=&nbsp;'right',</div></div><div class=\"7582\" style=\"display: none;\"><div style=\"display: table-cell;\"></div><div style=\"display: table-cell;\">toolbar_sticky&nbsp;=&nbsp;True,</div></div><div class=\"7582\" style=\"display: none;\"><div style=\"display: table-cell;\"></div><div style=\"display: table-cell;\">visible&nbsp;=&nbsp;True,</div></div><div class=\"7582\" style=\"display: none;\"><div style=\"display: table-cell;\"></div><div style=\"display: table-cell;\">width&nbsp;=&nbsp;500,</div></div><div class=\"7582\" style=\"display: none;\"><div style=\"display: table-cell;\"></div><div style=\"display: table-cell;\">width_policy&nbsp;=&nbsp;'auto',</div></div><div class=\"7582\" style=\"display: none;\"><div style=\"display: table-cell;\"></div><div style=\"display: table-cell;\">x_range&nbsp;=&nbsp;DataRange1d(id='7050', ...),</div></div><div class=\"7582\" style=\"display: none;\"><div style=\"display: table-cell;\"></div><div style=\"display: table-cell;\">x_scale&nbsp;=&nbsp;LinearScale(id='7054', ...),</div></div><div class=\"7582\" style=\"display: none;\"><div style=\"display: table-cell;\"></div><div style=\"display: table-cell;\">y_range&nbsp;=&nbsp;DataRange1d(id='7052', ...),</div></div><div class=\"7582\" style=\"display: none;\"><div style=\"display: table-cell;\"></div><div style=\"display: table-cell;\">y_scale&nbsp;=&nbsp;LinearScale(id='7056', ...))</div></div></div>\n<script>\n(function() {\n  var expanded = false;\n  var ellipsis = document.getElementById(\"7583\");\n  ellipsis.addEventListener(\"click\", function() {\n    var rows = document.getElementsByClassName(\"7582\");\n    for (var i = 0; i < rows.length; i++) {\n      var el = rows[i];\n      el.style.display = expanded ? \"none\" : \"table-row\";\n    }\n    ellipsis.innerHTML = expanded ? \"&hellip;)\" : \"&lsaquo;&lsaquo;&lsaquo;\";\n    expanded = !expanded;\n  });\n})();\n</script>\n"
     },
     "metadata": {},
     "execution_count": 26
    }
   ],
   "source": [
    "ap"
   ]
  },
  {
   "cell_type": "code",
   "execution_count": 27,
   "metadata": {},
   "outputs": [
    {
     "output_type": "execute_result",
     "data": {
      "text/plain": [
       "Figure(id='5683', ...)"
      ],
      "text/html": "<div style=\"display: table;\"><div style=\"display: table-row;\"><div style=\"display: table-cell;\"><b title=\"bokeh.plotting.figure.Figure\">Figure</b>(</div><div style=\"display: table-cell;\">id&nbsp;=&nbsp;'5683', <span id=\"7586\" style=\"cursor: pointer;\">&hellip;)</span></div></div><div class=\"7585\" style=\"display: none;\"><div style=\"display: table-cell;\"></div><div style=\"display: table-cell;\">above&nbsp;=&nbsp;[],</div></div><div class=\"7585\" style=\"display: none;\"><div style=\"display: table-cell;\"></div><div style=\"display: table-cell;\">align&nbsp;=&nbsp;'start',</div></div><div class=\"7585\" style=\"display: none;\"><div style=\"display: table-cell;\"></div><div style=\"display: table-cell;\">aspect_ratio&nbsp;=&nbsp;None,</div></div><div class=\"7585\" style=\"display: none;\"><div style=\"display: table-cell;\"></div><div style=\"display: table-cell;\">aspect_scale&nbsp;=&nbsp;1,</div></div><div class=\"7585\" style=\"display: none;\"><div style=\"display: table-cell;\"></div><div style=\"display: table-cell;\">background&nbsp;=&nbsp;None,</div></div><div class=\"7585\" style=\"display: none;\"><div style=\"display: table-cell;\"></div><div style=\"display: table-cell;\">background_fill_alpha&nbsp;=&nbsp;1.0,</div></div><div class=\"7585\" style=\"display: none;\"><div style=\"display: table-cell;\"></div><div style=\"display: table-cell;\">background_fill_color&nbsp;=&nbsp;'#ffffff',</div></div><div class=\"7585\" style=\"display: none;\"><div style=\"display: table-cell;\"></div><div style=\"display: table-cell;\">below&nbsp;=&nbsp;[DatetimeAxis(id='5694', ...)],</div></div><div class=\"7585\" style=\"display: none;\"><div style=\"display: table-cell;\"></div><div style=\"display: table-cell;\">border_fill_alpha&nbsp;=&nbsp;1.0,</div></div><div class=\"7585\" style=\"display: none;\"><div style=\"display: table-cell;\"></div><div style=\"display: table-cell;\">border_fill_color&nbsp;=&nbsp;'#ffffff',</div></div><div class=\"7585\" style=\"display: none;\"><div style=\"display: table-cell;\"></div><div style=\"display: table-cell;\">center&nbsp;=&nbsp;[Grid(id='5697', ...), Grid(id='5701', ...)],</div></div><div class=\"7585\" style=\"display: none;\"><div style=\"display: table-cell;\"></div><div style=\"display: table-cell;\">css_classes&nbsp;=&nbsp;[],</div></div><div class=\"7585\" style=\"display: none;\"><div style=\"display: table-cell;\"></div><div style=\"display: table-cell;\">disabled&nbsp;=&nbsp;False,</div></div><div class=\"7585\" style=\"display: none;\"><div style=\"display: table-cell;\"></div><div style=\"display: table-cell;\">extra_x_ranges&nbsp;=&nbsp;{},</div></div><div class=\"7585\" style=\"display: none;\"><div style=\"display: table-cell;\"></div><div style=\"display: table-cell;\">extra_y_ranges&nbsp;=&nbsp;{},</div></div><div class=\"7585\" style=\"display: none;\"><div style=\"display: table-cell;\"></div><div style=\"display: table-cell;\">frame_height&nbsp;=&nbsp;None,</div></div><div class=\"7585\" style=\"display: none;\"><div style=\"display: table-cell;\"></div><div style=\"display: table-cell;\">frame_width&nbsp;=&nbsp;None,</div></div><div class=\"7585\" style=\"display: none;\"><div style=\"display: table-cell;\"></div><div style=\"display: table-cell;\">height&nbsp;=&nbsp;400,</div></div><div class=\"7585\" style=\"display: none;\"><div style=\"display: table-cell;\"></div><div style=\"display: table-cell;\">height_policy&nbsp;=&nbsp;'auto',</div></div><div class=\"7585\" style=\"display: none;\"><div style=\"display: table-cell;\"></div><div style=\"display: table-cell;\">hidpi&nbsp;=&nbsp;True,</div></div><div class=\"7585\" style=\"display: none;\"><div style=\"display: table-cell;\"></div><div style=\"display: table-cell;\">inner_height&nbsp;=&nbsp;0,</div></div><div class=\"7585\" style=\"display: none;\"><div style=\"display: table-cell;\"></div><div style=\"display: table-cell;\">inner_width&nbsp;=&nbsp;0,</div></div><div class=\"7585\" style=\"display: none;\"><div style=\"display: table-cell;\"></div><div style=\"display: table-cell;\">js_event_callbacks&nbsp;=&nbsp;{},</div></div><div class=\"7585\" style=\"display: none;\"><div style=\"display: table-cell;\"></div><div style=\"display: table-cell;\">js_property_callbacks&nbsp;=&nbsp;{},</div></div><div class=\"7585\" style=\"display: none;\"><div style=\"display: table-cell;\"></div><div style=\"display: table-cell;\">left&nbsp;=&nbsp;[LinearAxis(id='5698', ...)],</div></div><div class=\"7585\" style=\"display: none;\"><div style=\"display: table-cell;\"></div><div style=\"display: table-cell;\">lod_factor&nbsp;=&nbsp;10,</div></div><div class=\"7585\" style=\"display: none;\"><div style=\"display: table-cell;\"></div><div style=\"display: table-cell;\">lod_interval&nbsp;=&nbsp;300,</div></div><div class=\"7585\" style=\"display: none;\"><div style=\"display: table-cell;\"></div><div style=\"display: table-cell;\">lod_threshold&nbsp;=&nbsp;2000,</div></div><div class=\"7585\" style=\"display: none;\"><div style=\"display: table-cell;\"></div><div style=\"display: table-cell;\">lod_timeout&nbsp;=&nbsp;500,</div></div><div class=\"7585\" style=\"display: none;\"><div style=\"display: table-cell;\"></div><div style=\"display: table-cell;\">margin&nbsp;=&nbsp;(0, 0, 0, 0),</div></div><div class=\"7585\" style=\"display: none;\"><div style=\"display: table-cell;\"></div><div style=\"display: table-cell;\">match_aspect&nbsp;=&nbsp;False,</div></div><div class=\"7585\" style=\"display: none;\"><div style=\"display: table-cell;\"></div><div style=\"display: table-cell;\">max_height&nbsp;=&nbsp;None,</div></div><div class=\"7585\" style=\"display: none;\"><div style=\"display: table-cell;\"></div><div style=\"display: table-cell;\">max_width&nbsp;=&nbsp;None,</div></div><div class=\"7585\" style=\"display: none;\"><div style=\"display: table-cell;\"></div><div style=\"display: table-cell;\">min_border&nbsp;=&nbsp;5,</div></div><div class=\"7585\" style=\"display: none;\"><div style=\"display: table-cell;\"></div><div style=\"display: table-cell;\">min_border_bottom&nbsp;=&nbsp;None,</div></div><div class=\"7585\" style=\"display: none;\"><div style=\"display: table-cell;\"></div><div style=\"display: table-cell;\">min_border_left&nbsp;=&nbsp;None,</div></div><div class=\"7585\" style=\"display: none;\"><div style=\"display: table-cell;\"></div><div style=\"display: table-cell;\">min_border_right&nbsp;=&nbsp;None,</div></div><div class=\"7585\" style=\"display: none;\"><div style=\"display: table-cell;\"></div><div style=\"display: table-cell;\">min_border_top&nbsp;=&nbsp;None,</div></div><div class=\"7585\" style=\"display: none;\"><div style=\"display: table-cell;\"></div><div style=\"display: table-cell;\">min_height&nbsp;=&nbsp;None,</div></div><div class=\"7585\" style=\"display: none;\"><div style=\"display: table-cell;\"></div><div style=\"display: table-cell;\">min_width&nbsp;=&nbsp;None,</div></div><div class=\"7585\" style=\"display: none;\"><div style=\"display: table-cell;\"></div><div style=\"display: table-cell;\">name&nbsp;=&nbsp;None,</div></div><div class=\"7585\" style=\"display: none;\"><div style=\"display: table-cell;\"></div><div style=\"display: table-cell;\">outer_height&nbsp;=&nbsp;0,</div></div><div class=\"7585\" style=\"display: none;\"><div style=\"display: table-cell;\"></div><div style=\"display: table-cell;\">outer_width&nbsp;=&nbsp;0,</div></div><div class=\"7585\" style=\"display: none;\"><div style=\"display: table-cell;\"></div><div style=\"display: table-cell;\">outline_line_alpha&nbsp;=&nbsp;1.0,</div></div><div class=\"7585\" style=\"display: none;\"><div style=\"display: table-cell;\"></div><div style=\"display: table-cell;\">outline_line_cap&nbsp;=&nbsp;'butt',</div></div><div class=\"7585\" style=\"display: none;\"><div style=\"display: table-cell;\"></div><div style=\"display: table-cell;\">outline_line_color&nbsp;=&nbsp;'#e5e5e5',</div></div><div class=\"7585\" style=\"display: none;\"><div style=\"display: table-cell;\"></div><div style=\"display: table-cell;\">outline_line_dash&nbsp;=&nbsp;[],</div></div><div class=\"7585\" style=\"display: none;\"><div style=\"display: table-cell;\"></div><div style=\"display: table-cell;\">outline_line_dash_offset&nbsp;=&nbsp;0,</div></div><div class=\"7585\" style=\"display: none;\"><div style=\"display: table-cell;\"></div><div style=\"display: table-cell;\">outline_line_join&nbsp;=&nbsp;'bevel',</div></div><div class=\"7585\" style=\"display: none;\"><div style=\"display: table-cell;\"></div><div style=\"display: table-cell;\">outline_line_width&nbsp;=&nbsp;1,</div></div><div class=\"7585\" style=\"display: none;\"><div style=\"display: table-cell;\"></div><div style=\"display: table-cell;\">output_backend&nbsp;=&nbsp;'svg',</div></div><div class=\"7585\" style=\"display: none;\"><div style=\"display: table-cell;\"></div><div style=\"display: table-cell;\">renderers&nbsp;=&nbsp;[GlyphRenderer(id='5719', ...)],</div></div><div class=\"7585\" style=\"display: none;\"><div style=\"display: table-cell;\"></div><div style=\"display: table-cell;\">reset_policy&nbsp;=&nbsp;'standard',</div></div><div class=\"7585\" style=\"display: none;\"><div style=\"display: table-cell;\"></div><div style=\"display: table-cell;\">right&nbsp;=&nbsp;[],</div></div><div class=\"7585\" style=\"display: none;\"><div style=\"display: table-cell;\"></div><div style=\"display: table-cell;\">sizing_mode&nbsp;=&nbsp;'stretch_width',</div></div><div class=\"7585\" style=\"display: none;\"><div style=\"display: table-cell;\"></div><div style=\"display: table-cell;\">subscribed_events&nbsp;=&nbsp;[],</div></div><div class=\"7585\" style=\"display: none;\"><div style=\"display: table-cell;\"></div><div style=\"display: table-cell;\">syncable&nbsp;=&nbsp;True,</div></div><div class=\"7585\" style=\"display: none;\"><div style=\"display: table-cell;\"></div><div style=\"display: table-cell;\">tags&nbsp;=&nbsp;[],</div></div><div class=\"7585\" style=\"display: none;\"><div style=\"display: table-cell;\"></div><div style=\"display: table-cell;\">title&nbsp;=&nbsp;Title(id='5684', ...),</div></div><div class=\"7585\" style=\"display: none;\"><div style=\"display: table-cell;\"></div><div style=\"display: table-cell;\">title_location&nbsp;=&nbsp;'above',</div></div><div class=\"7585\" style=\"display: none;\"><div style=\"display: table-cell;\"></div><div style=\"display: table-cell;\">toolbar&nbsp;=&nbsp;Toolbar(id='5709', ...),</div></div><div class=\"7585\" style=\"display: none;\"><div style=\"display: table-cell;\"></div><div style=\"display: table-cell;\">toolbar_location&nbsp;=&nbsp;'right',</div></div><div class=\"7585\" style=\"display: none;\"><div style=\"display: table-cell;\"></div><div style=\"display: table-cell;\">toolbar_sticky&nbsp;=&nbsp;True,</div></div><div class=\"7585\" style=\"display: none;\"><div style=\"display: table-cell;\"></div><div style=\"display: table-cell;\">visible&nbsp;=&nbsp;True,</div></div><div class=\"7585\" style=\"display: none;\"><div style=\"display: table-cell;\"></div><div style=\"display: table-cell;\">width&nbsp;=&nbsp;500,</div></div><div class=\"7585\" style=\"display: none;\"><div style=\"display: table-cell;\"></div><div style=\"display: table-cell;\">width_policy&nbsp;=&nbsp;'auto',</div></div><div class=\"7585\" style=\"display: none;\"><div style=\"display: table-cell;\"></div><div style=\"display: table-cell;\">x_range&nbsp;=&nbsp;DataRange1d(id='5686', ...),</div></div><div class=\"7585\" style=\"display: none;\"><div style=\"display: table-cell;\"></div><div style=\"display: table-cell;\">x_scale&nbsp;=&nbsp;LinearScale(id='5690', ...),</div></div><div class=\"7585\" style=\"display: none;\"><div style=\"display: table-cell;\"></div><div style=\"display: table-cell;\">y_range&nbsp;=&nbsp;DataRange1d(id='5688', ...),</div></div><div class=\"7585\" style=\"display: none;\"><div style=\"display: table-cell;\"></div><div style=\"display: table-cell;\">y_scale&nbsp;=&nbsp;LinearScale(id='5692', ...))</div></div></div>\n<script>\n(function() {\n  var expanded = false;\n  var ellipsis = document.getElementById(\"7586\");\n  ellipsis.addEventListener(\"click\", function() {\n    var rows = document.getElementsByClassName(\"7585\");\n    for (var i = 0; i < rows.length; i++) {\n      var el = rows[i];\n      el.style.display = expanded ? \"none\" : \"table-row\";\n    }\n    ellipsis.innerHTML = expanded ? \"&hellip;)\" : \"&lsaquo;&lsaquo;&lsaquo;\";\n    expanded = !expanded;\n  });\n})();\n</script>\n"
     },
     "metadata": {},
     "execution_count": 27
    }
   ],
   "source": [
    "PUSANap"
   ]
  },
  {
   "cell_type": "code",
   "execution_count": 40,
   "metadata": {},
   "outputs": [
    {
     "output_type": "error",
     "ename": "RuntimeError",
     "evalue": "Models must be owned by only a single document, DataRange1d(id='5688', ...) is already in a doc",
     "traceback": [
      "\u001b[1;31m---------------------------------------------------------------------------\u001b[0m",
      "\u001b[1;31mRuntimeError\u001b[0m                              Traceback (most recent call last)",
      "\u001b[1;32m<ipython-input-40-ab9a03373402>\u001b[0m in \u001b[0;36m<module>\u001b[1;34m\u001b[0m\n\u001b[0;32m      2\u001b[0m                             \u001b[0mcolumn\u001b[0m\u001b[1;33m(\u001b[0m\u001b[0mrow\u001b[0m\u001b[1;33m(\u001b[0m\u001b[0mPUSANap\u001b[0m\u001b[1;33m,\u001b[0m\u001b[0mPUSANp\u001b[0m\u001b[1;33m)\u001b[0m\u001b[1;33m)\u001b[0m\u001b[1;33m,\u001b[0m\u001b[1;33m\u001b[0m\u001b[1;33m\u001b[0m\u001b[0m\n\u001b[0;32m      3\u001b[0m                             row(column(PUSANdata_table)))\n\u001b[1;32m----> 4\u001b[1;33m \u001b[0mshow\u001b[0m\u001b[1;33m(\u001b[0m\u001b[0mlayout_with_widgets2\u001b[0m\u001b[1;33m)\u001b[0m\u001b[1;33m\u001b[0m\u001b[1;33m\u001b[0m\u001b[0m\n\u001b[0m\u001b[0;32m      5\u001b[0m \u001b[0msave\u001b[0m\u001b[1;33m(\u001b[0m\u001b[0mobj\u001b[0m\u001b[1;33m=\u001b[0m\u001b[0mlayout_with_widgets2\u001b[0m\u001b[1;33m,\u001b[0m \u001b[0mfilename\u001b[0m\u001b[1;33m=\u001b[0m\u001b[1;34m'layout_with_widgets.html'\u001b[0m\u001b[1;33m)\u001b[0m\u001b[1;33m\u001b[0m\u001b[1;33m\u001b[0m\u001b[0m\n\u001b[0;32m      6\u001b[0m \u001b[0mwebbrowser\u001b[0m\u001b[1;33m.\u001b[0m\u001b[0mopen\u001b[0m\u001b[1;33m(\u001b[0m\u001b[1;34m'layout_with_widgets.html'\u001b[0m\u001b[1;33m)\u001b[0m\u001b[1;33m\u001b[0m\u001b[1;33m\u001b[0m\u001b[0m\n",
      "\u001b[1;32m~\\miniconda3\\lib\\site-packages\\bokeh\\io\\showing.py\u001b[0m in \u001b[0;36mshow\u001b[1;34m(obj, browser, new, notebook_handle, notebook_url, **kw)\u001b[0m\n\u001b[0;32m    137\u001b[0m         \u001b[1;32mreturn\u001b[0m \u001b[0mrun_notebook_hook\u001b[0m\u001b[1;33m(\u001b[0m\u001b[0mstate\u001b[0m\u001b[1;33m.\u001b[0m\u001b[0mnotebook_type\u001b[0m\u001b[1;33m,\u001b[0m \u001b[1;34m'app'\u001b[0m\u001b[1;33m,\u001b[0m \u001b[0mobj\u001b[0m\u001b[1;33m,\u001b[0m \u001b[0mstate\u001b[0m\u001b[1;33m,\u001b[0m \u001b[0mnotebook_url\u001b[0m\u001b[1;33m,\u001b[0m \u001b[1;33m**\u001b[0m\u001b[0mkw\u001b[0m\u001b[1;33m)\u001b[0m\u001b[1;33m\u001b[0m\u001b[1;33m\u001b[0m\u001b[0m\n\u001b[0;32m    138\u001b[0m \u001b[1;33m\u001b[0m\u001b[0m\n\u001b[1;32m--> 139\u001b[1;33m     \u001b[1;32mreturn\u001b[0m \u001b[0m_show_with_state\u001b[0m\u001b[1;33m(\u001b[0m\u001b[0mobj\u001b[0m\u001b[1;33m,\u001b[0m \u001b[0mstate\u001b[0m\u001b[1;33m,\u001b[0m \u001b[0mbrowser\u001b[0m\u001b[1;33m,\u001b[0m \u001b[0mnew\u001b[0m\u001b[1;33m,\u001b[0m \u001b[0mnotebook_handle\u001b[0m\u001b[1;33m=\u001b[0m\u001b[0mnotebook_handle\u001b[0m\u001b[1;33m)\u001b[0m\u001b[1;33m\u001b[0m\u001b[1;33m\u001b[0m\u001b[0m\n\u001b[0m\u001b[0;32m    140\u001b[0m \u001b[1;33m\u001b[0m\u001b[0m\n\u001b[0;32m    141\u001b[0m \u001b[1;31m#-----------------------------------------------------------------------------\u001b[0m\u001b[1;33m\u001b[0m\u001b[1;33m\u001b[0m\u001b[1;33m\u001b[0m\u001b[0m\n",
      "\u001b[1;32m~\\miniconda3\\lib\\site-packages\\bokeh\\io\\showing.py\u001b[0m in \u001b[0;36m_show_with_state\u001b[1;34m(obj, state, browser, new, notebook_handle)\u001b[0m\n\u001b[0;32m    171\u001b[0m \u001b[1;33m\u001b[0m\u001b[0m\n\u001b[0;32m    172\u001b[0m     \u001b[1;32mif\u001b[0m \u001b[0mstate\u001b[0m\u001b[1;33m.\u001b[0m\u001b[0mnotebook\u001b[0m\u001b[1;33m:\u001b[0m\u001b[1;33m\u001b[0m\u001b[1;33m\u001b[0m\u001b[0m\n\u001b[1;32m--> 173\u001b[1;33m         \u001b[0mcomms_handle\u001b[0m \u001b[1;33m=\u001b[0m \u001b[0mrun_notebook_hook\u001b[0m\u001b[1;33m(\u001b[0m\u001b[0mstate\u001b[0m\u001b[1;33m.\u001b[0m\u001b[0mnotebook_type\u001b[0m\u001b[1;33m,\u001b[0m \u001b[1;34m'doc'\u001b[0m\u001b[1;33m,\u001b[0m \u001b[0mobj\u001b[0m\u001b[1;33m,\u001b[0m \u001b[0mstate\u001b[0m\u001b[1;33m,\u001b[0m \u001b[0mnotebook_handle\u001b[0m\u001b[1;33m)\u001b[0m\u001b[1;33m\u001b[0m\u001b[1;33m\u001b[0m\u001b[0m\n\u001b[0m\u001b[0;32m    174\u001b[0m         \u001b[0mshown\u001b[0m \u001b[1;33m=\u001b[0m \u001b[1;32mTrue\u001b[0m\u001b[1;33m\u001b[0m\u001b[1;33m\u001b[0m\u001b[0m\n\u001b[0;32m    175\u001b[0m \u001b[1;33m\u001b[0m\u001b[0m\n",
      "\u001b[1;32m~\\miniconda3\\lib\\site-packages\\bokeh\\io\\notebook.py\u001b[0m in \u001b[0;36mrun_notebook_hook\u001b[1;34m(notebook_type, action, *args, **kw)\u001b[0m\n\u001b[0;32m    296\u001b[0m     \u001b[1;32mif\u001b[0m \u001b[0m_HOOKS\u001b[0m\u001b[1;33m[\u001b[0m\u001b[0mnotebook_type\u001b[0m\u001b[1;33m]\u001b[0m\u001b[1;33m[\u001b[0m\u001b[0maction\u001b[0m\u001b[1;33m]\u001b[0m \u001b[1;32mis\u001b[0m \u001b[1;32mNone\u001b[0m\u001b[1;33m:\u001b[0m\u001b[1;33m\u001b[0m\u001b[1;33m\u001b[0m\u001b[0m\n\u001b[0;32m    297\u001b[0m         \u001b[1;32mraise\u001b[0m \u001b[0mRuntimeError\u001b[0m\u001b[1;33m(\u001b[0m\u001b[1;34m\"notebook hook for %r did not install %r action\"\u001b[0m \u001b[1;33m%\u001b[0m \u001b[0mnotebook_type\u001b[0m\u001b[1;33m,\u001b[0m \u001b[0maction\u001b[0m\u001b[1;33m)\u001b[0m\u001b[1;33m\u001b[0m\u001b[1;33m\u001b[0m\u001b[0m\n\u001b[1;32m--> 298\u001b[1;33m     \u001b[1;32mreturn\u001b[0m \u001b[0m_HOOKS\u001b[0m\u001b[1;33m[\u001b[0m\u001b[0mnotebook_type\u001b[0m\u001b[1;33m]\u001b[0m\u001b[1;33m[\u001b[0m\u001b[0maction\u001b[0m\u001b[1;33m]\u001b[0m\u001b[1;33m(\u001b[0m\u001b[1;33m*\u001b[0m\u001b[0margs\u001b[0m\u001b[1;33m,\u001b[0m \u001b[1;33m**\u001b[0m\u001b[0mkw\u001b[0m\u001b[1;33m)\u001b[0m\u001b[1;33m\u001b[0m\u001b[1;33m\u001b[0m\u001b[0m\n\u001b[0m\u001b[0;32m    299\u001b[0m \u001b[1;33m\u001b[0m\u001b[0m\n\u001b[0;32m    300\u001b[0m \u001b[1;31m#-----------------------------------------------------------------------------\u001b[0m\u001b[1;33m\u001b[0m\u001b[1;33m\u001b[0m\u001b[1;33m\u001b[0m\u001b[0m\n",
      "\u001b[1;32m~\\miniconda3\\lib\\site-packages\\bokeh\\io\\notebook.py\u001b[0m in \u001b[0;36mshow_doc\u001b[1;34m(obj, state, notebook_handle)\u001b[0m\n\u001b[0;32m    502\u001b[0m     '''\n\u001b[0;32m    503\u001b[0m     \u001b[1;32mif\u001b[0m \u001b[0mobj\u001b[0m \u001b[1;32mnot\u001b[0m \u001b[1;32min\u001b[0m \u001b[0mstate\u001b[0m\u001b[1;33m.\u001b[0m\u001b[0mdocument\u001b[0m\u001b[1;33m.\u001b[0m\u001b[0mroots\u001b[0m\u001b[1;33m:\u001b[0m\u001b[1;33m\u001b[0m\u001b[1;33m\u001b[0m\u001b[0m\n\u001b[1;32m--> 504\u001b[1;33m         \u001b[0mstate\u001b[0m\u001b[1;33m.\u001b[0m\u001b[0mdocument\u001b[0m\u001b[1;33m.\u001b[0m\u001b[0madd_root\u001b[0m\u001b[1;33m(\u001b[0m\u001b[0mobj\u001b[0m\u001b[1;33m)\u001b[0m\u001b[1;33m\u001b[0m\u001b[1;33m\u001b[0m\u001b[0m\n\u001b[0m\u001b[0;32m    505\u001b[0m \u001b[1;33m\u001b[0m\u001b[0m\n\u001b[0;32m    506\u001b[0m     \u001b[1;32mfrom\u001b[0m \u001b[1;33m.\u001b[0m\u001b[1;33m.\u001b[0m\u001b[0membed\u001b[0m\u001b[1;33m.\u001b[0m\u001b[0mnotebook\u001b[0m \u001b[1;32mimport\u001b[0m \u001b[0mnotebook_content\u001b[0m\u001b[1;33m\u001b[0m\u001b[1;33m\u001b[0m\u001b[0m\n",
      "\u001b[1;32m~\\miniconda3\\lib\\site-packages\\bokeh\\document\\document.py\u001b[0m in \u001b[0;36madd_root\u001b[1;34m(self, model, setter)\u001b[0m\n\u001b[0;32m    319\u001b[0m             \u001b[0mself\u001b[0m\u001b[1;33m.\u001b[0m\u001b[0m_roots\u001b[0m\u001b[1;33m.\u001b[0m\u001b[0mappend\u001b[0m\u001b[1;33m(\u001b[0m\u001b[0mmodel\u001b[0m\u001b[1;33m)\u001b[0m\u001b[1;33m\u001b[0m\u001b[1;33m\u001b[0m\u001b[0m\n\u001b[0;32m    320\u001b[0m         \u001b[1;32mfinally\u001b[0m\u001b[1;33m:\u001b[0m\u001b[1;33m\u001b[0m\u001b[1;33m\u001b[0m\u001b[0m\n\u001b[1;32m--> 321\u001b[1;33m             \u001b[0mself\u001b[0m\u001b[1;33m.\u001b[0m\u001b[0m_pop_all_models_freeze\u001b[0m\u001b[1;33m(\u001b[0m\u001b[1;33m)\u001b[0m\u001b[1;33m\u001b[0m\u001b[1;33m\u001b[0m\u001b[0m\n\u001b[0m\u001b[0;32m    322\u001b[0m         \u001b[0mself\u001b[0m\u001b[1;33m.\u001b[0m\u001b[0m_trigger_on_change\u001b[0m\u001b[1;33m(\u001b[0m\u001b[0mRootAddedEvent\u001b[0m\u001b[1;33m(\u001b[0m\u001b[0mself\u001b[0m\u001b[1;33m,\u001b[0m \u001b[0mmodel\u001b[0m\u001b[1;33m,\u001b[0m \u001b[0msetter\u001b[0m\u001b[1;33m)\u001b[0m\u001b[1;33m)\u001b[0m\u001b[1;33m\u001b[0m\u001b[1;33m\u001b[0m\u001b[0m\n\u001b[0;32m    323\u001b[0m \u001b[1;33m\u001b[0m\u001b[0m\n",
      "\u001b[1;32m~\\miniconda3\\lib\\site-packages\\bokeh\\document\\document.py\u001b[0m in \u001b[0;36m_pop_all_models_freeze\u001b[1;34m(self)\u001b[0m\n\u001b[0;32m   1102\u001b[0m         \u001b[0mself\u001b[0m\u001b[1;33m.\u001b[0m\u001b[0m_all_models_freeze_count\u001b[0m \u001b[1;33m-=\u001b[0m \u001b[1;36m1\u001b[0m\u001b[1;33m\u001b[0m\u001b[1;33m\u001b[0m\u001b[0m\n\u001b[0;32m   1103\u001b[0m         \u001b[1;32mif\u001b[0m \u001b[0mself\u001b[0m\u001b[1;33m.\u001b[0m\u001b[0m_all_models_freeze_count\u001b[0m \u001b[1;33m==\u001b[0m \u001b[1;36m0\u001b[0m\u001b[1;33m:\u001b[0m\u001b[1;33m\u001b[0m\u001b[1;33m\u001b[0m\u001b[0m\n\u001b[1;32m-> 1104\u001b[1;33m             \u001b[0mself\u001b[0m\u001b[1;33m.\u001b[0m\u001b[0m_recompute_all_models\u001b[0m\u001b[1;33m(\u001b[0m\u001b[1;33m)\u001b[0m\u001b[1;33m\u001b[0m\u001b[1;33m\u001b[0m\u001b[0m\n\u001b[0m\u001b[0;32m   1105\u001b[0m \u001b[1;33m\u001b[0m\u001b[0m\n\u001b[0;32m   1106\u001b[0m     \u001b[1;32mdef\u001b[0m \u001b[0m_recompute_all_models\u001b[0m\u001b[1;33m(\u001b[0m\u001b[0mself\u001b[0m\u001b[1;33m)\u001b[0m\u001b[1;33m:\u001b[0m\u001b[1;33m\u001b[0m\u001b[1;33m\u001b[0m\u001b[0m\n",
      "\u001b[1;32m~\\miniconda3\\lib\\site-packages\\bokeh\\document\\document.py\u001b[0m in \u001b[0;36m_recompute_all_models\u001b[1;34m(self)\u001b[0m\n\u001b[0;32m   1125\u001b[0m             \u001b[0md\u001b[0m\u001b[1;33m.\u001b[0m\u001b[0m_detach_document\u001b[0m\u001b[1;33m(\u001b[0m\u001b[1;33m)\u001b[0m\u001b[1;33m\u001b[0m\u001b[1;33m\u001b[0m\u001b[0m\n\u001b[0;32m   1126\u001b[0m         \u001b[1;32mfor\u001b[0m \u001b[0ma\u001b[0m \u001b[1;32min\u001b[0m \u001b[0mto_attach\u001b[0m\u001b[1;33m:\u001b[0m\u001b[1;33m\u001b[0m\u001b[1;33m\u001b[0m\u001b[0m\n\u001b[1;32m-> 1127\u001b[1;33m             \u001b[0ma\u001b[0m\u001b[1;33m.\u001b[0m\u001b[0m_attach_document\u001b[0m\u001b[1;33m(\u001b[0m\u001b[0mself\u001b[0m\u001b[1;33m)\u001b[0m\u001b[1;33m\u001b[0m\u001b[1;33m\u001b[0m\u001b[0m\n\u001b[0m\u001b[0;32m   1128\u001b[0m         \u001b[0mself\u001b[0m\u001b[1;33m.\u001b[0m\u001b[0m_all_models\u001b[0m \u001b[1;33m=\u001b[0m \u001b[0mrecomputed\u001b[0m\u001b[1;33m\u001b[0m\u001b[1;33m\u001b[0m\u001b[0m\n\u001b[0;32m   1129\u001b[0m         \u001b[0mself\u001b[0m\u001b[1;33m.\u001b[0m\u001b[0m_all_models_by_name\u001b[0m \u001b[1;33m=\u001b[0m \u001b[0mrecomputed_by_name\u001b[0m\u001b[1;33m\u001b[0m\u001b[1;33m\u001b[0m\u001b[0m\n",
      "\u001b[1;32m~\\miniconda3\\lib\\site-packages\\bokeh\\model.py\u001b[0m in \u001b[0;36m_attach_document\u001b[1;34m(self, doc)\u001b[0m\n\u001b[0;32m    690\u001b[0m         '''\n\u001b[0;32m    691\u001b[0m         \u001b[1;32mif\u001b[0m \u001b[0mself\u001b[0m\u001b[1;33m.\u001b[0m\u001b[0m_document\u001b[0m \u001b[1;32mis\u001b[0m \u001b[1;32mnot\u001b[0m \u001b[1;32mNone\u001b[0m \u001b[1;32mand\u001b[0m \u001b[0mself\u001b[0m\u001b[1;33m.\u001b[0m\u001b[0m_document\u001b[0m \u001b[1;32mis\u001b[0m \u001b[1;32mnot\u001b[0m \u001b[0mdoc\u001b[0m\u001b[1;33m:\u001b[0m\u001b[1;33m\u001b[0m\u001b[1;33m\u001b[0m\u001b[0m\n\u001b[1;32m--> 692\u001b[1;33m             \u001b[1;32mraise\u001b[0m \u001b[0mRuntimeError\u001b[0m\u001b[1;33m(\u001b[0m\u001b[1;34m\"Models must be owned by only a single document, %r is already in a doc\"\u001b[0m \u001b[1;33m%\u001b[0m \u001b[1;33m(\u001b[0m\u001b[0mself\u001b[0m\u001b[1;33m)\u001b[0m\u001b[1;33m)\u001b[0m\u001b[1;33m\u001b[0m\u001b[1;33m\u001b[0m\u001b[0m\n\u001b[0m\u001b[0;32m    693\u001b[0m         \u001b[0mdoc\u001b[0m\u001b[1;33m.\u001b[0m\u001b[0mtheme\u001b[0m\u001b[1;33m.\u001b[0m\u001b[0mapply_to_model\u001b[0m\u001b[1;33m(\u001b[0m\u001b[0mself\u001b[0m\u001b[1;33m)\u001b[0m\u001b[1;33m\u001b[0m\u001b[1;33m\u001b[0m\u001b[0m\n\u001b[0;32m    694\u001b[0m         \u001b[0mself\u001b[0m\u001b[1;33m.\u001b[0m\u001b[0m_document\u001b[0m \u001b[1;33m=\u001b[0m \u001b[0mdoc\u001b[0m\u001b[1;33m\u001b[0m\u001b[1;33m\u001b[0m\u001b[0m\n",
      "\u001b[1;31mRuntimeError\u001b[0m: Models must be owned by only a single document, DataRange1d(id='5688', ...) is already in a doc"
     ]
    }
   ],
   "source": [
    "layout_with_widgets2 = column(\n",
    "                            column(row(PUSANap,PUSANp)),\n",
    "                            row(column(PUSANdata_table)))\n",
    "show(layout_with_widgets2)\n",
    "save(obj=layout_with_widgets2, filename='layout_with_widgets.html')\n",
    "webbrowser.open('layout_with_widgets.html')"
   ]
  },
  {
   "cell_type": "code",
   "execution_count": 41,
   "metadata": {},
   "outputs": [
    {
     "output_type": "error",
     "ename": "NameError",
     "evalue": "name 'bpl' is not defined",
     "traceback": [
      "\u001b[1;31m---------------------------------------------------------------------------\u001b[0m",
      "\u001b[1;31mNameError\u001b[0m                                 Traceback (most recent call last)",
      "\u001b[1;32m<ipython-input-41-c76eef7798f6>\u001b[0m in \u001b[0;36m<module>\u001b[1;34m\u001b[0m\n\u001b[0;32m      1\u001b[0m \u001b[1;32mtry\u001b[0m\u001b[1;33m:\u001b[0m\u001b[1;33m\u001b[0m\u001b[1;33m\u001b[0m\u001b[0m\n\u001b[1;32m----> 2\u001b[1;33m     \u001b[0mbpl\u001b[0m\u001b[1;33m.\u001b[0m\u001b[0mreset_output\u001b[0m\u001b[1;33m(\u001b[0m\u001b[1;33m)\u001b[0m\u001b[1;33m\u001b[0m\u001b[1;33m\u001b[0m\u001b[0m\n\u001b[0m\u001b[0;32m      3\u001b[0m     \u001b[0mbpl\u001b[0m\u001b[1;33m.\u001b[0m\u001b[0moutput_notebook\u001b[0m\u001b[1;33m(\u001b[0m\u001b[1;33m)\u001b[0m\u001b[1;33m\u001b[0m\u001b[1;33m\u001b[0m\u001b[0m\n",
      "\u001b[1;31mNameError\u001b[0m: name 'bpl' is not defined",
      "\nDuring handling of the above exception, another exception occurred:\n",
      "\u001b[1;31mNameError\u001b[0m                                 Traceback (most recent call last)",
      "\u001b[1;32m<ipython-input-41-c76eef7798f6>\u001b[0m in \u001b[0;36m<module>\u001b[1;34m\u001b[0m\n\u001b[0;32m      4\u001b[0m     \u001b[0mbpl\u001b[0m\u001b[1;33m.\u001b[0m\u001b[0mshow\u001b[0m\u001b[1;33m(\u001b[0m\u001b[0mlayout_with_widgets2\u001b[0m\u001b[1;33m)\u001b[0m\u001b[1;33m\u001b[0m\u001b[1;33m\u001b[0m\u001b[0m\n\u001b[0;32m      5\u001b[0m \u001b[1;32mexcept\u001b[0m\u001b[1;33m:\u001b[0m\u001b[1;33m\u001b[0m\u001b[1;33m\u001b[0m\u001b[0m\n\u001b[1;32m----> 6\u001b[1;33m     \u001b[0mbpl\u001b[0m\u001b[1;33m.\u001b[0m\u001b[0moutput_notebook\u001b[0m\u001b[1;33m(\u001b[0m\u001b[1;33m)\u001b[0m\u001b[1;33m\u001b[0m\u001b[1;33m\u001b[0m\u001b[0m\n\u001b[0m\u001b[0;32m      7\u001b[0m     \u001b[0mbpl\u001b[0m\u001b[1;33m.\u001b[0m\u001b[0mshow\u001b[0m\u001b[1;33m(\u001b[0m\u001b[0mlayout_with_widgets2\u001b[0m\u001b[1;33m)\u001b[0m\u001b[1;33m\u001b[0m\u001b[1;33m\u001b[0m\u001b[0m\n",
      "\u001b[1;31mNameError\u001b[0m: name 'bpl' is not defined"
     ]
    }
   ],
   "source": [
    "    try:\n",
    "        bpl.reset_output()\n",
    "        bpl.output_notebook()\n",
    "        bpl.show(layout_with_widgets2)\n",
    "    except:\n",
    "        bpl.output_notebook()\n",
    "        bpl.show(layout_with_widgets2) "
   ]
  },
  {
   "cell_type": "code",
   "execution_count": 29,
   "metadata": {},
   "outputs": [
    {
     "output_type": "execute_result",
     "data": {
      "text/plain": [
       "DataTable(id='5733', ...)"
      ],
      "text/html": "<div style=\"display: table;\"><div style=\"display: table-row;\"><div style=\"display: table-cell;\"><b title=\"bokeh.models.widgets.tables.DataTable\">DataTable</b>(</div><div style=\"display: table-cell;\">id&nbsp;=&nbsp;'5733', <span id=\"7591\" style=\"cursor: pointer;\">&hellip;)</span></div></div><div class=\"7590\" style=\"display: none;\"><div style=\"display: table-cell;\"></div><div style=\"display: table-cell;\">align&nbsp;=&nbsp;'start',</div></div><div class=\"7590\" style=\"display: none;\"><div style=\"display: table-cell;\"></div><div style=\"display: table-cell;\">aspect_ratio&nbsp;=&nbsp;None,</div></div><div class=\"7590\" style=\"display: none;\"><div style=\"display: table-cell;\"></div><div style=\"display: table-cell;\">auto_edit&nbsp;=&nbsp;False,</div></div><div class=\"7590\" style=\"display: none;\"><div style=\"display: table-cell;\"></div><div style=\"display: table-cell;\">autosize_mode&nbsp;=&nbsp;'force_fit',</div></div><div class=\"7590\" style=\"display: none;\"><div style=\"display: table-cell;\"></div><div style=\"display: table-cell;\">background&nbsp;=&nbsp;'red',</div></div><div class=\"7590\" style=\"display: none;\"><div style=\"display: table-cell;\"></div><div style=\"display: table-cell;\">columns&nbsp;=&nbsp;[TableColumn(id='5722', ...), TableColumn(id='5723', ...), TableColumn(id='5724', ...), TableColumn(id='5725', ...), TableColumn(id='5726', ...), TableColumn(id='5727', ...), TableColumn(id='5728', ...), TableColumn(id='5729', ...), TableColumn(id='5730', ...), TableColumn(id='5731', ...), TableColumn(id='5732', ...)],</div></div><div class=\"7590\" style=\"display: none;\"><div style=\"display: table-cell;\"></div><div style=\"display: table-cell;\">css_classes&nbsp;=&nbsp;[],</div></div><div class=\"7590\" style=\"display: none;\"><div style=\"display: table-cell;\"></div><div style=\"display: table-cell;\">default_size&nbsp;=&nbsp;300,</div></div><div class=\"7590\" style=\"display: none;\"><div style=\"display: table-cell;\"></div><div style=\"display: table-cell;\">disabled&nbsp;=&nbsp;False,</div></div><div class=\"7590\" style=\"display: none;\"><div style=\"display: table-cell;\"></div><div style=\"display: table-cell;\">editable&nbsp;=&nbsp;False,</div></div><div class=\"7590\" style=\"display: none;\"><div style=\"display: table-cell;\"></div><div style=\"display: table-cell;\">fit_columns&nbsp;=&nbsp;None,</div></div><div class=\"7590\" style=\"display: none;\"><div style=\"display: table-cell;\"></div><div style=\"display: table-cell;\">frozen_columns&nbsp;=&nbsp;None,</div></div><div class=\"7590\" style=\"display: none;\"><div style=\"display: table-cell;\"></div><div style=\"display: table-cell;\">frozen_rows&nbsp;=&nbsp;None,</div></div><div class=\"7590\" style=\"display: none;\"><div style=\"display: table-cell;\"></div><div style=\"display: table-cell;\">header_row&nbsp;=&nbsp;True,</div></div><div class=\"7590\" style=\"display: none;\"><div style=\"display: table-cell;\"></div><div style=\"display: table-cell;\">height&nbsp;=&nbsp;400,</div></div><div class=\"7590\" style=\"display: none;\"><div style=\"display: table-cell;\"></div><div style=\"display: table-cell;\">height_policy&nbsp;=&nbsp;'auto',</div></div><div class=\"7590\" style=\"display: none;\"><div style=\"display: table-cell;\"></div><div style=\"display: table-cell;\">index_header&nbsp;=&nbsp;'#',</div></div><div class=\"7590\" style=\"display: none;\"><div style=\"display: table-cell;\"></div><div style=\"display: table-cell;\">index_position&nbsp;=&nbsp;0,</div></div><div class=\"7590\" style=\"display: none;\"><div style=\"display: table-cell;\"></div><div style=\"display: table-cell;\">index_width&nbsp;=&nbsp;40,</div></div><div class=\"7590\" style=\"display: none;\"><div style=\"display: table-cell;\"></div><div style=\"display: table-cell;\">js_event_callbacks&nbsp;=&nbsp;{},</div></div><div class=\"7590\" style=\"display: none;\"><div style=\"display: table-cell;\"></div><div style=\"display: table-cell;\">js_property_callbacks&nbsp;=&nbsp;{},</div></div><div class=\"7590\" style=\"display: none;\"><div style=\"display: table-cell;\"></div><div style=\"display: table-cell;\">margin&nbsp;=&nbsp;(5, 5, 5, 5),</div></div><div class=\"7590\" style=\"display: none;\"><div style=\"display: table-cell;\"></div><div style=\"display: table-cell;\">max_height&nbsp;=&nbsp;None,</div></div><div class=\"7590\" style=\"display: none;\"><div style=\"display: table-cell;\"></div><div style=\"display: table-cell;\">max_width&nbsp;=&nbsp;None,</div></div><div class=\"7590\" style=\"display: none;\"><div style=\"display: table-cell;\"></div><div style=\"display: table-cell;\">min_height&nbsp;=&nbsp;None,</div></div><div class=\"7590\" style=\"display: none;\"><div style=\"display: table-cell;\"></div><div style=\"display: table-cell;\">min_width&nbsp;=&nbsp;None,</div></div><div class=\"7590\" style=\"display: none;\"><div style=\"display: table-cell;\"></div><div style=\"display: table-cell;\">name&nbsp;=&nbsp;None,</div></div><div class=\"7590\" style=\"display: none;\"><div style=\"display: table-cell;\"></div><div style=\"display: table-cell;\">orientation&nbsp;=&nbsp;'horizontal',</div></div><div class=\"7590\" style=\"display: none;\"><div style=\"display: table-cell;\"></div><div style=\"display: table-cell;\">reorderable&nbsp;=&nbsp;True,</div></div><div class=\"7590\" style=\"display: none;\"><div style=\"display: table-cell;\"></div><div style=\"display: table-cell;\">row_height&nbsp;=&nbsp;25,</div></div><div class=\"7590\" style=\"display: none;\"><div style=\"display: table-cell;\"></div><div style=\"display: table-cell;\">scroll_to_selection&nbsp;=&nbsp;True,</div></div><div class=\"7590\" style=\"display: none;\"><div style=\"display: table-cell;\"></div><div style=\"display: table-cell;\">selectable&nbsp;=&nbsp;True,</div></div><div class=\"7590\" style=\"display: none;\"><div style=\"display: table-cell;\"></div><div style=\"display: table-cell;\">sizing_mode&nbsp;=&nbsp;'scale_both',</div></div><div class=\"7590\" style=\"display: none;\"><div style=\"display: table-cell;\"></div><div style=\"display: table-cell;\">sortable&nbsp;=&nbsp;True,</div></div><div class=\"7590\" style=\"display: none;\"><div style=\"display: table-cell;\"></div><div style=\"display: table-cell;\">source&nbsp;=&nbsp;ColumnDataSource(id='5721', ...),</div></div><div class=\"7590\" style=\"display: none;\"><div style=\"display: table-cell;\"></div><div style=\"display: table-cell;\">subscribed_events&nbsp;=&nbsp;[],</div></div><div class=\"7590\" style=\"display: none;\"><div style=\"display: table-cell;\"></div><div style=\"display: table-cell;\">syncable&nbsp;=&nbsp;True,</div></div><div class=\"7590\" style=\"display: none;\"><div style=\"display: table-cell;\"></div><div style=\"display: table-cell;\">tags&nbsp;=&nbsp;[],</div></div><div class=\"7590\" style=\"display: none;\"><div style=\"display: table-cell;\"></div><div style=\"display: table-cell;\">view&nbsp;=&nbsp;CDSView(id='5735', ...),</div></div><div class=\"7590\" style=\"display: none;\"><div style=\"display: table-cell;\"></div><div style=\"display: table-cell;\">visible&nbsp;=&nbsp;True,</div></div><div class=\"7590\" style=\"display: none;\"><div style=\"display: table-cell;\"></div><div style=\"display: table-cell;\">width&nbsp;=&nbsp;900,</div></div><div class=\"7590\" style=\"display: none;\"><div style=\"display: table-cell;\"></div><div style=\"display: table-cell;\">width_policy&nbsp;=&nbsp;'auto')</div></div></div>\n<script>\n(function() {\n  var expanded = false;\n  var ellipsis = document.getElementById(\"7591\");\n  ellipsis.addEventListener(\"click\", function() {\n    var rows = document.getElementsByClassName(\"7590\");\n    for (var i = 0; i < rows.length; i++) {\n      var el = rows[i];\n      el.style.display = expanded ? \"none\" : \"table-row\";\n    }\n    ellipsis.innerHTML = expanded ? \"&hellip;)\" : \"&lsaquo;&lsaquo;&lsaquo;\";\n    expanded = !expanded;\n  });\n})();\n</script>\n"
     },
     "metadata": {},
     "execution_count": 29
    }
   ],
   "source": [
    "PUSANdata_table"
   ]
  },
  {
   "cell_type": "code",
   "execution_count": 38,
   "metadata": {},
   "outputs": [
    {
     "output_type": "display_data",
     "data": {
      "text/html": "\n    <div class=\"bk-root\">\n        <a href=\"https://bokeh.org\" target=\"_blank\" class=\"bk-logo bk-logo-small bk-logo-notebook\"></a>\n        <span id=\"8292\">Loading BokehJS ...</span>\n    </div>"
     },
     "metadata": {}
    },
    {
     "output_type": "display_data",
     "data": {
      "application/javascript": "\n(function(root) {\n  function now() {\n    return new Date();\n  }\n\n  var force = true;\n\n  if (typeof root._bokeh_onload_callbacks === \"undefined\" || force === true) {\n    root._bokeh_onload_callbacks = [];\n    root._bokeh_is_loading = undefined;\n  }\n\n  var JS_MIME_TYPE = 'application/javascript';\n  var HTML_MIME_TYPE = 'text/html';\n  var EXEC_MIME_TYPE = 'application/vnd.bokehjs_exec.v0+json';\n  var CLASS_NAME = 'output_bokeh rendered_html';\n\n  /**\n   * Render data to the DOM node\n   */\n  function render(props, node) {\n    var script = document.createElement(\"script\");\n    node.appendChild(script);\n  }\n\n  /**\n   * Handle when an output is cleared or removed\n   */\n  function handleClearOutput(event, handle) {\n    var cell = handle.cell;\n\n    var id = cell.output_area._bokeh_element_id;\n    var server_id = cell.output_area._bokeh_server_id;\n    // Clean up Bokeh references\n    if (id != null && id in Bokeh.index) {\n      Bokeh.index[id].model.document.clear();\n      delete Bokeh.index[id];\n    }\n\n    if (server_id !== undefined) {\n      // Clean up Bokeh references\n      var cmd = \"from bokeh.io.state import curstate; print(curstate().uuid_to_server['\" + server_id + \"'].get_sessions()[0].document.roots[0]._id)\";\n      cell.notebook.kernel.execute(cmd, {\n        iopub: {\n          output: function(msg) {\n            var id = msg.content.text.trim();\n            if (id in Bokeh.index) {\n              Bokeh.index[id].model.document.clear();\n              delete Bokeh.index[id];\n            }\n          }\n        }\n      });\n      // Destroy server and session\n      var cmd = \"import bokeh.io.notebook as ion; ion.destroy_server('\" + server_id + \"')\";\n      cell.notebook.kernel.execute(cmd);\n    }\n  }\n\n  /**\n   * Handle when a new output is added\n   */\n  function handleAddOutput(event, handle) {\n    var output_area = handle.output_area;\n    var output = handle.output;\n\n    // limit handleAddOutput to display_data with EXEC_MIME_TYPE content only\n    if ((output.output_type != \"display_data\") || (!Object.prototype.hasOwnProperty.call(output.data, EXEC_MIME_TYPE))) {\n      return\n    }\n\n    var toinsert = output_area.element.find(\".\" + CLASS_NAME.split(' ')[0]);\n\n    if (output.metadata[EXEC_MIME_TYPE][\"id\"] !== undefined) {\n      toinsert[toinsert.length - 1].firstChild.textContent = output.data[JS_MIME_TYPE];\n      // store reference to embed id on output_area\n      output_area._bokeh_element_id = output.metadata[EXEC_MIME_TYPE][\"id\"];\n    }\n    if (output.metadata[EXEC_MIME_TYPE][\"server_id\"] !== undefined) {\n      var bk_div = document.createElement(\"div\");\n      bk_div.innerHTML = output.data[HTML_MIME_TYPE];\n      var script_attrs = bk_div.children[0].attributes;\n      for (var i = 0; i < script_attrs.length; i++) {\n        toinsert[toinsert.length - 1].firstChild.setAttribute(script_attrs[i].name, script_attrs[i].value);\n        toinsert[toinsert.length - 1].firstChild.textContent = bk_div.children[0].textContent\n      }\n      // store reference to server id on output_area\n      output_area._bokeh_server_id = output.metadata[EXEC_MIME_TYPE][\"server_id\"];\n    }\n  }\n\n  function register_renderer(events, OutputArea) {\n\n    function append_mime(data, metadata, element) {\n      // create a DOM node to render to\n      var toinsert = this.create_output_subarea(\n        metadata,\n        CLASS_NAME,\n        EXEC_MIME_TYPE\n      );\n      this.keyboard_manager.register_events(toinsert);\n      // Render to node\n      var props = {data: data, metadata: metadata[EXEC_MIME_TYPE]};\n      render(props, toinsert[toinsert.length - 1]);\n      element.append(toinsert);\n      return toinsert\n    }\n\n    /* Handle when an output is cleared or removed */\n    events.on('clear_output.CodeCell', handleClearOutput);\n    events.on('delete.Cell', handleClearOutput);\n\n    /* Handle when a new output is added */\n    events.on('output_added.OutputArea', handleAddOutput);\n\n    /**\n     * Register the mime type and append_mime function with output_area\n     */\n    OutputArea.prototype.register_mime_type(EXEC_MIME_TYPE, append_mime, {\n      /* Is output safe? */\n      safe: true,\n      /* Index of renderer in `output_area.display_order` */\n      index: 0\n    });\n  }\n\n  // register the mime type if in Jupyter Notebook environment and previously unregistered\n  if (root.Jupyter !== undefined) {\n    var events = require('base/js/events');\n    var OutputArea = require('notebook/js/outputarea').OutputArea;\n\n    if (OutputArea.prototype.mime_types().indexOf(EXEC_MIME_TYPE) == -1) {\n      register_renderer(events, OutputArea);\n    }\n  }\n\n  \n  if (typeof (root._bokeh_timeout) === \"undefined\" || force === true) {\n    root._bokeh_timeout = Date.now() + 5000;\n    root._bokeh_failed_load = false;\n  }\n\n  var NB_LOAD_WARNING = {'data': {'text/html':\n     \"<div style='background-color: #fdd'>\\n\"+\n     \"<p>\\n\"+\n     \"BokehJS does not appear to have successfully loaded. If loading BokehJS from CDN, this \\n\"+\n     \"may be due to a slow or bad network connection. Possible fixes:\\n\"+\n     \"</p>\\n\"+\n     \"<ul>\\n\"+\n     \"<li>re-rerun `output_notebook()` to attempt to load from CDN again, or</li>\\n\"+\n     \"<li>use INLINE resources instead, as so:</li>\\n\"+\n     \"</ul>\\n\"+\n     \"<code>\\n\"+\n     \"from bokeh.resources import INLINE\\n\"+\n     \"output_notebook(resources=INLINE)\\n\"+\n     \"</code>\\n\"+\n     \"</div>\"}};\n\n  function display_loaded() {\n    var el = document.getElementById(\"8292\");\n    if (el != null) {\n      el.textContent = \"BokehJS is loading...\";\n    }\n    if (root.Bokeh !== undefined) {\n      if (el != null) {\n        el.textContent = \"BokehJS \" + root.Bokeh.version + \" successfully loaded.\";\n      }\n    } else if (Date.now() < root._bokeh_timeout) {\n      setTimeout(display_loaded, 100)\n    }\n  }\n\n\n  function run_callbacks() {\n    try {\n      root._bokeh_onload_callbacks.forEach(function(callback) {\n        if (callback != null)\n          callback();\n      });\n    } finally {\n      delete root._bokeh_onload_callbacks\n    }\n    console.debug(\"Bokeh: all callbacks have finished\");\n  }\n\n  function load_libs(css_urls, js_urls, callback) {\n    if (css_urls == null) css_urls = [];\n    if (js_urls == null) js_urls = [];\n\n    root._bokeh_onload_callbacks.push(callback);\n    if (root._bokeh_is_loading > 0) {\n      console.debug(\"Bokeh: BokehJS is being loaded, scheduling callback at\", now());\n      return null;\n    }\n    if (js_urls == null || js_urls.length === 0) {\n      run_callbacks();\n      return null;\n    }\n    console.debug(\"Bokeh: BokehJS not loaded, scheduling load and callback at\", now());\n    root._bokeh_is_loading = css_urls.length + js_urls.length;\n\n    function on_load() {\n      root._bokeh_is_loading--;\n      if (root._bokeh_is_loading === 0) {\n        console.debug(\"Bokeh: all BokehJS libraries/stylesheets loaded\");\n        run_callbacks()\n      }\n    }\n\n    function on_error(url) {\n      console.error(\"failed to load \" + url);\n    }\n\n    for (let i = 0; i < css_urls.length; i++) {\n      const url = css_urls[i];\n      const element = document.createElement(\"link\");\n      element.onload = on_load;\n      element.onerror = on_error.bind(null, url);\n      element.rel = \"stylesheet\";\n      element.type = \"text/css\";\n      element.href = url;\n      console.debug(\"Bokeh: injecting link tag for BokehJS stylesheet: \", url);\n      document.body.appendChild(element);\n    }\n\n    const hashes = {\"https://cdn.bokeh.org/bokeh/release/bokeh-2.3.2.min.js\": \"XypntL49z55iwGVUW4qsEu83zKL3XEcz0MjuGOQ9SlaaQ68X/g+k1FcioZi7oQAc\", \"https://cdn.bokeh.org/bokeh/release/bokeh-tables-2.3.2.min.js\": \"bEsM86IHGDTLCS0Zod8a8WM6Y4+lafAL/eSiyQcuPzinmWNgNO2/olUF0Z2Dkn5i\", \"https://cdn.bokeh.org/bokeh/release/bokeh-widgets-2.3.2.min.js\": \"TX0gSQTdXTTeScqxj6PVQxTiRW8DOoGVwinyi1D3kxv7wuxQ02XkOxv0xwiypcAH\"};\n\n    for (let i = 0; i < js_urls.length; i++) {\n      const url = js_urls[i];\n      const element = document.createElement('script');\n      element.onload = on_load;\n      element.onerror = on_error.bind(null, url);\n      element.async = false;\n      element.src = url;\n      if (url in hashes) {\n        element.crossOrigin = \"anonymous\";\n        element.integrity = \"sha384-\" + hashes[url];\n      }\n      console.debug(\"Bokeh: injecting script tag for BokehJS library: \", url);\n      document.head.appendChild(element);\n    }\n  };\n\n  function inject_raw_css(css) {\n    const element = document.createElement(\"style\");\n    element.appendChild(document.createTextNode(css));\n    document.body.appendChild(element);\n  }\n\n  \n  var js_urls = [\"https://cdn.bokeh.org/bokeh/release/bokeh-2.3.2.min.js\", \"https://cdn.bokeh.org/bokeh/release/bokeh-widgets-2.3.2.min.js\", \"https://cdn.bokeh.org/bokeh/release/bokeh-tables-2.3.2.min.js\"];\n  var css_urls = [];\n  \n\n  var inline_js = [\n    function(Bokeh) {\n      Bokeh.set_log_level(\"info\");\n    },\n    function(Bokeh) {\n    \n    \n    }\n  ];\n\n  function run_inline_js() {\n    \n    if (root.Bokeh !== undefined || force === true) {\n      \n    for (var i = 0; i < inline_js.length; i++) {\n      inline_js[i].call(root, root.Bokeh);\n    }\n    if (force === true) {\n        display_loaded();\n      }} else if (Date.now() < root._bokeh_timeout) {\n      setTimeout(run_inline_js, 100);\n    } else if (!root._bokeh_failed_load) {\n      console.log(\"Bokeh: BokehJS failed to load within specified timeout.\");\n      root._bokeh_failed_load = true;\n    } else if (force !== true) {\n      var cell = $(document.getElementById(\"8292\")).parents('.cell').data().cell;\n      cell.output_area.append_execute_result(NB_LOAD_WARNING)\n    }\n\n  }\n\n  if (root._bokeh_is_loading === 0) {\n    console.debug(\"Bokeh: BokehJS loaded, going straight to plotting\");\n    run_inline_js();\n  } else {\n    load_libs(css_urls, js_urls, function() {\n      console.debug(\"Bokeh: BokehJS plotting callback run at\", now());\n      run_inline_js();\n    });\n  }\n}(window));",
      "application/vnd.bokehjs_load.v0+json": "\n(function(root) {\n  function now() {\n    return new Date();\n  }\n\n  var force = true;\n\n  if (typeof root._bokeh_onload_callbacks === \"undefined\" || force === true) {\n    root._bokeh_onload_callbacks = [];\n    root._bokeh_is_loading = undefined;\n  }\n\n  \n\n  \n  if (typeof (root._bokeh_timeout) === \"undefined\" || force === true) {\n    root._bokeh_timeout = Date.now() + 5000;\n    root._bokeh_failed_load = false;\n  }\n\n  var NB_LOAD_WARNING = {'data': {'text/html':\n     \"<div style='background-color: #fdd'>\\n\"+\n     \"<p>\\n\"+\n     \"BokehJS does not appear to have successfully loaded. If loading BokehJS from CDN, this \\n\"+\n     \"may be due to a slow or bad network connection. Possible fixes:\\n\"+\n     \"</p>\\n\"+\n     \"<ul>\\n\"+\n     \"<li>re-rerun `output_notebook()` to attempt to load from CDN again, or</li>\\n\"+\n     \"<li>use INLINE resources instead, as so:</li>\\n\"+\n     \"</ul>\\n\"+\n     \"<code>\\n\"+\n     \"from bokeh.resources import INLINE\\n\"+\n     \"output_notebook(resources=INLINE)\\n\"+\n     \"</code>\\n\"+\n     \"</div>\"}};\n\n  function display_loaded() {\n    var el = document.getElementById(\"8292\");\n    if (el != null) {\n      el.textContent = \"BokehJS is loading...\";\n    }\n    if (root.Bokeh !== undefined) {\n      if (el != null) {\n        el.textContent = \"BokehJS \" + root.Bokeh.version + \" successfully loaded.\";\n      }\n    } else if (Date.now() < root._bokeh_timeout) {\n      setTimeout(display_loaded, 100)\n    }\n  }\n\n\n  function run_callbacks() {\n    try {\n      root._bokeh_onload_callbacks.forEach(function(callback) {\n        if (callback != null)\n          callback();\n      });\n    } finally {\n      delete root._bokeh_onload_callbacks\n    }\n    console.debug(\"Bokeh: all callbacks have finished\");\n  }\n\n  function load_libs(css_urls, js_urls, callback) {\n    if (css_urls == null) css_urls = [];\n    if (js_urls == null) js_urls = [];\n\n    root._bokeh_onload_callbacks.push(callback);\n    if (root._bokeh_is_loading > 0) {\n      console.debug(\"Bokeh: BokehJS is being loaded, scheduling callback at\", now());\n      return null;\n    }\n    if (js_urls == null || js_urls.length === 0) {\n      run_callbacks();\n      return null;\n    }\n    console.debug(\"Bokeh: BokehJS not loaded, scheduling load and callback at\", now());\n    root._bokeh_is_loading = css_urls.length + js_urls.length;\n\n    function on_load() {\n      root._bokeh_is_loading--;\n      if (root._bokeh_is_loading === 0) {\n        console.debug(\"Bokeh: all BokehJS libraries/stylesheets loaded\");\n        run_callbacks()\n      }\n    }\n\n    function on_error(url) {\n      console.error(\"failed to load \" + url);\n    }\n\n    for (let i = 0; i < css_urls.length; i++) {\n      const url = css_urls[i];\n      const element = document.createElement(\"link\");\n      element.onload = on_load;\n      element.onerror = on_error.bind(null, url);\n      element.rel = \"stylesheet\";\n      element.type = \"text/css\";\n      element.href = url;\n      console.debug(\"Bokeh: injecting link tag for BokehJS stylesheet: \", url);\n      document.body.appendChild(element);\n    }\n\n    const hashes = {\"https://cdn.bokeh.org/bokeh/release/bokeh-2.3.2.min.js\": \"XypntL49z55iwGVUW4qsEu83zKL3XEcz0MjuGOQ9SlaaQ68X/g+k1FcioZi7oQAc\", \"https://cdn.bokeh.org/bokeh/release/bokeh-tables-2.3.2.min.js\": \"bEsM86IHGDTLCS0Zod8a8WM6Y4+lafAL/eSiyQcuPzinmWNgNO2/olUF0Z2Dkn5i\", \"https://cdn.bokeh.org/bokeh/release/bokeh-widgets-2.3.2.min.js\": \"TX0gSQTdXTTeScqxj6PVQxTiRW8DOoGVwinyi1D3kxv7wuxQ02XkOxv0xwiypcAH\"};\n\n    for (let i = 0; i < js_urls.length; i++) {\n      const url = js_urls[i];\n      const element = document.createElement('script');\n      element.onload = on_load;\n      element.onerror = on_error.bind(null, url);\n      element.async = false;\n      element.src = url;\n      if (url in hashes) {\n        element.crossOrigin = \"anonymous\";\n        element.integrity = \"sha384-\" + hashes[url];\n      }\n      console.debug(\"Bokeh: injecting script tag for BokehJS library: \", url);\n      document.head.appendChild(element);\n    }\n  };\n\n  function inject_raw_css(css) {\n    const element = document.createElement(\"style\");\n    element.appendChild(document.createTextNode(css));\n    document.body.appendChild(element);\n  }\n\n  \n  var js_urls = [\"https://cdn.bokeh.org/bokeh/release/bokeh-2.3.2.min.js\", \"https://cdn.bokeh.org/bokeh/release/bokeh-widgets-2.3.2.min.js\", \"https://cdn.bokeh.org/bokeh/release/bokeh-tables-2.3.2.min.js\"];\n  var css_urls = [];\n  \n\n  var inline_js = [\n    function(Bokeh) {\n      Bokeh.set_log_level(\"info\");\n    },\n    function(Bokeh) {\n    \n    \n    }\n  ];\n\n  function run_inline_js() {\n    \n    if (root.Bokeh !== undefined || force === true) {\n      \n    for (var i = 0; i < inline_js.length; i++) {\n      inline_js[i].call(root, root.Bokeh);\n    }\n    if (force === true) {\n        display_loaded();\n      }} else if (Date.now() < root._bokeh_timeout) {\n      setTimeout(run_inline_js, 100);\n    } else if (!root._bokeh_failed_load) {\n      console.log(\"Bokeh: BokehJS failed to load within specified timeout.\");\n      root._bokeh_failed_load = true;\n    } else if (force !== true) {\n      var cell = $(document.getElementById(\"8292\")).parents('.cell').data().cell;\n      cell.output_area.append_execute_result(NB_LOAD_WARNING)\n    }\n\n  }\n\n  if (root._bokeh_is_loading === 0) {\n    console.debug(\"Bokeh: BokehJS loaded, going straight to plotting\");\n    run_inline_js();\n  } else {\n    load_libs(css_urls, js_urls, function() {\n      console.debug(\"Bokeh: BokehJS plotting callback run at\", now());\n      run_inline_js();\n    });\n  }\n}(window));"
     },
     "metadata": {}
    }
   ],
   "source": [
    "reset_output()\n",
    "output_notebook()"
   ]
  },
  {
   "cell_type": "code",
   "execution_count": 46,
   "metadata": {
    "tags": [
     "outputPrepend"
    ]
   },
   "outputs": [
    {
     "output_type": "stream",
     "name": "stdout",
     "text": [
      "olumn}p\\'].add_tools(PanTool(dimensions=\"width\"))\\n        globals()[f\\'{column}cb_op\\'] = [\\'open\\',\\'high\\',\\'low\\',\\'close\\']\\n        globals()[f\\'{column}cb\\'] = CheckboxButtonGroup(labels=globals()[f\\'{column}cb_op\\'], active=[0], button_type=\"success\")\\n\\n        # 3개 병합\\n        # globals()[f\\'{column}G\\']= column(\\n        #                             column(row(globals()[f\\'{column}ap\\'],globals()[f\\'{column}p\\'])),\\n        #                             row(column(globals()[f\\'{column}data_table\\'])))\\n        # #show(checkbox_grp)\\n        #show(ap)\\n        #show(scatter)\\n        #show(data_table)\\n        #show(layout_with_widgets)\\n        #save(obj=layout_with_widgets, filename= f\\'{column}.html\\')\\n        #webbrowser.open(\\'layout_with_widgets.html\\')\\n        #break    \\n\\n\\nmake_graphs()\\n\\n  \\nlayout_with_widgets_SEOUL = column(\\n                            column(row(SEOULap,SEOULp)),\\n                            row(column(SEOULdata_table)))\\n#show(layout_with_widgets)\\n#show(DEAGUdata_table)\\nsave(obj=layout_with_widgets_SEOUL, filename= \\'SEOULPM25.html\\')\\n\\nlayout_with_widgets_PUSAN = column(\\n                            column(row(PUSANap,PUSANp)),\\n                            row(column(PUSANdata_table)))\\n#show(layout_with_widgets)\\n#show(DEAGUdata_table)\\nsave(obj=layout_with_widgets_PUSAN, filename= \\'PUSANPM25.html\\')\\n\\n\\nlayout_with_widgets_DEAGU = column(\\n                            column(row(DEAGUap,DEAGUp)),\\n                            row(column(DEAGUdata_table)))\\n#show(layout_with_widgets)\\n#show(DEAGUdata_table)\\nsave(obj=layout_with_widgets_DEAGU, filename= \\'DEAGUPM25.html\\')\\n\\nlayout_with_widgets_INCHEON = column(\\n                            column(row(INCHEONap,INCHEONp)),\\n                            row(column(INCHEONdata_table)))\\n#show(layout_with_widgets)\\n#show(INCHEONdata_table)\\nsave(obj=layout_with_widgets_INCHEON, filename= \\'INCHEONPM25.html\\')\\n\\nlayout_with_widgets_KWANG_JU = column(\\n                            column(row(KWANG_JUap,KWANG_JUp)),\\n                            row(column(KWANG_JUdata_table)))\\n#show(layout_with_widgets)\\n#show(KWANG_JUdata_table)\\nsave(obj=layout_with_widgets_KWANG_JU, filename= \\'KWANG_JUPM25.html\\')\\n\\nlayout_with_widgets_DAEJEON = column(\\n                            column(row(DAEJEONap,DAEJEONp)),\\n                            row(column(DAEJEONdata_table)))\\n#show(layout_with_widgets)\\n#show(DAEJEONdata_table)\\nsave(obj=layout_with_widgets_DAEJEON, filename= \\'DAEJEONPM25.html\\')\\n\\nlayout_with_widgets_ULSAN = column(\\n                            column(row(ULSANap,ULSANp)),\\n                            row(column(ULSANdata_table)))\\n#show(layout_with_widgets)\\n#show(ULSANdata_table)\\nsave(obj=layout_with_widgets_ULSAN, filename= \\'ULSANPM25.html\\')\\n\\nlayout_with_widgets_KYEONG_GI = column(\\n                            column(row(KYEONG_GIap,KYEONG_GIp)),\\n                            row(column(KYEONG_GIdata_table)))\\n#show(layout_with_widgets)\\n#show(KYEONG_GIdata_table)\\nsave(obj=layout_with_widgets_KYEONG_GI, filename= \\'KYEONG_GIPM25.html\\')\\n\\nlayout_with_widgets_KANGONE = column(\\n                            column(row(KANGONEap,KANGONEp)),\\n                            row(column(KANGONEdata_table)))\\n#show(layout_with_widgets)\\n#show(KANGONEdata_table)\\nsave(obj=layout_with_widgets_KANGONE, filename= \\'KANGONEPM25.html\\')\\n\\nlayout_with_widgets_CHUNG_BUK = column(\\n                            column(row(CHUNG_BUKap,CHUNG_BUKp)),\\n                            row(column(CHUNG_BUKdata_table)))\\n#show(layout_with_widgets)\\n#show(CHUNG_BUKdata_table)\\nsave(obj=layout_with_widgets_CHUNG_BUK, filename= \\'CHUNG_BUKPM25.html\\')\\n\\nlayout_with_widgets_CHUNG_NAM = column(\\n                            column(row(CHUNG_NAMap,CHUNG_NAMp)),\\n                            row(column(CHUNG_NAMdata_table)))\\n#show(layout_with_widgets)\\n#show(CHUNG_NAMdata_table)\\nsave(obj=layout_with_widgets_CHUNG_NAM, filename= \\'CHUNG_NAMPM25.html\\')\\n\\nlayout_with_widgets_JEON_BUK = column(\\n                            column(row(JEON_BUKap,JEON_BUKp)),\\n                            row(column(JEON_BUKdata_table)))\\n#show(layout_with_widgets)\\n#show(JEON_BUKdata_table)\\nsave(obj=layout_with_widgets_JEON_BUK, filename= \\'JEON_BUKPM25.html\\')\\n\\nlayout_with_widgets_JEON_NAM = column(\\n                            column(row(JEON_NAMap,JEON_NAMp)),\\n                            row(column(JEON_NAMdata_table)))\\n#show(layout_with_widgets)\\n#show(JEON_NAMdata_table)\\nsave(obj=layout_with_widgets_JEON_NAM, filename= \\'JEON_NAMPM25.html\\')\\n\\nlayout_with_widgets_KYUNG_BUK = column(\\n                            column(row(KYUNG_BUKap,KYUNG_BUKp)),\\n                            row(column(KYUNG_BUKdata_table)))\\n#show(layout_with_widgets)\\n#show(KYUNG_BUKdata_table)\\nsave(obj=layout_with_widgets_KYUNG_BUK, filename= \\'KYUNG_BUKPM25.html\\')\\n\\nlayout_with_widgets_KYUNG_NAM = column(\\n                            column(row(KYUNG_NAMap,KYUNG_NAMp)),\\n                            row(column(KYUNG_NAMdata_table)))\\n#show(layout_with_widgets)\\n#show(KYUNG_NAMdata_table)\\nsave(obj=layout_with_widgets_KYUNG_NAM, filename= \\'KYUNG_NAMPM25.html\\')\\n\\nlayout_with_widgets_JE_JU = column(\\n                            column(row(JE_JUap,JE_JUp)),\\n                            row(column(JE_JUdata_table)))\\n#show(layout_with_widgets)\\n#show(JE_JUdata_table)\\nsave(obj=layout_with_widgets_JE_JU, filename= \\'JE_JUPM25.html\\')\\n\\nlayout_with_widgets_SEJONG = column(\\n                            column(row(SEJONGap,SEJONGp)),\\n                            row(column(SEJONGdata_table)))\\n#show(layout_with_widgets)\\n#show(SEJONGdata_table)\\nsave(obj=layout_with_widgets_SEJONG, filename= \\'SEJONGPM25.html\\')', '_i21': \"layout_with_widgets_KYUNG_BUK = column(\\n                            column(row(KYUNG_BUKap,KYUNG_BUKp)),\\n                            row(column(KYUNG_BUKdata_table)))\\n#show(layout_with_widgets)\\n#show(KYUNG_BUKdata_table)\\nsave(obj=layout_with_widgets_KYUNG_BUK, filename= 'KYUNG_BUKPM25.html')\", '_i22': \"layout_with_widgets_KYUNG_BUK = column(\\n                            column(row(KYUNG_BUKap,KYUNG_BUKp)),\\n                            row(column(KYUNG_BUKdata_table)))\\nsave(obj=layout_with_widgets_KYUNG_BUK, filename= 'KYUNG_BUKPM25.html')\", '_i23': '#최종22\\nimport pandas as pd \\nimport numpy as np\\nimport bokeh\\nimport webbrowser\\nfrom bokeh.io import output_notebook, show, save, output_notebook, curdoc, output_file\\nfrom bokeh.plotting import figure, show\\nfrom bokeh.models import Select, CheckboxButtonGroup, ColumnDataSource, DataTable, TableColumn, WMTSTileSource, FactorRange, PanTool\\nfrom bokeh.models import BoxZoomTool, PanTool, ResetTool\\nfrom bokeh.layouts import row, column\\nfrom bokeh.resources import INLINE\\nfrom bokeh.models import *\\nfrom bokeh.plotting import *\\nfrom bokeh.io import *\\nfrom bokeh.tile_providers import *\\nfrom bokeh.palettes import *\\nfrom bokeh.transform import *\\nfrom bokeh.layouts import *\\n#output_notebook() \\n\\n# 최종파일 오픈 최종\\n\\n#자료임포트\\nfilepath = f\\'C:/Users/ad/Desktop/test/fin/SEOULFIN.xlsx\\'\\nexcel_df = pd.read_excel(filepath)\\nexcel_df_cop = excel_df.copy()\\nexcel_df_cop[\\'DATE\\'] = pd.to_datetime(excel_df[\\'DATE\\']) #date 컬럼 시계열 변경\\n\\n# 체크박스 다중선택\\n\\n\\ncheckbox_options = [\\'PM2.5\\',\\'PM10\\',\\'CO\\',\\'CEN\\',\\'PRE\\',\\'DDD\\']\\n\\ncheckbox_grp = CheckboxButtonGroup(labels=checkbox_options, active=[0], button_type=\"success\")\\n\\n# 라인그래프\\nap = figure(plot_width=500, plot_height=400, x_axis_type=\\'datetime\\', output_backend=\"svg\",sizing_mode=\\'stretch_width\\', title=\\'SEOUL\\')\\nap.line(excel_df_cop[\\'DATE\\'], excel_df_cop[\\'PM2.5\\'], color=\\'navy\\', alpha=0.5)\\n\\n# 표\\nsource = ColumnDataSource(excel_df)\\ncolumns = [ TableColumn( field=col, title=col ) for col in excel_df.columns ]\\ndata_table = DataTable(source=source, columns = columns, background=\\'red\\',width=900,sizing_mode=\\'scale_both\\' )\\n\\n\\n# 3일 평균\\ntdata = excel_df[\\'DATE\\'].to_list()[:3]\\ntvalue = excel_df[[\\'PM10\\',\\'PM2.5\\',\\'CO\\',\\'CENTIGRADE\\',\\'PRECIPITATION\\']][:3]\\n\\ndata = {\\n        \\'PM10\\'   : excel_df_cop[\\'PM10\\'].to_list()[:3],\\n        \\'PM2.5\\'  : excel_df_cop[\\'PM2.5\\'].to_list()[:3],\\n        \\'CO\\'     : excel_df_cop[\\'CO\\'].to_list()[:3],\\n        \\'C\\'      : excel_df_cop[\\'CENTIGRADE\\'].to_list()[:3],\\n        \\'PPTN\\'   : excel_df_cop[\\'PRECIPITATION\\'].to_list()[:3]\\n        }\\n\\n# this creates [ (\"Apples\", \"2015\"), (\"Apples\", \"2016\"), (\"Apples\", \"2017\"), (\"Pears\", \"2015), ... ]\\nx = [ (tdat, tval) for tdat in tdata for tval in tvalue ]\\ncounts = sum(zip(data[\\'PM10\\'], data[\\'PM2.5\\'], data[\\'CO\\'], data[\\'C\\'], data[\\'PPTN\\']), ()) # like an hstack\\n\\nsource = ColumnDataSource(data=dict(x=x, counts=counts))\\n\\np = figure(\\n    x_range=FactorRange(*x), \\n    plot_height=400,\\n    plot_width=400, \\n    title=\"Change in Seoul for the last three days\",\\n    #toolbar_location=None,\\n    tools=\"xwheel_pan, reset\"\\n    )\\n\\np.vbar(x=\\'x\\', top=\\'counts\\', width=0.9, source=source)\\n\\np.y_range.start = 0\\np.x_range.range_padding = 0.01\\np.xaxis.major_label_orientation = 1\\n#p.xgrid.grid_line_color = None\\np.add_tools(PanTool(dimensions=\"width\"))\\n# 3개 병합\\nlayout_with_widgets = column(\\n                            column(checkbox_grp),column(row(ap,p)),\\n                            row(column(data_table)))\\n#show(checkbox_grp)\\n#show(ap)\\n#show(scatter)\\n#show(data_table)\\n#show(layout_with_widgets)\\nsave(obj=layout_with_widgets, filename=\\'layout_with_widgets.html\\')\\nwebbrowser.open(\\'layout_with_widgets.html\\')', 'filepath': 'C:/Users/ad/Desktop/test/fin/SEOULFIN.xlsx', 'excel_df':            DATE  PM10  PM2.5   CO    NO2     O3    SO2  CENTIGRADE  \\\n0    2021-06-24    23     13  0.4  0.016  0.033  0.003        22.9   \n1    2021-06-23    18     10  0.3  0.015  0.041  0.003        22.9   \n2    2021-06-22    23     13  0.4  0.018  0.039  0.003        22.9   \n3    2021-06-21    41     24  0.4  0.015  0.051  0.003        22.9   \n4    2021-06-20    51     31  0.5  0.014  0.059  0.004        22.9   \n..          ...   ...    ...  ...    ...    ...    ...         ...   \n445  2020-04-05    47     22  0.4  0.015  0.038  0.003         7.2   \n446  2020-04-04    68     27  0.4  0.015  0.037  0.003         8.9   \n447  2020-04-03    56     32  0.5  0.028  0.032  0.003        10.0   \n448  2020-04-02    39     24  0.5  0.027  0.029  0.003         9.3   \n449  2020-04-01    69     30  0.5  0.020  0.041  0.004        11.3   \n\n     PRECIPITATION  WIND SPEED  RELATIVE HUMIDITY  \n0              0.0         2.8               48.0  \n1              0.0         2.8               48.0  \n2              0.0         2.8               48.0  \n3              0.0         2.8               48.0  \n4              0.0         2.8               48.0  \n..             ...         ...                ...  \n445            0.0         2.8               29.5  \n446            0.0         3.4               36.4  \n447            0.0         2.7               53.8  \n448            0.0         2.3               41.4  \n449            0.0         3.7               35.6  \n\n[450 rows x 11 columns], 'excel_df_cop':           DATE  PM10  PM2.5   CO    NO2     O3    SO2  CENTIGRADE  \\\n0   2021-06-24    23     13  0.4  0.016  0.033  0.003        22.9   \n1   2021-06-23    18     10  0.3  0.015  0.041  0.003        22.9   \n2   2021-06-22    23     13  0.4  0.018  0.039  0.003        22.9   \n3   2021-06-21    41     24  0.4  0.015  0.051  0.003        22.9   \n4   2021-06-20    51     31  0.5  0.014  0.059  0.004        22.9   \n..         ...   ...    ...  ...    ...    ...    ...         ...   \n445 2020-04-05    47     22  0.4  0.015  0.038  0.003         7.2   \n446 2020-04-04    68     27  0.4  0.015  0.037  0.003         8.9   \n447 2020-04-03    56     32  0.5  0.028  0.032  0.003        10.0   \n448 2020-04-02    39     24  0.5  0.027  0.029  0.003         9.3   \n449 2020-04-01    69     30  0.5  0.020  0.041  0.004        11.3   \n\n     PRECIPITATION  WIND SPEED  RELATIVE HUMIDITY  \n0              0.0         2.8               48.0  \n1              0.0         2.8               48.0  \n2              0.0         2.8               48.0  \n3              0.0         2.8               48.0  \n4              0.0         2.8               48.0  \n..             ...         ...                ...  \n445            0.0         2.8               29.5  \n446            0.0         3.4               36.4  \n447            0.0         2.7               53.8  \n448            0.0         2.3               41.4  \n449            0.0         3.7               35.6  \n\n[450 rows x 11 columns], 'checkbox_options': ['PM2.5', 'PM10', 'CO', 'CEN', 'PRE', 'DDD'], 'checkbox_grp': CheckboxButtonGroup(id='8468', ...), 'ap': Figure(id='8469', ...), 'source': ColumnDataSource(id='8522', ...), 'data_table': DataTable(id='8519', ...), 'tdata': ['2021-06-24', '2021-06-23', '2021-06-22'], 'tvalue':    PM10  PM2.5   CO  CENTIGRADE  PRECIPITATION\n0    23     13  0.4        22.9            0.0\n1    18     10  0.3        22.9            0.0\n2    23     13  0.4        22.9            0.0, 'data': {'PM10': [23, 18, 23], 'PM2.5': [13, 10, 13], 'CO': [0.4, 0.3, 0.4], 'C': [22.9, 22.9, 22.9], 'PPTN': [0.0, 0.0, 0.0]}, 'x': [('2021-06-24', 'PM10'), ('2021-06-24', 'PM2.5'), ('2021-06-24', 'CO'), ('2021-06-24', 'CENTIGRADE'), ('2021-06-24', 'PRECIPITATION'), ('2021-06-23', 'PM10'), ('2021-06-23', 'PM2.5'), ('2021-06-23', 'CO'), ('2021-06-23', 'CENTIGRADE'), ('2021-06-23', 'PRECIPITATION'), ('2021-06-22', 'PM10'), ('2021-06-22', 'PM2.5'), ('2021-06-22', 'CO'), ('2021-06-22', 'CENTIGRADE'), ('2021-06-22', 'PRECIPITATION')], 'counts': (23, 13, 0.4, 22.9, 0.0, 18, 10, 0.3, 22.9, 0.0, 23, 13, 0.4, 22.9, 0.0), 'p': Figure(id='8524', ...), 'layout_with_widgets': Column(id='8558', ...), '_23': True, '_i24': 'checkbox_grp', '_24': CheckboxButtonGroup(id='7046', ...), '_i25': 'PUSANcb', '_25': CheckboxButtonGroup(id='5767', ...), '_i26': 'ap', '_26': Figure(id='7047', ...), '_i27': 'PUSANap', '_27': Figure(id='5683', ...), '_i28': 'data_table', '_28': DataTable(id='7097', ...), '_i29': 'PUSANdata_table', '_29': DataTable(id='5733', ...), '_i30': 'layout_with_widgets = column(\\n                            column(PUSANcb),column(row(PUSANap,PUSANp)),\\n                            row(column(PUSANdata_table)))', '_i31': 'data_table', '_31': DataTable(id='7097', ...), '_i32': 'layout_with_widgets = column(\\n                            column(PUSANcb),column(row(PUSANap,PUSANp)),\\n                            row(column(PUSANdata_table)))\\nshow(layout_with_widgets)', '_i33': 'layout_with_widgets = column(\\n                            column(row(PUSANap,PUSANp)),\\n                            row(column(PUSANdata_table)))\\nshow(layout_with_widgets)', '_i34': 'layout_with_widgets = column(\\n                            column(row(PUSANap,PUSANp)),\\n                            row(column(PUSANdata_table)))\\n#show(layout_with_widgets)', '_i35': 'layout_with_widgets = column(\\n                            column(row(PUSANap,PUSANp)),\\n                            row(column(PUSANdata_table)))\\nshow(layout_with_widgets)', '_i36': \"layout_with_widgets = column(\\n                            column(row(PUSANap,PUSANp)),\\n                            row(column(PUSANdata_table)))\\nshow(layout_with_widgets)\\nsave(obj=layout_with_widgets, filename='layout_with_widgets.html')\\nwebbrowser.open('layout_with_widgets.html')\", '_i37': \"layout_with_widgets2 = column(\\n                            column(row(PUSANap,PUSANp)),\\n                            row(column(PUSANdata_table)))\\nshow(layout_with_widgets)\\nsave(obj=layout_with_widgets2, filename='layout_with_widgets.html')\\nwebbrowser.open('layout_with_widgets.html')\", 'layout_with_widgets2': Column(id='8357', ...), '_i38': 'reset_output()\\noutput_notebook()', '_i39': \"layout_with_widgets2 = column(\\n                            column(row(PUSANap,PUSANp)),\\n                            row(column(PUSANdata_table)))\\nshow(layout_with_widgets)\\nsave(obj=layout_with_widgets2, filename='layout_with_widgets.html')\\nwebbrowser.open('layout_with_widgets.html')\", '_i40': \"layout_with_widgets2 = column(\\n                            column(row(PUSANap,PUSANp)),\\n                            row(column(PUSANdata_table)))\\nshow(layout_with_widgets2)\\nsave(obj=layout_with_widgets2, filename='layout_with_widgets.html')\\nwebbrowser.open('layout_with_widgets.html')\", '_i41': '    try:\\n        bpl.reset_output()\\n        bpl.output_notebook()\\n        bpl.show(layout_with_widgets2)\\n    except:\\n        bpl.output_notebook()\\n        bpl.show(layout_with_widgets2) ', '_i42': '#최종22\\nimport pandas as pd \\nimport numpy as np\\nimport bokeh\\nimport webbrowser\\nfrom bokeh.io import output_notebook, show, save, output_notebook, curdoc, output_file\\nfrom bokeh.plotting import figure, show\\nfrom bokeh.models import Select, CheckboxButtonGroup, ColumnDataSource, DataTable, TableColumn, WMTSTileSource, FactorRange, PanTool\\nfrom bokeh.models import BoxZoomTool, PanTool, ResetTool\\nfrom bokeh.layouts import row, column\\nfrom bokeh.resources import INLINE\\nfrom bokeh.models import *\\nfrom bokeh.plotting import *\\nfrom bokeh.io import *\\nfrom bokeh.tile_providers import *\\nfrom bokeh.palettes import *\\nfrom bokeh.transform import *\\nfrom bokeh.layouts import *\\n#output_notebook() \\n\\n# 최종파일 오픈 최종\\n\\n#자료임포트\\nfilepath = f\\'C:/Users/ad/Desktop/test/fin/SEOULFIN.xlsx\\'\\nexcel_df = pd.read_excel(filepath)\\nexcel_df_cop = excel_df.copy()\\nexcel_df_cop[\\'DATE\\'] = pd.to_datetime(excel_df[\\'DATE\\']) #date 컬럼 시계열 변경\\n\\n# 체크박스 다중선택\\n\\n\\ncheckbox_options = [\\'PM2.5\\',\\'PM10\\',\\'CO\\',\\'CEN\\',\\'PRE\\',\\'DDD\\']\\n\\ncheckbox_grp = CheckboxButtonGroup(labels=checkbox_options, active=[0], button_type=\"success\")\\n\\n# 라인그래프\\nap = figure(plot_width=500, plot_height=400, x_axis_type=\\'datetime\\', output_backend=\"svg\",sizing_mode=\\'stretch_width\\', title=\\'SEOUL\\')\\nap.line(excel_df_cop[\\'DATE\\'], excel_df_cop[\\'PM2.5\\'], color=\\'navy\\', alpha=0.5)\\n\\n# 표\\nsource = ColumnDataSource(excel_df)\\ncolumns = [ TableColumn( field=col, title=col ) for col in excel_df.columns ]\\ndata_table = DataTable(source=source, columns = columns, background=\\'red\\',width=900,sizing_mode=\\'scale_both\\' )\\n\\n\\n# 3일 평균\\ntdata = excel_df[\\'DATE\\'].to_list()[:3]\\ntvalue = excel_df[[\\'PM10\\',\\'PM2.5\\',\\'CO\\',\\'CENTIGRADE\\',\\'PRECIPITATION\\']][:3]\\n\\ndata = {\\n        \\'PM10\\'   : excel_df_cop[\\'PM10\\'].to_list()[:3],\\n        \\'PM2.5\\'  : excel_df_cop[\\'PM2.5\\'].to_list()[:3],\\n        \\'CO\\'     : excel_df_cop[\\'CO\\'].to_list()[:3],\\n        \\'C\\'      : excel_df_cop[\\'CENTIGRADE\\'].to_list()[:3],\\n        \\'PPTN\\'   : excel_df_cop[\\'PRECIPITATION\\'].to_list()[:3]\\n        }\\n\\n# this creates [ (\"Apples\", \"2015\"), (\"Apples\", \"2016\"), (\"Apples\", \"2017\"), (\"Pears\", \"2015), ... ]\\nx = [ (tdat, tval) for tdat in tdata for tval in tvalue ]\\ncounts = sum(zip(data[\\'PM10\\'], data[\\'PM2.5\\'], data[\\'CO\\'], data[\\'C\\'], data[\\'PPTN\\']), ()) # like an hstack\\n\\nsource = ColumnDataSource(data=dict(x=x, counts=counts))\\n\\np = figure(\\n    x_range=FactorRange(*x), \\n    plot_height=400,\\n    plot_width=400, \\n    title=\"Change in Seoul for the last three days\",\\n    #toolbar_location=None,\\n    tools=\"xwheel_pan, reset\"\\n    )\\n\\np.vbar(x=\\'x\\', top=\\'counts\\', width=0.9, source=source)\\n\\np.y_range.start = 0\\np.x_range.range_padding = 0.01\\np.xaxis.major_label_orientation = 1\\n#p.xgrid.grid_line_color = None\\np.add_tools(PanTool(dimensions=\"width\"))\\n# 3개 병합\\nlayout_with_widgets = column(\\n                            column(checkbox_grp),column(row(ap,p)),\\n                            row(column(data_table)))\\n#show(checkbox_grp)\\n#show(ap)\\n#show(scatter)\\n#show(data_table)\\n#show(layout_with_widgets)\\nsave(obj=layout_with_widgets, filename=\\'layout_with_widgets.html\\')\\nwebbrowser.open(\\'layout_with_widgets.html\\')', '_42': True, '_i43': 'print(globals())', '_i44': 'print(globals', '_i45': 'print(globals)', '_i46': 'print(globals())'}\n"
     ]
    }
   ],
   "source": [
    "print(globals())"
   ]
  },
  {
   "cell_type": "code",
   "execution_count": null,
   "metadata": {},
   "outputs": [],
   "source": [
    "                                                                                                                                                                                                                                                                                                                                                                                                                                                                                                                                                                                                                                                                                                      "
   ]
  }
 ]
}