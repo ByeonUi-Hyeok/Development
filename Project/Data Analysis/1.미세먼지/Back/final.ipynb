{
 "metadata": {
  "language_info": {
   "codemirror_mode": {
    "name": "ipython",
    "version": 3
   },
   "file_extension": ".py",
   "mimetype": "text/x-python",
   "name": "python",
   "nbconvert_exporter": "python",
   "pygments_lexer": "ipython3",
   "version": "3.9.1"
  },
  "orig_nbformat": 4,
  "kernelspec": {
   "name": "python3",
   "display_name": "Python 3.9.1 64-bit ('base': conda)"
  },
  "interpreter": {
   "hash": "26cbe81f990c700cacc7344ce939feb35388ff5140935024bac84d606131ac1b"
  }
 },
 "nbformat": 4,
 "nbformat_minor": 2,
 "cells": [
  {
   "cell_type": "code",
   "execution_count": 2,
   "metadata": {},
   "outputs": [],
   "source": [
    "import pandas as pd\n",
    "import datetime\n",
    "#!pip install xlrd\n",
    "#!pip install pandas\n",
    "#!pip install openyxl"
   ]
  },
  {
   "cell_type": "code",
   "execution_count": 4,
   "metadata": {},
   "outputs": [
    {
     "output_type": "stream",
     "name": "stdout",
     "text": [
      "202001 fail\n202002 fail\n202003 fail\n202004 success\n202005 success\n202006 success\n202007 success\n202008 success\n202009 success\n202010 success\n202011 success\n202012 success\n202101 success\n202102 success\n202103 success\n202104 success\n202105 success\n202106 success\n202107 fail\n202108 fail\n202109 fail\n202110 fail\n202111 fail\n202112 fail\n"
     ]
    }
   ],
   "source": [
    "# 엑셀 경로 받아오는 함수(pm2.5)\n",
    "def excelappend(yy, mm):\n",
    "    \n",
    "    # 엑셀경로\n",
    "    filepath = 'C:/Users/minipojectweb/data/pm25/{}{}.xls'.format(yy, mm)\n",
    "    # 엑셀불러오기\"\n",
    "    excel_df = pd.read_excel(filepath, header=3)\n",
    "\n",
    "    return(excel_df)\n",
    "\n",
    "\n",
    "# 데이터프레임 만드는 반복문 (pm2.5)\n",
    "CURRENTTIME = datetime.datetime.today()\n",
    "CURRENTTIME = int(CURRENTTIME.strftime('%m'))\n",
    "PH25DF      = pd.DataFrame()\n",
    "for yy in [2020, 2021]:\n",
    "    for mm in range (1, 13):\n",
    "        if yy == 2020 and mm < 4 or yy == 2021 and mm > CURRENTTIME :\n",
    "            print(f'{yy}{str(mm).zfill(2)} fail')\n",
    "        else:    \n",
    "            temp = excelappend(str(yy), str(mm).zfill(2))\n",
    "            PH25DF = PH25DF.append(temp, ignore_index=True)\n",
    "            print(f'{yy}{str(mm).zfill(2)} success')\n",
    "\n",
    "\n",
    "# 경로에 저장  \n",
    "PH25DF.sort_values( by = '날짜', ascending=False, inplace=True)\n",
    "save_PATH = 'C:/Users/ad/Desktop/test/KOR_PH2_5' # 저장경로\n",
    "PH25DF.to_excel(save_PATH + '.xlsx', index=False)\n",
    "PH25DF.to_csv(save_PATH + '.csv', index=False, encoding='utf-8-sig')"
   ]
  },
  {
   "cell_type": "code",
   "execution_count": null,
   "metadata": {},
   "outputs": [],
   "source": []
  }
 ]
}