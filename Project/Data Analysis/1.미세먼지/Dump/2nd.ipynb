{
 "metadata": {
  "language_info": {
   "codemirror_mode": {
    "name": "ipython",
    "version": 3
   },
   "file_extension": ".py",
   "mimetype": "text/x-python",
   "name": "python",
   "nbconvert_exporter": "python",
   "pygments_lexer": "ipython3",
   "version": "3.9.1"
  },
  "orig_nbformat": 4,
  "kernelspec": {
   "name": "python3",
   "display_name": "Python 3.9.1 64-bit ('base': conda)"
  },
  "interpreter": {
   "hash": "26cbe81f990c700cacc7344ce939feb35388ff5140935024bac84d606131ac1b"
  }
 },
 "nbformat": 4,
 "nbformat_minor": 2,
 "cells": [
  {
   "cell_type": "code",
   "execution_count": 15,
   "metadata": {},
   "outputs": [
    {
     "output_type": "stream",
     "name": "stdout",
     "text": [
      "Requirement already satisfied: xlrd in c:\\users\\ad\\miniconda3\\lib\\site-packages (2.0.1)\n",
      "Requirement already satisfied: pandas in c:\\users\\ad\\miniconda3\\lib\\site-packages (1.2.4)\n",
      "Requirement already satisfied: numpy>=1.16.5 in c:\\users\\ad\\miniconda3\\lib\\site-packages (from pandas) (1.20.1)\n",
      "Requirement already satisfied: python-dateutil>=2.7.3 in c:\\users\\ad\\miniconda3\\lib\\site-packages (from pandas) (2.8.1)\n",
      "Requirement already satisfied: pytz>=2017.3 in c:\\users\\ad\\miniconda3\\lib\\site-packages (from pandas) (2021.1)\n",
      "Requirement already satisfied: six>=1.5 in c:\\users\\ad\\miniconda3\\lib\\site-packages (from python-dateutil>=2.7.3->pandas) (1.15.0)\n"
     ]
    }
   ],
   "source": [
    "import pandas as pd\n",
    "import datetime\n",
    "# !pip install xlrd\n",
    "# !pip install pandas"
   ]
  },
  {
   "cell_type": "code",
   "execution_count": 16,
   "metadata": {},
   "outputs": [
    {
     "output_type": "execute_result",
     "data": {
      "text/plain": [
       "            날짜  서울  부산  대구  인천  광주  대전  울산  경기  강원  충북  충남  전북  전남  경북  경남  \\\n",
       "0   2020-05-31  29  18  26  21  25  28  23  29  21  28  29  32  22  21  22   \n",
       "1   2020-05-30  26  19  22  24  27  23  22  26  13  19  28  32  24  16  21   \n",
       "2   2020-05-29  21  21  20  15  26  23  21  21  15  26  22  27  23  16  21   \n",
       "3   2020-05-28  18  22  19  12  22  21  28  19  15  22  19  22  16  16  19   \n",
       "4   2020-05-27  13  21  14  10  20  17  21  14  11  20  17  20  17  14  19   \n",
       "5   2020-05-26  25  30  27  19  24  29  34  26  22  35  28  35  20  26  25   \n",
       "6   2020-05-25  26  25  16  18  20  21  28  29  18  43  31  25  13  16  17   \n",
       "7   2020-05-24  17  17  18  13  20  20  21  18  15  21  19  22  16  17  17   \n",
       "8   2020-05-23  32  12  16  24  18  21  12  31  16  17  28  23  13  11  14   \n",
       "9   2020-05-22  28  10  17  22  16  20   9  27  12  18  25  22  12  11  15   \n",
       "10  2020-05-21  11  12  17  12  12  13  12  12   7  10  17  16  10  10  13   \n",
       "11  2020-05-20   3   7   6   4   8   7   6   4   4   4   7   8   7   5   8   \n",
       "12  2020-05-19   7  12  11   6  10   7  13   6   5   7   9  11   9   9  10   \n",
       "13  2020-05-18  26  20  32  24  19  17  26  27  15  26  24  22  17  19  21   \n",
       "14  2020-05-17  28  17  37  20  27  18  25  28  22  24  23  23  20  26  22   \n",
       "15  2020-05-16  15  23  28  10  19  15  21  14  11  17  12  19  16  16  22   \n",
       "16  2020-05-15  11  15  19  11  12  13  18  12  12  15  15  14  11  17  14   \n",
       "17  2020-05-14  13  17  23  10  15  14  18  13  12  14  15  17  13  16  16   \n",
       "18  2020-05-13  10  13  13   7  10  10  12  10  10  11  10  11   9  10  11   \n",
       "19  2020-05-12  15  21  18  11  27  18  22  16  17  20  19  25  19  17  16   \n",
       "20  2020-05-11  28  20  24  24  27  22  21  30  24  27  30  31  22  18  17   \n",
       "21  2020-05-10  21  12  14  16  16  14  13  21  10  16  20  19  11   9  10   \n",
       "22  2020-05-09   8   8  10   8   6   7  13   9   7   9   9   8   6  10   7   \n",
       "23  2020-05-08  12  12  17  12  12  11  14  12  10   9  15  15  10  13  12   \n",
       "24  2020-05-07  12   8  10  11  14   7   9  11   9   7  11  12  11   8   9   \n",
       "25  2020-05-06  16  14  17  15  19  12  15  17  11  15  20  18  17  12  14   \n",
       "26  2020-05-05  19  14  20  15  20  17  14  19  11  18  17  21  17  13  18   \n",
       "27  2020-05-04  17  21  22  14  15  13  24  17  14  17  16  18  13  18  20   \n",
       "28  2020-05-03  18  19  23  15   9  13  22  16  19  16  16  11   9  21  18   \n",
       "29  2020-05-02  29  23  27  21  18  16  26  27  30  23  21  21  20  25  22   \n",
       "30  2020-05-01  31  22  27  23  20  20  25  27  28  24  23  22  20  24  20   \n",
       "\n",
       "    제주  세종  \n",
       "0   17  25  \n",
       "1   31  20  \n",
       "2   28  19  \n",
       "3   22  17  \n",
       "4   24  14  \n",
       "5   20  22  \n",
       "6   24  19  \n",
       "7   21  16  \n",
       "8   18  18  \n",
       "9   11  16  \n",
       "10  12  12  \n",
       "11  13   5  \n",
       "12  19   4  \n",
       "13  13  17  \n",
       "14  21  15  \n",
       "15  23   8  \n",
       "16  14  11  \n",
       "17  14  12  \n",
       "18  12   8  \n",
       "19  34  13  \n",
       "20  40  18  \n",
       "21  19  11  \n",
       "22  12   6  \n",
       "23  14  10  \n",
       "24  12   5  \n",
       "25  18  12  \n",
       "26  19  13  \n",
       "27  18  11  \n",
       "28  13  14  \n",
       "29  18  17  \n",
       "30  23  20  "
      ],
      "text/html": "<div>\n<style scoped>\n    .dataframe tbody tr th:only-of-type {\n        vertical-align: middle;\n    }\n\n    .dataframe tbody tr th {\n        vertical-align: top;\n    }\n\n    .dataframe thead th {\n        text-align: right;\n    }\n</style>\n<table border=\"1\" class=\"dataframe\">\n  <thead>\n    <tr style=\"text-align: right;\">\n      <th></th>\n      <th>날짜</th>\n      <th>서울</th>\n      <th>부산</th>\n      <th>대구</th>\n      <th>인천</th>\n      <th>광주</th>\n      <th>대전</th>\n      <th>울산</th>\n      <th>경기</th>\n      <th>강원</th>\n      <th>충북</th>\n      <th>충남</th>\n      <th>전북</th>\n      <th>전남</th>\n      <th>경북</th>\n      <th>경남</th>\n      <th>제주</th>\n      <th>세종</th>\n    </tr>\n  </thead>\n  <tbody>\n    <tr>\n      <th>0</th>\n      <td>2020-05-31</td>\n      <td>29</td>\n      <td>18</td>\n      <td>26</td>\n      <td>21</td>\n      <td>25</td>\n      <td>28</td>\n      <td>23</td>\n      <td>29</td>\n      <td>21</td>\n      <td>28</td>\n      <td>29</td>\n      <td>32</td>\n      <td>22</td>\n      <td>21</td>\n      <td>22</td>\n      <td>17</td>\n      <td>25</td>\n    </tr>\n    <tr>\n      <th>1</th>\n      <td>2020-05-30</td>\n      <td>26</td>\n      <td>19</td>\n      <td>22</td>\n      <td>24</td>\n      <td>27</td>\n      <td>23</td>\n      <td>22</td>\n      <td>26</td>\n      <td>13</td>\n      <td>19</td>\n      <td>28</td>\n      <td>32</td>\n      <td>24</td>\n      <td>16</td>\n      <td>21</td>\n      <td>31</td>\n      <td>20</td>\n    </tr>\n    <tr>\n      <th>2</th>\n      <td>2020-05-29</td>\n      <td>21</td>\n      <td>21</td>\n      <td>20</td>\n      <td>15</td>\n      <td>26</td>\n      <td>23</td>\n      <td>21</td>\n      <td>21</td>\n      <td>15</td>\n      <td>26</td>\n      <td>22</td>\n      <td>27</td>\n      <td>23</td>\n      <td>16</td>\n      <td>21</td>\n      <td>28</td>\n      <td>19</td>\n    </tr>\n    <tr>\n      <th>3</th>\n      <td>2020-05-28</td>\n      <td>18</td>\n      <td>22</td>\n      <td>19</td>\n      <td>12</td>\n      <td>22</td>\n      <td>21</td>\n      <td>28</td>\n      <td>19</td>\n      <td>15</td>\n      <td>22</td>\n      <td>19</td>\n      <td>22</td>\n      <td>16</td>\n      <td>16</td>\n      <td>19</td>\n      <td>22</td>\n      <td>17</td>\n    </tr>\n    <tr>\n      <th>4</th>\n      <td>2020-05-27</td>\n      <td>13</td>\n      <td>21</td>\n      <td>14</td>\n      <td>10</td>\n      <td>20</td>\n      <td>17</td>\n      <td>21</td>\n      <td>14</td>\n      <td>11</td>\n      <td>20</td>\n      <td>17</td>\n      <td>20</td>\n      <td>17</td>\n      <td>14</td>\n      <td>19</td>\n      <td>24</td>\n      <td>14</td>\n    </tr>\n    <tr>\n      <th>5</th>\n      <td>2020-05-26</td>\n      <td>25</td>\n      <td>30</td>\n      <td>27</td>\n      <td>19</td>\n      <td>24</td>\n      <td>29</td>\n      <td>34</td>\n      <td>26</td>\n      <td>22</td>\n      <td>35</td>\n      <td>28</td>\n      <td>35</td>\n      <td>20</td>\n      <td>26</td>\n      <td>25</td>\n      <td>20</td>\n      <td>22</td>\n    </tr>\n    <tr>\n      <th>6</th>\n      <td>2020-05-25</td>\n      <td>26</td>\n      <td>25</td>\n      <td>16</td>\n      <td>18</td>\n      <td>20</td>\n      <td>21</td>\n      <td>28</td>\n      <td>29</td>\n      <td>18</td>\n      <td>43</td>\n      <td>31</td>\n      <td>25</td>\n      <td>13</td>\n      <td>16</td>\n      <td>17</td>\n      <td>24</td>\n      <td>19</td>\n    </tr>\n    <tr>\n      <th>7</th>\n      <td>2020-05-24</td>\n      <td>17</td>\n      <td>17</td>\n      <td>18</td>\n      <td>13</td>\n      <td>20</td>\n      <td>20</td>\n      <td>21</td>\n      <td>18</td>\n      <td>15</td>\n      <td>21</td>\n      <td>19</td>\n      <td>22</td>\n      <td>16</td>\n      <td>17</td>\n      <td>17</td>\n      <td>21</td>\n      <td>16</td>\n    </tr>\n    <tr>\n      <th>8</th>\n      <td>2020-05-23</td>\n      <td>32</td>\n      <td>12</td>\n      <td>16</td>\n      <td>24</td>\n      <td>18</td>\n      <td>21</td>\n      <td>12</td>\n      <td>31</td>\n      <td>16</td>\n      <td>17</td>\n      <td>28</td>\n      <td>23</td>\n      <td>13</td>\n      <td>11</td>\n      <td>14</td>\n      <td>18</td>\n      <td>18</td>\n    </tr>\n    <tr>\n      <th>9</th>\n      <td>2020-05-22</td>\n      <td>28</td>\n      <td>10</td>\n      <td>17</td>\n      <td>22</td>\n      <td>16</td>\n      <td>20</td>\n      <td>9</td>\n      <td>27</td>\n      <td>12</td>\n      <td>18</td>\n      <td>25</td>\n      <td>22</td>\n      <td>12</td>\n      <td>11</td>\n      <td>15</td>\n      <td>11</td>\n      <td>16</td>\n    </tr>\n    <tr>\n      <th>10</th>\n      <td>2020-05-21</td>\n      <td>11</td>\n      <td>12</td>\n      <td>17</td>\n      <td>12</td>\n      <td>12</td>\n      <td>13</td>\n      <td>12</td>\n      <td>12</td>\n      <td>7</td>\n      <td>10</td>\n      <td>17</td>\n      <td>16</td>\n      <td>10</td>\n      <td>10</td>\n      <td>13</td>\n      <td>12</td>\n      <td>12</td>\n    </tr>\n    <tr>\n      <th>11</th>\n      <td>2020-05-20</td>\n      <td>3</td>\n      <td>7</td>\n      <td>6</td>\n      <td>4</td>\n      <td>8</td>\n      <td>7</td>\n      <td>6</td>\n      <td>4</td>\n      <td>4</td>\n      <td>4</td>\n      <td>7</td>\n      <td>8</td>\n      <td>7</td>\n      <td>5</td>\n      <td>8</td>\n      <td>13</td>\n      <td>5</td>\n    </tr>\n    <tr>\n      <th>12</th>\n      <td>2020-05-19</td>\n      <td>7</td>\n      <td>12</td>\n      <td>11</td>\n      <td>6</td>\n      <td>10</td>\n      <td>7</td>\n      <td>13</td>\n      <td>6</td>\n      <td>5</td>\n      <td>7</td>\n      <td>9</td>\n      <td>11</td>\n      <td>9</td>\n      <td>9</td>\n      <td>10</td>\n      <td>19</td>\n      <td>4</td>\n    </tr>\n    <tr>\n      <th>13</th>\n      <td>2020-05-18</td>\n      <td>26</td>\n      <td>20</td>\n      <td>32</td>\n      <td>24</td>\n      <td>19</td>\n      <td>17</td>\n      <td>26</td>\n      <td>27</td>\n      <td>15</td>\n      <td>26</td>\n      <td>24</td>\n      <td>22</td>\n      <td>17</td>\n      <td>19</td>\n      <td>21</td>\n      <td>13</td>\n      <td>17</td>\n    </tr>\n    <tr>\n      <th>14</th>\n      <td>2020-05-17</td>\n      <td>28</td>\n      <td>17</td>\n      <td>37</td>\n      <td>20</td>\n      <td>27</td>\n      <td>18</td>\n      <td>25</td>\n      <td>28</td>\n      <td>22</td>\n      <td>24</td>\n      <td>23</td>\n      <td>23</td>\n      <td>20</td>\n      <td>26</td>\n      <td>22</td>\n      <td>21</td>\n      <td>15</td>\n    </tr>\n    <tr>\n      <th>15</th>\n      <td>2020-05-16</td>\n      <td>15</td>\n      <td>23</td>\n      <td>28</td>\n      <td>10</td>\n      <td>19</td>\n      <td>15</td>\n      <td>21</td>\n      <td>14</td>\n      <td>11</td>\n      <td>17</td>\n      <td>12</td>\n      <td>19</td>\n      <td>16</td>\n      <td>16</td>\n      <td>22</td>\n      <td>23</td>\n      <td>8</td>\n    </tr>\n    <tr>\n      <th>16</th>\n      <td>2020-05-15</td>\n      <td>11</td>\n      <td>15</td>\n      <td>19</td>\n      <td>11</td>\n      <td>12</td>\n      <td>13</td>\n      <td>18</td>\n      <td>12</td>\n      <td>12</td>\n      <td>15</td>\n      <td>15</td>\n      <td>14</td>\n      <td>11</td>\n      <td>17</td>\n      <td>14</td>\n      <td>14</td>\n      <td>11</td>\n    </tr>\n    <tr>\n      <th>17</th>\n      <td>2020-05-14</td>\n      <td>13</td>\n      <td>17</td>\n      <td>23</td>\n      <td>10</td>\n      <td>15</td>\n      <td>14</td>\n      <td>18</td>\n      <td>13</td>\n      <td>12</td>\n      <td>14</td>\n      <td>15</td>\n      <td>17</td>\n      <td>13</td>\n      <td>16</td>\n      <td>16</td>\n      <td>14</td>\n      <td>12</td>\n    </tr>\n    <tr>\n      <th>18</th>\n      <td>2020-05-13</td>\n      <td>10</td>\n      <td>13</td>\n      <td>13</td>\n      <td>7</td>\n      <td>10</td>\n      <td>10</td>\n      <td>12</td>\n      <td>10</td>\n      <td>10</td>\n      <td>11</td>\n      <td>10</td>\n      <td>11</td>\n      <td>9</td>\n      <td>10</td>\n      <td>11</td>\n      <td>12</td>\n      <td>8</td>\n    </tr>\n    <tr>\n      <th>19</th>\n      <td>2020-05-12</td>\n      <td>15</td>\n      <td>21</td>\n      <td>18</td>\n      <td>11</td>\n      <td>27</td>\n      <td>18</td>\n      <td>22</td>\n      <td>16</td>\n      <td>17</td>\n      <td>20</td>\n      <td>19</td>\n      <td>25</td>\n      <td>19</td>\n      <td>17</td>\n      <td>16</td>\n      <td>34</td>\n      <td>13</td>\n    </tr>\n    <tr>\n      <th>20</th>\n      <td>2020-05-11</td>\n      <td>28</td>\n      <td>20</td>\n      <td>24</td>\n      <td>24</td>\n      <td>27</td>\n      <td>22</td>\n      <td>21</td>\n      <td>30</td>\n      <td>24</td>\n      <td>27</td>\n      <td>30</td>\n      <td>31</td>\n      <td>22</td>\n      <td>18</td>\n      <td>17</td>\n      <td>40</td>\n      <td>18</td>\n    </tr>\n    <tr>\n      <th>21</th>\n      <td>2020-05-10</td>\n      <td>21</td>\n      <td>12</td>\n      <td>14</td>\n      <td>16</td>\n      <td>16</td>\n      <td>14</td>\n      <td>13</td>\n      <td>21</td>\n      <td>10</td>\n      <td>16</td>\n      <td>20</td>\n      <td>19</td>\n      <td>11</td>\n      <td>9</td>\n      <td>10</td>\n      <td>19</td>\n      <td>11</td>\n    </tr>\n    <tr>\n      <th>22</th>\n      <td>2020-05-09</td>\n      <td>8</td>\n      <td>8</td>\n      <td>10</td>\n      <td>8</td>\n      <td>6</td>\n      <td>7</td>\n      <td>13</td>\n      <td>9</td>\n      <td>7</td>\n      <td>9</td>\n      <td>9</td>\n      <td>8</td>\n      <td>6</td>\n      <td>10</td>\n      <td>7</td>\n      <td>12</td>\n      <td>6</td>\n    </tr>\n    <tr>\n      <th>23</th>\n      <td>2020-05-08</td>\n      <td>12</td>\n      <td>12</td>\n      <td>17</td>\n      <td>12</td>\n      <td>12</td>\n      <td>11</td>\n      <td>14</td>\n      <td>12</td>\n      <td>10</td>\n      <td>9</td>\n      <td>15</td>\n      <td>15</td>\n      <td>10</td>\n      <td>13</td>\n      <td>12</td>\n      <td>14</td>\n      <td>10</td>\n    </tr>\n    <tr>\n      <th>24</th>\n      <td>2020-05-07</td>\n      <td>12</td>\n      <td>8</td>\n      <td>10</td>\n      <td>11</td>\n      <td>14</td>\n      <td>7</td>\n      <td>9</td>\n      <td>11</td>\n      <td>9</td>\n      <td>7</td>\n      <td>11</td>\n      <td>12</td>\n      <td>11</td>\n      <td>8</td>\n      <td>9</td>\n      <td>12</td>\n      <td>5</td>\n    </tr>\n    <tr>\n      <th>25</th>\n      <td>2020-05-06</td>\n      <td>16</td>\n      <td>14</td>\n      <td>17</td>\n      <td>15</td>\n      <td>19</td>\n      <td>12</td>\n      <td>15</td>\n      <td>17</td>\n      <td>11</td>\n      <td>15</td>\n      <td>20</td>\n      <td>18</td>\n      <td>17</td>\n      <td>12</td>\n      <td>14</td>\n      <td>18</td>\n      <td>12</td>\n    </tr>\n    <tr>\n      <th>26</th>\n      <td>2020-05-05</td>\n      <td>19</td>\n      <td>14</td>\n      <td>20</td>\n      <td>15</td>\n      <td>20</td>\n      <td>17</td>\n      <td>14</td>\n      <td>19</td>\n      <td>11</td>\n      <td>18</td>\n      <td>17</td>\n      <td>21</td>\n      <td>17</td>\n      <td>13</td>\n      <td>18</td>\n      <td>19</td>\n      <td>13</td>\n    </tr>\n    <tr>\n      <th>27</th>\n      <td>2020-05-04</td>\n      <td>17</td>\n      <td>21</td>\n      <td>22</td>\n      <td>14</td>\n      <td>15</td>\n      <td>13</td>\n      <td>24</td>\n      <td>17</td>\n      <td>14</td>\n      <td>17</td>\n      <td>16</td>\n      <td>18</td>\n      <td>13</td>\n      <td>18</td>\n      <td>20</td>\n      <td>18</td>\n      <td>11</td>\n    </tr>\n    <tr>\n      <th>28</th>\n      <td>2020-05-03</td>\n      <td>18</td>\n      <td>19</td>\n      <td>23</td>\n      <td>15</td>\n      <td>9</td>\n      <td>13</td>\n      <td>22</td>\n      <td>16</td>\n      <td>19</td>\n      <td>16</td>\n      <td>16</td>\n      <td>11</td>\n      <td>9</td>\n      <td>21</td>\n      <td>18</td>\n      <td>13</td>\n      <td>14</td>\n    </tr>\n    <tr>\n      <th>29</th>\n      <td>2020-05-02</td>\n      <td>29</td>\n      <td>23</td>\n      <td>27</td>\n      <td>21</td>\n      <td>18</td>\n      <td>16</td>\n      <td>26</td>\n      <td>27</td>\n      <td>30</td>\n      <td>23</td>\n      <td>21</td>\n      <td>21</td>\n      <td>20</td>\n      <td>25</td>\n      <td>22</td>\n      <td>18</td>\n      <td>17</td>\n    </tr>\n    <tr>\n      <th>30</th>\n      <td>2020-05-01</td>\n      <td>31</td>\n      <td>22</td>\n      <td>27</td>\n      <td>23</td>\n      <td>20</td>\n      <td>20</td>\n      <td>25</td>\n      <td>27</td>\n      <td>28</td>\n      <td>24</td>\n      <td>23</td>\n      <td>22</td>\n      <td>20</td>\n      <td>24</td>\n      <td>20</td>\n      <td>23</td>\n      <td>20</td>\n    </tr>\n  </tbody>\n</table>\n</div>"
     },
     "metadata": {},
     "execution_count": 16
    }
   ],
   "source": [
    "pd.read_excel('C:/Users/minipojectweb/data/pm25/202005.xls', header =3 )"
   ]
  },
  {
   "cell_type": "code",
   "execution_count": 17,
   "metadata": {},
   "outputs": [],
   "source": [
    "def excelappend(yy, mm):\n",
    "    \n",
    "    # 엑셀경로\n",
    "    filepath = 'C:/Users/minipojectweb/data/pm25/{}{}.xls'.format(yy, mm)\n",
    "    # 엑셀불러오기\"\n",
    "    excel_df = pd.read_excel(filepath, header=3)\n",
    "\n",
    "    return(excel_df)"
   ]
  },
  {
   "cell_type": "code",
   "execution_count": 18,
   "metadata": {},
   "outputs": [
    {
     "output_type": "error",
     "ename": "SyntaxError",
     "evalue": "leading zeros in decimal integer literals are not permitted; use an 0o prefix for octal integers (<ipython-input-18-54b29768f61d>, line 1)",
     "traceback": [
      "\u001b[1;36m  File \u001b[1;32m\"<ipython-input-18-54b29768f61d>\"\u001b[1;36m, line \u001b[1;32m1\u001b[0m\n\u001b[1;33m    test = excelappend(2020, 09)\u001b[0m\n\u001b[1;37m                              ^\u001b[0m\n\u001b[1;31mSyntaxError\u001b[0m\u001b[1;31m:\u001b[0m leading zeros in decimal integer literals are not permitted; use an 0o prefix for octal integers\n"
     ]
    }
   ],
   "source": [
    "test = excelappend(2020, 09)\n",
    "test"
   ]
  },
  {
   "cell_type": "code",
   "execution_count": 57,
   "metadata": {},
   "outputs": [
    {
     "output_type": "stream",
     "name": "stdout",
     "text": [
      "202001\n202002\n202003\n202004\n202005\n202006\n202007\n202008\n202009\n202010\n202011\n202012\n202101\n202102\n202103\n202104\n202105\n202106\n202107\n202108\n202109\n202110\n202111\n202112\n"
     ]
    }
   ],
   "source": [
    "for yy in [2020, 2021]:\n",
    "    for mm in range (1, 13):\n",
    "        if len(str(mm)) <= 1 :\n",
    "            yymm = f'{yy}0{mm}'\n",
    "            print(yymm)\n",
    "        else:\n",
    "            yymm  = f'{yy}{mm}'\n",
    "            print(yymm)"
   ]
  },
  {
   "cell_type": "code",
   "execution_count": 60,
   "metadata": {},
   "outputs": [
    {
     "output_type": "stream",
     "name": "stdout",
     "text": [
      "202001\n<class 'str'>\n202002\n<class 'str'>\n202003\n<class 'str'>\n202004\n<class 'str'>\n202005\n<class 'str'>\n202006\n<class 'str'>\n202007\n<class 'str'>\n202008\n<class 'str'>\n202009\n<class 'str'>\n202010\n<class 'str'>\n202011\n<class 'str'>\n202012\n<class 'str'>\n202101\n<class 'str'>\n202102\n<class 'str'>\n202103\n<class 'str'>\n202104\n<class 'str'>\n202105\n<class 'str'>\n202106\n<class 'str'>\n202107\n<class 'str'>\n202108\n<class 'str'>\n202109\n<class 'str'>\n202110\n<class 'str'>\n202111\n<class 'str'>\n202112\n<class 'str'>\n"
     ]
    }
   ],
   "source": [
    "for yy in [2020, 2021]:\n",
    "    for mm in range (1, 13):\n",
    "        mm_str = str(mm).zfill(2)\n",
    "        yymm = f'{yy}{mm_str}'\n",
    "        print(yymm) "
   ]
  },
  {
   "cell_type": "code",
   "execution_count": 153,
   "metadata": {},
   "outputs": [],
   "source": [
    "PH25DF = pd.DataFrame()"
   ]
  },
  {
   "cell_type": "code",
   "execution_count": 158,
   "metadata": {},
   "outputs": [
    {
     "output_type": "stream",
     "name": "stdout",
     "text": [
      "<class 'pandas.core.frame.DataFrame'>\nIndex: 0 entries\nEmpty DataFrame"
     ]
    }
   ],
   "source": [
    "df.info()"
   ]
  },
  {
   "cell_type": "code",
   "execution_count": 159,
   "metadata": {},
   "outputs": [
    {
     "output_type": "stream",
     "name": "stdout",
     "text": [
      "202001 fail\n202002 fail\n202003 fail\n202004 success\n202005 success\n202006 success\n202007 success\n202008 success\n202009 success\n202010 success\n202011 success\n202012 success\n202101 success\n202102 success\n202103 success\n202104 success\n202105 success\n202106 success\n202107 fail\n202108 fail\n202109 fail\n202110 fail\n202111 fail\n202112 fail\n"
     ]
    }
   ],
   "source": [
    "CURRENTTIME = datetime.datetime.today()\n",
    "CURRENTTIME = int(CURRENTTIME.strftime('%m'))\n",
    "for yy in [2020, 2021]:\n",
    "    for mm in range (1, 13):\n",
    "        if yy == 2020 and mm < 4 or yy == 2021 and mm > CURRENTTIME :\n",
    "            print(f'{yy}{str(mm).zfill(2)} fail')\n",
    "        else:    \n",
    "            temp = excelappend(str(yy), str(mm).zfill(2))\n",
    "            PH25DF = PH25DF.append(temp, ignore_index=True)\n",
    "            print(f'{yy}{str(mm).zfill(2)} success')"
   ]
  },
  {
   "cell_type": "code",
   "execution_count": 160,
   "metadata": {},
   "outputs": [
    {
     "output_type": "execute_result",
     "data": {
      "text/plain": [
       "             날짜  서울  부산  대구  인천  광주  대전  울산  경기  강원  충북  충남  전북  전남  경북  경남  \\\n",
       "0    2021-06-20  28  26  20  37  23  18  30  30  17  23  25  22  22  21  22   \n",
       "1    2021-06-19  26  23  15  29  16  15  20  29  14  23  22  20  15  14  17   \n",
       "2    2021-06-18  11  15  19  10   8   5  18  11   7   7   8   8   8  14  16   \n",
       "3    2021-06-17   8   9  10  10  10   6   6   9   6   7   7   9   7   8   8   \n",
       "4    2021-06-16   4   6   4   5   5   4   5   5   4   5   7   6   5   6   5   \n",
       "..          ...  ..  ..  ..  ..  ..  ..  ..  ..  ..  ..  ..  ..  ..  ..  ..   \n",
       "461  2021-06-05  23  22  24  29  29  31  25  26  19  27  30  35  23  20  22   \n",
       "462  2021-06-04  12   9   8  12   9   9  11  13   9  10  11  10   7   9   8   \n",
       "463  2021-06-03  17  17  20  19  10  15  23  19  18  19  16  12   9  21  16   \n",
       "464  2021-06-02  29  21  32  30  23  24  28  28  21  25  25  25  21  27  23   \n",
       "465  2021-06-01  22  14  26  20  22  20  15  22  19  22  19  20  19  18  17   \n",
       "\n",
       "       제주  세종  \n",
       "0    23.0  18  \n",
       "1    16.0  14  \n",
       "2     9.0   4  \n",
       "3     8.0   5  \n",
       "4     6.0   4  \n",
       "..    ...  ..  \n",
       "461  22.0  25  \n",
       "462   7.0   7  \n",
       "463   5.0  14  \n",
       "464  14.0  24  \n",
       "465  15.0  17  \n",
       "\n",
       "[466 rows x 18 columns]"
      ],
      "text/html": "<div>\n<style scoped>\n    .dataframe tbody tr th:only-of-type {\n        vertical-align: middle;\n    }\n\n    .dataframe tbody tr th {\n        vertical-align: top;\n    }\n\n    .dataframe thead th {\n        text-align: right;\n    }\n</style>\n<table border=\"1\" class=\"dataframe\">\n  <thead>\n    <tr style=\"text-align: right;\">\n      <th></th>\n      <th>날짜</th>\n      <th>서울</th>\n      <th>부산</th>\n      <th>대구</th>\n      <th>인천</th>\n      <th>광주</th>\n      <th>대전</th>\n      <th>울산</th>\n      <th>경기</th>\n      <th>강원</th>\n      <th>충북</th>\n      <th>충남</th>\n      <th>전북</th>\n      <th>전남</th>\n      <th>경북</th>\n      <th>경남</th>\n      <th>제주</th>\n      <th>세종</th>\n    </tr>\n  </thead>\n  <tbody>\n    <tr>\n      <th>0</th>\n      <td>2021-06-20</td>\n      <td>28</td>\n      <td>26</td>\n      <td>20</td>\n      <td>37</td>\n      <td>23</td>\n      <td>18</td>\n      <td>30</td>\n      <td>30</td>\n      <td>17</td>\n      <td>23</td>\n      <td>25</td>\n      <td>22</td>\n      <td>22</td>\n      <td>21</td>\n      <td>22</td>\n      <td>23.0</td>\n      <td>18</td>\n    </tr>\n    <tr>\n      <th>1</th>\n      <td>2021-06-19</td>\n      <td>26</td>\n      <td>23</td>\n      <td>15</td>\n      <td>29</td>\n      <td>16</td>\n      <td>15</td>\n      <td>20</td>\n      <td>29</td>\n      <td>14</td>\n      <td>23</td>\n      <td>22</td>\n      <td>20</td>\n      <td>15</td>\n      <td>14</td>\n      <td>17</td>\n      <td>16.0</td>\n      <td>14</td>\n    </tr>\n    <tr>\n      <th>2</th>\n      <td>2021-06-18</td>\n      <td>11</td>\n      <td>15</td>\n      <td>19</td>\n      <td>10</td>\n      <td>8</td>\n      <td>5</td>\n      <td>18</td>\n      <td>11</td>\n      <td>7</td>\n      <td>7</td>\n      <td>8</td>\n      <td>8</td>\n      <td>8</td>\n      <td>14</td>\n      <td>16</td>\n      <td>9.0</td>\n      <td>4</td>\n    </tr>\n    <tr>\n      <th>3</th>\n      <td>2021-06-17</td>\n      <td>8</td>\n      <td>9</td>\n      <td>10</td>\n      <td>10</td>\n      <td>10</td>\n      <td>6</td>\n      <td>6</td>\n      <td>9</td>\n      <td>6</td>\n      <td>7</td>\n      <td>7</td>\n      <td>9</td>\n      <td>7</td>\n      <td>8</td>\n      <td>8</td>\n      <td>8.0</td>\n      <td>5</td>\n    </tr>\n    <tr>\n      <th>4</th>\n      <td>2021-06-16</td>\n      <td>4</td>\n      <td>6</td>\n      <td>4</td>\n      <td>5</td>\n      <td>5</td>\n      <td>4</td>\n      <td>5</td>\n      <td>5</td>\n      <td>4</td>\n      <td>5</td>\n      <td>7</td>\n      <td>6</td>\n      <td>5</td>\n      <td>6</td>\n      <td>5</td>\n      <td>6.0</td>\n      <td>4</td>\n    </tr>\n    <tr>\n      <th>...</th>\n      <td>...</td>\n      <td>...</td>\n      <td>...</td>\n      <td>...</td>\n      <td>...</td>\n      <td>...</td>\n      <td>...</td>\n      <td>...</td>\n      <td>...</td>\n      <td>...</td>\n      <td>...</td>\n      <td>...</td>\n      <td>...</td>\n      <td>...</td>\n      <td>...</td>\n      <td>...</td>\n      <td>...</td>\n      <td>...</td>\n    </tr>\n    <tr>\n      <th>461</th>\n      <td>2021-06-05</td>\n      <td>23</td>\n      <td>22</td>\n      <td>24</td>\n      <td>29</td>\n      <td>29</td>\n      <td>31</td>\n      <td>25</td>\n      <td>26</td>\n      <td>19</td>\n      <td>27</td>\n      <td>30</td>\n      <td>35</td>\n      <td>23</td>\n      <td>20</td>\n      <td>22</td>\n      <td>22.0</td>\n      <td>25</td>\n    </tr>\n    <tr>\n      <th>462</th>\n      <td>2021-06-04</td>\n      <td>12</td>\n      <td>9</td>\n      <td>8</td>\n      <td>12</td>\n      <td>9</td>\n      <td>9</td>\n      <td>11</td>\n      <td>13</td>\n      <td>9</td>\n      <td>10</td>\n      <td>11</td>\n      <td>10</td>\n      <td>7</td>\n      <td>9</td>\n      <td>8</td>\n      <td>7.0</td>\n      <td>7</td>\n    </tr>\n    <tr>\n      <th>463</th>\n      <td>2021-06-03</td>\n      <td>17</td>\n      <td>17</td>\n      <td>20</td>\n      <td>19</td>\n      <td>10</td>\n      <td>15</td>\n      <td>23</td>\n      <td>19</td>\n      <td>18</td>\n      <td>19</td>\n      <td>16</td>\n      <td>12</td>\n      <td>9</td>\n      <td>21</td>\n      <td>16</td>\n      <td>5.0</td>\n      <td>14</td>\n    </tr>\n    <tr>\n      <th>464</th>\n      <td>2021-06-02</td>\n      <td>29</td>\n      <td>21</td>\n      <td>32</td>\n      <td>30</td>\n      <td>23</td>\n      <td>24</td>\n      <td>28</td>\n      <td>28</td>\n      <td>21</td>\n      <td>25</td>\n      <td>25</td>\n      <td>25</td>\n      <td>21</td>\n      <td>27</td>\n      <td>23</td>\n      <td>14.0</td>\n      <td>24</td>\n    </tr>\n    <tr>\n      <th>465</th>\n      <td>2021-06-01</td>\n      <td>22</td>\n      <td>14</td>\n      <td>26</td>\n      <td>20</td>\n      <td>22</td>\n      <td>20</td>\n      <td>15</td>\n      <td>22</td>\n      <td>19</td>\n      <td>22</td>\n      <td>19</td>\n      <td>20</td>\n      <td>19</td>\n      <td>18</td>\n      <td>17</td>\n      <td>15.0</td>\n      <td>17</td>\n    </tr>\n  </tbody>\n</table>\n<p>466 rows × 18 columns</p>\n</div>"
     },
     "metadata": {},
     "execution_count": 160
    }
   ],
   "source": [
    "PH25DF"
   ]
  },
  {
   "cell_type": "code",
   "execution_count": 163,
   "metadata": {},
   "outputs": [
    {
     "output_type": "execute_result",
     "data": {
      "text/plain": [
       "<bound method DataFrame.info of              날짜  서울  부산  대구  인천  광주  대전  울산  경기  강원  충북  충남  전북  전남  경북  경남  \\\n",
       "0    2021-06-20  28  26  20  37  23  18  30  30  17  23  25  22  22  21  22   \n",
       "1    2021-06-19  26  23  15  29  16  15  20  29  14  23  22  20  15  14  17   \n",
       "2    2021-06-18  11  15  19  10   8   5  18  11   7   7   8   8   8  14  16   \n",
       "3    2021-06-17   8   9  10  10  10   6   6   9   6   7   7   9   7   8   8   \n",
       "4    2021-06-16   4   6   4   5   5   4   5   5   4   5   7   6   5   6   5   \n",
       "..          ...  ..  ..  ..  ..  ..  ..  ..  ..  ..  ..  ..  ..  ..  ..  ..   \n",
       "461  2021-06-05  23  22  24  29  29  31  25  26  19  27  30  35  23  20  22   \n",
       "462  2021-06-04  12   9   8  12   9   9  11  13   9  10  11  10   7   9   8   \n",
       "463  2021-06-03  17  17  20  19  10  15  23  19  18  19  16  12   9  21  16   \n",
       "464  2021-06-02  29  21  32  30  23  24  28  28  21  25  25  25  21  27  23   \n",
       "465  2021-06-01  22  14  26  20  22  20  15  22  19  22  19  20  19  18  17   \n",
       "\n",
       "       제주  세종  \n",
       "0    23.0  18  \n",
       "1    16.0  14  \n",
       "2     9.0   4  \n",
       "3     8.0   5  \n",
       "4     6.0   4  \n",
       "..    ...  ..  \n",
       "461  22.0  25  \n",
       "462   7.0   7  \n",
       "463   5.0  14  \n",
       "464  14.0  24  \n",
       "465  15.0  17  \n",
       "\n",
       "[466 rows x 18 columns]>"
      ]
     },
     "metadata": {},
     "execution_count": 163
    }
   ],
   "source": [
    "PH25DF.info"
   ]
  },
  {
   "cell_type": "code",
   "execution_count": 173,
   "metadata": {},
   "outputs": [
    {
     "output_type": "execute_result",
     "data": {
      "text/plain": [
       "             날짜  부산\n",
       "0    2021-06-20  26\n",
       "1    2021-06-19  23\n",
       "2    2021-06-18  15\n",
       "3    2021-06-17   9\n",
       "4    2021-06-16   6\n",
       "..          ...  ..\n",
       "461  2021-06-05  22\n",
       "462  2021-06-04   9\n",
       "463  2021-06-03  17\n",
       "464  2021-06-02  21\n",
       "465  2021-06-01  14\n",
       "\n",
       "[466 rows x 2 columns]"
      ],
      "text/html": "<div>\n<style scoped>\n    .dataframe tbody tr th:only-of-type {\n        vertical-align: middle;\n    }\n\n    .dataframe tbody tr th {\n        vertical-align: top;\n    }\n\n    .dataframe thead th {\n        text-align: right;\n    }\n</style>\n<table border=\"1\" class=\"dataframe\">\n  <thead>\n    <tr style=\"text-align: right;\">\n      <th></th>\n      <th>날짜</th>\n      <th>부산</th>\n    </tr>\n  </thead>\n  <tbody>\n    <tr>\n      <th>0</th>\n      <td>2021-06-20</td>\n      <td>26</td>\n    </tr>\n    <tr>\n      <th>1</th>\n      <td>2021-06-19</td>\n      <td>23</td>\n    </tr>\n    <tr>\n      <th>2</th>\n      <td>2021-06-18</td>\n      <td>15</td>\n    </tr>\n    <tr>\n      <th>3</th>\n      <td>2021-06-17</td>\n      <td>9</td>\n    </tr>\n    <tr>\n      <th>4</th>\n      <td>2021-06-16</td>\n      <td>6</td>\n    </tr>\n    <tr>\n      <th>...</th>\n      <td>...</td>\n      <td>...</td>\n    </tr>\n    <tr>\n      <th>461</th>\n      <td>2021-06-05</td>\n      <td>22</td>\n    </tr>\n    <tr>\n      <th>462</th>\n      <td>2021-06-04</td>\n      <td>9</td>\n    </tr>\n    <tr>\n      <th>463</th>\n      <td>2021-06-03</td>\n      <td>17</td>\n    </tr>\n    <tr>\n      <th>464</th>\n      <td>2021-06-02</td>\n      <td>21</td>\n    </tr>\n    <tr>\n      <th>465</th>\n      <td>2021-06-01</td>\n      <td>14</td>\n    </tr>\n  </tbody>\n</table>\n<p>466 rows × 2 columns</p>\n</div>"
     },
     "metadata": {},
     "execution_count": 173
    }
   ],
   "source": [
    "PH25DF[['날짜', '부산']]"
   ]
  },
  {
   "cell_type": "code",
   "execution_count": 174,
   "metadata": {},
   "outputs": [
    {
     "output_type": "execute_result",
     "data": {
      "text/plain": [
       "             날짜  서울  부산  대구  인천  광주  대전  울산  경기  강원  충북  충남  전북  전남  경북  경남  \\\n",
       "0    2021-06-20  28  26  20  37  23  18  30  30  17  23  25  22  22  21  22   \n",
       "1    2021-06-19  26  23  15  29  16  15  20  29  14  23  22  20  15  14  17   \n",
       "2    2021-06-18  11  15  19  10   8   5  18  11   7   7   8   8   8  14  16   \n",
       "3    2021-06-17   8   9  10  10  10   6   6   9   6   7   7   9   7   8   8   \n",
       "4    2021-06-16   4   6   4   5   5   4   5   5   4   5   7   6   5   6   5   \n",
       "..          ...  ..  ..  ..  ..  ..  ..  ..  ..  ..  ..  ..  ..  ..  ..  ..   \n",
       "461  2021-06-05  23  22  24  29  29  31  25  26  19  27  30  35  23  20  22   \n",
       "462  2021-06-04  12   9   8  12   9   9  11  13   9  10  11  10   7   9   8   \n",
       "463  2021-06-03  17  17  20  19  10  15  23  19  18  19  16  12   9  21  16   \n",
       "464  2021-06-02  29  21  32  30  23  24  28  28  21  25  25  25  21  27  23   \n",
       "465  2021-06-01  22  14  26  20  22  20  15  22  19  22  19  20  19  18  17   \n",
       "\n",
       "       제주  세종  \n",
       "0    23.0  18  \n",
       "1    16.0  14  \n",
       "2     9.0   4  \n",
       "3     8.0   5  \n",
       "4     6.0   4  \n",
       "..    ...  ..  \n",
       "461  22.0  25  \n",
       "462   7.0   7  \n",
       "463   5.0  14  \n",
       "464  14.0  24  \n",
       "465  15.0  17  \n",
       "\n",
       "[466 rows x 18 columns]"
      ],
      "text/html": "<div>\n<style scoped>\n    .dataframe tbody tr th:only-of-type {\n        vertical-align: middle;\n    }\n\n    .dataframe tbody tr th {\n        vertical-align: top;\n    }\n\n    .dataframe thead th {\n        text-align: right;\n    }\n</style>\n<table border=\"1\" class=\"dataframe\">\n  <thead>\n    <tr style=\"text-align: right;\">\n      <th></th>\n      <th>날짜</th>\n      <th>서울</th>\n      <th>부산</th>\n      <th>대구</th>\n      <th>인천</th>\n      <th>광주</th>\n      <th>대전</th>\n      <th>울산</th>\n      <th>경기</th>\n      <th>강원</th>\n      <th>충북</th>\n      <th>충남</th>\n      <th>전북</th>\n      <th>전남</th>\n      <th>경북</th>\n      <th>경남</th>\n      <th>제주</th>\n      <th>세종</th>\n    </tr>\n  </thead>\n  <tbody>\n    <tr>\n      <th>0</th>\n      <td>2021-06-20</td>\n      <td>28</td>\n      <td>26</td>\n      <td>20</td>\n      <td>37</td>\n      <td>23</td>\n      <td>18</td>\n      <td>30</td>\n      <td>30</td>\n      <td>17</td>\n      <td>23</td>\n      <td>25</td>\n      <td>22</td>\n      <td>22</td>\n      <td>21</td>\n      <td>22</td>\n      <td>23.0</td>\n      <td>18</td>\n    </tr>\n    <tr>\n      <th>1</th>\n      <td>2021-06-19</td>\n      <td>26</td>\n      <td>23</td>\n      <td>15</td>\n      <td>29</td>\n      <td>16</td>\n      <td>15</td>\n      <td>20</td>\n      <td>29</td>\n      <td>14</td>\n      <td>23</td>\n      <td>22</td>\n      <td>20</td>\n      <td>15</td>\n      <td>14</td>\n      <td>17</td>\n      <td>16.0</td>\n      <td>14</td>\n    </tr>\n    <tr>\n      <th>2</th>\n      <td>2021-06-18</td>\n      <td>11</td>\n      <td>15</td>\n      <td>19</td>\n      <td>10</td>\n      <td>8</td>\n      <td>5</td>\n      <td>18</td>\n      <td>11</td>\n      <td>7</td>\n      <td>7</td>\n      <td>8</td>\n      <td>8</td>\n      <td>8</td>\n      <td>14</td>\n      <td>16</td>\n      <td>9.0</td>\n      <td>4</td>\n    </tr>\n    <tr>\n      <th>3</th>\n      <td>2021-06-17</td>\n      <td>8</td>\n      <td>9</td>\n      <td>10</td>\n      <td>10</td>\n      <td>10</td>\n      <td>6</td>\n      <td>6</td>\n      <td>9</td>\n      <td>6</td>\n      <td>7</td>\n      <td>7</td>\n      <td>9</td>\n      <td>7</td>\n      <td>8</td>\n      <td>8</td>\n      <td>8.0</td>\n      <td>5</td>\n    </tr>\n    <tr>\n      <th>4</th>\n      <td>2021-06-16</td>\n      <td>4</td>\n      <td>6</td>\n      <td>4</td>\n      <td>5</td>\n      <td>5</td>\n      <td>4</td>\n      <td>5</td>\n      <td>5</td>\n      <td>4</td>\n      <td>5</td>\n      <td>7</td>\n      <td>6</td>\n      <td>5</td>\n      <td>6</td>\n      <td>5</td>\n      <td>6.0</td>\n      <td>4</td>\n    </tr>\n    <tr>\n      <th>...</th>\n      <td>...</td>\n      <td>...</td>\n      <td>...</td>\n      <td>...</td>\n      <td>...</td>\n      <td>...</td>\n      <td>...</td>\n      <td>...</td>\n      <td>...</td>\n      <td>...</td>\n      <td>...</td>\n      <td>...</td>\n      <td>...</td>\n      <td>...</td>\n      <td>...</td>\n      <td>...</td>\n      <td>...</td>\n      <td>...</td>\n    </tr>\n    <tr>\n      <th>461</th>\n      <td>2021-06-05</td>\n      <td>23</td>\n      <td>22</td>\n      <td>24</td>\n      <td>29</td>\n      <td>29</td>\n      <td>31</td>\n      <td>25</td>\n      <td>26</td>\n      <td>19</td>\n      <td>27</td>\n      <td>30</td>\n      <td>35</td>\n      <td>23</td>\n      <td>20</td>\n      <td>22</td>\n      <td>22.0</td>\n      <td>25</td>\n    </tr>\n    <tr>\n      <th>462</th>\n      <td>2021-06-04</td>\n      <td>12</td>\n      <td>9</td>\n      <td>8</td>\n      <td>12</td>\n      <td>9</td>\n      <td>9</td>\n      <td>11</td>\n      <td>13</td>\n      <td>9</td>\n      <td>10</td>\n      <td>11</td>\n      <td>10</td>\n      <td>7</td>\n      <td>9</td>\n      <td>8</td>\n      <td>7.0</td>\n      <td>7</td>\n    </tr>\n    <tr>\n      <th>463</th>\n      <td>2021-06-03</td>\n      <td>17</td>\n      <td>17</td>\n      <td>20</td>\n      <td>19</td>\n      <td>10</td>\n      <td>15</td>\n      <td>23</td>\n      <td>19</td>\n      <td>18</td>\n      <td>19</td>\n      <td>16</td>\n      <td>12</td>\n      <td>9</td>\n      <td>21</td>\n      <td>16</td>\n      <td>5.0</td>\n      <td>14</td>\n    </tr>\n    <tr>\n      <th>464</th>\n      <td>2021-06-02</td>\n      <td>29</td>\n      <td>21</td>\n      <td>32</td>\n      <td>30</td>\n      <td>23</td>\n      <td>24</td>\n      <td>28</td>\n      <td>28</td>\n      <td>21</td>\n      <td>25</td>\n      <td>25</td>\n      <td>25</td>\n      <td>21</td>\n      <td>27</td>\n      <td>23</td>\n      <td>14.0</td>\n      <td>24</td>\n    </tr>\n    <tr>\n      <th>465</th>\n      <td>2021-06-01</td>\n      <td>22</td>\n      <td>14</td>\n      <td>26</td>\n      <td>20</td>\n      <td>22</td>\n      <td>20</td>\n      <td>15</td>\n      <td>22</td>\n      <td>19</td>\n      <td>22</td>\n      <td>19</td>\n      <td>20</td>\n      <td>19</td>\n      <td>18</td>\n      <td>17</td>\n      <td>15.0</td>\n      <td>17</td>\n    </tr>\n  </tbody>\n</table>\n<p>466 rows × 18 columns</p>\n</div>"
     },
     "metadata": {},
     "execution_count": 174
    }
   ],
   "source": [
    "PH25DF"
   ]
  },
  {
   "cell_type": "code",
   "execution_count": 22,
   "metadata": {},
   "outputs": [
    {
     "output_type": "stream",
     "name": "stdout",
     "text": [
      "202001 fail\n202002 fail\n202003 fail\n202004 success\n202005 success\n202006 success\n202007 success\n202008 success\n202009 success\n202010 success\n202011 success\n202012 success\n202101 success\n202102 success\n202103 success\n202104 success\n202105 success\n202106 success\n202107 fail\n202108 fail\n202109 fail\n202110 fail\n202111 fail\n202112 fail\n"
     ]
    }
   ],
   "source": [
    "# 엑셀 경로 받아오는 함수(pm2.5)\n",
    "def excelappend(yy, mm):\n",
    "    \n",
    "    # 엑셀경로\n",
    "    filepath = 'C:/Users/minipojectweb/data/pm25/{}{}.xls'.format(yy, mm)\n",
    "    # 엑셀불러오기\"\n",
    "    excel_df = pd.read_excel(filepath, header=3)\n",
    "\n",
    "    return(excel_df)\n",
    "\n",
    "\n",
    "# 데이터프레임 만드는 반복문 (pm2.5)\n",
    "CURRENTTIME = datetime.datetime.today()\n",
    "CURRENTTIME = int(CURRENTTIME.strftime('%m'))\n",
    "PH25DF      = pd.DataFrame()\n",
    "for yy in [2020, 2021]:\n",
    "    for mm in range (1, 13):\n",
    "        if yy == 2020 and mm < 4 or yy == 2021 and mm > CURRENTTIME :\n",
    "            print(f'{yy}{str(mm).zfill(2)} fail')\n",
    "        else:    \n",
    "            temp = excelappend(str(yy), str(mm).zfill(2))\n",
    "            PH25DF = PH25DF.append(temp, ignore_index=True)\n",
    "            print(f'{yy}{str(mm).zfill(2)} success')\n",
    "\n",
    "\n",
    "# 경로에 저장  \n",
    "PH25DF.sort_values( by = '날짜', ascending=False, inplace=True)\n",
    "save_PATH = 'C:/Users/ad/Desktop/test/KOR_PH2_5' # 저장경로\n",
    "PH25DF.to_excel(save_PATH + '.xlsx', index=False)\n",
    "PH25DF.to_csv(save_PATH + '.csv', index=False, encoding='utf-8-sig')"
   ]
  },
  {
   "cell_type": "code",
   "execution_count": 32,
   "metadata": {},
   "outputs": [
    {
     "output_type": "execute_result",
     "data": {
      "text/plain": [
       "             날짜  서울  부산  대구  인천  광주  대전  울산  경기  강원  충북  충남  전북  전남  경북  경남  \\\n",
       "426  2021-06-20  28  26  20  37  23  18  30  30  17  23  25  22  22  21  22   \n",
       "427  2021-06-19  26  23  15  29  16  15  20  29  14  23  22  20  15  14  17   \n",
       "428  2021-06-18  11  15  19  10   8   5  18  11   7   7   8   8   8  14  16   \n",
       "429  2021-06-17   8   9  10  10  10   6   6   9   6   7   7   9   7   8   8   \n",
       "430  2021-06-16   4   6   4   5   5   4   5   5   4   5   7   6   5   6   5   \n",
       "..          ...  ..  ..  ..  ..  ..  ..  ..  ..  ..  ..  ..  ..  ..  ..  ..   \n",
       "25   2020-04-05  22  11  12  17  11  14   9  19  15  17  18  13  10  11  10   \n",
       "26   2020-04-04  27  23  25  19  24  22  22  27  26  29  26  24  21  23  21   \n",
       "27   2020-04-03  32  21  24  24  28  25  24  32  23  30  32  32  22  22  19   \n",
       "28   2020-04-02  24  16  17  21  20  21  17  24  21  22  25  22  18  17  14   \n",
       "29   2020-04-01  30  19  30  23  21  23  23  30  30  36  26  22  19  25  22   \n",
       "\n",
       "       제주  세종  \n",
       "426  23.0  18  \n",
       "427  16.0  14  \n",
       "428   9.0   4  \n",
       "429   8.0   5  \n",
       "430   6.0   4  \n",
       "..    ...  ..  \n",
       "25   12.0  14  \n",
       "26   27.0  25  \n",
       "27   26.0  28  \n",
       "28   24.0  20  \n",
       "29   21.0  26  \n",
       "\n",
       "[446 rows x 18 columns]"
      ],
      "text/html": "<div>\n<style scoped>\n    .dataframe tbody tr th:only-of-type {\n        vertical-align: middle;\n    }\n\n    .dataframe tbody tr th {\n        vertical-align: top;\n    }\n\n    .dataframe thead th {\n        text-align: right;\n    }\n</style>\n<table border=\"1\" class=\"dataframe\">\n  <thead>\n    <tr style=\"text-align: right;\">\n      <th></th>\n      <th>날짜</th>\n      <th>서울</th>\n      <th>부산</th>\n      <th>대구</th>\n      <th>인천</th>\n      <th>광주</th>\n      <th>대전</th>\n      <th>울산</th>\n      <th>경기</th>\n      <th>강원</th>\n      <th>충북</th>\n      <th>충남</th>\n      <th>전북</th>\n      <th>전남</th>\n      <th>경북</th>\n      <th>경남</th>\n      <th>제주</th>\n      <th>세종</th>\n    </tr>\n  </thead>\n  <tbody>\n    <tr>\n      <th>426</th>\n      <td>2021-06-20</td>\n      <td>28</td>\n      <td>26</td>\n      <td>20</td>\n      <td>37</td>\n      <td>23</td>\n      <td>18</td>\n      <td>30</td>\n      <td>30</td>\n      <td>17</td>\n      <td>23</td>\n      <td>25</td>\n      <td>22</td>\n      <td>22</td>\n      <td>21</td>\n      <td>22</td>\n      <td>23.0</td>\n      <td>18</td>\n    </tr>\n    <tr>\n      <th>427</th>\n      <td>2021-06-19</td>\n      <td>26</td>\n      <td>23</td>\n      <td>15</td>\n      <td>29</td>\n      <td>16</td>\n      <td>15</td>\n      <td>20</td>\n      <td>29</td>\n      <td>14</td>\n      <td>23</td>\n      <td>22</td>\n      <td>20</td>\n      <td>15</td>\n      <td>14</td>\n      <td>17</td>\n      <td>16.0</td>\n      <td>14</td>\n    </tr>\n    <tr>\n      <th>428</th>\n      <td>2021-06-18</td>\n      <td>11</td>\n      <td>15</td>\n      <td>19</td>\n      <td>10</td>\n      <td>8</td>\n      <td>5</td>\n      <td>18</td>\n      <td>11</td>\n      <td>7</td>\n      <td>7</td>\n      <td>8</td>\n      <td>8</td>\n      <td>8</td>\n      <td>14</td>\n      <td>16</td>\n      <td>9.0</td>\n      <td>4</td>\n    </tr>\n    <tr>\n      <th>429</th>\n      <td>2021-06-17</td>\n      <td>8</td>\n      <td>9</td>\n      <td>10</td>\n      <td>10</td>\n      <td>10</td>\n      <td>6</td>\n      <td>6</td>\n      <td>9</td>\n      <td>6</td>\n      <td>7</td>\n      <td>7</td>\n      <td>9</td>\n      <td>7</td>\n      <td>8</td>\n      <td>8</td>\n      <td>8.0</td>\n      <td>5</td>\n    </tr>\n    <tr>\n      <th>430</th>\n      <td>2021-06-16</td>\n      <td>4</td>\n      <td>6</td>\n      <td>4</td>\n      <td>5</td>\n      <td>5</td>\n      <td>4</td>\n      <td>5</td>\n      <td>5</td>\n      <td>4</td>\n      <td>5</td>\n      <td>7</td>\n      <td>6</td>\n      <td>5</td>\n      <td>6</td>\n      <td>5</td>\n      <td>6.0</td>\n      <td>4</td>\n    </tr>\n    <tr>\n      <th>...</th>\n      <td>...</td>\n      <td>...</td>\n      <td>...</td>\n      <td>...</td>\n      <td>...</td>\n      <td>...</td>\n      <td>...</td>\n      <td>...</td>\n      <td>...</td>\n      <td>...</td>\n      <td>...</td>\n      <td>...</td>\n      <td>...</td>\n      <td>...</td>\n      <td>...</td>\n      <td>...</td>\n      <td>...</td>\n      <td>...</td>\n    </tr>\n    <tr>\n      <th>25</th>\n      <td>2020-04-05</td>\n      <td>22</td>\n      <td>11</td>\n      <td>12</td>\n      <td>17</td>\n      <td>11</td>\n      <td>14</td>\n      <td>9</td>\n      <td>19</td>\n      <td>15</td>\n      <td>17</td>\n      <td>18</td>\n      <td>13</td>\n      <td>10</td>\n      <td>11</td>\n      <td>10</td>\n      <td>12.0</td>\n      <td>14</td>\n    </tr>\n    <tr>\n      <th>26</th>\n      <td>2020-04-04</td>\n      <td>27</td>\n      <td>23</td>\n      <td>25</td>\n      <td>19</td>\n      <td>24</td>\n      <td>22</td>\n      <td>22</td>\n      <td>27</td>\n      <td>26</td>\n      <td>29</td>\n      <td>26</td>\n      <td>24</td>\n      <td>21</td>\n      <td>23</td>\n      <td>21</td>\n      <td>27.0</td>\n      <td>25</td>\n    </tr>\n    <tr>\n      <th>27</th>\n      <td>2020-04-03</td>\n      <td>32</td>\n      <td>21</td>\n      <td>24</td>\n      <td>24</td>\n      <td>28</td>\n      <td>25</td>\n      <td>24</td>\n      <td>32</td>\n      <td>23</td>\n      <td>30</td>\n      <td>32</td>\n      <td>32</td>\n      <td>22</td>\n      <td>22</td>\n      <td>19</td>\n      <td>26.0</td>\n      <td>28</td>\n    </tr>\n    <tr>\n      <th>28</th>\n      <td>2020-04-02</td>\n      <td>24</td>\n      <td>16</td>\n      <td>17</td>\n      <td>21</td>\n      <td>20</td>\n      <td>21</td>\n      <td>17</td>\n      <td>24</td>\n      <td>21</td>\n      <td>22</td>\n      <td>25</td>\n      <td>22</td>\n      <td>18</td>\n      <td>17</td>\n      <td>14</td>\n      <td>24.0</td>\n      <td>20</td>\n    </tr>\n    <tr>\n      <th>29</th>\n      <td>2020-04-01</td>\n      <td>30</td>\n      <td>19</td>\n      <td>30</td>\n      <td>23</td>\n      <td>21</td>\n      <td>23</td>\n      <td>23</td>\n      <td>30</td>\n      <td>30</td>\n      <td>36</td>\n      <td>26</td>\n      <td>22</td>\n      <td>19</td>\n      <td>25</td>\n      <td>22</td>\n      <td>21.0</td>\n      <td>26</td>\n    </tr>\n  </tbody>\n</table>\n<p>446 rows × 18 columns</p>\n</div>"
     },
     "metadata": {},
     "execution_count": 32
    }
   ],
   "source": [
    "a = PH25DF[['날짜', '부산']]\n",
    "PH25DF"
   ]
  },
  {
   "cell_type": "code",
   "execution_count": 31,
   "metadata": {},
   "outputs": [
    {
     "output_type": "execute_result",
     "data": {
      "text/plain": [
       "             날짜  PH2.5\n",
       "426  2021-06-20     28\n",
       "427  2021-06-19     26\n",
       "428  2021-06-18     11\n",
       "429  2021-06-17      8\n",
       "430  2021-06-16      4\n",
       "..          ...    ...\n",
       "25   2020-04-05     22\n",
       "26   2020-04-04     27\n",
       "27   2020-04-03     32\n",
       "28   2020-04-02     24\n",
       "29   2020-04-01     30\n",
       "\n",
       "[446 rows x 2 columns]"
      ],
      "text/html": "<div>\n<style scoped>\n    .dataframe tbody tr th:only-of-type {\n        vertical-align: middle;\n    }\n\n    .dataframe tbody tr th {\n        vertical-align: top;\n    }\n\n    .dataframe thead th {\n        text-align: right;\n    }\n</style>\n<table border=\"1\" class=\"dataframe\">\n  <thead>\n    <tr style=\"text-align: right;\">\n      <th></th>\n      <th>날짜</th>\n      <th>PH2.5</th>\n    </tr>\n  </thead>\n  <tbody>\n    <tr>\n      <th>426</th>\n      <td>2021-06-20</td>\n      <td>28</td>\n    </tr>\n    <tr>\n      <th>427</th>\n      <td>2021-06-19</td>\n      <td>26</td>\n    </tr>\n    <tr>\n      <th>428</th>\n      <td>2021-06-18</td>\n      <td>11</td>\n    </tr>\n    <tr>\n      <th>429</th>\n      <td>2021-06-17</td>\n      <td>8</td>\n    </tr>\n    <tr>\n      <th>430</th>\n      <td>2021-06-16</td>\n      <td>4</td>\n    </tr>\n    <tr>\n      <th>...</th>\n      <td>...</td>\n      <td>...</td>\n    </tr>\n    <tr>\n      <th>25</th>\n      <td>2020-04-05</td>\n      <td>22</td>\n    </tr>\n    <tr>\n      <th>26</th>\n      <td>2020-04-04</td>\n      <td>27</td>\n    </tr>\n    <tr>\n      <th>27</th>\n      <td>2020-04-03</td>\n      <td>32</td>\n    </tr>\n    <tr>\n      <th>28</th>\n      <td>2020-04-02</td>\n      <td>24</td>\n    </tr>\n    <tr>\n      <th>29</th>\n      <td>2020-04-01</td>\n      <td>30</td>\n    </tr>\n  </tbody>\n</table>\n<p>446 rows × 2 columns</p>\n</div>"
     },
     "metadata": {},
     "execution_count": 31
    }
   ],
   "source": [
    "a = a.rename({'날짜':'date', '부산':'PH2.5'}, axis='columns')\n",
    "seoul_df   = PH25DF[ [ '날짜','서울' ] ].rename({'서울':'PH2.5'}, axis='columns')\n",
    "pusan_df   = PH25DF[ [ '날짜','부산' ] ].rename({'부산':'PH2.5'}, axis='columns')\n",
    "daegu_df   = PH25DF[ [ '날짜','대구' ] ].rename({'대구':'PH2.5'}, axis='columns')\n",
    "incheon_df = PH25DF[ [ '날짜','인천' ] ].rename({'인천':'PH2.5'}, axis='columns')"
   ]
  },
  {
   "cell_type": "code",
   "execution_count": 197,
   "metadata": {},
   "outputs": [
    {
     "output_type": "execute_result",
     "data": {
      "text/plain": [
       "             날짜  부산\n",
       "0    2020-04-30  14\n",
       "1    2020-04-29  23\n",
       "2    2020-04-28  16\n",
       "3    2020-04-27  16\n",
       "4    2020-04-26  24\n",
       "..          ...  ..\n",
       "441  2021-06-05  22\n",
       "442  2021-06-04   9\n",
       "443  2021-06-03  17\n",
       "444  2021-06-02  21\n",
       "445  2021-06-01  14\n",
       "\n",
       "[446 rows x 2 columns]"
      ],
      "text/html": "<div>\n<style scoped>\n    .dataframe tbody tr th:only-of-type {\n        vertical-align: middle;\n    }\n\n    .dataframe tbody tr th {\n        vertical-align: top;\n    }\n\n    .dataframe thead th {\n        text-align: right;\n    }\n</style>\n<table border=\"1\" class=\"dataframe\">\n  <thead>\n    <tr style=\"text-align: right;\">\n      <th></th>\n      <th>날짜</th>\n      <th>부산</th>\n    </tr>\n  </thead>\n  <tbody>\n    <tr>\n      <th>0</th>\n      <td>2020-04-30</td>\n      <td>14</td>\n    </tr>\n    <tr>\n      <th>1</th>\n      <td>2020-04-29</td>\n      <td>23</td>\n    </tr>\n    <tr>\n      <th>2</th>\n      <td>2020-04-28</td>\n      <td>16</td>\n    </tr>\n    <tr>\n      <th>3</th>\n      <td>2020-04-27</td>\n      <td>16</td>\n    </tr>\n    <tr>\n      <th>4</th>\n      <td>2020-04-26</td>\n      <td>24</td>\n    </tr>\n    <tr>\n      <th>...</th>\n      <td>...</td>\n      <td>...</td>\n    </tr>\n    <tr>\n      <th>441</th>\n      <td>2021-06-05</td>\n      <td>22</td>\n    </tr>\n    <tr>\n      <th>442</th>\n      <td>2021-06-04</td>\n      <td>9</td>\n    </tr>\n    <tr>\n      <th>443</th>\n      <td>2021-06-03</td>\n      <td>17</td>\n    </tr>\n    <tr>\n      <th>444</th>\n      <td>2021-06-02</td>\n      <td>21</td>\n    </tr>\n    <tr>\n      <th>445</th>\n      <td>2021-06-01</td>\n      <td>14</td>\n    </tr>\n  </tbody>\n</table>\n<p>446 rows × 2 columns</p>\n</div>"
     },
     "metadata": {},
     "execution_count": 197
    }
   ],
   "source": []
  },
  {
   "cell_type": "code",
   "execution_count": 195,
   "metadata": {},
   "outputs": [
    {
     "output_type": "execute_result",
     "data": {
      "text/plain": [
       "             날짜  부산\n",
       "0    2020-04-30  14\n",
       "1    2020-04-29  23\n",
       "2    2020-04-28  16\n",
       "3    2020-04-27  16\n",
       "4    2020-04-26  24\n",
       "..          ...  ..\n",
       "441  2021-06-05  22\n",
       "442  2021-06-04   9\n",
       "443  2021-06-03  17\n",
       "444  2021-06-02  21\n",
       "445  2021-06-01  14\n",
       "\n",
       "[446 rows x 2 columns]"
      ],
      "text/html": "<div>\n<style scoped>\n    .dataframe tbody tr th:only-of-type {\n        vertical-align: middle;\n    }\n\n    .dataframe tbody tr th {\n        vertical-align: top;\n    }\n\n    .dataframe thead th {\n        text-align: right;\n    }\n</style>\n<table border=\"1\" class=\"dataframe\">\n  <thead>\n    <tr style=\"text-align: right;\">\n      <th></th>\n      <th>날짜</th>\n      <th>부산</th>\n    </tr>\n  </thead>\n  <tbody>\n    <tr>\n      <th>0</th>\n      <td>2020-04-30</td>\n      <td>14</td>\n    </tr>\n    <tr>\n      <th>1</th>\n      <td>2020-04-29</td>\n      <td>23</td>\n    </tr>\n    <tr>\n      <th>2</th>\n      <td>2020-04-28</td>\n      <td>16</td>\n    </tr>\n    <tr>\n      <th>3</th>\n      <td>2020-04-27</td>\n      <td>16</td>\n    </tr>\n    <tr>\n      <th>4</th>\n      <td>2020-04-26</td>\n      <td>24</td>\n    </tr>\n    <tr>\n      <th>...</th>\n      <td>...</td>\n      <td>...</td>\n    </tr>\n    <tr>\n      <th>441</th>\n      <td>2021-06-05</td>\n      <td>22</td>\n    </tr>\n    <tr>\n      <th>442</th>\n      <td>2021-06-04</td>\n      <td>9</td>\n    </tr>\n    <tr>\n      <th>443</th>\n      <td>2021-06-03</td>\n      <td>17</td>\n    </tr>\n    <tr>\n      <th>444</th>\n      <td>2021-06-02</td>\n      <td>21</td>\n    </tr>\n    <tr>\n      <th>445</th>\n      <td>2021-06-01</td>\n      <td>14</td>\n    </tr>\n  </tbody>\n</table>\n<p>446 rows × 2 columns</p>\n</div>"
     },
     "metadata": {},
     "execution_count": 195
    }
   ],
   "source": [
    "a"
   ]
  },
  {
   "cell_type": "code",
   "execution_count": 198,
   "metadata": {},
   "outputs": [
    {
     "output_type": "execute_result",
     "data": {
      "text/plain": [
       "             날짜  서울  부산  대구  인천  광주  대전  울산  경기  강원  충북  충남  전북  전남  경북  경남  \\\n",
       "426  2021-06-20  28  26  20  37  23  18  30  30  17  23  25  22  22  21  22   \n",
       "427  2021-06-19  26  23  15  29  16  15  20  29  14  23  22  20  15  14  17   \n",
       "428  2021-06-18  11  15  19  10   8   5  18  11   7   7   8   8   8  14  16   \n",
       "429  2021-06-17   8   9  10  10  10   6   6   9   6   7   7   9   7   8   8   \n",
       "430  2021-06-16   4   6   4   5   5   4   5   5   4   5   7   6   5   6   5   \n",
       "..          ...  ..  ..  ..  ..  ..  ..  ..  ..  ..  ..  ..  ..  ..  ..  ..   \n",
       "25   2020-04-05  22  11  12  17  11  14   9  19  15  17  18  13  10  11  10   \n",
       "26   2020-04-04  27  23  25  19  24  22  22  27  26  29  26  24  21  23  21   \n",
       "27   2020-04-03  32  21  24  24  28  25  24  32  23  30  32  32  22  22  19   \n",
       "28   2020-04-02  24  16  17  21  20  21  17  24  21  22  25  22  18  17  14   \n",
       "29   2020-04-01  30  19  30  23  21  23  23  30  30  36  26  22  19  25  22   \n",
       "\n",
       "       제주  세종  \n",
       "426  23.0  18  \n",
       "427  16.0  14  \n",
       "428   9.0   4  \n",
       "429   8.0   5  \n",
       "430   6.0   4  \n",
       "..    ...  ..  \n",
       "25   12.0  14  \n",
       "26   27.0  25  \n",
       "27   26.0  28  \n",
       "28   24.0  20  \n",
       "29   21.0  26  \n",
       "\n",
       "[446 rows x 18 columns]"
      ],
      "text/html": "<div>\n<style scoped>\n    .dataframe tbody tr th:only-of-type {\n        vertical-align: middle;\n    }\n\n    .dataframe tbody tr th {\n        vertical-align: top;\n    }\n\n    .dataframe thead th {\n        text-align: right;\n    }\n</style>\n<table border=\"1\" class=\"dataframe\">\n  <thead>\n    <tr style=\"text-align: right;\">\n      <th></th>\n      <th>날짜</th>\n      <th>서울</th>\n      <th>부산</th>\n      <th>대구</th>\n      <th>인천</th>\n      <th>광주</th>\n      <th>대전</th>\n      <th>울산</th>\n      <th>경기</th>\n      <th>강원</th>\n      <th>충북</th>\n      <th>충남</th>\n      <th>전북</th>\n      <th>전남</th>\n      <th>경북</th>\n      <th>경남</th>\n      <th>제주</th>\n      <th>세종</th>\n    </tr>\n  </thead>\n  <tbody>\n    <tr>\n      <th>426</th>\n      <td>2021-06-20</td>\n      <td>28</td>\n      <td>26</td>\n      <td>20</td>\n      <td>37</td>\n      <td>23</td>\n      <td>18</td>\n      <td>30</td>\n      <td>30</td>\n      <td>17</td>\n      <td>23</td>\n      <td>25</td>\n      <td>22</td>\n      <td>22</td>\n      <td>21</td>\n      <td>22</td>\n      <td>23.0</td>\n      <td>18</td>\n    </tr>\n    <tr>\n      <th>427</th>\n      <td>2021-06-19</td>\n      <td>26</td>\n      <td>23</td>\n      <td>15</td>\n      <td>29</td>\n      <td>16</td>\n      <td>15</td>\n      <td>20</td>\n      <td>29</td>\n      <td>14</td>\n      <td>23</td>\n      <td>22</td>\n      <td>20</td>\n      <td>15</td>\n      <td>14</td>\n      <td>17</td>\n      <td>16.0</td>\n      <td>14</td>\n    </tr>\n    <tr>\n      <th>428</th>\n      <td>2021-06-18</td>\n      <td>11</td>\n      <td>15</td>\n      <td>19</td>\n      <td>10</td>\n      <td>8</td>\n      <td>5</td>\n      <td>18</td>\n      <td>11</td>\n      <td>7</td>\n      <td>7</td>\n      <td>8</td>\n      <td>8</td>\n      <td>8</td>\n      <td>14</td>\n      <td>16</td>\n      <td>9.0</td>\n      <td>4</td>\n    </tr>\n    <tr>\n      <th>429</th>\n      <td>2021-06-17</td>\n      <td>8</td>\n      <td>9</td>\n      <td>10</td>\n      <td>10</td>\n      <td>10</td>\n      <td>6</td>\n      <td>6</td>\n      <td>9</td>\n      <td>6</td>\n      <td>7</td>\n      <td>7</td>\n      <td>9</td>\n      <td>7</td>\n      <td>8</td>\n      <td>8</td>\n      <td>8.0</td>\n      <td>5</td>\n    </tr>\n    <tr>\n      <th>430</th>\n      <td>2021-06-16</td>\n      <td>4</td>\n      <td>6</td>\n      <td>4</td>\n      <td>5</td>\n      <td>5</td>\n      <td>4</td>\n      <td>5</td>\n      <td>5</td>\n      <td>4</td>\n      <td>5</td>\n      <td>7</td>\n      <td>6</td>\n      <td>5</td>\n      <td>6</td>\n      <td>5</td>\n      <td>6.0</td>\n      <td>4</td>\n    </tr>\n    <tr>\n      <th>...</th>\n      <td>...</td>\n      <td>...</td>\n      <td>...</td>\n      <td>...</td>\n      <td>...</td>\n      <td>...</td>\n      <td>...</td>\n      <td>...</td>\n      <td>...</td>\n      <td>...</td>\n      <td>...</td>\n      <td>...</td>\n      <td>...</td>\n      <td>...</td>\n      <td>...</td>\n      <td>...</td>\n      <td>...</td>\n      <td>...</td>\n    </tr>\n    <tr>\n      <th>25</th>\n      <td>2020-04-05</td>\n      <td>22</td>\n      <td>11</td>\n      <td>12</td>\n      <td>17</td>\n      <td>11</td>\n      <td>14</td>\n      <td>9</td>\n      <td>19</td>\n      <td>15</td>\n      <td>17</td>\n      <td>18</td>\n      <td>13</td>\n      <td>10</td>\n      <td>11</td>\n      <td>10</td>\n      <td>12.0</td>\n      <td>14</td>\n    </tr>\n    <tr>\n      <th>26</th>\n      <td>2020-04-04</td>\n      <td>27</td>\n      <td>23</td>\n      <td>25</td>\n      <td>19</td>\n      <td>24</td>\n      <td>22</td>\n      <td>22</td>\n      <td>27</td>\n      <td>26</td>\n      <td>29</td>\n      <td>26</td>\n      <td>24</td>\n      <td>21</td>\n      <td>23</td>\n      <td>21</td>\n      <td>27.0</td>\n      <td>25</td>\n    </tr>\n    <tr>\n      <th>27</th>\n      <td>2020-04-03</td>\n      <td>32</td>\n      <td>21</td>\n      <td>24</td>\n      <td>24</td>\n      <td>28</td>\n      <td>25</td>\n      <td>24</td>\n      <td>32</td>\n      <td>23</td>\n      <td>30</td>\n      <td>32</td>\n      <td>32</td>\n      <td>22</td>\n      <td>22</td>\n      <td>19</td>\n      <td>26.0</td>\n      <td>28</td>\n    </tr>\n    <tr>\n      <th>28</th>\n      <td>2020-04-02</td>\n      <td>24</td>\n      <td>16</td>\n      <td>17</td>\n      <td>21</td>\n      <td>20</td>\n      <td>21</td>\n      <td>17</td>\n      <td>24</td>\n      <td>21</td>\n      <td>22</td>\n      <td>25</td>\n      <td>22</td>\n      <td>18</td>\n      <td>17</td>\n      <td>14</td>\n      <td>24.0</td>\n      <td>20</td>\n    </tr>\n    <tr>\n      <th>29</th>\n      <td>2020-04-01</td>\n      <td>30</td>\n      <td>19</td>\n      <td>30</td>\n      <td>23</td>\n      <td>21</td>\n      <td>23</td>\n      <td>23</td>\n      <td>30</td>\n      <td>30</td>\n      <td>36</td>\n      <td>26</td>\n      <td>22</td>\n      <td>19</td>\n      <td>25</td>\n      <td>22</td>\n      <td>21.0</td>\n      <td>26</td>\n    </tr>\n  </tbody>\n</table>\n<p>446 rows × 18 columns</p>\n</div>"
     },
     "metadata": {},
     "execution_count": 198
    }
   ],
   "source": [
    "a =PH25DF.sort_values( by = '날짜', ascending=False)\n",
    "a"
   ]
  },
  {
   "cell_type": "code",
   "execution_count": 201,
   "metadata": {},
   "outputs": [
    {
     "output_type": "execute_result",
     "data": {
      "text/plain": [
       "pandas.core.indexes.base.Index"
      ]
     },
     "metadata": {},
     "execution_count": 201
    }
   ],
   "source": [
    "type(PH25DF.columns)"
   ]
  },
  {
   "cell_type": "code",
   "execution_count": 205,
   "metadata": {},
   "outputs": [
    {
     "output_type": "stream",
     "name": "stdout",
     "text": [
      "서울\n부산\n대구\n인천\n광주\n대전\n울산\n경기\n강원\n충북\n충남\n전북\n전남\n경북\n경남\n제주\n세종\n"
     ]
    }
   ],
   "source": [
    "for i in PH25DF.columns[1:]:\n",
    "    print(i)"
   ]
  },
  {
   "cell_type": "code",
   "execution_count": 206,
   "metadata": {},
   "outputs": [
    {
     "output_type": "execute_result",
     "data": {
      "text/plain": [
       "           날짜  서울  부산  대구  인천  광주  대전  울산  경기  강원  충북  충남  전북  전남  경북  경남  \\\n",
       "0  2020-04-30  19  14  21  15  17  16  19  19  22  22  17  17  14  20  14   \n",
       "\n",
       "     제주  세종  \n",
       "0  15.0  16  "
      ],
      "text/html": "<div>\n<style scoped>\n    .dataframe tbody tr th:only-of-type {\n        vertical-align: middle;\n    }\n\n    .dataframe tbody tr th {\n        vertical-align: top;\n    }\n\n    .dataframe thead th {\n        text-align: right;\n    }\n</style>\n<table border=\"1\" class=\"dataframe\">\n  <thead>\n    <tr style=\"text-align: right;\">\n      <th></th>\n      <th>날짜</th>\n      <th>서울</th>\n      <th>부산</th>\n      <th>대구</th>\n      <th>인천</th>\n      <th>광주</th>\n      <th>대전</th>\n      <th>울산</th>\n      <th>경기</th>\n      <th>강원</th>\n      <th>충북</th>\n      <th>충남</th>\n      <th>전북</th>\n      <th>전남</th>\n      <th>경북</th>\n      <th>경남</th>\n      <th>제주</th>\n      <th>세종</th>\n    </tr>\n  </thead>\n  <tbody>\n    <tr>\n      <th>0</th>\n      <td>2020-04-30</td>\n      <td>19</td>\n      <td>14</td>\n      <td>21</td>\n      <td>15</td>\n      <td>17</td>\n      <td>16</td>\n      <td>19</td>\n      <td>19</td>\n      <td>22</td>\n      <td>22</td>\n      <td>17</td>\n      <td>17</td>\n      <td>14</td>\n      <td>20</td>\n      <td>14</td>\n      <td>15.0</td>\n      <td>16</td>\n    </tr>\n  </tbody>\n</table>\n</div>"
     },
     "metadata": {},
     "execution_count": 206
    }
   ],
   "source": [
    "PH25DF.head(1)"
   ]
  },
  {
   "cell_type": "code",
   "execution_count": 207,
   "metadata": {},
   "outputs": [
    {
     "output_type": "execute_result",
     "data": {
      "text/plain": [
       "           날짜  Seoul  부산  대구  인천  광주  대전  울산  경기  강원  충북  충남  전북  전남  경북  경남  \\\n",
       "0  2020-04-30     19  14  21  15  17  16  19  19  22  22  17  17  14  20  14   \n",
       "\n",
       "     제주  세종  \n",
       "0  15.0  16  "
      ],
      "text/html": "<div>\n<style scoped>\n    .dataframe tbody tr th:only-of-type {\n        vertical-align: middle;\n    }\n\n    .dataframe tbody tr th {\n        vertical-align: top;\n    }\n\n    .dataframe thead th {\n        text-align: right;\n    }\n</style>\n<table border=\"1\" class=\"dataframe\">\n  <thead>\n    <tr style=\"text-align: right;\">\n      <th></th>\n      <th>날짜</th>\n      <th>Seoul</th>\n      <th>부산</th>\n      <th>대구</th>\n      <th>인천</th>\n      <th>광주</th>\n      <th>대전</th>\n      <th>울산</th>\n      <th>경기</th>\n      <th>강원</th>\n      <th>충북</th>\n      <th>충남</th>\n      <th>전북</th>\n      <th>전남</th>\n      <th>경북</th>\n      <th>경남</th>\n      <th>제주</th>\n      <th>세종</th>\n    </tr>\n  </thead>\n  <tbody>\n    <tr>\n      <th>0</th>\n      <td>2020-04-30</td>\n      <td>19</td>\n      <td>14</td>\n      <td>21</td>\n      <td>15</td>\n      <td>17</td>\n      <td>16</td>\n      <td>19</td>\n      <td>19</td>\n      <td>22</td>\n      <td>22</td>\n      <td>17</td>\n      <td>17</td>\n      <td>14</td>\n      <td>20</td>\n      <td>14</td>\n      <td>15.0</td>\n      <td>16</td>\n    </tr>\n  </tbody>\n</table>\n</div>"
     },
     "metadata": {},
     "execution_count": 207
    }
   ],
   "source": [
    "a = PH25DF.rename({'서울':'Seoul'},axis='columns')\n",
    "a.hread(1)"
   ]
  },
  {
   "cell_type": "code",
   "execution_count": 211,
   "metadata": {},
   "outputs": [
    {
     "output_type": "execute_result",
     "data": {
      "text/plain": [
       "           날짜  서울\n",
       "0  2020-04-30  19"
      ],
      "text/html": "<div>\n<style scoped>\n    .dataframe tbody tr th:only-of-type {\n        vertical-align: middle;\n    }\n\n    .dataframe tbody tr th {\n        vertical-align: top;\n    }\n\n    .dataframe thead th {\n        text-align: right;\n    }\n</style>\n<table border=\"1\" class=\"dataframe\">\n  <thead>\n    <tr style=\"text-align: right;\">\n      <th></th>\n      <th>날짜</th>\n      <th>서울</th>\n    </tr>\n  </thead>\n  <tbody>\n    <tr>\n      <th>0</th>\n      <td>2020-04-30</td>\n      <td>19</td>\n    </tr>\n  </tbody>\n</table>\n</div>"
     },
     "metadata": {},
     "execution_count": 211
    }
   ],
   "source": [
    "b = PH25DF[['날짜', '서울']]\n",
    "b.head(1)"
   ]
  },
  {
   "cell_type": "code",
   "execution_count": 14,
   "metadata": {},
   "outputs": [
    {
     "output_type": "error",
     "ename": "NameError",
     "evalue": "name 'PH25DF' is not defined",
     "traceback": [
      "\u001b[1;31m---------------------------------------------------------------------------\u001b[0m",
      "\u001b[1;31mNameError\u001b[0m                                 Traceback (most recent call last)",
      "\u001b[1;32m<ipython-input-14-9d171d9edbb7>\u001b[0m in \u001b[0;36m<module>\u001b[1;34m\u001b[0m\n\u001b[1;32m----> 1\u001b[1;33m \u001b[1;32mfor\u001b[0m \u001b[0mcity\u001b[0m \u001b[1;32min\u001b[0m \u001b[0mPH25DF\u001b[0m\u001b[1;33m.\u001b[0m\u001b[0mcolumns\u001b[0m\u001b[1;33m[\u001b[0m\u001b[1;36m1\u001b[0m\u001b[1;33m:\u001b[0m\u001b[1;33m]\u001b[0m\u001b[1;33m:\u001b[0m\u001b[1;33m\u001b[0m\u001b[1;33m\u001b[0m\u001b[0m\n\u001b[0m\u001b[0;32m      2\u001b[0m     \u001b[0mcity\u001b[0m \u001b[1;33m=\u001b[0m \u001b[0mPH25DF\u001b[0m\u001b[1;33m[\u001b[0m\u001b[1;33m[\u001b[0m\u001b[1;34m'날짜'\u001b[0m\u001b[1;33m,\u001b[0m\u001b[0mcity\u001b[0m\u001b[1;33m]\u001b[0m\u001b[1;33m]\u001b[0m\u001b[1;33m\u001b[0m\u001b[1;33m\u001b[0m\u001b[0m\n\u001b[0;32m      3\u001b[0m     \u001b[1;32mbreak\u001b[0m\u001b[1;33m\u001b[0m\u001b[1;33m\u001b[0m\u001b[0m\n",
      "\u001b[1;31mNameError\u001b[0m: name 'PH25DF' is not defined"
     ]
    }
   ],
   "source": [
    "for city in PH25DF.columns[1:]:\n",
    "    city = PH25DF[['날짜',city]]\n",
    "    break"
   ]
  },
  {
   "cell_type": "code",
   "execution_count": 6,
   "metadata": {},
   "outputs": [],
   "source": [
    "for i in range(10):\n",
    "    i= i+1"
   ]
  },
  {
   "cell_type": "code",
   "execution_count": 35,
   "metadata": {},
   "outputs": [],
   "source": [
    "for city in PH25DF.columns[1:]:\n",
    "    globals()[city] = PH25DF[ [ '날짜',city ] ].rename({ city:'PH2.5'}, axis='columns')\n",
    "    break"
   ]
  },
  {
   "cell_type": "code",
   "execution_count": 36,
   "metadata": {},
   "outputs": [
    {
     "output_type": "execute_result",
     "data": {
      "text/plain": [
       "             날짜  PH2.5\n",
       "426  2021-06-20     28\n",
       "427  2021-06-19     26\n",
       "428  2021-06-18     11\n",
       "429  2021-06-17      8\n",
       "430  2021-06-16      4\n",
       "..          ...    ...\n",
       "25   2020-04-05     22\n",
       "26   2020-04-04     27\n",
       "27   2020-04-03     32\n",
       "28   2020-04-02     24\n",
       "29   2020-04-01     30\n",
       "\n",
       "[446 rows x 2 columns]"
      ],
      "text/html": "<div>\n<style scoped>\n    .dataframe tbody tr th:only-of-type {\n        vertical-align: middle;\n    }\n\n    .dataframe tbody tr th {\n        vertical-align: top;\n    }\n\n    .dataframe thead th {\n        text-align: right;\n    }\n</style>\n<table border=\"1\" class=\"dataframe\">\n  <thead>\n    <tr style=\"text-align: right;\">\n      <th></th>\n      <th>날짜</th>\n      <th>PH2.5</th>\n    </tr>\n  </thead>\n  <tbody>\n    <tr>\n      <th>426</th>\n      <td>2021-06-20</td>\n      <td>28</td>\n    </tr>\n    <tr>\n      <th>427</th>\n      <td>2021-06-19</td>\n      <td>26</td>\n    </tr>\n    <tr>\n      <th>428</th>\n      <td>2021-06-18</td>\n      <td>11</td>\n    </tr>\n    <tr>\n      <th>429</th>\n      <td>2021-06-17</td>\n      <td>8</td>\n    </tr>\n    <tr>\n      <th>430</th>\n      <td>2021-06-16</td>\n      <td>4</td>\n    </tr>\n    <tr>\n      <th>...</th>\n      <td>...</td>\n      <td>...</td>\n    </tr>\n    <tr>\n      <th>25</th>\n      <td>2020-04-05</td>\n      <td>22</td>\n    </tr>\n    <tr>\n      <th>26</th>\n      <td>2020-04-04</td>\n      <td>27</td>\n    </tr>\n    <tr>\n      <th>27</th>\n      <td>2020-04-03</td>\n      <td>32</td>\n    </tr>\n    <tr>\n      <th>28</th>\n      <td>2020-04-02</td>\n      <td>24</td>\n    </tr>\n    <tr>\n      <th>29</th>\n      <td>2020-04-01</td>\n      <td>30</td>\n    </tr>\n  </tbody>\n</table>\n<p>446 rows × 2 columns</p>\n</div>"
     },
     "metadata": {},
     "execution_count": 36
    }
   ],
   "source": [
    "서울"
   ]
  },
  {
   "cell_type": "code",
   "execution_count": 49,
   "metadata": {},
   "outputs": [
    {
     "output_type": "execute_result",
     "data": {
      "text/plain": [
       "             날짜  SEOUL  PUSAN  DEAGU  INCHEON  KWANG_JU  DAEJEON  ULSAN  \\\n",
       "426  2021-06-20     28     26     20       37        23       18     30   \n",
       "\n",
       "     KYEONG_GI  KANGONE  CHUNG_BUK  CHUNG_NAM  JEON_BUK  JEON_NAM  KYUNG_BUK  \\\n",
       "426         30       17         23         25        22        22         21   \n",
       "\n",
       "     KYUNG_NAM  JE_JU  SEJONG  \n",
       "426         22   23.0      18  "
      ],
      "text/html": "<div>\n<style scoped>\n    .dataframe tbody tr th:only-of-type {\n        vertical-align: middle;\n    }\n\n    .dataframe tbody tr th {\n        vertical-align: top;\n    }\n\n    .dataframe thead th {\n        text-align: right;\n    }\n</style>\n<table border=\"1\" class=\"dataframe\">\n  <thead>\n    <tr style=\"text-align: right;\">\n      <th></th>\n      <th>날짜</th>\n      <th>SEOUL</th>\n      <th>PUSAN</th>\n      <th>DEAGU</th>\n      <th>INCHEON</th>\n      <th>KWANG_JU</th>\n      <th>DAEJEON</th>\n      <th>ULSAN</th>\n      <th>KYEONG_GI</th>\n      <th>KANGONE</th>\n      <th>CHUNG_BUK</th>\n      <th>CHUNG_NAM</th>\n      <th>JEON_BUK</th>\n      <th>JEON_NAM</th>\n      <th>KYUNG_BUK</th>\n      <th>KYUNG_NAM</th>\n      <th>JE_JU</th>\n      <th>SEJONG</th>\n    </tr>\n  </thead>\n  <tbody>\n    <tr>\n      <th>426</th>\n      <td>2021-06-20</td>\n      <td>28</td>\n      <td>26</td>\n      <td>20</td>\n      <td>37</td>\n      <td>23</td>\n      <td>18</td>\n      <td>30</td>\n      <td>30</td>\n      <td>17</td>\n      <td>23</td>\n      <td>25</td>\n      <td>22</td>\n      <td>22</td>\n      <td>21</td>\n      <td>22</td>\n      <td>23.0</td>\n      <td>18</td>\n    </tr>\n  </tbody>\n</table>\n</div>"
     },
     "metadata": {},
     "execution_count": 49
    }
   ],
   "source": [
    "PH25DF_I = PH25DF.rename({'서울':'SEOUL', '부산':'PUSAN', '대구':'DEAGU', '인천':'INCHEON', '광주':'KWANG_JU', '대전':'DAEJEON','울산':'ULSAN', '경기':'KYEONG_GI', '강원':'KANGONE', '충북':'CHUNG_BUK', '충남':'CHUNG_NAM', '전북':'JEON_BUK', '전남':'JEON_NAM', '경북':'KYUNG_BUK','경남':'KYUNG_NAM','제주':'JE_JU','세종':'SEJONG'}, axis='columns')\n",
    "PH25DF_I.head(1)"
   ]
  },
  {
   "cell_type": "code",
   "execution_count": 39,
   "metadata": {},
   "outputs": [
    {
     "output_type": "execute_result",
     "data": {
      "text/plain": [
       "             날짜  서울  부산  대구  인천  광주  대전  울산  경기  강원  충북  충남  전북  전남  경북  경남  \\\n",
       "426  2021-06-20  28  26  20  37  23  18  30  30  17  23  25  22  22  21  22   \n",
       "\n",
       "       제주  세종  \n",
       "426  23.0  18  "
      ],
      "text/html": "<div>\n<style scoped>\n    .dataframe tbody tr th:only-of-type {\n        vertical-align: middle;\n    }\n\n    .dataframe tbody tr th {\n        vertical-align: top;\n    }\n\n    .dataframe thead th {\n        text-align: right;\n    }\n</style>\n<table border=\"1\" class=\"dataframe\">\n  <thead>\n    <tr style=\"text-align: right;\">\n      <th></th>\n      <th>날짜</th>\n      <th>서울</th>\n      <th>부산</th>\n      <th>대구</th>\n      <th>인천</th>\n      <th>광주</th>\n      <th>대전</th>\n      <th>울산</th>\n      <th>경기</th>\n      <th>강원</th>\n      <th>충북</th>\n      <th>충남</th>\n      <th>전북</th>\n      <th>전남</th>\n      <th>경북</th>\n      <th>경남</th>\n      <th>제주</th>\n      <th>세종</th>\n    </tr>\n  </thead>\n  <tbody>\n    <tr>\n      <th>426</th>\n      <td>2021-06-20</td>\n      <td>28</td>\n      <td>26</td>\n      <td>20</td>\n      <td>37</td>\n      <td>23</td>\n      <td>18</td>\n      <td>30</td>\n      <td>30</td>\n      <td>17</td>\n      <td>23</td>\n      <td>25</td>\n      <td>22</td>\n      <td>22</td>\n      <td>21</td>\n      <td>22</td>\n      <td>23.0</td>\n      <td>18</td>\n    </tr>\n  </tbody>\n</table>\n</div>"
     },
     "metadata": {},
     "execution_count": 39
    }
   ],
   "source": [
    "PH25DF.head(1)"
   ]
  },
  {
   "cell_type": "code",
   "execution_count": null,
   "metadata": {},
   "outputs": [],
   "source": [
    "for city in PH25DF.columns[1:]:\n",
    "    globals()[city] = PH25DF[ [ '날짜',city ] ].rename({ city:'PH2.5'}, axis='columns')\n",
    "    break"
   ]
  },
  {
   "cell_type": "code",
   "execution_count": 55,
   "metadata": {},
   "outputs": [
    {
     "output_type": "stream",
     "name": "stdout",
     "text": [
      "SEOUL\nPUSAN\nDEAGU\nINCHEON\nKWANG_JU\nDAEJEON\nULSAN\nKYEONG_GI\nKANGONE\nCHUNG_BUK\nCHUNG_NAM\nJEON_BUK\nJEON_NAM\nKYUNG_BUK\nKYUNG_NAM\nJE_JU\nSEJONG\n"
     ]
    }
   ],
   "source": [
    "for city in PH25DF_I.columns[1:]:\n",
    "    globals()[f'{city}_df'] = PH25DF_I[ [ '날짜',city ] ].rename({ city:'PH2.5'}, axis='columns')\n",
    "    print(city)"
   ]
  },
  {
   "cell_type": "code",
   "execution_count": 57,
   "metadata": {},
   "outputs": [
    {
     "output_type": "execute_result",
     "data": {
      "text/plain": [
       "             날짜  PH2.5\n",
       "426  2021-06-20     18\n",
       "427  2021-06-19     14\n",
       "428  2021-06-18      4\n",
       "429  2021-06-17      5\n",
       "430  2021-06-16      4\n",
       "..          ...    ...\n",
       "25   2020-04-05     14\n",
       "26   2020-04-04     25\n",
       "27   2020-04-03     28\n",
       "28   2020-04-02     20\n",
       "29   2020-04-01     26\n",
       "\n",
       "[446 rows x 2 columns]"
      ],
      "text/html": "<div>\n<style scoped>\n    .dataframe tbody tr th:only-of-type {\n        vertical-align: middle;\n    }\n\n    .dataframe tbody tr th {\n        vertical-align: top;\n    }\n\n    .dataframe thead th {\n        text-align: right;\n    }\n</style>\n<table border=\"1\" class=\"dataframe\">\n  <thead>\n    <tr style=\"text-align: right;\">\n      <th></th>\n      <th>날짜</th>\n      <th>PH2.5</th>\n    </tr>\n  </thead>\n  <tbody>\n    <tr>\n      <th>426</th>\n      <td>2021-06-20</td>\n      <td>18</td>\n    </tr>\n    <tr>\n      <th>427</th>\n      <td>2021-06-19</td>\n      <td>14</td>\n    </tr>\n    <tr>\n      <th>428</th>\n      <td>2021-06-18</td>\n      <td>4</td>\n    </tr>\n    <tr>\n      <th>429</th>\n      <td>2021-06-17</td>\n      <td>5</td>\n    </tr>\n    <tr>\n      <th>430</th>\n      <td>2021-06-16</td>\n      <td>4</td>\n    </tr>\n    <tr>\n      <th>...</th>\n      <td>...</td>\n      <td>...</td>\n    </tr>\n    <tr>\n      <th>25</th>\n      <td>2020-04-05</td>\n      <td>14</td>\n    </tr>\n    <tr>\n      <th>26</th>\n      <td>2020-04-04</td>\n      <td>25</td>\n    </tr>\n    <tr>\n      <th>27</th>\n      <td>2020-04-03</td>\n      <td>28</td>\n    </tr>\n    <tr>\n      <th>28</th>\n      <td>2020-04-02</td>\n      <td>20</td>\n    </tr>\n    <tr>\n      <th>29</th>\n      <td>2020-04-01</td>\n      <td>26</td>\n    </tr>\n  </tbody>\n</table>\n<p>446 rows × 2 columns</p>\n</div>"
     },
     "metadata": {},
     "execution_count": 57
    }
   ],
   "source": [
    "SEJONG_df"
   ]
  },
  {
   "cell_type": "code",
   "execution_count": null,
   "metadata": {},
   "outputs": [],
   "source": []
  }
 ]
}