{
 "metadata": {
  "language_info": {
   "codemirror_mode": {
    "name": "ipython",
    "version": 3
   },
   "file_extension": ".py",
   "mimetype": "text/x-python",
   "name": "python",
   "nbconvert_exporter": "python",
   "pygments_lexer": "ipython3",
   "version": "3.9.1"
  },
  "orig_nbformat": 4,
  "kernelspec": {
   "name": "python3",
   "display_name": "Python 3.9.1 64-bit ('base': conda)"
  },
  "interpreter": {
   "hash": "26cbe81f990c700cacc7344ce939feb35388ff5140935024bac84d606131ac1b"
  }
 },
 "nbformat": 4,
 "nbformat_minor": 2,
 "cells": [
  {
   "cell_type": "code",
   "execution_count": 143,
   "metadata": {},
   "outputs": [
    {
     "output_type": "stream",
     "name": "stdout",
     "text": [
      "C:/Users/ad/Desktop/test/fin/SEOULFIN.xlsx\n",
      "C:/Users/ad/Desktop/test/fin/PUSANFIN.xlsx\n",
      "C:/Users/ad/Desktop/test/fin/DEAGUFIN.xlsx\n",
      "C:/Users/ad/Desktop/test/fin/INCHEONFIN.xlsx\n",
      "C:/Users/ad/Desktop/test/fin/KWANG_JUFIN.xlsx\n",
      "C:/Users/ad/Desktop/test/fin/DAEJEONFIN.xlsx\n",
      "C:/Users/ad/Desktop/test/fin/ULSANFIN.xlsx\n",
      "C:/Users/ad/Desktop/test/fin/KYEONG_GIFIN.xlsx\n",
      "C:/Users/ad/Desktop/test/fin/KANGONEFIN.xlsx\n",
      "C:/Users/ad/Desktop/test/fin/CHUNG_BUKFIN.xlsx\n",
      "C:/Users/ad/Desktop/test/fin/CHUNG_NAMFIN.xlsx\n",
      "C:/Users/ad/Desktop/test/fin/JEON_BUKFIN.xlsx\n",
      "C:/Users/ad/Desktop/test/fin/JEON_NAMFIN.xlsx\n",
      "C:/Users/ad/Desktop/test/fin/KYUNG_BUKFIN.xlsx\n",
      "C:/Users/ad/Desktop/test/fin/KYUNG_NAMFIN.xlsx\n",
      "C:/Users/ad/Desktop/test/fin/JE_JUFIN.xlsx\n",
      "C:/Users/ad/Desktop/test/fin/SEJONGFIN.xlsx\n"
     ]
    }
   ],
   "source": [
    "import pandas as pd \n",
    "import numpy as np\n",
    "import bokeh\n",
    "import webbrowser\n",
    "from bokeh.io import output_notebook, show, save, output_notebook, curdoc, output_file\n",
    "from bokeh.plotting import figure, show\n",
    "from bokeh.models import Select, CheckboxButtonGroup, ColumnDataSource, DataTable, TableColumn, WMTSTileSource, FactorRange, PanTool\n",
    "from bokeh.models import BoxZoomTool, PanTool, ResetTool\n",
    "from bokeh.layouts import row, column\n",
    "from bokeh import layouts\n",
    "from bokeh.resources import INLINE\n",
    "from bokeh.models import *\n",
    "from bokeh.plotting import *\n",
    "from bokeh.io import *\n",
    "from bokeh.tile_providers import *\n",
    "from bokeh.palettes import *\n",
    "from bokeh.transform import *\n",
    "from bokeh.layouts import *\n",
    "from bokeh.models import HoverTool\n",
    "\n",
    "# 최종파일 오픈 최종\n",
    "\n",
    "def finalopen(a):\n",
    "    filepath = f'C:/Users/ad/Desktop/test/fin/{a}FIN.xlsx'\n",
    "    excel_df = pd.read_excel(filepath)\n",
    "    print (filepath)\n",
    "    return(excel_df)\n",
    "    \n",
    "columnss = ['SEOUL', 'PUSAN', 'DEAGU', 'INCHEON', 'KWANG_JU', 'DAEJEON', 'ULSAN',\n",
    "       'KYEONG_GI', 'KANGONE', 'CHUNG_BUK', 'CHUNG_NAM', 'JEON_BUK',\n",
    "       'JEON_NAM', 'KYUNG_BUK', 'KYUNG_NAM', 'JE_JU', 'SEJONG']\n",
    "for col in columnss:\n",
    "     globals()[f'{col}FINAL'] = finalopen(col)\n",
    "     globals()[f'{col}FINAL_cop'] = globals()[f'{col}FINAL'].copy()\n",
    "     globals()[f'{col}FINAL_cop']['DATE'] = pd.to_datetime(globals()[f'{col}FINAL_cop']['DATE'])\n",
    "\n",
    "\n",
    "# 최종파일 오픈 최종\n",
    "\n",
    "\n",
    "def make_graphs():\n",
    "    \n",
    "\n",
    "    columnss = ['SEOUL', 'PUSAN', 'DEAGU', 'INCHEON', 'KWANG_JU', 'DAEJEON', 'ULSAN',\n",
    "       'KYEONG_GI', 'KANGONE', 'CHUNG_BUK', 'CHUNG_NAM', 'JEON_BUK',\n",
    "       'JEON_NAM', 'KYUNG_BUK', 'KYUNG_NAM', 'JE_JU', 'SEJONG']\n",
    "\n",
    "    for col in columnss:\n",
    "        # hover = HoverTool(\n",
    "        #     tooltips=[\n",
    "        #         (\"index\",\"$index\"),(\"y\",\"@y\")])\n",
    "        # ss  =  ColumnDataSource(data=dict(y = globals()[f'{col}FINAL_cop']['PM10']))\n",
    "        \n",
    "        globals()[f'{col}FINAL_cop'] =globals()[f'{col}FINAL'].copy()\n",
    "        globals()[f'{col}FINAL_cop']['DATE'] = pd.to_datetime(globals()[f'{col}FINAL_cop']['DATE'])\n",
    "        # 라인그래프\n",
    "        globals()[f'{col}ap'] = figure(\n",
    "            plot_width=450, plot_height=400, \n",
    "            x_axis_type='datetime', output_backend=\"svg\",\n",
    "            sizing_mode='stretch_width', title=f\"{col}'s PM 2.5\",\n",
    "            toolbar_location=\"right\",\n",
    "            tools = \"pan,wheel_zoom,box_zoom,reset,hover,save\")\n",
    "        globals()[f'{col}ap'].line(globals()[f'{col}FINAL_cop']['DATE'], globals()[f'{col}FINAL_cop']['PM2.5'], color='navy', alpha=0.5, legend_label = 'PM2.5')\n",
    "        globals()[f'{col}ap'].y_range = Range1d(0, 120, bounds='auto')\t# y축 고정\n",
    "\n",
    "\n",
    "        # 표\n",
    "        source = ColumnDataSource(globals()[f'{col}FINAL'])\n",
    "        columns = [ TableColumn( field=col, title=col ) for col in globals()[f'{col}FINAL'].columns ]\n",
    "        globals()[f'{col}data_table'] = DataTable(source=source, columns = columns, background='red',width=800,sizing_mode='scale_both' )\n",
    "\n",
    "\n",
    "        # 3일 평균\n",
    "        tdata = globals()[f'{col}FINAL']['DATE'].to_list()[:3]\n",
    "        tvalue = globals()[f'{col}FINAL'][['PM10','PM2.5','CO','CENTIGRADE','PRECIPITATION']][:3]\n",
    "\n",
    "        data = {\n",
    "                'PM10'   : globals()[f'{col}FINAL']['PM10'].to_list()[:3],\n",
    "                'PM2.5'  : globals()[f'{col}FINAL']['PM2.5'].to_list()[:3],\n",
    "                'CO'     : globals()[f'{col}FINAL']['CO'].to_list()[:3],\n",
    "                'C'      : globals()[f'{col}FINAL']['CENTIGRADE'].to_list()[:3],\n",
    "                'PPTN'   : globals()[f'{col}FINAL']['PRECIPITATION'].to_list()[:3]\n",
    "                }\n",
    "\n",
    "        # this creates [ (\"Apples\", \"2015\"), (\"Apples\", \"2016\"), (\"Apples\", \"2017\"), (\"Pears\", \"2015), ... ]\n",
    "        x = [ (tdat, tval) for tdat in tdata for tval in tvalue ]\n",
    "        counts = sum(zip(data['PM10'], data['PM2.5'], data['CO'], data['C'], data['PPTN']), ()) # like an hstack\n",
    "\n",
    "        source = ColumnDataSource(data=dict(x=x, counts=counts))\n",
    "\n",
    "        globals()[f'{col}p'] = figure(\n",
    "            x_range=FactorRange(*x), \n",
    "            plot_height=400,\n",
    "            plot_width=400, \n",
    "            title= f\"Change in {col} for the last three days\",\n",
    "            toolbar_location= 'left',\n",
    "            tools=\"xwheel_pan, reset, hover\"\n",
    "            )\n",
    "\n",
    "        globals()[f'{col}p'].vbar(x='x', top='counts', width=0.9, source=source)\n",
    "        globals()[f'{col}p'].y_range = Range1d(0, 45, bounds='auto')\t# y축 고정\n",
    "\n",
    "        globals()[f'{col}p'].y_range.start = 0\n",
    "        globals()[f'{col}p'].x_range.range_padding = 0.01\n",
    "        globals()[f'{col}p'].xaxis.major_label_orientation = 1\n",
    "        #p.xgrid.grid_line_color = None\n",
    "        globals()[f'{col}p'].add_tools(PanTool(dimensions=\"width\"))\n",
    "        globals()[f'{col}cb_op'] = ['open','high','low','close']\n",
    "        globals()[f'{col}cb'] = CheckboxButtonGroup(labels=globals()[f'{col}cb_op'], active=[0], button_type=\"success\")\n",
    "\n",
    "        # 3개 병합\n",
    "        # globals()[f'{column}G']= column(\n",
    "        #                             column(row(globals()[f'{column}ap'],globals()[f'{column}p'])),\n",
    "        #                             row(column(globals()[f'{column}data_table'])))\n",
    "        # #show(checkbox_grp)\n",
    "        #show(ap)\n",
    "        #show(scatter)\n",
    "        #show(data_table)\n",
    "        #show(layout_with_widgets)\n",
    "        #save(obj=layout_with_widgets, filename= f'{column}.html')\n",
    "        #webbrowser.open('layout_with_widgets.html')\n",
    "        #break    \n",
    "\n",
    "\n"
   ]
  },
  {
   "cell_type": "code",
   "execution_count": 144,
   "metadata": {},
   "outputs": [],
   "source": [
    "\n",
    "make_graphs()\n",
    "reset_output()"
   ]
  },
  {
   "cell_type": "code",
   "execution_count": 145,
   "metadata": {},
   "outputs": [
    {
     "output_type": "stream",
     "name": "stderr",
     "text": [
      "C:\\Users\\ad\\miniconda3\\lib\\site-packages\\bokeh\\io\\saving.py:126: UserWarning: save() called but no resources were supplied and output_file(...) was never called, defaulting to resources.CDN\n  warn(\"save() called but no resources were supplied and output_file(...) was never called, defaulting to resources.CDN\")\nC:\\Users\\ad\\miniconda3\\lib\\site-packages\\bokeh\\io\\saving.py:139: UserWarning: save() called but no title was supplied and output_file(...) was never called, using default title 'Bokeh Plot'\n  warn(\"save() called but no title was supplied and output_file(...) was never called, using default title 'Bokeh Plot'\")\n"
     ]
    },
    {
     "output_type": "execute_result",
     "data": {
      "text/plain": [
       "'c:\\\\Users\\\\ad\\\\Desktop\\\\ByunUiHyeok\\\\Development\\\\Project\\\\Data Analysis\\\\1.미세먼지\\\\Back\\\\SEJONGPM25.html'"
      ]
     },
     "metadata": {},
     "execution_count": 145
    }
   ],
   "source": [
    "layout_with_widgets_SEOUL = column(\n",
    "                            column(row(SEOULap,SEOULp)),\n",
    "                            row(column(SEOULdata_table)))\n",
    "#show(layout_with_widgets)\n",
    "#show(DEAGUdata_table)\n",
    "save(obj=layout_with_widgets_SEOUL, filename= 'SEOULPM25.html')\n",
    "\n",
    "layout_with_widgets_PUSAN = column(\n",
    "                            column(row(PUSANap,PUSANp)),\n",
    "                            row(column(PUSANdata_table)))\n",
    "#show(layout_with_widgets)\n",
    "#show(DEAGUdata_table)\n",
    "save(obj=layout_with_widgets_PUSAN, filename= 'PUSANPM25.html')\n",
    "\n",
    "\n",
    "layout_with_widgets_DEAGU = column(\n",
    "                            column(row(DEAGUap,DEAGUp)),\n",
    "                            row(column(DEAGUdata_table)))\n",
    "#show(layout_with_widgets)\n",
    "#show(DEAGUdata_table)\n",
    "save(obj=layout_with_widgets_DEAGU, filename= 'DEAGUPM25.html')\n",
    "\n",
    "layout_with_widgets_INCHEON = column(\n",
    "                            column(row(INCHEONap,INCHEONp)),\n",
    "                            row(column(INCHEONdata_table)))\n",
    "#show(layout_with_widgets)\n",
    "#show(INCHEONdata_table)\n",
    "save(obj=layout_with_widgets_INCHEON, filename= 'INCHEONPM25.html')\n",
    "\n",
    "layout_with_widgets_KWANG_JU = column(\n",
    "                            column(row(KWANG_JUap,KWANG_JUp)),\n",
    "                            row(column(KWANG_JUdata_table)))\n",
    "#show(layout_with_widgets)\n",
    "#show(KWANG_JUdata_table)\n",
    "save(obj=layout_with_widgets_KWANG_JU, filename= 'KWANG_JUPM25.html')\n",
    "\n",
    "layout_with_widgets_DAEJEON = column(\n",
    "                            column(row(DAEJEONap,DAEJEONp)),\n",
    "                            row(column(DAEJEONdata_table)))\n",
    "#show(layout_with_widgets)\n",
    "#show(DAEJEONdata_table)\n",
    "save(obj=layout_with_widgets_DAEJEON, filename= 'DAEJEONPM25.html')\n",
    "\n",
    "layout_with_widgets_ULSAN = column(\n",
    "                            column(row(ULSANap,ULSANp)),\n",
    "                            row(column(ULSANdata_table)))\n",
    "#show(layout_with_widgets)\n",
    "#show(ULSANdata_table)\n",
    "save(obj=layout_with_widgets_ULSAN, filename= 'ULSANPM25.html')\n",
    "\n",
    "layout_with_widgets_KYEONG_GI = column(\n",
    "                            column(row(KYEONG_GIap,KYEONG_GIp)),\n",
    "                            row(column(KYEONG_GIdata_table)))\n",
    "#show(layout_with_widgets)\n",
    "#show(KYEONG_GIdata_table)\n",
    "save(obj=layout_with_widgets_KYEONG_GI, filename= 'KYEONG_GIPM25.html')\n",
    "\n",
    "layout_with_widgets_KANGONE = column(\n",
    "                            column(row(KANGONEap,KANGONEp)),\n",
    "                            row(column(KANGONEdata_table)))\n",
    "#show(layout_with_widgets)\n",
    "#show(KANGONEdata_table)\n",
    "save(obj=layout_with_widgets_KANGONE, filename= 'KANGONEPM25.html')\n",
    "\n",
    "layout_with_widgets_CHUNG_BUK = column(\n",
    "                            column(row(CHUNG_BUKap,CHUNG_BUKp)),\n",
    "                            row(column(CHUNG_BUKdata_table)))\n",
    "#show(layout_with_widgets)\n",
    "#show(CHUNG_BUKdata_table)\n",
    "save(obj=layout_with_widgets_CHUNG_BUK, filename= 'CHUNG_BUKPM25.html')\n",
    "\n",
    "layout_with_widgets_CHUNG_NAM = column(\n",
    "                            column(row(CHUNG_NAMap,CHUNG_NAMp)),\n",
    "                            row(column(CHUNG_NAMdata_table)))\n",
    "#show(layout_with_widgets)\n",
    "#show(CHUNG_NAMdata_table)\n",
    "save(obj=layout_with_widgets_CHUNG_NAM, filename= 'CHUNG_NAMPM25.html')\n",
    "\n",
    "layout_with_widgets_JEON_BUK = column(\n",
    "                            column(row(JEON_BUKap,JEON_BUKp)),\n",
    "                            row(column(JEON_BUKdata_table)))\n",
    "#show(layout_with_widgets)\n",
    "#show(JEON_BUKdata_table)\n",
    "save(obj=layout_with_widgets_JEON_BUK, filename= 'JEON_BUKPM25.html')\n",
    "\n",
    "layout_with_widgets_JEON_NAM = column(\n",
    "                            column(row(JEON_NAMap,JEON_NAMp)),\n",
    "                            row(column(JEON_NAMdata_table)))\n",
    "#show(layout_with_widgets)\n",
    "#show(JEON_NAMdata_table)\n",
    "save(obj=layout_with_widgets_JEON_NAM, filename= 'JEON_NAMPM25.html')\n",
    "\n",
    "layout_with_widgets_KYUNG_BUK = column(\n",
    "                            column(row(KYUNG_BUKap,KYUNG_BUKp)),\n",
    "                            row(column(KYUNG_BUKdata_table)))\n",
    "#show(layout_with_widgets)\n",
    "#show(KYUNG_BUKdata_table)\n",
    "save(obj=layout_with_widgets_KYUNG_BUK, filename= 'KYUNG_BUKPM25.html')\n",
    "\n",
    "layout_with_widgets_KYUNG_NAM = column(\n",
    "                            column(row(KYUNG_NAMap,KYUNG_NAMp)),\n",
    "                            row(column(KYUNG_NAMdata_table)))\n",
    "#show(layout_with_widgets)\n",
    "#show(KYUNG_NAMdata_table)\n",
    "save(obj=layout_with_widgets_KYUNG_NAM, filename= 'KYUNG_NAMPM25.html')\n",
    "\n",
    "layout_with_widgets_JE_JU = column(\n",
    "                            column(row(JE_JUap,JE_JUp)),\n",
    "                            row(column(JE_JUdata_table)))\n",
    "#show(layout_with_widgets)\n",
    "#show(JE_JUdata_table)\n",
    "save(obj=layout_with_widgets_JE_JU, filename= 'JE_JUPM25.html')\n",
    "\n",
    "layout_with_widgets_SEJONG = column(\n",
    "                            column(row(SEJONGap,SEJONGp)),\n",
    "                            row(column(SEJONGdata_table)))\n",
    "#show(layout_with_widgets)\n",
    "#show(SEJONGdata_table)\n",
    "save(obj=layout_with_widgets_SEJONG, filename= 'SEJONGPM25.html')"
   ]
  },
  {
   "cell_type": "code",
   "execution_count": 146,
   "metadata": {},
   "outputs": [
    {
     "output_type": "execute_result",
     "data": {
      "text/plain": [
       "True"
      ]
     },
     "metadata": {},
     "execution_count": 146
    }
   ],
   "source": [
    "webbrowser.open('JEON_BUKPM25.html')"
   ]
  },
  {
   "cell_type": "code",
   "execution_count": null,
   "metadata": {},
   "outputs": [],
   "source": []
  },
  {
   "cell_type": "code",
   "execution_count": 147,
   "metadata": {},
   "outputs": [
    {
     "output_type": "stream",
     "name": "stdout",
     "text": [
      "C:/Users/ad/Desktop/test/fin/SEOULFIN.xlsx\n",
      "C:/Users/ad/Desktop/test/fin/PUSANFIN.xlsx\n",
      "C:/Users/ad/Desktop/test/fin/DEAGUFIN.xlsx\n",
      "C:/Users/ad/Desktop/test/fin/INCHEONFIN.xlsx\n",
      "C:/Users/ad/Desktop/test/fin/KWANG_JUFIN.xlsx\n",
      "C:/Users/ad/Desktop/test/fin/DAEJEONFIN.xlsx\n",
      "C:/Users/ad/Desktop/test/fin/ULSANFIN.xlsx\n",
      "C:/Users/ad/Desktop/test/fin/KYEONG_GIFIN.xlsx\n",
      "C:/Users/ad/Desktop/test/fin/KANGONEFIN.xlsx\n",
      "C:/Users/ad/Desktop/test/fin/CHUNG_BUKFIN.xlsx\n",
      "C:/Users/ad/Desktop/test/fin/CHUNG_NAMFIN.xlsx\n",
      "C:/Users/ad/Desktop/test/fin/JEON_BUKFIN.xlsx\n",
      "C:/Users/ad/Desktop/test/fin/JEON_NAMFIN.xlsx\n",
      "C:/Users/ad/Desktop/test/fin/KYUNG_BUKFIN.xlsx\n",
      "C:/Users/ad/Desktop/test/fin/KYUNG_NAMFIN.xlsx\n",
      "C:/Users/ad/Desktop/test/fin/JE_JUFIN.xlsx\n",
      "C:/Users/ad/Desktop/test/fin/SEJONGFIN.xlsx\n"
     ]
    }
   ],
   "source": [
    "import pandas as pd \n",
    "import numpy as np\n",
    "import bokeh\n",
    "import webbrowser\n",
    "from bokeh.io import output_notebook, show, save, output_notebook, curdoc, output_file\n",
    "from bokeh.plotting import figure, show\n",
    "from bokeh.models import Select, CheckboxButtonGroup, ColumnDataSource, DataTable, TableColumn, WMTSTileSource, FactorRange, PanTool\n",
    "from bokeh.models import BoxZoomTool, PanTool, ResetTool\n",
    "from bokeh.layouts import row, column\n",
    "from bokeh import layouts\n",
    "from bokeh.resources import INLINE\n",
    "from bokeh.models import *\n",
    "from bokeh.plotting import *\n",
    "from bokeh.io import *\n",
    "from bokeh.tile_providers import *\n",
    "from bokeh.palettes import *\n",
    "from bokeh.transform import *\n",
    "from bokeh.layouts import *\n",
    "from bokeh.models import HoverTool\n",
    "\n",
    "# 최종파일 오픈 최종\n",
    "\n",
    "def finalopen(a):\n",
    "    filepath = f'C:/Users/ad/Desktop/test/fin/{a}FIN.xlsx'\n",
    "    excel_df = pd.read_excel(filepath)\n",
    "    print (filepath)\n",
    "    return(excel_df)\n",
    "    \n",
    "columnss = ['SEOUL', 'PUSAN', 'DEAGU', 'INCHEON', 'KWANG_JU', 'DAEJEON', 'ULSAN',\n",
    "       'KYEONG_GI', 'KANGONE', 'CHUNG_BUK', 'CHUNG_NAM', 'JEON_BUK',\n",
    "       'JEON_NAM', 'KYUNG_BUK', 'KYUNG_NAM', 'JE_JU', 'SEJONG']\n",
    "for col in columnss:\n",
    "     globals()[f'{col}FINAL'] = finalopen(col)\n",
    "     globals()[f'{col}FINAL_cop'] = globals()[f'{col}FINAL'].copy()\n",
    "     globals()[f'{col}FINAL_cop']['DATE'] = pd.to_datetime(globals()[f'{col}FINAL_cop']['DATE'])\n",
    "\n",
    "\n",
    "# 최종파일 오픈 최종\n",
    "\n",
    "def make_graphs():\n",
    "\n",
    "    columnss = ['SEOUL', 'PUSAN', 'DEAGU', 'INCHEON', 'KWANG_JU', 'DAEJEON', 'ULSAN',\n",
    "       'KYEONG_GI', 'KANGONE', 'CHUNG_BUK', 'CHUNG_NAM', 'JEON_BUK',\n",
    "       'JEON_NAM', 'KYUNG_BUK', 'KYUNG_NAM', 'JE_JU', 'SEJONG']\n",
    "\n",
    "    for col in columnss:\n",
    "        globals()[f'{col}FINAL_cop'] =globals()[f'{col}FINAL'].copy()\n",
    "        globals()[f'{col}FINAL_cop']['DATE'] = pd.to_datetime(globals()[f'{col}FINAL_cop']['DATE'])\n",
    "        # 라인그래프\n",
    "        globals()[f'{col}ap'] = figure(\n",
    "            plot_width=450, plot_height=400, \n",
    "            x_axis_type='datetime', output_backend=\"svg\",\n",
    "            sizing_mode='stretch_width', title=f\"{col}'s PM 10\",\n",
    "            tools = \"pan,wheel_zoom,box_zoom,reset,hover,save\",\n",
    "            toolbar_location=\"right\")\n",
    "\n",
    "        #globals()[f'{col}ap'].line(globals()[f'{col}FINAL_cop']['DATE'], globals()[f'{col}FINAL_cop']['PM10'], color='red', alpha=0.5)\n",
    "        globals()[f'{col}ap'].line(globals()[f'{col}FINAL_cop']['DATE'], globals()[f'{col}FINAL_cop']['PM10'], color='navy', alpha=0.5, legend_label = 'PM10')\n",
    "        # 표\n",
    "        source = ColumnDataSource(globals()[f'{col}FINAL'])\n",
    "        columns = [ TableColumn( field=col, title=col ) for col in globals()[f'{col}FINAL'].columns ]\n",
    "        globals()[f'{col}data_table'] = DataTable(source=source, columns = columns, background='red',width=800,sizing_mode='scale_both' )\n",
    "\n",
    "\n",
    "        # 3일 평균\n",
    "        tdata = globals()[f'{col}FINAL']['DATE'].to_list()[:3]\n",
    "        tvalue = globals()[f'{col}FINAL'][['PM10','PM2.5','CO','CENTIGRADE','PRECIPITATION']][:3]\n",
    "\n",
    "        data = {\n",
    "                'PM10'   : globals()[f'{col}FINAL']['PM10'].to_list()[:3],\n",
    "                'PM2.5'  : globals()[f'{col}FINAL']['PM2.5'].to_list()[:3],\n",
    "                'CO'     : globals()[f'{col}FINAL']['CO'].to_list()[:3],\n",
    "                'C'      : globals()[f'{col}FINAL']['CENTIGRADE'].to_list()[:3],\n",
    "                'PPTN'   : globals()[f'{col}FINAL']['PRECIPITATION'].to_list()[:3]\n",
    "                }\n",
    "\n",
    "        # this creates [ (\"Apples\", \"2015\"), (\"Apples\", \"2016\"), (\"Apples\", \"2017\"), (\"Pears\", \"2015), ... ]\n",
    "        x = [ (tdat, tval) for tdat in tdata for tval in tvalue ]\n",
    "        counts = sum(zip(data['PM10'], data['PM2.5'], data['CO'], data['C'], data['PPTN']), ()) # like an hstack\n",
    "\n",
    "        source = ColumnDataSource(data=dict(x=x, counts=counts))\n",
    "\n",
    "        globals()[f'{col}p'] = figure(\n",
    "            x_range=FactorRange(*x), \n",
    "            plot_height=400,\n",
    "            plot_width=400, \n",
    "            title= f\"Change in {col} for the last three days\",\n",
    "            toolbar_location='left',\n",
    "            tools=\"xwheel_pan, reset, hover\"\n",
    "            )\n",
    "        \n",
    "        globals()[f'{col}p'].y_range = Range1d(0, 45, bounds='auto')\t# y축 고정\n",
    "        globals()[f'{col}p'].vbar(x='x', top='counts', width=0.9, source=source)\n",
    "\n",
    "        globals()[f'{col}p'].y_range.start = 0\n",
    "        globals()[f'{col}p'].x_range.range_padding = 0.01\n",
    "        globals()[f'{col}p'].xaxis.major_label_orientation = 1\n",
    "        #p.xgrid.grid_line_color = None\n",
    "        globals()[f'{col}p'].add_tools(PanTool(dimensions=\"width\"))\n",
    "        globals()[f'{col}cb_op'] = ['open','high','low','close']\n",
    "        globals()[f'{col}cb'] = CheckboxButtonGroup(labels=globals()[f'{col}cb_op'], active=[0], button_type=\"success\")\n",
    "\n",
    "        # 3개 병합\n",
    "        # globals()[f'{column}G']= column(\n",
    "        #                             column(row(globals()[f'{column}ap'],globals()[f'{column}p'])),\n",
    "        #                             row(column(globals()[f'{column}data_table'])))\n",
    "        # #show(checkbox_grp)\n",
    "        #show(ap)\n",
    "        #show(scatter)\n",
    "        #show(data_table)\n",
    "        #show(layout_with_widgets)\n",
    "        #save(obj=layout_with_widgets, filename= f'{column}.html')\n",
    "        #webbrowser.open('layout_with_widgets.html')\n",
    "        #break    \n",
    "\n",
    "\n"
   ]
  },
  {
   "cell_type": "code",
   "execution_count": 148,
   "metadata": {},
   "outputs": [],
   "source": [
    "make_graphs()\n",
    "for i in columnss:\n",
    "    globals()[f'layout_with_widgets_{i}10'] = column(   column(row(globals()[f'{i}ap'],globals()[f'{i}p'])),\n",
    "                                                        row(column(globals()[f'{i}data_table'])))\n",
    "    save(obj=globals()[f'layout_with_widgets_{i}10'], filename= f'{i}PM10.html')"
   ]
  },
  {
   "cell_type": "code",
   "execution_count": 149,
   "metadata": {},
   "outputs": [
    {
     "output_type": "execute_result",
     "data": {
      "text/plain": [
       "True"
      ]
     },
     "metadata": {},
     "execution_count": 149
    }
   ],
   "source": [
    "make_graphs()\n",
    "reset_output()\n",
    "webbrowser.open('JEON_BUKPM10.html')"
   ]
  },
  {
   "cell_type": "code",
   "execution_count": 150,
   "metadata": {},
   "outputs": [
    {
     "output_type": "stream",
     "name": "stdout",
     "text": [
      "C:/Users/ad/Desktop/test/fin/SEOULFIN.xlsx\n",
      "C:/Users/ad/Desktop/test/fin/PUSANFIN.xlsx\n",
      "C:/Users/ad/Desktop/test/fin/DEAGUFIN.xlsx\n",
      "C:/Users/ad/Desktop/test/fin/INCHEONFIN.xlsx\n",
      "C:/Users/ad/Desktop/test/fin/KWANG_JUFIN.xlsx\n",
      "C:/Users/ad/Desktop/test/fin/DAEJEONFIN.xlsx\n",
      "C:/Users/ad/Desktop/test/fin/ULSANFIN.xlsx\n",
      "C:/Users/ad/Desktop/test/fin/KYEONG_GIFIN.xlsx\n",
      "C:/Users/ad/Desktop/test/fin/KANGONEFIN.xlsx\n",
      "C:/Users/ad/Desktop/test/fin/CHUNG_BUKFIN.xlsx\n",
      "C:/Users/ad/Desktop/test/fin/CHUNG_NAMFIN.xlsx\n",
      "C:/Users/ad/Desktop/test/fin/JEON_BUKFIN.xlsx\n",
      "C:/Users/ad/Desktop/test/fin/JEON_NAMFIN.xlsx\n",
      "C:/Users/ad/Desktop/test/fin/KYUNG_BUKFIN.xlsx\n",
      "C:/Users/ad/Desktop/test/fin/KYUNG_NAMFIN.xlsx\n",
      "C:/Users/ad/Desktop/test/fin/JE_JUFIN.xlsx\n",
      "C:/Users/ad/Desktop/test/fin/SEJONGFIN.xlsx\n"
     ]
    }
   ],
   "source": [
    "import pandas as pd \n",
    "import numpy as np\n",
    "import bokeh\n",
    "import webbrowser\n",
    "from bokeh.io import output_notebook, show, save, output_notebook, curdoc, output_file\n",
    "from bokeh.plotting import figure, show\n",
    "from bokeh.models import Select, CheckboxButtonGroup, ColumnDataSource, DataTable, TableColumn, WMTSTileSource, FactorRange, PanTool\n",
    "from bokeh.models import BoxZoomTool, PanTool, ResetTool\n",
    "from bokeh.layouts import row, column\n",
    "from bokeh import layouts\n",
    "from bokeh.resources import INLINE\n",
    "from bokeh.models import *\n",
    "from bokeh.plotting import *\n",
    "from bokeh.io import *\n",
    "from bokeh.tile_providers import *\n",
    "from bokeh.palettes import *\n",
    "from bokeh.transform import *\n",
    "from bokeh.layouts import *\n",
    "from bokeh.models import HoverTool\n",
    "\n",
    "\n",
    "# 최종파일 오픈 최종\n",
    "\n",
    "def finalopen(a):\n",
    "    filepath = f'C:/Users/ad/Desktop/test/fin/{a}FIN.xlsx'\n",
    "    excel_df = pd.read_excel(filepath)\n",
    "    print (filepath)\n",
    "    return(excel_df)\n",
    "    \n",
    "columnss = ['SEOUL', 'PUSAN', 'DEAGU', 'INCHEON', 'KWANG_JU', 'DAEJEON', 'ULSAN',\n",
    "       'KYEONG_GI', 'KANGONE', 'CHUNG_BUK', 'CHUNG_NAM', 'JEON_BUK',\n",
    "       'JEON_NAM', 'KYUNG_BUK', 'KYUNG_NAM', 'JE_JU', 'SEJONG']\n",
    "for col in columnss:\n",
    "     globals()[f'{col}FINAL'] = finalopen(col)\n",
    "     globals()[f'{col}FINAL_cop'] = globals()[f'{col}FINAL'].copy()\n",
    "     globals()[f'{col}FINAL_cop']['DATE'] = pd.to_datetime(globals()[f'{col}FINAL_cop']['DATE'])\n",
    "\n",
    "\n",
    "# 최종파일 오픈 최종\n",
    "\n",
    "def make_graphs():\n",
    "\n",
    "\n",
    "\n",
    "    columnss = ['SEOUL', 'PUSAN', 'DEAGU', 'INCHEON', 'KWANG_JU', 'DAEJEON', 'ULSAN',\n",
    "       'KYEONG_GI', 'KANGONE', 'CHUNG_BUK', 'CHUNG_NAM', 'JEON_BUK',\n",
    "       'JEON_NAM', 'KYUNG_BUK', 'KYUNG_NAM', 'JE_JU', 'SEJONG']\n",
    "\n",
    "    for col in columnss:\n",
    "        globals()[f'{col}FINAL_cop'] =globals()[f'{col}FINAL'].copy()\n",
    "        globals()[f'{col}FINAL_cop']['DATE'] = pd.to_datetime(globals()[f'{col}FINAL_cop']['DATE'])\n",
    "        # 라인그래프\n",
    "        globals()[f'{col}ap'] = figure(\n",
    "            plot_width=450, plot_height=400, \n",
    "            x_axis_type='datetime', output_backend=\"svg\",\n",
    "            sizing_mode='stretch_width', title=f\"{col}'s compare\",\n",
    "            toolbar_location=\"right\",\n",
    "            tools = \"pan,wheel_zoom,box_zoom,reset,hover,save\")\n",
    "\n",
    "        globals()[f'{col}ap'].line(globals()[f'{col}FINAL_cop']['DATE'], globals()[f'{col}FINAL_cop']['PM10'], color='red', alpha=0.8, legend_label = 'PM10')\n",
    "        globals()[f'{col}ap'].line(globals()[f'{col}FINAL_cop']['DATE'], globals()[f'{col}FINAL_cop']['PM2.5'], color='orange', alpha=0.7, legend_label = 'PM2.5')\n",
    "        globals()[f'{col}ap'].line(globals()[f'{col}FINAL_cop']['DATE'], globals()[f'{col}FINAL_cop']['CO'], color='pink', alpha=0.6, legend_label = 'CO')\n",
    "        globals()[f'{col}ap'].line(globals()[f'{col}FINAL_cop']['DATE'], globals()[f'{col}FINAL_cop']['NO2'], color='green', alpha=0.5, legend_label = 'NO2')\n",
    "        globals()[f'{col}ap'].line(globals()[f'{col}FINAL_cop']['DATE'], globals()[f'{col}FINAL_cop']['O3'], color='blue', alpha=0.5, legend_label = 'O3')\n",
    "        globals()[f'{col}ap'].line(globals()[f'{col}FINAL_cop']['DATE'], globals()[f'{col}FINAL_cop']['SO2'], color='navy', alpha=0.5, legend_label = 'SO2')\n",
    "\n",
    "        #globals()[f'{col}ap'].y_range = Range1d(0, 50, bounds='auto')\t# y축 고정\n",
    "\n",
    "        # 표\n",
    "        source = ColumnDataSource(globals()[f'{col}FINAL'])\n",
    "        columns = [ TableColumn( field=col, title=col ) for col in globals()[f'{col}FINAL'].columns ]\n",
    "        globals()[f'{col}data_table'] = DataTable(source=source, columns = columns, background='red',width=800,sizing_mode='scale_both')\n",
    "\n",
    "\n",
    "        # 3일 평균\n",
    "        tdata = globals()[f'{col}FINAL']['DATE'].to_list()[:3]\n",
    "        tvalue = globals()[f'{col}FINAL'][['PM10','PM2.5','CO','CENTIGRADE','PRECIPITATION']][:3]\n",
    "\n",
    "        data = {\n",
    "                'PM10'   : globals()[f'{col}FINAL']['PM10'].to_list()[:3],\n",
    "                'PM2.5'  : globals()[f'{col}FINAL']['PM2.5'].to_list()[:3],\n",
    "                'CO'     : globals()[f'{col}FINAL']['CO'].to_list()[:3],\n",
    "                'C'      : globals()[f'{col}FINAL']['CENTIGRADE'].to_list()[:3],\n",
    "                'PPTN'   : globals()[f'{col}FINAL']['PRECIPITATION'].to_list()[:3]\n",
    "                }\n",
    "\n",
    "        # this creates [ (\"Apples\", \"2015\"), (\"Apples\", \"2016\"), (\"Apples\", \"2017\"), (\"Pears\", \"2015), ... ]\n",
    "        x = [ (tdat, tval) for tdat in tdata for tval in tvalue ]\n",
    "        counts = sum(zip(data['PM10'], data['PM2.5'], data['CO'], data['C'], data['PPTN']), ()) # like an hstack\n",
    "\n",
    "        source = ColumnDataSource(data=dict(x=x, counts=counts))\n",
    "\n",
    "        globals()[f'{col}p'] = figure(\n",
    "            x_range=FactorRange(*x), \n",
    "            plot_height=400,\n",
    "            plot_width=400, \n",
    "            title= f\"Change in {col} for the last three days\",\n",
    "            toolbar_location='left',\n",
    "            tools=\"xwheel_pan, reset, hover\"\n",
    "            )\n",
    "\n",
    "        globals()[f'{col}p'].vbar(x='x', top='counts', width=0.9, source=source)\n",
    "\n",
    "        globals()[f'{col}p'].y_range.start = 0\n",
    "        globals()[f'{col}p'].x_range.range_padding = 0.01\n",
    "        globals()[f'{col}p'].xaxis.major_label_orientation = 1\n",
    "        #p.xgrid.grid_line_color = None\n",
    "        globals()[f'{col}p'].add_tools(PanTool(dimensions=\"width\"))\n",
    "        globals()[f'{col}cb_op'] = ['open','high','low','close']\n",
    "        globals()[f'{col}cb'] = CheckboxButtonGroup(labels=globals()[f'{col}cb_op'], active=[0], button_type=\"success\")\n",
    "\n",
    "        # 3개 병합\n",
    "        # globals()[f'{column}G']= column(\n",
    "        #                             column(row(globals()[f'{column}ap'],globals()[f'{column}p'])),\n",
    "        #                             row(column(globals()[f'{column}data_table'])))\n",
    "        # #show(checkbox_grp)\n",
    "        #show(ap)\n",
    "        #show(scatter)\n",
    "        #show(data_table)\n",
    "        #show(layout_with_widgets)\n",
    "        #save(obj=layout_with_widgets, filename= f'{column}.html')\n",
    "        #webbrowser.open('layout_with_widgets.html')\n",
    "        #break    \n",
    "\n",
    "\n"
   ]
  },
  {
   "cell_type": "code",
   "execution_count": 151,
   "metadata": {},
   "outputs": [],
   "source": [
    "make_graphs()\n",
    "for i in columnss:\n",
    "    globals()[f'layout_with_widgets_{i}cpa'] = column(   column(row(globals()[f'{i}ap'],globals()[f'{i}p'])),\n",
    "                                                        row(column(globals()[f'{i}data_table'])))\n",
    "    save(obj=globals()[f'layout_with_widgets_{i}cpa'], filename= f'{i}cpa.html')"
   ]
  },
  {
   "cell_type": "code",
   "execution_count": 152,
   "metadata": {},
   "outputs": [
    {
     "output_type": "execute_result",
     "data": {
      "text/plain": [
       "True"
      ]
     },
     "metadata": {},
     "execution_count": 152
    }
   ],
   "source": [
    "reset_output()\n",
    "webbrowser.open('JEON_BUKPMcap.html')"
   ]
  },
  {
   "cell_type": "code",
   "execution_count": 197,
   "metadata": {},
   "outputs": [],
   "source": [
    "from bokeh.models import HoverTool\n",
    "hover = HoverTool(\n",
    "    tooltips=[\n",
    "        (\"x\", \"$x\"),(\"value\",\"$y\"),(\"x\",\"@x\"),(\"des\", \"@des\"),(\"index\",\"$index\"),(\"X,Y\", \"$x,$y\")\n",
    "    ]\n",
    "\n",
    ")\n",
    "\n",
    "\n",
    "a2p = figure( plot_width=450, plot_height=400, x_axis_type='datetime', output_backend=\"svg\", sizing_mode='stretch_width', title=\"Test\",y_minor_ticks =10,toolbar_location='left',tools=[hover] )\n",
    "ss  =  ColumnDataSource(\n",
    "    data=dict(\n",
    "        x     = b.index,\n",
    "        y     = b['PM10'],\n",
    "        des   = b.index))\n",
    "\n",
    "\n",
    "a2p.line(PUSANFINAL_cop['DATE'], PUSANFINAL_cop['PM10'], color='red', alpha=0.1, legend_label = 'PM10',)\n",
    "a2p.line(PUSANFINAL_cop['DATE'], PUSANFINAL_cop['PM2.5'], color='orange', alpha=0.7, legend_label = 'PM2.5')\n",
    "a2p.line(PUSANFINAL_cop['DATE'], PUSANFINAL_cop['CO'], color='pink', alpha=0.6, legend_label = 'CO')\n",
    "a2p.line(PUSANFINAL_cop['DATE'], PUSANFINAL_cop['NO2'], color='green', alpha=0.5, legend_label = 'NO2')\n",
    "a2p.line(PUSANFINAL_cop['DATE'], PUSANFINAL_cop['O3'], color='blue', alpha=0.5, legend_label = 'O3')\n",
    "a2p.line(PUSANFINAL_cop['DATE'], PUSANFINAL_cop['SO2'], color='navy', alpha=0.5, legend_label = 'SO2')\n",
    "a2p.xgrid.grid_line_color='blue'\n",
    "a2p.xgrid.grid_line_alpha= 0.5\n",
    "a2p.ygrid.grid_line_alpha= 0\n",
    "a2p.xaxis.axis_label = 'x축 라인이름'\n",
    "a2p.yaxis.axis_label = 'y축 라인이름'"
   ]
  },
  {
   "cell_type": "code",
   "execution_count": 198,
   "metadata": {},
   "outputs": [],
   "source": [
    "# a = PUSANFINAL_cop.set_index('DATE')\n",
    "# list(a.index)\n",
    "reset_output()\n",
    "show(a2p)"
   ]
  },
  {
   "cell_type": "code",
   "execution_count": 42,
   "metadata": {},
   "outputs": [],
   "source": [
    "from bokeh.plotting import figure, output_file, show\n",
    "\n",
    "p = figure(title=\"Basic Title\", plot_width=300, plot_height=300)\n",
    "p.circle([1,2], [3,4])\n",
    "\n",
    "output_file(\"title.html\")\n",
    "\n",
    "show(p)"
   ]
  },
  {
   "cell_type": "code",
   "execution_count": 188,
   "metadata": {},
   "outputs": [
    {
     "output_type": "execute_result",
     "data": {
      "text/plain": [
       "DATE\n",
       "2021-06-22    31.0\n",
       "2021-06-21    36.0\n",
       "2021-06-20    36.0\n",
       "2021-06-19    25.0\n",
       "2021-06-18    17.0\n",
       "              ... \n",
       "2020-04-03    48.0\n",
       "2020-04-02    56.0\n",
       "2020-04-02    56.0\n",
       "2020-04-01    44.0\n",
       "2020-04-01    44.0\n",
       "Name: PM10, Length: 723, dtype: float64"
      ]
     },
     "metadata": {},
     "execution_count": 188
    }
   ],
   "source": [
    "b['PM10']"
   ]
  },
  {
   "cell_type": "code",
   "execution_count": 152,
   "metadata": {},
   "outputs": [
    {
     "output_type": "error",
     "ename": "TypeError",
     "evalue": "'str' object is not callable",
     "traceback": [
      "\u001b[1;31m---------------------------------------------------------------------------\u001b[0m",
      "\u001b[1;31mTypeError\u001b[0m                                 Traceback (most recent call last)",
      "\u001b[1;32m<ipython-input-152-62a811d90361>\u001b[0m in \u001b[0;36m<module>\u001b[1;34m\u001b[0m\n\u001b[1;32m----> 1\u001b[1;33m \u001b[0ma\u001b[0m \u001b[1;33m=\u001b[0m \u001b[0mPUSANFINAL_cop\u001b[0m\u001b[1;33m.\u001b[0m\u001b[0mset_index\u001b[0m\u001b[1;33m(\u001b[0m\u001b[1;34m'DATE'\u001b[0m\u001b[1;33m)\u001b[0m\u001b[1;33m\u001b[0m\u001b[1;33m\u001b[0m\u001b[0m\n\u001b[0m\u001b[0;32m      2\u001b[0m \u001b[0ma\u001b[0m\u001b[1;33m\u001b[0m\u001b[1;33m\u001b[0m\u001b[0m\n",
      "\u001b[1;31mTypeError\u001b[0m: 'str' object is not callable"
     ]
    }
   ],
   "source": [
    "\n",
    "\n",
    "a = PUSANFINAL_cop.set_index('DATE')\n",
    "a"
   ]
  },
  {
   "cell_type": "code",
   "execution_count": 157,
   "metadata": {},
   "outputs": [
    {
     "output_type": "error",
     "ename": "TypeError",
     "evalue": "'str' object is not callable",
     "traceback": [
      "\u001b[1;31m---------------------------------------------------------------------------\u001b[0m",
      "\u001b[1;31mTypeError\u001b[0m                                 Traceback (most recent call last)",
      "\u001b[1;32m<ipython-input-157-1d05766dbaf5>\u001b[0m in \u001b[0;36m<module>\u001b[1;34m\u001b[0m\n\u001b[1;32m----> 1\u001b[1;33m \u001b[0ma\u001b[0m \u001b[1;33m=\u001b[0m \u001b[0mPUSANFINAL_cop\u001b[0m\u001b[1;33m.\u001b[0m\u001b[0mset_index\u001b[0m\u001b[1;33m(\u001b[0m\u001b[1;34m'PM10'\u001b[0m\u001b[1;33m)\u001b[0m\u001b[1;33m\u001b[0m\u001b[1;33m\u001b[0m\u001b[0m\n\u001b[0m\u001b[0;32m      2\u001b[0m \u001b[0ma\u001b[0m\u001b[1;33m\u001b[0m\u001b[1;33m\u001b[0m\u001b[0m\n",
      "\u001b[1;31mTypeError\u001b[0m: 'str' object is not callable"
     ]
    }
   ],
   "source": [
    "a = PUSANFINAL_cop.set_index('PM10')\n",
    "a"
   ]
  },
  {
   "cell_type": "code",
   "execution_count": 160,
   "metadata": {},
   "outputs": [
    {
     "output_type": "execute_result",
     "data": {
      "text/plain": [
       "            PM10  PM2.5   CO    NO2     O3    SO2  CENTIGRADE  PRECIPITATION  \\\n",
       "DATE                                                                           \n",
       "2021-06-24    23     13  0.4  0.016  0.033  0.003        22.9            0.0   \n",
       "2021-06-23    18     10  0.3  0.015  0.041  0.003        22.9            0.0   \n",
       "2021-06-22    23     13  0.4  0.018  0.039  0.003        22.9            0.0   \n",
       "2021-06-21    41     24  0.4  0.015  0.051  0.003        22.9            0.0   \n",
       "2021-06-20    51     31  0.5  0.014  0.059  0.004        22.9            0.0   \n",
       "...          ...    ...  ...    ...    ...    ...         ...            ...   \n",
       "2020-04-05    47     22  0.4  0.015  0.038  0.003         7.2            0.0   \n",
       "2020-04-04    68     27  0.4  0.015  0.037  0.003         8.9            0.0   \n",
       "2020-04-03    56     32  0.5  0.028  0.032  0.003        10.0            0.0   \n",
       "2020-04-02    39     24  0.5  0.027  0.029  0.003         9.3            0.0   \n",
       "2020-04-01    69     30  0.5  0.020  0.041  0.004        11.3            0.0   \n",
       "\n",
       "            WIND SPEED  RELATIVE HUMIDITY  \n",
       "DATE                                       \n",
       "2021-06-24         2.8               48.0  \n",
       "2021-06-23         2.8               48.0  \n",
       "2021-06-22         2.8               48.0  \n",
       "2021-06-21         2.8               48.0  \n",
       "2021-06-20         2.8               48.0  \n",
       "...                ...                ...  \n",
       "2020-04-05         2.8               29.5  \n",
       "2020-04-04         3.4               36.4  \n",
       "2020-04-03         2.7               53.8  \n",
       "2020-04-02         2.3               41.4  \n",
       "2020-04-01         3.7               35.6  \n",
       "\n",
       "[450 rows x 10 columns]"
      ],
      "text/html": "<div>\n<style scoped>\n    .dataframe tbody tr th:only-of-type {\n        vertical-align: middle;\n    }\n\n    .dataframe tbody tr th {\n        vertical-align: top;\n    }\n\n    .dataframe thead th {\n        text-align: right;\n    }\n</style>\n<table border=\"1\" class=\"dataframe\">\n  <thead>\n    <tr style=\"text-align: right;\">\n      <th></th>\n      <th>PM10</th>\n      <th>PM2.5</th>\n      <th>CO</th>\n      <th>NO2</th>\n      <th>O3</th>\n      <th>SO2</th>\n      <th>CENTIGRADE</th>\n      <th>PRECIPITATION</th>\n      <th>WIND SPEED</th>\n      <th>RELATIVE HUMIDITY</th>\n    </tr>\n    <tr>\n      <th>DATE</th>\n      <th></th>\n      <th></th>\n      <th></th>\n      <th></th>\n      <th></th>\n      <th></th>\n      <th></th>\n      <th></th>\n      <th></th>\n      <th></th>\n    </tr>\n  </thead>\n  <tbody>\n    <tr>\n      <th>2021-06-24</th>\n      <td>23</td>\n      <td>13</td>\n      <td>0.4</td>\n      <td>0.016</td>\n      <td>0.033</td>\n      <td>0.003</td>\n      <td>22.9</td>\n      <td>0.0</td>\n      <td>2.8</td>\n      <td>48.0</td>\n    </tr>\n    <tr>\n      <th>2021-06-23</th>\n      <td>18</td>\n      <td>10</td>\n      <td>0.3</td>\n      <td>0.015</td>\n      <td>0.041</td>\n      <td>0.003</td>\n      <td>22.9</td>\n      <td>0.0</td>\n      <td>2.8</td>\n      <td>48.0</td>\n    </tr>\n    <tr>\n      <th>2021-06-22</th>\n      <td>23</td>\n      <td>13</td>\n      <td>0.4</td>\n      <td>0.018</td>\n      <td>0.039</td>\n      <td>0.003</td>\n      <td>22.9</td>\n      <td>0.0</td>\n      <td>2.8</td>\n      <td>48.0</td>\n    </tr>\n    <tr>\n      <th>2021-06-21</th>\n      <td>41</td>\n      <td>24</td>\n      <td>0.4</td>\n      <td>0.015</td>\n      <td>0.051</td>\n      <td>0.003</td>\n      <td>22.9</td>\n      <td>0.0</td>\n      <td>2.8</td>\n      <td>48.0</td>\n    </tr>\n    <tr>\n      <th>2021-06-20</th>\n      <td>51</td>\n      <td>31</td>\n      <td>0.5</td>\n      <td>0.014</td>\n      <td>0.059</td>\n      <td>0.004</td>\n      <td>22.9</td>\n      <td>0.0</td>\n      <td>2.8</td>\n      <td>48.0</td>\n    </tr>\n    <tr>\n      <th>...</th>\n      <td>...</td>\n      <td>...</td>\n      <td>...</td>\n      <td>...</td>\n      <td>...</td>\n      <td>...</td>\n      <td>...</td>\n      <td>...</td>\n      <td>...</td>\n      <td>...</td>\n    </tr>\n    <tr>\n      <th>2020-04-05</th>\n      <td>47</td>\n      <td>22</td>\n      <td>0.4</td>\n      <td>0.015</td>\n      <td>0.038</td>\n      <td>0.003</td>\n      <td>7.2</td>\n      <td>0.0</td>\n      <td>2.8</td>\n      <td>29.5</td>\n    </tr>\n    <tr>\n      <th>2020-04-04</th>\n      <td>68</td>\n      <td>27</td>\n      <td>0.4</td>\n      <td>0.015</td>\n      <td>0.037</td>\n      <td>0.003</td>\n      <td>8.9</td>\n      <td>0.0</td>\n      <td>3.4</td>\n      <td>36.4</td>\n    </tr>\n    <tr>\n      <th>2020-04-03</th>\n      <td>56</td>\n      <td>32</td>\n      <td>0.5</td>\n      <td>0.028</td>\n      <td>0.032</td>\n      <td>0.003</td>\n      <td>10.0</td>\n      <td>0.0</td>\n      <td>2.7</td>\n      <td>53.8</td>\n    </tr>\n    <tr>\n      <th>2020-04-02</th>\n      <td>39</td>\n      <td>24</td>\n      <td>0.5</td>\n      <td>0.027</td>\n      <td>0.029</td>\n      <td>0.003</td>\n      <td>9.3</td>\n      <td>0.0</td>\n      <td>2.3</td>\n      <td>41.4</td>\n    </tr>\n    <tr>\n      <th>2020-04-01</th>\n      <td>69</td>\n      <td>30</td>\n      <td>0.5</td>\n      <td>0.020</td>\n      <td>0.041</td>\n      <td>0.004</td>\n      <td>11.3</td>\n      <td>0.0</td>\n      <td>3.7</td>\n      <td>35.6</td>\n    </tr>\n  </tbody>\n</table>\n<p>450 rows × 10 columns</p>\n</div>"
     },
     "metadata": {},
     "execution_count": 160
    }
   ],
   "source": [
    "a = SEOULFINAL.set_index('DATE')\n",
    "a"
   ]
  },
  {
   "cell_type": "code",
   "execution_count": 165,
   "metadata": {},
   "outputs": [
    {
     "output_type": "execute_result",
     "data": {
      "text/plain": [
       "[Index(['2021-06-24', '2021-06-23', '2021-06-22', '2021-06-21', '2021-06-20',\n",
       "        '2021-06-19', '2021-06-18', '2021-06-17', '2021-06-16', '2021-06-15',\n",
       "        ...\n",
       "        '2020-04-10', '2020-04-09', '2020-04-08', '2020-04-07', '2020-04-06',\n",
       "        '2020-04-05', '2020-04-04', '2020-04-03', '2020-04-02', '2020-04-01'],\n",
       "       dtype='object', name='DATE', length=450)]"
      ]
     },
     "metadata": {},
     "execution_count": 165
    }
   ],
   "source": [
    "[a.index]"
   ]
  },
  {
   "cell_type": "code",
   "execution_count": 175,
   "metadata": {},
   "outputs": [
    {
     "output_type": "error",
     "ename": "TypeError",
     "evalue": "'str' object is not callable",
     "traceback": [
      "\u001b[1;31m---------------------------------------------------------------------------\u001b[0m",
      "\u001b[1;31mTypeError\u001b[0m                                 Traceback (most recent call last)",
      "\u001b[1;32m<ipython-input-175-c5d6bdb364c7>\u001b[0m in \u001b[0;36m<module>\u001b[1;34m\u001b[0m\n\u001b[1;32m----> 1\u001b[1;33m \u001b[0mb\u001b[0m \u001b[1;33m=\u001b[0m \u001b[0mDEAGUFINAL\u001b[0m\u001b[1;33m.\u001b[0m\u001b[0mset_index\u001b[0m\u001b[1;33m(\u001b[0m\u001b[1;34m'DATE'\u001b[0m\u001b[1;33m)\u001b[0m\u001b[1;33m\u001b[0m\u001b[1;33m\u001b[0m\u001b[0m\n\u001b[0m\u001b[0;32m      2\u001b[0m \u001b[0mb\u001b[0m\u001b[1;33m\u001b[0m\u001b[1;33m\u001b[0m\u001b[0m\n",
      "\u001b[1;31mTypeError\u001b[0m: 'str' object is not callable"
     ]
    }
   ],
   "source": [
    "b = DEAGUFINAL.set_index('DATE')\n",
    "b"
   ]
  },
  {
   "cell_type": "code",
   "execution_count": 184,
   "metadata": {},
   "outputs": [],
   "source": [
    "b = JE_JUFINAL.set_index('DATE')"
   ]
  },
  {
   "cell_type": "code",
   "execution_count": 181,
   "metadata": {},
   "outputs": [
    {
     "output_type": "execute_result",
     "data": {
      "text/plain": [
       "DATE                  object\n",
       "PM10                 float64\n",
       "PM2.5                float64\n",
       "CO                   float64\n",
       "NO2                  float64\n",
       "O3                   float64\n",
       "SO2                  float64\n",
       "CENTIGRADE           float64\n",
       "PRECIPITATION        float64\n",
       "WIND SPEED           float64\n",
       "RELATIVE HUMIDITY    float64\n",
       "dtype: object"
      ]
     },
     "metadata": {},
     "execution_count": 181
    }
   ],
   "source": [
    "JE_JUFINAL.dtypes"
   ]
  },
  {
   "cell_type": "code",
   "execution_count": 182,
   "metadata": {},
   "outputs": [
    {
     "output_type": "execute_result",
     "data": {
      "text/plain": [
       "DATE                  object\n",
       "PM10                   int64\n",
       "PM2.5                  int64\n",
       "CO                   float64\n",
       "NO2                  float64\n",
       "O3                   float64\n",
       "SO2                  float64\n",
       "CENTIGRADE           float64\n",
       "PRECIPITATION        float64\n",
       "WIND SPEED           float64\n",
       "RELATIVE HUMIDITY    float64\n",
       "dtype: object"
      ]
     },
     "metadata": {},
     "execution_count": 182
    }
   ],
   "source": [
    "SEOULFINAL.dtypes"
   ]
  },
  {
   "cell_type": "code",
   "execution_count": 183,
   "metadata": {},
   "outputs": [
    {
     "output_type": "execute_result",
     "data": {
      "text/plain": [
       "DATE                  object\n",
       "PM10                   int64\n",
       "PM2.5                  int64\n",
       "CO                   float64\n",
       "NO2                  float64\n",
       "O3                   float64\n",
       "SO2                  float64\n",
       "CENTIGRADE           float64\n",
       "PRECIPITATION        float64\n",
       "WIND SPEED           float64\n",
       "RELATIVE HUMIDITY    float64\n",
       "dtype: object"
      ]
     },
     "metadata": {},
     "execution_count": 183
    }
   ],
   "source": [
    "PUSANFINAL.dtypes"
   ]
  },
  {
   "cell_type": "code",
   "execution_count": 14,
   "metadata": {},
   "outputs": [],
   "source": [
    "from bokeh.models import Range1d\n",
    " \n",
    "x = np.random.randn(50)\n",
    "y = np.random.randn(50)\n",
    "p = figure(plot_width=400, plot_height=400)\n",
    "p.x_range = Range1d(0, 150, bounds=(-10, None))\t# 왼쪽으로 -10까지 확인가능, 오른쪽으로 제한 없음\n",
    "p.y_range = Range1d(0, 150, bounds='auto')\t# y축 고정\n",
    "p.circle(x, y, size=10)\n",
    "show(p)"
   ]
  },
  {
   "cell_type": "code",
   "execution_count": 34,
   "metadata": {},
   "outputs": [],
   "source": [
    "from bokeh.models import Range1d\n",
    "from bokeh.models import HoverTool\n",
    "hovser = HoverTool(\n",
    "    tooltips=[\n",
    "        (\"x,x\", \"$x,@x\"),(\"value\",\"$y\"),(\"y,y\",\"@y,$y\"),(\"des,des\", \"$des,@des\")\n",
    "    ]\n",
    "\n",
    ")\n",
    "\n",
    "a2p = figure( plot_width=450, plot_height=400, x_axis_type='datetime', output_backend=\"svg\", sizing_mode='stretch_width', title=\"Test\",y_minor_ticks =10,toolbar_location='left',tools=[hovser] )\n",
    "\n",
    "\n",
    "\n",
    "ss  =  ColumnDataSource(\n",
    "    data=dict(\n",
    "        x     = a.index,\n",
    "        y     = a['PM10'],\n",
    "        des   = a.index))\n",
    "\n",
    "#a2p.x_range = Range1d(bounds=(-10, None))\t# 왼쪽으로 -10까지 확인가능, 오른쪽으로 제한 없음\n",
    "a2p.y_range = Range1d(0, 120, bounds='auto')\t# y축 고정\n",
    "a2p.line(PUSANFINAL_cop['DATE'], PUSANFINAL_cop['PM10'], color='red', alpha=0.1, legend_label = 'PM10',)\n",
    "a2p.line(PUSANFINAL_cop['DATE'], PUSANFINAL_cop['PM2.5'], color='orange', alpha=0.7, legend_label = 'PM2.5')\n",
    "a2p.line(PUSANFINAL_cop['DATE'], PUSANFINAL_cop['CO'], color='pink', alpha=0.6, legend_label = 'CO')\n",
    "a2p.line(PUSANFINAL_cop['DATE'], PUSANFINAL_cop['NO2'], color='green', alpha=0.5, legend_label = 'NO2')\n",
    "a2p.line(PUSANFINAL_cop['DATE'], PUSANFINAL_cop['O3'], color='blue', alpha=0.5, legend_label = 'O3')\n",
    "a2p.line(PUSANFINAL_cop['DATE'], PUSANFINAL_cop['SO2'], color='navy', alpha=0.5, legend_label = 'SO2')\n",
    "\n",
    "show(a2p)"
   ]
  },
  {
   "cell_type": "code",
   "execution_count": 25,
   "metadata": {},
   "outputs": [],
   "source": [
    "a =PUSANFINAL.copy()\n",
    "a= PUSANFINAL.set_index(['DATE'])"
   ]
  },
  {
   "cell_type": "code",
   "execution_count": 27,
   "metadata": {},
   "outputs": [
    {
     "output_type": "execute_result",
     "data": {
      "text/plain": [
       "            PM10  PM2.5   CO    NO2     O3    SO2  CENTIGRADE  PRECIPITATION  \\\n",
       "DATE                                                                           \n",
       "2021-06-25    25     17  0.3  0.018  0.020  0.003        23.0            0.0   \n",
       "2021-06-24    17      9  0.2  0.012  0.036  0.003        23.0            0.0   \n",
       "2021-06-23    18      9  0.2  0.010  0.033  0.002        23.0            0.0   \n",
       "2021-06-22    21      9  0.2  0.010  0.038  0.003        23.0            0.0   \n",
       "2021-06-21    37     22  0.3  0.016  0.046  0.003        23.0            0.0   \n",
       "...          ...    ...  ...    ...    ...    ...         ...            ...   \n",
       "2020-04-05    34     11  0.3  0.010  0.042  0.003         9.7            0.0   \n",
       "2020-04-04    48     23  0.4  0.014  0.047  0.004        12.8            0.0   \n",
       "2020-04-03    37     21  0.4  0.022  0.039  0.004        13.8            0.0   \n",
       "2020-04-02    30     16  0.3  0.015  0.040  0.003        11.5            0.0   \n",
       "2020-04-01    35     19  0.4  0.020  0.036  0.003        12.5            2.7   \n",
       "\n",
       "            WIND SPEED  RELATIVE HUMIDITY  \n",
       "DATE                                       \n",
       "2021-06-25         2.6               53.0  \n",
       "2021-06-24         2.6               53.0  \n",
       "2021-06-23         2.6               53.0  \n",
       "2021-06-22         2.6               53.0  \n",
       "2021-06-21         2.6               53.0  \n",
       "...                ...                ...  \n",
       "2020-04-05         3.4               43.4  \n",
       "2020-04-04         4.0               43.3  \n",
       "2020-04-03         3.8               38.6  \n",
       "2020-04-02         3.5               42.8  \n",
       "2020-04-01         2.7               60.1  \n",
       "\n",
       "[451 rows x 10 columns]"
      ],
      "text/html": "<div>\n<style scoped>\n    .dataframe tbody tr th:only-of-type {\n        vertical-align: middle;\n    }\n\n    .dataframe tbody tr th {\n        vertical-align: top;\n    }\n\n    .dataframe thead th {\n        text-align: right;\n    }\n</style>\n<table border=\"1\" class=\"dataframe\">\n  <thead>\n    <tr style=\"text-align: right;\">\n      <th></th>\n      <th>PM10</th>\n      <th>PM2.5</th>\n      <th>CO</th>\n      <th>NO2</th>\n      <th>O3</th>\n      <th>SO2</th>\n      <th>CENTIGRADE</th>\n      <th>PRECIPITATION</th>\n      <th>WIND SPEED</th>\n      <th>RELATIVE HUMIDITY</th>\n    </tr>\n    <tr>\n      <th>DATE</th>\n      <th></th>\n      <th></th>\n      <th></th>\n      <th></th>\n      <th></th>\n      <th></th>\n      <th></th>\n      <th></th>\n      <th></th>\n      <th></th>\n    </tr>\n  </thead>\n  <tbody>\n    <tr>\n      <th>2021-06-25</th>\n      <td>25</td>\n      <td>17</td>\n      <td>0.3</td>\n      <td>0.018</td>\n      <td>0.020</td>\n      <td>0.003</td>\n      <td>23.0</td>\n      <td>0.0</td>\n      <td>2.6</td>\n      <td>53.0</td>\n    </tr>\n    <tr>\n      <th>2021-06-24</th>\n      <td>17</td>\n      <td>9</td>\n      <td>0.2</td>\n      <td>0.012</td>\n      <td>0.036</td>\n      <td>0.003</td>\n      <td>23.0</td>\n      <td>0.0</td>\n      <td>2.6</td>\n      <td>53.0</td>\n    </tr>\n    <tr>\n      <th>2021-06-23</th>\n      <td>18</td>\n      <td>9</td>\n      <td>0.2</td>\n      <td>0.010</td>\n      <td>0.033</td>\n      <td>0.002</td>\n      <td>23.0</td>\n      <td>0.0</td>\n      <td>2.6</td>\n      <td>53.0</td>\n    </tr>\n    <tr>\n      <th>2021-06-22</th>\n      <td>21</td>\n      <td>9</td>\n      <td>0.2</td>\n      <td>0.010</td>\n      <td>0.038</td>\n      <td>0.003</td>\n      <td>23.0</td>\n      <td>0.0</td>\n      <td>2.6</td>\n      <td>53.0</td>\n    </tr>\n    <tr>\n      <th>2021-06-21</th>\n      <td>37</td>\n      <td>22</td>\n      <td>0.3</td>\n      <td>0.016</td>\n      <td>0.046</td>\n      <td>0.003</td>\n      <td>23.0</td>\n      <td>0.0</td>\n      <td>2.6</td>\n      <td>53.0</td>\n    </tr>\n    <tr>\n      <th>...</th>\n      <td>...</td>\n      <td>...</td>\n      <td>...</td>\n      <td>...</td>\n      <td>...</td>\n      <td>...</td>\n      <td>...</td>\n      <td>...</td>\n      <td>...</td>\n      <td>...</td>\n    </tr>\n    <tr>\n      <th>2020-04-05</th>\n      <td>34</td>\n      <td>11</td>\n      <td>0.3</td>\n      <td>0.010</td>\n      <td>0.042</td>\n      <td>0.003</td>\n      <td>9.7</td>\n      <td>0.0</td>\n      <td>3.4</td>\n      <td>43.4</td>\n    </tr>\n    <tr>\n      <th>2020-04-04</th>\n      <td>48</td>\n      <td>23</td>\n      <td>0.4</td>\n      <td>0.014</td>\n      <td>0.047</td>\n      <td>0.004</td>\n      <td>12.8</td>\n      <td>0.0</td>\n      <td>4.0</td>\n      <td>43.3</td>\n    </tr>\n    <tr>\n      <th>2020-04-03</th>\n      <td>37</td>\n      <td>21</td>\n      <td>0.4</td>\n      <td>0.022</td>\n      <td>0.039</td>\n      <td>0.004</td>\n      <td>13.8</td>\n      <td>0.0</td>\n      <td>3.8</td>\n      <td>38.6</td>\n    </tr>\n    <tr>\n      <th>2020-04-02</th>\n      <td>30</td>\n      <td>16</td>\n      <td>0.3</td>\n      <td>0.015</td>\n      <td>0.040</td>\n      <td>0.003</td>\n      <td>11.5</td>\n      <td>0.0</td>\n      <td>3.5</td>\n      <td>42.8</td>\n    </tr>\n    <tr>\n      <th>2020-04-01</th>\n      <td>35</td>\n      <td>19</td>\n      <td>0.4</td>\n      <td>0.020</td>\n      <td>0.036</td>\n      <td>0.003</td>\n      <td>12.5</td>\n      <td>2.7</td>\n      <td>2.7</td>\n      <td>60.1</td>\n    </tr>\n  </tbody>\n</table>\n<p>451 rows × 10 columns</p>\n</div>"
     },
     "metadata": {},
     "execution_count": 27
    }
   ],
   "source": [
    "a"
   ]
  },
  {
   "cell_type": "code",
   "execution_count": 89,
   "metadata": {},
   "outputs": [
    {
     "output_type": "error",
     "ename": "RuntimeError",
     "evalue": "Models must be owned by only a single document, HoverTool(id='55731', ...) is already in a doc",
     "traceback": [
      "\u001b[1;31m---------------------------------------------------------------------------\u001b[0m",
      "\u001b[1;31mRuntimeError\u001b[0m                              Traceback (most recent call last)",
      "\u001b[1;32m<ipython-input-89-8174c99d502a>\u001b[0m in \u001b[0;36m<module>\u001b[1;34m\u001b[0m\n\u001b[0;32m     32\u001b[0m \u001b[0ma2p\u001b[0m\u001b[1;33m.\u001b[0m\u001b[0mxaxis\u001b[0m\u001b[1;33m.\u001b[0m\u001b[0maxis_label\u001b[0m \u001b[1;33m=\u001b[0m \u001b[1;34m'x축 라인이름'\u001b[0m\u001b[1;33m\u001b[0m\u001b[1;33m\u001b[0m\u001b[0m\n\u001b[0;32m     33\u001b[0m \u001b[0ma2p\u001b[0m\u001b[1;33m.\u001b[0m\u001b[0myaxis\u001b[0m\u001b[1;33m.\u001b[0m\u001b[0maxis_label\u001b[0m \u001b[1;33m=\u001b[0m \u001b[1;34m'y축 라인이름'\u001b[0m\u001b[1;33m\u001b[0m\u001b[1;33m\u001b[0m\u001b[0m\n\u001b[1;32m---> 34\u001b[1;33m \u001b[0mshow\u001b[0m\u001b[1;33m(\u001b[0m\u001b[0ma2p\u001b[0m\u001b[1;33m)\u001b[0m\u001b[1;33m\u001b[0m\u001b[1;33m\u001b[0m\u001b[0m\n\u001b[0m",
      "\u001b[1;32m~\\miniconda3\\lib\\site-packages\\bokeh\\io\\showing.py\u001b[0m in \u001b[0;36mshow\u001b[1;34m(obj, browser, new, notebook_handle, notebook_url, **kw)\u001b[0m\n\u001b[0;32m    137\u001b[0m         \u001b[1;32mreturn\u001b[0m \u001b[0mrun_notebook_hook\u001b[0m\u001b[1;33m(\u001b[0m\u001b[0mstate\u001b[0m\u001b[1;33m.\u001b[0m\u001b[0mnotebook_type\u001b[0m\u001b[1;33m,\u001b[0m \u001b[1;34m'app'\u001b[0m\u001b[1;33m,\u001b[0m \u001b[0mobj\u001b[0m\u001b[1;33m,\u001b[0m \u001b[0mstate\u001b[0m\u001b[1;33m,\u001b[0m \u001b[0mnotebook_url\u001b[0m\u001b[1;33m,\u001b[0m \u001b[1;33m**\u001b[0m\u001b[0mkw\u001b[0m\u001b[1;33m)\u001b[0m\u001b[1;33m\u001b[0m\u001b[1;33m\u001b[0m\u001b[0m\n\u001b[0;32m    138\u001b[0m \u001b[1;33m\u001b[0m\u001b[0m\n\u001b[1;32m--> 139\u001b[1;33m     \u001b[1;32mreturn\u001b[0m \u001b[0m_show_with_state\u001b[0m\u001b[1;33m(\u001b[0m\u001b[0mobj\u001b[0m\u001b[1;33m,\u001b[0m \u001b[0mstate\u001b[0m\u001b[1;33m,\u001b[0m \u001b[0mbrowser\u001b[0m\u001b[1;33m,\u001b[0m \u001b[0mnew\u001b[0m\u001b[1;33m,\u001b[0m \u001b[0mnotebook_handle\u001b[0m\u001b[1;33m=\u001b[0m\u001b[0mnotebook_handle\u001b[0m\u001b[1;33m)\u001b[0m\u001b[1;33m\u001b[0m\u001b[1;33m\u001b[0m\u001b[0m\n\u001b[0m\u001b[0;32m    140\u001b[0m \u001b[1;33m\u001b[0m\u001b[0m\n\u001b[0;32m    141\u001b[0m \u001b[1;31m#-----------------------------------------------------------------------------\u001b[0m\u001b[1;33m\u001b[0m\u001b[1;33m\u001b[0m\u001b[1;33m\u001b[0m\u001b[0m\n",
      "\u001b[1;32m~\\miniconda3\\lib\\site-packages\\bokeh\\io\\showing.py\u001b[0m in \u001b[0;36m_show_with_state\u001b[1;34m(obj, state, browser, new, notebook_handle)\u001b[0m\n\u001b[0;32m    175\u001b[0m \u001b[1;33m\u001b[0m\u001b[0m\n\u001b[0;32m    176\u001b[0m     \u001b[1;32mif\u001b[0m \u001b[0mstate\u001b[0m\u001b[1;33m.\u001b[0m\u001b[0mfile\u001b[0m \u001b[1;32mor\u001b[0m \u001b[1;32mnot\u001b[0m \u001b[0mshown\u001b[0m\u001b[1;33m:\u001b[0m\u001b[1;33m\u001b[0m\u001b[1;33m\u001b[0m\u001b[0m\n\u001b[1;32m--> 177\u001b[1;33m         \u001b[0m_show_file_with_state\u001b[0m\u001b[1;33m(\u001b[0m\u001b[0mobj\u001b[0m\u001b[1;33m,\u001b[0m \u001b[0mstate\u001b[0m\u001b[1;33m,\u001b[0m \u001b[0mnew\u001b[0m\u001b[1;33m,\u001b[0m \u001b[0mcontroller\u001b[0m\u001b[1;33m)\u001b[0m\u001b[1;33m\u001b[0m\u001b[1;33m\u001b[0m\u001b[0m\n\u001b[0m\u001b[0;32m    178\u001b[0m \u001b[1;33m\u001b[0m\u001b[0m\n\u001b[0;32m    179\u001b[0m     \u001b[1;32mreturn\u001b[0m \u001b[0mcomms_handle\u001b[0m\u001b[1;33m\u001b[0m\u001b[1;33m\u001b[0m\u001b[0m\n",
      "\u001b[1;32m~\\miniconda3\\lib\\site-packages\\bokeh\\io\\showing.py\u001b[0m in \u001b[0;36m_show_file_with_state\u001b[1;34m(obj, state, new, controller)\u001b[0m\n\u001b[0;32m    158\u001b[0m \u001b[1;33m\u001b[0m\u001b[0m\n\u001b[0;32m    159\u001b[0m     '''\n\u001b[1;32m--> 160\u001b[1;33m     \u001b[0mfilename\u001b[0m \u001b[1;33m=\u001b[0m \u001b[0msave\u001b[0m\u001b[1;33m(\u001b[0m\u001b[0mobj\u001b[0m\u001b[1;33m,\u001b[0m \u001b[0mstate\u001b[0m\u001b[1;33m=\u001b[0m\u001b[0mstate\u001b[0m\u001b[1;33m)\u001b[0m\u001b[1;33m\u001b[0m\u001b[1;33m\u001b[0m\u001b[0m\n\u001b[0m\u001b[0;32m    161\u001b[0m     \u001b[0mcontroller\u001b[0m\u001b[1;33m.\u001b[0m\u001b[0mopen\u001b[0m\u001b[1;33m(\u001b[0m\u001b[1;34m\"file://\"\u001b[0m \u001b[1;33m+\u001b[0m \u001b[0mfilename\u001b[0m\u001b[1;33m,\u001b[0m \u001b[0mnew\u001b[0m\u001b[1;33m=\u001b[0m\u001b[0mNEW_PARAM\u001b[0m\u001b[1;33m[\u001b[0m\u001b[0mnew\u001b[0m\u001b[1;33m]\u001b[0m\u001b[1;33m)\u001b[0m\u001b[1;33m\u001b[0m\u001b[1;33m\u001b[0m\u001b[0m\n\u001b[0;32m    162\u001b[0m \u001b[1;33m\u001b[0m\u001b[0m\n",
      "\u001b[1;32m~\\miniconda3\\lib\\site-packages\\bokeh\\io\\saving.py\u001b[0m in \u001b[0;36msave\u001b[1;34m(obj, filename, resources, title, template, state, **kwargs)\u001b[0m\n\u001b[0;32m     84\u001b[0m \u001b[1;33m\u001b[0m\u001b[0m\n\u001b[0;32m     85\u001b[0m     \u001b[0mfilename\u001b[0m\u001b[1;33m,\u001b[0m \u001b[0mresources\u001b[0m\u001b[1;33m,\u001b[0m \u001b[0mtitle\u001b[0m \u001b[1;33m=\u001b[0m \u001b[0m_get_save_args\u001b[0m\u001b[1;33m(\u001b[0m\u001b[0mstate\u001b[0m\u001b[1;33m,\u001b[0m \u001b[0mfilename\u001b[0m\u001b[1;33m,\u001b[0m \u001b[0mresources\u001b[0m\u001b[1;33m,\u001b[0m \u001b[0mtitle\u001b[0m\u001b[1;33m)\u001b[0m\u001b[1;33m\u001b[0m\u001b[1;33m\u001b[0m\u001b[0m\n\u001b[1;32m---> 86\u001b[1;33m     \u001b[0m_save_helper\u001b[0m\u001b[1;33m(\u001b[0m\u001b[0mobj\u001b[0m\u001b[1;33m,\u001b[0m \u001b[0mfilename\u001b[0m\u001b[1;33m,\u001b[0m \u001b[0mresources\u001b[0m\u001b[1;33m,\u001b[0m \u001b[0mtitle\u001b[0m\u001b[1;33m,\u001b[0m \u001b[0mtemplate\u001b[0m\u001b[1;33m,\u001b[0m \u001b[0mtheme\u001b[0m\u001b[1;33m)\u001b[0m\u001b[1;33m\u001b[0m\u001b[1;33m\u001b[0m\u001b[0m\n\u001b[0m\u001b[0;32m     87\u001b[0m     \u001b[1;32mreturn\u001b[0m \u001b[0mabspath\u001b[0m\u001b[1;33m(\u001b[0m\u001b[0mfilename\u001b[0m\u001b[1;33m)\u001b[0m\u001b[1;33m\u001b[0m\u001b[1;33m\u001b[0m\u001b[0m\n\u001b[0;32m     88\u001b[0m \u001b[1;33m\u001b[0m\u001b[0m\n",
      "\u001b[1;32m~\\miniconda3\\lib\\site-packages\\bokeh\\io\\saving.py\u001b[0m in \u001b[0;36m_save_helper\u001b[1;34m(obj, filename, resources, title, template, theme)\u001b[0m\n\u001b[0;32m    146\u001b[0m     '''\n\u001b[0;32m    147\u001b[0m     \u001b[1;32mfrom\u001b[0m \u001b[1;33m.\u001b[0m\u001b[1;33m.\u001b[0m\u001b[0membed\u001b[0m \u001b[1;32mimport\u001b[0m \u001b[0mfile_html\u001b[0m\u001b[1;33m\u001b[0m\u001b[1;33m\u001b[0m\u001b[0m\n\u001b[1;32m--> 148\u001b[1;33m     \u001b[0mhtml\u001b[0m \u001b[1;33m=\u001b[0m \u001b[0mfile_html\u001b[0m\u001b[1;33m(\u001b[0m\u001b[0mobj\u001b[0m\u001b[1;33m,\u001b[0m \u001b[0mresources\u001b[0m\u001b[1;33m,\u001b[0m \u001b[0mtitle\u001b[0m\u001b[1;33m=\u001b[0m\u001b[0mtitle\u001b[0m\u001b[1;33m,\u001b[0m \u001b[0mtemplate\u001b[0m\u001b[1;33m=\u001b[0m\u001b[0mtemplate\u001b[0m\u001b[1;33m,\u001b[0m \u001b[0mtheme\u001b[0m\u001b[1;33m=\u001b[0m\u001b[0mtheme\u001b[0m\u001b[1;33m)\u001b[0m\u001b[1;33m\u001b[0m\u001b[1;33m\u001b[0m\u001b[0m\n\u001b[0m\u001b[0;32m    149\u001b[0m \u001b[1;33m\u001b[0m\u001b[0m\n\u001b[0;32m    150\u001b[0m     \u001b[1;32mwith\u001b[0m \u001b[0mopen\u001b[0m\u001b[1;33m(\u001b[0m\u001b[0mfilename\u001b[0m\u001b[1;33m,\u001b[0m \u001b[0mmode\u001b[0m\u001b[1;33m=\u001b[0m\u001b[1;34m\"w\"\u001b[0m\u001b[1;33m,\u001b[0m \u001b[0mencoding\u001b[0m\u001b[1;33m=\u001b[0m\u001b[1;34m\"utf-8\"\u001b[0m\u001b[1;33m)\u001b[0m \u001b[1;32mas\u001b[0m \u001b[0mf\u001b[0m\u001b[1;33m:\u001b[0m\u001b[1;33m\u001b[0m\u001b[1;33m\u001b[0m\u001b[0m\n",
      "\u001b[1;32m~\\miniconda3\\lib\\site-packages\\bokeh\\embed\\standalone.py\u001b[0m in \u001b[0;36mfile_html\u001b[1;34m(models, resources, title, template, template_variables, theme, suppress_callback_warning, _always_new)\u001b[0m\n\u001b[0;32m    301\u001b[0m         \u001b[0mmodels_seq\u001b[0m \u001b[1;33m=\u001b[0m \u001b[0mmodels\u001b[0m\u001b[1;33m\u001b[0m\u001b[1;33m\u001b[0m\u001b[0m\n\u001b[0;32m    302\u001b[0m \u001b[1;33m\u001b[0m\u001b[0m\n\u001b[1;32m--> 303\u001b[1;33m     \u001b[1;32mwith\u001b[0m \u001b[0mOutputDocumentFor\u001b[0m\u001b[1;33m(\u001b[0m\u001b[0mmodels_seq\u001b[0m\u001b[1;33m,\u001b[0m \u001b[0mapply_theme\u001b[0m\u001b[1;33m=\u001b[0m\u001b[0mtheme\u001b[0m\u001b[1;33m,\u001b[0m \u001b[0malways_new\u001b[0m\u001b[1;33m=\u001b[0m\u001b[0m_always_new\u001b[0m\u001b[1;33m)\u001b[0m \u001b[1;32mas\u001b[0m \u001b[0mdoc\u001b[0m\u001b[1;33m:\u001b[0m\u001b[1;33m\u001b[0m\u001b[1;33m\u001b[0m\u001b[0m\n\u001b[0m\u001b[0;32m    304\u001b[0m         \u001b[1;33m(\u001b[0m\u001b[0mdocs_json\u001b[0m\u001b[1;33m,\u001b[0m \u001b[0mrender_items\u001b[0m\u001b[1;33m)\u001b[0m \u001b[1;33m=\u001b[0m \u001b[0mstandalone_docs_json_and_render_items\u001b[0m\u001b[1;33m(\u001b[0m\u001b[0mmodels_seq\u001b[0m\u001b[1;33m,\u001b[0m \u001b[0msuppress_callback_warning\u001b[0m\u001b[1;33m=\u001b[0m\u001b[0msuppress_callback_warning\u001b[0m\u001b[1;33m)\u001b[0m\u001b[1;33m\u001b[0m\u001b[1;33m\u001b[0m\u001b[0m\n\u001b[0;32m    305\u001b[0m         \u001b[0mtitle\u001b[0m \u001b[1;33m=\u001b[0m \u001b[0m_title_from_models\u001b[0m\u001b[1;33m(\u001b[0m\u001b[0mmodels_seq\u001b[0m\u001b[1;33m,\u001b[0m \u001b[0mtitle\u001b[0m\u001b[1;33m)\u001b[0m\u001b[1;33m\u001b[0m\u001b[1;33m\u001b[0m\u001b[0m\n",
      "\u001b[1;32m~\\miniconda3\\lib\\contextlib.py\u001b[0m in \u001b[0;36m__enter__\u001b[1;34m(self)\u001b[0m\n\u001b[0;32m    115\u001b[0m         \u001b[1;32mdel\u001b[0m \u001b[0mself\u001b[0m\u001b[1;33m.\u001b[0m\u001b[0margs\u001b[0m\u001b[1;33m,\u001b[0m \u001b[0mself\u001b[0m\u001b[1;33m.\u001b[0m\u001b[0mkwds\u001b[0m\u001b[1;33m,\u001b[0m \u001b[0mself\u001b[0m\u001b[1;33m.\u001b[0m\u001b[0mfunc\u001b[0m\u001b[1;33m\u001b[0m\u001b[1;33m\u001b[0m\u001b[0m\n\u001b[0;32m    116\u001b[0m         \u001b[1;32mtry\u001b[0m\u001b[1;33m:\u001b[0m\u001b[1;33m\u001b[0m\u001b[1;33m\u001b[0m\u001b[0m\n\u001b[1;32m--> 117\u001b[1;33m             \u001b[1;32mreturn\u001b[0m \u001b[0mnext\u001b[0m\u001b[1;33m(\u001b[0m\u001b[0mself\u001b[0m\u001b[1;33m.\u001b[0m\u001b[0mgen\u001b[0m\u001b[1;33m)\u001b[0m\u001b[1;33m\u001b[0m\u001b[1;33m\u001b[0m\u001b[0m\n\u001b[0m\u001b[0;32m    118\u001b[0m         \u001b[1;32mexcept\u001b[0m \u001b[0mStopIteration\u001b[0m\u001b[1;33m:\u001b[0m\u001b[1;33m\u001b[0m\u001b[1;33m\u001b[0m\u001b[0m\n\u001b[0;32m    119\u001b[0m             \u001b[1;32mraise\u001b[0m \u001b[0mRuntimeError\u001b[0m\u001b[1;33m(\u001b[0m\u001b[1;34m\"generator didn't yield\"\u001b[0m\u001b[1;33m)\u001b[0m \u001b[1;32mfrom\u001b[0m \u001b[1;32mNone\u001b[0m\u001b[1;33m\u001b[0m\u001b[1;33m\u001b[0m\u001b[0m\n",
      "\u001b[1;32m~\\miniconda3\\lib\\site-packages\\bokeh\\embed\\util.py\u001b[0m in \u001b[0;36mOutputDocumentFor\u001b[1;34m(objs, apply_theme, always_new)\u001b[0m\n\u001b[0;32m    132\u001b[0m             \u001b[0mdoc\u001b[0m \u001b[1;33m=\u001b[0m \u001b[0mDocument\u001b[0m\u001b[1;33m(\u001b[0m\u001b[1;33m)\u001b[0m\u001b[1;33m\u001b[0m\u001b[1;33m\u001b[0m\u001b[0m\n\u001b[0;32m    133\u001b[0m             \u001b[1;32mfor\u001b[0m \u001b[0mmodel\u001b[0m \u001b[1;32min\u001b[0m \u001b[0mobjs\u001b[0m\u001b[1;33m:\u001b[0m\u001b[1;33m\u001b[0m\u001b[1;33m\u001b[0m\u001b[0m\n\u001b[1;32m--> 134\u001b[1;33m                 \u001b[0mdoc\u001b[0m\u001b[1;33m.\u001b[0m\u001b[0madd_root\u001b[0m\u001b[1;33m(\u001b[0m\u001b[0mmodel\u001b[0m\u001b[1;33m)\u001b[0m\u001b[1;33m\u001b[0m\u001b[1;33m\u001b[0m\u001b[0m\n\u001b[0m\u001b[0;32m    135\u001b[0m \u001b[1;33m\u001b[0m\u001b[0m\n\u001b[0;32m    136\u001b[0m         \u001b[1;31m# handle a single shared document\u001b[0m\u001b[1;33m\u001b[0m\u001b[1;33m\u001b[0m\u001b[1;33m\u001b[0m\u001b[0m\n",
      "\u001b[1;32m~\\miniconda3\\lib\\site-packages\\bokeh\\document\\document.py\u001b[0m in \u001b[0;36madd_root\u001b[1;34m(self, model, setter)\u001b[0m\n\u001b[0;32m    319\u001b[0m             \u001b[0mself\u001b[0m\u001b[1;33m.\u001b[0m\u001b[0m_roots\u001b[0m\u001b[1;33m.\u001b[0m\u001b[0mappend\u001b[0m\u001b[1;33m(\u001b[0m\u001b[0mmodel\u001b[0m\u001b[1;33m)\u001b[0m\u001b[1;33m\u001b[0m\u001b[1;33m\u001b[0m\u001b[0m\n\u001b[0;32m    320\u001b[0m         \u001b[1;32mfinally\u001b[0m\u001b[1;33m:\u001b[0m\u001b[1;33m\u001b[0m\u001b[1;33m\u001b[0m\u001b[0m\n\u001b[1;32m--> 321\u001b[1;33m             \u001b[0mself\u001b[0m\u001b[1;33m.\u001b[0m\u001b[0m_pop_all_models_freeze\u001b[0m\u001b[1;33m(\u001b[0m\u001b[1;33m)\u001b[0m\u001b[1;33m\u001b[0m\u001b[1;33m\u001b[0m\u001b[0m\n\u001b[0m\u001b[0;32m    322\u001b[0m         \u001b[0mself\u001b[0m\u001b[1;33m.\u001b[0m\u001b[0m_trigger_on_change\u001b[0m\u001b[1;33m(\u001b[0m\u001b[0mRootAddedEvent\u001b[0m\u001b[1;33m(\u001b[0m\u001b[0mself\u001b[0m\u001b[1;33m,\u001b[0m \u001b[0mmodel\u001b[0m\u001b[1;33m,\u001b[0m \u001b[0msetter\u001b[0m\u001b[1;33m)\u001b[0m\u001b[1;33m)\u001b[0m\u001b[1;33m\u001b[0m\u001b[1;33m\u001b[0m\u001b[0m\n\u001b[0;32m    323\u001b[0m \u001b[1;33m\u001b[0m\u001b[0m\n",
      "\u001b[1;32m~\\miniconda3\\lib\\site-packages\\bokeh\\document\\document.py\u001b[0m in \u001b[0;36m_pop_all_models_freeze\u001b[1;34m(self)\u001b[0m\n\u001b[0;32m   1102\u001b[0m         \u001b[0mself\u001b[0m\u001b[1;33m.\u001b[0m\u001b[0m_all_models_freeze_count\u001b[0m \u001b[1;33m-=\u001b[0m \u001b[1;36m1\u001b[0m\u001b[1;33m\u001b[0m\u001b[1;33m\u001b[0m\u001b[0m\n\u001b[0;32m   1103\u001b[0m         \u001b[1;32mif\u001b[0m \u001b[0mself\u001b[0m\u001b[1;33m.\u001b[0m\u001b[0m_all_models_freeze_count\u001b[0m \u001b[1;33m==\u001b[0m \u001b[1;36m0\u001b[0m\u001b[1;33m:\u001b[0m\u001b[1;33m\u001b[0m\u001b[1;33m\u001b[0m\u001b[0m\n\u001b[1;32m-> 1104\u001b[1;33m             \u001b[0mself\u001b[0m\u001b[1;33m.\u001b[0m\u001b[0m_recompute_all_models\u001b[0m\u001b[1;33m(\u001b[0m\u001b[1;33m)\u001b[0m\u001b[1;33m\u001b[0m\u001b[1;33m\u001b[0m\u001b[0m\n\u001b[0m\u001b[0;32m   1105\u001b[0m \u001b[1;33m\u001b[0m\u001b[0m\n\u001b[0;32m   1106\u001b[0m     \u001b[1;32mdef\u001b[0m \u001b[0m_recompute_all_models\u001b[0m\u001b[1;33m(\u001b[0m\u001b[0mself\u001b[0m\u001b[1;33m)\u001b[0m\u001b[1;33m:\u001b[0m\u001b[1;33m\u001b[0m\u001b[1;33m\u001b[0m\u001b[0m\n",
      "\u001b[1;32m~\\miniconda3\\lib\\site-packages\\bokeh\\document\\document.py\u001b[0m in \u001b[0;36m_recompute_all_models\u001b[1;34m(self)\u001b[0m\n\u001b[0;32m   1125\u001b[0m             \u001b[0md\u001b[0m\u001b[1;33m.\u001b[0m\u001b[0m_detach_document\u001b[0m\u001b[1;33m(\u001b[0m\u001b[1;33m)\u001b[0m\u001b[1;33m\u001b[0m\u001b[1;33m\u001b[0m\u001b[0m\n\u001b[0;32m   1126\u001b[0m         \u001b[1;32mfor\u001b[0m \u001b[0ma\u001b[0m \u001b[1;32min\u001b[0m \u001b[0mto_attach\u001b[0m\u001b[1;33m:\u001b[0m\u001b[1;33m\u001b[0m\u001b[1;33m\u001b[0m\u001b[0m\n\u001b[1;32m-> 1127\u001b[1;33m             \u001b[0ma\u001b[0m\u001b[1;33m.\u001b[0m\u001b[0m_attach_document\u001b[0m\u001b[1;33m(\u001b[0m\u001b[0mself\u001b[0m\u001b[1;33m)\u001b[0m\u001b[1;33m\u001b[0m\u001b[1;33m\u001b[0m\u001b[0m\n\u001b[0m\u001b[0;32m   1128\u001b[0m         \u001b[0mself\u001b[0m\u001b[1;33m.\u001b[0m\u001b[0m_all_models\u001b[0m \u001b[1;33m=\u001b[0m \u001b[0mrecomputed\u001b[0m\u001b[1;33m\u001b[0m\u001b[1;33m\u001b[0m\u001b[0m\n\u001b[0;32m   1129\u001b[0m         \u001b[0mself\u001b[0m\u001b[1;33m.\u001b[0m\u001b[0m_all_models_by_name\u001b[0m \u001b[1;33m=\u001b[0m \u001b[0mrecomputed_by_name\u001b[0m\u001b[1;33m\u001b[0m\u001b[1;33m\u001b[0m\u001b[0m\n",
      "\u001b[1;32m~\\miniconda3\\lib\\site-packages\\bokeh\\model.py\u001b[0m in \u001b[0;36m_attach_document\u001b[1;34m(self, doc)\u001b[0m\n\u001b[0;32m    690\u001b[0m         '''\n\u001b[0;32m    691\u001b[0m         \u001b[1;32mif\u001b[0m \u001b[0mself\u001b[0m\u001b[1;33m.\u001b[0m\u001b[0m_document\u001b[0m \u001b[1;32mis\u001b[0m \u001b[1;32mnot\u001b[0m \u001b[1;32mNone\u001b[0m \u001b[1;32mand\u001b[0m \u001b[0mself\u001b[0m\u001b[1;33m.\u001b[0m\u001b[0m_document\u001b[0m \u001b[1;32mis\u001b[0m \u001b[1;32mnot\u001b[0m \u001b[0mdoc\u001b[0m\u001b[1;33m:\u001b[0m\u001b[1;33m\u001b[0m\u001b[1;33m\u001b[0m\u001b[0m\n\u001b[1;32m--> 692\u001b[1;33m             \u001b[1;32mraise\u001b[0m \u001b[0mRuntimeError\u001b[0m\u001b[1;33m(\u001b[0m\u001b[1;34m\"Models must be owned by only a single document, %r is already in a doc\"\u001b[0m \u001b[1;33m%\u001b[0m \u001b[1;33m(\u001b[0m\u001b[0mself\u001b[0m\u001b[1;33m)\u001b[0m\u001b[1;33m)\u001b[0m\u001b[1;33m\u001b[0m\u001b[1;33m\u001b[0m\u001b[0m\n\u001b[0m\u001b[0;32m    693\u001b[0m         \u001b[0mdoc\u001b[0m\u001b[1;33m.\u001b[0m\u001b[0mtheme\u001b[0m\u001b[1;33m.\u001b[0m\u001b[0mapply_to_model\u001b[0m\u001b[1;33m(\u001b[0m\u001b[0mself\u001b[0m\u001b[1;33m)\u001b[0m\u001b[1;33m\u001b[0m\u001b[1;33m\u001b[0m\u001b[0m\n\u001b[0;32m    694\u001b[0m         \u001b[0mself\u001b[0m\u001b[1;33m.\u001b[0m\u001b[0m_document\u001b[0m \u001b[1;33m=\u001b[0m \u001b[0mdoc\u001b[0m\u001b[1;33m\u001b[0m\u001b[1;33m\u001b[0m\u001b[0m\n",
      "\u001b[1;31mRuntimeError\u001b[0m: Models must be owned by only a single document, HoverTool(id='55731', ...) is already in a doc"
     ]
    }
   ],
   "source": [
    "from bokeh.models import Range1d\n",
    "from bokeh.models import HoverTool\n",
    "# ss  =  ColumnDataSource(\n",
    "#     data=dict(\n",
    "#         x     = a['DATE'],\n",
    "#         y     = a['PM10'],\n",
    "#         des   = a.index))\n",
    "\n",
    "# hover = HoverTool(\n",
    "#     tooltips=[\n",
    "#         (\"x,x\", \"$x,@x\"),(\"value\",\"$y\"),(\"y,y\",\"@y,$y\"),(\"des,des\", \"$des,@des\")\n",
    "#     ]\n",
    "\n",
    "# )\n",
    "\n",
    "\n",
    "a2p = figure( plot_width=450, plot_height=400, output_backend=\"svg\", sizing_mode='stretch_width', title=\"Test\",y_minor_ticks =10,toolbar_location='left',tools = \"pan,wheel_zoom,box_zoom,reset,save\", x_axis_type='datetime' )\n",
    "\n",
    "a2p.toolbar.active_inspect = [hover]\n",
    "\n",
    "a2p.line(PUSANFINAL_cop['DATE'], PUSANFINAL_cop['PM10'], color='red', alpha=0.1, legend_label = 'PM10',)\n",
    "a2p.line(PUSANFINAL_cop['DATE'], PUSANFINAL_cop['PM2.5'], color='orange', alpha=0.7, legend_label = 'PM2.5')\n",
    "a2p.line(PUSANFINAL_cop['DATE'], PUSANFINAL_cop['CO'], color='pink', alpha=0.6, legend_label = 'CO')\n",
    "a2p.line(PUSANFINAL_cop['DATE'], PUSANFINAL_cop['NO2'], color='green', alpha=0.5, legend_label = 'NO2')\n",
    "a2p.line(PUSANFINAL_cop['DATE'], PUSANFINAL_cop['O3'], color='blue', alpha=0.5, legend_label = 'O3')\n",
    "a2p.line(PUSANFINAL_cop['DATE'], PUSANFINAL_cop['SO2'], color='navy', alpha=0.5, legend_label = 'SO2')\n",
    "#a2p.x_range = Range1d(bounds=(-10, None))\t# 왼쪽으로 -10까지 확인가능, 오른쪽으로 제한 없음\n",
    "a2p.y_range = Range1d(0, 120, bounds='auto')\t# y축 고정\n",
    "a2p.xgrid.grid_line_color='blue'\n",
    "a2p.xgrid.grid_line_alpha= 0.5\n",
    "a2p.ygrid.grid_line_alpha= 0\n",
    "a2p.xaxis.axis_label = 'x축 라인이름'\n",
    "a2p.yaxis.axis_label = 'y축 라인이름'\n",
    "show(a2p)"
   ]
  },
  {
   "cell_type": "code",
   "execution_count": 40,
   "metadata": {},
   "outputs": [
    {
     "output_type": "execute_result",
     "data": {
      "text/plain": [
       "(('x', '$x'),\n",
       " ('x', '@x'),\n",
       " ('y', '$y'),\n",
       " ('y', '@y'),\n",
       " ('des', '@des'),\n",
       " ('index', '$index'),\n",
       " ('X,Y', '$x,$y'))"
      ]
     },
     "metadata": {},
     "execution_count": 40
    }
   ],
   "source": [
    "(\"x,x\", \"$x,@x\"),(\"value\",\"$y\"),(\"y,y\",\"@y,$y\"),(\"des,des\", \"$des,@des\")\n",
    "(\"x\", \"$x\"),(\"x\",\"@x\"),(\"y\",\"$y\"),(\"y\",\"@y\"),(\"des\", \"@des\"),(\"index\",\"$index\"),(\"X,Y\", \"$x,$y\")"
   ]
  },
  {
   "cell_type": "code",
   "execution_count": 54,
   "metadata": {},
   "outputs": [
    {
     "output_type": "execute_result",
     "data": {
      "text/plain": [
       "DATE                 datetime64[ns]\n",
       "PM10                          int64\n",
       "PM2.5                         int64\n",
       "CO                          float64\n",
       "NO2                         float64\n",
       "O3                          float64\n",
       "SO2                         float64\n",
       "CENTIGRADE                  float64\n",
       "PRECIPITATION               float64\n",
       "WIND SPEED                  float64\n",
       "RELATIVE HUMIDITY           float64\n",
       "dtype: object"
      ]
     },
     "metadata": {},
     "execution_count": 54
    }
   ],
   "source": [
    "PUSANFINAL_cop['DATE'] = pd.to_datetime(PUSANFINAL_cop['DATE'])\n",
    "PUSANFINAL_cop.dtypes\n",
    "\n"
   ]
  },
  {
   "cell_type": "code",
   "execution_count": null,
   "metadata": {},
   "outputs": [],
   "source": [
    "    globals()[f'{i}WDF'].날짜=globals()[f'{i}WDF'].날짜.astype(str)"
   ]
  },
  {
   "cell_type": "code",
   "execution_count": 55,
   "metadata": {},
   "outputs": [
    {
     "output_type": "execute_result",
     "data": {
      "text/plain": [
       "DATE                  object\n",
       "PM10                   int64\n",
       "PM2.5                  int64\n",
       "CO                   float64\n",
       "NO2                  float64\n",
       "O3                   float64\n",
       "SO2                  float64\n",
       "CENTIGRADE           float64\n",
       "PRECIPITATION        float64\n",
       "WIND SPEED           float64\n",
       "RELATIVE HUMIDITY    float64\n",
       "dtype: object"
      ]
     },
     "metadata": {},
     "execution_count": 55
    }
   ],
   "source": [
    "a['DATE'] = PUSANFINAL_cop['DATE'].astype(str)\n",
    "a.dtypes"
   ]
  },
  {
   "cell_type": "code",
   "execution_count": null,
   "metadata": {},
   "outputs": [],
   "source": []
  }
 ]
}