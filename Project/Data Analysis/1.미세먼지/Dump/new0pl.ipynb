{
 "metadata": {
  "language_info": {
   "codemirror_mode": {
    "name": "ipython",
    "version": 3
   },
   "file_extension": ".py",
   "mimetype": "text/x-python",
   "name": "python",
   "nbconvert_exporter": "python",
   "pygments_lexer": "ipython3",
   "version": "3.9.1"
  },
  "orig_nbformat": 4,
  "kernelspec": {
   "name": "python3",
   "display_name": "Python 3.9.1 64-bit ('base': conda)"
  },
  "interpreter": {
   "hash": "26cbe81f990c700cacc7344ce939feb35388ff5140935024bac84d606131ac1b"
  }
 },
 "nbformat": 4,
 "nbformat_minor": 2,
 "cells": [
  {
   "cell_type": "code",
   "execution_count": 5,
   "metadata": {},
   "outputs": [
    {
     "output_type": "stream",
     "name": "stdout",
     "text": [
      "C:/Users/ad/Desktop/test/fin/SEOULFIN.xlsx# orig\n",
      "C:/Users/ad/Documents/카카오톡 받은 파일/tabledata/SEOUL.xlsx# cop\n",
      "C:/Users/ad/Desktop/test/fin/PUSANFIN.xlsx# orig\n",
      "C:/Users/ad/Documents/카카오톡 받은 파일/tabledata/PUSAN.xlsx# cop\n",
      "C:/Users/ad/Desktop/test/fin/DEAGUFIN.xlsx# orig\n",
      "C:/Users/ad/Documents/카카오톡 받은 파일/tabledata/DEAGU.xlsx# cop\n",
      "C:/Users/ad/Desktop/test/fin/INCHEONFIN.xlsx# orig\n",
      "C:/Users/ad/Documents/카카오톡 받은 파일/tabledata/INCHEON.xlsx# cop\n",
      "C:/Users/ad/Desktop/test/fin/KWANG_JUFIN.xlsx# orig\n",
      "C:/Users/ad/Documents/카카오톡 받은 파일/tabledata/KWANG_JU.xlsx# cop\n",
      "C:/Users/ad/Desktop/test/fin/DAEJEONFIN.xlsx# orig\n",
      "C:/Users/ad/Documents/카카오톡 받은 파일/tabledata/DAEJEON.xlsx# cop\n",
      "C:/Users/ad/Desktop/test/fin/ULSANFIN.xlsx# orig\n",
      "C:/Users/ad/Documents/카카오톡 받은 파일/tabledata/ULSAN.xlsx# cop\n",
      "C:/Users/ad/Desktop/test/fin/KYEONG_GIFIN.xlsx# orig\n",
      "C:/Users/ad/Documents/카카오톡 받은 파일/tabledata/KYEONG_GI.xlsx# cop\n",
      "C:/Users/ad/Desktop/test/fin/KANGONEFIN.xlsx# orig\n",
      "C:/Users/ad/Documents/카카오톡 받은 파일/tabledata/KANGONE.xlsx# cop\n",
      "C:/Users/ad/Desktop/test/fin/CHUNG_BUKFIN.xlsx# orig\n",
      "C:/Users/ad/Documents/카카오톡 받은 파일/tabledata/CHUNG_BUK.xlsx# cop\n",
      "C:/Users/ad/Desktop/test/fin/CHUNG_NAMFIN.xlsx# orig\n",
      "C:/Users/ad/Documents/카카오톡 받은 파일/tabledata/CHUNG_NAM.xlsx# cop\n",
      "C:/Users/ad/Desktop/test/fin/JEON_BUKFIN.xlsx# orig\n",
      "C:/Users/ad/Documents/카카오톡 받은 파일/tabledata/JEON_BUK.xlsx# cop\n",
      "C:/Users/ad/Desktop/test/fin/JEON_NAMFIN.xlsx# orig\n",
      "C:/Users/ad/Documents/카카오톡 받은 파일/tabledata/JEON_NAM.xlsx# cop\n",
      "C:/Users/ad/Desktop/test/fin/KYUNG_BUKFIN.xlsx# orig\n",
      "C:/Users/ad/Documents/카카오톡 받은 파일/tabledata/KYUNG_BUK.xlsx# cop\n",
      "C:/Users/ad/Desktop/test/fin/KYUNG_NAMFIN.xlsx# orig\n",
      "C:/Users/ad/Documents/카카오톡 받은 파일/tabledata/KYUNG_NAM.xlsx# cop\n",
      "C:/Users/ad/Desktop/test/fin/JE_JUFIN.xlsx# orig\n",
      "C:/Users/ad/Documents/카카오톡 받은 파일/tabledata/JE_JU.xlsx# cop\n",
      "C:/Users/ad/Desktop/test/fin/SEJONGFIN.xlsx# orig\n",
      "C:/Users/ad/Documents/카카오톡 받은 파일/tabledata/SEJONG.xlsx# cop\n"
     ]
    }
   ],
   "source": [
    "import pandas as pd \n",
    "import numpy as np\n",
    "import bokeh\n",
    "import webbrowser\n",
    "from bokeh.io import output_notebook, show, save, output_notebook, curdoc, output_file\n",
    "from bokeh.plotting import figure, show\n",
    "from bokeh.models import Select, CheckboxButtonGroup, ColumnDataSource, DataTable, TableColumn, WMTSTileSource, FactorRange, PanTool\n",
    "from bokeh.models import BoxZoomTool, PanTool, ResetTool\n",
    "from bokeh.layouts import row, column\n",
    "from bokeh import layouts\n",
    "from bokeh.resources import INLINE\n",
    "from bokeh.models import *\n",
    "from bokeh.plotting import *\n",
    "from bokeh.io import *\n",
    "from bokeh.tile_providers import *\n",
    "from bokeh.palettes import *\n",
    "from bokeh.transform import *\n",
    "from bokeh.layouts import *\n",
    "\n",
    "\n",
    "# 예측모델 오픈 최종\n",
    "\n",
    "def finalopen(a):\n",
    "    filepath = f'C:/Users/ad/Desktop/test/fin/{a}FIN.xlsx'\n",
    "    excel_df  = pd.read_excel(filepath)\n",
    "    print (filepath + '# orig')\n",
    "    return(excel_df)\n",
    "\n",
    "def perdopen(a):\n",
    "    filepath2 = f'C:/Users/ad/Documents/카카오톡 받은 파일/tabledata/{a}.xlsx'\n",
    "    excel_df2 = pd.read_excel(filepath2)\n",
    "    print (filepath2 + '# cop')\n",
    "    return(excel_df2)\n",
    "    \n",
    "columnss = ['SEOUL', 'PUSAN', 'DEAGU', 'INCHEON', 'KWANG_JU', 'DAEJEON', 'ULSAN',\n",
    "       'KYEONG_GI', 'KANGONE', 'CHUNG_BUK', 'CHUNG_NAM', 'JEON_BUK',\n",
    "       'JEON_NAM', 'KYUNG_BUK', 'KYUNG_NAM', 'JE_JU', 'SEJONG']\n",
    "for col in columnss:\n",
    "     globals()[f'{col}FINAL'] = finalopen(col)\n",
    "     globals()[f'{col}pred'] = perdopen(col)\n",
    "     globals()[f'{col}pred'].rename(columns={'PM25' : 'PM2.5'}, inplace=True)\n",
    "\n",
    "\n",
    "# 최종파일 오픈 최종\n",
    "\n",
    "def make_graphs():\n",
    "\n",
    "    columnss = ['SEOUL', 'PUSAN', 'DEAGU', 'INCHEON', 'KWANG_JU', 'DAEJEON', 'ULSAN',\n",
    "       'KYEONG_GI', 'KANGONE', 'CHUNG_BUK', 'CHUNG_NAM', 'JEON_BUK',\n",
    "       'JEON_NAM', 'KYUNG_BUK', 'KYUNG_NAM', 'JE_JU', 'SEJONG']\n",
    "\n",
    "    for col in columnss:\n",
    "        globals()[f'{col}FINAL_cop'] = globals()[f'{col}FINAL'].copy()\n",
    "        globals()[f'{col}FINAL_cop']['DATE'] = pd.to_datetime(globals()[f'{col}FINAL_cop']['DATE'])\n",
    "        globals()[f'{col}pred_cop'] = globals()[f'{col}pred'].copy()\n",
    "        globals()[f'{col}pred_cop']['DATE'] = pd.to_datetime(globals()[f'{col}pred']['DATE'])\n",
    "\n",
    "        # 라인그래프 1\n",
    "        globals()[f'{col}ap1'] = figure(\n",
    "            plot_width=400, plot_height=400, \n",
    "            x_axis_type='datetime', output_backend=\"svg\",\n",
    "            sizing_mode='stretch_width', toolbar_location=\"right\",\n",
    "            tools = \"pan,wheel_zoom,box_zoom,reset,hover,save\",\n",
    "            title=f\"{col}'s PM2.5, PM10 Prediction Model\")\n",
    "\n",
    "        globals()[f'{col}ap1'].line(globals()[f'{col}FINAL_cop']['DATE'][:100], globals()[f'{col}FINAL_cop']['PM10'][:100], color='red', alpha=0.3, legend_label = 'PM10')\n",
    "        globals()[f'{col}ap1'].line(globals()[f'{col}pred_cop']['DATE'], globals()[f'{col}pred_cop']['PM10'], color='navy', alpha=0.8, legend_label = 'Predict PM10')\n",
    "        globals()[f'{col}ap1'].y_range = Range1d(0, 120, bounds='auto')\n",
    "\n",
    "        # 라인그래프 2\n",
    "        globals()[f'{col}ap2'] = figure(\n",
    "            plot_width=400, plot_height=400, \n",
    "            x_axis_type='datetime', output_backend=\"svg\",\n",
    "            sizing_mode='stretch_width',  toolbar_location=\"right\",\n",
    "            tools = \"pan,wheel_zoom,box_zoom,reset,hover,save\",\n",
    "            title=f\"{col}'s PM2.5 Prediction Model\")\n",
    "\n",
    "        globals()[f'{col}ap2'].line(globals()[f'{col}FINAL_cop']['DATE'][:100], globals()[f'{col}FINAL_cop']['PM2.5'][:100], color='red', alpha=0.3, legend_label = 'PM2.5')\n",
    "        globals()[f'{col}ap2'].line(globals()[f'{col}pred_cop']['DATE'], globals()[f'{col}pred_cop']['PM2.5'], color='navy', alpha=0.8, legend_label = 'Predict PM2.5')\n",
    "        globals()[f'{col}ap2'].y_range = Range1d(0, 120, bounds='auto')\n",
    "\n",
    "        # 표\n",
    "        \n",
    "        globals()[f'{col}pred_cop'].drop(\"LOWER_CENTIGRADE\",axis=1,inplace=True)\n",
    "        globals()[f'{col}pred_cop'].drop(\"UPPER_CENTIGRADE\",axis=1,inplace=True)\n",
    "        globals()[f'{col}pred_cop']['DATE'] = globals()[f'{col}pred_cop']['DATE'].astype(str)\n",
    "        #globals()[f'{col}pred_cop'][['PM10', 'PM2.5']] = globals()[f'{col}pred_cop'][['PM10', 'PM2.5']].astype(int)\n",
    "        source = ColumnDataSource(globals()[f'{col}pred_cop'])\n",
    "\n",
    "        columns = [ TableColumn( field=col, title=col ) for col in globals()[f'{col}pred_cop'].columns ]\n",
    "        globals()[f'{col}preddata_table'] = DataTable(source=source, columns = columns, background='navy',width=800,sizing_mode='scale_both' )        \n",
    "        "
   ]
  },
  {
   "cell_type": "code",
   "execution_count": 6,
   "metadata": {},
   "outputs": [
    {
     "output_type": "stream",
     "name": "stderr",
     "text": [
      "C:\\Users\\ad\\miniconda3\\lib\\site-packages\\bokeh\\io\\saving.py:126: UserWarning: save() called but no resources were supplied and output_file(...) was never called, defaulting to resources.CDN\n",
      "  warn(\"save() called but no resources were supplied and output_file(...) was never called, defaulting to resources.CDN\")\n",
      "C:\\Users\\ad\\miniconda3\\lib\\site-packages\\bokeh\\io\\saving.py:139: UserWarning: save() called but no title was supplied and output_file(...) was never called, using default title 'Bokeh Plot'\n",
      "  warn(\"save() called but no title was supplied and output_file(...) was never called, using default title 'Bokeh Plot'\")\n",
      "SEOULpred.html save complete!\n",
      "PUSANpred.html save complete!\n",
      "DEAGUpred.html save complete!\n",
      "INCHEONpred.html save complete!\n",
      "KWANG_JUpred.html save complete!\n",
      "DAEJEONpred.html save complete!\n",
      "ULSANpred.html save complete!\n",
      "KYEONG_GIpred.html save complete!\n",
      "KANGONEpred.html save complete!\n",
      "CHUNG_BUKpred.html save complete!\n",
      "CHUNG_NAMpred.html save complete!\n",
      "JEON_BUKpred.html save complete!\n",
      "JEON_NAMpred.html save complete!\n",
      "KYUNG_BUKpred.html save complete!\n",
      "KYUNG_NAMpred.html save complete!\n",
      "JE_JUpred.html save complete!\n",
      "SEJONGpred.html save complete!\n"
     ]
    }
   ],
   "source": [
    "make_graphs()\n",
    "for i in columnss:\n",
    "    globals()[f'layout_with_widgets_{i}pre'] = column(   column(row(globals()[f'{i}ap1'],globals()[f'{i}ap2'])),\n",
    "                                                        row(column(globals()[f'{i}preddata_table'])))\n",
    "    save(obj=globals()[f'layout_with_widgets_{i}pre'], filename= f'{i}pred.html')\n",
    "    print(f'{i}pred.html save complete!')"
   ]
  },
  {
   "cell_type": "code",
   "execution_count": 7,
   "metadata": {},
   "outputs": [],
   "source": [
    "make_graphs()\n",
    "reset_output()"
   ]
  },
  {
   "cell_type": "code",
   "execution_count": 8,
   "metadata": {},
   "outputs": [
    {
     "output_type": "execute_result",
     "data": {
      "text/plain": [
       "True"
      ]
     },
     "metadata": {},
     "execution_count": 8
    }
   ],
   "source": [
    "webbrowser.open('KYEONG_GIpred.html')"
   ]
  },
  {
   "cell_type": "code",
   "execution_count": 117,
   "metadata": {},
   "outputs": [
    {
     "output_type": "execute_result",
     "data": {
      "text/plain": [
       "DATE                 datetime64[ns]\n",
       "PM10                        float64\n",
       "PM2.5                       float64\n",
       "CENTIGRADE                  float64\n",
       "PRECIPITATION               float64\n",
       "WIND SPEED                  float64\n",
       "RELATIVE HUMIDITY           float64\n",
       "dtype: object"
      ]
     },
     "metadata": {},
     "execution_count": 117
    }
   ],
   "source": [
    "PUSANpred_cop.dtypes"
   ]
  },
  {
   "cell_type": "code",
   "execution_count": 118,
   "metadata": {},
   "outputs": [
    {
     "output_type": "execute_result",
     "data": {
      "text/plain": [
       "0                                              2021-06-23\n",
       "1                                              2021-06-24\n",
       "2                                              2021-06-25\n",
       "3                                              2021-06-26\n",
       "4                                              2021-06-27\n",
       "5                                              2021-06-28\n",
       "6                                              2021-06-29\n",
       "DATE    0    2021-06-23\n",
       "1    2021-06-24\n",
       "2    2021-06-2...\n",
       "Name: DATE, dtype: object"
      ]
     },
     "metadata": {},
     "execution_count": 118
    }
   ],
   "source": [
    "aa"
   ]
  },
  {
   "cell_type": "code",
   "execution_count": null,
   "metadata": {},
   "outputs": [],
   "source": []
  },
  {
   "cell_type": "code",
   "execution_count": 127,
   "metadata": {},
   "outputs": [
    {
     "output_type": "execute_result",
     "data": {
      "text/plain": [
       "GlyphRenderer(id='71652', ...)"
      ],
      "text/html": "<div style=\"display: table;\"><div style=\"display: table-row;\"><div style=\"display: table-cell;\"><b title=\"bokeh.models.renderers.GlyphRenderer\">GlyphRenderer</b>(</div><div style=\"display: table-cell;\">id&nbsp;=&nbsp;'71652', <span id=\"71679\" style=\"cursor: pointer;\">&hellip;)</span></div></div><div class=\"71678\" style=\"display: none;\"><div style=\"display: table-cell;\"></div><div style=\"display: table-cell;\">data_source&nbsp;=&nbsp;ColumnDataSource(id='71649', ...),</div></div><div class=\"71678\" style=\"display: none;\"><div style=\"display: table-cell;\"></div><div style=\"display: table-cell;\">glyph&nbsp;=&nbsp;Line(id='71650', ...),</div></div><div class=\"71678\" style=\"display: none;\"><div style=\"display: table-cell;\"></div><div style=\"display: table-cell;\">hover_glyph&nbsp;=&nbsp;None,</div></div><div class=\"71678\" style=\"display: none;\"><div style=\"display: table-cell;\"></div><div style=\"display: table-cell;\">js_event_callbacks&nbsp;=&nbsp;{},</div></div><div class=\"71678\" style=\"display: none;\"><div style=\"display: table-cell;\"></div><div style=\"display: table-cell;\">js_property_callbacks&nbsp;=&nbsp;{},</div></div><div class=\"71678\" style=\"display: none;\"><div style=\"display: table-cell;\"></div><div style=\"display: table-cell;\">level&nbsp;=&nbsp;'glyph',</div></div><div class=\"71678\" style=\"display: none;\"><div style=\"display: table-cell;\"></div><div style=\"display: table-cell;\">muted&nbsp;=&nbsp;False,</div></div><div class=\"71678\" style=\"display: none;\"><div style=\"display: table-cell;\"></div><div style=\"display: table-cell;\">muted_glyph&nbsp;=&nbsp;None,</div></div><div class=\"71678\" style=\"display: none;\"><div style=\"display: table-cell;\"></div><div style=\"display: table-cell;\">name&nbsp;=&nbsp;None,</div></div><div class=\"71678\" style=\"display: none;\"><div style=\"display: table-cell;\"></div><div style=\"display: table-cell;\">nonselection_glyph&nbsp;=&nbsp;Line(id='71651', ...),</div></div><div class=\"71678\" style=\"display: none;\"><div style=\"display: table-cell;\"></div><div style=\"display: table-cell;\">selection_glyph&nbsp;=&nbsp;'auto',</div></div><div class=\"71678\" style=\"display: none;\"><div style=\"display: table-cell;\"></div><div style=\"display: table-cell;\">subscribed_events&nbsp;=&nbsp;[],</div></div><div class=\"71678\" style=\"display: none;\"><div style=\"display: table-cell;\"></div><div style=\"display: table-cell;\">syncable&nbsp;=&nbsp;True,</div></div><div class=\"71678\" style=\"display: none;\"><div style=\"display: table-cell;\"></div><div style=\"display: table-cell;\">tags&nbsp;=&nbsp;[],</div></div><div class=\"71678\" style=\"display: none;\"><div style=\"display: table-cell;\"></div><div style=\"display: table-cell;\">view&nbsp;=&nbsp;CDSView(id='71653', ...),</div></div><div class=\"71678\" style=\"display: none;\"><div style=\"display: table-cell;\"></div><div style=\"display: table-cell;\">visible&nbsp;=&nbsp;True,</div></div><div class=\"71678\" style=\"display: none;\"><div style=\"display: table-cell;\"></div><div style=\"display: table-cell;\">x_range_name&nbsp;=&nbsp;'default',</div></div><div class=\"71678\" style=\"display: none;\"><div style=\"display: table-cell;\"></div><div style=\"display: table-cell;\">y_range_name&nbsp;=&nbsp;'default')</div></div></div>\n<script>\n(function() {\n  var expanded = false;\n  var ellipsis = document.getElementById(\"71679\");\n  ellipsis.addEventListener(\"click\", function() {\n    var rows = document.getElementsByClassName(\"71678\");\n    for (var i = 0; i < rows.length; i++) {\n      var el = rows[i];\n      el.style.display = expanded ? \"none\" : \"table-row\";\n    }\n    ellipsis.innerHTML = expanded ? \"&hellip;)\" : \"&lsaquo;&lsaquo;&lsaquo;\";\n    expanded = !expanded;\n  });\n})();\n</script>\n"
     },
     "metadata": {},
     "execution_count": 127
    }
   ],
   "source": [
    "from bokeh.models import HoverTool\n",
    "hover = HoverTool(\n",
    "    tooltips=[\n",
    "        (\"value\",\"$y\")\n",
    "    ]\n",
    "\n",
    ")\n",
    "\n",
    "\n",
    "a2p = figure( plot_width=450, plot_height=400, x_axis_type='datetime', output_backend=\"svg\", sizing_mode='stretch_width', title=\"Test\",y_minor_ticks =10,toolbar_location='left',tools=[hover] )\n",
    "ss  =  ColumnDataSource(\n",
    "    data=dict(\n",
    "        x     = PUSANFINAL.index,\n",
    "        y     = PUSANFINAL['PM10'],\n",
    "        des   = PUSANFINAL.index))\n",
    "\n",
    "\n",
    "a2p.line(PUSANFINAL_cop['DATE'], PUSANFINAL_cop['PM10'], color='red', alpha=0.1, legend_label = 'PM10',)\n",
    "a2p.line(PUSANFINAL_cop['DATE'], PUSANFINAL_cop['PM2.5'], color='orange', alpha=0.7, legend_label = 'PM2.5')\n"
   ]
  },
  {
   "cell_type": "code",
   "execution_count": 53,
   "metadata": {},
   "outputs": [
    {
     "output_type": "execute_result",
     "data": {
      "text/plain": [
       "        DATE       PM10       PM25  LOWER_CENTIGRADE  UPPER_CENTIGRADE  \\\n",
       "0 2021-06-23  37.789914  17.389257         18.786148         25.973419   \n",
       "1 2021-06-24  37.243441  16.979287         18.601223         25.950828   \n",
       "2 2021-06-25  33.535000  16.063520         19.121698         26.429637   \n",
       "3 2021-06-26  36.290630  16.838632         19.032993         26.449787   \n",
       "4 2021-06-27  31.124514  15.622209         19.674659         26.561424   \n",
       "5 2021-06-28  38.480987  17.424603         18.885065         26.847286   \n",
       "6 2021-06-29  37.165519  17.393608         19.497301         26.876038   \n",
       "\n",
       "   CENTIGRADE  PRECIPITATION  WIND SPEED  RELATIVE HUMIDITY  \n",
       "0   22.323278       1.993652    3.135491          47.190577  \n",
       "1   22.464511       6.008139    3.155871          50.684720  \n",
       "2   22.674597       6.561482    3.383079          53.215638  \n",
       "3   22.777302       6.524365    3.264007          53.366580  \n",
       "4   23.063706       2.257110    3.141801          53.436725  \n",
       "5   23.076387       5.496904    3.262460          50.595361  \n",
       "6   23.056960       1.194592    3.180991          47.446359  "
      ],
      "text/html": "<div>\n<style scoped>\n    .dataframe tbody tr th:only-of-type {\n        vertical-align: middle;\n    }\n\n    .dataframe tbody tr th {\n        vertical-align: top;\n    }\n\n    .dataframe thead th {\n        text-align: right;\n    }\n</style>\n<table border=\"1\" class=\"dataframe\">\n  <thead>\n    <tr style=\"text-align: right;\">\n      <th></th>\n      <th>DATE</th>\n      <th>PM10</th>\n      <th>PM25</th>\n      <th>LOWER_CENTIGRADE</th>\n      <th>UPPER_CENTIGRADE</th>\n      <th>CENTIGRADE</th>\n      <th>PRECIPITATION</th>\n      <th>WIND SPEED</th>\n      <th>RELATIVE HUMIDITY</th>\n    </tr>\n  </thead>\n  <tbody>\n    <tr>\n      <th>0</th>\n      <td>2021-06-23</td>\n      <td>37.789914</td>\n      <td>17.389257</td>\n      <td>18.786148</td>\n      <td>25.973419</td>\n      <td>22.323278</td>\n      <td>1.993652</td>\n      <td>3.135491</td>\n      <td>47.190577</td>\n    </tr>\n    <tr>\n      <th>1</th>\n      <td>2021-06-24</td>\n      <td>37.243441</td>\n      <td>16.979287</td>\n      <td>18.601223</td>\n      <td>25.950828</td>\n      <td>22.464511</td>\n      <td>6.008139</td>\n      <td>3.155871</td>\n      <td>50.684720</td>\n    </tr>\n    <tr>\n      <th>2</th>\n      <td>2021-06-25</td>\n      <td>33.535000</td>\n      <td>16.063520</td>\n      <td>19.121698</td>\n      <td>26.429637</td>\n      <td>22.674597</td>\n      <td>6.561482</td>\n      <td>3.383079</td>\n      <td>53.215638</td>\n    </tr>\n    <tr>\n      <th>3</th>\n      <td>2021-06-26</td>\n      <td>36.290630</td>\n      <td>16.838632</td>\n      <td>19.032993</td>\n      <td>26.449787</td>\n      <td>22.777302</td>\n      <td>6.524365</td>\n      <td>3.264007</td>\n      <td>53.366580</td>\n    </tr>\n    <tr>\n      <th>4</th>\n      <td>2021-06-27</td>\n      <td>31.124514</td>\n      <td>15.622209</td>\n      <td>19.674659</td>\n      <td>26.561424</td>\n      <td>23.063706</td>\n      <td>2.257110</td>\n      <td>3.141801</td>\n      <td>53.436725</td>\n    </tr>\n    <tr>\n      <th>5</th>\n      <td>2021-06-28</td>\n      <td>38.480987</td>\n      <td>17.424603</td>\n      <td>18.885065</td>\n      <td>26.847286</td>\n      <td>23.076387</td>\n      <td>5.496904</td>\n      <td>3.262460</td>\n      <td>50.595361</td>\n    </tr>\n    <tr>\n      <th>6</th>\n      <td>2021-06-29</td>\n      <td>37.165519</td>\n      <td>17.393608</td>\n      <td>19.497301</td>\n      <td>26.876038</td>\n      <td>23.056960</td>\n      <td>1.194592</td>\n      <td>3.180991</td>\n      <td>47.446359</td>\n    </tr>\n  </tbody>\n</table>\n</div>"
     },
     "metadata": {},
     "execution_count": 53
    }
   ],
   "source": [
    "aa = SEOULFINAL.copy()\n",
    "bb = PUSANpred.copy()\n",
    "aa['DATE'] =  pd.to_datetime(SEOULFINAL['DATE'])\n",
    "bb['DATE'] =  pd.to_datetime(PUSANpred['DATE'])\n",
    "bb.dtypes\n",
    "bb\n"
   ]
  },
  {
   "cell_type": "code",
   "execution_count": 46,
   "metadata": {},
   "outputs": [
    {
     "output_type": "execute_result",
     "data": {
      "text/plain": [
       "        DATE       PM10       PM25  LOWER_CENTIGRADE  UPPER_CENTIGRADE  \\\n",
       "0 2021-06-23  37.789914  17.389257         18.786148         25.973419   \n",
       "1 2021-06-24  37.243441  16.979287         18.601223         25.950828   \n",
       "2 2021-06-25  33.535000  16.063520         19.121698         26.429637   \n",
       "3 2021-06-26  36.290630  16.838632         19.032993         26.449787   \n",
       "4 2021-06-27  31.124514  15.622209         19.674659         26.561424   \n",
       "5 2021-06-28  38.480987  17.424603         18.885065         26.847286   \n",
       "6 2021-06-29  37.165519  17.393608         19.497301         26.876038   \n",
       "\n",
       "   CENTIGRADE  PRECIPITATION  WIND SPEED  RELATIVE HUMIDITY  \n",
       "0   22.323278       1.993652    3.135491          47.190577  \n",
       "1   22.464511       6.008139    3.155871          50.684720  \n",
       "2   22.674597       6.561482    3.383079          53.215638  \n",
       "3   22.777302       6.524365    3.264007          53.366580  \n",
       "4   23.063706       2.257110    3.141801          53.436725  \n",
       "5   23.076387       5.496904    3.262460          50.595361  \n",
       "6   23.056960       1.194592    3.180991          47.446359  "
      ],
      "text/html": "<div>\n<style scoped>\n    .dataframe tbody tr th:only-of-type {\n        vertical-align: middle;\n    }\n\n    .dataframe tbody tr th {\n        vertical-align: top;\n    }\n\n    .dataframe thead th {\n        text-align: right;\n    }\n</style>\n<table border=\"1\" class=\"dataframe\">\n  <thead>\n    <tr style=\"text-align: right;\">\n      <th></th>\n      <th>DATE</th>\n      <th>PM10</th>\n      <th>PM25</th>\n      <th>LOWER_CENTIGRADE</th>\n      <th>UPPER_CENTIGRADE</th>\n      <th>CENTIGRADE</th>\n      <th>PRECIPITATION</th>\n      <th>WIND SPEED</th>\n      <th>RELATIVE HUMIDITY</th>\n    </tr>\n  </thead>\n  <tbody>\n    <tr>\n      <th>0</th>\n      <td>2021-06-23</td>\n      <td>37.789914</td>\n      <td>17.389257</td>\n      <td>18.786148</td>\n      <td>25.973419</td>\n      <td>22.323278</td>\n      <td>1.993652</td>\n      <td>3.135491</td>\n      <td>47.190577</td>\n    </tr>\n    <tr>\n      <th>1</th>\n      <td>2021-06-24</td>\n      <td>37.243441</td>\n      <td>16.979287</td>\n      <td>18.601223</td>\n      <td>25.950828</td>\n      <td>22.464511</td>\n      <td>6.008139</td>\n      <td>3.155871</td>\n      <td>50.684720</td>\n    </tr>\n    <tr>\n      <th>2</th>\n      <td>2021-06-25</td>\n      <td>33.535000</td>\n      <td>16.063520</td>\n      <td>19.121698</td>\n      <td>26.429637</td>\n      <td>22.674597</td>\n      <td>6.561482</td>\n      <td>3.383079</td>\n      <td>53.215638</td>\n    </tr>\n    <tr>\n      <th>3</th>\n      <td>2021-06-26</td>\n      <td>36.290630</td>\n      <td>16.838632</td>\n      <td>19.032993</td>\n      <td>26.449787</td>\n      <td>22.777302</td>\n      <td>6.524365</td>\n      <td>3.264007</td>\n      <td>53.366580</td>\n    </tr>\n    <tr>\n      <th>4</th>\n      <td>2021-06-27</td>\n      <td>31.124514</td>\n      <td>15.622209</td>\n      <td>19.674659</td>\n      <td>26.561424</td>\n      <td>23.063706</td>\n      <td>2.257110</td>\n      <td>3.141801</td>\n      <td>53.436725</td>\n    </tr>\n    <tr>\n      <th>5</th>\n      <td>2021-06-28</td>\n      <td>38.480987</td>\n      <td>17.424603</td>\n      <td>18.885065</td>\n      <td>26.847286</td>\n      <td>23.076387</td>\n      <td>5.496904</td>\n      <td>3.262460</td>\n      <td>50.595361</td>\n    </tr>\n    <tr>\n      <th>6</th>\n      <td>2021-06-29</td>\n      <td>37.165519</td>\n      <td>17.393608</td>\n      <td>19.497301</td>\n      <td>26.876038</td>\n      <td>23.056960</td>\n      <td>1.194592</td>\n      <td>3.180991</td>\n      <td>47.446359</td>\n    </tr>\n  </tbody>\n</table>\n</div>"
     },
     "metadata": {},
     "execution_count": 46
    }
   ],
   "source": [
    "bbb = bb.astype({'PM10':'int'})\n",
    "bb"
   ]
  },
  {
   "cell_type": "code",
   "execution_count": 64,
   "metadata": {},
   "outputs": [
    {
     "output_type": "execute_result",
     "data": {
      "text/plain": [
       "GlyphRenderer(id='2836', ...)"
      ],
      "text/html": "<div style=\"display: table;\"><div style=\"display: table-row;\"><div style=\"display: table-cell;\"><b title=\"bokeh.models.renderers.GlyphRenderer\">GlyphRenderer</b>(</div><div style=\"display: table-cell;\">id&nbsp;=&nbsp;'2836', <span id=\"2864\" style=\"cursor: pointer;\">&hellip;)</span></div></div><div class=\"2863\" style=\"display: none;\"><div style=\"display: table-cell;\"></div><div style=\"display: table-cell;\">data_source&nbsp;=&nbsp;ColumnDataSource(id='2833', ...),</div></div><div class=\"2863\" style=\"display: none;\"><div style=\"display: table-cell;\"></div><div style=\"display: table-cell;\">glyph&nbsp;=&nbsp;Line(id='2834', ...),</div></div><div class=\"2863\" style=\"display: none;\"><div style=\"display: table-cell;\"></div><div style=\"display: table-cell;\">hover_glyph&nbsp;=&nbsp;None,</div></div><div class=\"2863\" style=\"display: none;\"><div style=\"display: table-cell;\"></div><div style=\"display: table-cell;\">js_event_callbacks&nbsp;=&nbsp;{},</div></div><div class=\"2863\" style=\"display: none;\"><div style=\"display: table-cell;\"></div><div style=\"display: table-cell;\">js_property_callbacks&nbsp;=&nbsp;{},</div></div><div class=\"2863\" style=\"display: none;\"><div style=\"display: table-cell;\"></div><div style=\"display: table-cell;\">level&nbsp;=&nbsp;'glyph',</div></div><div class=\"2863\" style=\"display: none;\"><div style=\"display: table-cell;\"></div><div style=\"display: table-cell;\">muted&nbsp;=&nbsp;False,</div></div><div class=\"2863\" style=\"display: none;\"><div style=\"display: table-cell;\"></div><div style=\"display: table-cell;\">muted_glyph&nbsp;=&nbsp;None,</div></div><div class=\"2863\" style=\"display: none;\"><div style=\"display: table-cell;\"></div><div style=\"display: table-cell;\">name&nbsp;=&nbsp;None,</div></div><div class=\"2863\" style=\"display: none;\"><div style=\"display: table-cell;\"></div><div style=\"display: table-cell;\">nonselection_glyph&nbsp;=&nbsp;Line(id='2835', ...),</div></div><div class=\"2863\" style=\"display: none;\"><div style=\"display: table-cell;\"></div><div style=\"display: table-cell;\">selection_glyph&nbsp;=&nbsp;'auto',</div></div><div class=\"2863\" style=\"display: none;\"><div style=\"display: table-cell;\"></div><div style=\"display: table-cell;\">subscribed_events&nbsp;=&nbsp;[],</div></div><div class=\"2863\" style=\"display: none;\"><div style=\"display: table-cell;\"></div><div style=\"display: table-cell;\">syncable&nbsp;=&nbsp;True,</div></div><div class=\"2863\" style=\"display: none;\"><div style=\"display: table-cell;\"></div><div style=\"display: table-cell;\">tags&nbsp;=&nbsp;[],</div></div><div class=\"2863\" style=\"display: none;\"><div style=\"display: table-cell;\"></div><div style=\"display: table-cell;\">view&nbsp;=&nbsp;CDSView(id='2837', ...),</div></div><div class=\"2863\" style=\"display: none;\"><div style=\"display: table-cell;\"></div><div style=\"display: table-cell;\">visible&nbsp;=&nbsp;True,</div></div><div class=\"2863\" style=\"display: none;\"><div style=\"display: table-cell;\"></div><div style=\"display: table-cell;\">x_range_name&nbsp;=&nbsp;'default',</div></div><div class=\"2863\" style=\"display: none;\"><div style=\"display: table-cell;\"></div><div style=\"display: table-cell;\">y_range_name&nbsp;=&nbsp;'default')</div></div></div>\n<script>\n(function() {\n  var expanded = false;\n  var ellipsis = document.getElementById(\"2864\");\n  ellipsis.addEventListener(\"click\", function() {\n    var rows = document.getElementsByClassName(\"2863\");\n    for (var i = 0; i < rows.length; i++) {\n      var el = rows[i];\n      el.style.display = expanded ? \"none\" : \"table-row\";\n    }\n    ellipsis.innerHTML = expanded ? \"&hellip;)\" : \"&lsaquo;&lsaquo;&lsaquo;\";\n    expanded = !expanded;\n  });\n})();\n</script>\n"
     },
     "metadata": {},
     "execution_count": 64
    }
   ],
   "source": [
    "aaaa = figure( plot_width=450, plot_height=400, x_axis_type='datetime', output_backend=\"svg\",sizing_mode='stretch_width', title=f\"{col}'s PM10 predict the future\")\n",
    "\n",
    "aaaa.line(aa['DATE'][:100], aa['PM10'][:100], color='red',  alpha=0.4, legend_label ='PM10')\n",
    "aaaa.line(bb['DATE'], bb['PM10'], color='navy', alpha=0.9, legend_label ='predict PM10')"
   ]
  },
  {
   "cell_type": "code",
   "execution_count": 70,
   "metadata": {},
   "outputs": [
    {
     "output_type": "execute_result",
     "data": {
      "text/plain": [
       "        DATE       PM10      PM2.5  LOWER_CENTIGRADE  UPPER_CENTIGRADE  \\\n",
       "0 2021-06-23  37.789914  17.389257         18.786148         25.973419   \n",
       "1 2021-06-24  37.243441  16.979287         18.601223         25.950828   \n",
       "2 2021-06-25  33.535000  16.063520         19.121698         26.429637   \n",
       "3 2021-06-26  36.290630  16.838632         19.032993         26.449787   \n",
       "4 2021-06-27  31.124514  15.622209         19.674659         26.561424   \n",
       "5 2021-06-28  38.480987  17.424603         18.885065         26.847286   \n",
       "6 2021-06-29  37.165519  17.393608         19.497301         26.876038   \n",
       "\n",
       "   CENTIGRADE  PRECIPITATION  WIND SPEED  RELATIVE HUMIDITY  \n",
       "0   22.323278       1.993652    3.135491          47.190577  \n",
       "1   22.464511       6.008139    3.155871          50.684720  \n",
       "2   22.674597       6.561482    3.383079          53.215638  \n",
       "3   22.777302       6.524365    3.264007          53.366580  \n",
       "4   23.063706       2.257110    3.141801          53.436725  \n",
       "5   23.076387       5.496904    3.262460          50.595361  \n",
       "6   23.056960       1.194592    3.180991          47.446359  "
      ],
      "text/html": "<div>\n<style scoped>\n    .dataframe tbody tr th:only-of-type {\n        vertical-align: middle;\n    }\n\n    .dataframe tbody tr th {\n        vertical-align: top;\n    }\n\n    .dataframe thead th {\n        text-align: right;\n    }\n</style>\n<table border=\"1\" class=\"dataframe\">\n  <thead>\n    <tr style=\"text-align: right;\">\n      <th></th>\n      <th>DATE</th>\n      <th>PM10</th>\n      <th>PM2.5</th>\n      <th>LOWER_CENTIGRADE</th>\n      <th>UPPER_CENTIGRADE</th>\n      <th>CENTIGRADE</th>\n      <th>PRECIPITATION</th>\n      <th>WIND SPEED</th>\n      <th>RELATIVE HUMIDITY</th>\n    </tr>\n  </thead>\n  <tbody>\n    <tr>\n      <th>0</th>\n      <td>2021-06-23</td>\n      <td>37.789914</td>\n      <td>17.389257</td>\n      <td>18.786148</td>\n      <td>25.973419</td>\n      <td>22.323278</td>\n      <td>1.993652</td>\n      <td>3.135491</td>\n      <td>47.190577</td>\n    </tr>\n    <tr>\n      <th>1</th>\n      <td>2021-06-24</td>\n      <td>37.243441</td>\n      <td>16.979287</td>\n      <td>18.601223</td>\n      <td>25.950828</td>\n      <td>22.464511</td>\n      <td>6.008139</td>\n      <td>3.155871</td>\n      <td>50.684720</td>\n    </tr>\n    <tr>\n      <th>2</th>\n      <td>2021-06-25</td>\n      <td>33.535000</td>\n      <td>16.063520</td>\n      <td>19.121698</td>\n      <td>26.429637</td>\n      <td>22.674597</td>\n      <td>6.561482</td>\n      <td>3.383079</td>\n      <td>53.215638</td>\n    </tr>\n    <tr>\n      <th>3</th>\n      <td>2021-06-26</td>\n      <td>36.290630</td>\n      <td>16.838632</td>\n      <td>19.032993</td>\n      <td>26.449787</td>\n      <td>22.777302</td>\n      <td>6.524365</td>\n      <td>3.264007</td>\n      <td>53.366580</td>\n    </tr>\n    <tr>\n      <th>4</th>\n      <td>2021-06-27</td>\n      <td>31.124514</td>\n      <td>15.622209</td>\n      <td>19.674659</td>\n      <td>26.561424</td>\n      <td>23.063706</td>\n      <td>2.257110</td>\n      <td>3.141801</td>\n      <td>53.436725</td>\n    </tr>\n    <tr>\n      <th>5</th>\n      <td>2021-06-28</td>\n      <td>38.480987</td>\n      <td>17.424603</td>\n      <td>18.885065</td>\n      <td>26.847286</td>\n      <td>23.076387</td>\n      <td>5.496904</td>\n      <td>3.262460</td>\n      <td>50.595361</td>\n    </tr>\n    <tr>\n      <th>6</th>\n      <td>2021-06-29</td>\n      <td>37.165519</td>\n      <td>17.393608</td>\n      <td>19.497301</td>\n      <td>26.876038</td>\n      <td>23.056960</td>\n      <td>1.194592</td>\n      <td>3.180991</td>\n      <td>47.446359</td>\n    </tr>\n  </tbody>\n</table>\n</div>"
     },
     "metadata": {},
     "execution_count": 70
    }
   ],
   "source": [
    "#show(aaaa)\n",
    "bb.rename(columns={'PM25' : 'PM2.5'}, inplace=True)\n",
    "bb"
   ]
  },
  {
   "cell_type": "code",
   "execution_count": 56,
   "metadata": {},
   "outputs": [
    {
     "output_type": "execute_result",
     "data": {
      "text/plain": [
       "          DATE  PM10  PM2.5   CO    NO2     O3    SO2  CENTIGRADE  \\\n",
       "0   2021-06-24    23     13  0.4  0.016  0.033  0.003        22.9   \n",
       "1   2021-06-23    18     10  0.3  0.015  0.041  0.003        22.9   \n",
       "2   2021-06-22    23     13  0.4  0.018  0.039  0.003        22.9   \n",
       "3   2021-06-21    41     24  0.4  0.015  0.051  0.003        22.9   \n",
       "4   2021-06-20    51     31  0.5  0.014  0.059  0.004        22.9   \n",
       "..         ...   ...    ...  ...    ...    ...    ...         ...   \n",
       "445 2020-04-05    47     22  0.4  0.015  0.038  0.003         7.2   \n",
       "446 2020-04-04    68     27  0.4  0.015  0.037  0.003         8.9   \n",
       "447 2020-04-03    56     32  0.5  0.028  0.032  0.003        10.0   \n",
       "448 2020-04-02    39     24  0.5  0.027  0.029  0.003         9.3   \n",
       "449 2020-04-01    69     30  0.5  0.020  0.041  0.004        11.3   \n",
       "\n",
       "     PRECIPITATION  WIND SPEED  RELATIVE HUMIDITY  \n",
       "0              0.0         2.8               48.0  \n",
       "1              0.0         2.8               48.0  \n",
       "2              0.0         2.8               48.0  \n",
       "3              0.0         2.8               48.0  \n",
       "4              0.0         2.8               48.0  \n",
       "..             ...         ...                ...  \n",
       "445            0.0         2.8               29.5  \n",
       "446            0.0         3.4               36.4  \n",
       "447            0.0         2.7               53.8  \n",
       "448            0.0         2.3               41.4  \n",
       "449            0.0         3.7               35.6  \n",
       "\n",
       "[450 rows x 11 columns]"
      ],
      "text/html": "<div>\n<style scoped>\n    .dataframe tbody tr th:only-of-type {\n        vertical-align: middle;\n    }\n\n    .dataframe tbody tr th {\n        vertical-align: top;\n    }\n\n    .dataframe thead th {\n        text-align: right;\n    }\n</style>\n<table border=\"1\" class=\"dataframe\">\n  <thead>\n    <tr style=\"text-align: right;\">\n      <th></th>\n      <th>DATE</th>\n      <th>PM10</th>\n      <th>PM2.5</th>\n      <th>CO</th>\n      <th>NO2</th>\n      <th>O3</th>\n      <th>SO2</th>\n      <th>CENTIGRADE</th>\n      <th>PRECIPITATION</th>\n      <th>WIND SPEED</th>\n      <th>RELATIVE HUMIDITY</th>\n    </tr>\n  </thead>\n  <tbody>\n    <tr>\n      <th>0</th>\n      <td>2021-06-24</td>\n      <td>23</td>\n      <td>13</td>\n      <td>0.4</td>\n      <td>0.016</td>\n      <td>0.033</td>\n      <td>0.003</td>\n      <td>22.9</td>\n      <td>0.0</td>\n      <td>2.8</td>\n      <td>48.0</td>\n    </tr>\n    <tr>\n      <th>1</th>\n      <td>2021-06-23</td>\n      <td>18</td>\n      <td>10</td>\n      <td>0.3</td>\n      <td>0.015</td>\n      <td>0.041</td>\n      <td>0.003</td>\n      <td>22.9</td>\n      <td>0.0</td>\n      <td>2.8</td>\n      <td>48.0</td>\n    </tr>\n    <tr>\n      <th>2</th>\n      <td>2021-06-22</td>\n      <td>23</td>\n      <td>13</td>\n      <td>0.4</td>\n      <td>0.018</td>\n      <td>0.039</td>\n      <td>0.003</td>\n      <td>22.9</td>\n      <td>0.0</td>\n      <td>2.8</td>\n      <td>48.0</td>\n    </tr>\n    <tr>\n      <th>3</th>\n      <td>2021-06-21</td>\n      <td>41</td>\n      <td>24</td>\n      <td>0.4</td>\n      <td>0.015</td>\n      <td>0.051</td>\n      <td>0.003</td>\n      <td>22.9</td>\n      <td>0.0</td>\n      <td>2.8</td>\n      <td>48.0</td>\n    </tr>\n    <tr>\n      <th>4</th>\n      <td>2021-06-20</td>\n      <td>51</td>\n      <td>31</td>\n      <td>0.5</td>\n      <td>0.014</td>\n      <td>0.059</td>\n      <td>0.004</td>\n      <td>22.9</td>\n      <td>0.0</td>\n      <td>2.8</td>\n      <td>48.0</td>\n    </tr>\n    <tr>\n      <th>...</th>\n      <td>...</td>\n      <td>...</td>\n      <td>...</td>\n      <td>...</td>\n      <td>...</td>\n      <td>...</td>\n      <td>...</td>\n      <td>...</td>\n      <td>...</td>\n      <td>...</td>\n      <td>...</td>\n    </tr>\n    <tr>\n      <th>445</th>\n      <td>2020-04-05</td>\n      <td>47</td>\n      <td>22</td>\n      <td>0.4</td>\n      <td>0.015</td>\n      <td>0.038</td>\n      <td>0.003</td>\n      <td>7.2</td>\n      <td>0.0</td>\n      <td>2.8</td>\n      <td>29.5</td>\n    </tr>\n    <tr>\n      <th>446</th>\n      <td>2020-04-04</td>\n      <td>68</td>\n      <td>27</td>\n      <td>0.4</td>\n      <td>0.015</td>\n      <td>0.037</td>\n      <td>0.003</td>\n      <td>8.9</td>\n      <td>0.0</td>\n      <td>3.4</td>\n      <td>36.4</td>\n    </tr>\n    <tr>\n      <th>447</th>\n      <td>2020-04-03</td>\n      <td>56</td>\n      <td>32</td>\n      <td>0.5</td>\n      <td>0.028</td>\n      <td>0.032</td>\n      <td>0.003</td>\n      <td>10.0</td>\n      <td>0.0</td>\n      <td>2.7</td>\n      <td>53.8</td>\n    </tr>\n    <tr>\n      <th>448</th>\n      <td>2020-04-02</td>\n      <td>39</td>\n      <td>24</td>\n      <td>0.5</td>\n      <td>0.027</td>\n      <td>0.029</td>\n      <td>0.003</td>\n      <td>9.3</td>\n      <td>0.0</td>\n      <td>2.3</td>\n      <td>41.4</td>\n    </tr>\n    <tr>\n      <th>449</th>\n      <td>2020-04-01</td>\n      <td>69</td>\n      <td>30</td>\n      <td>0.5</td>\n      <td>0.020</td>\n      <td>0.041</td>\n      <td>0.004</td>\n      <td>11.3</td>\n      <td>0.0</td>\n      <td>3.7</td>\n      <td>35.6</td>\n    </tr>\n  </tbody>\n</table>\n<p>450 rows × 11 columns</p>\n</div>"
     },
     "metadata": {},
     "execution_count": 56
    }
   ],
   "source": [
    "aa"
   ]
  },
  {
   "cell_type": "code",
   "execution_count": 92,
   "metadata": {},
   "outputs": [
    {
     "output_type": "execute_result",
     "data": {
      "text/plain": [
       "        DATE       PM10      PM2.5  CENTIGRADE  PRECIPITATION  WIND SPEED  \\\n",
       "0 2021-06-23  37.789914  17.389257   22.323278       1.993652    3.135491   \n",
       "1 2021-06-24  37.243441  16.979287   22.464511       6.008139    3.155871   \n",
       "2 2021-06-25  33.535000  16.063520   22.674597       6.561482    3.383079   \n",
       "3 2021-06-26  36.290630  16.838632   22.777302       6.524365    3.264007   \n",
       "4 2021-06-27  31.124514  15.622209   23.063706       2.257110    3.141801   \n",
       "5 2021-06-28  38.480987  17.424603   23.076387       5.496904    3.262460   \n",
       "6 2021-06-29  37.165519  17.393608   23.056960       1.194592    3.180991   \n",
       "\n",
       "   RELATIVE HUMIDITY  \n",
       "0          47.190577  \n",
       "1          50.684720  \n",
       "2          53.215638  \n",
       "3          53.366580  \n",
       "4          53.436725  \n",
       "5          50.595361  \n",
       "6          47.446359  "
      ],
      "text/html": "<div>\n<style scoped>\n    .dataframe tbody tr th:only-of-type {\n        vertical-align: middle;\n    }\n\n    .dataframe tbody tr th {\n        vertical-align: top;\n    }\n\n    .dataframe thead th {\n        text-align: right;\n    }\n</style>\n<table border=\"1\" class=\"dataframe\">\n  <thead>\n    <tr style=\"text-align: right;\">\n      <th></th>\n      <th>DATE</th>\n      <th>PM10</th>\n      <th>PM2.5</th>\n      <th>CENTIGRADE</th>\n      <th>PRECIPITATION</th>\n      <th>WIND SPEED</th>\n      <th>RELATIVE HUMIDITY</th>\n    </tr>\n  </thead>\n  <tbody>\n    <tr>\n      <th>0</th>\n      <td>2021-06-23</td>\n      <td>37.789914</td>\n      <td>17.389257</td>\n      <td>22.323278</td>\n      <td>1.993652</td>\n      <td>3.135491</td>\n      <td>47.190577</td>\n    </tr>\n    <tr>\n      <th>1</th>\n      <td>2021-06-24</td>\n      <td>37.243441</td>\n      <td>16.979287</td>\n      <td>22.464511</td>\n      <td>6.008139</td>\n      <td>3.155871</td>\n      <td>50.684720</td>\n    </tr>\n    <tr>\n      <th>2</th>\n      <td>2021-06-25</td>\n      <td>33.535000</td>\n      <td>16.063520</td>\n      <td>22.674597</td>\n      <td>6.561482</td>\n      <td>3.383079</td>\n      <td>53.215638</td>\n    </tr>\n    <tr>\n      <th>3</th>\n      <td>2021-06-26</td>\n      <td>36.290630</td>\n      <td>16.838632</td>\n      <td>22.777302</td>\n      <td>6.524365</td>\n      <td>3.264007</td>\n      <td>53.366580</td>\n    </tr>\n    <tr>\n      <th>4</th>\n      <td>2021-06-27</td>\n      <td>31.124514</td>\n      <td>15.622209</td>\n      <td>23.063706</td>\n      <td>2.257110</td>\n      <td>3.141801</td>\n      <td>53.436725</td>\n    </tr>\n    <tr>\n      <th>5</th>\n      <td>2021-06-28</td>\n      <td>38.480987</td>\n      <td>17.424603</td>\n      <td>23.076387</td>\n      <td>5.496904</td>\n      <td>3.262460</td>\n      <td>50.595361</td>\n    </tr>\n    <tr>\n      <th>6</th>\n      <td>2021-06-29</td>\n      <td>37.165519</td>\n      <td>17.393608</td>\n      <td>23.056960</td>\n      <td>1.194592</td>\n      <td>3.180991</td>\n      <td>47.446359</td>\n    </tr>\n  </tbody>\n</table>\n</div>"
     },
     "metadata": {},
     "execution_count": 92
    }
   ],
   "source": [
    "bb.drop(\"LOWER_CENTIGRADE\",axis=1,inplace=True)\n",
    "bb.drop(\"UPPER_CENTIGRADE\",axis=1,inplace=True)\n",
    "bb"
   ]
  },
  {
   "cell_type": "code",
   "execution_count": 96,
   "metadata": {},
   "outputs": [
    {
     "output_type": "stream",
     "name": "stdout",
     "text": [
      "        DATE       PM10      PM2.5  CENTIGRADE  PRECIPITATION  WIND SPEED  \\\n0 2021-06-23  37.789914  17.389257   22.323278       1.993652    3.135491   \n1 2021-06-24  37.243441  16.979287   22.464511       6.008139    3.155871   \n2 2021-06-25  33.535000  16.063520   22.674597       6.561482    3.383079   \n3 2021-06-26  36.290630  16.838632   22.777302       6.524365    3.264007   \n4 2021-06-27  31.124514  15.622209   23.063706       2.257110    3.141801   \n5 2021-06-28  38.480987  17.424603   23.076387       5.496904    3.262460   \n6 2021-06-29  37.165519  17.393608   23.056960       1.194592    3.180991   \n\n   RELATIVE HUMIDITY  \n0          47.190577  \n1          50.684720  \n2          53.215638  \n3          53.366580  \n4          53.436725  \n5          50.595361  \n6          47.446359  \n"
     ]
    }
   ],
   "source": [
    "print(bb)"
   ]
  },
  {
   "cell_type": "code",
   "execution_count": null,
   "metadata": {},
   "outputs": [],
   "source": []
  }
 ]
}