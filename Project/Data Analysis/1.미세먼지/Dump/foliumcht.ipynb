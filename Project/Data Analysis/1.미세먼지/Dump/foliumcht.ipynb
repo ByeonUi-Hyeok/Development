{
 "metadata": {
  "language_info": {
   "codemirror_mode": {
    "name": "ipython",
    "version": 3
   },
   "file_extension": ".py",
   "mimetype": "text/x-python",
   "name": "python",
   "nbconvert_exporter": "python",
   "pygments_lexer": "ipython3",
   "version": "3.9.1"
  },
  "orig_nbformat": 4,
  "kernelspec": {
   "name": "python3",
   "display_name": "Python 3.9.1 64-bit ('base': conda)"
  },
  "interpreter": {
   "hash": "26cbe81f990c700cacc7344ce939feb35388ff5140935024bac84d606131ac1b"
  }
 },
 "nbformat": 4,
 "nbformat_minor": 2,
 "cells": [
  {
   "cell_type": "code",
   "execution_count": 3,
   "metadata": {},
   "outputs": [
    {
     "output_type": "execute_result",
     "data": {
      "text/plain": [
       "True"
      ]
     },
     "metadata": {},
     "execution_count": 3
    }
   ],
   "source": [
    "import webbrowser\n",
    "import folium, json\n",
    "import pandas as pd\n",
    "\n",
    "m = folium.Map(location=[36, 127], tiles=\"OpenStreetMap\", zoom_start=7)\n",
    "geo_data = json.load(open('C:/Users/ad/Desktop/ByunUiHyeok/깃연결x 참고사항 저장/folium 참고/skorea-provinces-2018-geo.json', encoding='utf-8'))\n",
    "\n",
    "df = pd.read_excel('C:/Users/ad/Desktop/ByunUiHyeok/깃연결x 참고사항 저장/folium 참고/data.xlsx')\n",
    "folium.Choropleth(geo_data=geo_data,\n",
    "                  data = df,\n",
    "                  columns=['SIDO', 'PM2.5'],\n",
    "                  key_on='feature.properties.name_eng',\n",
    "                  fill_color='YlGn',\n",
    "                  fill_opacity=0.5,\n",
    "                  legend_name='fine dust concentration Rate (%)',\n",
    "\n",
    "                  ).add_to(m)\n",
    "\n",
    "m.save('2021_06_25_(PM2).html')\n",
    "webbrowser.open_new(\"2021_06_25_(PM2).html\")"
   ]
  },
  {
   "cell_type": "code",
   "execution_count": null,
   "metadata": {},
   "outputs": [],
   "source": []
  }
 ]
}