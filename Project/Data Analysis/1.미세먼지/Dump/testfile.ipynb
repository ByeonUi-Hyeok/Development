{
 "metadata": {
  "language_info": {
   "codemirror_mode": {
    "name": "ipython",
    "version": 3
   },
   "file_extension": ".py",
   "mimetype": "text/x-python",
   "name": "python",
   "nbconvert_exporter": "python",
   "pygments_lexer": "ipython3",
   "version": "3.8.8"
  },
  "orig_nbformat": 4,
  "kernelspec": {
   "name": "python3",
   "display_name": "Python 3.8.8 64-bit ('base': conda)"
  },
  "interpreter": {
   "hash": "6d46af94c2bbce495f1e668725902fa517c90b1782bcfe2fce0dd9868df553d3"
  }
 },
 "nbformat": 4,
 "nbformat_minor": 2,
 "cells": [
  {
   "cell_type": "code",
   "execution_count": 21,
   "metadata": {},
   "outputs": [
    {
     "output_type": "stream",
     "name": "stdout",
     "text": [
      "1001\n0001\n1000\n"
     ]
    }
   ],
   "source": [
    "# exclusive OR test\n",
    "a = input()\n",
    "b = input()\n",
    "c = ''\n",
    "print(a)\n",
    "print(b)\n",
    "\n",
    "for i in range(len(a)):\n",
    "    if a[i] == b[i]:\n",
    "        c += '0'\n",
    "    elif a[i] != b[i]:\n",
    "        c += '1'\n",
    "\n",
    "print(c)\n"
   ]
  },
  {
   "cell_type": "code",
   "execution_count": 22,
   "metadata": {},
   "outputs": [
    {
     "output_type": "stream",
     "name": "stdout",
     "text": [
      "1 <class 'str'>\n2 <class 'str'>\n3 <class 'str'>\n4 <class 'str'>\n5 <class 'str'>\n"
     ]
    }
   ],
   "source": [
    "a = '12345'\n",
    "for i in range(len(a)):\n",
    "    print(a[i], type(a))\n"
   ]
  }
 ]
}